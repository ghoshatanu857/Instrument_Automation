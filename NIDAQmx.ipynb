{
  "cells": [
    {
      "cell_type": "markdown",
      "metadata": {
        "id": "view-in-github",
        "colab_type": "text"
      },
      "source": [
        "<a href=\"https://colab.research.google.com/github/ph20d204/Instrument_Automation/blob/main/NIDAQmx.ipynb\" target=\"_parent\"><img src=\"https://colab.research.google.com/assets/colab-badge.svg\" alt=\"Open In Colab\"/></a>"
      ]
    },
    {
      "cell_type": "markdown",
      "id": "c04729fc-08fd-4842-9773-81f5388ae925",
      "metadata": {
        "id": "c04729fc-08fd-4842-9773-81f5388ae925"
      },
      "source": [
        "# Automation of Pulser Streamer\n",
        "> Snigdhadev and Atanu\n",
        ">> to automate the NIDAQmx USB-6361"
      ]
    },
    {
      "cell_type": "code",
      "source": [
        "## To do a Edge_counting operation\n",
        "\n",
        "# loading the local NIDAQmx system\n",
        "system = nidaqmx.system.System.local()\n",
        "DAQ_device = system.devices['Dev1']\n",
        "\n",
        "# Creating a list of all the available counters\n",
        "counter_names = [ci.name for ci in DAQ_device.ci_physical_chans]\n",
        "print(counter_names)\n",
        "print([co.name for co in DAQ_device.co_physical_chans])   #includes the '[device]/freqout' output, which is not a counter\n",
        "\n",
        "# Creating a task for the counter channel and a task for a 'dummy' digital input channel to start the digital input Sample Clock(mandatory).\n",
        "with nidaqmx.Task() as read_task, nidaqmx.Task() as samp_clk_task:\n",
        "    # create a digital input channel on 'port0' of 'Dev1'\n",
        "    samp_clk_task.di_channels.add_di_chan('Dev1/port0')\n",
        "        \"\"\"\n",
        "        Note that port2 of a DAQ device does not support buffered operations, so here port port0 is used. Additionally, the\n",
        "        line_grouping Arg (1 channel for all lines or 1 channel per line) does not matter because this is a 'dummy' task.\n",
        "        \"\"\"\n",
        "    sampling_rate = 100     #100 Hz\n",
        "    samp_clk_task.timing.cfg_samp_clk_timing(rate=sampling_rate, sample_mode=AcquisitionType.CONTINUOUS)\n",
        "\n",
        "    # The hardware will now be in the Commit state and only transition to the State state to run the task.\n",
        "    samp_clk_task.control(TaskMode.TASK_COMMIT)\n",
        "\n",
        "\n",
        "    # Creating a counter input channel using 'ctr0' on 'Dev1' to count rising digital edges, counting up from initial_count\n",
        "    read_task.ci_channels.add_ci_count_edges_chan('Dev1/ctr0',edge=Edge.RISING,initial_count=0,count_direction=CountDirection.COUNT_UP)\n",
        "\n",
        "    # Setting the input terminal of the counter input channel on which the counter receives the signal on which it counts edges\n",
        "    read_task.ci_channels.all.ci_count_edges_term = '/Dev1/PFI5'\n",
        "\n",
        "       \"\"\"\n",
        "       When specifying the name of a terminal, all external terminals - as defined by NI-DAQmx - must include a leading\n",
        "       '/' in its string. An external terminal is any terminal that can be routed internally from one channel to another or from\n",
        "       DAQ to another; examples include: PFI lines, Sample Clocks, physical analog channels, physical digital channels, the\n",
        "       output of a physical counter, etc. All external terminals can be 'exported' using task.export_signals.export_signal(*args).\n",
        "       NI-DAQmx recognized devices do not include a leading '/' in their string name because they are not terminals.\n",
        "       \"\"\"\n",
        "\n",
        "    # The hardware will not be optimized if a different sampling rate is set than the true rate.\n",
        "    # Additionally, setting the counter to readout its count to the buffer on the rising edge of the Sample Clock signal.\n",
        "    \"\"\" max counter sampling rate allowed: 100e6 (i.e. 100MHz)\"\"\"\n",
        "    read_task.timing.cfg_samp_clk_timing(sampling_rate, source='/Dev1/di/SampleClock', active_edge=Edge.RISING, sample_mode=AcquisitionType.CONTINUOUS)\n",
        "        \"\"\"\n",
        "        Other optional Arg is 'samps_per_chan': if ** sample_mode** is **CONTINUOUS_SAMPLES**, NI-DAQmx uses this value to\n",
        "        determine the buffer size. 'cfg_samp_clk_timing' returns an error if the specified value is negative.\n",
        "        \"\"\"\n",
        "    # Setting the buffer size of the counter, such that, given the sampling rate at which the counter reads out its current value\n",
        "    # to the buffer, it will give two minutes of samples before the buffer overflows.\n",
        "    read_task.in_stream.input_buf_size = 12000\n",
        "\n",
        "    # Creating an arm start trigger for the counter so that it is synced with the digital input Sample Clock and only starts\n",
        "    # counting when the first Sample Clock tick is detected. This prevents the necessity of throwing out the first sample in the counter buffer.\n",
        "    read_task.triggers.arm_start_trigger.trig_type = TriggerType.DIGITAL_EDGE\n",
        "    read_task.triggers.arm_start_trigger.dig_edge_edge = Edge.RISING\n",
        "    read_task.triggers.arm_start_trigger.dig_edge_src = '/Dev1/di/SampleClock'\n",
        "\n",
        "    # Creating a counter reader to read from the counter InStream\n",
        "    reader = CounterReader(read_task.in_stream)\n",
        "    # Starting the tasks to begin data acquisition; as the arm start trigger of the counter was set, the tasks will be synced irrespective of which starts first\n",
        "    samp_clk_task.start()\n",
        "    read_task.start()\n",
        "\n",
        "    # Creating a data buffer for the counter stream reader\n",
        "    data_array = numpy.zeros(12000, dtype=numpy.uint32)\n",
        "    # Reading all samples from the counter buffer to the system memory buffer data_array; if the buffer is not large enough, it will raise an error\n",
        "    reader.read_many_sample_uint32(data_array, number_of_samples_per_channel=READ_ALL_AVAILABLE)\n",
        "\n",
        "    # NOTE: the below calls do not need to be used at the end of a code block when a 'with' block is implemented for taskcreation; this is handled automatically.\n",
        "    # The below lines are for illustration purposes.\n",
        "    read_task.stop()\n",
        "    read_task.start()\n",
        "    read_task.close()"
      ],
      "metadata": {
        "id": "fXkp05CLKPux"
      },
      "id": "fXkp05CLKPux",
      "execution_count": null,
      "outputs": []
    },
    {
      "cell_type": "markdown",
      "id": "da04d926-9ed4-423b-81fb-d423a51f3f30",
      "metadata": {
        "jp-MarkdownHeadingCollapsed": true,
        "id": "da04d926-9ed4-423b-81fb-d423a51f3f30"
      },
      "source": [
        "## nidaqmx.system"
      ]
    },
    {
      "cell_type": "code",
      "execution_count": null,
      "id": "278591cd-8a16-4f68-a81e-35448c29988a",
      "metadata": {
        "id": "278591cd-8a16-4f68-a81e-35448c29988a"
      },
      "outputs": [],
      "source": [
        "import nidaqmx.system.system as system\n",
        "import collections.abc as collections\n",
        "from collections.abc import Sequence"
      ]
    },
    {
      "cell_type": "code",
      "execution_count": null,
      "id": "55bbb6d6-48d2-4c74-9433-921b125f8427",
      "metadata": {
        "id": "55bbb6d6-48d2-4c74-9433-921b125f8427",
        "outputId": "ba2b4dc4-e091-423b-eb71-7bc1d2c892c6"
      },
      "outputs": [
        {
          "data": {
            "text/plain": [
              "(Device(name=Dev1), Device(name=Dev1), <property at 0x1a859593380>)"
            ]
          },
          "execution_count": 24,
          "metadata": {},
          "output_type": "execute_result"
        }
      ],
      "source": [
        "system.System().devices[0], system.System.local().devices[0], system.System.devices"
      ]
    },
    {
      "cell_type": "code",
      "execution_count": null,
      "id": "1f48e706-d982-4380-9a5e-1ae7b3b8e902",
      "metadata": {
        "id": "1f48e706-d982-4380-9a5e-1ae7b3b8e902",
        "outputId": "22e6176a-3d39-40c8-b24f-e8ba87f80441"
      },
      "outputs": [
        {
          "data": {
            "text/plain": [
              "['/Dev1/PFI0',\n",
              " '/Dev1/PFI1',\n",
              " '/Dev1/PFI2',\n",
              " '/Dev1/PFI3',\n",
              " '/Dev1/PFI4',\n",
              " '/Dev1/PFI5',\n",
              " '/Dev1/PFI6',\n",
              " '/Dev1/PFI7',\n",
              " '/Dev1/PFI8',\n",
              " '/Dev1/PFI9',\n",
              " '/Dev1/PFI10',\n",
              " '/Dev1/PFI11',\n",
              " '/Dev1/PFI12',\n",
              " '/Dev1/PFI13',\n",
              " '/Dev1/PFI14',\n",
              " '/Dev1/PFI15',\n",
              " '/Dev1/APFI0',\n",
              " '/Dev1/20MHzTimebase',\n",
              " '/Dev1/100MHzTimebase',\n",
              " '/Dev1/10MHzRefClock',\n",
              " '/Dev1/ai/ReferenceTrigger',\n",
              " '/Dev1/ai/SampleClock',\n",
              " '/Dev1/ai/StartTrigger',\n",
              " '/Dev1/ao/SampleClock',\n",
              " '/Dev1/ao/StartTrigger',\n",
              " '/Dev1/di/SampleClock',\n",
              " '/Dev1/di/StartTrigger',\n",
              " '/Dev1/di/ReferenceTrigger',\n",
              " '/Dev1/do/SampleClock',\n",
              " '/Dev1/do/StartTrigger',\n",
              " '/Dev1/ChangeDetectionEvent',\n",
              " '/Dev1/WatchdogExpiredEvent',\n",
              " '/Dev1/WatchdogExpirationTrigger',\n",
              " '/Dev1/AnalogComparisonEvent',\n",
              " '/Dev1/ai/ConvertClock',\n",
              " '/Dev1/ai/ConvertClockTimebase',\n",
              " '/Dev1/ai/HoldCompleteEvent',\n",
              " '/Dev1/ai/PauseTrigger',\n",
              " '/Dev1/ai/SampleClockTimebase',\n",
              " '/Dev1/ao/PauseTrigger',\n",
              " '/Dev1/ao/SampleClockTimebase',\n",
              " '/Dev1/di/SampleClockTimebase',\n",
              " '/Dev1/di/PauseTrigger',\n",
              " '/Dev1/do/PauseTrigger',\n",
              " '/Dev1/do/SampleClockTimebase',\n",
              " '/Dev1/100kHzTimebase',\n",
              " '/Dev1/None',\n",
              " '/Dev1/Ctr0Source',\n",
              " '/Dev1/Ctr1Source',\n",
              " '/Dev1/Ctr2Source',\n",
              " '/Dev1/Ctr3Source',\n",
              " '/Dev1/Ctr0Gate',\n",
              " '/Dev1/Ctr1Gate',\n",
              " '/Dev1/Ctr2Gate',\n",
              " '/Dev1/Ctr3Gate',\n",
              " '/Dev1/Ctr0Aux',\n",
              " '/Dev1/Ctr1Aux',\n",
              " '/Dev1/Ctr2Aux',\n",
              " '/Dev1/Ctr3Aux',\n",
              " '/Dev1/Ctr0SampleClock',\n",
              " '/Dev1/Ctr1SampleClock',\n",
              " '/Dev1/Ctr2SampleClock',\n",
              " '/Dev1/Ctr3SampleClock',\n",
              " '/Dev1/Ctr0ArmStartTrigger',\n",
              " '/Dev1/Ctr1ArmStartTrigger',\n",
              " '/Dev1/Ctr2ArmStartTrigger',\n",
              " '/Dev1/Ctr3ArmStartTrigger',\n",
              " '/Dev1/Ctr0InternalOutput',\n",
              " '/Dev1/Ctr1InternalOutput',\n",
              " '/Dev1/Ctr2InternalOutput',\n",
              " '/Dev1/Ctr3InternalOutput',\n",
              " '/Dev1/Ctr0A',\n",
              " '/Dev1/Ctr1A',\n",
              " '/Dev1/Ctr2A',\n",
              " '/Dev1/Ctr3A',\n",
              " '/Dev1/Ctr0B',\n",
              " '/Dev1/Ctr1B',\n",
              " '/Dev1/Ctr2B',\n",
              " '/Dev1/Ctr3B',\n",
              " '/Dev1/Ctr0Z',\n",
              " '/Dev1/Ctr1Z',\n",
              " '/Dev1/Ctr2Z',\n",
              " '/Dev1/Ctr3Z',\n",
              " '/Dev1/PairedCtrInternalOutput',\n",
              " '/Dev1/PairedCtrOutputPulse',\n",
              " '/Dev1/FrequencyOutput']"
            ]
          },
          "execution_count": 27,
          "metadata": {},
          "output_type": "execute_result"
        }
      ],
      "source": [
        "system.System.local().devices['Dev1'].terminals"
      ]
    },
    {
      "cell_type": "markdown",
      "id": "6e5178d0-e758-4e04-90e4-a701e23933a3",
      "metadata": {
        "id": "6e5178d0-e758-4e04-90e4-a701e23933a3"
      },
      "source": [
        "## nidaqmx.stream_readers"
      ]
    },
    {
      "cell_type": "code",
      "execution_count": null,
      "id": "07e87a86-22bc-4ce8-bbc8-83176dc17f64",
      "metadata": {
        "id": "07e87a86-22bc-4ce8-bbc8-83176dc17f64"
      },
      "outputs": [],
      "source": [
        "import nidaqmx.stream_readers as reader"
      ]
    },
    {
      "cell_type": "code",
      "execution_count": null,
      "id": "9c93927c-8fce-496d-8233-48bf9331c626",
      "metadata": {
        "id": "9c93927c-8fce-496d-8233-48bf9331c626",
        "outputId": "6fd32879-cc8a-4b6f-a669-79db63c68722"
      },
      "outputs": [
        {
          "data": {
            "text/plain": [
              "[nidaqmx.stream_readers.AnalogSingleChannelReader,\n",
              " nidaqmx.stream_readers.ChannelReaderBase,\n",
              " object]"
            ]
          },
          "execution_count": 59,
          "metadata": {},
          "output_type": "execute_result"
        }
      ],
      "source": [
        "reader.AnalogSingleChannelReader.mro()"
      ]
    },
    {
      "cell_type": "markdown",
      "id": "91f69632-fb98-46a2-b08f-7d30b9925e4c",
      "metadata": {
        "id": "91f69632-fb98-46a2-b08f-7d30b9925e4c"
      },
      "source": [
        "## nidaqmx.scale"
      ]
    },
    {
      "cell_type": "code",
      "execution_count": null,
      "id": "1a984c9c-4ddf-4883-8bf1-2b974eb793ac",
      "metadata": {
        "id": "1a984c9c-4ddf-4883-8bf1-2b974eb793ac"
      },
      "outputs": [],
      "source": [
        "import nidaqmx.scale as scale"
      ]
    },
    {
      "cell_type": "code",
      "execution_count": null,
      "id": "f88c4254-9db3-4245-8041-71bfb41990bd",
      "metadata": {
        "id": "f88c4254-9db3-4245-8041-71bfb41990bd",
        "outputId": "9f9848c1-4e0b-4dc8-df19-900abdaa6963"
      },
      "outputs": [
        {
          "name": "stdout",
          "output_type": "stream",
          "text": [
            "class ScaleType(Enum):\n",
            "    LINEAR = 10447  #: Scale values by using the equation y=mx+b, where x is a prescaled value and y is a scaled value.\n",
            "    MAP_RANGES = 10448  #: Scale values proportionally from a range of pre-scaled values to a range of scaled values.\n",
            "    POLYNOMIAL = 10449  #: Scale values by using an Nth order polynomial equation.\n",
            "    TABLE = 10450  #: Map a list of pre-scaled values to a list of corresponding scaled values, with all other values scaled proportionally.\n",
            "    NONE = 10230  #: Do not scale electrical values to physical units.\n",
            "    TWO_POINT_LINEAR = 15898  #: You provide two pairs of electrical values and their corresponding physical values. NI-DAQmx uses those values to calculate the slope and y-intercept of a linear equation and uses that equation to scale electrical values to physical values.\n",
            "\n"
          ]
        }
      ],
      "source": [
        "print(inspect.getsource(scale.ScaleType))"
      ]
    }
  ],
  "metadata": {
    "kernelspec": {
      "display_name": "Python 3 (ipykernel)",
      "language": "python",
      "name": "python3"
    },
    "language_info": {
      "codemirror_mode": {
        "name": "ipython",
        "version": 3
      },
      "file_extension": ".py",
      "mimetype": "text/x-python",
      "name": "python",
      "nbconvert_exporter": "python",
      "pygments_lexer": "ipython3",
      "version": "3.11.5"
    },
    "colab": {
      "provenance": [],
      "include_colab_link": true
    }
  },
  "nbformat": 4,
  "nbformat_minor": 5
}