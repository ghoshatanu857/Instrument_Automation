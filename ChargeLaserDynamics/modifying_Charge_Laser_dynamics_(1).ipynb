{
  "cells": [
    {
      "cell_type": "markdown",
      "metadata": {
        "id": "view-in-github",
        "colab_type": "text"
      },
      "source": [
        "<a href=\"https://colab.research.google.com/github/ghoshatanu857/Instrument_Automation/blob/main/ChargeLaserDynamics/modifying_Charge_Laser_dynamics_(1).ipynb\" target=\"_parent\"><img src=\"https://colab.research.google.com/assets/colab-badge.svg\" alt=\"Open In Colab\"/></a>"
      ]
    },
    {
      "cell_type": "markdown",
      "id": "fe54b375-8358-4ddd-9dcb-24442ab15cfa",
      "metadata": {
        "tags": [],
        "id": "fe54b375-8358-4ddd-9dcb-24442ab15cfa"
      },
      "source": [
        "## Modeling Charge State Dynamics to explain the preference of 975nm over 1064nm as trapped Laser\n",
        "*Atanu Ghosh* (PH20D204), Department of Physics, IITM"
      ]
    },
    {
      "cell_type": "markdown",
      "id": "ce4d88f7-5693-4821-b4c8-b55deb5e9918",
      "metadata": {
        "tags": [],
        "id": "ce4d88f7-5693-4821-b4c8-b55deb5e9918"
      },
      "source": [
        "### Preliminary  <span style= 'color: Green'> $\\textbf{Imports}$ </span>"
      ]
    },
    {
      "cell_type": "code",
      "execution_count": null,
      "id": "e2db44cb",
      "metadata": {
        "id": "e2db44cb",
        "tags": []
      },
      "outputs": [],
      "source": [
        "import numpy as np\n",
        "import pandas as pd\n",
        "import html, array, sympy, sys, time, sympy, os, glob, joblib, math, shutil\n",
        "from statistics import mean\n",
        "from scipy.optimize import fsolve\n",
        "from scipy.interpolate import interp1d\n",
        "from sympy import symbols, Eq, solve\n",
        "from scipy import signal\n",
        "from plotly import graph_objs as go\n",
        "from scipy import stats\n",
        "import plotly.io as pio\n",
        "import plotly.express as px\n",
        "from tqdm.notebook import trange\n",
        "from plotly.subplots import make_subplots\n",
        "from joblib import Parallel, delayed\n",
        "from importlib import reload\n",
        "from scipy.optimize import curve_fit\n",
        "from scipy.stats import chisquare\n",
        "import my_func as fun\n",
        "reload(fun)"
      ]
    },
    {
      "cell_type": "code",
      "execution_count": null,
      "id": "246ab6fb",
      "metadata": {
        "id": "246ab6fb",
        "tags": []
      },
      "outputs": [],
      "source": [
        "# Current Directory\n",
        "path = os.getcwd()\n",
        "path\n",
        "# from google.colab import drive\n",
        "# drive.mount('/content/drive')\n",
        "# path = '/content/drive/MyDrive'"
      ]
    },
    {
      "cell_type": "code",
      "execution_count": null,
      "id": "995b9b34-eb8a-419b-843a-9abb0ebddc4c",
      "metadata": {
        "tags": [],
        "id": "995b9b34-eb8a-419b-843a-9abb0ebddc4c"
      },
      "outputs": [],
      "source": [
        "fig_template = go.layout.Template()\n",
        "fig_template.layout = {\n",
        "    'template': 'simple_white+presentation',\n",
        "    'autosize': False,\n",
        "    'width': 800,\n",
        "    'height': 600,\n",
        "    # 'opacity': 0.2,\n",
        "    'xaxis': {\n",
        "        'ticks': 'inside',\n",
        "        'mirror': 'ticks',\n",
        "        'linewidth': 1.5+0.5,\n",
        "        'tickwidth': 1.5+0.5,\n",
        "        'ticklen': 6,\n",
        "        'showline': True,\n",
        "        'showgrid': False,\n",
        "        'zerolinecolor': 'white',\n",
        "        },\n",
        "    'yaxis': {\n",
        "        'ticks': 'inside',\n",
        "        'mirror': 'ticks',\n",
        "        'linewidth': 1.5+0.5,\n",
        "        'tickwidth': 1.5+0.5,\n",
        "        'ticklen': 6,\n",
        "        'showline': True,\n",
        "        'showgrid': False,\n",
        "        'zerolinecolor': 'white'\n",
        "        },\n",
        "    'font':{'family':'mathjax',\n",
        "            'size': 22,\n",
        "            }\n",
        "}"
      ]
    },
    {
      "cell_type": "code",
      "execution_count": null,
      "id": "4058c4b6-ed61-4af5-b023-9d633b3ce6eb",
      "metadata": {
        "tags": [],
        "id": "4058c4b6-ed61-4af5-b023-9d633b3ce6eb"
      },
      "outputs": [],
      "source": [
        "alphabet=px.colors.qualitative.Alphabet\n",
        "plotly=px.colors.qualitative.Plotly\n",
        "g10=px.colors.qualitative.G10\n",
        "vivid=px.colors.qualitative.Vivid\n",
        "pastel=px.colors.qualitative.Pastel"
      ]
    },
    {
      "cell_type": "markdown",
      "id": "910de507-e44e-4978-8ae3-e3ba75f328d2",
      "metadata": {
        "tags": [],
        "id": "910de507-e44e-4978-8ae3-e3ba75f328d2"
      },
      "source": [
        "### All the <span style= 'color: Green'> $\\textbf{Functions}$ </span>\n",
        "> Imported from the seperate python file \"my_func.py\""
      ]
    },
    {
      "cell_type": "code",
      "execution_count": null,
      "id": "158c8ddb-9246-432d-a8cb-c04ec1860ab2",
      "metadata": {
        "tags": [],
        "id": "158c8ddb-9246-432d-a8cb-c04ec1860ab2"
      },
      "outputs": [],
      "source": [
        "# def laser_scaling(data,laser_power,window):\n",
        "#     x=data[:,0]\n",
        "#     lowIndex = np.where(x.astype(int) == window[0])[0][0]\n",
        "#     highIndex = np.where(x.astype(int) == window[1])[0][0]\n",
        "#     scale=[]\n",
        "#     for i in range(len(laser_power)):\n",
        "#         y = data[:,i+1][lowIndex:highIndex]\n",
        "#         scale.append(np.sum(y)/laser_power[i])\n",
        "#     return np.array(scale)"
      ]
    },
    {
      "cell_type": "code",
      "execution_count": null,
      "id": "c4eafe14-bef5-486d-861c-cb7868c355d6",
      "metadata": {
        "id": "c4eafe14-bef5-486d-861c-cb7868c355d6",
        "tags": []
      },
      "outputs": [],
      "source": [
        "# #function to correct the dip\n",
        "# def correction(x,y,window):\n",
        "#     # x,y,window = args  #*args passing to function\n",
        "#     lowIndex = np.where(x.astype(int) == window[0])[0][0]\n",
        "#     highIndex = np.where(x.astype(int) == window[1])[0][0]\n",
        "#     y1=[];y2=[];x1=[];x2=[]\n",
        "#     points = 1            #points beyond the window to interpolet\n",
        "#     for i in range(points):\n",
        "#         y1.append(y[lowIndex-i]) ; y2.append(y[highIndex+i])\n",
        "#         x1.append(x[lowIndex-i]) ; x2.append(x[highIndex+i])\n",
        "#     y1 = np.sort(np.array(y1)); y2 = np.array(y2);x1 = np.sort(np.array(x1)); x2 = np.array(x2)\n",
        "#     yold = np.concatenate((y1,y2)); xold = np.concatenate((x1,x2)) ; xnew = x[lowIndex:highIndex+1]\n",
        "#     func = interp1d(xold,yold)\n",
        "#     ynew = func(xnew)\n",
        "#     # ynew = ynew + np.random.uniform(low=10.0, high=130.0, size=ynew.shape[0])\n",
        "#     index = np.arange(lowIndex,highIndex+1,1)\n",
        "#     yNew = np.insert(np.delete(y,index),index[0],ynew)\n",
        "#     # yNew = yNew+uplift\n",
        "#     return yNew"
      ]
    },
    {
      "cell_type": "code",
      "execution_count": null,
      "id": "ba822b80-1ef6-4b08-b6da-fb2e7d0ab00e",
      "metadata": {
        "tags": [],
        "id": "ba822b80-1ef6-4b08-b6da-fb2e7d0ab00e"
      },
      "outputs": [],
      "source": [
        "# #Function for scaling\n",
        "# def scaled(y):\n",
        "#     scale  = np.max(y)-np.min(y)\n",
        "#     y = (y - np.min(y))/scale\n",
        "#     return y"
      ]
    },
    {
      "cell_type": "code",
      "execution_count": null,
      "id": "02c160a8-82ea-419b-81f5-371cd33d2a8d",
      "metadata": {
        "tags": [],
        "id": "02c160a8-82ea-419b-81f5-371cd33d2a8d"
      },
      "outputs": [],
      "source": [
        "# def interpolation(x,y,xnew):\n",
        "#     func=interp1d(x,y)\n",
        "#     return func(xnew)"
      ]
    },
    {
      "cell_type": "code",
      "execution_count": null,
      "id": "910a534c",
      "metadata": {
        "id": "910a534c",
        "tags": []
      },
      "outputs": [],
      "source": [
        "# #### Function to get Integrated PL and Charge State Ratio\n",
        "# def exp(x,y,limit,pl_range):\n",
        "#     index = np.where(x.astype(int) == limit)[0][0]  # taking the index of the value\n",
        "#     if type(pl_range)==np.ndarray:\n",
        "#         index1 = np.where(x.astype(int) == pl_range[0])[0][0]  # taking the index of the value\n",
        "#         index2 = np.where(x.astype(int) == pl_range[1])[0][0]  # taking the index of the value\n",
        "#         x1 = x[index1:index]\n",
        "#         x2 = x[index:index2]\n",
        "#         y1 = y[index1:index]\n",
        "#         y2 = y[index:index2]\n",
        "#         # intensity = np.trapz(y,x)\n",
        "#         # ratio = np.trapz(y2,x2)/np.trapz(y1,x1)\n",
        "#         intensity = np.sum(y)\n",
        "#         ratio = np.sum(y2)/np.sum(y1)\n",
        "#         return np.array([intensity,ratio])\n",
        "#     else:\n",
        "#         y1 = y[:index]; y2 = y[index:]\n",
        "#         intensity = np.sum(y); ratio = np.sum(y2)/np.sum(y1)\n",
        "#         return np.array([intensity,ratio])"
      ]
    },
    {
      "cell_type": "code",
      "execution_count": null,
      "id": "1fc79802-eef6-493a-aa34-00923391f054",
      "metadata": {
        "id": "1fc79802-eef6-493a-aa34-00923391f054",
        "tags": []
      },
      "outputs": [],
      "source": [
        "# #function to extract data\n",
        "# def extract_data(file_list,window):\n",
        "#     rows = np.loadtxt(f'{file_list[0]}').shape[0]\n",
        "#     # cols = len(file_list)+1\n",
        "#     cols = len(file_list)     # to ignore the first not-good data\n",
        "#     data_pl = np.zeros((rows,cols))\n",
        "#     data_pl[:,0] = np.loadtxt(f'{file_list[0]}')[:,0]\n",
        "#     # for i in range(len(file_list)):\n",
        "#     for i in range(len(file_list)-1):\n",
        "#         if type(window) == np.ndarray:\n",
        "#             # data_pl[:,i+1] = correction(data_pl[:,0],np.loadtxt(f'{file_list[i]}')[:,1],window)\n",
        "#             data_pl[:,i+1] = correction(data_pl[:,0],np.loadtxt(f'{file_list[i+1]}')[:,1],window)     # to ignore the first not-good data\n",
        "#         else:\n",
        "#             # data_pl[:,i+1] = np.loadtxt(f'{file_list[i]}')[:,1]\n",
        "#             data_pl[:,i+1] = np.loadtxt(f'{file_list[i+1]}')[:,1]       # to ignore the first not-good data\n",
        "#     return data_pl"
      ]
    },
    {
      "cell_type": "code",
      "execution_count": null,
      "id": "cc0fecac-bf49-4de2-a937-b8650e22cbaf",
      "metadata": {
        "tags": [],
        "id": "cc0fecac-bf49-4de2-a937-b8650e22cbaf"
      },
      "outputs": [],
      "source": [
        "# #to get Chi_squared\n",
        "# def chi_sqr(simul,exper):\n",
        "#     diff = np.sum(np.square(simul-exper)/exper)\n",
        "#     return diff"
      ]
    },
    {
      "cell_type": "code",
      "execution_count": null,
      "id": "71b428fd-099f-4511-b7bc-b0832bb8aa1e",
      "metadata": {
        "tags": [],
        "id": "71b428fd-099f-4511-b7bc-b0832bb8aa1e"
      },
      "outputs": [],
      "source": [
        "# #To organize the data suitable for calculating chi_squared\n",
        "# def organize(data,organize_index,dimension):\n",
        "#     data_org = []\n",
        "#     if dimension == 2:\n",
        "#         if organize_index == 'i':\n",
        "#             for i in range(data.shape[0]):\n",
        "#                 data_org = data_org + data[i,:].tolist()\n",
        "#         if organize_index == 'j':\n",
        "#             for j in range(data.shape[1]):\n",
        "#                 data_org = data_org + data[:,j].tolist()\n",
        "#     # i=0;j=0\n",
        "#     # if dimension == 3:\n",
        "#     #     if organize_index == 'i':\n",
        "#     #         for j in range(data.shape[0]):\n",
        "#     #             for k in range(data.shape[1]):\n",
        "#     #             data_org = data_org + data[i,:].tolist()\n",
        "#     return np.array(data_org)"
      ]
    },
    {
      "cell_type": "code",
      "execution_count": null,
      "id": "44935152-8fe3-42a3-bad5-be6ef078e011",
      "metadata": {
        "id": "44935152-8fe3-42a3-bad5-be6ef078e011",
        "tags": []
      },
      "outputs": [],
      "source": [
        "# #function to get the Integrated PL and ratio for different IR and green\n",
        "# def intensity(data,powers,cutOff,pl_range,dim):\n",
        "#     if dim==3:\n",
        "#         intensity= np.ones([data.shape[0],powers.shape[0]])\n",
        "#         ratio= np.ones([data.shape[0],powers.shape[0]])\n",
        "#         for i in range(data.shape[0]):\n",
        "#             for j in range(powers.shape[0]):\n",
        "#                 intensity[i,j] = exp(data[i,:,0],data[i,:,j+1],cutOff,pl_range)[0]\n",
        "#                 ratio[i,j] = exp(data[i,:,0],data[i,:,j+1],cutOff,pl_range)[1]\n",
        "#         return intensity,ratio\n",
        "#     elif dim==2:\n",
        "#         intensity= np.ones([powers.shape[0]])\n",
        "#         ratio= np.ones([powers.shape[0]])\n",
        "#         for i in range(powers.shape[0]):\n",
        "#                 intensity[i] = exp(data[:,0],data[:,i+1],cutOff,pl_range)[0]\n",
        "#                 ratio[i] = exp(data[:,0],data[:,i+1],cutOff,pl_range)[1]\n",
        "#         return intensity,ratio"
      ]
    },
    {
      "cell_type": "code",
      "execution_count": null,
      "id": "5d6ba9e2-e65a-4490-98af-11c8ed1675cd",
      "metadata": {
        "id": "5d6ba9e2-e65a-4490-98af-11c8ed1675cd",
        "tags": []
      },
      "outputs": [],
      "source": [
        "# #### function to get the steady state population for green and IRs\n",
        "# def green(y,*power):\n",
        "#     power_green,power_975,power_1064 = power\n",
        "#     nr1,nr1_p,nr2,nr2_p,nalpha1,nalpha2,nk1,nk2,nbeta1,nbeta2,nl1,nl2,ngamma1,ngamma2,ndelta = cof(power_green,power_975,power_1064)\n",
        "#     evolve = np.array(([[(-(nr1*power_green)-(nk1*power_1064*power_1064)-(nl1*power_975*power_975)-(ndelta*power_975*power_975)),nr1_p,0,(nalpha2*power_green+nbeta2*power_1064+ngamma2*power_975),0],[(nr1*power_green+(nk1*power_1064*power_1064)+(nl1*power_975*power_975)),(-nalpha1*power_green-nr1_p-nbeta1*power_1064-ngamma1*power_975),0,0,0],[ndelta*power_975*power_975,(nalpha1*power_green+nbeta1*power_1064+ngamma1*power_975),(-nr2*power_green-(nk2*power_1064*power_1064)-(nl2*power_975*power_975)),nr2_p,0],[0,0,(nr2*power_green+(nk2*power_1064*power_1064)+(nl2*power_975*power_975)),(-nalpha2*power_green-nr2_p-nbeta2*power_1064-ngamma2*power_975),0],[1,1,1,1,-1]]))\n",
        "#     state_green = np.matmul(evolve,np.abs([y[0],y[1],y[2],y[3],1]))\n",
        "#     return state_green"
      ]
    },
    {
      "cell_type": "code",
      "execution_count": null,
      "id": "81faf057-af14-4373-9505-474dc174ae98",
      "metadata": {
        "id": "81faf057-af14-4373-9505-474dc174ae98"
      },
      "outputs": [],
      "source": [
        "# def cof(power_green,power_975,power_1064):\n",
        "#     #for green only\n",
        "#     if power_975==0 and power_1064==0:\n",
        "#         r1_ratio = 0.02\n",
        "#         nr1_p=100; nr1=r1_ratio*nr1_p;  nr2_p=100; nr2=r1_ratio*nr2_p; nalpha1=nr1/10; nalpha2=nalpha1*4; nk1=nk2=nbeta1=nbeta2=nl1=nl2=ngamma1=ngamma2=ndelta=0\n",
        "\n",
        "#     #for (green + 975)\n",
        "#     if power_975!=0 and power_1064==0:\n",
        "#         nr1_p=100; nr1=0.1*nr1_p;  nr2_p=100; nr2=0.1*nr2_p; nalpha2=3 ; nalpha1=1; nk1=nk2=nbeta1=nbeta2=0 ; nl1=nr1/10000;nl2=nr2/10000;ngamma1=nalpha1/3;ngamma2=nalpha2/3;ndelta=nr1/10000  #with delta\n",
        "#         # nr1_p=100; nr1=0.1*nr1_p;  nr2_p=100; nr2=0.1*nr2_p; nalpha2=3 ; nalpha1=1; nk1=nk2=nbeta1=nbeta2=0 ; nl1=nr1/10000;nl2=nr2/10000;ngamma1=nalpha1/3;ngamma2=nalpha2/3;ndelta=0      #without delta\n",
        "\n",
        "#     #for (green + 1064)\n",
        "#     if power_975==0 and power_1064!=0:\n",
        "#         nr1_p=100; nr1=0.1*nr1_p;  nr2_p=100; nr2=0.1*nr2_p; nalpha2=3 ; nalpha1=1; nl1=nl2=ngamma1=ngamma2=ndelta=0 ; nk1=nr1/10000;nk2=nr2/10000;nbeta1 = nalpha1;nbeta2 = nalpha2\n",
        "\n",
        "#     co = np.array([nr1,nr1_p,nr2,nr2_p,nalpha1,nalpha2,nk1,nk2,nbeta1,nbeta2,nl1,nl2,ngamma1,ngamma2,ndelta])\n",
        "#     return co"
      ]
    },
    {
      "cell_type": "code",
      "execution_count": null,
      "id": "8e77c70a-392d-40ec-86a2-7e21537f54a7",
      "metadata": {
        "tags": [],
        "id": "8e77c70a-392d-40ec-86a2-7e21537f54a7"
      },
      "outputs": [],
      "source": [
        "# #function to scale the different dataSets with green powers\n",
        "# def green_scale(data1,data2,power1,power2):\n",
        "#     _,index1,index2=np.intersect1d(power1, power2, return_indices=True)\n",
        "#     data1=data1[index1];data2=data2[index2]\n",
        "#     return np.average(data1/data2)"
      ]
    },
    {
      "cell_type": "code",
      "execution_count": null,
      "id": "4203ac6b-d7ba-4546-ae16-8c1b2702edac",
      "metadata": {
        "tags": [],
        "id": "4203ac6b-d7ba-4546-ae16-8c1b2702edac"
      },
      "outputs": [],
      "source": [
        "# #front background correction\n",
        "# def background(data,upto):\n",
        "#     average=np.mean(data[:,1:][:upto,:],axis=0)\n",
        "#     data[:,1:]=data[:,1:]-average\n",
        "#     return data"
      ]
    },
    {
      "cell_type": "code",
      "execution_count": null,
      "id": "55d3836d-aefc-45c1-8c0e-2ea798cb4dc4",
      "metadata": {
        "tags": [],
        "id": "55d3836d-aefc-45c1-8c0e-2ea798cb4dc4"
      },
      "outputs": [],
      "source": [
        "x=np.array([3.77,3.104,3.051,3.014,2.98,2.691,2.356,2.193,1.932,1.701])\n",
        "y=np.array([272,105,96.8,81,69,53,30,21,11.39,7.5])\n",
        "xnew=np.array([10,30,60,80])"
      ]
    },
    {
      "cell_type": "code",
      "execution_count": null,
      "id": "f6547bf9-f924-4eb0-b774-9bff2b3c1d6c",
      "metadata": {
        "tags": [],
        "id": "f6547bf9-f924-4eb0-b774-9bff2b3c1d6c"
      },
      "outputs": [],
      "source": [
        "func=interp1d(y,x)\n",
        "ynew=func(xnew)"
      ]
    },
    {
      "cell_type": "code",
      "execution_count": null,
      "id": "70a724e6-12eb-47b3-a11d-74fb90e7e6b9",
      "metadata": {
        "tags": [],
        "id": "70a724e6-12eb-47b3-a11d-74fb90e7e6b9"
      },
      "outputs": [],
      "source": [
        "ynew"
      ]
    },
    {
      "cell_type": "code",
      "execution_count": null,
      "id": "f18a290c-b016-4ca4-87ff-3e27b42954c1",
      "metadata": {
        "tags": [],
        "id": "f18a290c-b016-4ca4-87ff-3e27b42954c1"
      },
      "outputs": [],
      "source": [
        "fig = go.Figure()\n",
        "fig.add_scatter(x=y,y=x)\n",
        "fig.update_layout(xaxis = dict(title = 'Wavelenght (nm)'),yaxis = dict(title = 'PL of 532nm (Second Set)'))\n",
        "fig"
      ]
    },
    {
      "cell_type": "markdown",
      "id": "40777796",
      "metadata": {
        "id": "40777796",
        "tags": []
      },
      "source": [
        "### <span style= 'color: Green'> $\\textbf{Experimental}$ </span> DataSets"
      ]
    },
    {
      "cell_type": "code",
      "execution_count": null,
      "id": "7fdec24c-0201-417a-ac8f-6d22df56b78e",
      "metadata": {
        "tags": [],
        "id": "7fdec24c-0201-417a-ac8f-6d22df56b78e"
      },
      "outputs": [],
      "source": [
        "pl_range = np.array([555,785])\n",
        "cutOff = 650  # cut_off wavelength to get the ratio"
      ]
    },
    {
      "cell_type": "markdown",
      "id": "b152f2ff-abd1-423f-b688-dae2d1ca757e",
      "metadata": {
        "tags": [],
        "id": "b152f2ff-abd1-423f-b688-dae2d1ca757e"
      },
      "source": [
        "#### Extracting DataSets with Corrections"
      ]
    },
    {
      "cell_type": "markdown",
      "id": "e03d46ce-14e9-4c0c-a22c-6d33bebad644",
      "metadata": {
        "tags": [],
        "id": "e03d46ce-14e9-4c0c-a22c-6d33bebad644"
      },
      "source": [
        "##### <span style='color: Red'> Calibration of <span style='color: Blue'>532nm</span> laser</span> for first dataSets\n",
        "\n",
        "| Current (in $A$) | Power at sample plane (in $\\mu W$) |\n",
        "| :-: | :-: |\n",
        "| 1.65 | 20 |\n",
        "| 1.7 | 22 |\n",
        "| 1.75 | 26.7 |\n",
        "| 1.8 | 31 |\n",
        "| 1.85 | 34 |\n",
        "| 1.9 | 36 |\n",
        "| 1.95 | 40 |\n",
        "| 2 | 43 |\n",
        "| 2.05 | 45.8 |\n",
        "| 2.1 | 47|"
      ]
    },
    {
      "cell_type": "code",
      "execution_count": null,
      "id": "fe25d2ab-74fd-4241-8284-fdfa5c0510d9",
      "metadata": {
        "tags": [],
        "id": "fe25d2ab-74fd-4241-8284-fdfa5c0510d9"
      },
      "outputs": [],
      "source": [
        "#using calibration for interpolation\n",
        "current = np.array([1.65,1.7 , 1.75, 1.8 , 1.85, 1.9 , 1.95, 2.  , 2.05, 2.1 ])\n",
        "power = np.array([20,22,26.7,31,34,36,40,43,45.8,47])\n",
        "irs = ['975','1064']\n",
        "window_975 = np.array([645,653])  # Dip_correcton window\n",
        "window_1064 = np.array([697,705])\n",
        "window_green = np.array([697,705])\n",
        "# window_975 = 'False'\n",
        "# window_1064 = 'False'\n",
        "# window_green = 'False'"
      ]
    },
    {
      "cell_type": "code",
      "execution_count": null,
      "id": "4c025b61-2580-4b75-8cb8-65c7ce96e17a",
      "metadata": {
        "tags": [],
        "id": "4c025b61-2580-4b75-8cb8-65c7ce96e17a"
      },
      "outputs": [],
      "source": [
        "ir_powers=[]\n",
        "for files in os.listdir(path+\"\\\\Exp_Data\\\\975nm\"):\n",
        "    file_list = files[len(f\"{'975'}_\"):-2]\n",
        "    if len(file_list)<=5:\n",
        "        ir_powers.append(int(file_list))\n",
        "ir_powers=np.sort(np.array(ir_powers))\n",
        "\n",
        "current_data=[]\n",
        "for files in os.listdir(path+f\"\\\\Exp_Data\\\\{irs[0]}nm\\\\{irs[0]}_{str(ir_powers[0])}mW\"):\n",
        "    file_list = files[:-4]\n",
        "    if len(file_list)<=5:\n",
        "        current_data.append(float(file_list))\n",
        "current_data= np.sort(np.array(current_data[1:]))  #starting from index 1 to ignore the first data\n",
        "green_powers= fun.interpolation(current,power,current_data)\n",
        "current_data\n",
        "\n",
        "greenOnly_powers = green_powers[0::2]"
      ]
    },
    {
      "cell_type": "markdown",
      "id": "cae74490-7a37-4158-b0c7-be66d3063be3",
      "metadata": {
        "tags": [],
        "id": "cae74490-7a37-4158-b0c7-be66d3063be3"
      },
      "source": [
        "###### First DataSets"
      ]
    },
    {
      "cell_type": "code",
      "execution_count": null,
      "id": "6c7685d1-e21b-4950-9b09-357d37795f97",
      "metadata": {
        "tags": [],
        "id": "6c7685d1-e21b-4950-9b09-357d37795f97"
      },
      "outputs": [],
      "source": [
        "for i in irs:\n",
        "    globals()['data_'+f'{i}']=[]\n",
        "    for j in ir_powers:\n",
        "        txt_files = glob.glob(path+f\"\\\\Exp_Data\\\\{i}nm\\\\{i}_{j}mW\\\\*.txt\")\n",
        "        globals()['data_'+f'{i}_'+f'{j}'] = fun.background(fun.extract_data(txt_files,window=globals()['window_'+f'{i}']),upto=50)  #like : data_1064_16    with corrections\n",
        "        globals()['data_'+f'{i}'].append(globals()['data_'+f'{i}_'+f'{j}'])   #like data_1064\n",
        "    globals()['data_'+f'{i}']=np.array(globals()['data_'+f'{i}'])\n",
        "\n",
        "# data_975[0,:,6] = data_975[0,:,6]+200   #correction for over_correcting background noise\n",
        "\n",
        "#only green dataSets\n",
        "txt_files = glob.glob(path+\"\\\\Exp_Data\\\\green\\\\*.txt\")\n",
        "data_green = fun.background(fun.extract_data(txt_files,window=window_green),upto=50)"
      ]
    },
    {
      "cell_type": "code",
      "execution_count": null,
      "id": "d602ee1e-b930-4651-9877-2b3a755cc123",
      "metadata": {
        "tags": [],
        "id": "d602ee1e-b930-4651-9877-2b3a755cc123"
      },
      "outputs": [],
      "source": [
        "intensity_1064,ratio_1064 = fun.intensity(data_1064,green_powers,cutOff,pl_range=pl_range,dim=3)\n",
        "intensity_975,ratio_975 = fun.intensity(data_975,green_powers,cutOff,pl_range=0,dim=3)\n",
        "intensity_green,ratio_green = fun.intensity(data_green,greenOnly_powers,cutOff,pl_range=pl_range,dim=2)"
      ]
    },
    {
      "cell_type": "markdown",
      "id": "bc40293a-1aee-4df4-9a03-e1c54470631a",
      "metadata": {
        "tags": [],
        "id": "bc40293a-1aee-4df4-9a03-e1c54470631a"
      },
      "source": [
        "##### <span style='color: Red'> Calibration of <span style='color: Blue'>532nm</span> laser</span> for second dataSets\n",
        "\n",
        "| Current (in $A$) | Power at sample plane (in $\\mu W$) |\n",
        "| :-: | :-: |\n",
        "| 2.3 | 68 |\n",
        "| 2.18 | 84 |\n",
        "| 2.1 | 82.7 |\n",
        "| 2.011 | 66 |\n",
        "| 1.8 | 46 |\n",
        "| 1.521 | 36 |\n",
        "| 1.4 | 27 |\n",
        "| 1.2 | 24 |\n",
        "| 1.1 | 19 |\n",
        "| 1 | 22|\n",
        "| 0.8 | 17|\n",
        "| 0.627 | 8.5|"
      ]
    },
    {
      "cell_type": "code",
      "execution_count": null,
      "id": "d5c7fd74-3a09-483b-90bd-f5556cbf2d1f",
      "metadata": {
        "tags": [],
        "id": "d5c7fd74-3a09-483b-90bd-f5556cbf2d1f"
      },
      "outputs": [],
      "source": [
        "#refernces\n",
        "irs = ['975','1064']\n",
        "scale_window = np.array([525,535])  #window to get the scaling of intensity with laser_power\n",
        "current_new = np.array([2.3,2.18,2.1,2.011,1.8,1.521,1.4,1.2,1.1,1,0.8,0.627])\n",
        "power_new = np.array([68,84,82.7,66,46,36,27,24,19,22,17,8.5])\n",
        "window_975 = np.array([690,702])  # Dip_correcton window\n",
        "window_1064 = np.array([698,710])\n",
        "window_green = np.array([694,703])\n",
        "# window_975 = 'False'\n",
        "# window_1064 = 'False'\n",
        "# window_green = 'False'"
      ]
    },
    {
      "cell_type": "code",
      "execution_count": null,
      "id": "14c1225f-026e-41a1-973f-e3953451fa90",
      "metadata": {
        "tags": [],
        "id": "14c1225f-026e-41a1-973f-e3953451fa90"
      },
      "outputs": [],
      "source": [
        "ir_powers_new=[]\n",
        "for files in os.listdir(path+\"\\\\Exp_Data\\\\975nm_new\"):\n",
        "    file_list = files[len(f\"{'975'}_\"):-2]\n",
        "    if len(file_list)<=5:\n",
        "        ir_powers_new.append(int(file_list))\n",
        "ir_powers_new=np.sort(np.array(ir_powers_new))\n",
        "\n",
        "for i in irs:\n",
        "    for j in ir_powers_new:\n",
        "        globals()['current_'+f'{i}_'+f'{j}'] =[]\n",
        "        for files in os.listdir(path+f\"\\\\Exp_Data\\\\{i}nm_new\\\\{i}_{j}mW\"):\n",
        "            file_list = files[:-4]\n",
        "            if len(file_list)<=5:\n",
        "                globals()['current_'+f'{i}_'+f'{j}'].append(float(file_list))\n",
        "        globals()['current_'+f'{i}_'+f'{j}']= np.sort(np.array(globals()['current_'+f'{i}_'+f'{j}'][1:]))                 #starting from index 1 to ignore the first data\n",
        "        globals()['power_'+f'{i}_'+f'{j}']= fun.interpolation(current_new,power_new,globals()['current_'+f'{i}_'+f'{j}'])     #like : power_1064_100\n",
        "\n",
        "current_green = []\n",
        "for files in os.listdir(path+f\"\\\\Exp_Data\\\\green_new\"):\n",
        "    file_list=files[:-4]\n",
        "    if len(file_list)<=5:\n",
        "                current_green.append(float(file_list))\n",
        "current_green=np.sort(np.array(current_green))\n",
        "power_green_new = fun.interpolation(current_new,power_new,current_green[1:])   #starting from index 1 to ignore the first data"
      ]
    },
    {
      "cell_type": "code",
      "execution_count": null,
      "id": "349504d7-8bd8-4d1f-8b91-ecc32e6ac4da",
      "metadata": {
        "tags": [],
        "id": "349504d7-8bd8-4d1f-8b91-ecc32e6ac4da"
      },
      "outputs": [],
      "source": [
        "fig = px.scatter(x=current, y=power,labels=dict(x='Current(A)',y=f\" green power (\\N{greek small letter mu}W)\"))\n",
        "fig.update_layout(title_text=\"Before Interpolation\")\n",
        "fig.show()"
      ]
    },
    {
      "cell_type": "markdown",
      "id": "0620d40f-9ce8-42ae-8b64-8ad866a418fc",
      "metadata": {
        "tags": [],
        "id": "0620d40f-9ce8-42ae-8b64-8ad866a418fc"
      },
      "source": [
        "###### Second DataSets"
      ]
    },
    {
      "cell_type": "code",
      "execution_count": null,
      "id": "ac4fac50-3a8e-4520-b62f-5e6a3c82cf8a",
      "metadata": {
        "tags": [],
        "id": "ac4fac50-3a8e-4520-b62f-5e6a3c82cf8a"
      },
      "outputs": [],
      "source": [
        "for i in irs:\n",
        "    globals()['power_'+f'{i}'+'_new']=[]\n",
        "    globals()['data_'+f'{i}'+'_new']=[]\n",
        "    globals()['intensity_'+f'{i}'+'_new']=[]\n",
        "    globals()['ratio_'+f'{i}'+'_new']=[]\n",
        "    for j in ir_powers_new:\n",
        "        txt_files = glob.glob(path+f\"\\\\Exp_Data\\\\{i}nm_new\\\\{i}_{j}mW\\\\*.txt\")\n",
        "        globals()['data_'+f'{i}_'+f'{j}'] = fun.background(fun.extract_data(txt_files,window=globals()['window_'+f'{i}']),upto=50)           #like : data_1064_20     with corrections\n",
        "\n",
        "        globals()['intensity_'+f'{i}_'+f'{j}'] = fun.intensity(globals()['data_'+f'{i}_'+f'{j}'],globals()['power_'+f'{i}_'+f'{j}'],cutOff,pl_range=pl_range,dim=2)[0]        #like : intensity_1064_100\n",
        "        globals()['ratio_'+f'{i}_'+f'{j}'] = fun.intensity(globals()['data_'+f'{i}_'+f'{j}'],globals()['power_'+f'{i}_'+f'{j}'],cutOff,pl_range=pl_range,dim=2)[1]            #like : ratio_1064_100\n",
        "\n",
        "        globals()['power_'+f'{i}'+'_new'].append(globals()['power_'+f'{i}_'+f'{j}'])                    #like power_1064_new\n",
        "        globals()['data_'+f'{i}'+'_new'].append(globals()['data_'+f'{i}_'+f'{j}'])                      #like data_1064_new\n",
        "        globals()['intensity_'+f'{i}'+'_new'].append(globals()['intensity_'+f'{i}_'+f'{j}'])            #like intensity_1064_new\n",
        "        globals()['ratio_'+f'{i}'+'_new'].append(globals()['ratio_'+f'{i}_'+f'{j}'])                    #like ratio_1064_new\n",
        "\n",
        "#verification\n",
        "# np.array_equal(data_1064_20mw,data_1064_20_)\n",
        "\n",
        "#only green dataSets\n",
        "txt_files = glob.glob(path+\"\\\\Exp_Data\\\\green_new\\\\*.txt\")\n",
        "data_green_new = fun.background(fun.extract_data(txt_files,window=window_green),upto=50)\n",
        "intensity_green_new,ratio_green_new = fun.intensity(data_green_new,power_green_new,cutOff,pl_range=pl_range,dim=2)"
      ]
    },
    {
      "cell_type": "code",
      "execution_count": null,
      "id": "0177db53-e4d9-4538-934f-bcddc708f55e",
      "metadata": {
        "tags": [],
        "id": "0177db53-e4d9-4538-934f-bcddc708f55e"
      },
      "outputs": [],
      "source": [
        "for i in ir_powers_new:\n",
        "    globals()['scale_'+f'{irs[1]}_'+f'{i}'] = fun.laser_scaling(globals()['data_'+f'{irs[1]}_'+f'{i}'],globals()['power_'+f'{irs[1]}_'+f'{i}'],scale_window)     #like scale_1064_100\n",
        "    print(globals()['scale_'+f'{irs[1]}_'+f'{i}'])"
      ]
    },
    {
      "cell_type": "markdown",
      "id": "32af8e72-9cef-4fa6-96a9-1ee7c056366f",
      "metadata": {
        "tags": [],
        "id": "32af8e72-9cef-4fa6-96a9-1ee7c056366f"
      },
      "source": [
        "##### <span style='color: Red'> Calibration of <span style='color: Blue'>532nm</span> laser</span> for third dataSets (Only 975nm and reference Green)\n",
        ">> calibration is taken same as the second dataSets"
      ]
    },
    {
      "cell_type": "code",
      "execution_count": null,
      "id": "26a8b233-3613-4fc1-954a-606087df3a21",
      "metadata": {
        "tags": [],
        "id": "26a8b233-3613-4fc1-954a-606087df3a21"
      },
      "outputs": [],
      "source": [
        "#refernces\n",
        "irs = ['975']\n",
        "scale_window = np.array([525,535])  #window to get the scaling of intensity with laser_power\n",
        "current_new = np.array([2.3,2.18,2.1,2.011,1.8,1.521,1.4,1.2,1.1,1,0.8,0.627])\n",
        "power_new = np.array([68,84,82.7,66,46,36,27,24,19,22,17,8.5])\n",
        "window_975 = np.array([686,704])  # Dip_correcton window\n",
        "window_green = np.array([690,703])\n",
        "# window_975 = 'False'\n",
        "# window_green = 'False'\n",
        "window_green_scaling = 50"
      ]
    },
    {
      "cell_type": "code",
      "execution_count": null,
      "id": "46cc3f71-7e1f-4aa5-ab79-2364407e14c7",
      "metadata": {
        "tags": [],
        "id": "46cc3f71-7e1f-4aa5-ab79-2364407e14c7"
      },
      "outputs": [],
      "source": [
        "ir_powers_new_2=[]\n",
        "for files in os.listdir(path+\"\\\\Exp_Data\\\\975nm_new_2\"):\n",
        "    file_list = files[len(f\"{'975'}_\"):-2]\n",
        "    if len(file_list)<=5:\n",
        "        ir_powers_new_2.append(int(file_list))\n",
        "ir_powers_new_2=np.sort(np.array(ir_powers_new_2))\n",
        "\n",
        "for i in irs:\n",
        "    for j in ir_powers_new_2:\n",
        "        globals()['current_'+f'{i}_'+f'{j}_2'] =[]\n",
        "        for files in os.listdir(path+f\"\\\\Exp_Data\\\\{i}nm_new_2\\\\{i}_{j}mW\"):\n",
        "            file_list = files[:-4]\n",
        "            if len(file_list)<=5:\n",
        "                globals()['current_'+f'{i}_'+f'{j}_2'].append(float(file_list))\n",
        "        globals()['current_'+f'{i}_'+f'{j}_2']= np.sort(np.array(globals()['current_'+f'{i}_'+f'{j}_2'][1:]))                 #starting from index 1 to ignore the first data\n",
        "        globals()['power_'+f'{i}_'+f'{j}_2']= fun.interpolation(current_new,power_new,globals()['current_'+f'{i}_'+f'{j}_2'])     #like : power_975_100_2\n",
        "\n",
        "current_green_2 = []\n",
        "for files in os.listdir(path+f\"\\\\Exp_Data\\\\green_new_2\"):\n",
        "    file_list=files[:-4]\n",
        "    if len(file_list)<=5:\n",
        "                current_green_2.append(float(file_list))\n",
        "current_green_2=np.sort(np.array(current_green_2))\n",
        "power_green_new_2 = fun.interpolation(current_new,power_new,current_green_2[1:])\n",
        "\n",
        "current_green_3 = []\n",
        "for files in os.listdir(path+f\"\\\\Exp_Data\\\\green_new_3\"):\n",
        "    file_list=files[:-4]\n",
        "    if len(file_list)<=5:\n",
        "                current_green_3.append(float(file_list))\n",
        "current_green_3=np.sort(np.array(current_green_3))\n",
        "power_green_new_3 = fun.interpolation(current_new,power_new,current_green_3[1:])\n",
        "\n",
        "current_green_50_20 = []     #green regerence for only 50mW and 20mW\n",
        "for files in os.listdir(path+f\"\\\\Exp_Data\\\\green_new_50_20\"):\n",
        "    file_list=files[:-4]\n",
        "    if len(file_list)<=5:\n",
        "                current_green_50_20.append(float(file_list))\n",
        "current_green_50_20=np.sort(np.array(current_green_50_20))\n",
        "power_green_new_50_20 = fun.interpolation(current_new,power_new,current_green_50_20[1:])"
      ]
    },
    {
      "cell_type": "code",
      "execution_count": null,
      "id": "e4903e11-29ff-415c-a1fb-44bf0c154551",
      "metadata": {
        "tags": [],
        "id": "e4903e11-29ff-415c-a1fb-44bf0c154551"
      },
      "outputs": [],
      "source": [
        "for i in irs:\n",
        "    globals()['power_'+f'{i}'+'_new_2']=[]\n",
        "    globals()['data_'+f'{i}'+'_new_2']=[]\n",
        "    globals()['intensity_'+f'{i}'+'_new_2']=[]\n",
        "    globals()['ratio_'+f'{i}'+'_new_2']=[]\n",
        "    for j in ir_powers_new_2:\n",
        "        txt_files = glob.glob(path+f\"\\\\Exp_Data\\\\{i}nm_new_2\\\\{i}_{j}mW\\\\*.txt\")\n",
        "        globals()['data_'+f'{i}_'+f'{j}_2'] = fun.background(fun.extract_data(txt_files,window=globals()['window_'+f'{i}']),upto=50)           #like : data_975_20_2   with corrections\n",
        "\n",
        "        globals()['intensity_'+f'{i}_'+f'{j}_2'] = fun.intensity(globals()['data_'+f'{i}_'+f'{j}_2'],globals()['power_'+f'{i}_'+f'{j}_2'],cutOff,pl_range=pl_range,dim=2)[0]        #like : intensity_975_100_2\n",
        "        globals()['ratio_'+f'{i}_'+f'{j}_2'] = fun.intensity(globals()['data_'+f'{i}_'+f'{j}_2'],globals()['power_'+f'{i}_'+f'{j}_2'],cutOff,pl_range=pl_range,dim=2)[1]            #like : ratio_975_100_2\n",
        "\n",
        "        globals()['power_'+f'{i}'+'_new_2'].append(globals()['power_'+f'{i}_'+f'{j}_2'])                    #like power_975_new_2\n",
        "        globals()['data_'+f'{i}'+'_new_2'].append(globals()['data_'+f'{i}_'+f'{j}_2'])                      #like data_975_new_2\n",
        "        globals()['intensity_'+f'{i}'+'_new_2'].append(globals()['intensity_'+f'{i}_'+f'{j}_2'])            #like intensity_975_new_2\n",
        "        globals()['ratio_'+f'{i}'+'_new_2'].append(globals()['ratio_'+f'{i}_'+f'{j}_2'])                    #like ratio_975_new_2\n",
        "\n",
        "#only green dataSets\n",
        "txt_files = glob.glob(path+\"\\\\Exp_Data\\\\green_new_2\\\\*.txt\")\n",
        "data_green_new_2 = fun.background(fun.extract_data(txt_files,window=window_green),upto=50)\n",
        "intensity_green_new_2,ratio_green_new_2 = fun.intensity(data_green_new_2,power_green_new_2,cutOff,pl_range=pl_range,dim=2)\n",
        "\n",
        "#only green dataSets\n",
        "txt_files = glob.glob(path+\"\\\\Exp_Data\\\\green_new_3\\\\*.txt\")\n",
        "data_green_new_3 = fun.background(fun.extract_data(txt_files,window=window_green),upto=50)\n",
        "intensity_green_new_3,ratio_green_new_3 = fun.intensity(data_green_new_3,power_green_new_3,cutOff,pl_range=pl_range,dim=2)\n",
        "\n",
        "#only green dataSets\n",
        "txt_files = glob.glob(path+\"\\\\Exp_Data\\\\green_new_50_20\\\\*.txt\")\n",
        "data_green_new_50_20 = fun.background(fun.extract_data(txt_files,window=window_green),upto=50)\n",
        "intensity_green_new_50_20,ratio_green_new_50_20 = fun.intensity(data_green_new_50_20,power_green_new_50_20,cutOff,pl_range=pl_range,dim=2)"
      ]
    },
    {
      "cell_type": "markdown",
      "id": "b2e131e4-909d-4874-bad8-81ae72757151",
      "metadata": {
        "tags": [],
        "id": "b2e131e4-909d-4874-bad8-81ae72757151"
      },
      "source": [
        "##### Fourth DataSets"
      ]
    },
    {
      "cell_type": "code",
      "execution_count": null,
      "id": "cb30582b-03e0-47e0-a2d2-3de57f4ee013",
      "metadata": {
        "tags": [],
        "id": "cb30582b-03e0-47e0-a2d2-3de57f4ee013"
      },
      "outputs": [],
      "source": [
        "#refernces\n",
        "irs = ['975']\n",
        "scale_window = np.array([525,535])  #window to get the scaling of intensity with laser_power\n",
        "\n",
        "#calibration\n",
        "current_four = np.array([2.3,2.18,2.1,2.011,1.8,1.521,1.4,1.2,1.1,1,0.8,0.627])\n",
        "power_four = np.array([68,84,82.7,66,46,36,27,24,19,22,17,8.5])\n",
        "\n",
        "# Dip_correcton window\n",
        "window_975 = np.array([655,668])\n",
        "window_green = np.array([655,668])\n",
        "# window_975 = 'False'\n",
        "# window_green = 'False'\n",
        "\n",
        "#getting the ir_powers from the folder\n",
        "ir_powers_four=[]\n",
        "for files in os.listdir(path+\"\\\\Exp_Data\\\\975nm_four\"):\n",
        "    file_list = files[len(f\"{'975'}_\"):-2]\n",
        "    if len(file_list)<=5:\n",
        "        ir_powers_four.append(int(file_list))\n",
        "ir_powers_four=np.sort(np.array(ir_powers_four))\n",
        "\n",
        "\n",
        "#for each IR, getting the Green Power values from Current values by interpolation  : Data should not contain names like G_\n",
        "for i in irs:\n",
        "    for j in ir_powers_four:\n",
        "        globals()['current_'+f'{i}_'+f'{j}'] =[]\n",
        "        for files in os.listdir(path+f\"\\\\Exp_Data\\\\{i}nm_four\\\\{i}_{j}mW\"):\n",
        "            file_list = files[:-4]\n",
        "            if len(file_list)<=5:\n",
        "                globals()['current_'+f'{i}_'+f'{j}'].append(float(file_list))\n",
        "        globals()['current_'+f'{i}_'+f'{j}']= np.sort(np.array(globals()['current_'+f'{i}_'+f'{j}'][1:]))                 #starting from index 1 to ignore the first data\n",
        "        globals()['power_'+f'{i}_'+f'{j}']= fun.interpolation(current_four,power_four,globals()['current_'+f'{i}_'+f'{j}'])     #like : power_1064_100\n",
        "\n",
        "#getting the power values for Only Green\n",
        "current_green = []\n",
        "for files in os.listdir(path+f\"\\\\Exp_Data\\\\green_four\"):\n",
        "    file_list=files[:-4]\n",
        "    if len(file_list)<=5:\n",
        "                current_green.append(float(file_list))\n",
        "current_green=np.sort(np.array(current_green))\n",
        "power_green_four = fun.interpolation(current_four,power_four,current_green[1:])     #starting from index 1 to ignore the first data\n",
        "\n",
        "\n",
        "#Extracting the DataSets\n",
        "for i in irs:\n",
        "    globals()['power_'+f'{i}'+'_four']=[]\n",
        "    globals()['data_'+f'{i}'+'_four']=[]\n",
        "    globals()['intensity_'+f'{i}'+'_four']=[]\n",
        "    globals()['ratio_'+f'{i}'+'_four']=[]\n",
        "    for j in ir_powers_four:\n",
        "        txt_files = glob.glob(path+f\"\\\\Exp_Data\\\\{i}nm_four\\\\{i}_{j}mW\\\\*.txt\")\n",
        "        globals()['data_'+f'{i}_'+f'{j}'] = fun.background(fun.extract_data(txt_files,window=globals()['window_'+f'{i}']),upto=50)           #like : data_975_20     with corrections\n",
        "\n",
        "        globals()['intensity_'+f'{i}_'+f'{j}'] = fun.intensity(globals()['data_'+f'{i}_'+f'{j}'],globals()['power_'+f'{i}_'+f'{j}'],cutOff,pl_range=pl_range,dim=2)[0]        #like : intensity_975_100\n",
        "        globals()['ratio_'+f'{i}_'+f'{j}'] = fun.intensity(globals()['data_'+f'{i}_'+f'{j}'],globals()['power_'+f'{i}_'+f'{j}'],cutOff,pl_range=pl_range,dim=2)[1]            #like : ratio_975_100\n",
        "\n",
        "        globals()['power_'+f'{i}'+'_four'].append(globals()['power_'+f'{i}_'+f'{j}'])                    #like power_975_four\n",
        "        globals()['data_'+f'{i}'+'_four'].append(globals()['data_'+f'{i}_'+f'{j}'])                      #like data_975_four\n",
        "        globals()['intensity_'+f'{i}'+'_four'].append(globals()['intensity_'+f'{i}_'+f'{j}'])            #like intensity_975_four\n",
        "        globals()['ratio_'+f'{i}'+'_four'].append(globals()['ratio_'+f'{i}_'+f'{j}'])                    #like ratio_975_four\n",
        "\n",
        "\n",
        "#only green dataSets\n",
        "txt_files = glob.glob(path+\"\\\\Exp_Data\\\\green_four\\\\*.txt\")\n",
        "data_green_four = fun.background(fun.extract_data(txt_files,window=window_green),upto=50)\n",
        "intensity_green_four,ratio_green_four = fun.intensity(data_green_four,power_green_four,cutOff,pl_range=pl_range,dim=2)"
      ]
    },
    {
      "cell_type": "code",
      "execution_count": null,
      "id": "5d985907-0587-460e-b11c-f67a327ac19e",
      "metadata": {
        "tags": [],
        "id": "5d985907-0587-460e-b11c-f67a327ac19e"
      },
      "outputs": [],
      "source": [
        "#for detector scaling\n",
        "txt_files = glob.glob(path+f\"\\\\Exp_Data\\\\532laser_spectra\\\\*.txt\")\n",
        "data_laser_four = fun.background(fun.extract_data(txt_files,window=False),upto=10)\n",
        "laser_four=fun.laser_scaling(data_laser_four,power_green_four,np.array([520,540]))"
      ]
    },
    {
      "cell_type": "code",
      "execution_count": null,
      "id": "e97414c1-c399-47e0-9850-af7b321d11a6",
      "metadata": {
        "tags": [],
        "id": "e97414c1-c399-47e0-9850-af7b321d11a6"
      },
      "outputs": [],
      "source": [
        "data_green_four.shape,power_green_four.shape"
      ]
    },
    {
      "cell_type": "markdown",
      "id": "fe267233-5239-4f41-962a-d92e509c320c",
      "metadata": {
        "tags": [],
        "id": "fe267233-5239-4f41-962a-d92e509c320c"
      },
      "source": [
        "##### Error DataSets"
      ]
    },
    {
      "cell_type": "code",
      "execution_count": null,
      "id": "9525ea44-8e38-4b4e-8632-e7f1b0ca6397",
      "metadata": {
        "tags": [],
        "id": "9525ea44-8e38-4b4e-8632-e7f1b0ca6397"
      },
      "outputs": [],
      "source": [
        "def sort_files(path):\n",
        "    txt_files = glob.glob(path+\"\\\\*.txt\")\n",
        "\n",
        "    #sorting the txt_files\n",
        "    file_list=[]\n",
        "    for files in os.listdir(path)[0:]:\n",
        "        if len(files[:-4])<=5:\n",
        "            file_list.append(int(files[:-4]))\n",
        "    file_list=np.array(file_list)\n",
        "    txt_files_renum=[]\n",
        "    for i in range(len(file_list)):\n",
        "        i+=1\n",
        "        j=np.where(file_list==i)[0][0]\n",
        "        txt_files_renum.append(txt_files[j])\n",
        "\n",
        "    return txt_files_renum"
      ]
    },
    {
      "cell_type": "code",
      "execution_count": null,
      "id": "c263629b-a432-44f4-9f70-428e1a8ea6ae",
      "metadata": {
        "tags": [],
        "id": "c263629b-a432-44f4-9f70-428e1a8ea6ae"
      },
      "outputs": [],
      "source": [
        "#getting the number values for error Green\n",
        "num_error = []\n",
        "for files in os.listdir(path+f\"\\\\Exp_Data\\\\532nm_error_bars\"):\n",
        "    file_list=files[:-4]\n",
        "    if len(file_list)<=5:\n",
        "                num_error.append(float(file_list))\n",
        "num_error=np.sort(np.array(num_error[1:]))\n",
        "\n",
        "num_error2 = []\n",
        "for files in os.listdir(path+f\"\\\\Exp_Data\\\\532nm_error_bars2\"):\n",
        "    file_list=files[:-4]\n",
        "    if len(file_list)<=5:\n",
        "                num_error2.append(float(file_list))\n",
        "num_error2=np.sort(np.array(num_error2[1:]))\n",
        "\n",
        "\n",
        "window_error = np.array([654,664])\n",
        "\n",
        "#extracting from the sorted txt files\n",
        "txt_files = sort_files(path+\"\\\\Exp_Data\\\\532nm_error_bars\")\n",
        "pl_error = fun.background(fun.extract_data(txt_files,window=window_error),upto=50)\n",
        "\n",
        "txt_files2 = sort_files(path+\"\\\\Exp_Data\\\\532nm_error_bars2\")\n",
        "pl_error2 = fun.background(fun.extract_data(txt_files2,window=window_error),upto=50)\n",
        "\n",
        "intensity_error,ratio_error = fun.intensity(pl_error,num_error,cutOff,pl_range=pl_range,dim=2)\n",
        "intensity_error2,ratio_error2 = fun.intensity(pl_error2,num_error2,cutOff,pl_range=pl_range,dim=2)\n",
        "\n",
        "laser_error=fun.laser_scaling(pl_error,num_error,np.array([520,540]))\n",
        "laser_error2=fun.laser_scaling(pl_error2,num_error2,np.array([520,540]))"
      ]
    },
    {
      "cell_type": "markdown",
      "id": "4071f0cb-8e57-41d3-98ab-1e6884b23158",
      "metadata": {
        "tags": [],
        "id": "4071f0cb-8e57-41d3-98ab-1e6884b23158"
      },
      "source": [
        "##### Combined DataSets"
      ]
    },
    {
      "cell_type": "code",
      "execution_count": null,
      "id": "4f869576-c54f-405e-89dc-a855b387cb2b",
      "metadata": {
        "id": "4f869576-c54f-405e-89dc-a855b387cb2b"
      },
      "outputs": [],
      "source": [
        "#green and 1064nm from the second datasets\n",
        "# power_green_new,intensity_green_new,ratio_green_new\n",
        "\n",
        "# power_1064_new=np.array([power_1064_100,power_1064_100,power_1064_100,power_1064_100])\n",
        "# data_1064_new=np.array([data_1064_100,data_1064_100,data_1064_100,data_1064_100])\n",
        "# intensity_1064_new=np.array([intensity_1064_100,intensity_1064_100,intensity_1064_100,intensity_1064_100])\n",
        "# ratio_1064_new=np.array([ratio_1064_100,ratio_1064_100,ratio_1064_100,ratio_1064_100])\n",
        "\n",
        "#green and 975nm from the fourth datasets\n",
        "# power_green_four,intensity_green_four,ratio_green_four\n",
        "\n",
        "# power_975_four=np.array([power_975_100,power_975_100,power_975_100,power_975_100])\n",
        "# data_975_four=np.array([data_975_100,data_975_100,data_975_100,data_975_100])\n",
        "# intensity_975_four=np.array([intensity_975_100,intensity_975_100,intensity_975_100,intensity_975_100])\n",
        "# ratio_975_four=np.array([ratio_975_100,ratio_975_100,ratio_975_100,ratio_975_100])"
      ]
    },
    {
      "cell_type": "markdown",
      "id": "e1c0a81d-3dc2-417d-9829-6941b21068a3",
      "metadata": {
        "tags": [],
        "id": "e1c0a81d-3dc2-417d-9829-6941b21068a3"
      },
      "source": [
        "#### Experimental Plots"
      ]
    },
    {
      "cell_type": "markdown",
      "id": "81384a21-60e6-4224-80e8-c86bed80fcf1",
      "metadata": {
        "tags": [],
        "id": "81384a21-60e6-4224-80e8-c86bed80fcf1"
      },
      "source": [
        "##### First set of Data"
      ]
    },
    {
      "cell_type": "code",
      "execution_count": null,
      "id": "5d3f143c-611d-4787-92b9-8df62f850238",
      "metadata": {
        "tags": [],
        "id": "5d3f143c-611d-4787-92b9-8df62f850238"
      },
      "outputs": [],
      "source": [
        "# fig = go.Figure()\n",
        "# for i in range(data_green.shape[1]-1):\n",
        "#     fig.add_scatter(x=data_green[:,0],y=data_green[:,i+1],name=f\" green power {greenOnly_powers[i]}  \\N{greek small letter mu}W\")\n",
        "# fig.update_layout(xaxis = dict(title = 'Wavelenght (nm)'),yaxis = dict(title = 'PL of 532nm'))\n",
        "# fig"
      ]
    },
    {
      "cell_type": "code",
      "execution_count": null,
      "id": "4d1ba062-cf11-455e-9e3f-ca260b12829c",
      "metadata": {
        "id": "4d1ba062-cf11-455e-9e3f-ca260b12829c",
        "tags": []
      },
      "outputs": [],
      "source": [
        "# fig = go.Figure()\n",
        "# for i in range(data_1064[0].shape[1]-1):\n",
        "#     fig.add_scatter(x=data_1064[0][:,0],y=data_1064[0][:,i+1],name=f\" green power {green_powers[i]}  \\N{greek small letter mu}W\")\n",
        "# fig.update_layout(xaxis = dict(title = 'Wavelenght (nm)'),yaxis = dict(title = 'PL of 1064nm'))\n",
        "# fig"
      ]
    },
    {
      "cell_type": "code",
      "execution_count": null,
      "id": "be9c55b3-5ec5-4a33-bddf-b2340c908cd6",
      "metadata": {
        "id": "be9c55b3-5ec5-4a33-bddf-b2340c908cd6",
        "tags": []
      },
      "outputs": [],
      "source": [
        "# fig = go.Figure()\n",
        "# for i in range(data_975[0].shape[1]-1):   # data for green powers 43 and 45 is exactly same as I have copied one data to another due to lack of that green power and to match with 1064nm ir\n",
        "#     fig.add_scatter(x=data_975[0][:,0],y=data_975[0][:,i+1],name=f\" green power {green_powers[i]}  \\N{greek small letter mu}W\")\n",
        "# fig.update_layout(xaxis = dict(title = 'Wavelength (nm)'),yaxis = dict(title= 'PL of 975nm'))\n",
        "# fig"
      ]
    },
    {
      "cell_type": "code",
      "execution_count": null,
      "id": "f020d943-efff-4e77-9d72-3e67b310a60c",
      "metadata": {
        "id": "f020d943-efff-4e77-9d72-3e67b310a60c",
        "tags": []
      },
      "outputs": [],
      "source": [
        "# fig = go.Figure()\n",
        "# fig.add_scatter(x=greenOnly_powers,y=intensity_green,name='Only Green')\n",
        "# for i in range(data_1064.shape[0]):\n",
        "#     fig.add_scatter(x=green_powers,y=intensity_1064[i,:],name=f'1064nm power {ir_powers[i]} mW ')\n",
        "#     fig.add_scatter(x=green_powers,y=intensity_975[i,:],name=f'975nm power {ir_powers[i]} mW ')\n",
        "# fig.update_layout(xaxis = dict(title = 'Green Power (\\N{greek small letter mu}W)'),yaxis = dict(title = 'Integrated PL' ))\n",
        "# fig"
      ]
    },
    {
      "cell_type": "code",
      "execution_count": null,
      "id": "9ac8db62-be5e-4530-9b40-699b7a98ba19",
      "metadata": {
        "tags": [],
        "id": "9ac8db62-be5e-4530-9b40-699b7a98ba19"
      },
      "outputs": [],
      "source": [
        "# approx_ratio_green_1=np.mean(ratio_green)\n",
        "# approx_ratio_1064_1=[];approx_ratio_975_1=[]\n",
        "# for i in range(len(power_1064_new)):\n",
        "#     approx_ratio_1064_1.append(np.mean(ratio_1064[i]));    approx_ratio_975_1.append(np.mean(ratio_975[i]))\n",
        "# approx_ratio_1064_1=np.mean(np.array(approx_ratio_1064_1));  approx_ratio_975_1=np.mean(np.array(approx_ratio_975_1))\n",
        "# print(f'Ratios from Set1: (532nm,{np.round(approx_ratio_green_1,4)})  (1064nm,{np.round(approx_ratio_1064_1,4)})  (975nm,{np.round(approx_ratio_975_1,4)})')"
      ]
    },
    {
      "cell_type": "code",
      "execution_count": null,
      "id": "893f5ca7-2396-4cdb-9b54-37e84dc948a5",
      "metadata": {
        "tags": [],
        "id": "893f5ca7-2396-4cdb-9b54-37e84dc948a5"
      },
      "outputs": [],
      "source": [
        "# ir_powers"
      ]
    },
    {
      "cell_type": "code",
      "execution_count": null,
      "id": "e5b97abd-e20e-4802-a396-8022e6e3b003",
      "metadata": {
        "tags": [],
        "id": "e5b97abd-e20e-4802-a396-8022e6e3b003"
      },
      "outputs": [],
      "source": [
        "# fig = go.Figure()\n",
        "# fig.add_scatter(x=green_powers,y=np.repeat(approx_ratio_green_1,green_powers.shape[0]),name='Approx. ratio Green')\n",
        "# fig.add_scatter(x=ir_powers,y=np.repeat(approx_ratio_1064_1,ir_powers.shape[0]),name='Approx. ratio 1064nm')\n",
        "# fig.add_scatter(x=ir_powers,y=np.repeat(approx_ratio_975_1,ir_powers.shape[0]),name='Approx. ratio 975nm')\n",
        "# fig.add_scatter(x=green_powers,y=ratio_green,name='Only Green New',mode=\"markers\",)\n",
        "# for i in range(len(ir_powers)):\n",
        "#     fig.add_scatter(x=green_powers,y=ratio_1064[i],name=f'1064nm power new : {ir_powers [i]} mW ',mode=\"markers\",)\n",
        "#     fig.add_scatter(x=green_powers,y=ratio_975[i],name=f'975nm power new : {ir_powers [i]} mW ',mode=\"markers\",)\n",
        "# fig.update_layout(xaxis = dict(title = 'Green Power (\\N{greek small letter mu}W)'),yaxis = dict(title = 'Charge State Ratio' ))\n",
        "# fig"
      ]
    },
    {
      "cell_type": "code",
      "execution_count": null,
      "id": "afe89cee-f20b-4844-80e9-d38f0008fb98",
      "metadata": {
        "tags": [],
        "id": "afe89cee-f20b-4844-80e9-d38f0008fb98"
      },
      "outputs": [],
      "source": [
        "# fig = go.Figure()\n",
        "# fig.add_scatter(x=green_powers,y=ratio_green,name='Green only')\n",
        "# for i in range(data_1064.shape[0]):\n",
        "#     fig.add_scatter(x=green_powers,y=ratio_1064[i,:],name=f'1064nm power {ir_powers[i]} mW ')\n",
        "#     fig.add_scatter(x=green_powers,y=ratio_975[i,:],name=f'975nm power {ir_powers[i]} mW ')\n",
        "# fig.update_layout(xaxis = dict(title = 'Green Power (\\N{greek small letter mu}W)'),yaxis = dict(title = \"Charge State Ratio\" ))\n",
        "# fig"
      ]
    },
    {
      "cell_type": "markdown",
      "id": "e82e4ebd-031b-4194-8c68-bd482434d24d",
      "metadata": {
        "tags": [],
        "id": "e82e4ebd-031b-4194-8c68-bd482434d24d"
      },
      "source": [
        "##### Second set of Data"
      ]
    },
    {
      "cell_type": "code",
      "execution_count": null,
      "id": "8f5f08bf-f55b-4700-babb-a8033c7b0c24",
      "metadata": {
        "tags": [],
        "id": "8f5f08bf-f55b-4700-babb-a8033c7b0c24"
      },
      "outputs": [],
      "source": [
        "fig = go.Figure()\n",
        "for i in range(data_green_new.shape[1]-1):\n",
        "    fig.add_scatter(x=data_green_new[:,0],y=data_green_new[:,i+1],name=f'Green power : {np.round(power_green_new[i],3)} \\N{greek small letter mu}W')\n",
        "fig.update_layout(xaxis = dict(title = 'Wavelenght (nm)'),yaxis = dict(title = 'PL of 532nm (Second Set)'))\n",
        "fig"
      ]
    },
    {
      "cell_type": "code",
      "execution_count": null,
      "id": "b65cdd8e-ad5d-4b40-8442-b8c5a5a60d9d",
      "metadata": {
        "tags": [],
        "id": "b65cdd8e-ad5d-4b40-8442-b8c5a5a60d9d"
      },
      "outputs": [],
      "source": [
        "fig = go.Figure()\n",
        "fig = make_subplots(rows=4, cols=1, shared_xaxes=True, vertical_spacing=0.10)\n",
        "for j in range(len(ir_powers_new)):\n",
        "    for i in range(globals()['data_1064_'+f'{ir_powers_new[j]}'].shape[1]-1):\n",
        "        fig.add_scatter(x=globals()['data_1064_'+f'{ir_powers_new[j]}'][:,0],y=globals()['data_1064_'+f'{ir_powers_new[j]}'][:,i+1] ,\n",
        "                        name=f'IR_'+f'{ir_powers_new[j]}mW_Green : {np.round(power_1064_new[j][i],3)} \\N{greek small letter mu}W',row=j+1, col=1)\n",
        "        fig.update_xaxes(title_text=f\"Wavelenght\", row=j+1, col=1)\n",
        "        fig.update_yaxes(title_text=f\"PL_1064nm_{ir_powers_new[j]}mW\", row=j+1, col=1)\n",
        "fig.update_layout(height=1300, width=1300,\n",
        "                  title_text=\"Second PL Set of 1064nm\")\n",
        "fig"
      ]
    },
    {
      "cell_type": "code",
      "execution_count": null,
      "id": "2e521445-cb3e-40e5-833e-189665b75055",
      "metadata": {
        "tags": [],
        "id": "2e521445-cb3e-40e5-833e-189665b75055"
      },
      "outputs": [],
      "source": [
        "power_975_new"
      ]
    },
    {
      "cell_type": "code",
      "execution_count": null,
      "id": "24338f7a-7077-461a-9343-398df02ef439",
      "metadata": {
        "tags": [],
        "id": "24338f7a-7077-461a-9343-398df02ef439"
      },
      "outputs": [],
      "source": [
        "fig = go.Figure()\n",
        "fig = make_subplots(rows=4, cols=1, shared_xaxes=True, vertical_spacing=0.10)\n",
        "for j in range(len(ir_powers_new)):\n",
        "    for i in range(globals()['data_975_'+f'{ir_powers_new[j]}'].shape[1]-1):\n",
        "        fig.add_scatter(x=globals()['data_975_'+f'{ir_powers_new[j]}'][:,0],y=globals()['data_975_'+f'{ir_powers_new[j]}'][:,i+1],\n",
        "                        name=f'IR_'+f'{ir_powers_new[j]}mW_Green : {np.round(power_975_new[j][i],3)} \\N{greek small letter mu}W', row=j+1, col=1)\n",
        "        fig.update_xaxes(title_text=f\"Wavelenght\", row=j+1, col=1)\n",
        "        fig.update_yaxes(title_text=f\"PL_975nm_{ir_powers_new[j]}mW\", row=j+1, col=1)\n",
        "fig.update_layout(height=1300, width=1300,\n",
        "                  title_text=\"Second PL Set of 975nm\")\n",
        "fig"
      ]
    },
    {
      "cell_type": "code",
      "execution_count": null,
      "id": "dbf3623b-642b-43bc-8281-642fd51e9f23",
      "metadata": {
        "tags": [],
        "id": "dbf3623b-642b-43bc-8281-642fd51e9f23"
      },
      "outputs": [],
      "source": [
        "np.array_equal(intensity_1064_new[0],intensity_1064_20)"
      ]
    },
    {
      "cell_type": "code",
      "execution_count": null,
      "id": "88685ea6-8249-442d-ae43-f353b99ee13e",
      "metadata": {
        "tags": [],
        "id": "88685ea6-8249-442d-ae43-f353b99ee13e"
      },
      "outputs": [],
      "source": [
        "fig = go.Figure()\n",
        "fig.add_scatter(x=power_green_new,y=intensity_green_new,name='Only Green New',mode=\"markers\",)\n",
        "for i in range(len(power_1064_new)):\n",
        "    fig.add_scatter(x=power_1064_new[i],y=intensity_1064_new[i],name=f'1064nm power new : {ir_powers_new [i]} mW ',mode=\"markers\",)\n",
        "    # fig.add_scatter(x=power_975_new[i],y=intensity_975_new[i],name=f'975nm power new : {ir_powers_new [i]} mW ',mode=\"markers\",)\n",
        "fig.update_layout(xaxis = dict(title = 'Green Power (\\N{greek small letter mu}W)'),yaxis = dict(title = 'Integrated PL' ))\n",
        "fig"
      ]
    },
    {
      "cell_type": "code",
      "execution_count": null,
      "id": "412189c8-70e5-4689-ae67-22b633dfe631",
      "metadata": {
        "tags": [],
        "id": "412189c8-70e5-4689-ae67-22b633dfe631"
      },
      "outputs": [],
      "source": [
        "approx_ratio_green=np.mean(ratio_green_new)\n",
        "approx_ratio_1064=[];approx_ratio_975=[]\n",
        "for i in range(len(power_1064_new)):\n",
        "    approx_ratio_1064.append(np.mean(ratio_1064_new[i]));    approx_ratio_975.append(np.mean(ratio_975_new[i]))\n",
        "approx_ratio_1064=np.mean(np.array(approx_ratio_1064));  approx_ratio_975=np.mean(np.array(approx_ratio_975))\n",
        "print(f'Ratios from Set2: (532nm,{np.round(approx_ratio_green,4)})  (1064nm,{np.round(approx_ratio_1064,4)})  (975nm,{np.round(approx_ratio_975,4)})')"
      ]
    },
    {
      "cell_type": "code",
      "execution_count": null,
      "id": "5400622c-ab8b-4065-8349-0616ca871ca6",
      "metadata": {
        "tags": [],
        "id": "5400622c-ab8b-4065-8349-0616ca871ca6"
      },
      "outputs": [],
      "source": [
        "fig = go.Figure()\n",
        "fig.add_scatter(x=power_green_new,y=np.repeat(approx_ratio_green,power_green_new.shape[0]),name='Approx. ratio Green New')\n",
        "fig.add_scatter(x=power_1064_new[0],y=np.repeat(approx_ratio_1064,power_1064_new[0].shape[0]),name='Approx. ratio 1064nm New')\n",
        "fig.add_scatter(x=power_975_new[0],y=np.repeat(approx_ratio_975,power_975_new[0].shape[0]),name='Approx. ratio 975nm New')\n",
        "fig.add_scatter(x=power_green_new,y=ratio_green_new,name='Only Green New',mode=\"markers\",)\n",
        "for i in range(len(power_1064_new)):\n",
        "    fig.add_scatter(x=power_1064_new[i],y=ratio_1064_new[i],name=f'1064nm power new : {ir_powers_new [i]} mW ',mode=\"markers\",)\n",
        "    fig.add_scatter(x=power_975_new[i],y=ratio_975_new[i],name=f'975nm power new : {ir_powers_new [i]} mW ',mode=\"markers\",)\n",
        "fig.update_layout(xaxis = dict(title = 'Green Power (\\N{greek small letter mu}W)'),yaxis = dict(title = 'Charge State Ratio' ))\n",
        "fig"
      ]
    },
    {
      "cell_type": "markdown",
      "id": "7dfe3f96-12ef-438e-8a61-b83b0f8d80fd",
      "metadata": {
        "tags": [],
        "id": "7dfe3f96-12ef-438e-8a61-b83b0f8d80fd"
      },
      "source": [
        "##### Third set of Data"
      ]
    },
    {
      "cell_type": "code",
      "execution_count": null,
      "id": "6589c6e5-20c8-45b9-84b6-ec7bfd32e4cf",
      "metadata": {
        "tags": [],
        "id": "6589c6e5-20c8-45b9-84b6-ec7bfd32e4cf"
      },
      "outputs": [],
      "source": [
        "fig = go.Figure()\n",
        "fig = make_subplots(rows=4, cols=1, shared_xaxes=True, vertical_spacing=0.10)\n",
        "for j in range(len(ir_powers_new_2)):\n",
        "    for i in range(globals()['data_975_'+f'{ir_powers_new_2[j]}_2'].shape[1]-1):\n",
        "        fig.add_scatter(x=globals()['data_975_'+f'{ir_powers_new_2[j]}_2'][:,0],y=globals()['data_975_'+f'{ir_powers_new_2[j]}_2'][:,i+1],\n",
        "                        name=f'IR_'+f'{ir_powers_new_2[j]}mW_Green : {np.round(power_975_new_2[j][i],3)} \\N{greek small letter mu}W', row=j+1, col=1)\n",
        "        fig.update_xaxes(title_text=f\"Wavelenght\", row=j+1, col=1)\n",
        "        fig.update_yaxes(title_text=f\"PL_975nm_{ir_powers_new[j]}mW\", row=j+1, col=1)\n",
        "fig.update_layout(height=1300, width=1300,\n",
        "                  title_text=\"Third PL Set of 975nm\")\n",
        "fig"
      ]
    },
    {
      "cell_type": "code",
      "execution_count": null,
      "id": "c11e0346-9185-4e6e-94eb-60bc08b81914",
      "metadata": {
        "tags": [],
        "id": "c11e0346-9185-4e6e-94eb-60bc08b81914"
      },
      "outputs": [],
      "source": [
        "# fig = go.Figure()\n",
        "# fig = make_subplots(rows=3, cols=1, shared_xaxes=True, vertical_spacing=0.10,\n",
        "#     subplot_titles=(\"Set1\", \"Set2\",\"Set3\"))\n",
        "# for i in range(data_green_new_2.shape[1]-1):\n",
        "#     fig.add_scatter(x=data_green_new_2[:,0],y=data_green_new_2[:,i+1],name=f'Green power_set2 : {np.round(power_green_new_2[i],3)} \\N{greek small letter mu}W',row=1,col=1)\n",
        "# for i in range(data_green_new_3.shape[1]-1):\n",
        "#     fig.add_scatter(x=data_green_new_3[:,0],y=data_green_new_3[:,i+1],name=f'Green power_set3 : {np.round(power_green_new_3[i],3)} \\N{greek small letter mu}W',row=2,col=1)\n",
        "# for i in range(data_green_new_50_20.shape[1]-1):\n",
        "#     fig.add_scatter(x=data_green_new_50_20[:,0],y=data_green_new_50_20[:,i+1],name=f'Green power_set_50_20 : {np.round(power_green_new_50_20[i],3)} \\N{greek small letter mu}W',row=3,col=1)\n",
        "\n",
        "# fig.update_xaxes(title_text=f\"Wavelenght\", row=1, col=1)\n",
        "# fig.update_yaxes(title_text=f\"PL_532nm_set2\", row=1, col=1)\n",
        "# fig.update_xaxes(title_text=f\"Wavelenght\", row=2, col=1)\n",
        "# fig.update_yaxes(title_text=f\"PL_532nm_set3\", row=2, col=1)\n",
        "# fig.update_xaxes(title_text=f\"Wavelenght\", row=3, col=1)\n",
        "# fig.update_yaxes(title_text=f\"PL_532nm_set_50_20\", row=3, col=1)\n",
        "# fig.update_layout(height=800, width=1500,\n",
        "#                   title_text='PL of 532nm (Third Set)')\n",
        "# fig"
      ]
    },
    {
      "cell_type": "code",
      "execution_count": null,
      "id": "3395a6ed-c8bc-4b12-87bd-ad4914b02b12",
      "metadata": {
        "tags": [],
        "id": "3395a6ed-c8bc-4b12-87bd-ad4914b02b12"
      },
      "outputs": [],
      "source": [
        "# approx_ratio_green_2=np.mean(ratio_green_new_2)\n",
        "# approx_ratio_975_2=[]\n",
        "# for i in range(len(power_975_new_2)):\n",
        "#     approx_ratio_975_2.append(np.mean(ratio_975_new_2[i]))\n",
        "# approx_ratio_975_2=np.mean(np.array(approx_ratio_975_2))\n",
        "# print(f'Ratios from Set3: (532nm,{np.round(approx_ratio_green_2,4)})  (975nm,{np.round(approx_ratio_975_2,4)})')"
      ]
    },
    {
      "cell_type": "code",
      "execution_count": null,
      "id": "fafa4b4c-8cd0-40e3-b8b3-ac4f207bcd64",
      "metadata": {
        "tags": [],
        "id": "fafa4b4c-8cd0-40e3-b8b3-ac4f207bcd64"
      },
      "outputs": [],
      "source": [
        "# fig = go.Figure()\n",
        "# fig.add_scatter(x=power_green_new_2,y=np.repeat(approx_ratio_green_2,power_green_new_2.shape[0]),name='Approx. ratio Green New_2')\n",
        "# fig.add_scatter(x=power_975_new_2[0],y=np.repeat(approx_ratio_975_2,power_975_new_2[0].shape[0]),name='Approx. ratio 975nm New_2')\n",
        "# fig.add_scatter(x=power_green_new_2,y=ratio_green_new_2,name='Only Green New_2',mode=\"markers\",)\n",
        "# for i in range(len(power_975_new_2)):\n",
        "#     fig.add_scatter(x=power_975_new_2[i],y=ratio_975_new_2[i],name=f'975nm power new_2 : {ir_powers_new [i]} mW ',mode=\"markers\",)\n",
        "# fig.update_layout(xaxis = dict(title = 'Green Power (\\N{greek small letter mu}W)'),yaxis = dict(title = 'Charge State Ratio' ))\n",
        "# fig.show()"
      ]
    },
    {
      "cell_type": "markdown",
      "id": "cc931c32-99de-4910-9c91-d88929d33c9c",
      "metadata": {
        "tags": [],
        "id": "cc931c32-99de-4910-9c91-d88929d33c9c"
      },
      "source": [
        "##### Fourth set of Data"
      ]
    },
    {
      "cell_type": "code",
      "execution_count": null,
      "id": "fc39ba9c-9476-47e2-8bf4-ab676081f2cc",
      "metadata": {
        "id": "fc39ba9c-9476-47e2-8bf4-ab676081f2cc"
      },
      "outputs": [],
      "source": [
        "fig = go.Figure()\n",
        "\n",
        "fig = make_subplots(rows=5, cols=1, shared_xaxes=True, vertical_spacing=0.10)\n",
        "for i in range(data_green_four.shape[1]-1):\n",
        "    fig.add_scatter(x=data_green_four[:,0],y=data_green_four[:,i+1],name=f'Green power : {np.round(power_green_four[i],3)} \\N{greek small letter mu}W',row=1,col=1)\n",
        "fig.update_xaxes(title_text= 'Wavelenght (nm)', row=1, col=1)\n",
        "fig.update_yaxes(title_text='PL of 532nm', row=1, col=1)\n",
        "\n",
        "# for j in range(len(ir_powers_four)):\n",
        "#     for i in range(globals()['data_1064_'+f'{ir_powers_four[j]}'].shape[1]-1):\n",
        "#         fig.add_scatter(x=globals()['data_1064_'+f'{ir_powers_four[j]}'][:,0],y=globals()['data_1064_'+f'{ir_powers_four[j]}'][:,i+1] ,\n",
        "#                         name=f'IR_'+f'{ir_powers_four[j]}mW_Green : {np.round(power_1064_four[j][i],3)} \\N{greek small letter mu}W',row=j+2, col=1)\n",
        "#         fig.update_xaxes(title_text=f\"Wavelenght\", row=j+2, col=1)\n",
        "#         fig.update_yaxes(title_text=f\"PL_1064nm_{ir_powers_four[j]}mW\", row=j+2, col=1)\n",
        "# fig.update_layout(height=1300, width=1300,\n",
        "#                   title_text=\"Fourth PL Set of 1064nm\")\n",
        "\n",
        "# fig = make_subplots(rows=4, cols=1, shared_xaxes=True, vertical_spacing=0.10)\n",
        "for j in range(len(ir_powers_four)):\n",
        "    for i in range(globals()['data_975_'+f'{ir_powers_four[j]}'].shape[1]-1):\n",
        "        fig.add_scatter(x=globals()['data_975_'+f'{ir_powers_four[j]}'][:,0],y=globals()['data_975_'+f'{ir_powers_four[j]}'][:,i+1],\n",
        "                        name=f'IR_'+f'{ir_powers_four[j]}mW_Green : {np.round(power_975_four[j][i],3)} \\N{greek small letter mu}W', row=j+2, col=1)\n",
        "        fig.update_xaxes(title_text=f\"Wavelenght\", row=j+2, col=1)\n",
        "        fig.update_yaxes(title_text=f\"PL_975nm_{ir_powers_four[j]}mW\", row=j+2, col=1)\n",
        "fig.update_layout(height=1300, width=1300,\n",
        "                  title_text=\"Second PL Set of 975nm\")\n",
        "\n",
        "# fig.add_scatter(x=power_green_four,y=intensity_green_four,name='Only Green four',)\n",
        "# for i in range(len(power_975_four)):\n",
        "#     # fig.add_scatter(x=power_1064_four[i],y=intensity_1064_four[i],name=f'1064nm power four : {ir_powers_four [i]} mW ',mode=\"markers\",)\n",
        "#     fig.add_scatter(x=power_975_four[i],y=intensity_975_four[i],name=f'975nm power four : {ir_powers_four [i]} mW ',)\n",
        "# for i in range(len(power_1064_new)):\n",
        "#     fig.add_scatter(x=power_1064_new[i],y=intensity_1064_new[i],name=f'1064nm power new : {ir_powers_new [i]} mW ',)\n",
        "# fig.update_layout(xaxis = dict(title = 'Green Power (\\N{greek small letter mu}W)'),yaxis = dict(title = 'Integrated PL' ))\n",
        "\n",
        "# approx_ratio_green=np.mean(ratio_green_four)\n",
        "# approx_ratio_1064=[];approx_ratio_975=[]\n",
        "# for i in range(len(power_975_four)):\n",
        "#     # approx_ratio_1064.append(np.mean(ratio_1064_four[i]))\n",
        "#     approx_ratio_975.append(np.mean(ratio_975_four[i]))\n",
        "# # approx_ratio_1064=np.mean(np.array(approx_ratio_1064))\n",
        "# approx_ratio_975=np.mean(np.array(approx_ratio_975))\n",
        "# print(f'Ratios from Set2: (532nm,{np.round(approx_ratio_green,4)})  (1064nm,{np.round(approx_ratio_1064,4)})  (975nm,{np.round(approx_ratio_975,4)})')\n",
        "\n",
        "# fig.add_scatter(x=power_green_four,y=np.repeat(approx_ratio_green,power_green_four.shape[0]),name='Approx. ratio Green four')\n",
        "# fig.add_scatter(x=power_1064_four[0],y=np.repeat(approx_ratio_1064,power_1064_four[0].shape[0]),name='Approx. ratio 1064nm four')\n",
        "# fig.add_scatter(x=power_975_four[0],y=np.repeat(approx_ratio_975,power_975_four[0].shape[0]),name='Approx. ratio 975nm four')\n",
        "# fig.add_scatter(x=power_green_four,y=ratio_green_four,name='Only Green four',mode=\"markers\",)\n",
        "# for i in range(len(power_1064_four)):\n",
        "#     fig.add_scatter(x=power_1064_four[i],y=ratio_1064_four[i],name=f'1064nm power four : {ir_powers_four [i]} mW ',mode=\"markers\",)\n",
        "#     fig.add_scatter(x=power_975_four[i],y=ratio_975_four[i],name=f'975nm power four : {ir_powers_four [i]} mW ',mode=\"markers\",)\n",
        "# fig.update_layout(xaxis = dict(title = 'Green Power (\\N{greek small letter mu}W)'),yaxis = dict(title = 'Charge State Ratio' ))\n",
        "\n",
        "fig.show()"
      ]
    },
    {
      "cell_type": "code",
      "execution_count": null,
      "id": "8dc94f91-169f-44dc-b68e-6c1b89230d0a",
      "metadata": {
        "id": "8dc94f91-169f-44dc-b68e-6c1b89230d0a"
      },
      "outputs": [],
      "source": [
        "#detector_scaling\n",
        "scale_four=fun.detector_scaling(data_green_four,power_green_four,np.array([528,536]))\n",
        "\n",
        "# #scaling with refernce to green   : reference green , green of scaling set\n",
        "# intensity_green_four=fun.green_scale(intensity_green_four,intensity_green_four,power_green_new,power_green_four)*intensity_green_four\n",
        "\n",
        "# irs = ['975','1064']\n",
        "# for i in irs:\n",
        "#     for j in range(len(ir_powers_new)):\n",
        "#         globals()[f'intensity_{i}_four'][j]=fun.green_scale(intensity_green_new,\\\\\n",
        "#                                                             globals()[f'intensity_{i}_four'][j],power_green_new,globals()[f'power_{i}_four'][j])*globals()[f'intensity_{i}_four'][j]\n",
        "\n",
        "\n",
        "#detector scaling of green\n",
        "data_green_scaled_four=np.ones((data_green_four.shape))\n",
        "data_green_scaled_four[:,0]=data_green_four[:,0]\n",
        "data_green_scaled_four[:,1:]=data_green_four[:,1:]*scale_four\n",
        "\n",
        "#detector scaling of 975nm\n",
        "irs = ['975']\n",
        "\n",
        "for i in irs:\n",
        "    globals()[f'data_{i}_four_scaled']=[]\n",
        "    for j in range(len(ir_powers_four)):\n",
        "        globals()[f'scale_set_{i}_{ir_powers_four[j]}'] = fun.interpolation(power_green_four,scale_four, globals()[f'power_{i}_four'][j])\n",
        "        globals()[f'data_{i}_four_scaled_{ir_powers_four[j]}']=np.ones((globals()[f'data_{i}_four'][j].shape))\n",
        "        for k in range(len(globals()[f'power_{i}_four'][j])):\n",
        "            globals()[f'data_{i}_four_scaled_{ir_powers_four[j]}'][:,0]=globals()[f'data_{i}_four'][j][:,0]\n",
        "            globals()[f'data_{i}_four_scaled_{ir_powers_four[j]}'][:,k+1]=(globals()[f'data_{i}_four'][j][:,k+1]*globals()[f'scale_set_{i}_{ir_powers_four[j]}'][k])   #like data_975_four_scaled_100\n",
        "            globals()[f'data_{i}_four_scaled'].append(globals()[f'data_{i}_four_scaled_{ir_powers_four[j]}'])                                                          #like data_975_four_scaled\n",
        "\n",
        "\n",
        "##Calculating Intensity and Ratios from the DetectorScaled PLs\n",
        "scaled_intensity_green_four,scaled_ratio_green_four = fun.intensity(data_green_scaled_four,power_green_four,cutOff,pl_range=pl_range,dim=2)\n",
        "\n",
        "irs = ['975']\n",
        "for i in irs:\n",
        "    globals()['intensity_'+f'{i}'+'_four_scaled']=[]\n",
        "    globals()['ratio_'+f'{i}'+'_four_scaled']=[]\n",
        "    for j in range(len(ir_powers_four)):\n",
        "        globals()['intensity_'+f'{i}_'+f'{ir_powers_four[j]}_scaled'] = fun.intensity(globals()[f'data_{i}_four_scaled_{ir_powers_four[j]}'],globals()[f'power_{i}_{ir_powers_four[j]}'],cutOff,pl_range=pl_range,dim=2)[0]        #like : intensity_975_100_scaled\n",
        "        globals()['ratio_'+f'{i}_'+f'{ir_powers_four[j]}_scaled'] = fun.intensity(globals()[f'data_{i}_four_scaled_{ir_powers_four[j]}'],globals()[f'power_{i}_{ir_powers_four[j]}'],cutOff,pl_range=pl_range,dim=2)[1]            #like : ratio_975_100_scaled\n",
        "        print('ratio_'+f'{i}_'+f'{ir_powers_four[j]}_scaled')\n",
        "        globals()['intensity_'+f'{i}'+'_four_scaled'].append(globals()['intensity_'+f'{i}_'+f'{ir_powers_four[j]}_scaled'])            #like intensity_975_four_scaled\n",
        "        globals()['ratio_'+f'{i}'+'_four_scaled'].append(np.mean(globals()['ratio_'+f'{i}_'+f'{ir_powers_four[j]}_scaled']))                    #like ratio_1975_four_scaled  with mean of each ir_powers\n",
        "    globals()['ratio_'+f'{i}'+'_four_scaled']=np.array(globals()['ratio_'+f'{i}'+'_four_scaled'])\n",
        "\n",
        "\n",
        "ratio_green_scaled_four=np.mean(scaled_ratio_green_four)\n",
        "# ratio_975_scaled_four=np.mean(ratio_975_four_scaled)\n",
        "print(f'Ratios from Detector_Scaled PLs: (532nm,{np.round(ratio_green_scaled_four,4)})  (975nm,{np.round(ratio_975_four_scaled,4)})\\n')"
      ]
    },
    {
      "cell_type": "code",
      "execution_count": null,
      "id": "1c92e71f-d51d-4ec6-83ac-54ac064c40d3",
      "metadata": {
        "tags": [],
        "id": "1c92e71f-d51d-4ec6-83ac-54ac064c40d3"
      },
      "outputs": [],
      "source": [
        "fig = go.Figure()\n",
        "\n",
        "# fig = make_subplots(rows=5, cols=1, shared_xaxes=True, vertical_spacing=0.10)\n",
        "# irs = ['975']\n",
        "# for i_ir in irs:\n",
        "#     for j in range(len(ir_powers_four)):\n",
        "#         for i in range(globals()[f'data_{i_ir}_four_scaled_'+f'{ir_powers_four[j]}'].shape[1]-1):\n",
        "#             #with correction\n",
        "#             # fig.add_scatter(x=globals()[f'data_{i_ir}_four_scaled_'+f'{ir_powers_four[j]}'][:,0],y=globals()[f'data_{i_ir}_four_scaled_'+f'{ir_powers_four[j]}'][:,i+1] ,       #like data_1064_four_scaled_100\n",
        "#             #                 name=f'IR_'+f'{ir_powers_four[j]}mW_Green_corrected : {np.round(globals()[f\"power_{i_ir}_four\"][j][i],3)} \\N{greek small letter mu}W',row=j+1, col=1)\n",
        "#             # # #without correction\n",
        "#             fig.add_scatter(x=globals()[f'data_{i_ir}_'+f'{ir_powers_four[j]}'][:,0],y=globals()[f'data_{i_ir}_'+f'{ir_powers_four[j]}'][:,i+1] ,\n",
        "#                             name=f'IR_'+f'{ir_powers_four[j]}mW_Green : {np.round(globals()[f\"power_{i_ir}_four\"][j][i],3)} \\N{greek small letter mu}W',row=j+1, col=1)\n",
        "#             fig.update_xaxes(title_text=f\"Wavelenght\", row=j+1, col=1)\n",
        "#             fig.update_yaxes(title_text=f\"PL_{i_ir}nm_{ir_powers_four[j]}mW\", row=j+1, col=1)\n",
        "# fig.update_layout(height=1300, width=1300,\n",
        "#                   title_text=f\"Detector Scaled Second PL Set of {i_ir}nm\")\n",
        "fig.add_scatter(x=power_green_four,y=scaled_intensity_green_four,name=f'only green four',)\n",
        "for i in range(len(power_975_four)):\n",
        "    fig.add_scatter(x=power_975_four[i],y=intensity_975_four_scaled[i],name=f'975nm power four : {ir_powers_four [i]} mW ',)\n",
        "fig.update_layout(xaxis = dict(title = 'Green Power (\\N{greek small letter mu}W)'),yaxis = dict(title = 'Integrated PL' ))\n",
        "\n",
        "fig"
      ]
    },
    {
      "cell_type": "markdown",
      "id": "8644b32f-fd85-448f-a104-f1c5cc5fe7cd",
      "metadata": {
        "tags": [],
        "id": "8644b32f-fd85-448f-a104-f1c5cc5fe7cd"
      },
      "source": [
        "##### For Errorbars"
      ]
    },
    {
      "cell_type": "code",
      "execution_count": null,
      "id": "43ad114e-b048-4adc-829c-ee0e722c6130",
      "metadata": {
        "tags": [],
        "id": "43ad114e-b048-4adc-829c-ee0e722c6130"
      },
      "outputs": [],
      "source": [
        "fig = go.Figure()\n",
        "for i in range(pl_error.shape[1]-1):\n",
        "    fig.add_scatter(x=pl_error[:,0],y=pl_error[:,i+1],name=f'Number (set1) : {num_error[i]}')\n",
        "    # fig.add_scatter(x=pl_error[:,0],y=pl_error[:,i+1]*np.mean(laser_error)/laser_error[i],name=f'Number (set1) : {num_error[i]}')\n",
        "# for i in range(pl_error2.shape[1]-1):\n",
        "#     fig.add_scatter(x=pl_error2[:,0],y=pl_error2[:,i+1],name=f'Number (after 1min break) : {num_error2[i]}')\n",
        "fig.update_layout(xaxis = dict(title = 'Wavelenght (nm)'),yaxis = dict(title = 'PL of 532nm (2.17A)'))\n",
        "fig"
      ]
    },
    {
      "cell_type": "code",
      "execution_count": null,
      "id": "208dd626-aef2-444c-b018-957f9cc6be37",
      "metadata": {
        "tags": [],
        "id": "208dd626-aef2-444c-b018-957f9cc6be37"
      },
      "outputs": [],
      "source": [
        "fig = go.Figure()\n",
        "fig.add_scatter(x=num_error,y=laser_error,name='integrated laser_error PL',mode=\"markers\")\n",
        "fig.add_scatter(x=num_error,y=intensity_error,name='Integrated PL of errors (set1)',mode=\"markers\",)\n",
        "fig.add_scatter(x=num_error,y=ratio_error,name='ratio of errors (set1)',mode=\"markers\",)\n",
        "fig.add_scatter(x=num_error2,y=intensity_error2,name='Integrated PL of errors (set2)',mode=\"markers\",)\n",
        "fig.add_scatter(x=num_error2,y=ratio_error2,name='ratio of errors (set2)',mode=\"markers\",)\n",
        "fig.show()"
      ]
    },
    {
      "cell_type": "code",
      "execution_count": null,
      "id": "1fb460fd-828c-428c-b511-f871699c8b91",
      "metadata": {
        "tags": [],
        "id": "1fb460fd-828c-428c-b511-f871699c8b91"
      },
      "outputs": [],
      "source": [
        "np.mean(laser_error)"
      ]
    },
    {
      "cell_type": "code",
      "execution_count": null,
      "id": "c0266031-ec32-469d-9b04-c72fe6972e3f",
      "metadata": {
        "tags": [],
        "id": "c0266031-ec32-469d-9b04-c72fe6972e3f"
      },
      "outputs": [],
      "source": [
        "std_error =np.std(intensity_error, ddof=1) /np.mean(intensity_error)"
      ]
    },
    {
      "cell_type": "code",
      "execution_count": null,
      "id": "b35b1484-18ab-4f2c-a571-ddac0adcbb70",
      "metadata": {
        "tags": [],
        "id": "b35b1484-18ab-4f2c-a571-ddac0adcbb70"
      },
      "outputs": [],
      "source": [
        "std_error"
      ]
    },
    {
      "cell_type": "code",
      "execution_count": null,
      "id": "2687a8b4-8f31-47cd-9774-4fea45f07799",
      "metadata": {
        "tags": [],
        "id": "2687a8b4-8f31-47cd-9774-4fea45f07799"
      },
      "outputs": [],
      "source": [
        "hist_error,x_error =np.histogram(intensity_error/np.mean(intensity_error),\n",
        "                             bins=10,range=[0.75,1.15],\n",
        "                            )\n",
        "x_error= fun.moving_average(x_error,2)"
      ]
    },
    {
      "cell_type": "code",
      "execution_count": null,
      "id": "2093ee58-c575-4c77-a59f-42dffc746ae1",
      "metadata": {
        "tags": [],
        "id": "2093ee58-c575-4c77-a59f-42dffc746ae1"
      },
      "outputs": [],
      "source": [
        "fig = go.Figure()\n",
        "fig.add_bar(x=x_error,y=hist_error,name='intensity_error',)\n",
        "fig.show()"
      ]
    },
    {
      "cell_type": "markdown",
      "id": "d4ac7c65-48d7-4258-9f38-6175e727102b",
      "metadata": {
        "tags": [],
        "id": "d4ac7c65-48d7-4258-9f38-6175e727102b"
      },
      "source": [
        "##### Combined set of Data"
      ]
    },
    {
      "cell_type": "code",
      "execution_count": null,
      "id": "abd8cae6-25ca-4411-b600-94620c1a0479",
      "metadata": {
        "id": "abd8cae6-25ca-4411-b600-94620c1a0479"
      },
      "outputs": [],
      "source": [
        "# #detector_scaling\n",
        "scale_set3=fun.detector_scaling(data_green_new_3,power_green_new_3,np.array([528,536]))"
      ]
    },
    {
      "cell_type": "markdown",
      "id": "61f0a796-ae5e-4e37-b16e-f83c4df125cb",
      "metadata": {
        "tags": [],
        "id": "61f0a796-ae5e-4e37-b16e-f83c4df125cb"
      },
      "source": [
        "###### Correction with Green-scale and Detector_scale"
      ]
    },
    {
      "cell_type": "code",
      "execution_count": null,
      "id": "57ddcc50-6aba-448e-b26d-ac450aac586b",
      "metadata": {
        "tags": [],
        "id": "57ddcc50-6aba-448e-b26d-ac450aac586b"
      },
      "outputs": [],
      "source": [
        "# #scaling with refernce to green\n",
        "# ### first window is also taken for scaling\n",
        "intensity_green_new_3=fun.green_scale(intensity_green_new,intensity_green_new_3,power_green_new,power_green_new_3)*intensity_green_new_3\n",
        "# intensity_green_new_2=fun.green_scale(intensity_green_new,intensity_green_new_2,power_green_new,power_green_new_2)*intensity_green_new_2\n",
        "# intensity_green_new_50_20=fun.green_scale(intensity_green_new,intensity_green_new_50_20,power_green_new,power_green_new_50_20)*intensity_green_new_50_20\n",
        "\n",
        "# intensity_975_new_2[3]=fun.green_scale(intensity_green_new,intensity_green_new_3,power_green_new,power_green_new_3)*intensity_975_new_2[3]    ##intensity_green_new_2 is not used\n",
        "# intensity_975_new_2[2]=fun.green_scale(intensity_green_new,intensity_green_new_3,power_green_new,power_green_new_3)*intensity_975_new_2[2]\n",
        "# intensity_975_new_2[1]=fun.green_scale(intensity_green_new,intensity_green_new_50_20,power_green_new,power_green_new_50_20)*intensity_975_new_2[1]\n",
        "# intensity_975_new_2[0]=fun.green_scale(intensity_green_new,intensity_green_new_50_20,power_green_new,power_green_new_50_20)*intensity_975_new_2[0]"
      ]
    },
    {
      "cell_type": "code",
      "execution_count": null,
      "id": "97f014c2-53be-47eb-97f7-88dea1c48aae",
      "metadata": {
        "tags": [],
        "id": "97f014c2-53be-47eb-97f7-88dea1c48aae"
      },
      "outputs": [],
      "source": [
        "# #detector scaling of green\n",
        "# data_green_scaled=np.ones((data_green_new_3.shape))\n",
        "# data_green_scaled[:,0]=data_green_new_3[:,0]\n",
        "# data_green_scaled[:,1:]=data_green_new_3[:,1:]*scale_set3"
      ]
    },
    {
      "cell_type": "code",
      "execution_count": null,
      "id": "2dda1f8e-a190-479c-a5f4-b65cd0952f70",
      "metadata": {
        "tags": [],
        "id": "2dda1f8e-a190-479c-a5f4-b65cd0952f70"
      },
      "outputs": [],
      "source": [
        "# #detector scaling of 1064nm\n",
        "# irs = ['1064']\n",
        "\n",
        "# for i in irs:\n",
        "#     globals()[f'data_{i}_new_scaled']=[]\n",
        "#     for j in range(len(ir_powers_new)):\n",
        "#         globals()[f'scale_set_{i}_{ir_powers_new[j]}'] = fun.interpolation(power_green_new_3,scale_set3, globals()[f'power_{i}_new'][j])\n",
        "#         globals()[f'data_{i}_new_scaled_{ir_powers_new[j]}']=np.ones((globals()[f'data_{i}_new'][j].shape))\n",
        "#         for k in range(len(globals()[f'power_{i}_new'][j])):\n",
        "#             globals()[f'data_{i}_new_scaled_{ir_powers_new[j]}'][:,0]=globals()[f'data_{i}_new'][j][:,0]\n",
        "#             globals()[f'data_{i}_new_scaled_{ir_powers_new[j]}'][:,k+1]=(globals()[f'data_{i}_new'][j][:,k+1]*globals()[f'scale_set_{i}_{ir_powers_new[j]}'][k])   #like data_1064_new_scaled_100\n",
        "#             globals()[f'data_{i}_new_scaled'].append(globals()[f'data_{i}_new_scaled_{ir_powers_new[j]}'])                                                          #like data_1064_new_scaled"
      ]
    },
    {
      "cell_type": "code",
      "execution_count": null,
      "id": "466d7a71-9fc7-4dc8-955a-9d36080adba5",
      "metadata": {
        "tags": [],
        "id": "466d7a71-9fc7-4dc8-955a-9d36080adba5"
      },
      "outputs": [],
      "source": [
        "# #detector scaling of 975nm\n",
        "# irs = ['975']\n",
        "\n",
        "# for i in irs:\n",
        "#     globals()[f'data_{i}_new_scaled']=[]\n",
        "#     for j in range(len(ir_powers_new)-2):  #for 20 and 50mW\n",
        "#         globals()[f'scale_set_{i}_{ir_powers_new[j]}'] = fun.interpolation(power_green_new_3,scale_set3, globals()[f'power_{i}_new'][j])\n",
        "#         globals()[f'data_{i}_new_scaled_{ir_powers_new[j]}']=np.ones((globals()[f'data_{i}_new'][j].shape))\n",
        "#         for k in range(len(globals()[f'power_{i}_new'][j])):\n",
        "#             globals()[f'data_{i}_new_scaled_{ir_powers_new[j]}'][:,0]=globals()[f'data_{i}_new'][j][:,0]\n",
        "#             globals()[f'data_{i}_new_scaled_{ir_powers_new[j]}'][:,k+1]=(globals()[f'data_{i}_new'][j][:,k+1]*globals()[f'scale_set_{i}_{ir_powers_new[j]}'][k])   #like data_975_new_scaled_50\n",
        "#             globals()[f'data_{i}_new_scaled'].append(globals()[f'data_{i}_new_scaled_{ir_powers_new[j]}'])                                                          #like data_975_new_scaled\n",
        "#     for j in range(len(ir_powers_new)-2): #for 70 and 100mW\n",
        "#         j+=2\n",
        "#         globals()[f'scale_set_{i}_{ir_powers_new[j]}'] = fun.interpolation(power_green_new_3,scale_set3, globals()[f'power_{i}_new_2'][j])\n",
        "#         globals()[f'data_{i}_new_scaled_{ir_powers_new[j]}']=np.ones((globals()[f'data_{i}_new_2'][j].shape))\n",
        "#         for k in range(len(globals()[f'power_{i}_new_2'][j])):\n",
        "#             globals()[f'data_{i}_new_scaled_{ir_powers_new[j]}'][:,0]=globals()[f'data_{i}_new_2'][j][:,0]\n",
        "#             globals()[f'data_{i}_new_scaled_{ir_powers_new[j]}'][:,k+1]=(globals()[f'data_{i}_new_2'][j][:,k+1]*globals()[f'scale_set_{i}_{ir_powers_new[j]}'][k])\n",
        "#             globals()[f'data_{i}_new_scaled'].append(globals()[f'data_{i}_new_scaled_{ir_powers_new[j]}'])"
      ]
    },
    {
      "cell_type": "code",
      "execution_count": null,
      "id": "56a420ee-6623-4a01-997d-01838b94489c",
      "metadata": {
        "tags": [],
        "id": "56a420ee-6623-4a01-997d-01838b94489c"
      },
      "outputs": [],
      "source": [
        "# ##Calculating Intensity and Ratios from the DetectorScaled PLs\n",
        "# scaled_intensity_green,scaled_ratio_green = fun.intensity(data_green_scaled,power_green_new_3,cutOff,pl_range=pl_range,dim=2)\n",
        "\n",
        "# irs = ['1064']\n",
        "# for i in irs:\n",
        "#     globals()['intensity_'+f'{i}'+'_new_scaled']=[]\n",
        "#     globals()['ratio_'+f'{i}'+'_new_scaled']=[]\n",
        "#     for j in range(len(ir_powers_new)):\n",
        "#         globals()['intensity_'+f'{i}_'+f'{ir_powers_new[j]}_scaled'] = fun.intensity(globals()[f'data_{i}_new_scaled_{ir_powers_new[j]}'],globals()[f'power_{i}_{ir_powers_new[j]}'],cutOff,pl_range=pl_range,dim=2)[0]        #like : intensity_1064_100_scaled\n",
        "#         globals()['ratio_'+f'{i}_'+f'{ir_powers_new[j]}_scaled'] = fun.intensity(globals()[f'data_{i}_new_scaled_{ir_powers_new[j]}'],globals()[f'power_{i}_{ir_powers_new[j]}'],cutOff,pl_range=pl_range,dim=2)[1]            #like : ratio_1064_100_scaled\n",
        "#         print('ratio_'+f'{i}_'+f'{ir_powers_new[j]}_scaled')\n",
        "#         globals()['intensity_'+f'{i}'+'_new_scaled'].append(globals()['intensity_'+f'{i}_'+f'{ir_powers_new[j]}_scaled'])            #like intensity_1064_new_scaled\n",
        "#         globals()['ratio_'+f'{i}'+'_new_scaled'].append(np.mean(globals()['ratio_'+f'{i}_'+f'{ir_powers_new[j]}_scaled']))                    #like ratio_1064_new_scaled  with mean of each ir_powers\n",
        "#     globals()['ratio_'+f'{i}'+'_new_scaled']=np.array(globals()['ratio_'+f'{i}'+'_new_scaled'])\n",
        "\n",
        "\n",
        "# irs = ['975']\n",
        "# for i in irs:\n",
        "#     globals()['intensity_'+f'{i}'+'_new_scaled']=[]\n",
        "#     globals()['ratio_'+f'{i}'+'_new_scaled']=[]\n",
        "#     for j in range(len(ir_powers_new)-2):\n",
        "#         globals()['intensity_'+f'{i}_'+f'{ir_powers_new[j]}_scaled'] = fun.intensity(globals()[f'data_{i}_new_scaled_{ir_powers_new[j]}'],globals()[f'power_{i}_{ir_powers_new[j]}'],cutOff,pl_range=pl_range,dim=2)[0]        #like : intensity_1064_100_scaled\n",
        "#         globals()['ratio_'+f'{i}_'+f'{ir_powers_new[j]}_scaled'] = fun.intensity(globals()[f'data_{i}_new_scaled_{ir_powers_new[j]}'],globals()[f'power_{i}_{ir_powers_new[j]}'],cutOff,pl_range=pl_range,dim=2)[1]            #like : ratio_1064_100_scaled\n",
        "#         globals()['intensity_'+f'{i}'+'_new_scaled'].append(globals()['intensity_'+f'{i}_'+f'{ir_powers_new[j]}_scaled'])                    #like intensity_1064_new_scaled\n",
        "#         globals()['ratio_'+f'{i}'+'_new_scaled'].append(np.mean(globals()['ratio_'+f'{i}_'+f'{ir_powers_new[j]}_scaled']))                    #like ratio_1064_new_scaled  with mean of each ir_powers\n",
        "#     for j in range(len(ir_powers_new)-2):\n",
        "#         j+=2\n",
        "#         globals()['intensity_'+f'{i}_'+f'{ir_powers_new[j]}_scaled'] = fun.intensity(globals()[f'data_{i}_new_scaled_{ir_powers_new[j]}'],globals()[f'power_{i}_{ir_powers_new[j]}_2'],cutOff,pl_range=pl_range,dim=2)[0]        #like : intensity_1064_100_scaled\n",
        "#         globals()['ratio_'+f'{i}_'+f'{ir_powers_new[j]}_scaled'] = fun.intensity(globals()[f'data_{i}_new_scaled_{ir_powers_new[j]}'],globals()[f'power_{i}_{ir_powers_new[j]}_2'],cutOff,pl_range=pl_range,dim=2)[1]            #like : ratio_1064_100_scaled\n",
        "#         globals()['intensity_'+f'{i}'+'_new_scaled'].append(globals()['intensity_'+f'{i}_'+f'{ir_powers_new[j]}_scaled'])            #like intensity_1064_new_scaled\n",
        "#         globals()['ratio_'+f'{i}'+'_new_scaled'].append(np.mean(globals()['ratio_'+f'{i}_'+f'{ir_powers_new[j]}_scaled']))                    #like ratio_1064_new_scaled  with mean of each ir_powers\n",
        "#     globals()['ratio_'+f'{i}'+'_new_scaled']=np.array(globals()['ratio_'+f'{i}'+'_new_scaled'])"
      ]
    },
    {
      "cell_type": "code",
      "execution_count": null,
      "id": "649c020e-7f9c-413a-ac78-755a245ea4e1",
      "metadata": {
        "tags": [],
        "id": "649c020e-7f9c-413a-ac78-755a245ea4e1"
      },
      "outputs": [],
      "source": [
        "# ratio_green=mean((approx_ratio_green_1,approx_ratio_green,approx_ratio_green_2))\n",
        "# ratio_1064=mean((approx_ratio_1064_1,approx_ratio_1064))\n",
        "# ratio_975=mean((approx_ratio_975_1,approx_ratio_975,approx_ratio_975_2))\n",
        "# ratio_green_scaled=np.mean(scaled_ratio_green)\n",
        "# ratio_1064_scaled=np.mean(ratio_1064_new_scaled)\n",
        "# ratio_975_scaled=np.mean(ratio_975_new_scaled)\n",
        "\n",
        "# print(f'\\nRatios from average of Set1: (532nm,{np.round(approx_ratio_green_1,4)})  (975nm,{np.round(approx_ratio_975_1,4)})  (1064nm,{np.round(approx_ratio_1064_1,4)})\\n')\n",
        "# print(f'Ratios from average of Set2: (532nm,{np.round(approx_ratio_green,4)})  (975nm,{np.round(approx_ratio_975,4)})  (1064nm,{np.round(approx_ratio_1064,4)})\\n')\n",
        "# print(f'Ratios from average of Set3: (532nm,{np.round(approx_ratio_green_2,4)})  (975nm,{np.round(approx_ratio_975_2,4)})\\n')\n",
        "# print(f'Ratios from average of AllSets: (532nm,{np.round(ratio_green,4)})  (975nm,{np.round(ratio_975,4)})  (1064nm,{np.round(ratio_1064,4)})\\n')\n",
        "# print(f'Ratios from Detector_Scaled PLs: (532nm,{np.round(ratio_green_scaled,4)})  (975nm,{np.round(ratio_975_scaled,4)})  (1064nm,{np.round(ratio_1064_scaled,4)})\\n')"
      ]
    },
    {
      "cell_type": "markdown",
      "id": "56335767-f049-486b-90dd-79e83af2ca4a",
      "metadata": {
        "tags": [],
        "id": "56335767-f049-486b-90dd-79e83af2ca4a"
      },
      "source": [
        "###### Corrected Plots"
      ]
    },
    {
      "cell_type": "code",
      "execution_count": null,
      "id": "1bbb63ab-6810-4589-89bc-ce9f8193ac4b",
      "metadata": {
        "tags": [],
        "id": "1bbb63ab-6810-4589-89bc-ce9f8193ac4b"
      },
      "outputs": [],
      "source": [
        "# fig = go.Figure()\n",
        "# for i in range(data_green_new_3.shape[1]-1):\n",
        "#     # fig.add_scatter(x=data_green_new_3[:,0],y=data_green_scaled[:,i+1],name=f'corrected Green power_set3 : {np.round(power_green_new_3[i],3)} \\N{greek small letter mu}W') #with Correction\n",
        "#     fig.add_scatter(x=data_green_new_3[:,0],y=data_green_new_3[:,i+1],name=f'uncorrected Green power_set3 : {np.round(power_green_new_3[i],3)} \\N{greek small letter mu}W')  #without Correction\n",
        "# fig.update_layout(title_text=\"Detector Scaled 532nm PL (Set 3)\")\n",
        "# fig.update_layout(xaxis = dict(title = f\"Wavelenght (\\N{greek small letter lamda})\"),yaxis = dict(title = 'PhotoLuminescence' ))\n",
        "# fig.show()"
      ]
    },
    {
      "cell_type": "code",
      "execution_count": null,
      "id": "b40be03c-4632-41de-a1c8-17ed9bb384ac",
      "metadata": {
        "tags": [],
        "id": "b40be03c-4632-41de-a1c8-17ed9bb384ac"
      },
      "outputs": [],
      "source": [
        "# fig = go.Figure()\n",
        "# fig = make_subplots(rows=4, cols=1, shared_xaxes=True, vertical_spacing=0.10)\n",
        "# irs = ['1064']\n",
        "# for i_ir in irs:\n",
        "#     for j in range(len(ir_powers_new)):\n",
        "#         for i in range(globals()[f'data_{i_ir}_new_scaled_'+f'{ir_powers_new[j]}'].shape[1]-1):\n",
        "#             #with correction\n",
        "#             # fig.add_scatter(x=globals()[f'data_{i_ir}_new_scaled_'+f'{ir_powers_new[j]}'][:,0],y=globals()[f'data_{i_ir}_new_scaled_'+f'{ir_powers_new[j]}'][:,i+1] ,       #like data_1064_new_scaled_100\n",
        "#             #                 name=f'IR_'+f'{ir_powers_new[j]}mW_Green_corrected : {np.round(globals()[f\"power_{i_ir}_new\"][j][i],3)} \\N{greek small letter mu}W',row=j+1, col=1)\n",
        "#             # # #without correction\n",
        "#             fig.add_scatter(x=globals()[f'data_{i_ir}_'+f'{ir_powers_new[j]}'][:,0],y=globals()[f'data_{i_ir}_'+f'{ir_powers_new[j]}'][:,i+1] ,\n",
        "#                             name=f'IR_'+f'{ir_powers_new[j]}mW_Green : {np.round(globals()[f\"power_{i_ir}_new\"][j][i],3)} \\N{greek small letter mu}W',row=j+1, col=1)\n",
        "#             fig.update_xaxes(title_text=f\"Wavelenght\", row=j+1, col=1)\n",
        "#             fig.update_yaxes(title_text=f\"PL_{i_ir}nm_{ir_powers_new[j]}mW\", row=j+1, col=1)\n",
        "# fig.update_layout(height=1300, width=1300,\n",
        "#                   title_text=f\"Detector Scaled Second PL Set of {i_ir}nm\")\n",
        "# fig"
      ]
    },
    {
      "cell_type": "code",
      "execution_count": null,
      "id": "9e580d2b-530c-4d99-b190-6d49a817158d",
      "metadata": {
        "tags": [],
        "id": "9e580d2b-530c-4d99-b190-6d49a817158d"
      },
      "outputs": [],
      "source": [
        "# fig = go.Figure()\n",
        "# fig = make_subplots(rows=4, cols=1, shared_xaxes=True, vertical_spacing=0.10)\n",
        "# irs = ['975']\n",
        "# for i_ir in irs:\n",
        "#     for j in range(len(ir_powers_new)-2):\n",
        "#         for i in range(globals()[f'data_{i_ir}_new_scaled_'+f'{ir_powers_new[j]}'].shape[1]-1):\n",
        "#             #with correction\n",
        "#             # fig.add_scatter(x=globals()[f'data_{i_ir}_new_scaled_'+f'{ir_powers_new[j]}'][:,0],y=globals()[f'data_{i_ir}_new_scaled_'+f'{ir_powers_new[j]}'][:,i+1] ,\n",
        "#             #                 name=f'IR_'+f'{ir_powers_new[j]}mW_Green_corrected : {np.round(globals()[f\"power_{i_ir}_new\"][j][i],3)} \\N{greek small letter mu}W',row=j+1, col=1)\n",
        "#             #without correction  : for 20 and 50mw\n",
        "#             fig.add_scatter(x=globals()[f'data_{i_ir}_'+f'{ir_powers_new[j]}'][:,0],y=globals()[f'data_{i_ir}_'+f'{ir_powers_new[j]}'][:,i+1] ,\n",
        "#                             name=f'IR_'+f'{ir_powers_new[j]}mW_Green : {np.round(globals()[f\"power_{i_ir}_new\"][j][i],3)} \\N{greek small letter mu}W',row=j+1, col=1)\n",
        "#             fig.update_xaxes(title_text=f\"Wavelenght\", row=j+1, col=1)\n",
        "#             fig.update_yaxes(title_text=f\"PL_{i_ir}nm_{ir_powers_new[j]}mW\", row=j+1, col=1)\n",
        "#     for j in range(len(ir_powers_new)-2):\n",
        "#         j+=2\n",
        "#         for i in range(globals()[f'data_{i_ir}_new_scaled_'+f'{ir_powers_new[j]}'].shape[1]-1):\n",
        "#             #with correction\n",
        "#             # fig.add_scatter(x=globals()[f'data_{i_ir}_new_scaled_'+f'{ir_powers_new[j]}'][:,0],y=globals()[f'data_{i_ir}_new_scaled_'+f'{ir_powers_new[j]}'][:,i+1] ,\n",
        "#             #                 name=f'IR_'+f'{ir_powers_new[j]}mW_Green_corrected : {np.round(globals()[f\"power_{i_ir}_new\"][j][i],3)} \\N{greek small letter mu}W',row=j+1, col=1)\n",
        "#             #without correction : for 70 and 100mW\n",
        "#             fig.add_scatter(x=globals()[f'data_{i_ir}_'+f'{ir_powers_new[j]}_2'][:,0],y=globals()[f'data_{i_ir}_'+f'{ir_powers_new[j]}_2'][:,i+1] ,\n",
        "#                             name=f'IR_'+f'{ir_powers_new[j]}mW_Green : {np.round(globals()[f\"power_{i_ir}_new\"][j][i],3)} \\N{greek small letter mu}W',row=j+1, col=1)\n",
        "#             fig.update_xaxes(title_text=f\"Wavelenght\", row=j+1, col=1)\n",
        "#             fig.update_yaxes(title_text=f\"PL_{i_ir}nm_{ir_powers_new[j]}mW\", row=j+1, col=1)\n",
        "# fig.update_layout(height=1300, width=1300,\n",
        "#                   title_text=f\"Detector Scaled Second PL Set of {i_ir}nm\")\n",
        "# fig"
      ]
    },
    {
      "cell_type": "code",
      "execution_count": null,
      "id": "c4516fbe-3dc8-46b2-9718-9663d1ee1b38",
      "metadata": {
        "tags": [],
        "id": "c4516fbe-3dc8-46b2-9718-9663d1ee1b38"
      },
      "outputs": [],
      "source": [
        "# irs=['975']\n",
        "# for i in irs:\n",
        "#     globals()['intensity_'+f'{i}'+'_new_scaled']=[]\n",
        "#     globals()['ratio_'+f'{i}'+'_new_scaled']=[]\n",
        "#     for j in range(len(ir_powers_new)-2):\n",
        "#         globals()['intensity_'+f'{i}_'+f'{ir_powers_new[j]}_scaled'] = fun.intensity(globals()['data_'+f'{i}_new_scaled_'+f'{ir_powers_new[j]}'],globals()['power_'+f'{i}_'+f'{ir_powers_new[j]}'],cutOff,pl_range=pl_range,dim=2)[0]        #like : intensity_975_20_scaled\n",
        "#         globals()['ratio_'+f'{i}_'+f'{ir_powers_new[j]}_scaled'] = fun.intensity(globals()['data_'+f'{i}_new_scaled_'+f'{ir_powers_new[j]}'],globals()['power_'+f'{i}_'+f'{ir_powers_new[j]}'],cutOff,pl_range=pl_range,dim=2)[1]\n",
        "\n",
        "#         globals()['intensity_'+f'{i}'+'_new_scaled'].append(globals()['intensity_'+f'{i}_'+f'{ir_powers_new[j]}'])            #like intensity_975_new_scaled\n",
        "#         globals()['ratio_'+f'{i}'+'_new_scaled'].append(globals()['ratio_'+f'{i}_'+f'{ir_powers_new[j]}'])                    #like ratio_975_new_scaled\n",
        "#     for j in range(len(ir_powers_new)-2):\n",
        "#         j+=2\n",
        "#         globals()['intensity_'+f'{i}_'+f'{ir_powers_new[j]}_scaled'] = fun.intensity(globals()['data_'+f'{i}_new_scaled_'+f'{ir_powers_new[j]}'],globals()['power_'+f'{i}_'+f'{ir_powers_new[j]}_2'],cutOff,pl_range=pl_range,dim=2)[0]        #like : intensity_975_100_scaled\n",
        "#         globals()['ratio_'+f'{i}_'+f'{ir_powers_new[j]}_scaled'] = fun.intensity(globals()['data_'+f'{i}_new_scaled_'+f'{ir_powers_new[j]}'],globals()['power_'+f'{i}_'+f'{ir_powers_new[j]}_2'],cutOff,pl_range=pl_range,dim=2)[1]\n",
        "\n",
        "#         globals()['intensity_'+f'{i}'+'_new_scaled'].append(globals()['intensity_'+f'{i}_'+f'{ir_powers_new[j]}'])            #like intensity_975_new_scaled\n",
        "#         globals()['ratio_'+f'{i}'+'_new_scaled'].append(globals()['ratio_'+f'{i}_'+f'{ir_powers_new[j]}'])                    #like ratio_975_new_scaled"
      ]
    },
    {
      "cell_type": "code",
      "execution_count": null,
      "id": "c4678e93-804d-4d45-991b-24a84147f58a",
      "metadata": {
        "tags": [],
        "id": "c4678e93-804d-4d45-991b-24a84147f58a"
      },
      "outputs": [],
      "source": [
        "power_green_four.shape,laser_four.shape"
      ]
    },
    {
      "cell_type": "code",
      "execution_count": null,
      "id": "e550141d-2e37-443a-b943-b4dfcce18b97",
      "metadata": {
        "tags": [],
        "id": "e550141d-2e37-443a-b943-b4dfcce18b97"
      },
      "outputs": [],
      "source": [
        "# fig = go.Figure()\n",
        "# laser=fun.laser_scaling(data_green_new_3,power_green_new_3,np.array([528,536]))\n",
        "\n",
        "# fig.add_scatter(x=fun.origin(power_green_new_3),y=fun.origin(laser),name='integrated laser PL')\n",
        "# fig.add_scatter(x=fun.origin(power_green_four),y=fun.origin(laser_four),name='integrated laser_four PL')\n",
        "# fig.add_scatter(x=fun.origin(power_green_new_3),y=fun.origin(scale_set3*laser),name='scaled Pl of Laser')\n",
        "# fig.add_scatter(x=fun.origin(power_green_new_3),y=fun.origin(intensity_green_new_3),name='integrated 532nm PL from NV')\n",
        "# fig.add_scatter(x=fun.origin(power_green_new_3),y=fun.origin(scale_set3*intensity_green_new_3),name='scaled 532nm PL of NV')\n",
        "# fig.update_layout(xaxis = dict(title = 'Green Power (\\N{greek small letter mu}W)',range=[0,90]),yaxis = dict(title = 'Integrated PL' ))\n",
        "# fig.show()"
      ]
    },
    {
      "cell_type": "code",
      "execution_count": null,
      "id": "af328ca6-d3e7-40f5-aef3-3ae3b668b32e",
      "metadata": {
        "tags": [],
        "id": "af328ca6-d3e7-40f5-aef3-3ae3b668b32e"
      },
      "outputs": [],
      "source": [
        "# fig = go.Figure()\n",
        "\n",
        "# fig.add_scatter(x=power_green_new,y=intensity_green_new,name='Only Green New (Set 2)',mode=\"markers\",marker=dict( size=8,color='MediumPurple',symbol='circle-open'),opacity=1.0,)\n",
        "# fig.add_scatter(x=power_green_new_3,y=intensity_green_new_3,name='Only Green New_3 (Set 3)',mode=\"markers\",marker=dict( size=6,color='royalblue',symbol='triangle-up'),opacity=0.9,)\n",
        "# fig.add_scatter(x=power_green_new_50_20,y=intensity_green_new_50_20,name='Only Green New_50_20 (Set 3)',mode=\"markers\",marker=dict( size=6,color='LightSkyBlue',symbol='diamond'),opacity=0.8,)\n",
        "# fig.add_scatter(x=fun.origin(power_green_new_3),y=fun.origin(scale_set3*intensity_green_new_3),name='scaled 532nm PL of NV')\n",
        "# # fig.add_scatter(x=power_green_new_2,y=intensity_green_new_2,name='Only Green New_2 (Set 3)(not used)',mode=\"markers\",marker=dict( size=6,color='LightSkyBlue',symbol='star'),opacity=0.5,)\n",
        "\n",
        "# #Set1\n",
        "# # fig.add_scatter(x=greenOnly_powers,y=intensity_green,name='Only Green (Set 1)',opacity=0.5,)\n",
        "# # for i in range(data_1064.shape[0]):\n",
        "# #     fig.add_scatter(x=green_powers,y=intensity_1064[i,:],name=f'1064nm power : {ir_powers[i]} mW ')\n",
        "# #     fig.add_scatter(x=green_powers,y=intensity_975[i,:],name=f'975nm power : {ir_powers[i]} mW ')\n",
        "\n",
        "# #Set2\n",
        "# for i in range(len(power_1064_new)):\n",
        "#     scale_set_1064 = fun.interpolation(power_green_new_3,scale_set3, power_1064_new[i])\n",
        "#     fig.add_scatter(x=fun.origin(power_1064_new[i]),y=fun.origin(intensity_1064_new[i]),name=f'1064nm power (Set 2) : {ir_powers_new[i]} mW ',mode=\"markers\",)\n",
        "#     fig.add_scatter(x=fun.origin(power_1064_new[i]),y=fun.origin(scale_set_1064*intensity_1064_new[i]),name=f'1064nm power (Set 2) scaled: {ir_powers_new[i]} mW ',)\n",
        "#     scale_set_975 = fun.interpolation(power_green_new_3,scale_set3, power_975_new[i])\n",
        "#     fig.add_scatter(x=fun.origin(power_975_new[i]),y=fun.origin(intensity_975_new[i]),name=f'975nm power (Set 2) : {ir_powers_new[i]} mW ',mode=\"markers\",)\n",
        "#     fig.add_scatter(x=fun.origin(power_975_new[i]),y=fun.origin(scale_set_975*intensity_975_new[i]),name=f'975nm power (Set 2) scaled: {ir_powers_new[i]} mW ')\n",
        "\n",
        "\n",
        "# #Set2\n",
        "# # for i in irs:\n",
        "# #     for j in range(len(ir_powers_new)):\n",
        "# #         globals()[f'scale_set_{i}_{ir_powers_new[j]}'] = fun.interpolation(power_green_new_3,scale_set3, globals()[f'power_{i}_new'][j])\n",
        "# #         fig.add_scatter(x=fun.origin(globals()[f'power_{i}_new'][j]),y=fun.origin(globals()[f'intensity_{i}_new'][j]),name=f'{i}nm power (Set 2) : {ir_powers_new[j]} mW ',mode=\"markers\",)\n",
        "# #         fig.add_scatter(x=fun.origin(globals()[f'power_{i}_new'][j]),y=fun.origin(globals()[f'scale_set_{i}_{ir_powers_new[j]}']\\\n",
        "# #\n",
        "\n",
        "# #Set3\n",
        "# for i in range(len(power_975_new_2)):\n",
        "#     scale_set_975_2 = fun.interpolation(power_green_new_3,scale_set3, power_975_new_2[i])\n",
        "#     fig.add_scatter(x=fun.origin(power_975_new_2[i]),y=fun.origin(intensity_975_new_2[i]),name=f'975nm power (Set 3): {ir_powers_new_2[i]} mW ',mode=\"markers\",)\n",
        "#     fig.add_scatter(x=fun.origin(power_975_new_2[i]),y=fun.origin(scale_set_975_2*intensity_975_new_2[i]),name=f'975nm power Scaled (Set 3): {ir_powers_new_2[i]} mW ')\n",
        "\n",
        "# fig.update_layout(xaxis = dict(title = 'Green Power (\\N{greek small letter mu}W)',range=[0,90]),yaxis = dict(title = 'Integrated PL' ))\n",
        "# fig"
      ]
    },
    {
      "cell_type": "markdown",
      "id": "7db3a692-0a66-459e-8e8c-53bb6a63658d",
      "metadata": {
        "tags": [],
        "id": "7db3a692-0a66-459e-8e8c-53bb6a63658d"
      },
      "source": [
        "##### The applicable Plots"
      ]
    },
    {
      "cell_type": "code",
      "execution_count": null,
      "id": "6ea948d5-4003-4174-885c-403ad30f01e4",
      "metadata": {
        "id": "6ea948d5-4003-4174-885c-403ad30f01e4"
      },
      "outputs": [],
      "source": [
        "#detector scaling on the second dataSets by 1064nm lowest power\n",
        "scale_two=fun.detector_scaling(data_1064_new[0],power_1064_new[0],np.array([528,536]))\n",
        "scale_two_green=fun.interpolation(power_1064_new[-1],scale_two,power_green_new)\n",
        "\n",
        "#detector scaling on the fourth dataSets\n",
        "scale_four=fun.detector_scaling(data_green_four,power_green_four,np.array([528,536]))"
      ]
    },
    {
      "cell_type": "code",
      "execution_count": null,
      "id": "510a7db4-08cf-4977-86e5-379cba32a7ce",
      "metadata": {
        "id": "510a7db4-08cf-4977-86e5-379cba32a7ce"
      },
      "outputs": [],
      "source": [
        "fig = go.Figure()\n",
        "laser_two=fun.laser_scaling(data_1064_new[0],power_1064_new[0],np.array([528,536]))\n",
        "laser_four=fun.laser_scaling(data_green_four,power_green_four,np.array([528,536]))\n",
        "\n",
        "fig.add_scatter(x=fun.origin(power_green_new),y=fun.origin(laser_two),name='integrated laser_two PL')\n",
        "fig.add_scatter(x=fun.origin(power_green_four),y=fun.origin(laser_four),name='integrated laser_four PL')\n",
        "fig.add_scatter(x=fun.origin(power_green_new),y=fun.origin(scale_two*laser_two),name='scaled Pl of Laser_two')\n",
        "fig.add_scatter(x=fun.origin(power_green_four),y=fun.origin(scale_four*laser_four),name='scaled Pl of Laser_four')\n",
        "fig.add_scatter(x=fun.origin(power_green_new),y=fun.origin(intensity_green_new),name='integrated 532nm PL from NV_secondSet')\n",
        "fig.add_scatter(x=fun.origin(power_green_new),y=fun.origin(scale_two_green*intensity_green_new),name='scaled 532nm PL of NV_secondSet')\n",
        "fig.add_scatter(x=fun.origin(power_green_four),y=fun.origin(intensity_green_four),name='integrated 532nm PL from NV_fourthSet')\n",
        "fig.add_scatter(x=fun.origin(power_green_four),y=fun.origin(scale_four*intensity_green_four),name='scaled 532nm PL of NV_fourthSet')\n",
        "\n",
        "fig.update_layout(template=fig_template,height=500, width=1300,xaxis = dict(title = 'Green Power (\\N{greek small letter mu}W)',range=[0,90]),yaxis = dict(title = 'Integrated PL' ))\n",
        "fig.show()"
      ]
    },
    {
      "cell_type": "code",
      "execution_count": null,
      "id": "9d8009a2-630b-4ae3-9f24-59bd59fcf378",
      "metadata": {
        "tags": [],
        "id": "9d8009a2-630b-4ae3-9f24-59bd59fcf378"
      },
      "outputs": [],
      "source": [
        "ir_powers_new"
      ]
    },
    {
      "cell_type": "code",
      "execution_count": null,
      "id": "edccea03-c4e0-4cf0-9948-b8281600d299",
      "metadata": {
        "id": "edccea03-c4e0-4cf0-9948-b8281600d299"
      },
      "outputs": [],
      "source": [
        "#green and 1064nm from the Second dataSets\n",
        "fig = go.Figure()\n",
        "\n",
        "# # #uncorrected Plots\n",
        "# fig = make_subplots(rows=5, cols=1, shared_xaxes=True, vertical_spacing=0.10)\n",
        "# for i in range(data_green_new.shape[1]-1):\n",
        "#     fig.add_scatter(x=data_green_new[:,0],y=data_green_new[:,i+1],name=f'Green power : {np.round(power_green_new[i],3)} \\N{greek small letter mu}W',row=1,col=1)\n",
        "#     fig.update_xaxes(title_text='Wavelenght (nm)', row=1, col=1)\n",
        "#     fig.update_yaxes(title_text='PL of 532nm (Second Set)', row=1, col=1)\n",
        "\n",
        "# for j in range(len(ir_powers_new)):\n",
        "#     for i in range(globals()['data_1064_'+f'{ir_powers_new[j]}'].shape[1]-1):\n",
        "#         fig.add_scatter(x=globals()['data_1064_'+f'{ir_powers_new[j]}'][:,0],y=globals()['data_1064_'+f'{ir_powers_new[j]}'][:,i+1] ,\n",
        "#                         name=f'IR_'+f'{ir_powers_new[j]}mW_Green : {np.round(power_1064_new[j][i],3)} \\N{greek small letter mu}W',row=j+2, col=1)\n",
        "#         fig.update_xaxes(title_text=f\"Wavelenght\", row=j+2, col=1)\n",
        "#         fig.update_yaxes(title_text=f\"PL_1064nm_{ir_powers_new[j]}mW\", row=j+2, col=1)\n",
        "# fig.update_layout(height=1300, width=1300,\n",
        "#                   title_text=\"Second PL Set of 1064nm\")\n",
        "\n",
        "#corrected Plots\n",
        "data_green_scaled=np.ones((data_green_new.shape))\n",
        "data_green_scaled[:,0]=data_green_new[:,0]\n",
        "data_green_scaled[:,1:]=data_green_new[:,1:]*scale_two_green\n",
        "\n",
        "irs = ['1064']\n",
        "for i in irs:\n",
        "    globals()[f'data_{i}_new_scaled']=[]\n",
        "    for j in range(len(ir_powers_new)):\n",
        "        globals()[f'scale_set_{i}_{ir_powers_new[j]}'] = fun.interpolation(power_green_new,scale_two_green, globals()[f'power_{i}_new'][j])\n",
        "        globals()[f'data_{i}_new_scaled_{ir_powers_new[j]}']=np.ones((globals()[f'data_{i}_new'][j].shape))\n",
        "        for k in range(len(globals()[f'power_{i}_new'][j])):\n",
        "            globals()[f'data_{i}_new_scaled_{ir_powers_new[j]}'][:,0]=globals()[f'data_{i}_new'][j][:,0]\n",
        "            globals()[f'data_{i}_new_scaled_{ir_powers_new[j]}'][:,k+1]=(globals()[f'data_{i}_new'][j][:,k+1]*globals()[f'scale_set_{i}_{ir_powers_new[j]}'][k])   #like data_1064_new_scaled_100\n",
        "            globals()[f'data_{i}_new_scaled'].append(globals()[f'data_{i}_new_scaled_{ir_powers_new[j]}'])\n",
        "\n",
        "#calculating intensity and ratio from the DetectorScaled PLs for green and 1064nm\n",
        "scaled_intensity_green,scaled_ratio_green = fun.intensity(data_green_scaled,power_green_new,cutOff,pl_range=pl_range,dim=2)\n",
        "\n",
        "irs = ['1064']\n",
        "for i in irs:\n",
        "    globals()['intensity_'+f'{i}'+'_new_scaled']=[]\n",
        "    globals()['ratio_'+f'{i}'+'_new_scaled']=[]\n",
        "    for j in range(len(ir_powers_new)):\n",
        "        globals()['intensity_'+f'{i}_'+f'{ir_powers_new[j]}_scaled'] = fun.intensity(globals()[f'data_{i}_new_scaled_{ir_powers_new[j]}'],globals()[f'power_{i}_{ir_powers_new[j]}'],cutOff,pl_range=pl_range,dim=2)[0]        #like : intensity_1064_100_scaled\n",
        "        globals()['ratio_'+f'{i}_'+f'{ir_powers_new[j]}_scaled'] = fun.intensity(globals()[f'data_{i}_new_scaled_{ir_powers_new[j]}'],globals()[f'power_{i}_{ir_powers_new[j]}'],cutOff,pl_range=pl_range,dim=2)[1]            #like : ratio_1064_100_scaled\n",
        "        print('ratio_'+f'{i}_'+f'{ir_powers_new[j]}_scaled')\n",
        "        globals()['intensity_'+f'{i}'+'_new_scaled'].append(globals()['intensity_'+f'{i}_'+f'{ir_powers_new[j]}_scaled'])            #like intensity_1064_new_scaled\n",
        "        globals()['ratio_'+f'{i}'+'_new_scaled'].append(globals()['ratio_'+f'{i}_'+f'{ir_powers_new[j]}_scaled'])                   #like ratio_1064_new_scaled  with mean of each ir_powers\n",
        "    globals()['ratio_'+f'{i}'+'_new_scaled']=np.array(globals()['ratio_'+f'{i}'+'_new_scaled'])\n",
        "\n",
        "\n",
        "ratio_green_scaled_new=np.mean(scaled_ratio_green)\n",
        "ratio_1064_scaled_new=np.mean(ratio_1064_new_scaled)\n",
        "print(f'Ratios from Detector_Scaled PLs: (532nm,{np.round(scaled_ratio_green,4)}) (532nm_average,{np.round(ratio_green_scaled_new,4)})  (1064nm,{np.round(ratio_1064_new_scaled,4)}) (1064nm_average,{np.round(ratio_1064_scaled_new,4)})\\n')\n",
        "\n",
        "fig = make_subplots(rows=5, cols=1, shared_xaxes=True, vertical_spacing=0.10)\n",
        "for i in range(data_green_new.shape[1]-1):\n",
        "    fig.add_scatter(x=data_green_new[:,0],y=data_green_scaled[:,i+1],name=f'corrected Green power_set2 : {np.round(power_green_new[i],3)} \\N{greek small letter mu}W',row=1, col=1) #with Correction\n",
        "    fig.update_xaxes(title_text='Wavelenght (nm)', row=1, col=1)\n",
        "    fig.update_yaxes(title_text='PL_532nm (Second Set)', row=1, col=1)\n",
        "\n",
        "irs = ['1064']\n",
        "for i_ir in irs:\n",
        "    for j in range(len(ir_powers_new)):\n",
        "        for i in range(globals()[f'data_{i_ir}_new_scaled_'+f'{ir_powers_new[j]}'].shape[1]-1):\n",
        "            #with correction\n",
        "            fig.add_scatter(x=globals()[f'data_{i_ir}_new_scaled_'+f'{ir_powers_new[j]}'][:,0],y=globals()[f'data_{i_ir}_new_scaled_'+f'{ir_powers_new[j]}'][:,i+1] ,       #like data_1064_new_scaled_100\n",
        "                            name=f'IR_'+f'{ir_powers_new[j]}mW_Green_corrected : {np.round(globals()[f\"power_{i_ir}_new\"][j][i],3)} \\N{greek small letter mu}W',row=j+2, col=1)\n",
        "            # # #without correction\n",
        "            # fig.add_scatter(x=globals()[f'data_{i_ir}_'+f'{ir_powers_new[j]}'][:,0],y=globals()[f'data_{i_ir}_'+f'{ir_powers_new[j]}'][:,i+1] ,\n",
        "            #                 name=f'IR_'+f'{ir_powers_new[j]}mW_Green : {np.round(globals()[f\"power_{i_ir}_new\"][j][i],3)} \\N{greek small letter mu}W',row=j+2, col=1)\n",
        "            fig.update_xaxes(title_text=f\"Wavelenght\", row=j+2, col=1)\n",
        "            fig.update_yaxes(title_text=f\"PL_{i_ir}nm_{ir_powers_new[j]}mW\", row=j+2, col=1)\n",
        "fig.update_layout(template=fig_template,height=1300, width=1300,\n",
        "                  title_text=f\"Detector Scaled Second PL Set of Green and {i_ir}nm\")\n",
        "# fig.write_html(\"Second PL Set.html\")\n",
        "fig.show()"
      ]
    },
    {
      "cell_type": "code",
      "execution_count": null,
      "id": "7be7be90-e05d-46f8-a6ff-ee3ce0b1d6c7",
      "metadata": {
        "id": "7be7be90-e05d-46f8-a6ff-ee3ce0b1d6c7"
      },
      "outputs": [],
      "source": [
        "#green and 975nm from the fourth dataSets\n",
        "fig = go.Figure()\n",
        "\n",
        "# #uncorrected Plots\n",
        "# fig = make_subplots(rows=5, cols=1, shared_xaxes=True, vertical_spacing=0.10)\n",
        "# for i in range(data_green_four.shape[1]-1):\n",
        "#     fig.add_scatter(x=data_green_four[:,0],y=data_green_four[:,i+1],name=f'Green power : {np.round(power_green_four[i],3)} \\N{greek small letter mu}W', row=1, col=1)\n",
        "#     fig.update_xaxes(title_text='Wavelenght (nm)', row=1, col=1)\n",
        "#     fig.update_yaxes(title_text='PL of 532nm (Second Set)', row=1, col=1)\n",
        "\n",
        "\n",
        "# for j in range(len(ir_powers_four)):\n",
        "#     for i in range(globals()['data_975_'+f'{ir_powers_four[j]}'].shape[1]-1):\n",
        "#         fig.add_scatter(x=globals()['data_975_'+f'{ir_powers_four[j]}'][:,0],y=globals()['data_975_'+f'{ir_powers_four[j]}'][:,i+1],\n",
        "#                         name=f'IR_'+f'{ir_powers_four[j]}mW_Green : {np.round(power_975_four[j][i],3)} \\N{greek small letter mu}W', row=j+2, col=1)\n",
        "#         fig.update_xaxes(title_text=f\"Wavelenght\", row=j+2, col=1)\n",
        "#         fig.update_yaxes(title_text=f\"PL_975nm_{ir_powers_four[j]}mW\", row=j+2, col=1)\n",
        "# fig.update_layout(height=1300, width=1300,\n",
        "#                   title_text=\"Second PL Set of 975nm\")\n",
        "\n",
        "#corrected plots\n",
        "data_green_scaled_four=np.ones((data_green_four.shape))\n",
        "data_green_scaled_four[:,0]=data_green_four[:,0]\n",
        "data_green_scaled_four[:,1:]=data_green_four[:,1:]*scale_four\n",
        "\n",
        "irs = ['975']\n",
        "for i in irs:\n",
        "    globals()[f'data_{i}_four_scaled']=[]\n",
        "    for j in range(len(ir_powers_four)):\n",
        "        globals()[f'scale_set_{i}_{ir_powers_four[j]}'] = fun.interpolation(power_green_four,scale_four, globals()[f'power_{i}_four'][j])\n",
        "        globals()[f'data_{i}_four_scaled_{ir_powers_four[j]}']=np.ones((globals()[f'data_{i}_four'][j].shape))\n",
        "        for k in range(len(globals()[f'power_{i}_four'][j])):\n",
        "            globals()[f'data_{i}_four_scaled_{ir_powers_four[j]}'][:,0]=globals()[f'data_{i}_four'][j][:,0]\n",
        "            globals()[f'data_{i}_four_scaled_{ir_powers_four[j]}'][:,k+1]=(globals()[f'data_{i}_four'][j][:,k+1]*globals()[f'scale_set_{i}_{ir_powers_four[j]}'][k])   #like data_975_four_scaled_100\n",
        "            globals()[f'data_{i}_four_scaled'].append(globals()[f'data_{i}_four_scaled_{ir_powers_four[j]}'])                                                          #like data_975_four_scaled\n",
        "\n",
        "\n",
        "##Calculating Intensity and Ratios from the DetectorScaled PLs for green and 975nm\n",
        "scaled_intensity_green_four,scaled_ratio_green_four = fun.intensity(data_green_scaled_four,power_green_four,cutOff,pl_range=pl_range,dim=2)\n",
        "\n",
        "irs = ['975']\n",
        "for i in irs:\n",
        "    globals()['intensity_'+f'{i}'+'_four_scaled']=[]\n",
        "    globals()['ratio_'+f'{i}'+'_four_scaled']=[]\n",
        "    for j in range(len(ir_powers_four)):\n",
        "        globals()['intensity_'+f'{i}_'+f'{ir_powers_four[j]}_scaled'] = fun.intensity(globals()[f'data_{i}_four_scaled_{ir_powers_four[j]}'],globals()[f'power_{i}_{ir_powers_four[j]}'],cutOff,pl_range=pl_range,dim=2)[0]        #like : intensity_975_100_scaled\n",
        "        globals()['ratio_'+f'{i}_'+f'{ir_powers_four[j]}_scaled'] = fun.intensity(globals()[f'data_{i}_four_scaled_{ir_powers_four[j]}'],globals()[f'power_{i}_{ir_powers_four[j]}'],cutOff,pl_range=pl_range,dim=2)[1]            #like : ratio_975_100_scaled\n",
        "        print('ratio_'+f'{i}_'+f'{ir_powers_four[j]}_scaled')\n",
        "        globals()['intensity_'+f'{i}'+'_four_scaled'].append(globals()['intensity_'+f'{i}_'+f'{ir_powers_four[j]}_scaled'])            #like intensity_975_four_scaled\n",
        "        globals()['ratio_'+f'{i}'+'_four_scaled'].append(globals()['ratio_'+f'{i}_'+f'{ir_powers_four[j]}_scaled'])                    #like ratio_975_four_scaled  with mean of each ir_powers\n",
        "    globals()['ratio_'+f'{i}'+'_four_scaled']=np.array(globals()['ratio_'+f'{i}'+'_four_scaled'])\n",
        "\n",
        "\n",
        "ratio_green_scaled_four=np.mean(scaled_ratio_green_four)\n",
        "ratio_975_scaled_four=np.mean(ratio_975_four_scaled)\n",
        "ratio_green_unscaled_four=np.mean([ratio_green_four])\n",
        "ratio_975_unscaled_four=np.mean(ratio_975_four)\n",
        "print(f'Ratios from Detector_unScaled PLs: (532nm,{np.round(scaled_ratio_green_four,4)}) (532nm_average,{np.round(ratio_green_unscaled_four,4)})  \\n(975nm,{np.round(ratio_975_four,4)}) (975nm_average,{np.round(ratio_975_unscaled_four,4)})\\n')\n",
        "print(f'Ratios from Detector_Scaled PLs: (532nm,{np.round(ratio_green_scaled_four,4)})  \\n(975nm,{np.round(ratio_975_four_scaled,4)}) (975nm_average,{np.round(ratio_975_scaled_four,4)})\\n')\n",
        "\n",
        "fig = make_subplots(rows=5, cols=1, shared_xaxes=True, vertical_spacing=0.10)\n",
        "for i in range(data_green_four.shape[1]-1):\n",
        "    fig.add_scatter(x=data_green_four[:,0],y=data_green_scaled_four[:,i+1],name=f'corrected Green power_set4 : {np.round(power_green_four[i],3)} \\N{greek small letter mu}W', row=1, col=1) #with Correction\n",
        "    fig.update_xaxes(title_text='Wavelenght (nm)', row=1, col=1)\n",
        "    fig.update_yaxes(title_text='PL_532nm (Second Set)', row=1, col=1)\n",
        "\n",
        "irs = ['975']\n",
        "for i_ir in irs:\n",
        "    for j in range(len(ir_powers_four)):\n",
        "        for i in range(globals()[f'data_{i_ir}_four_scaled_'+f'{ir_powers_four[j]}'].shape[1]-1):\n",
        "            #with correction\n",
        "            fig.add_scatter(x=globals()[f'data_{i_ir}_four_scaled_'+f'{ir_powers_four[j]}'][:,0],y=globals()[f'data_{i_ir}_four_scaled_'+f'{ir_powers_four[j]}'][:,i+1] ,       #like data_975_four_scaled_100\n",
        "                            name=f'IR_'+f'{ir_powers_four[j]}mW_Green_corrected : {np.round(globals()[f\"power_{i_ir}_four\"][j][i],3)} \\N{greek small letter mu}W',row=j+2, col=1)\n",
        "            # # #without correction\n",
        "            # fig.add_scatter(x=globals()[f'data_{i_ir}_'+f'{ir_powers_four[j]}'][:,0],y=globals()[f'data_{i_ir}_'+f'{ir_powers_four[j]}'][:,i+1] ,\n",
        "            #                 name=f'IR_'+f'{ir_powers_four[j]}mW_Green : {np.round(globals()[f\"power_{i_ir}_four\"][j][i],3)} \\N{greek small letter mu}W',row=j+2, col=1)\n",
        "            fig.update_xaxes(title_text=f\"Wavelenght\", row=j+2, col=1)\n",
        "            fig.update_yaxes(title_text=f\"PL_{i_ir}nm_{ir_powers_four[j]}mW\", row=j+2, col=1)\n",
        "fig.update_layout(template=fig_template,height=1300, width=1300,\n",
        "                  title_text=f\"Detector Scaled Fourth PL Set of Green and {i_ir}nm\")\n",
        "\n",
        "# fig.write_html(\"Fourth PL Set.html\")\n",
        "fig.show()"
      ]
    },
    {
      "cell_type": "code",
      "execution_count": null,
      "id": "8f453395-5491-4f6c-9c86-7057fb4f0aaf",
      "metadata": {
        "tags": [],
        "id": "8f453395-5491-4f6c-9c86-7057fb4f0aaf"
      },
      "outputs": [],
      "source": [
        "np.mean(np.round(ratio_975_four,4),axis=1)"
      ]
    },
    {
      "cell_type": "code",
      "execution_count": null,
      "id": "abfa89fe-db16-4784-8cd7-2bf61adcfc4c",
      "metadata": {
        "tags": [],
        "id": "abfa89fe-db16-4784-8cd7-2bf61adcfc4c"
      },
      "outputs": [],
      "source": [
        "np.mean(np.round(ratio_1064_new_scaled,4),axis=1)"
      ]
    },
    {
      "cell_type": "code",
      "execution_count": null,
      "id": "e221566b-cee7-4a7f-8e9e-34c66eb3b42e",
      "metadata": {
        "id": "e221566b-cee7-4a7f-8e9e-34c66eb3b42e"
      },
      "outputs": [],
      "source": [
        "# # #green scaling to match both the references\n",
        "scale_four_two = fun.green_scale(scaled_intensity_green,scaled_intensity_green_four,power_green_new,power_green_four)\n",
        "\n",
        "# rescaled_intensity_green_four=scale_four_two*scaled_intensity_green_four\n",
        "# intensity_975_four_rescaled=np.ones((np.shape(intensity_975_four_scaled)))\n",
        "# for i in range(len(intensity_975_four_scaled)):\n",
        "#     intensity_975_four_rescaled[i]=scale_four_two*intensity_975_four_scaled[i]"
      ]
    },
    {
      "cell_type": "code",
      "execution_count": null,
      "id": "31f95a6b-ab59-42f8-b2dc-08dd5eefbc82",
      "metadata": {
        "tags": [],
        "id": "31f95a6b-ab59-42f8-b2dc-08dd5eefbc82"
      },
      "outputs": [],
      "source": [
        "# # #green scaling to match both the references\n",
        "green_scale_four_two=scaled_intensity_green/scaled_intensity_green_four\n",
        "\n",
        "rescaled_intensity_green_four=green_scale_four_two*scaled_intensity_green_four\n",
        "intensity_975_four_rescaled=np.ones((np.shape(intensity_975_four_scaled)))\n",
        "for i in range(len(intensity_975_four_scaled)):\n",
        "    intensity_975_four_rescaled[i]=green_scale_four_two*intensity_975_four_scaled[i]"
      ]
    },
    {
      "cell_type": "code",
      "execution_count": null,
      "id": "95697181-8fad-4fb7-9419-6f23e0ccce0d",
      "metadata": {
        "tags": [],
        "id": "95697181-8fad-4fb7-9419-6f23e0ccce0d"
      },
      "outputs": [],
      "source": [
        "green_scale_four_two,scale_four_two"
      ]
    },
    {
      "cell_type": "code",
      "execution_count": null,
      "id": "74b8ef49-795f-4ab3-bff2-4a38218b4ad8",
      "metadata": {
        "tags": [],
        "id": "74b8ef49-795f-4ab3-bff2-4a38218b4ad8"
      },
      "outputs": [],
      "source": [
        "green4_ref_correct = scaled_intensity_green/rescaled_intensity_green_four"
      ]
    },
    {
      "cell_type": "code",
      "execution_count": null,
      "id": "4642c167-20f3-48f8-befe-75dbf0aa8774",
      "metadata": {
        "tags": [],
        "id": "4642c167-20f3-48f8-befe-75dbf0aa8774"
      },
      "outputs": [],
      "source": [
        "green4_ref_correct,green_scale_four_two"
      ]
    },
    {
      "cell_type": "code",
      "execution_count": null,
      "id": "40ae534d-1de8-40ae-9fe8-051f5979626a",
      "metadata": {
        "id": "40ae534d-1de8-40ae-9fe8-051f5979626a"
      },
      "outputs": [],
      "source": [
        "fig = go.Figure()\n",
        "\n",
        "overall_green_intensity=(scaled_intensity_green+rescaled_intensity_green_four)/2.0\n",
        "\n",
        "fig.add_scatter(x=fun.origin(power_green_new),y=fun.origin(scaled_intensity_green),name='Only Green Two',)\n",
        "# fig.add_scatter(x=fun.origin(power_green_new_3),y=fun.origin(scale_set3*intensity_green_new_3),name='Only Green Three')\n",
        "fig.add_scatter(x=fun.origin(power_green_four),y=fun.origin(rescaled_intensity_green_four),name='Only Green four',)\n",
        "# fig.add_scatter(x=fun.origin(power_green_four),y=fun.origin(overall_green_intensity),name='overall_green_intensity',)\n",
        "for i in range(len(power_975_four)):\n",
        "    # fig.add_scatter(x=fun.origin(power_1064_new[i]),y=fun.origin(intensity_1064_new[i]),name=f'1064nm power two : {ir_powers_new [i]} mW ',)\n",
        "    fig.add_scatter(x=fun.origin(power_975_four[i]),y=fun.origin(green4_ref_correct*intensity_975_four_rescaled[i]),name=f'975nm power four : {ir_powers_four [i]} mW ',)\n",
        "    # scale_set_975_2 = fun.interpolation(power_green_new_3,scale_set3, power_975_new_2[i])\n",
        "    # fig.add_scatter(x=fun.origin(power_975_new_2[i]),y=fun.origin(scale_set_975_2*intensity_975_new_2[i]),name=f'975nm power Three: {ir_powers_new_2[i]} mW ')\n",
        "fig.update_layout(xaxis = dict(title = 'Green Power (\\N{greek small letter mu}W)'),yaxis = dict(title = 'Integrated PL' ))\n",
        "fig.update_layout(template=fig_template,height=500, width=1300,\n",
        "                  title_text=f\"Integrated PL Set of Green and IRs\")\n",
        "\n",
        "# fig.write_html(\"IntegratedPL_GreenPower.html\")\n",
        "fig.show()"
      ]
    },
    {
      "cell_type": "markdown",
      "id": "d0732ca5-3a3d-4fbf-9b62-7ab1f3928734",
      "metadata": {
        "tags": [],
        "id": "d0732ca5-3a3d-4fbf-9b62-7ab1f3928734"
      },
      "source": [
        "### The <span style= 'color: Green'> $\\textbf{Modeling}$ </span>"
      ]
    },
    {
      "cell_type": "markdown",
      "id": "bba4f138",
      "metadata": {
        "id": "bba4f138",
        "tags": []
      },
      "source": [
        "#### The Evolution matrix"
      ]
    },
    {
      "cell_type": "code",
      "execution_count": null,
      "id": "5b8fce11",
      "metadata": {
        "id": "5b8fce11",
        "tags": []
      },
      "outputs": [],
      "source": [
        "r1,r1_p,r2,r2_p,alpha1,alpha2,k1,k2,beta1,beta2,l1,l2,gamma1,gamma2,delta,I_g,IR_1064,IR_975= sympy.symbols('r1 r1_p r2 r2_p alpha1 alpha2 k1 k2 beta1 beta2 l1 l2 gamma1 gamma2 delta I_g IR_1064 IR_975')\n",
        "sympy_matrix = sympy.Matrix([[(-(r1*I_g)-(k1*IR_1064*IR_1064)-(l1*IR_975*IR_975)-(delta*IR_975*IR_975)),r1_p,0,(alpha2*I_g+beta2*IR_1064+gamma2*IR_975),0],[(r1*I_g+(k1*IR_1064*IR_1064)+(l1*IR_975*IR_975)),(-alpha1*I_g-r1_p-beta1*IR_1064-gamma1*IR_975),0,0,0],[delta*IR_975*IR_975,(alpha1*I_g+beta1*IR_1064+gamma1*IR_975),(-r2*I_g-(k2*IR_1064*IR_1064)-(l2*IR_975*IR_975)),r2_p,0],[0,0,(r2*I_g+(k2*IR_1064*IR_1064)+(l2*IR_975*IR_975)),(-alpha2*I_g-r2_p-beta2*IR_1064-gamma2*IR_975),0],[1,1,1,1,-1]])\n",
        "sympy_matrix"
      ]
    },
    {
      "cell_type": "markdown",
      "id": "d85ed679",
      "metadata": {
        "id": "d85ed679",
        "tags": []
      },
      "source": [
        "#### Finding the States"
      ]
    },
    {
      "cell_type": "code",
      "execution_count": null,
      "id": "327d70f6-1063-470c-a765-59e78bc8b2ed",
      "metadata": {
        "tags": [],
        "id": "327d70f6-1063-470c-a765-59e78bc8b2ed"
      },
      "outputs": [],
      "source": [
        "print(f'Ratios from Detector_Scaled PLs: (532nm,{np.round(ratio_green_scaled_new,4)})  (975nm,{np.round(ratio_975_scaled_four,4)})  (1064nm,{np.round(ratio_1064_scaled_new,4)})\\n')"
      ]
    },
    {
      "cell_type": "code",
      "execution_count": null,
      "id": "1c400147-0e81-4605-878e-82543f7bfc38",
      "metadata": {
        "id": "1c400147-0e81-4605-878e-82543f7bfc38"
      },
      "outputs": [],
      "source": [
        "2.1632*0.000280/1.27"
      ]
    },
    {
      "cell_type": "code",
      "execution_count": null,
      "id": "3163f12b-ceeb-492c-b973-5f7768ac81d8",
      "metadata": {
        "tags": [],
        "id": "3163f12b-ceeb-492c-b973-5f7768ac81d8"
      },
      "outputs": [],
      "source": [
        "#To calculate the states for green\n",
        "power_g = np.linspace(40,90,10)\n",
        "# power_g=power_green_new\n",
        "r1_r1p=np.linspace(0.002,0.002,1)\n",
        "alpha1=np.linspace(0.007,0.007,1)\n",
        "# alpha1=500*np.linspace(0.0065,0.0065,1)\n",
        "# alpha2_alpha1 = np.linspace(scaled_ratio_green[0],scaled_ratio_green[0],1)\n",
        "alpha2_alpha1 = np.linspace(2.1632,2.1632,1)\n",
        "\n",
        "laser_green = np.ones((len(r1_r1p),len(alpha1),len(alpha2_alpha1),len(power_g),5))\n",
        "ionization_green =np.ones((len(r1_r1p),len(alpha1),len(alpha2_alpha1),len(power_g)))\n",
        "recombination_green2=np.ones((len(r1_r1p),len(alpha1),len(alpha2_alpha1),len(power_g)))\n",
        "ionization_green2 =np.ones((len(r1_r1p),len(alpha1),len(alpha2_alpha1),len(power_g)))\n",
        "recombination_green=np.ones((len(r1_r1p),len(alpha1),len(alpha2_alpha1),len(power_g)))\n",
        "rec_ion_ratio_green=np.ones((len(r1_r1p),len(alpha1),len(alpha2_alpha1),len(power_g)))\n",
        "rec_ion_ratio_green2=np.ones((len(r1_r1p),len(alpha1),len(alpha2_alpha1),len(power_g)))\n",
        "\n",
        "chi_green = np.ones((len(r1_r1p),len(alpha2_alpha1)))\n",
        "\n",
        "guess = np.array([1,0,0,0,0])\n",
        "check = np.zeros(5,dtype= float)\n",
        "\n",
        "print(f'Power\\t r1_ratio\\t alpha1\\t alpha_ratio\\t ionization\\t rec_ion_ratio\\t g1\\t\\t e1\\t\\t g2\\t\\t e2')\n",
        "#loop for only green\n",
        "for i_alpha1 in range(len(alpha1)):\n",
        "    for i_r1_r1p in range(len(r1_r1p)):\n",
        "        for i_alpha in range(len(alpha2_alpha1)):\n",
        "            ir = 0\n",
        "            for i in range(len(power_g)):\n",
        "                    r2_r2p=r1_r1p[i_r1_r1p]*(21.0/12.0)\n",
        "                    coff = np.array([r1_r1p[i_r1_r1p],r2_r2p,alpha1[i_alpha1],alpha2_alpha1[i_alpha]])    #### first Knob\n",
        "                    power = np.array([power_g[i],0,0])\n",
        "                    laser_green[i_r1_r1p,i_alpha1,i_alpha,i,:] = fsolve(fun.state_green,guess,args = (power,coff))\n",
        "\n",
        "                    nr1,nr1_p,nr2,nr2_p,nalpha1,nalpha2=fun.cof(*power,coff)[0:6]\n",
        "                    ionization_green[i_r1_r1p,i_alpha1,i_alpha,i]=fun.ion(power_g[i],laser_green[i_r1_r1p,i_alpha1,i_alpha,i,0],laser_green[i_r1_r1p,i_alpha1,i_alpha,i,1],nr1,nr1_p,nalpha1)\n",
        "                    recombination_green[i_r1_r1p,i_alpha1,i_alpha,i]=fun.rec(power_g[i],laser_green[i_r1_r1p,i_alpha1,i_alpha,i,2],laser_green[i_r1_r1p,i_alpha1,i_alpha,i,3],nr2,nr2_p,nalpha2)\n",
        "                    ionization_green2[i_r1_r1p,i_alpha1,i_alpha,i]=fun.ion2(power_g[i],laser_green[i_r1_r1p,i_alpha1,i_alpha,i,0],laser_green[i_r1_r1p,i_alpha1,i_alpha,i,1],nr1,nr1_p,nalpha1)\n",
        "                    recombination_green2[i_r1_r1p,i_alpha1,i_alpha,i]=fun.rec2(power_g[i],laser_green[i_r1_r1p,i_alpha1,i_alpha,i,2],laser_green[i_r1_r1p,i_alpha1,i_alpha,i,3],nr2,nr2_p,nalpha2)\n",
        "                    rec_ion_ratio_green[i_r1_r1p,i_alpha1,i_alpha,i]=recombination_green[i_r1_r1p,i_alpha1,i_alpha,i]/ionization_green[i_r1_r1p,i_alpha1,i_alpha,i]\n",
        "                    rec_ion_ratio_green2[i_r1_r1p,i_alpha1,i_alpha,i]=recombination_green2[i_r1_r1p,i_alpha1,i_alpha,i]/ionization_green2[i_r1_r1p,i_alpha1,i_alpha,i]\n",
        "\n",
        "                    print(f'{np.round(power_g[i],3)}\\t {np.round(r1_r1p[i_r1_r1p],3)}\\t {np.round(alpha1[i_alpha1],4)}\\t{np.round(alpha2_alpha1[i_alpha],3)}\\t'+\\\n",
        "                          f'\\t {np.round(ionization_green[i_r1_r1p,i_alpha1,i_alpha,i],7)}\\t {np.round(rec_ion_ratio_green[i_r1_r1p,i_alpha1,i_alpha,i],7)}\\t\\t'\\\n",
        "                         +f'{np.round(laser_green[i_r1_r1p,i_alpha1,i_alpha,i,0],7)}\\t{np.round(laser_green[i_r1_r1p,i_alpha1,i_alpha,i,1],7)}\\t{np.round(laser_green[i_r1_r1p,i_alpha1,i_alpha,i,2],7)}\\t{np.round(laser_green[i_r1_r1p,i_alpha1,i_alpha,i,3],7)}')\n",
        "\n",
        "print(f'\\nIon_Rec rate from Simulation : { rec_ion_ratio_green}\\n Recombination : {recombination_green}')\n",
        "pl_green = (np.squeeze(laser_green)[:,1]*1e3*(1/12)+np.squeeze(laser_green)[:,3]*1e3*(1/12)*(12.0/21.0))\n",
        "ratio_green_simul = (np.squeeze(laser_green)[:,1]*1e3*(1/12))/(np.squeeze(laser_green)[:,3]*1e3*(1/12)*(12.0/21.0))\n",
        "print(f'\\nRatios from Exp : {np.mean(scaled_ratio_green)}\\nfrom Simulation : { ratio_green_simul}')\n",
        "                    # print(np.sum(laser_green[i_alpha,g,0:-1]))\n",
        "                    # verification = np.isclose(fun.state_green(laser_green[i_alpha,g,:],*(power,coff)), check)  # verification of the roots\n",
        "                    # print(verification)\n",
        "# chi_green[i_alpha] = fun.chi_sqr(fun.organize(intensity_green,'i',2),fun.organize(laser_green[i_alpha,:,1] + laser_green[i_alpha,:,3],'j',2))"
      ]
    },
    {
      "cell_type": "code",
      "execution_count": null,
      "id": "6792bf0c-3e41-4d91-8dae-d6f5bba726dd",
      "metadata": {
        "jupyter": {
          "source_hidden": true
        },
        "tags": [],
        "id": "6792bf0c-3e41-4d91-8dae-d6f5bba726dd"
      },
      "outputs": [],
      "source": [
        "e1_norm = np.squeeze(laser_green)[:,1]/(np.squeeze(laser_green)[:,1]+np.squeeze(laser_green)[:,0])"
      ]
    },
    {
      "cell_type": "code",
      "execution_count": null,
      "id": "8ba42338-7e73-42b1-a51e-8f17f982c154",
      "metadata": {
        "jupyter": {
          "source_hidden": true
        },
        "tags": [],
        "id": "8ba42338-7e73-42b1-a51e-8f17f982c154"
      },
      "outputs": [],
      "source": [
        "fig = go.Figure()\n",
        "fig.add_scatter(x=power_g,y=e1_norm,mode=\"markers\",name='Normalized excited state population')\n",
        "fig.add_scatter(x=power_g,y=power_g*0.074/40,mode=\"lines\",)\n",
        "fig.add_scatter(x=power_g,y=np.squeeze(laser_green)[:,1],mode=\"markers\",)\n",
        "fig.add_scatter(x=power_g,y=(np.squeeze(laser_green)[:,1]+np.squeeze(laser_green)[:,0]),mode=\"markers\",)\n",
        "fig.add_scatter(x=power_g,y=(np.squeeze(laser_green)[:,2]+np.squeeze(laser_green)[:,3]),mode=\"markers\",)\n",
        "fig.add_scatter(x=power_g,y=(np.squeeze(laser_green)[:,1]+np.squeeze(laser_green)[:,0])/(np.squeeze(laser_green)[:,2]+np.squeeze(laser_green)[:,3]),mode=\"markers\",)\n",
        "fig.add_scatter(x=power_g,y=(np.squeeze(laser_green)[:,1])/(np.squeeze(laser_green)[:,3]),mode=\"markers\",)\n",
        "# fig.add_scatter(x=power_g,y=power_g*0.219/40,mode=\"lines\",)\n",
        "\n",
        "fig.update_layout(height=500,width=500)"
      ]
    },
    {
      "cell_type": "code",
      "execution_count": null,
      "id": "975e4cf2-ab86-4afe-ab56-81f83e7dce7f",
      "metadata": {
        "jupyter": {
          "source_hidden": true
        },
        "tags": [],
        "id": "975e4cf2-ab86-4afe-ab56-81f83e7dce7f"
      },
      "outputs": [],
      "source": [
        "25*1e-6*power_g**2,60*1e-6*power_g**2"
      ]
    },
    {
      "cell_type": "code",
      "execution_count": null,
      "id": "3e0c4f71-094e-4f36-b087-790a9a5922e2",
      "metadata": {
        "jupyter": {
          "source_hidden": true
        },
        "tags": [],
        "id": "3e0c4f71-094e-4f36-b087-790a9a5922e2"
      },
      "outputs": [],
      "source": [
        "scaled_ratio_green"
      ]
    },
    {
      "cell_type": "code",
      "execution_count": null,
      "id": "606e2d1f-dc94-46c6-9391-ebb0661cdbb0",
      "metadata": {
        "tags": [],
        "id": "606e2d1f-dc94-46c6-9391-ebb0661cdbb0"
      },
      "outputs": [],
      "source": [
        "pl_factor = np.mean(scaled_intensity_green)/(np.mean(pl_green))"
      ]
    },
    {
      "cell_type": "code",
      "execution_count": null,
      "id": "4ca34e6a-3401-478d-9115-add5e48aca94",
      "metadata": {
        "tags": [],
        "id": "4ca34e6a-3401-478d-9115-add5e48aca94"
      },
      "outputs": [],
      "source": [
        "fig = go.Figure()\n",
        "pl_green_1 = pl_green*pl_factor\n",
        "fig.add_scatter(x=fun.origin(power_g),y=fun.origin(pl_green_1),mode=\"lines\",name='Simulated: 532nm')\n",
        "fig.add_scatter(x=fun.origin(power_green_new),y=fun.origin(scaled_intensity_green),mode=\"markers\",name='Only Green Two',)\n",
        "fig.update_layout(xaxis = dict(title = 'Green Powers (\\N{greek small letter mu}W)'),yaxis = dict(title = 'Integrated PL'))"
      ]
    },
    {
      "cell_type": "code",
      "execution_count": null,
      "id": "0292c781-4732-4bef-abc9-8ae7d61a9d3b",
      "metadata": {
        "tags": [],
        "id": "0292c781-4732-4bef-abc9-8ae7d61a9d3b"
      },
      "outputs": [],
      "source": [
        "#taking the maximum power(100mW) to get the ratio as here 1064nm is prominent and the decreasing trend is also most apparant\n",
        "ratio_1064_new_scaled"
      ]
    },
    {
      "cell_type": "code",
      "execution_count": null,
      "id": "fdb06fcc-4069-437d-b663-148c7d4747c6",
      "metadata": {
        "tags": [],
        "id": "fdb06fcc-4069-437d-b663-148c7d4747c6"
      },
      "outputs": [],
      "source": [
        "2.2*1.4"
      ]
    },
    {
      "cell_type": "code",
      "execution_count": null,
      "id": "52bd438e-86c3-4d81-867a-69a1bb2c9878",
      "metadata": {
        "tags": [],
        "id": "52bd438e-86c3-4d81-867a-69a1bb2c9878"
      },
      "outputs": [],
      "source": [
        "power_g"
      ]
    },
    {
      "cell_type": "code",
      "execution_count": null,
      "id": "97fb75cf-e844-4ecd-a87f-46111150ac26",
      "metadata": {
        "tags": [],
        "id": "97fb75cf-e844-4ecd-a87f-46111150ac26"
      },
      "outputs": [],
      "source": [
        "1/1.27"
      ]
    },
    {
      "cell_type": "code",
      "execution_count": null,
      "id": "93c27624-4662-4d11-ac5c-33e1f98f24a1",
      "metadata": {
        "tags": [],
        "id": "93c27624-4662-4d11-ac5c-33e1f98f24a1"
      },
      "outputs": [],
      "source": [
        "# #loop for green + 1064 IR\n",
        "power_ir = ir_powers_new*1000     #experimental set of Powers\n",
        "# power_ir = np.array([0.000001,*ir_powers_new])     #to cross_check the ionization and ratio with only green\n",
        "# estimated_beta1=(1/((650*alpha1-alpha1)/alpha1))[0]     #equivalent to : # alpha1+beta1=number*alpha1\n",
        "# r1_k1=np.array([np.inf]); alpha1_beta1=np.array([2.2])\n",
        "r1_k1=np.array([np.inf]); alpha1_beta1=np.array([2.5])\n",
        "\n",
        "\n",
        "ionization_1064 =np.ones(((len(r1_k1),len(alpha1_beta1),len(r1_r1p),len(alpha1),len(alpha2_alpha1),len(power_g),len(power_ir))))\n",
        "recombination_1064=np.ones(((len(r1_k1),len(alpha1_beta1),len(r1_r1p),len(alpha1),len(alpha2_alpha1),len(power_g),len(power_ir))))\n",
        "rec_ion_ratio_1064=np.ones(((len(r1_k1),len(alpha1_beta1),len(r1_r1p),len(alpha1),len(alpha2_alpha1),len(power_g),len(power_ir))))\n",
        "\n",
        "laser_1064 = np.ones((len(r1_k1),len(alpha1_beta1),len(power_g),len(power_ir),5))\n",
        "# chi_1064 = np.ones((len(alpha),len(k),len(beta)))\n",
        "\n",
        "for i_k in range(len(r1_k1)):\n",
        "    for i_beta in range(len(alpha1_beta1)):\n",
        "        for i in range(len(power_g)):\n",
        "            for j in range(len(power_ir)):\n",
        "                r2_r2p=r1_r1p[0]*(21.0/12.0); r2_k2=r1_k1[i_k];alpha2_beta2=1.35*alpha1_beta1[i_beta]\n",
        "                coff = np.array([r1_r1p[0],r2_r2p,alpha1[0],alpha2_alpha1[0],r1_k1[i_k],r2_k2,alpha1_beta1[i_beta],alpha2_beta2,ratio_1064_new_scaled[-1][0]])  #r1_r1p,r2_r2p,alpha1,alpha2_alpha1,r1_k1,r2_k2,alpha1_beta1,alpha2_beta2,charge_ratio\n",
        "                power = np.array([power_g[i],0,power_ir[j]])\n",
        "                laser_1064[i_k,i_beta,i,j,:] = fsolve(fun.state_green,guess,args = (power,coff))      #power_g,g1,e1,r1,r1p,alpha1,power_1064,k1,beta1\n",
        "\n",
        "                nr1,nr1_p,nr2,nr2_p,nalpha1,nalpha2,nk1,nk2,nbeta1,nbeta2=fun.cof(*power,coff)[0:10]\n",
        "                ionization_1064[i_k,i_beta,i_r1_r1p,i_alpha1,i_alpha,i,j]=fun.ion_1064(power_g[i],laser_1064[i_k,i_beta,i,j,0],laser_1064[i_k,i_beta,i,j,1],nr1,nr1_p,nalpha1,power_ir[j],nk1,nbeta1)\n",
        "                recombination_1064[i_k,i_beta,i_r1_r1p,i_alpha1,i_alpha,i,j]=fun.rec_1064(power_g[i],laser_1064[i_k,i_beta,i,j,2],laser_1064[i_k,i_beta,i,j,3],nr2,nr2_p,nalpha2,power_ir[j],nk2,nbeta2)\n",
        "                rec_ion_ratio_1064[i_k,i_beta,i_r1_r1p,i_alpha1,i_alpha,i,j]=recombination_1064[i_k,i_beta,i_r1_r1p,i_alpha1,i_alpha,i,j]/ionization_1064[i_k,i_beta,i_r1_r1p,i_alpha1,i_alpha,i,j]\n",
        "\n",
        "# print(f'\\nIon_Rec rate from Simulation : { rec_ion_ratio_1064} (for only 20mW, it is decreasing)')\n",
        "pl_1064 = (np.squeeze(laser_1064)[:,:,1]*1e3*(1/12))+(np.squeeze(laser_1064)[:,:,3]*1e3*(1/12)*(12.0/21.0))\n",
        "ratio_1064_simul=(np.squeeze(laser_1064)[:,:,1]*1e3*(1/12))/(np.squeeze(laser_1064)[:,:,3]*1e3*(1/12)*(12.0/21.0))\n",
        "print(f'\\nRatios from Exp : {np.mean(ratio_1064_new_scaled.T,axis=0)}\\nfrom Simulation : {np.mean(ratio_1064_simul,axis=0)}')"
      ]
    },
    {
      "cell_type": "code",
      "execution_count": null,
      "id": "9db62e3e-9cc2-4a4f-b884-1a73b7f4f516",
      "metadata": {
        "tags": [],
        "id": "9db62e3e-9cc2-4a4f-b884-1a73b7f4f516"
      },
      "outputs": [],
      "source": [
        "fig = go.Figure()\n",
        "# fig.add_scatter(x=fun.origin(power_g),y=fun.origin(pl_green_1),mode=\"lines\",name='Simulated: 532nm')\n",
        "# fig.add_scatter(x=fun.origin(power_green_new),y=fun.origin(scaled_intensity_green),mode=\"markers\",name='Only Green Two',)\n",
        "pl_1064_1=np.ones((pl_1064.shape))\n",
        "\n",
        "#Set2\n",
        "for i in range(len(power_1064_new)):\n",
        "    # scale_set_1064 = fun.interpolation(power_green_new,scale_two, power_1064_new[i])\n",
        "    fig.add_scatter(x=fun.origin(power_1064_new[i]),y=fun.origin(intensity_1064_new_scaled[i]),name=f'Exp. Scaled 1064nm power : {power_ir[i]*1e-3} mW ',mode=\"markers\",line=dict(width=2,color=px.colors.qualitative.Vivid[i]))\n",
        "\n",
        "    pl_1064_1[:,i] = pl_1064[:,i]*pl_factor\n",
        "    fig.add_scatter(x=fun.origin(power_g),y=fun.origin(pl_1064_1[:,i]),name=f'Simulated 1064nm power : {ir_powers_new[i]} mW ',mode=\"lines\",line=dict(width=2,color=px.colors.qualitative.Vivid[i]))\n",
        "\n",
        "fig.update_layout(xaxis = dict(title = 'Green Power (\\N{greek small letter mu}W)',range=[0,90]),yaxis = dict(title = 'Integrated PL' ))\n",
        "fig"
      ]
    },
    {
      "cell_type": "code",
      "execution_count": null,
      "id": "dac27aa1-eac5-4cee-9654-1f98701ca19d",
      "metadata": {
        "tags": [],
        "id": "dac27aa1-eac5-4cee-9654-1f98701ca19d"
      },
      "outputs": [],
      "source": [
        "# fun.chi_sqr(simul=pl_1064_1,exper=(np.array(intensity_1064_new_scaled).T))/1e5"
      ]
    },
    {
      "cell_type": "code",
      "execution_count": null,
      "id": "dc323882-78d5-492a-bfb2-3c6bbc963b62",
      "metadata": {
        "tags": [],
        "id": "dc323882-78d5-492a-bfb2-3c6bbc963b62"
      },
      "outputs": [],
      "source": [
        "numer = alpha1+(1/alpha1_beta1)*alpha1"
      ]
    },
    {
      "cell_type": "code",
      "execution_count": null,
      "id": "d02ad2d8-75fc-4485-8d63-3c500da438ce",
      "metadata": {
        "tags": [],
        "id": "d02ad2d8-75fc-4485-8d63-3c500da438ce"
      },
      "outputs": [],
      "source": [
        "denom = alpha2_alpha1*alpha1+(1/alpha2_beta2)*(alpha2_alpha1*alpha1)"
      ]
    },
    {
      "cell_type": "code",
      "execution_count": null,
      "id": "5492115f-28cd-46ec-822b-9ff9d02ba530",
      "metadata": {
        "tags": [],
        "id": "5492115f-28cd-46ec-822b-9ff9d02ba530"
      },
      "outputs": [],
      "source": [
        "1/alpha2_alpha1"
      ]
    },
    {
      "cell_type": "code",
      "execution_count": null,
      "id": "b0bfd9bd-2c4d-4868-829d-841f85128e36",
      "metadata": {
        "tags": [],
        "id": "b0bfd9bd-2c4d-4868-829d-841f85128e36"
      },
      "outputs": [],
      "source": [
        "numer/denom"
      ]
    },
    {
      "cell_type": "code",
      "execution_count": null,
      "id": "9fb14397-55ae-459f-8252-6c968b33a8f1",
      "metadata": {
        "tags": [],
        "id": "9fb14397-55ae-459f-8252-6c968b33a8f1"
      },
      "outputs": [],
      "source": [
        "0.005099-0.000596,0.003182-0.00035"
      ]
    },
    {
      "cell_type": "code",
      "execution_count": null,
      "id": "c698e6d6-3937-4442-9043-9fd0f0bf57c8",
      "metadata": {
        "tags": [],
        "id": "c698e6d6-3937-4442-9043-9fd0f0bf57c8"
      },
      "outputs": [],
      "source": [
        "# #loop for green + 975 IR\n",
        "power_ir = ir_powers_four*1000     #experimental set of Powers\n",
        "# power_ir = np.array([0.000001,*ir_powers_new])     #to cross_check the ratio with only green\n",
        "# estimated_gamma1=(1/((200*alpha1-alpha1)/alpha1))[0]     #equivalent to : # alpha1+gamma1=number*alpha1\n",
        "r1_l1=np.array([np.inf]); r1_delta=np.array([np.inf]); alpha1_gamma1=np.array([15])\n",
        "\n",
        "laser_975 = np.ones((len(r1_l1),len(alpha1_gamma1),len(r1_delta),len(power_g),len(power_ir),5))\n",
        "\n",
        "ionization_975 =np.ones(((len(r1_l1),len(alpha1_gamma1),len(r1_delta),len(r1_r1p),len(alpha1),len(alpha2_alpha1),len(power_g),len(power_ir))))\n",
        "recombination_975=np.ones(((len(r1_l1),len(alpha1_gamma1),len(r1_delta),len(r1_r1p),len(alpha1),len(alpha2_alpha1),len(power_g),len(power_ir))))\n",
        "rec_ion_ratio_975=np.ones(((len(r1_l1),len(alpha1_gamma1),len(r1_delta),len(r1_r1p),len(alpha1),len(alpha2_alpha1),len(power_g),len(power_ir))))\n",
        "\n",
        "for i_l in range(len(r1_l1)):\n",
        "    for i_gamma in range(len(alpha1_gamma1)):\n",
        "        for i_delta in range(len(r1_delta)):\n",
        "            for i in range(len(power_g)):\n",
        "                for j in range(len(power_ir)):\n",
        "\n",
        "                    r2_r2p=r1_r1p[0]*(21.0/12.0); r2_l2=r1_l1[i_l];alpha2_gamma2=1.32*alpha1_gamma1[i_gamma]   ## previous finalized ratio 1.2\n",
        "                    coff = np.array([r1_r1p[0],r2_r2p,alpha1[0],alpha2_alpha1[0],r1_l1[i_l],r2_l2,alpha1_gamma1[i_gamma],alpha2_gamma2,r1_delta[i_delta],0])  #r1_r1p,r2_r2p,alpha1,alpha2_alpha1,r1_l1,r2_l2,alpha1_gamma1,alpha2_gamma2,r1_delta,ratio_975_scaled\n",
        "                    power = np.array([power_g[i],power_ir[j],0])\n",
        "                    laser_975[i_l,i_gamma,i_delta,i,j,:] = fsolve(fun.state_green,guess,args = (power,coff))\n",
        "\n",
        "                    nr1,nr1_p,nr2,nr2_p,nalpha1,nalpha2=fun.cof(*power,coff)[0:6]; nl1,nl2,ngamma1,ngamma2,ndelta=fun.cof(*power,coff)[-5:]\n",
        "                    ionization_975[i_l,i_gamma,i_delta,i_r1_r1p,i_alpha1,i_alpha,i,j]=fun.ion_975(power_g[i],laser_975[i_l,i_gamma,i_delta,i,j,0],laser_975[i_l,i_gamma,i_delta,i,j,1],nr1,nr1_p,nalpha1,power_ir[j],nl1,ngamma1,ndelta)\n",
        "                    recombination_975[i_l,i_gamma,i_delta,i_r1_r1p,i_alpha1,i_alpha,i,j]=fun.rec_975(power_g[i],laser_975[i_l,i_gamma,i_delta,i,j,2],laser_975[i_l,i_gamma,i_delta,i,j,3],nr2,nr2_p,nalpha2,power_ir[j],nl2,ngamma2,ndelta)\n",
        "                    rec_ion_ratio_975[i_l,i_gamma,i_delta,i_r1_r1p,i_alpha1,i_alpha,i,j]=recombination_975[i_l,i_gamma,i_delta,i_r1_r1p,i_alpha1,i_alpha,i,j]/ionization_975[i_l,i_gamma,i_delta,i_r1_r1p,i_alpha1,i_alpha,i,j]\n",
        "\n",
        "# print(f'\\nIon_Rec rate from Simulation : { rec_ion_ratio_975} (all of them are increasing)')\n",
        "pl_975 = (np.squeeze(laser_975)[:,:,1]*1e3*(1/12))+(np.squeeze(laser_975)[:,:,3]*1e3*(1/12)*(12.0/21.0))\n",
        "ratio_975_simul=(np.squeeze(laser_975)[:,:,1]*1e3*(1/12))/(np.squeeze(laser_975)[:,:,3]*1e3*(1/12)*(12.0/21.0))\n",
        "print(f'\\nRatios from Exp : {np.mean(np.array(ratio_975_four).T,axis=0)}\\nfrom Simulation : {np.mean(ratio_975_simul,axis=0)}')\n",
        "\n",
        "    # chi_975[i_alpha,i_k,i_beta] = fun.chi_sqr(fun.organize(intensity_975,'i',2),fun.organize(laser_975[i_alpha,i_k,i_beta,:,:,1] + laser_975[i_alpha,i_k,i_beta,:,:,3],'j',2))"
      ]
    },
    {
      "cell_type": "code",
      "execution_count": null,
      "id": "3e6b1c9c-7aee-466c-a166-b53a7cc68f32",
      "metadata": {
        "id": "3e6b1c9c-7aee-466c-a166-b53a7cc68f32"
      },
      "outputs": [],
      "source": [
        "np.mean(np.mean(ratio_975_simul,axis=0)),np.mean(np.mean(np.array(ratio_975_four).T,axis=0))"
      ]
    },
    {
      "cell_type": "code",
      "execution_count": null,
      "id": "01a11408-cc9f-433e-af17-42fe4b1fee84",
      "metadata": {
        "id": "01a11408-cc9f-433e-af17-42fe4b1fee84"
      },
      "outputs": [],
      "source": [
        "2.1632*0.000466/1.32"
      ]
    },
    {
      "cell_type": "code",
      "execution_count": null,
      "id": "dcfe9627-19e8-4c9c-98f8-e195f6d1005d",
      "metadata": {
        "jupyter": {
          "source_hidden": true
        },
        "tags": [],
        "id": "dcfe9627-19e8-4c9c-98f8-e195f6d1005d"
      },
      "outputs": [],
      "source": [
        "fig = go.Figure()\n",
        "# fig.add_scatter(x=fun.origin(power_g),y=fun.origin(pl_green_1),mode=\"lines\",name='Simulated: 532nm')\n",
        "# fig.add_scatter(x=fun.origin(power_green_new),y=fun.origin(scaled_intensity_green),mode=\"markers\",name='Only Green Two',)\n",
        "pl_975_1=np.ones((pl_975.shape))\n",
        "\n",
        "#Set2\n",
        "for i in range(len(power_975_four)):\n",
        "    # scale_set_975 = fun.interpolation(power_green_new,scale_two, power_975_four[i])\n",
        "    # fig.add_scatter(x=fun.origin(power_975_four[i]),y=fun.origin(intensity_975_four_scaled[i]),name=f'Exp. Scaled 975nm power : {power_ir[i]} mW ',mode=\"markers\",line=dict(width=3,color=px.colors.qualitative.Vivid[i]))\n",
        "    fig.add_scatter(x=fun.origin(power_975_four[i]),y=fun.origin(green4_ref_correct*intensity_975_four_rescaled[i]),name=f'975nm power : {power_ir [i]*1e-3} mW ',mode='markers',line=dict(width=2,color=px.colors.qualitative.Vivid[i]))\n",
        "\n",
        "    pl_975_1[:,i] = pl_975[:,i]*pl_factor\n",
        "    fig.add_scatter(x=fun.origin(power_g),y=fun.origin(pl_975_1[:,i]),name=f'Simulated 975nm power : {ir_powers_new[i]} mW ',mode=\"lines\",line=dict(width=2,color=px.colors.qualitative.Vivid[i]))\n",
        "\n",
        "fig.update_layout(xaxis = dict(title = 'Green Power (\\N{greek small letter mu}W)',range=[40,90]),yaxis = dict(title = 'Integrated PL' ))\n",
        "fig"
      ]
    },
    {
      "cell_type": "code",
      "execution_count": null,
      "id": "dcb5b9b5-0e58-495b-a0b2-c679262722fb",
      "metadata": {
        "tags": [],
        "id": "dcb5b9b5-0e58-495b-a0b2-c679262722fb"
      },
      "outputs": [],
      "source": [
        "print(f'532nm ratios : \\nSimul {ratio_green_simul}, \\nExp. {scaled_ratio_green}\\n')\n",
        "print('Columns indicate for the IR powers from 20mW to 100mW,\\nRows indicate for the 532nm powers in increasing order\\n')\n",
        "print(f'1064nm ratios : \\nSimul {ratio_1064_simul}, \\n\\nExp. {ratio_1064_new_scaled.T}\\n')\n",
        "print(f'975nm ratios : \\nSimul {ratio_975_simul}, \\n\\nExp. {np.array(ratio_975_four).T}')"
      ]
    },
    {
      "cell_type": "code",
      "execution_count": null,
      "id": "7c98eb88-7c90-4924-954e-1e02795dee43",
      "metadata": {
        "tags": [],
        "id": "7c98eb88-7c90-4924-954e-1e02795dee43"
      },
      "outputs": [],
      "source": [
        "print(f'\\nRecombination Rate/Ionization Rate, \\n\\nGreen :{ rec_ion_ratio_green} \\n1064nm :{ rec_ion_ratio_1064} \\n975nm :{ rec_ion_ratio_975}\\n\\n(Comments:  \\n1.for only 1064nm 20mW, it is decreasing\\n2.for 20mW and 100mW, the rate is less for 975nm than 1064nm)')"
      ]
    },
    {
      "cell_type": "code",
      "execution_count": null,
      "id": "e3cea385-3adb-4e47-a010-fabbec365455",
      "metadata": {
        "tags": [],
        "id": "e3cea385-3adb-4e47-a010-fabbec365455"
      },
      "outputs": [],
      "source": [
        "# fig = go.Figure()\n",
        "# # fig.add_scatter(x=fun.origin(power_g),y=fun.origin(pl_green_1),name='Simulated: 532nm')\n",
        "# # fig.add_scatter(x=fun.origin(power_green_new_3),y=fun.origin(scale_set3*intensity_green_new_3),name='Scaled Exp: 532nm',mode='markers',)\n",
        "# pl_975_2=np.ones((pl_975.shape));pl_975_3=np.ones((pl_975.shape))\n",
        "\n",
        "# ##Set2 : for 20 and 50mW\n",
        "# for i in range(len(power_975_new)-2):\n",
        "#     scale_set_975 = fun.interpolation(power_green_new_3,scale_set3, power_975_new[i])\n",
        "#     fig.add_scatter(x=fun.origin(power_975_new[i]),y=fun.origin(scale_set_975*intensity_975_new[i]),name=f'Exp. Scaled 975nm power : {ir_powers_new[i]} mW ',mode=\"markers\",)\n",
        "\n",
        "#     pl_975_2[:,i] = pl_975[:,i]*pl_factor\n",
        "#     fig.add_scatter(x=fun.origin(power_975_new[i]),y=fun.origin(pl_975_2[:,i]),name=f'Simulated 975nm power : {ir_powers_new[i]} mW ')\n",
        "\n",
        "# ##Set3 : for 70 and 100mW\n",
        "# for i in range(len(power_975_new_2)-2):\n",
        "#     i+=2\n",
        "#     scale_set_975_2 = fun.interpolation(power_green_new_3,scale_set3, power_975_new_2[i])\n",
        "#     fig.add_scatter(x=fun.origin(power_975_new_2[i]),y=fun.origin(scale_set_975_2*intensity_975_new_2[i]),name=f'Exp. Scaled 975nm power : {ir_powers_new[i]} mW ',mode=\"markers\",)\n",
        "\n",
        "#     pl_975_3[:,i] = pl_975[:,i]*pl_factor\n",
        "#     fig.add_scatter(x=fun.origin(power_975_new_2[i]),y=fun.origin(pl_975_3[:,i]),name=f'Simulated 975nm power : {ir_powers_new[i]} mW ')\n",
        "\n",
        "# fig.update_layout(xaxis = dict(title = 'Green Power (\\N{greek small letter mu}W)',range=[0,90]),yaxis = dict(title = 'Integrated PL' ))\n",
        "# fig"
      ]
    },
    {
      "cell_type": "code",
      "execution_count": null,
      "id": "7bf5d12e-0969-4c37-b80b-1427bb34edec",
      "metadata": {
        "tags": [],
        "id": "7bf5d12e-0969-4c37-b80b-1427bb34edec"
      },
      "outputs": [],
      "source": [
        "# laser_975 = np.ones((len(alpha),len(l),len(gamma),len(delta),len(power_g),len(power_ir),5))\n",
        "# laser_1064 = np.ones((len(alpha),len(k),len(beta),len(power_g),len(power_ir),5))\n",
        "\n",
        "# chi_975 = np.ones((len(alpha),len(l),len(gamma),len(delta)))\n",
        "# chi_1064 = np.ones((len(alpha),len(k),len(beta)))\n",
        "\n",
        "# # chi_1064 = fun.chi_sqr(fun.organize(intensity_1064,'i',2),fun.organize(states(power_g,power_ir)[2][:,:,1] +states(power_g,power_ir)[2][:,:,3],'j',2))\n",
        "# # chi_975 = fun.chi_sqr(fun.organize(intensity_975,'i',2),fun.organize(states(power_g,power_ir)[1][:,:,1] +states(power_g,power_ir)[1][:,:,3],'j',2))"
      ]
    },
    {
      "cell_type": "code",
      "execution_count": null,
      "id": "07ecff0c-4b34-4508-b769-041162d3076b",
      "metadata": {
        "tags": [],
        "id": "07ecff0c-4b34-4508-b769-041162d3076b"
      },
      "outputs": [],
      "source": [
        "#specifications for integral paralization\n",
        "loops_number=2\n",
        "cpu_count=joblib.cpu_count()\n",
        "n_jobs=int(cpu_count/loops_number)"
      ]
    },
    {
      "cell_type": "code",
      "execution_count": null,
      "id": "39b1de3d-498d-4ac2-8b99-19ff128de62a",
      "metadata": {
        "tags": [],
        "id": "39b1de3d-498d-4ac2-8b99-19ff128de62a"
      },
      "outputs": [],
      "source": [
        "def fsolve_state(guess,coff,power):\n",
        "        laser_green = fsolve(fun.state_green,guess,args = (power,coff))\n",
        "        return laser_green"
      ]
    },
    {
      "cell_type": "code",
      "execution_count": null,
      "id": "4b0edf9d-f020-4120-bf32-81b1a8e28cb2",
      "metadata": {
        "tags": [],
        "id": "4b0edf9d-f020-4120-bf32-81b1a8e28cb2"
      },
      "outputs": [],
      "source": [
        "# %%time\n",
        "# with joblib.parallel_backend(backend=\"loky\"):\n",
        "#     parallel = Parallel(n_jobs=n_jobs,verbose=False)\n",
        "#     laser_green_1= parallel([delayed(fsolve_state)(guess,\n",
        "#                                                    coff=np.array([r1_r1p,r2_r2p,alpha[i_alpha]]),\n",
        "#                                                    power=np.array([power_g[i],0,0])) for i_alpha in trange(len(alpha)) for i in range(len(power_g)) ])\n",
        "# laser_green_1=np.array(laser_green_1).reshape(len(alpha),len(power_g),len(guess))"
      ]
    },
    {
      "cell_type": "markdown",
      "id": "a2d385fd",
      "metadata": {
        "id": "a2d385fd",
        "jp-MarkdownHeadingCollapsed": true,
        "tags": []
      },
      "source": [
        "#### Ionization and Recombination rate"
      ]
    },
    {
      "cell_type": "code",
      "execution_count": null,
      "id": "eade4cdd-2f13-4301-97c7-b0484d8469bb",
      "metadata": {
        "tags": [],
        "id": "eade4cdd-2f13-4301-97c7-b0484d8469bb"
      },
      "outputs": [],
      "source": [
        "#only green\n",
        "ng1=np.squeeze(laser_green)[:,0];ne1=np.squeeze(laser_green)[:,1]\n",
        "ng2=np.squeeze(laser_green)[:,2];ne2=np.squeeze(laser_green)[:,3]\n",
        "\n",
        "#975nm\n",
        "ng1_975=np.squeeze(laser_975)[:,:,0];ne1_975=np.squeeze(laser_975)[:,:,1]\n",
        "ng2_975=np.squeeze(laser_975)[:,:,2];ne2_975=np.squeeze(laser_975)[:,:,3]\n",
        "\n",
        "#1064nm\n",
        "ng1_1064=np.squeeze(laser_1064)[:,:,0];ne1_1064=np.squeeze(laser_1064)[:,:,1]\n",
        "ng2_1064=np.squeeze(laser_1064)[:,:,2];ne2_1064=np.squeeze(laser_1064)[:,:,3]"
      ]
    },
    {
      "cell_type": "code",
      "execution_count": null,
      "id": "0897ae9f",
      "metadata": {
        "id": "0897ae9f",
        "tags": []
      },
      "outputs": [],
      "source": [
        "s_g1,s_e1,s_g2,s_e2,s_r1,s_r1_p,s_r2,s_r2_p,s_alpha1,s_alpha2,s_k1,s_k2,s_beta1,s_beta2,s_l1,s_l2,s_gamma1,s_gamma2,s_delta,s_I_g,s_IR_1064,s_IR_975= sympy.symbols('s_g1 s_e1 s_g2 s_e2 s_r1 s_r1_p s_r2 s_r2_p s_alpha1 s_alpha2 s_k1 s_k2 s_beta1 s_beta2 s_l1 s_l2 s_gamma1 s_gamma2 s_delta s_I_g s_IR_1064 s_IR_975')"
      ]
    },
    {
      "cell_type": "code",
      "execution_count": null,
      "id": "839b8bfa",
      "metadata": {
        "id": "839b8bfa",
        "tags": []
      },
      "outputs": [],
      "source": [
        "# Ionization and Recombination rate only for green\n",
        "ion_g = ((s_r1*s_I_g*s_g1)-(s_r1_p*s_e1)+(s_alpha1*s_I_g*s_e1))/(s_e1+s_g1)\n",
        "rec_g = ((s_r2*s_I_g*s_g2)-(s_r2_p*s_e2)+(s_alpha2*s_I_g*s_e2))/(s_e2+s_g2)\n",
        "\n",
        "# Ionization and Recombination rate only for green + 975nm\n",
        "ion_975 = (((s_r1*s_I_g+s_l1*s_IR_975*s_IR_975+s_delta*s_IR_975*s_IR_975)*s_g1)-(s_r1_p*s_e1)+((s_alpha1*s_I_g+s_gamma1*s_IR_975)*s_e1))/(s_e1+s_g1)\n",
        "rec_975 = (((s_r2*s_I_g+s_l2*s_IR_975*s_IR_975)*s_g2)-(s_r2_p*s_e2)+((s_alpha2*s_I_g+s_gamma2*s_IR_975)*s_e2))/(s_e2+s_g2)\n",
        "\n",
        "# Ionization and Recombination rate only for green + 1064nm\n",
        "ion_1064 = (((s_r1*s_I_g+s_k1*s_IR_1064*s_IR_1064)*s_g1)-(s_r1_p*s_e1)+((s_alpha1*s_I_g+s_beta1*s_IR_1064)*s_e1))/(s_e1+s_g1)\n",
        "rec_1064 = (((s_r2*s_I_g+s_k2*s_IR_1064*s_IR_1064)*s_g2)-(s_r2_p*s_e2)+((s_alpha2*s_I_g+s_beta2*s_IR_1064)*s_e2))/(s_e2+s_g2)\n",
        "rec_975"
      ]
    },
    {
      "cell_type": "markdown",
      "id": "0622603a-818a-4e7f-8aaf-53c57571a68c",
      "metadata": {
        "tags": [],
        "id": "0622603a-818a-4e7f-8aaf-53c57571a68c"
      },
      "source": [
        "### <span style= 'color: Green'> $\\textbf{Comparison}$ </span> of Simulation and the Experiment"
      ]
    },
    {
      "cell_type": "markdown",
      "id": "9665dcf5-f53b-4ae9-a262-3c80ecba2bbf",
      "metadata": {
        "tags": [],
        "id": "9665dcf5-f53b-4ae9-a262-3c80ecba2bbf"
      },
      "source": [
        "###### Getting errorBars for Charge state ratio"
      ]
    },
    {
      "cell_type": "code",
      "execution_count": null,
      "id": "217807fa-cf3c-4a97-bb69-07df4c57cc6a",
      "metadata": {
        "tags": [],
        "id": "217807fa-cf3c-4a97-bb69-07df4c57cc6a"
      },
      "outputs": [],
      "source": [
        "# fig = go.Figure()\n",
        "# fig.add_scatter(x=power_green_new,y=scaled_intensity_green,mode='markers',name='Exp. 532nm',marker=dict(color=px.colors.qualitative.Vivid[0],size=8,line=dict(color=px.colors.qualitative.Vivid[0],width=1)),\n",
        "#     error_y=dict(type='data', array= std_error*scaled_intensity_green,visible=True,color=px.colors.qualitative.Vivid[0]),opacity=0.7)\n",
        "# fig.add_scatter(x=power_g,y=pl_green_1,mode=\"lines\",line=dict(width=2,color=px.colors.qualitative.Vivid[0]),name='Simulated 532nm')\n",
        "# fig.add_annotation(x=48, y=12e6,\n",
        "#             text=\"532nm\",\n",
        "#             showarrow=True,\n",
        "#             arrowhead=3)\n",
        "# #Set4\n",
        "# pl_975_1=np.ones((pl_975.shape))\n",
        "# for i in range(len(power_975_four)):\n",
        "#     # if power_ir[i]*1e-3==50:\n",
        "#     #     continue\n",
        "#     # scale_set_975 = fun.interpolation(power_green_new,scale_two, power_975_four[i])\n",
        "#     # fig.add_scatter(x=fun.origin(power_975_four[i]),y=fun.origin(intensity_975_four_scaled[i]),name=f'Exp. Scaled 975nm power : {power_ir[i]} mW ',mode=\"markers\",line=dict(width=3,color=px.colors.qualitative.Vivid[i]))\n",
        "#     fig.add_scatter(x=power_975_four[i],y=green4_ref_correct*intensity_975_four_rescaled[i],name=f'Exp. 975nm power : {power_ir[i]*1e-3} mW ',mode='markers',\n",
        "#                     marker=dict(color=px.colors.qualitative.Vivid[i+2],size=8,line=dict(color=px.colors.qualitative.Vivid[i+2],width=1)),\n",
        "#     error_y=dict(type='data', array=std_error*green4_ref_correct*intensity_975_four_rescaled[i],visible=True,color=px.colors.qualitative.Vivid[i+2]),)\n",
        "\n",
        "#     pl_975_1[:,i] = pl_975[:,i]*pl_factor\n",
        "#     fig.add_scatter(x=power_g,y=pl_975_1[:,i],name=f'Simulated 975nm power : {ir_powers_new[i]} mW ',mode=\"lines\",line=dict(width=2,color=px.colors.qualitative.Vivid[i+2]))\n",
        "\n",
        "\n",
        "# #Set2\n",
        "# pl_1064_1=np.ones((pl_1064.shape))\n",
        "# for i in range(len(power_1064_new)):\n",
        "#     # if power_ir[i]*1e-3==50:\n",
        "#     #     continue\n",
        "#     # scale_set_1064 = fun.interpolation(power_green_new,scale_two, power_1064_new[i])\n",
        "#     fig.add_scatter(x=power_1064_new[i],y=intensity_1064_new_scaled[i],name=f'Exp. 1064nm power : {power_ir[i]*1e-3} mW ',mode=\"markers\",\n",
        "#             marker=dict(color=px.colors.qualitative.Vivid[i+6],size=8,line=dict(color=px.colors.qualitative.Vivid[i+6],width=1)),\n",
        "#     error_y=dict(type='data', array=std_error*intensity_1064_new_scaled[i] ,visible=True,color=px.colors.qualitative.Vivid[i+6]),)\n",
        "\n",
        "#     pl_1064_1[:,i] = pl_1064[:,i]*pl_factor\n",
        "#     fig.add_scatter(x=power_g,y=pl_1064_1[:,i],name=f'Simulated 1064nm power : {ir_powers_new[i]} mW ',mode=\"lines\",line=dict(width=2,color=px.colors.qualitative.Vivid[i+6]))\n",
        "\n",
        "\n",
        "# fig.update_layout(template=fig_template,height=500, width=1300,xaxis = dict(title = 'Green Power (\\N{greek small letter mu}W)',range=[40,90]),yaxis = dict(title = 'Integrated PL' ))\n",
        "# fig"
      ]
    },
    {
      "cell_type": "code",
      "execution_count": null,
      "id": "35649ce7-0f43-41b1-ab97-8ed4d217cea4",
      "metadata": {
        "tags": [],
        "id": "35649ce7-0f43-41b1-ab97-8ed4d217cea4"
      },
      "outputs": [],
      "source": [
        "std_error"
      ]
    },
    {
      "cell_type": "code",
      "execution_count": null,
      "id": "2e7ff3f3-c4f2-41aa-8023-d0310054d0e6",
      "metadata": {
        "tags": [],
        "id": "2e7ff3f3-c4f2-41aa-8023-d0310054d0e6"
      },
      "outputs": [],
      "source": [
        "hist_green,edge_green=np.histogram(scaled_ratio_green, bins=50, range=np.array([3,4]), density=False, weights=None)\n",
        "hist_1064,edge_1064=np.histogram(np.ravel(ratio_1064_new_scaled), bins=50, range=np.array([2,4]), density=False, weights=None)\n",
        "hist_975,edge_975=np.histogram(np.ravel(ratio_975_four), bins=50, range=np.array([2,4]), density=False, weights=None)"
      ]
    },
    {
      "cell_type": "code",
      "execution_count": null,
      "id": "68b39ad0-83f6-437e-ab62-b7c40461d7c0",
      "metadata": {
        "tags": [],
        "id": "68b39ad0-83f6-437e-ab62-b7c40461d7c0"
      },
      "outputs": [],
      "source": [
        "np.median(np.ravel(ratio_1064_new_scaled)),np.median(np.ravel(ratio_975_four)),np.median(scaled_ratio_green),np.std(np.ravel(ratio_1064_new_scaled)),np.std(np.ravel(ratio_975_four)),np.std(scaled_ratio_green)"
      ]
    },
    {
      "cell_type": "code",
      "execution_count": null,
      "id": "9fa294a7-5352-49db-a2e9-88163344d2ae",
      "metadata": {
        "tags": [],
        "id": "9fa294a7-5352-49db-a2e9-88163344d2ae"
      },
      "outputs": [],
      "source": [
        "fig = go.Figure()\n",
        "fig.add_bar(x=edge_green,y=hist_green,name='532nm',marker=dict(color='Green'),showlegend=True,)\n",
        "fig.add_bar(x=edge_1064,y=hist_1064,name='1064nm',marker=dict(color='orange'),showlegend=True,)\n",
        "fig.add_bar(x=edge_975,y=hist_975,name='975nm',marker=dict(color='Red'),showlegend=True,)\n",
        "fig.update_layout(template=fig_template,height=500, width=1000,xaxis = dict(title = 'Charge Ratio'),yaxis = dict(title = 'Counts' ),bargap=0.2)\n",
        "fig"
      ]
    },
    {
      "cell_type": "code",
      "execution_count": null,
      "id": "fe167416-9095-432c-a4d1-37584327f83d",
      "metadata": {
        "tags": [],
        "id": "fe167416-9095-432c-a4d1-37584327f83d"
      },
      "outputs": [],
      "source": [
        "# Gaussing distribution\n",
        "def gauss(x,a0=1,x0=0,w0=1):\n",
        "    beta = w0*np.sqrt(np.pi/np.log(2))/2\n",
        "    f = a0*np.exp(-np.pi*(x-x0)**2/beta**2)\n",
        "    return f"
      ]
    },
    {
      "cell_type": "code",
      "execution_count": null,
      "id": "292208fb-9827-4524-835c-1f5e96b055af",
      "metadata": {
        "tags": [],
        "id": "292208fb-9827-4524-835c-1f5e96b055af"
      },
      "outputs": [],
      "source": [
        "hist_975,x_975 =np.histogram(np.ravel(ratio_975_four),\n",
        "                             bins=17,\n",
        "                             range=[2.5,3.8],\n",
        "                            )\n",
        "x_975 = fun.moving_average(x_975,2)\n",
        "\n",
        "p0 = [3,3,0.3]\n",
        "bounds = ([2,2.8,0.1],[6,3.2,0.6])\n",
        "\n",
        "params_975 = curve_fit(gauss, x_975, hist_975, p0=p0, bounds=bounds)\n",
        "params0_975 = params_975[0]\n",
        "\n",
        "fit_975 = gauss(x_975,params0_975[0],params0_975[1],params0_975[2])"
      ]
    },
    {
      "cell_type": "code",
      "execution_count": null,
      "id": "c78736d7-932e-40d7-bf18-fa5753fd7284",
      "metadata": {
        "tags": [],
        "id": "c78736d7-932e-40d7-bf18-fa5753fd7284"
      },
      "outputs": [],
      "source": [
        "hist_1064,x_1064 =np.histogram(np.ravel(ratio_1064_new_scaled),\n",
        "                             bins=18,\n",
        "                             range=[1.9,3.6],\n",
        "                            )\n",
        "x_1064 = fun.moving_average(x_1064,2)\n",
        "\n",
        "p0 = [3,3,0.3]\n",
        "bounds = ([2,2.5,0.1],[6,3.2,0.8])\n",
        "\n",
        "params_1064 = curve_fit(gauss, x_1064, hist_1064, p0=p0, bounds=bounds)\n",
        "params0_1064 = params_1064[0]\n",
        "\n",
        "fit_1064 = gauss(x_1064,params0_1064[0],params0_1064[1],params0_1064[2])"
      ]
    },
    {
      "cell_type": "code",
      "execution_count": null,
      "id": "e1c60afc-84e6-4ad3-8372-bfc2704f2eb8",
      "metadata": {
        "tags": [],
        "id": "e1c60afc-84e6-4ad3-8372-bfc2704f2eb8"
      },
      "outputs": [],
      "source": [
        "hist_green,x_green =np.histogram(scaled_ratio_green,\n",
        "                             bins=14,\n",
        "                             range=[3.3,4.6],\n",
        "                            )\n",
        "x_green = fun.moving_average(x_green,2)\n",
        "\n",
        "p0 = [3,3.5,0.5]\n",
        "bounds = ([1.5,3.5,0.4],[6,4.5,1])\n",
        "\n",
        "params_green = curve_fit(gauss, x_green, hist_green, p0=p0, bounds=bounds)\n",
        "params0_green = params_green[0]\n",
        "\n",
        "fit_green = gauss(x_green,params0_green[0],params0_green[1],params0_green[2])"
      ]
    },
    {
      "cell_type": "code",
      "execution_count": null,
      "id": "b7187dc0-37f4-46a0-a23f-a2e49004c814",
      "metadata": {
        "tags": [],
        "id": "b7187dc0-37f4-46a0-a23f-a2e49004c814"
      },
      "outputs": [],
      "source": [
        "params0_975, params0_1064, params0_green"
      ]
    },
    {
      "cell_type": "code",
      "execution_count": null,
      "id": "e9522cd3-6dac-4f07-b6eb-a42ea134e171",
      "metadata": {
        "tags": [],
        "id": "e9522cd3-6dac-4f07-b6eb-a42ea134e171"
      },
      "outputs": [],
      "source": [
        "fig = go.Figure()\n",
        "fig.add_bar(x=x_975,y=hist_975,name='975nm',marker=dict(color='Red'),showlegend=True,)\n",
        "fig.add_scatter(x=x_975,y=fit_975,name='975nm',mode='lines',line=dict(color='black'),showlegend=True,)\n",
        "fig.update_layout(template=fig_template,height=500, width=1000,xaxis = dict(title = 'Charge Ratio'),yaxis = dict(title = 'Counts' ),bargap=0.2)\n",
        "fig"
      ]
    },
    {
      "cell_type": "code",
      "execution_count": null,
      "id": "ea8387d6-e12e-4318-8a2b-9850b55975f6",
      "metadata": {
        "tags": [],
        "id": "ea8387d6-e12e-4318-8a2b-9850b55975f6"
      },
      "outputs": [],
      "source": [
        "fig = go.Figure()\n",
        "fig.add_bar(x=x_1064,y=hist_1064,name='1064nm',marker=dict(color='Orange'),showlegend=True,)\n",
        "fig.add_scatter(x=x_1064,y=fit_1064,name='1064nm',mode='lines',line=dict(color='black'),showlegend=True,)\n",
        "fig.update_layout(template=fig_template,height=500, width=1000,xaxis = dict(title = 'Charge Ratio'),yaxis = dict(title = 'Counts' ),bargap=0.2)\n",
        "fig"
      ]
    },
    {
      "cell_type": "code",
      "execution_count": null,
      "id": "8a51809c-27ba-4b76-9408-a8fd2f43bec3",
      "metadata": {
        "tags": [],
        "id": "8a51809c-27ba-4b76-9408-a8fd2f43bec3"
      },
      "outputs": [],
      "source": [
        "fig = go.Figure()\n",
        "fig.add_bar(x=x_green,y=hist_green,name='green',marker=dict(color='green'),showlegend=True,)\n",
        "fig.add_scatter(x=x_green,y=fit_green,name='green',mode='lines',line=dict(color='black'),showlegend=True,)\n",
        "fig.update_layout(template=fig_template,height=500, width=1000,xaxis = dict(title = 'Charge Ratio'),yaxis = dict(title = 'Counts' ),bargap=0.2)\n",
        "fig"
      ]
    },
    {
      "cell_type": "code",
      "execution_count": null,
      "id": "ba6cdb30-50e1-467a-9beb-fa4dfff9bb88",
      "metadata": {
        "tags": [],
        "id": "ba6cdb30-50e1-467a-9beb-fa4dfff9bb88"
      },
      "outputs": [],
      "source": [
        "hist_975s,x_975s =np.histogram(np.ravel(ratio_975_simul),\n",
        "                             bins=25,\n",
        "                             range=[3.1,3.25],\n",
        "                            )\n",
        "x_975s = fun.moving_average(x_975s,2)\n",
        "\n",
        "p0 = [20,3.15,0.02]\n",
        "bounds = ([5,2.9,0.01],[25,3.5,0.3])\n",
        "\n",
        "params_975s = curve_fit(gauss, x_975s, hist_975s, p0=p0, bounds=bounds)\n",
        "params0_975s = params_975s[0]\n",
        "\n",
        "fit_975s = gauss(x_975s,params0_975s[0],params0_975s[1],params0_975s[2])"
      ]
    },
    {
      "cell_type": "code",
      "execution_count": null,
      "id": "21ec0272-edde-4713-bef3-f90c1aa78bfd",
      "metadata": {
        "tags": [],
        "id": "21ec0272-edde-4713-bef3-f90c1aa78bfd"
      },
      "outputs": [],
      "source": [
        "params0_975s"
      ]
    },
    {
      "cell_type": "code",
      "execution_count": null,
      "id": "7b802b91-e4e4-4036-a9d7-80f08e5dc28a",
      "metadata": {
        "tags": [],
        "id": "7b802b91-e4e4-4036-a9d7-80f08e5dc28a"
      },
      "outputs": [],
      "source": [
        "fig = go.Figure()\n",
        "fig.add_bar(x=x_975s,y=hist_975s,name='975nm Simulation',marker=dict(color='Red'),showlegend=True,)\n",
        "fig.add_scatter(x=x_975s,y=fit_975s,name='975nm Simulation',mode='lines',line=dict(color='black'),showlegend=True,)\n",
        "fig.update_layout(template=fig_template,height=500, width=1000,xaxis = dict(title = 'Charge Ratio'),yaxis = dict(title = 'Counts' ),bargap=0.2)\n",
        "fig"
      ]
    },
    {
      "cell_type": "code",
      "execution_count": null,
      "id": "0b42f8b0-7d06-47df-bf12-5c7650f4912d",
      "metadata": {
        "tags": [],
        "id": "0b42f8b0-7d06-47df-bf12-5c7650f4912d"
      },
      "outputs": [],
      "source": [
        "# Green\n",
        "np.mean(scaled_ratio_green), np.std(scaled_ratio_green)"
      ]
    },
    {
      "cell_type": "code",
      "execution_count": null,
      "id": "a72cb17a-8ae8-43c8-bb03-d32a04033f9f",
      "metadata": {
        "tags": [],
        "id": "a72cb17a-8ae8-43c8-bb03-d32a04033f9f"
      },
      "outputs": [],
      "source": [
        "# 975 nm Simulations\n",
        "np.mean(ratio_975_simul), np.std(ratio_975_simul)"
      ]
    },
    {
      "cell_type": "code",
      "execution_count": null,
      "id": "00f6e3dc-92a9-459d-a93e-6f217bb18e41",
      "metadata": {
        "tags": [],
        "id": "00f6e3dc-92a9-459d-a93e-6f217bb18e41"
      },
      "outputs": [],
      "source": [
        "# 1064 nm Simulations\n",
        "np.mean(ratio_1064_simul), np.std(ratio_1064_simul)"
      ]
    },
    {
      "cell_type": "code",
      "execution_count": null,
      "id": "6f8e9e7b-9fcc-49aa-844c-2437d6841d91",
      "metadata": {
        "tags": [],
        "id": "6f8e9e7b-9fcc-49aa-844c-2437d6841d91"
      },
      "outputs": [],
      "source": [
        "# Green Simulations\n",
        "np.mean(ratio_green_simul), np.std(ratio_green_simul)"
      ]
    },
    {
      "cell_type": "code",
      "execution_count": null,
      "id": "50834380-de5e-471a-8183-06120cf8c71e",
      "metadata": {
        "tags": [],
        "id": "50834380-de5e-471a-8183-06120cf8c71e"
      },
      "outputs": [],
      "source": [
        "charge_ratio_exp = [np.mean(scaled_ratio_green),params0_975[1], params0_1064[1]]\n",
        "charge_ratio_sim = [np.mean(ratio_green_simul),np.mean(ratio_975_simul), np.mean(ratio_1064_simul)]\n",
        "\n",
        "charge_ratio_exp_std = [np.std(scaled_ratio_green),params0_975[2]/2, params0_1064[2]/2]\n",
        "charge_ratio_sim_std = [np.std(ratio_green_simul),np.std(ratio_975_simul), np.std(ratio_1064_simul)]"
      ]
    },
    {
      "cell_type": "code",
      "execution_count": null,
      "id": "784f5451-a2c5-4466-84ed-3c940e2e58ff",
      "metadata": {
        "tags": [],
        "id": "784f5451-a2c5-4466-84ed-3c940e2e58ff"
      },
      "outputs": [],
      "source": [
        "charge_ratio_exp_std"
      ]
    },
    {
      "cell_type": "code",
      "execution_count": null,
      "id": "85508ade-76fc-42aa-8a26-361f81ce383c",
      "metadata": {
        "tags": [],
        "id": "85508ade-76fc-42aa-8a26-361f81ce383c"
      },
      "outputs": [],
      "source": [
        "np.squeeze(ionization_1064),np.squeeze(recombination_1064)"
      ]
    },
    {
      "cell_type": "code",
      "execution_count": null,
      "id": "dec440bc-80c4-4d27-9efd-21d640a05f2c",
      "metadata": {
        "tags": [],
        "id": "dec440bc-80c4-4d27-9efd-21d640a05f2c"
      },
      "outputs": [],
      "source": [
        "np.squeeze(ionization_green),np.squeeze(recombination_green)"
      ]
    },
    {
      "cell_type": "code",
      "execution_count": null,
      "id": "42ac5ab7-7b7a-4825-a7a7-5e4adc1ba4fc",
      "metadata": {
        "tags": [],
        "id": "42ac5ab7-7b7a-4825-a7a7-5e4adc1ba4fc"
      },
      "outputs": [],
      "source": [
        "# ionization rate comparison 1064 nm\n",
        "ion_ratio_1064 = (np.squeeze(ionization_1064)/(np.tile(np.squeeze(ionization_green),(4,1)).T))[:,-1]"
      ]
    },
    {
      "cell_type": "code",
      "execution_count": null,
      "id": "32666303-3ea6-4225-9dd3-6f2b5fe98be5",
      "metadata": {
        "tags": [],
        "id": "32666303-3ea6-4225-9dd3-6f2b5fe98be5"
      },
      "outputs": [],
      "source": [
        "# recombination rate comparison 1064 nm\n",
        "rec_ratio_1064 = (np.squeeze(recombination_1064)/(np.tile(np.squeeze(recombination_green),(4,1)).T))[:,-1]"
      ]
    },
    {
      "cell_type": "code",
      "execution_count": null,
      "id": "6488e952-bb51-4ca7-8b8f-ba6d63b220b3",
      "metadata": {
        "tags": [],
        "id": "6488e952-bb51-4ca7-8b8f-ba6d63b220b3"
      },
      "outputs": [],
      "source": [
        "ion_ratio_1064,rec_ratio_1064"
      ]
    },
    {
      "cell_type": "code",
      "execution_count": null,
      "id": "0ea93ff2-45ad-4bbf-a6eb-8f9b31a0065b",
      "metadata": {
        "tags": [],
        "id": "0ea93ff2-45ad-4bbf-a6eb-8f9b31a0065b"
      },
      "outputs": [],
      "source": [
        "# ionization rate comparison 975 nm\n",
        "ion_ratio_975 = (np.squeeze(ionization_975)/(np.tile(np.squeeze(ionization_green),(4,1)).T))[:,-1]"
      ]
    },
    {
      "cell_type": "code",
      "execution_count": null,
      "id": "0e02809c-f4fb-4918-b01e-e473540c9fdc",
      "metadata": {
        "tags": [],
        "id": "0e02809c-f4fb-4918-b01e-e473540c9fdc"
      },
      "outputs": [],
      "source": [
        "# recombination rate comparison 975 nm\n",
        "rec_ratio_975 = (np.squeeze(recombination_975)/(np.tile(np.squeeze(recombination_green),(4,1)).T))[:,-1]"
      ]
    },
    {
      "cell_type": "code",
      "execution_count": null,
      "id": "b56d2a49-6241-4d58-9671-fde2919772e3",
      "metadata": {
        "tags": [],
        "id": "b56d2a49-6241-4d58-9671-fde2919772e3"
      },
      "outputs": [],
      "source": [
        "pl_ratio_ir_sim = np.mean(pl_975_1/pl_1064_1,axis=0)"
      ]
    },
    {
      "cell_type": "code",
      "execution_count": null,
      "id": "41b197c2-6537-4f3c-ab8b-ee58e532717f",
      "metadata": {
        "tags": [],
        "id": "41b197c2-6537-4f3c-ab8b-ee58e532717f"
      },
      "outputs": [],
      "source": [
        "pl_ratio_ir_exp = np.mean((green4_ref_correct*intensity_975_four_rescaled/intensity_1064_new_scaled).T,axis=0)"
      ]
    },
    {
      "cell_type": "code",
      "execution_count": null,
      "id": "b1a1b05f-16b1-4672-a6d1-1512b20ac9f7",
      "metadata": {
        "tags": [],
        "id": "b1a1b05f-16b1-4672-a6d1-1512b20ac9f7"
      },
      "outputs": [],
      "source": [
        "pl_ratio_ir_exp_std = np.std((green4_ref_correct*intensity_975_four_rescaled/intensity_1064_new_scaled).T,axis=0)"
      ]
    },
    {
      "cell_type": "code",
      "execution_count": null,
      "id": "a142304e-a620-4739-87f6-c012bbf8bc50",
      "metadata": {
        "tags": [],
        "id": "a142304e-a620-4739-87f6-c012bbf8bc50"
      },
      "outputs": [],
      "source": [
        "# fig = go.Figure()\n",
        "# fig.add_scatter(x=power_ir*1e-3,y=pl_ratio_ir_exp,mode='markers',marker=dict(color='blue',size=12,line=dict(color='black',width=1)),\n",
        "#     error_y=dict(type='data', array=pl_ratio_ir_exp_std ,visible=True,color='black'),name='Experimental',opacity=0.7)\n",
        "# fig.add_scatter(x=power_ir*1e-3,y=pl_ratio_ir_sim,mode='lines',line=dict(width=3,color='red'),name='Simulation',marker=dict(\n",
        "#             color='LightSkyBlue',\n",
        "#             symbol=\"diamond\",\n",
        "#             size=20,\n",
        "#             line=dict(\n",
        "#                 color='MediumPurple',\n",
        "#                 width=2\n",
        "#             )\n",
        "#         ),opacity=0.9)\n",
        "# fig.update_layout(template=fig_template,height=500, width=1000,xaxis = dict(title = 'IR Power mW',range=[10,110]),yaxis = dict(title = '<sup>PL<sub>975</sub></sup>&#8260;<sub>PL<sub>1064</sub></sub>' ))\n",
        "# fig"
      ]
    },
    {
      "cell_type": "code",
      "execution_count": null,
      "id": "23d8e805-1cb6-4a31-908d-7fa6354c275f",
      "metadata": {
        "tags": [],
        "id": "23d8e805-1cb6-4a31-908d-7fa6354c275f"
      },
      "outputs": [],
      "source": [
        "data = {'power_g': power_g,\n",
        "        'ion_975': ion_ratio_975,\n",
        "        'ion_1064': ion_ratio_1064,\n",
        "        'rec_975': rec_ratio_975,\n",
        "        'rec_1064': rec_ratio_1064}\n",
        "\n",
        "df = pd.DataFrame(data)"
      ]
    },
    {
      "cell_type": "code",
      "execution_count": null,
      "id": "74d7667f-e988-4241-bf3a-85b38bf4b438",
      "metadata": {
        "tags": [],
        "id": "74d7667f-e988-4241-bf3a-85b38bf4b438"
      },
      "outputs": [],
      "source": [
        "pathfig = path+\"\\\\images\\\\\""
      ]
    },
    {
      "cell_type": "code",
      "execution_count": null,
      "id": "3a16f702-8c02-4edc-86ab-32a0cefe4993",
      "metadata": {
        "tags": [],
        "id": "3a16f702-8c02-4edc-86ab-32a0cefe4993"
      },
      "outputs": [],
      "source": [
        "fig = go.Figure()\n",
        "fig.add_scatter(x=power_green_new,y=scaled_intensity_green/1e6,mode='markers',name=False,marker=dict(color=vivid[3],size=8+0.3,line=dict(color=vivid[3],width=1+0.3)),\n",
        "    error_y=dict(type='percent', value= std_error*100,visible=True,color=vivid[3],thickness=2,width=3),opacity=0.7,showlegend=False)\n",
        "fig.add_scatter(x=power_g,y=pl_green_1/1e6,mode=\"lines\",line=dict(width=2+0.3,color=vivid[3]),showlegend=False)\n",
        "\n",
        "# fig.add_annotation(text=\"532nm \",yref='paper',xref='paper', x=0.18,y=0.51,\n",
        "#             showarrow=True,\n",
        "#             arrowhead=3)\n",
        "\n",
        "#Set2\n",
        "pl_1064_1=np.ones((pl_1064.shape))\n",
        "for i in range(len(power_1064_new)):\n",
        "    # if power_ir[i]*1e-3==50:\n",
        "    #     continue\n",
        "    # scale_set_1064 = fun.interpolation(power_green_new,scale_two, power_1064_new[i])\n",
        "    fig.add_scatter(x=power_1064_new[i],y=intensity_1064_new_scaled[i]/1e6,name=f'{power_ir[i]*1e-3} mW ',mode=\"markers\",\n",
        "            marker=dict(color=vivid[i+6],size=8+0.3,line=dict(color=vivid[i+6],width=1+0.3)),\n",
        "    error_y=dict(type='percent', value= std_error*100,visible=True,color=vivid[i+6],thickness=2,width=3),)\n",
        "\n",
        "    pl_1064_1[:,i] = pl_1064[:,i]*pl_factor\n",
        "    fig.add_scatter(x=power_g,y=pl_1064_1[:,i]/1e6,mode=\"lines\",line=dict(width=2+0.5,color=vivid[i+6]),showlegend=False)\n",
        "\n",
        "\n",
        "fig.update_layout( # customize font and legend orientation & position\n",
        "    legend=dict(\n",
        "        title='', orientation=\"h\", y=1.05, yanchor=\"bottom\", x=0.5, xanchor=\"center\",title_font_family=\"Times New Roman\",\n",
        "    )\n",
        ")\n",
        "# fig.add_annotation( # add a text callout with arrow\n",
        "#     text=\"1064nm : \",yref='paper',xref='paper', x=0.25,y=1.17, showarrow=False,\n",
        "#     font_family=\"Times New Roman\",textangle=0\n",
        "# )\n",
        "fig.update_yaxes(title_font_family=\"Times New Roman\");fig.update_xaxes(title_font_family=\"Times New Roman\")\n",
        "\n",
        "\n",
        "fig.update_layout(template=fig_template,height=450, width=600,xaxis = dict(title = 'Green Power (\\N{greek small letter mu}W)',range=[40,90]),yaxis = dict(title = \"Integrated PL (arb. u.) \",range=[0,22e6/1e6] ))\n",
        "fig.write_image(pathfig+\"fig3_1064pl.pdf\",engine='kaleido')\n",
        "fig.write_html(pathfig+\"fig3_1064pl.html\")\n",
        "fig.show()"
      ]
    },
    {
      "cell_type": "markdown",
      "id": "16f1c2e8-306d-46c4-96fc-d47fda0ed600",
      "metadata": {
        "tags": [],
        "id": "16f1c2e8-306d-46c4-96fc-d47fda0ed600"
      },
      "source": [
        "##### PLots for the Paper"
      ]
    },
    {
      "cell_type": "code",
      "execution_count": null,
      "id": "db6fb1df-b136-48b1-87fd-a323d2122d62",
      "metadata": {
        "tags": [],
        "id": "db6fb1df-b136-48b1-87fd-a323d2122d62"
      },
      "outputs": [],
      "source": [
        "pl_green_average = fun.data_averaging(data_green_new[:,0],data_green_four[:,0],data_green_scaled[:,-1],data_green_scaled_four[:,-1]*(green4_ref_correct[-1]*green_scale_four_two[-1]))"
      ]
    },
    {
      "cell_type": "code",
      "execution_count": null,
      "id": "6806b364-bdf6-4e14-a780-aae71f52fea3",
      "metadata": {
        "tags": [],
        "id": "6806b364-bdf6-4e14-a780-aae71f52fea3"
      },
      "outputs": [],
      "source": [
        "#green and 1064nm from the Second dataSets\n",
        "fig = go.Figure()\n",
        "\n",
        "# fig.add_scatter(x=data_green_four[:,0],y=data_green_scaled_four[:,-1]*(green4_ref_correct[-1]*green_scale_four_two[-1]),marker=dict(color=vivid[3],size=8+0.3,line=dict(color=vivid[3],width=1+0.3)),showlegend=False,opacity= 0.3)\n",
        "# fig.add_scatter(x=data_green_new[:,0],y=data_green_scaled[:,-1],marker=dict(color=vivid[3],size=8+0.3,line=dict(color=vivid[3],width=1+0.3)),showlegend=False)\n",
        "fig.add_scatter(x=data_green_new[:,0],y=pl_green_average/1e3,marker=dict(color=vivid[3],size=8+0.3,line=dict(color=vivid[3],width=1+0.3)),showlegend=False)\n",
        "\n",
        "\n",
        "irs = ['1064']\n",
        "for i_ir in irs:\n",
        "    for j in range(len(ir_powers_new)):\n",
        "        fig.add_scatter(x=globals()[f'data_{i_ir}_new_scaled_'+f'{ir_powers_new[j]}'][:,0],y=(globals()[f'data_{i_ir}_new_scaled_'+f'{ir_powers_new[j]}'][:,-1])/1e3 ,marker=dict(color=vivid[j+6],size=8+0.3,line=dict(color=vivid[j+6],width=1+0.3)),showlegend=False )\n",
        "\n",
        "fig.update_layout(template=fig_template,height=400, width=500,xaxis = dict(title = '',range=[555,785]),yaxis = dict(title = '' ,range=[0,60]))\n",
        "# fig.update_layout(template=fig_template,height=450, width=600,xaxis = dict(title = 'Wavelength (&#955;) '),yaxis = dict(title = \"Intensity ( &times;10<sup>3</sup>) \" ))\n",
        "fig.update_layout(template=fig_template,height=450, width=600,xaxis = dict(title = 'Wavelength (nm) '),yaxis = dict(title = \"Intensity (arb. u.) \" ))\n",
        "\n",
        "\n",
        "fig.update_yaxes(title_font_family=\"Times New Roman\");fig.update_xaxes(title_font_family=\"Times New Roman\")\n",
        "fig.write_image(pathfig+\"fig3_1064_inset.pdf\",engine='kaleido')\n",
        "fig.write_image(pathfig+\"fig3_1064_inset.png\")\n",
        "fig.write_html(pathfig+\"fig3_1064_inset_50muW.html\")\n",
        "fig.show()"
      ]
    },
    {
      "cell_type": "code",
      "execution_count": null,
      "id": "0b09b910-83ae-424d-ac45-d8674da1e901",
      "metadata": {
        "tags": [],
        "id": "0b09b910-83ae-424d-ac45-d8674da1e901"
      },
      "outputs": [],
      "source": [
        "fig = go.Figure()\n",
        "fig.add_scatter(x=power_green_new,y=scaled_intensity_green/1e6,mode='markers',name=False,marker=dict(color=vivid[3],size=8+0.3,line=dict(color=vivid[3],width=+0.31)),\n",
        "    error_y=dict(type='percent', value= std_error*100,visible=True,color=vivid[3]),opacity=0.7,showlegend=False)\n",
        "fig.add_scatter(x=power_g,y=pl_green_1/1e6,mode=\"lines\",line=dict(width=2+0.3,color=vivid[3]),showlegend=False)\n",
        "\n",
        "# fig.add_annotation(text=\"532nm \",yref='paper',xref='paper', x=0.18,y=0.51,\n",
        "#             showarrow=True,\n",
        "#             arrowhead=3)\n",
        "\n",
        "#Set4\n",
        "pl_975_1=np.ones((pl_975.shape))\n",
        "for i in range(len(power_975_four)):\n",
        "    fig.add_scatter(x=power_975_four[i],y=green4_ref_correct*intensity_975_four_rescaled[i]/1e6,name=f'{power_ir[i]*1e-3} mW ',mode='markers',\n",
        "                    marker=dict(color=vivid[i+6],size=8+0.3,line=dict(color=vivid[i+6],width=1+0.3)),\n",
        "    error_y=dict(type='percent', value= std_error*100,visible=True,color=vivid[i+6]),)\n",
        "\n",
        "    pl_975_1[:,i] = pl_975[:,i]*pl_factor\n",
        "    fig.add_scatter(x=power_g,y=pl_975_1[:,i]/1e6,mode=\"lines\",line=dict(width=2+0.3,color=vivid[i+6]),showlegend=False)\n",
        "\n",
        "\n",
        "fig.update_layout( # customize font and legend orientation & position\n",
        "    legend=dict(\n",
        "        title='', orientation=\"h\", y=1.05, yanchor=\"bottom\", x=0.68, xanchor=\"center\",title_font_family=\"Times New Roman\",\n",
        "    )\n",
        ")\n",
        "# fig.add_annotation( # add a text callout with arrow\n",
        "#     text=\"975nm : \",yref='paper',xref='paper', x=0.25,y=1.17, showarrow=False,\n",
        "#     font_family=\"Times New Roman\",textangle=0\n",
        "# )\n",
        "fig.update_yaxes(title_font_family=\"Times New Roman\");fig.update_xaxes(title_font_family=\"Times New Roman\")\n",
        "\n",
        "\n",
        "fig.update_layout(template=fig_template,height=450, width=600,xaxis = dict(title = 'Green Power (\\N{greek small letter mu}W)',range=[40,90]),yaxis = dict(title = 'Integrated PL', range=[0,22e6/1e6]))\n",
        "fig.update_layout(template=fig_template,height=450, width=600,xaxis = dict(title = 'Green Power (\\N{greek small letter mu}W)',range=[40,90]),yaxis = dict(title = \"Integrated PL (arb. u.) \",range=[0,22e6/1e6] ))\n",
        "\n",
        "fig.write_image(pathfig+\"fig3_975pl.pdf\",engine='kaleido')\n",
        "fig.write_html(pathfig+\"fig3_975pl.html\")\n",
        "fig"
      ]
    },
    {
      "cell_type": "code",
      "execution_count": null,
      "id": "c26f0014-d1cf-41ac-91d3-add1831d3def",
      "metadata": {
        "id": "c26f0014-d1cf-41ac-91d3-add1831d3def"
      },
      "outputs": [],
      "source": [
        "fig = go.Figure()\n",
        "\n",
        "# fig.add_scatter(x=data_green_four[:,0],y=data_green_scaled_four[:,-1]*(green4_ref_correct[-1]*green_scale_four_two[-1]),marker=dict(color=vivid[3],size=8+0.3,line=dict(color=vivid[3],width=1+0.3)),showlegend=False,opacity= 0.3)\n",
        "# fig.add_scatter(x=data_green_new[:,0],y=data_green_scaled[:,-1],marker=dict(color=vivid[3],size=8+0.3,line=dict(color=vivid[3],width=1+0.3)),showlegend=False)\n",
        "fig.add_scatter(x=data_green_new[:,0],y=pl_green_average/1e3,marker=dict(color=vivid[3],size=8+0.3,line=dict(color=vivid[3],width=1+0.3)),showlegend=False)\n",
        "\n",
        "\n",
        "\n",
        "irs = ['975']\n",
        "for i_ir in irs:\n",
        "    for j in range(len(ir_powers_four)):\n",
        "            fig.add_scatter(x=globals()[f'data_{i_ir}_four_scaled_'+f'{ir_powers_four[j]}'][:,0],y=(globals()[f'data_{i_ir}_four_scaled_'+f'{ir_powers_four[j]}'][:,-1]*(green4_ref_correct[-1]*green_scale_four_two[-1]))/1e3 ,showlegend=False,\n",
        "                           marker=dict(color=vivid[j+6],size=8+0.3,line=dict(color=vivid[j+6],width=1+0.3)),)\n",
        "\n",
        "fig.update_layout(template=fig_template,height=400, width=500,xaxis = dict(title = '',range=[555,785]),yaxis = dict(title = '' ,range=[0,60]))\n",
        "fig.update_layout(template=fig_template,height=450, width=600,xaxis = dict(title = 'Wavelength (nm) '),yaxis = dict(title = \"Intensity (arb. u.)\" ))\n",
        "\n",
        "fig.update_yaxes(title_font_family=\"Times New Roman\");fig.update_xaxes(title_font_family=\"Times New Roman\")\n",
        "fig.write_image(pathfig+\"fig3_975_inset.pdf\",engine='kaleido')\n",
        "fig.write_image(pathfig+\"fig3_975_inset.png\")\n",
        "fig.write_html(pathfig+\"fig3_975_inset_83muW.html\")\n",
        "fig.show()"
      ]
    },
    {
      "cell_type": "code",
      "execution_count": null,
      "id": "3e7aab80-bb60-4840-a68f-95ec58c563d7",
      "metadata": {
        "tags": [],
        "id": "3e7aab80-bb60-4840-a68f-95ec58c563d7"
      },
      "outputs": [],
      "source": [
        "x_laser = ['20mW', '50mW','70mW','100mW']\n",
        "fig = go.Figure()\n",
        "fig.add_bar(x=x_laser,y=pl_ratio_ir_exp,marker=dict(color='royalblue',line=dict(width=1.0+0.5,color='black')),error_y=dict(type='data', array=pl_ratio_ir_exp_std ,visible=True,color='black',thickness=1.5+0.3,width=3+0.3),name='Experimental',\n",
        "        # text = x_laser,\n",
        "        # textposition='auto',textangle=-20,insidetextanchor='middle',\n",
        "        # textfont=dict(\n",
        "        # size=20,\n",
        "        # color=\"#ffffff\"),\n",
        "        marker_color=[vivid[6],vivid[7],vivid[8],vivid[9]],opacity=0.67)\n",
        "\n",
        "# fig.add_scatter(x=x_laser,y=pl_ratio_ir_sim,mode='markers',line=dict(width=1,color=vivid[5]),name='Simulation',marker=dict(\n",
        "#             color=pastel[6],\n",
        "#             symbol=\"diamond-open-dot\",\n",
        "#             size=15,\n",
        "#             line=dict(\n",
        "#                 color='black',\n",
        "#                 width=1.5\n",
        "#             ),opacity=0.9\n",
        "#         ),opacity=0.9)\n",
        "fig.add_scatter(x=x_laser,y=pl_ratio_ir_sim,mode=\"markers\",name='Simulation',marker=dict(color='white',symbol=\"diamond-dot\", opacity=1, size=14,line=dict(color='black',width=1+0.5)),opacity=0.7)\n",
        "\n",
        "\n",
        "fig.update_layout(template=fig_template,height=450, width=600,xaxis = dict(title = 'IR Power'),yaxis = dict(title = '<sup>PL<sub>975</sub></sup>&#8260;<sub>PL<sub>1064</sub></sub>' ,range=[0.5,4.5]))\n",
        "\n",
        "# fig.update_layout(legend_title_text='Financials',\n",
        "#                  title_text='2009-2019 Financial Report')\n",
        "\n",
        "fig.update_layout( # customize font and legend orientation & position\n",
        "    legend=dict(\n",
        "        title=None, orientation=\"h\", y=0.8, yanchor=\"bottom\", x=0.4, xanchor=\"center\",title_font_family=\"Times New Roman\",\n",
        "    )\n",
        ")\n",
        "\n",
        "fig.update_layout(uniformtext_minsize=10, uniformtext_mode='hide')\n",
        "# fig.update_xaxes(showticklabels=False)\n",
        "fig.update_xaxes(tickangle=15)\n",
        "fig.update_yaxes(title_font_family=\"Times New Roman\");fig.update_xaxes(title_font_family=\"Times New Roman\")\n",
        "fig.write_image(pathfig+\"fig3_IR_pl_ratio.pdf\",engine='kaleido')\n",
        "fig"
      ]
    },
    {
      "cell_type": "code",
      "execution_count": null,
      "id": "291d5bad-62ab-4ba5-8ad5-eba7417f4726",
      "metadata": {
        "tags": [],
        "id": "291d5bad-62ab-4ba5-8ad5-eba7417f4726"
      },
      "outputs": [],
      "source": [
        "x_laser = ['532nm', '532nm <br> + 975nm','532nm <br>+ 1064nm']\n",
        "fig = go.Figure()\n",
        "fig.add_bar(x=x_laser,y=charge_ratio_exp,marker=dict(color='royalblue',line=dict(width=1.5,color='black')),error_y=dict(type='data', array=charge_ratio_exp_std ,visible=True,color='black',thickness=1.5+0.3,width=3+0.3),name='Experimental',\n",
        "        # text = x_laser,\n",
        "        # textposition='outside',textangle=20,\n",
        "            # insidetextanchor='middle',\n",
        "        # textfont=dict(\n",
        "        # size=20,\n",
        "        # color=\"black\"),\n",
        "        marker_color=[vivid[3],g10[2],g10[8]],opacity=0.67)\n",
        "fig.add_scatter(x=x_laser,y=charge_ratio_sim,mode=\"markers\",name='Simulation',marker=dict(color='white',symbol=\"diamond-dot\", opacity=1, size=14,line=dict(color='black',width=1.5)),opacity=0.7)\n",
        "\n",
        "fig.update_layout(template=fig_template,height=450, width=600,yaxis = dict(title = '<b><sup>PL<sub>NV<sup>-</sup></sub></sup>&#8260;<sub>PL<sub>NV<sup>0</sup></sub></sub></b>', range=[2.2,4.3]))\n",
        "\n",
        "# fig.update_layout(legend_title_text='Financials',\n",
        "#                  title_text='2009-2019 Financial Report')\n",
        "\n",
        "fig.update_layout( # customize font and legend orientation & position\n",
        "    legend=dict(\n",
        "        title=None, orientation=\"h\", y=0.8, yanchor=\"bottom\", x=0.6, xanchor=\"center\",title_font_family=\"Times New Roman\",\n",
        "    )\n",
        ")\n",
        "\n",
        "fig.update_layout(uniformtext_minsize=10, uniformtext_mode='hide')\n",
        "# fig.update_xaxes(showticklabels=False)\n",
        "fig.update_xaxes(tickangle=0)\n",
        "fig.update_yaxes(title_font_family=\"Times New Roman\");fig.update_xaxes(title_font_family=\"Times New Roman\")\n",
        "fig.write_image(pathfig+\"fig4_NV_pl_ratio.pdf\",engine='kaleido')\n",
        "fig"
      ]
    },
    {
      "cell_type": "code",
      "execution_count": null,
      "id": "4018429a-211d-4a90-a6e7-2ce6b5dbb1ff",
      "metadata": {
        "tags": [],
        "id": "4018429a-211d-4a90-a6e7-2ce6b5dbb1ff"
      },
      "outputs": [],
      "source": [
        "fig = go.Figure()\n",
        "fig.add_scatter(x=power_g,y=np.squeeze(ionization_green),mode='lines',line=dict(width=2+0.5,color=vivid[3]),marker=dict(\n",
        "            color='LightSkyBlue',\n",
        "            symbol=\"triangle-right-dot\",\n",
        "            size=12,\n",
        "            line=dict(\n",
        "                color='MediumPurple',\n",
        "                width=1.0+0.3\n",
        "            ),opacity=0.9\n",
        "        ),opacity=1.0,name='532 nm')\n",
        "fig.add_scatter(x=power_g,y=np.squeeze(ionization_975)[:,-1],mode='lines',line=dict(width=2+0.5,color=g10[2]),marker=dict(\n",
        "            color=g10[2],\n",
        "            symbol=\"triangle-right-dot\",\n",
        "            size=12,\n",
        "            line=dict(\n",
        "                color=g10[2],\n",
        "                width=1.0+0.3\n",
        "            ),opacity=0.9\n",
        "        ),opacity=1.0,name='975 nm')\n",
        "fig.add_scatter(x=power_g,y=np.squeeze(ionization_1064)[:,-1],mode='lines',line=dict(width=2+0.5,color=g10[8]),marker=dict(\n",
        "            color=plotly[0],\n",
        "            symbol=\"triangle-right-dot\",\n",
        "            size=12,\n",
        "            line=dict(\n",
        "                color=g10[8],\n",
        "                width=1.0+0.3\n",
        "            ),opacity=0.9\n",
        "        ),opacity=1.0,name='1064 nm')\n",
        "\n",
        "fig.update_layout(template=fig_template,height=450, width=600,xaxis = dict(title = 'Green Power (&mu;W)',range=[40,90]),yaxis = dict(title = 'I<sub>eff</sub> (&times;10<sup>3</sup>s<sup>-1</sup>)'))\n",
        "\n",
        "# fig.add_annotation( # add a text callout with arrow\n",
        "#     text=\"Green <br> normalized\",yref='paper',xref='paper', x=1.27,y=1.1, showarrow=False,\n",
        "#     font_family=\"Droid Serif\",textangle=0\n",
        "# )\n",
        "\n",
        "# fig.update_layout( # customize font and legend orientation & position\n",
        "#     legend=dict(\n",
        "#         title='', orientation=\"v\", y=0.25, yanchor=\"bottom\", x=1.2, xanchor=\"center\",bordercolor=\"Black\",borderwidth=0.2\n",
        "#     )\n",
        "# )\n",
        "\n",
        "# fig.update_layout( # customize font and legend orientation & position\n",
        "#     legend=dict(\n",
        "#         title=None, orientation=\"h\", y=0.8, yanchor=\"bottom\", x=0.73, xanchor=\"center\",title_font_family=\"Times New Roman\",\n",
        "#     )\n",
        "# )\n",
        "# fig.update_layout(showlegend=False)\n",
        "fig.write_image(pathfig+\"fig4_ionization_green.pdf\",engine='kaleido')\n",
        "\n",
        "fig"
      ]
    },
    {
      "cell_type": "code",
      "execution_count": null,
      "id": "29876c02-cfaa-4aa3-baf7-390699aafaf8",
      "metadata": {
        "tags": [],
        "id": "29876c02-cfaa-4aa3-baf7-390699aafaf8"
      },
      "outputs": [],
      "source": [
        "def curve_func(x,a,m):\n",
        "    return m*pow(x,a)"
      ]
    },
    {
      "cell_type": "code",
      "execution_count": null,
      "id": "85d6e3c0-4da9-40ff-b392-f19a99445680",
      "metadata": {
        "tags": [],
        "id": "85d6e3c0-4da9-40ff-b392-f19a99445680"
      },
      "outputs": [],
      "source": [
        "paras_green_ion = curve_fit(curve_func, power_g, np.squeeze(ionization_green))\n",
        "paras_975_ion_100 = curve_fit(curve_func, power_g, np.squeeze(ionization_975)[:,-1])\n",
        "paras_1064_ion_100 = curve_fit(curve_func, power_g, np.squeeze(ionization_1064)[:,-1])\n",
        "paras_975_ion_70 = curve_fit(curve_func, power_g, np.squeeze(ionization_975)[:,-2])\n",
        "paras_1064_ion_70 = curve_fit(curve_func, power_g, np.squeeze(ionization_1064)[:,-2])\n",
        "paras_975_ion_50 = curve_fit(curve_func, power_g, np.squeeze(ionization_975)[:,-3])\n",
        "paras_1064_ion_50 = curve_fit(curve_func, power_g, np.squeeze(ionization_1064)[:,-3])\n",
        "paras_975_ion_20 = curve_fit(curve_func, power_g, np.squeeze(ionization_975)[:,-4])\n",
        "paras_1064_ion_20 = curve_fit(curve_func, power_g, np.squeeze(ionization_1064)[:,-4])\n",
        "\n",
        "paras_green_rec = curve_fit(curve_func, power_g, np.squeeze(recombination_green))\n",
        "paras_975_rec_100 = curve_fit(curve_func, power_g, np.squeeze(recombination_975)[:,-1])\n",
        "paras_1064_rec_100 = curve_fit(curve_func, power_g, np.squeeze(recombination_1064)[:,-1])\n",
        "paras_975_rec_70 = curve_fit(curve_func, power_g, np.squeeze(recombination_975)[:,-2])\n",
        "paras_1064_rec_70 = curve_fit(curve_func, power_g, np.squeeze(recombination_1064)[:,-2])\n",
        "paras_975_rec_50 = curve_fit(curve_func, power_g, np.squeeze(recombination_975)[:,-3])\n",
        "paras_1064_rec_50 = curve_fit(curve_func, power_g, np.squeeze(recombination_1064)[:,-3])\n",
        "paras_975_rec_20 = curve_fit(curve_func, power_g, np.squeeze(recombination_975)[:,-4])\n",
        "paras_1064_rec_20 = curve_fit(curve_func, power_g, np.squeeze(recombination_1064)[:,-4])"
      ]
    },
    {
      "cell_type": "code",
      "execution_count": null,
      "id": "6fa3cdb7-32d0-4dda-b98e-d668b4ae01e1",
      "metadata": {
        "tags": [],
        "id": "6fa3cdb7-32d0-4dda-b98e-d668b4ae01e1"
      },
      "outputs": [],
      "source": [
        "np.round(paras_green_ion[0],3),np.round(paras_green_rec[0],3)    ### (a,m) in function : m*pow(x,a)"
      ]
    },
    {
      "cell_type": "code",
      "execution_count": null,
      "id": "516b636a-5a4d-4340-879b-baf0fb8ab617",
      "metadata": {
        "tags": [],
        "id": "516b636a-5a4d-4340-879b-baf0fb8ab617"
      },
      "outputs": [],
      "source": [
        "np.round(paras_975_ion_100[0],3),np.round(paras_975_ion_70[0],3),np.round(paras_975_ion_50[0],3),np.round(paras_975_ion_20[0],3)"
      ]
    },
    {
      "cell_type": "code",
      "execution_count": null,
      "id": "d6377ee2-9acd-420d-9564-09c6a4e03e49",
      "metadata": {
        "tags": [],
        "id": "d6377ee2-9acd-420d-9564-09c6a4e03e49"
      },
      "outputs": [],
      "source": [
        "np.round(paras_975_rec_100[0],3),np.round(paras_975_rec_70[0],3),np.round(paras_975_rec_50[0],3),np.round(paras_975_rec_20[0],3)"
      ]
    },
    {
      "cell_type": "code",
      "execution_count": null,
      "id": "7ce871a3-a17e-4a15-84c7-3f82156fd950",
      "metadata": {
        "tags": [],
        "id": "7ce871a3-a17e-4a15-84c7-3f82156fd950"
      },
      "outputs": [],
      "source": [
        "np.round(paras_1064_ion_100[0],3),np.round(paras_1064_ion_70[0],3),np.round(paras_1064_ion_50[0],3),np.round(paras_1064_ion_20[0],3)"
      ]
    },
    {
      "cell_type": "code",
      "execution_count": null,
      "id": "da36eb59-803c-47d5-8b1a-d6d7ea06496b",
      "metadata": {
        "tags": [],
        "id": "da36eb59-803c-47d5-8b1a-d6d7ea06496b"
      },
      "outputs": [],
      "source": [
        "np.round(paras_1064_rec_100[0],3),np.round(paras_1064_rec_70[0],3),np.round(paras_1064_rec_50[0],3),np.round(paras_1064_rec_20[0],3)"
      ]
    },
    {
      "cell_type": "code",
      "execution_count": null,
      "id": "ce82ae25-59ef-4d99-9a81-fdd035bdd69a",
      "metadata": {
        "tags": [],
        "id": "ce82ae25-59ef-4d99-9a81-fdd035bdd69a"
      },
      "outputs": [],
      "source": [
        "print('Fitting the function \"m*x^a\" in the Ionization rates and Recombination rates (with green Power in the xaxis) \\nfor different lasers with increasing order of power, the values for (a,m): \\n')\n",
        "print(f'for 532nm, Ionization rate: {np.round(paras_green_ion[0],3)}\\t Recombination rate: {np.round(paras_green_rec[0],3)}')    ### (a,m) in function : m*pow(x,a)\n",
        "print(f'for 975nm,\\n Ionization rate: {np.round(paras_975_ion_20[0],3)},{np.round(paras_975_ion_50[0],3)},{np.round(paras_975_ion_70[0],3)},{np.round(paras_975_ion_100[0],3)}')\n",
        "print(f' Recombination rate: {np.round(paras_975_rec_20[0],3)},{np.round(paras_975_rec_50[0],3)},{np.round(paras_975_rec_70[0],3)},{np.round(paras_975_rec_100[0],3)}')\n",
        "print(f'\\nfor 1064nm,\\n Ionization rate: {np.round(paras_1064_ion_20[0],3)},{np.round(paras_1064_ion_50[0],3)},{np.round(paras_1064_ion_70[0],3)},{np.round(paras_1064_ion_100[0],3)}')\n",
        "print(f' Recombination rate: {np.round(paras_1064_rec_20[0],3)},{np.round(paras_1064_rec_50[0],3)},{np.round(paras_1064_rec_70[0],3)},{np.round(paras_1064_rec_100[0],3)}')"
      ]
    },
    {
      "cell_type": "code",
      "execution_count": null,
      "id": "4b38eae4-3220-4f9b-904b-d20716e4bb25",
      "metadata": {
        "tags": [],
        "id": "4b38eae4-3220-4f9b-904b-d20716e4bb25"
      },
      "outputs": [],
      "source": [
        "fig = go.Figure()\n",
        "\n",
        "fig.add_scatter(x=power_g,y=np.squeeze(ionization_green),mode='lines',line=dict(width=2+0.5,color=vivid[3]),marker=dict(\n",
        "            color='LightSkyBlue',\n",
        "            symbol=\"triangle-right-dot\",\n",
        "            size=12,\n",
        "            line=dict(\n",
        "                color='MediumPurple',\n",
        "                width=1.0+0.3\n",
        "            ),opacity=0.9\n",
        "        ),opacity=1.0,name='532 nm')\n",
        "\n",
        "fig.add_scatter(x=power_g,y=np.squeeze(ionization_975)[:,-1],mode='lines',line=dict(width=2+0.5,color=g10[2]),marker=dict(\n",
        "            color=g10[2],\n",
        "            symbol=\"triangle-right-dot\",\n",
        "            size=12,\n",
        "            line=dict(\n",
        "                color=g10[2],\n",
        "                width=1.0+0.3\n",
        "            ),opacity=0.9\n",
        "        ),opacity=1.0,name='975 nm')\n",
        "\n",
        "fig.add_scatter(x=power_g,y=np.squeeze(ionization_1064)[:,-1],mode='lines',line=dict(width=2+0.5,color=g10[8]),marker=dict(\n",
        "            color=plotly[0],\n",
        "            symbol=\"triangle-right-dot\",\n",
        "            size=12,\n",
        "            line=dict(\n",
        "                color=g10[8],\n",
        "                width=1.0+0.3\n",
        "            ),opacity=0.9\n",
        "        ),opacity=1.0,name='1064 nm')\n",
        "\n",
        "fig.update_layout(template=fig_template,height=450, width=600,xaxis = dict(title = 'Green Power (&mu;W)',range=[40,90]),yaxis = dict(title = 'I<sub>eff</sub>  ( &times; 10<sup>3</sup>s<sup>-1</sup> )'))\n",
        "\n",
        "# fig.add_annotation( # add a text callout with arrow\n",
        "#     text=\"Green <br> normalized\",yref='paper',xref='paper', x=1.27,y=1.1, showarrow=False,\n",
        "#     font_family=\"Droid Serif\",textangle=0\n",
        "# )\n",
        "\n",
        "# fig.update_layout( # customize font and legend orientation & position\n",
        "#     legend=dict(\n",
        "#         title='', orientation=\"v\", y=0.25, yanchor=\"bottom\", x=1.2, xanchor=\"center\",bordercolor=\"Black\",borderwidth=0.2\n",
        "#     )\n",
        "# )\n",
        "\n",
        "fig.update_layout( # customize font and legend orientation & position\n",
        "    legend=dict(\n",
        "        title=None, orientation=\"h\", y=1.1, yanchor=\"bottom\", x=0.43, xanchor=\"center\",title_font_family=\"Times New Roman\",\n",
        "    )\n",
        ")\n",
        "# fig.update_layout(showlegend=False)\n",
        "fig.write_image(pathfig+\"fig4_ionization_green.pdf\",engine='kaleido')\n",
        "\n",
        "fig"
      ]
    },
    {
      "cell_type": "code",
      "execution_count": null,
      "id": "39b58076-cf69-4bae-9829-751216a452d0",
      "metadata": {
        "tags": [],
        "id": "39b58076-cf69-4bae-9829-751216a452d0"
      },
      "outputs": [],
      "source": [
        "fig = go.Figure()\n",
        "\n",
        "fig.add_scatter(x=power_g,y=np.squeeze(ionization_green),mode='lines',line=dict(width=2+0.5,color=vivid[3]),marker=dict(\n",
        "            color='LightSkyBlue',\n",
        "            symbol=\"triangle-right-dot\",\n",
        "            size=12,\n",
        "            line=dict(\n",
        "                color='MediumPurple',\n",
        "                width=1.0+0.3\n",
        "            ),opacity=0.9\n",
        "        ),opacity=1.0,name='532 nm')\n",
        "fig.update_layout(template=fig_template,height=450, width=600,xaxis = dict(title = 'Green Power (&mu;W)',range=[40,90]),yaxis = dict(title = 'I<sub>eff</sub>  ( &times; 10<sup>3</sup>s<sup>-1</sup> )'))\n",
        "\n",
        "# fig.add_annotation( # add a text callout with arrow\n",
        "#     text=\"Green <br> normalized\",yref='paper',xref='paper', x=1.27,y=1.1, showarrow=False,\n",
        "#     font_family=\"Droid Serif\",textangle=0\n",
        "# )\n",
        "\n",
        "# fig.update_layout( # customize font and legend orientation & position\n",
        "#     legend=dict(\n",
        "#         title='', orientation=\"v\", y=0.25, yanchor=\"bottom\", x=1.2, xanchor=\"center\",bordercolor=\"Black\",borderwidth=0.2\n",
        "#     )\n",
        "# )\n",
        "\n",
        "fig.update_layout( # customize font and legend orientation & position\n",
        "    legend=dict(\n",
        "        title=None, orientation=\"h\", y=0.8, yanchor=\"bottom\", x=0.73, xanchor=\"center\",title_font_family=\"Times New Roman\",\n",
        "    )\n",
        ")\n",
        "# fig.update_layout(showlegend=False)\n",
        "fig.write_image(pathfig+\"fig4_ionization_green_inset.pdf\",engine='kaleido')\n",
        "\n",
        "fig"
      ]
    },
    {
      "cell_type": "code",
      "execution_count": null,
      "id": "119bcb3e-4d9b-4e6a-b0fc-d858e16268e8",
      "metadata": {
        "tags": [],
        "id": "119bcb3e-4d9b-4e6a-b0fc-d858e16268e8"
      },
      "outputs": [],
      "source": [
        "fig = go.Figure()\n",
        "fig.add_scatter(x=power_g,y=np.squeeze(recombination_green),mode='lines',line=dict(width=2+0.5,color=vivid[3]),marker=dict(\n",
        "            color='LightSkyBlue',\n",
        "            symbol=\"triangle-right-dot\",\n",
        "            size=12,\n",
        "            line=dict(\n",
        "                color='MediumPurple',\n",
        "                width=1.0+0.3\n",
        "            ),opacity=0.9\n",
        "        ),opacity=1.0,name='532 nm')\n",
        "fig.add_scatter(x=power_g,y=np.squeeze(recombination_975)[:,-1],mode='lines',line=dict(width=2+0.5,color=g10[2]),marker=dict(\n",
        "            color=g10[2],\n",
        "            symbol=\"triangle-right-dot\",\n",
        "            size=12,\n",
        "            line=dict(\n",
        "                color=g10[2],\n",
        "                width=1.0+0.3\n",
        "            ),opacity=0.9\n",
        "        ),opacity=1.0,name='975 nm')\n",
        "fig.add_scatter(x=power_g,y=np.squeeze(recombination_1064)[:,-1],mode='lines',line=dict(width=2+0.5,color=g10[8]),marker=dict(\n",
        "            color=plotly[0],\n",
        "            symbol=\"triangle-right-dot\",\n",
        "            size=12,\n",
        "            line=dict(\n",
        "                color=g10[8],\n",
        "                width=1.0+0.3\n",
        "            ),opacity=0.9\n",
        "        ),opacity=1.0,name='1064 nm')\n",
        "\n",
        "fig.update_layout(template=fig_template,height=450, width=600,xaxis = dict(title = 'Green Power (&mu;W)',range=[40,90]),yaxis = dict(title = 'R<sub>eff</sub>  ( &times; 10<sup>3</sup>s<sup>-1</sup> )'))\n",
        "\n",
        "# fig.add_annotation( # add a text callout with arrow\n",
        "#     text=\"Green <br> normalized\",yref='paper',xref='paper', x=1.27,y=1.1, showarrow=False,\n",
        "#     font_family=\"Droid Serif\",textangle=0\n",
        "# )\n",
        "\n",
        "# fig.update_layout( # customize font and legend orientation & position\n",
        "#     legend=dict(\n",
        "#         title='', orientation=\"v\", y=0.25, yanchor=\"bottom\", x=1.2, xanchor=\"center\",bordercolor=\"Black\",borderwidth=0.2\n",
        "#     )\n",
        "# )\n",
        "\n",
        "fig.update_layout( # customize font and legend orientation & position\n",
        "    legend=dict(\n",
        "        title=None, orientation=\"h\", y=1.1, yanchor=\"bottom\", x=0.43, xanchor=\"center\",title_font_family=\"Times New Roman\",\n",
        "    )\n",
        ")\n",
        "# fig.update_layout(showlegend=False)\n",
        "fig.write_image(pathfig+\"fig4_recombination_green.pdf\",engine='kaleido')\n",
        "\n",
        "fig"
      ]
    },
    {
      "cell_type": "code",
      "execution_count": null,
      "id": "07aa442d-b734-4a99-8e8c-84fe5110cc5d",
      "metadata": {
        "tags": [],
        "id": "07aa442d-b734-4a99-8e8c-84fe5110cc5d"
      },
      "outputs": [],
      "source": [
        "fig = go.Figure()\n",
        "fig.add_scatter(x=power_g,y=np.squeeze(recombination_green),mode='lines',line=dict(width=2+0.5,color=vivid[3]),marker=dict(\n",
        "            color='LightSkyBlue',\n",
        "            symbol=\"triangle-right-dot\",\n",
        "            size=12,\n",
        "            line=dict(\n",
        "                color='MediumPurple',\n",
        "                width=1.0+0.3\n",
        "            ),opacity=0.9\n",
        "        ),opacity=1.0,name='532 nm')\n",
        "\n",
        "fig.update_layout(template=fig_template,height=450, width=600,xaxis = dict(title = 'Green Power (&mu;W)',range=[40,90]),yaxis = dict(title = 'R<sub>eff</sub>  ( &times; 10<sup>3</sup>s<sup>-1</sup> )'))\n",
        "\n",
        "# fig.add_annotation( # add a text callout with arrow\n",
        "#     text=\"Green <br> normalized\",yref='paper',xref='paper', x=1.27,y=1.1, showarrow=False,\n",
        "#     font_family=\"Droid Serif\",textangle=0\n",
        "# )\n",
        "\n",
        "# fig.update_layout( # customize font and legend orientation & position\n",
        "#     legend=dict(\n",
        "#         title='', orientation=\"v\", y=0.25, yanchor=\"bottom\", x=1.2, xanchor=\"center\",bordercolor=\"Black\",borderwidth=0.2\n",
        "#     )\n",
        "# )\n",
        "\n",
        "fig.update_layout( # customize font and legend orientation & position\n",
        "    legend=dict(\n",
        "        title=None, orientation=\"h\", y=0.8, yanchor=\"bottom\", x=0.73, xanchor=\"center\",title_font_family=\"Times New Roman\",\n",
        "    )\n",
        ")\n",
        "# fig.update_layout(showlegend=False)\n",
        "fig.write_image(pathfig+\"fig4_recombination_green_inset.pdf\",engine='kaleido')\n",
        "\n",
        "fig"
      ]
    },
    {
      "cell_type": "code",
      "execution_count": null,
      "id": "326ee281-9519-4f66-aa21-67a1d685824b",
      "metadata": {
        "tags": [],
        "id": "326ee281-9519-4f66-aa21-67a1d685824b"
      },
      "outputs": [],
      "source": [
        "fig = go.Figure()\n",
        "fig.add_scatter(x=df['power_g'],y=df['ion_1064'],mode='lines',line=dict(width=3+0.5,color=g10[8]),marker=dict(\n",
        "            color='LightSkyBlue',\n",
        "            symbol=\"triangle-right-dot\",\n",
        "            size=12,\n",
        "            line=dict(\n",
        "                color='MediumPurple',\n",
        "                width=1.0+0.3\n",
        "            ),opacity=0.9\n",
        "        ),opacity=1.0,name='1064 nm')\n",
        "fig.add_scatter(x=df['power_g'],y=df['ion_975'],mode='lines',line=dict(width=3+0.5,color=g10[2]),marker=dict(\n",
        "            color=plotly[0],\n",
        "            symbol=\"triangle-right-dot\",\n",
        "            size=12,\n",
        "            line=dict(\n",
        "                color=plotly[4],\n",
        "                width=1.0+0.3\n",
        "            ),opacity=0.9\n",
        "        ),opacity=1.0,name='975 nm')\n",
        "\n",
        "fig.update_layout(template=fig_template,height=450, width=600,xaxis = dict(title = 'Green Power (&mu;W)',range=[40,90]),yaxis = dict(title = 'Inoization Rate',range=[0,260]))\n",
        "\n",
        "# fig.add_annotation( # add a text callout with arrow\n",
        "#     text=\"Green <br> normalized\",yref='paper',xref='paper', x=1.27,y=1.1, showarrow=False,\n",
        "#     font_family=\"Droid Serif\",textangle=0\n",
        "# )\n",
        "\n",
        "# fig.update_layout( # customize font and legend orientation & position\n",
        "#     legend=dict(\n",
        "#         title='', orientation=\"v\", y=0.25, yanchor=\"bottom\", x=1.2, xanchor=\"center\",bordercolor=\"Black\",borderwidth=0.2\n",
        "#     )\n",
        "# )\n",
        "\n",
        "fig.update_layout( # customize font and legend orientation & position\n",
        "    legend=dict(\n",
        "        title=None, orientation=\"h\", y=0.8, yanchor=\"bottom\", x=0.73, xanchor=\"center\",title_font_family=\"Times New Roman\",\n",
        "    )\n",
        ")\n",
        "# fig.update_layout(showlegend=False)\n",
        "fig.write_image(pathfig+\"fig4_ion.pdf\",engine='kaleido')\n",
        "\n",
        "fig"
      ]
    },
    {
      "cell_type": "code",
      "execution_count": null,
      "id": "78f84818-83f6-454b-832f-fb8c10b6d866",
      "metadata": {
        "tags": [],
        "id": "78f84818-83f6-454b-832f-fb8c10b6d866"
      },
      "outputs": [],
      "source": [
        "fig = go.Figure()\n",
        "fig.add_scatter(x=df['power_g'],y=df['rec_1064'],mode='lines',line=dict(width=3+0.5,color=g10[8]),marker=dict(\n",
        "            color='LightSkyBlue',\n",
        "            symbol=\"triangle-right-dot\",\n",
        "            size=12,\n",
        "            line=dict(\n",
        "                color='MediumPurple',\n",
        "                width=1.0+0.3\n",
        "            ),opacity=0.9\n",
        "        ),opacity=1.0,name='1064 nm')\n",
        "fig.add_scatter(x=df['power_g'],y=df['rec_975'],mode='lines',line=dict(width=3+0.5,color=g10[2]),marker=dict(\n",
        "            color=plotly[0],\n",
        "            symbol=\"triangle-right-dot\",\n",
        "            size=12,\n",
        "            line=dict(\n",
        "                color=plotly[4],\n",
        "                width=1.0+0.3\n",
        "            ),opacity=0.9\n",
        "        ),opacity=1.0,name='975 nm')\n",
        "\n",
        "fig.update_layout(template=fig_template,height=450, width=600,xaxis = dict(title = 'Green Power (&mu;W)',range=[40,90]),yaxis = dict(title = 'Recombination Rate',range=[0,260]))\n",
        "fig.update_layout( # customize font and legend orientation & position\n",
        "    legend=dict(\n",
        "        title=None, orientation=\"h\", y=0.8, yanchor=\"bottom\", x=0.73, xanchor=\"center\",title_font_family=\"Times New Roman\",\n",
        "    )\n",
        ")\n",
        "\n",
        "fig.write_image(pathfig+\"fig4_rec.pdf\",engine='kaleido')\n",
        "fig"
      ]
    },
    {
      "cell_type": "code",
      "execution_count": null,
      "id": "7b6ce27b-c4c1-45b4-b8fd-7c9bf3825299",
      "metadata": {
        "tags": [],
        "id": "7b6ce27b-c4c1-45b4-b8fd-7c9bf3825299"
      },
      "outputs": [],
      "source": [
        "std_error"
      ]
    },
    {
      "cell_type": "code",
      "execution_count": null,
      "id": "d35b3dd0-f7e2-4ebf-badb-2ea151ea1400",
      "metadata": {
        "tags": [],
        "id": "d35b3dd0-f7e2-4ebf-badb-2ea151ea1400"
      },
      "outputs": [],
      "source": [
        "fig = go.Figure()\n",
        "fig.add_bar(x=x_error,y=hist_error,name='intensity_error',marker=dict(line=dict(width=1.5,color='black')),marker_color=px.colors.qualitative.Set1[6],opacity=0.9)\n",
        "\n",
        "\n",
        "fig.update_layout(template=fig_template,height=450, width=600,xaxis = dict(title = '', ))\n",
        "\n",
        "fig.update_layout( # customize font and legend orientation & position\n",
        "    legend=dict(\n",
        "        title=None, orientation=\"h\", y=0.8, yanchor=\"bottom\", x=0.6, xanchor=\"center\",title_font_family=\"Times New Roman\",\n",
        "    )\n",
        ")\n",
        "\n",
        "fig.update_layout(uniformtext_minsize=10, uniformtext_mode='hide')\n",
        "# fig.update_xaxes(showticklabels=False)\n",
        "fig.update_xaxes(tickangle=0)\n",
        "fig.update_yaxes(title_font_family=\"Times New Roman\");fig.update_xaxes(title_font_family=\"Times New Roman\")\n",
        "fig.update_layout(template=fig_template,height=450, width=600,xaxis = dict(title = 'Integrated Photoluminescence (Normalized)'))\n",
        "\n",
        "fig.add_annotation(x=0.85, y=5,\n",
        "            text=f\"&#963; &#8260;&#8730;n = {np.round(std_error,3)} \",\n",
        "            showarrow=False,\n",
        "            )\n",
        "fig.write_image(pathfig+\"errorbars.pdf\",engine='kaleido')\n",
        "fig.show()"
      ]
    },
    {
      "cell_type": "code",
      "execution_count": null,
      "id": "5040f923-dc5d-4ea3-8303-59827611948a",
      "metadata": {
        "tags": [],
        "id": "5040f923-dc5d-4ea3-8303-59827611948a"
      },
      "outputs": [],
      "source": [
        "fig = go.Figure()\n",
        "fig.add_scatter(x=num_error,y=ratio_error,name='ratio of errors (set1)',mode=\"markers\",)\n",
        "\n",
        "fig.update_layout( # customize font and legend orientation & position\n",
        "    legend=dict(\n",
        "        title=None, orientation=\"h\", y=0.8, yanchor=\"bottom\", x=0.6, xanchor=\"center\",title_font_family=\"Times New Roman\",\n",
        "    )\n",
        ")\n",
        "\n",
        "fig.update_layout(uniformtext_minsize=10, uniformtext_mode='hide')\n",
        "# fig.update_xaxes(showticklabels=False)\n",
        "fig.update_xaxes(tickangle=0)\n",
        "fig.update_yaxes(title_font_family=\"Times New Roman\");fig.update_xaxes(title_font_family=\"Times New Roman\")\n",
        "fig.update_layout(template=fig_template,height=450, width=600,xaxis = dict(title = 'Time (total length ~ 1 hour)'),yaxis = dict(title = 'Charge Ratio (from PLs or errorbars)'))\n",
        "\n",
        "fig.write_image(pathfig+\"Ratio_errorbars.pdf\",engine='kaleido')\n",
        "fig.show()"
      ]
    }
  ],
  "metadata": {
    "colab": {
      "provenance": [],
      "include_colab_link": true
    },
    "kernelspec": {
      "display_name": "Python 3 (ipykernel)",
      "language": "python",
      "name": "python3"
    },
    "language_info": {
      "codemirror_mode": {
        "name": "ipython",
        "version": 3
      },
      "file_extension": ".py",
      "mimetype": "text/x-python",
      "name": "python",
      "nbconvert_exporter": "python",
      "pygments_lexer": "ipython3",
      "version": "3.11.7"
    }
  },
  "nbformat": 4,
  "nbformat_minor": 5
}