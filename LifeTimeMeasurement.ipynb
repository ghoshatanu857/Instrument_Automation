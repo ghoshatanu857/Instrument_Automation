{
  "nbformat": 4,
  "nbformat_minor": 0,
  "metadata": {
    "colab": {
      "provenance": [],
      "authorship_tag": "ABX9TyMs1F/G4luLbwfxbhtrekkf",
      "include_colab_link": true
    },
    "kernelspec": {
      "name": "python3",
      "display_name": "Python 3"
    },
    "language_info": {
      "name": "python"
    }
  },
  "cells": [
    {
      "cell_type": "markdown",
      "metadata": {
        "id": "view-in-github",
        "colab_type": "text"
      },
      "source": [
        "<a href=\"https://colab.research.google.com/github/ph20d204/Instrument_Automation/blob/main/LifeTimeMeasurement.ipynb\" target=\"_parent\"><img src=\"https://colab.research.google.com/assets/colab-badge.svg\" alt=\"Open In Colab\"/></a>"
      ]
    },
    {
      "cell_type": "code",
      "source": [
        "import numpy as np\n",
        "import inspect,dis,dill\n",
        "import sys\n",
        "from time import *\n",
        "import pulsestreamer\n",
        "from pulsestreamer import PulseStreamer,findPulseStreamers,OutputState,TriggerStart,Sequence"
      ],
      "metadata": {
        "id": "xvObEvg5GMGb"
      },
      "execution_count": 5,
      "outputs": []
    },
    {
      "cell_type": "code",
      "source": [
        "IPaddress = findPulseStreamers(search_serial='')[0][0]\n",
        "pulser = PulseStreamer(IPaddress)"
      ],
      "metadata": {
        "id": "-ZRDtflEG9f2"
      },
      "execution_count": null,
      "outputs": []
    },
    {
      "cell_type": "code",
      "source": [
        "delay=input('Prefered Delay time for Pulse Streamer for one continuous time_length : ')\n",
        "laser_on=input('Laser on time : '); laser_off=input('Laser off time : ')\n",
        "read_on=input('Counter on time : ')\n",
        "guess_repeats=input('Prefered number of guess_repeats of one laser_block : '); averages=input('The number of averages : ')\n",
        "n_runs=input('No of times the complete Sequence runs : ')\n",
        "laser_port=input('Laser port No : '); ref_port=input('Reference Counter port No : '); read_port=input('Read Counter port No : ')"
      ],
      "metadata": {
        "colab": {
          "base_uri": "https://localhost:8080/"
        },
        "id": "snGS4WP_JrKl",
        "outputId": "e7a47315-ebc1-4928-e445-3360901ecce8"
      },
      "execution_count": 27,
      "outputs": [
        {
          "name": "stdout",
          "output_type": "stream",
          "text": [
            "prefered Delay time for Pulse Streamer for one continuous time_length: 50\n",
            "Laser on time: 1000\n",
            "Laser off time: 3000\n",
            "counter on time: 150\n",
            "prefered number of guess_repeats of one laser_block: 20\n",
            "the number of averages: 10\n",
            "Laser port No: 0\n",
            "Reference port No: 1\n",
            "Counter port No: 2\n"
          ]
        }
      ]
    },
    {
      "cell_type": "code",
      "execution_count": 16,
      "metadata": {
        "id": "TGawZzGEktRe"
      },
      "outputs": [],
      "source": [
        "def lifetime(pulser,nidaq,introduced_delay,laser_on,laser_off,read_on,guess_repeats,averages,n_runs,*ports):  # all in nanosecond range\n",
        "\n",
        "  ## Checking the initial condition of Pulse Streamer\n",
        "  if pulser.hasSequence()!=0:\n",
        "    print('Pulse Streamer has a Sequence. Do you want to proceed?\\n')\n",
        "    permission = int(input('Press 0/1 : \\n'))\n",
        "  if permission==0:\n",
        "    pass\n",
        "\n",
        "  ## Producing the Patterns\n",
        "  init_laser_off = introduced_delay ; end_laser_off = introduced_delay\n",
        "  laser_block = [(laser_on,1),(laser_off,0)]\n",
        "  laser_pattern = [(init_laser_off,0)]; ref_pattern = [(init_laser_off,0)]; read_pattern = [(init_laser_off,0)]\n",
        "  for t in range(int(guess_repeats)):\n",
        "    position = laser_on+t*read_on; remain = laser_off-t*read_on-read_on\n",
        "    if remain<=0:\n",
        "      break\n",
        "    laser_pattern += laser_block\n",
        "    ref_pattern += [(laser_on,0),(read_on,1),(laser_off-read_on,0)]\n",
        "    read_pattern += [(position,0),(read_on,1),(remain,0)]\n",
        "  laser_pattern +=[(end_laser_off,0)]; ref_pattern +=[(end_laser_off,0)]; read_pattern += [(end_laser_off,0)]\n",
        "\n",
        "  ## Producing the Sequences\n",
        "  reSet = pulser.reset()\n",
        "  if reSet==0:\n",
        "    print('Pulse Streamer has been reset.\\n')\n",
        "  seq = pulser.createSequence()\n",
        "  seq.setDigital(ports[0],laser_pattern) ; seq.setDigital(ports[1],ref_pattern) ; seq.setDigital(ports[3],read_pattern)\n",
        "  print(f'Plot of the Sequence without averaging:\\n {seq.plot()}\\n')\n",
        "  seq*=averages\n",
        "\n",
        "  ## Checking the Conditions\n",
        "  if pulser.hasSequence()!=0:\n",
        "    print('Pulse Streamer has no Sequence uploaded!')\n",
        "    pass\n",
        "  if seq.isEmpty()==0:\n",
        "    print('Sequence to Pulse Streamer is empty!')\n",
        "    pass\n",
        "  if seq.getDuration()%8==0:\n",
        "    print(\"Sequence duration is not multiple of 8ns!\\n Please check by 'seq.get_pad()' method.\")\n",
        "    pass\n",
        "\n",
        "  ## Performing the Streaming\n",
        "  pulser.stream(seq,n_runs=n_runs,final=([],0,0))\n",
        "  if pulser.hasFinished()==1:\n",
        "    print('Streaming has been finished.\\n')\n",
        "  reSet = pulser.reset()\n",
        "  if reSet==0:\n",
        "    print('Pulse Streamer has been reset after Streaming.\\n')\n",
        "  # return laser_pattern,ref_pattern,read_pattern"
      ]
    },
    {
      "cell_type": "code",
      "source": [
        "# ## Choosing the Devices\n",
        "# use_pulser=input('Enter your specific Pulse Streamer: ')\n",
        "# use_nidaq=input('Enter your specific NIDAQmx: ')\n",
        "\n",
        "lifetime(pulser,_,delay,laser_on,laser_off,read_on,guess_repeats,averages,n_runs,laser_port,ref_port,read_port)"
      ],
      "metadata": {
        "colab": {
          "base_uri": "https://localhost:8080/"
        },
        "id": "U88WPYbpnnfs",
        "outputId": "1a57238a-0a21-4441-849b-28289ae0fe45"
      },
      "execution_count": 66,
      "outputs": [
        {
          "output_type": "execute_result",
          "data": {
            "text/plain": [
              "1"
            ]
          },
          "metadata": {},
          "execution_count": 66
        }
      ]
    }
  ]
}