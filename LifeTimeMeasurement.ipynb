{
  "nbformat": 4,
  "nbformat_minor": 0,
  "metadata": {
    "colab": {
      "provenance": [],
      "authorship_tag": "ABX9TyOQl6ZdoDRaQqBucw0XfErH",
      "include_colab_link": true
    },
    "kernelspec": {
      "name": "python3",
      "display_name": "Python 3"
    },
    "language_info": {
      "name": "python"
    }
  },
  "cells": [
    {
      "cell_type": "markdown",
      "metadata": {
        "id": "view-in-github",
        "colab_type": "text"
      },
      "source": [
        "<a href=\"https://colab.research.google.com/github/ph20d204/Instrument_Automation/blob/main/LifeTimeMeasurement.ipynb\" target=\"_parent\"><img src=\"https://colab.research.google.com/assets/colab-badge.svg\" alt=\"Open In Colab\"/></a>"
      ]
    },
    {
      "cell_type": "code",
      "source": [
        "# !pip install pulsestreamer\n",
        "import numpy as np\n",
        "import inspect,dis\n",
        "import sys\n",
        "from time import *\n",
        "import pulsestreamer\n",
        "import pprint\n",
        "from pulsestreamer import PulseStreamer,findPulseStreamers,OutputState,TriggerStart,Sequence"
      ],
      "metadata": {
        "colab": {
          "base_uri": "https://localhost:8080/"
        },
        "id": "xvObEvg5GMGb",
        "outputId": "9bc979b1-65b9-4463-9420-1f877a19b7a2"
      },
      "execution_count": 5,
      "outputs": [
        {
          "output_type": "stream",
          "name": "stdout",
          "text": [
            "Requirement already satisfied: pulsestreamer in /usr/local/lib/python3.10/dist-packages (1.7.0)\n",
            "Requirement already satisfied: requests in /usr/local/lib/python3.10/dist-packages (from pulsestreamer) (2.31.0)\n",
            "Requirement already satisfied: tinyrpc<=1.1.0 in /usr/local/lib/python3.10/dist-packages (from pulsestreamer) (1.1.0)\n",
            "Requirement already satisfied: gevent-websocket in /usr/local/lib/python3.10/dist-packages (from pulsestreamer) (0.10.1)\n",
            "Requirement already satisfied: numpy in /usr/local/lib/python3.10/dist-packages (from pulsestreamer) (1.23.5)\n",
            "Requirement already satisfied: six in /usr/local/lib/python3.10/dist-packages (from tinyrpc<=1.1.0->pulsestreamer) (1.16.0)\n",
            "Requirement already satisfied: gevent in /usr/local/lib/python3.10/dist-packages (from gevent-websocket->pulsestreamer) (23.9.1)\n",
            "Requirement already satisfied: charset-normalizer<4,>=2 in /usr/local/lib/python3.10/dist-packages (from requests->pulsestreamer) (3.3.2)\n",
            "Requirement already satisfied: idna<4,>=2.5 in /usr/local/lib/python3.10/dist-packages (from requests->pulsestreamer) (3.6)\n",
            "Requirement already satisfied: urllib3<3,>=1.21.1 in /usr/local/lib/python3.10/dist-packages (from requests->pulsestreamer) (2.0.7)\n",
            "Requirement already satisfied: certifi>=2017.4.17 in /usr/local/lib/python3.10/dist-packages (from requests->pulsestreamer) (2024.2.2)\n",
            "Requirement already satisfied: zope.event in /usr/local/lib/python3.10/dist-packages (from gevent->gevent-websocket->pulsestreamer) (5.0)\n",
            "Requirement already satisfied: zope.interface in /usr/local/lib/python3.10/dist-packages (from gevent->gevent-websocket->pulsestreamer) (6.1)\n",
            "Requirement already satisfied: greenlet>=2.0.0 in /usr/local/lib/python3.10/dist-packages (from gevent->gevent-websocket->pulsestreamer) (3.0.3)\n",
            "Requirement already satisfied: setuptools in /usr/local/lib/python3.10/dist-packages (from zope.event->gevent->gevent-websocket->pulsestreamer) (67.7.2)\n"
          ]
        }
      ]
    },
    {
      "cell_type": "code",
      "source": [
        "IPaddress = findPulseStreamers(search_serial='')[0][0]\n",
        "pulser = PulseStreamer(IPaddress)"
      ],
      "metadata": {
        "id": "-ZRDtflEG9f2"
      },
      "execution_count": null,
      "outputs": []
    },
    {
      "cell_type": "code",
      "source": [
        "# all in nanosecond range\n",
        "delay1=50; delay2=20\n",
        "laser_on=1000; Tmax=3000\n",
        "read_on=150\n",
        "steps=5; samples=1000; averages=10\n",
        "laser_port=0; readout_port=1\n",
        "\n",
        "t_vec=np.linspace(0,Tmax,num=steps)"
      ],
      "metadata": {
        "id": "r_WXFw-55B7x"
      },
      "execution_count": 43,
      "outputs": []
    },
    {
      "cell_type": "code",
      "execution_count": 44,
      "metadata": {
        "id": "TGawZzGEktRe"
      },
      "outputs": [],
      "source": [
        "def lifetime(delay1,delay2,laser_on,t_vec,read_on,averages,samples,*ports):  # all in nanosecond range\n",
        "\n",
        "  ## Checking the initial condition of Pulse Streamer\n",
        "  # if pulser.hasSequence()!=0:\n",
        "  #   print('Pulse Streamer has a Sequence. Do you want to proceed?\\n')\n",
        "  #   permission = int(input('Press 0/1 : \\n'))\n",
        "  # if permission==0:\n",
        "  #   pass\n",
        "\n",
        "  ## Producing the Patterns\n",
        "  laser_block = [(delay2,0),(laser_on,1),(delay2+t_vec[-1],0)]\n",
        "  laser_pattern = [(delay1,0)]; signal_pattern = [(delay1,0)]\n",
        "\n",
        "  for t in range(t_vec.shape[0]-1):\n",
        "    if t_vec.shape[0] > t_vec[-1]/read_on:\n",
        "      print(f'Please reduce the step numbers. Maximum allowed steps: {t_vec[-1]/read_on}')\n",
        "      break\n",
        "    laser_pattern += laser_block\n",
        "    signal_pattern += [((2*delay2+laser_on),0),(read_on,1),(delay2+t_vec[t],0),(read_on,1),(t_vec[-1]-t_vec[t]-delay2-2*read_on,0)]\n",
        "\n",
        "  if t_vec.shape[0] > t_vec[-1]/read_on:\n",
        "    pass\n",
        "  laser_pattern +=[(delay1,0)]; signal_pattern +=[(delay1,0)]\n",
        "\n",
        "  # ## Producing the Sequences\n",
        "  # reSet = pulser.reset()\n",
        "  # if reSet==0:\n",
        "  #   print('Pulse Streamer has been reset.\\n')\n",
        "  # seq = pulser.createSequence()\n",
        "  # laser_port=ports[0]; ref_port=ports[1]; read_port=ports[2]\n",
        "  # seq.setDigital(laser_port,laser_pattern) ; seq.setDigital(ref_port,ref_pattern) ; seq.setDigital(read_port,read_pattern)\n",
        "  # print(f'Plot of the Sequence without averaging:\\n {seq.plot()}\\n')\n",
        "  # seq*=averages\n",
        "\n",
        "  # ## Checking the Conditions\n",
        "  # if pulser.hasSequence()!=0:\n",
        "  #   print('Pulse Streamer has no Sequence uploaded!')\n",
        "  #   pass\n",
        "  # if seq.isEmpty()==0:\n",
        "  #   print('Sequence to Pulse Streamer is empty!')\n",
        "  #   pass\n",
        "  # if seq.getDuration()%8==0:\n",
        "  #   print(\"Sequence duration is not multiple of 8ns!\\n Please check by 'seq.get_pad()' method.\")\n",
        "  #   pass\n",
        "\n",
        "  # ## Performing the Streaming\n",
        "  # pulser.stream(seq,n_runs=samples,final=([],0,0))\n",
        "  # if pulser.hasFinished()==1:\n",
        "  #   print('Streaming has been finished.\\n')\n",
        "  # reSet = pulser.reset()\n",
        "  # if reSet==0:\n",
        "  #   print('Pulse Streamer has been reset after Streaming.\\n')\n",
        "\n",
        "  return laser_pattern, signal_pattern"
      ]
    },
    {
      "cell_type": "code",
      "source": [
        "# ## Choosing the Devices\n",
        "# use_pulser=input('Enter your specific Pulse Streamer: ')\n",
        "# use_nidaq=input('Enter your specific NIDAQmx: ')\n",
        "\n",
        "lifetime(delay1,delay2,laser_on,t_vec,read_on,averages,samples,laser_port,readout_port)"
      ],
      "metadata": {
        "colab": {
          "base_uri": "https://localhost:8080/"
        },
        "id": "U88WPYbpnnfs",
        "outputId": "b04c4147-df5e-4b2f-ec82-d4d047df10a0"
      },
      "execution_count": 45,
      "outputs": [
        {
          "output_type": "execute_result",
          "data": {
            "text/plain": [
              "([(50, 0),\n",
              "  (20, 0),\n",
              "  (1000, 1),\n",
              "  (3020.0, 0),\n",
              "  (20, 0),\n",
              "  (1000, 1),\n",
              "  (3020.0, 0),\n",
              "  (20, 0),\n",
              "  (1000, 1),\n",
              "  (3020.0, 0),\n",
              "  (20, 0),\n",
              "  (1000, 1),\n",
              "  (3020.0, 0),\n",
              "  (50, 0)],\n",
              " [(50, 0),\n",
              "  (1040, 0),\n",
              "  (150, 1),\n",
              "  (20.0, 0),\n",
              "  (150, 1),\n",
              "  (2680.0, 0),\n",
              "  (1040, 0),\n",
              "  (150, 1),\n",
              "  (770.0, 0),\n",
              "  (150, 1),\n",
              "  (1930.0, 0),\n",
              "  (1040, 0),\n",
              "  (150, 1),\n",
              "  (1520.0, 0),\n",
              "  (150, 1),\n",
              "  (1180.0, 0),\n",
              "  (1040, 0),\n",
              "  (150, 1),\n",
              "  (2270.0, 0),\n",
              "  (150, 1),\n",
              "  (430.0, 0),\n",
              "  (50, 0)])"
            ]
          },
          "metadata": {},
          "execution_count": 45
        }
      ]
    },
    {
      "cell_type": "code",
      "source": [
        "t_vec,3000-770-300"
      ],
      "metadata": {
        "colab": {
          "base_uri": "https://localhost:8080/"
        },
        "id": "eqf5Wl-yD3nf",
        "outputId": "a9d9a105-ced1-421a-bd87-7ece3e7aa113"
      },
      "execution_count": 42,
      "outputs": [
        {
          "output_type": "execute_result",
          "data": {
            "text/plain": [
              "(array([   0.,  830., 1660., 2490., 3320.]), 1930)"
            ]
          },
          "metadata": {},
          "execution_count": 42
        }
      ]
    }
  ]
}