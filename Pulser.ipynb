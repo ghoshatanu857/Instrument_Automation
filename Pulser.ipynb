{
 "cells": [
  {
   "cell_type": "markdown",
   "id": "0ba25bab-c626-4bf5-a116-c2897096d386",
   "metadata": {
    "tags": []
   },
   "source": [
    "# Automation of Pulser Streamer\n",
    "> Snigdhadev and Atanu\n",
    ">> to automate the Swabian Pulse Streamer 8/2"
   ]
  },
  {
   "cell_type": "markdown",
   "id": "a63ce91d-d974-4cb3-8377-2975532c7e6c",
   "metadata": {
    "tags": []
   },
   "source": [
    "## Importing Modules and PulseStreamer"
   ]
  },
  {
   "cell_type": "code",
   "execution_count": 1,
   "id": "b56ada2e-5c33-417b-aa12-fadedda952bf",
   "metadata": {
    "tags": []
   },
   "outputs": [],
   "source": [
    "import numpy as np\n",
    "from plotly import graph_objs as go\n",
    "import inspect,dis,dill\n",
    "import sys\n",
    "from time import *\n",
    "import pulsestreamer\n",
    "from pulsestreamer import PulseStreamer,findPulseStreamers,OutputState,TriggerStart,Sequence\n",
    "# from grpc import insecure_channel\n",
    "# from pulse_streamer_grpc import PulseStreamer\n",
    "# from enum import Enum\n",
    "# from Sequence import Sequence"
   ]
  },
  {
   "cell_type": "code",
   "execution_count": 2,
   "id": "a015fdd9-55f0-42b0-bfbf-c3da2dd2eb75",
   "metadata": {
    "tags": []
   },
   "outputs": [
    {
     "name": "stdout",
     "output_type": "stream",
     "text": [
      "Connect to Pulse Streamer via JSON-RPC.\n",
      "IP / Hostname: 169.254.8.2\n",
      "Pulse Streamer 8/2 firmware: v1.7.2\n",
      "Client software: v1.7.0\n"
     ]
    }
   ],
   "source": [
    "IPaddress = findPulseStreamers(search_serial='')[0][0]\n",
    "pulser = PulseStreamer(IPaddress)\n",
    "# pulser.getSerial(),pulser.getFPGAID(),pulser.getHostname(),pulser.getFirmwareVersion()"
   ]
  },
  {
   "cell_type": "code",
   "execution_count": 3,
   "id": "60fbb0f1-2b11-4cb6-ab4e-0760e20025be",
   "metadata": {
    "tags": []
   },
   "outputs": [
    {
     "data": {
      "text/plain": [
       "{'dhcp': 1,\n",
       " 'ip': '192.168.0.54',\n",
       " 'netmask': '255.255.255.0',\n",
       " 'gateway': '192.168.0.1'}"
      ]
     },
     "execution_count": 3,
     "metadata": {},
     "output_type": "execute_result"
    }
   ],
   "source": [
    "pulser.getNetworkConfiguration(permanent=False)"
   ]
  },
  {
   "cell_type": "code",
   "execution_count": 4,
   "id": "b3d0c046-2129-4752-849c-ca486eb0a718",
   "metadata": {},
   "outputs": [
    {
     "name": "stdout",
     "output_type": "stream",
     "text": [
      "{'ip_address': '169.254.8.2', 'protocol': 'JSON-RPC', 'client_release': '1.7.0', 'proxy': <tinyrpc.client.RPCProxy object at 0x00000238427A3F90>, '_PulseStreamer__version_1_1_or_higher': True}\n",
      "['REPEAT_INFINITELY', '_PulseStreamer__stream_binary', '_PulseStreamer__stream_json', '_PulseStreamer__version_1_1_or_higher', '__class__', '__delattr__', '__dict__', '__dir__', '__doc__', '__eq__', '__format__', '__ge__', '__getattribute__', '__getstate__', '__gt__', '__hash__', '__init__', '__init_subclass__', '__le__', '__lt__', '__module__', '__ne__', '__new__', '__reduce__', '__reduce_ex__', '__repr__', '__setattr__', '__sizeof__', '__str__', '__subclasshook__', '__weakref__', 'applyNetworkConfiguration', 'chans_to_mask', 'client_release', 'constant', 'convert_sequence_step', 'createOutputState', 'createSequence', 'dec', 'enc', 'enc_binary', 'forceFinal', 'getAnalogCalibration', 'getClock', 'getDebugRegister', 'getFPGAID', 'getFirmwareVersion', 'getHardwareVersion', 'getHostname', 'getNetworkConfiguration', 'getSerial', 'getSupplyState', 'getTemperature', 'getTriggerRearm', 'getTriggerStart', 'getUnderflow', 'hasFinished', 'hasSequence', 'ip_address', 'isStreaming', 'protocol', 'proxy', 'rearm', 'reboot', 'reset', 'selectClock', 'setAnalogCalibration', 'setHostname', 'setNetworkConfiguration', 'setSquareWave125MHz', 'setTrigger', 'startNow', 'stream']\n"
     ]
    },
    {
     "data": {
      "text/plain": [
       "True"
      ]
     },
     "execution_count": 4,
     "metadata": {},
     "output_type": "execute_result"
    }
   ],
   "source": [
    "print(pulser.__dict__)\n",
    "print(dir(pulser))\n",
    "hasattr(pulser ,'createSequence')"
   ]
  },
  {
   "cell_type": "code",
   "execution_count": 5,
   "id": "f43959a4-7e28-4a2f-a156-99d563984073",
   "metadata": {},
   "outputs": [
    {
     "name": "stdout",
     "output_type": "stream",
     "text": [
      "    def createSequence(self): #ToDo parameter for safe communication/sequence creation\n",
      "        seq = Sequence()\n",
      "        return seq\n",
      " C:\\ProgramData\\anaconda3\\Lib\\site-packages\\pulsestreamer\\jrpc\\pulse_streamer_jrpc.py\n"
     ]
    }
   ],
   "source": [
    "print(inspect.getsource(pulser.createSequence),inspect.getsourcefile(pulser.createSequence))\n",
    "# dis.dis(pulser.createSequence)\n",
    "# dill.source.getsource(pulser.createSequence)"
   ]
  },
  {
   "cell_type": "markdown",
   "id": "dd79012f-826d-4771-a39d-1395a022e19a",
   "metadata": {},
   "source": [
    "#### Controling the Pulser Operations "
   ]
  },
  {
   "cell_type": "code",
   "execution_count": 6,
   "id": "d6eb0ae7-3787-4997-8bac-eca0a6d8b294",
   "metadata": {
    "tags": []
   },
   "outputs": [
    {
     "data": {
      "text/plain": [
       "0"
      ]
     },
     "execution_count": 6,
     "metadata": {},
     "output_type": "execute_result"
    }
   ],
   "source": [
    "# pulser.reboot()\n",
    "pulser.reset()"
   ]
  },
  {
   "cell_type": "markdown",
   "id": "1f504cef-f62b-4277-ac80-b3a51050c295",
   "metadata": {
    "tags": []
   },
   "source": [
    "## Creating Patterns and Sequences "
   ]
  },
  {
   "cell_type": "markdown",
   "id": "e6a59fda-cc82-4dc8-8b42-2c2342dcb107",
   "metadata": {},
   "source": [
    "### For Digital Pulses "
   ]
  },
  {
   "cell_type": "markdown",
   "id": "36f3a863-0e6e-4bd1-9539-6859d3e104d3",
   "metadata": {},
   "source": [
    "###### Pulses"
   ]
  },
  {
   "cell_type": "code",
   "execution_count": 7,
   "id": "45da577a-64a5-43a3-b19d-956a0236a56e",
   "metadata": {
    "tags": []
   },
   "outputs": [],
   "source": [
    "patt1 = [(1*1e9, 0), (1*1e9, 1), (1*1e9, 0), (2*1e9, 1)]\n",
    "patt2 = [(1*1e9, 0), (1*1e9, 1)]"
   ]
  },
  {
   "cell_type": "markdown",
   "id": "4f675ea1-91d3-45d3-82c6-ed9bd187fc8d",
   "metadata": {},
   "source": [
    "###### Sequences "
   ]
  },
  {
   "cell_type": "code",
   "execution_count": 8,
   "id": "6d654c7d-fa15-4cd1-9d3b-e425ece50d19",
   "metadata": {
    "tags": []
   },
   "outputs": [],
   "source": [
    "# pulser.constant(([],0,0))"
   ]
  },
  {
   "cell_type": "code",
   "execution_count": 9,
   "id": "b760c02c-8854-463d-bae0-32fc2270eec9",
   "metadata": {
    "tags": []
   },
   "outputs": [],
   "source": [
    "seq = pulser.createSequence()\n",
    "seq2 = pulser.createSequence()"
   ]
  },
  {
   "cell_type": "code",
   "execution_count": 10,
   "id": "ef0c2305-df1f-4b56-8b5e-924ed38c159c",
   "metadata": {
    "tags": []
   },
   "outputs": [],
   "source": [
    "seq.setDigital([0,3],patt1)\n",
    "seq2.setDigital(3,patt2)\n",
    "# seq1.invertDigital(0)"
   ]
  },
  {
   "cell_type": "code",
   "execution_count": 11,
   "id": "fdf54c2c-37e8-452c-9e19-f36c943964e9",
   "metadata": {},
   "outputs": [],
   "source": [
    "seq3 = seq+seq2"
   ]
  },
  {
   "cell_type": "code",
   "execution_count": 12,
   "id": "11df59ec-780b-493f-b208-704ac84a0de2",
   "metadata": {},
   "outputs": [
    {
     "data": {
      "image/png": "[encoded data removed]",
      "text/plain": [
       "<Figure size 640x480 with 10 Axes>"
      ]
     },
     "metadata": {},
     "output_type": "display_data"
    }
   ],
   "source": [
    "seq3.plot()"
   ]
  },
  {
   "cell_type": "code",
   "execution_count": 86,
   "id": "f3c55f06-fd3e-49c0-8eb8-d272546fdfc5",
   "metadata": {
    "tags": []
   },
   "outputs": [
    {
     "data": {
      "text/plain": [
       "(False,\n",
       " [(1000000000, 0, 0, 0),\n",
       "  (1000000000, 9, 0, 0),\n",
       "  (1000000000, 0, 0, 0),\n",
       "  (2000000000, 9, 0, 0),\n",
       "  (1000000000, 1, 0, 0),\n",
       "  (1000000000, 9, 0, 0)],\n",
       " {0: ([(1000000000, 0),\n",
       "    (1000000000, 1),\n",
       "    (1000000000, 0),\n",
       "    (2000000000, 1),\n",
       "    (2000000000, 1)],\n",
       "   array([1000000000, 2000000000, 3000000000, 5000000000, 7000000000],\n",
       "         dtype=int64)),\n",
       "  1: ([(5000000000, 0), (2000000000, 0)],\n",
       "   array([5000000000, 7000000000], dtype=int64)),\n",
       "  2: ([(5000000000, 0), (2000000000, 0)],\n",
       "   array([5000000000, 7000000000], dtype=int64)),\n",
       "  3: ([(1000000000, 0),\n",
       "    (1000000000, 1),\n",
       "    (1000000000, 0),\n",
       "    (2000000000, 1),\n",
       "    (1000000000, 0),\n",
       "    (1000000000, 1)],\n",
       "   array([1000000000, 2000000000, 3000000000, 5000000000, 6000000000,\n",
       "          7000000000], dtype=int64)),\n",
       "  4: ([(5000000000, 0), (2000000000, 0)],\n",
       "   array([5000000000, 7000000000], dtype=int64)),\n",
       "  5: ([(5000000000, 0), (2000000000, 0)],\n",
       "   array([5000000000, 7000000000], dtype=int64)),\n",
       "  6: ([(5000000000, 0), (2000000000, 0)],\n",
       "   array([5000000000, 7000000000], dtype=int64)),\n",
       "  7: ([(5000000000, 0), (2000000000, 0)],\n",
       "   array([5000000000, 7000000000], dtype=int64)),\n",
       "  8: ([(5000000000, 0.0), (2000000000, 0.0)],\n",
       "   array([5000000000, 7000000000], dtype=int64)),\n",
       "  9: ([(5000000000, 0.0), (2000000000, 0.0)],\n",
       "   array([5000000000, 7000000000], dtype=int64))},\n",
       " 7000000000,\n",
       " <pulsestreamer.sequence.OutputState at 0x21620deb690>)"
      ]
     },
     "execution_count": 86,
     "metadata": {},
     "output_type": "execute_result"
    }
   ],
   "source": [
    "seq3.isEmpty(),seq3.getData(),seq3.get_pad(),seq3.getDuration(),seq3.getLastState()\n",
    "# why the duration values change for seq.getData() while having the two channels involved? \n",
    "# what does the getLastState() signify?"
   ]
  },
  {
   "cell_type": "code",
   "execution_count": 92,
   "id": "a1308dd2-9cf7-49de-863b-e452c42ee84b",
   "metadata": {},
   "outputs": [
    {
     "data": {
      "text/plain": [
       "<pulsestreamer.sequence.OutputState at 0x216215b5a90>"
      ]
     },
     "execution_count": 92,
     "metadata": {},
     "output_type": "execute_result"
    }
   ],
   "source": [
    "seq3.getLastState()"
   ]
  },
  {
   "cell_type": "code",
   "execution_count": 88,
   "id": "b9a6a8cb-ef07-41a1-8ef7-7b48339c14a6",
   "metadata": {},
   "outputs": [
    {
     "name": "stdout",
     "output_type": "stream",
     "text": [
      "    def getLastState(self):\n",
      "        \"\"\"returns last sequence step as OutputState object\"\"\"\n",
      "        ana={}\n",
      "        digi=[]\n",
      "        #check if sequence has to be padded\n",
      "        if not self.__sequence_up_to_date:\n",
      "            self.__pad()\n",
      "        for key, pattern_data in self.__pad_seq.items():\n",
      "            if key < Sequence.digital_channel:\n",
      "                if (pattern_data[1][-1]):\n",
      "                    #save digital values if set\n",
      "                    digi.append(key)\n",
      "            else:\n",
      "                #save analog values\n",
      "                ana.update({'A'+str(key-Sequence.digital_channel):pattern_data[1][-1]})\n",
      "                \n",
      "        #create and return OutputState object\n",
      "        return OutputState(digi, ana['A0'], ana['A1'])\n",
      "\n"
     ]
    }
   ],
   "source": [
    "print(inspect.getsource(seq3.getLastState))"
   ]
  },
  {
   "cell_type": "code",
   "execution_count": 45,
   "id": "9d41d5cd-d003-478f-983d-8a752ef308d4",
   "metadata": {},
   "outputs": [],
   "source": [
    "# print(inspect.getsource(seq.get_pad))"
   ]
  },
  {
   "cell_type": "code",
   "execution_count": 15,
   "id": "e52ccb88-13ac-4989-be41-9f2386b82993",
   "metadata": {
    "jupyter": {
     "source_hidden": true
    }
   },
   "outputs": [],
   "source": [
    "# def plotSequence(seq, divisor = 10):\n",
    "#     dataArray = np.zeros([10,1])\n",
    "#     for x in seq:\n",
    "#         chanString = x[1]\n",
    "#         chanString = '0'*(8-len(bin(x[1])[2:]))+bin(x[1])[2:]\n",
    "# #         print((chanString))\n",
    "#         dataHolder = np.zeros([8, int(x[0]/divisor)])\n",
    "#         an_0 = np.zeros([1, int(x[0]/divisor)])\n",
    "#         an_1 = np.zeros([1, int(x[0]/divisor)])\n",
    "#         for i in range(len(chanString)):\n",
    "#             if chanString[7-i] == '1':\n",
    "# #                 print(chanString[7-i])\n",
    "#                 dataHolder[i]+=1.\n",
    "#         an_0 += x[2]/32767\n",
    "#         an_1 += x[3]/32767\n",
    "#         dataHolder = np.concatenate((dataHolder, an_0, an_1), axis = 0)\n",
    "# #         print(f'dataHolder shape is: {np.shape(dataHolder)}')\n",
    "#         dataArray = np.concatenate((dataArray, dataHolder), axis = 1)\n",
    "#         seqPlot = go.FigureWidget()\n",
    "#         for i in range(len(dataArray[:,0])):\n",
    "#             if i == 8:\n",
    "#                 seqPlot.add_scatter(y = dataArray[i],name='Channel '+ 'I')\n",
    "#             elif i == 9:\n",
    "#                 seqPlot.add_scatter(y = dataArray[i],name='Channel '+ 'Q')\n",
    "#             else:\n",
    "#                 seqPlot.add_scatter(y = dataArray[i],name='Channel '+ str(i))\n",
    "#     return seqPlot"
   ]
  },
  {
   "cell_type": "markdown",
   "id": "19143b07-5de8-4ffa-b3d0-3cbe3aba5a38",
   "metadata": {
    "jp-MarkdownHeadingCollapsed": true,
    "tags": []
   },
   "source": [
    "### For Analog Pulses "
   ]
  },
  {
   "cell_type": "code",
   "execution_count": null,
   "id": "260da5b7-6416-4bcf-980c-96550ba9eca9",
   "metadata": {
    "tags": []
   },
   "outputs": [],
   "source": [
    "seqAna = ps.createSequence()"
   ]
  },
  {
   "cell_type": "code",
   "execution_count": null,
   "id": "1827327f-7013-4f2a-b303-4c46871f4a18",
   "metadata": {
    "tags": []
   },
   "outputs": [],
   "source": [
    "analog_patt = [( 50, 0), (100, 0.5), (200, 0.3), (50, -0.1), (10, 0)]"
   ]
  },
  {
   "cell_type": "code",
   "execution_count": null,
   "id": "29b861b0-c382-4421-83ee-ee941db4b2db",
   "metadata": {
    "tags": []
   },
   "outputs": [],
   "source": [
    "seqAna.setAnalog(0,analog_patt)"
   ]
  },
  {
   "cell_type": "markdown",
   "id": "065f1848-645d-4ec5-8cc8-70d4b2ba4117",
   "metadata": {
    "jp-MarkdownHeadingCollapsed": true,
    "tags": []
   },
   "source": [
    "## Setting Triggers "
   ]
  },
  {
   "cell_type": "code",
   "execution_count": null,
   "id": "c8e65973-1b5c-4d48-8456-2eff6817caad",
   "metadata": {
    "tags": []
   },
   "outputs": [],
   "source": [
    "ps.setTrigger(start=TriggerStart.IMMEDIATE)"
   ]
  },
  {
   "cell_type": "markdown",
   "id": "27ab19f0-136b-4ff4-8f45-5d530ddfedf9",
   "metadata": {
    "tags": []
   },
   "source": [
    "## Streaming Sequences"
   ]
  },
  {
   "cell_type": "markdown",
   "id": "cce527b3-cf37-4a8e-809e-b2aafe33502a",
   "metadata": {},
   "source": [
    "#### Checking Streaming and Triggering Status "
   ]
  },
  {
   "cell_type": "code",
   "execution_count": null,
   "id": "47a418ee-ab1b-40d8-92b5-f956be72d1ce",
   "metadata": {
    "tags": []
   },
   "outputs": [],
   "source": [
    "# pulser.getTriggerStart(),pulser.getTriggerRearm()"
   ]
  },
  {
   "cell_type": "code",
   "execution_count": null,
   "id": "e2821dcc-2878-43b1-b921-b53ea1b30f59",
   "metadata": {
    "tags": []
   },
   "outputs": [],
   "source": [
    "# Sequence.isEmpty(seq1),seq1.getDuration()/1e9,seq1.getLastState(),seq1.getData()"
   ]
  },
  {
   "cell_type": "markdown",
   "id": "944978b5-2ead-43a3-97f8-b9fcf6c65c46",
   "metadata": {},
   "source": [
    "#### Controling Streaming "
   ]
  },
  {
   "cell_type": "code",
   "execution_count": 71,
   "id": "9f74d4df-d64f-4399-b460-f5ff980c54c1",
   "metadata": {},
   "outputs": [
    {
     "data": {
      "text/plain": [
       "(0, 0, 0)"
      ]
     },
     "execution_count": 71,
     "metadata": {},
     "output_type": "execute_result"
    }
   ],
   "source": [
    "pulser.hasSequence(),pulser.isStreaming(),pulser.hasFinished()"
   ]
  },
  {
   "cell_type": "code",
   "execution_count": 75,
   "id": "1f497db3-6ad2-4698-9df1-87775b13a3f3",
   "metadata": {
    "tags": []
   },
   "outputs": [],
   "source": [
    "pulser.stream(seq,n_runs=1,final=([],0,0)) "
   ]
  },
  {
   "cell_type": "code",
   "execution_count": 77,
   "id": "aef19287-e082-4ac0-84e4-444c52b0c3c4",
   "metadata": {},
   "outputs": [
    {
     "data": {
      "text/plain": [
       "0"
      ]
     },
     "execution_count": 77,
     "metadata": {},
     "output_type": "execute_result"
    }
   ],
   "source": [
    "pulser.reset()"
   ]
  },
  {
   "cell_type": "code",
   "execution_count": 78,
   "id": "0d71b462-9b69-4a71-950c-656b1c6210fd",
   "metadata": {},
   "outputs": [
    {
     "data": {
      "text/plain": [
       "(0, 0, 0)"
      ]
     },
     "execution_count": 78,
     "metadata": {},
     "output_type": "execute_result"
    }
   ],
   "source": [
    "pulser.hasSequence(),pulser.isStreaming(),pulser.hasFinished()"
   ]
  },
  {
   "cell_type": "code",
   "execution_count": 70,
   "id": "b973c4b8-9860-4ddd-8aac-72c64a2da5a4",
   "metadata": {
    "tags": []
   },
   "outputs": [],
   "source": [
    "#### how to stream two or more sequences for the channels simultaneously\n",
    "#### Getting Trigger \n",
    "#### Operating on Analog Channels "
   ]
  },
  {
   "cell_type": "code",
   "execution_count": null,
   "id": "ce3d0d3d-1713-48f3-bbc7-51dd31a3e39e",
   "metadata": {
    "tags": []
   },
   "outputs": [],
   "source": [
    "# pulser.stream(seq,n_runs=1,final=([],0,0),start=SOFTWARE)"
   ]
  },
  {
   "cell_type": "code",
   "execution_count": null,
   "id": "d1598b49-f7d5-4cac-a987-93f3654e8735",
   "metadata": {
    "tags": []
   },
   "outputs": [],
   "source": [
    "# pulser.forceFinal()"
   ]
  },
  {
   "cell_type": "code",
   "execution_count": null,
   "id": "4d965aa4-68d0-45a0-b0c9-c4b4ecbd5527",
   "metadata": {
    "tags": []
   },
   "outputs": [],
   "source": [
    "# pulser.startNow()"
   ]
  }
 ],
 "metadata": {
  "kernelspec": {
   "display_name": "Python 3 (ipykernel)",
   "language": "python",
   "name": "python3"
  },
  "language_info": {
   "codemirror_mode": {
    "name": "ipython",
    "version": 3
   },
   "file_extension": ".py",
   "mimetype": "text/x-python",
   "name": "python",
   "nbconvert_exporter": "python",
   "pygments_lexer": "ipython3",
   "version": "3.11.7"
  }
 },
 "nbformat": 4,
 "nbformat_minor": 5
}
