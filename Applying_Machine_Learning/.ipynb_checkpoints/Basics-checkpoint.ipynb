{
 "cells": [
  {
   "cell_type": "markdown",
   "id": "57324d3d-e4de-4424-940f-c578ea13e085",
   "metadata": {},
   "source": [
    "##### image Manipulation"
   ]
  },
  {
   "cell_type": "code",
   "execution_count": 4,
   "id": "5464d949-b3e0-4659-b0f3-64f904034cbe",
   "metadata": {
    "tags": []
   },
   "outputs": [],
   "source": [
    "# for image manipulation \n",
    "import numpy as np\n",
    "import imageio.v2 as imageio\n",
    "from imageio.v2 import imread, imsave\n",
    "from skimage.transform import resize\n",
    "\n",
    "# Read a JPEG image into a numpy array \n",
    "img = imread(r\"C:\\Users\\Administrator\\OneDrive\\Desktop\\T1_measurement\\Instrument_Automation\\Applying_Machine_Learning\\Image_basic_Scipy_ImageProcessing.jpg\") # path of the image \n",
    "# print(img,img.dtype, img.shape) \n",
    "\n",
    "# Tinting the image \n",
    "img_tint = img * [1, 0.4, 0.3] \n",
    "# print(img_tint)\n",
    "\n",
    "# Saving the tinted image \n",
    "imsave(r\"C:\\Users\\Administrator\\OneDrive\\Desktop\\T1_measurement\\Instrument_Automation\\Applying_Machine_Learning\\cat_tinted.jpg\", img_tint.astype(np.uint8)) \n",
    "\n",
    "# Resizing the tinted image to be 300 x 300 pixels \n",
    "img_tint_resize = resize(img_tint, (300, 300))\n",
    "\n",
    "# # Saving the resized tinted image \n",
    "imsave(r\"C:\\Users\\Administrator\\OneDrive\\Desktop\\T1_measurement\\Instrument_Automation\\Applying_Machine_Learning\\cat_tinted_resized.jpg\", img_tint_resize.astype(np.uint8))\n"
   ]
  },
  {
   "cell_type": "markdown",
   "id": "9384f0b9-a7e6-4c92-9ee8-81e140d4e5ac",
   "metadata": {},
   "source": [
    "##### Useful reference for classification_report and the confusion matrix\n",
    "1. https://iamirmasoud.com/2022/06/19/understanding-micro-macro-and-weighted-averages-for-scikit-learn-metrics-in-multi-class-classification-with-example/\n",
    "2. https://www.geeksforgeeks.org/compute-classification-report-and-confusion-matrix-in-python/"
   ]
  },
  {
   "cell_type": "code",
   "execution_count": 7,
   "id": "1d00b187-11be-4c6b-9fad-b9d3fc33e80f",
   "metadata": {
    "tags": []
   },
   "outputs": [
    {
     "name": "stdout",
     "output_type": "stream",
     "text": [
      "DecisionTreeClassifier()\n",
      "              precision    recall  f1-score   support\n",
      "\n",
      "           0       1.00      1.00      1.00        50\n",
      "           1       1.00      1.00      1.00        50\n",
      "           2       1.00      1.00      1.00        50\n",
      "\n",
      "    accuracy                           1.00       150\n",
      "   macro avg       1.00      1.00      1.00       150\n",
      "weighted avg       1.00      1.00      1.00       150\n",
      "\n",
      "[[50  0  0]\n",
      " [ 0 50  0]\n",
      " [ 0  0 50]]\n"
     ]
    }
   ],
   "source": [
    "# Python script using Scikit-learn \n",
    "# for Decision Tree Classifier \n",
    "\n",
    "# Sample Decision Tree Classifier \n",
    "from sklearn import datasets \n",
    "from sklearn import metrics \n",
    "from sklearn.tree import DecisionTreeClassifier \n",
    "\n",
    "# load the iris datasets \n",
    "dataset = datasets.load_iris() \n",
    "# print(dataset)\n",
    "\n",
    "# fit a CART model to the data \n",
    "model = DecisionTreeClassifier() \n",
    "model.fit(dataset.data, dataset.target) \n",
    "print(model) \n",
    "\n",
    "# make predictions \n",
    "expected = dataset.target \n",
    "predicted = model.predict(dataset.data) \n",
    "\n",
    "# summarize the fit of the model \n",
    "print(metrics.classification_report(expected, predicted)) \n",
    "print(metrics.confusion_matrix(expected, predicted)) "
   ]
  },
  {
   "cell_type": "markdown",
   "id": "586ac3cc-3397-49d0-9af0-0fa3b2617c75",
   "metadata": {},
   "source": [
    "##### Theano"
   ]
  },
  {
   "cell_type": "code",
   "execution_count": 14,
   "id": "4944aae7-ff7a-4683-9ef8-bac29c87ce05",
   "metadata": {
    "tags": []
   },
   "outputs": [],
   "source": [
    "# # Python program using Theano \n",
    "# # for computing a Logistic \n",
    "# # Function \n",
    "# # !pip install Theano\n",
    "# import theano \n",
    "# # theano.config.optimizer = 'None'\n",
    "# import theano.tensor as T \n",
    "# x = T.dmatrix('x') \n",
    "# s = 1 / (1 + T.exp(-x)) \n",
    "# logistic = theano.function([x], s) \n",
    "# logistic([[0, 1], [-1, -2]]) "
   ]
  },
  {
   "cell_type": "markdown",
   "id": "bee3b85e-ca9f-41e2-8450-851f95554bb3",
   "metadata": {},
   "source": [
    "##### TensorFlow"
   ]
  },
  {
   "cell_type": "code",
   "execution_count": 39,
   "id": "d220c817-c70c-4e28-879e-693bef7e0c48",
   "metadata": {
    "tags": []
   },
   "outputs": [
    {
     "data": {
      "text/plain": [
       "<tf.Tensor: shape=(4,), dtype=int32, numpy=array([ 5, 12, 21, 32])>"
      ]
     },
     "execution_count": 39,
     "metadata": {},
     "output_type": "execute_result"
    }
   ],
   "source": [
    "# Python program using TensorFlow \n",
    "# for multiplying two arrays \n",
    "# print(tf.__version__)\n",
    "\n",
    "# import `tensorflow` \n",
    "import tensorflow as tf\n",
    "\n",
    "# Initialize two constants \n",
    "x1 = tf.constant([1, 2, 3, 4]) \n",
    "x2 = tf.constant([5, 6, 7, 8]) \n",
    "\n",
    "# Multiply \n",
    "result = tf.multiply(x1, x2) \n",
    "\n",
    "# Print the result \n",
    "result"
   ]
  }
 ],
 "metadata": {
  "kernelspec": {
   "display_name": "Python 3 (ipykernel)",
   "language": "python",
   "name": "python3"
  },
  "language_info": {
   "codemirror_mode": {
    "name": "ipython",
    "version": 3
   },
   "file_extension": ".py",
   "mimetype": "text/x-python",
   "name": "python",
   "nbconvert_exporter": "python",
   "pygments_lexer": "ipython3",
   "version": "3.11.5"
  }
 },
 "nbformat": 4,
 "nbformat_minor": 5
}
