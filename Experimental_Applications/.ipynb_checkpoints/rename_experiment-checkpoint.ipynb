{
 "cells": [
  {
   "cell_type": "code",
   "execution_count": 616,
   "id": "161411f4-3a37-48fd-bcd5-fec36169ba71",
   "metadata": {
    "tags": []
   },
   "outputs": [],
   "source": [
    "from importlib import reload\n",
    "import os\n",
    "import numpy as np\n",
    "import time\n",
    "from tqdm import trange\n",
    "from pulsestreamer import *\n",
    "from nidaqmx import *\n",
    "\n",
    "import analysis\n",
    "reload(analysis)\n",
    "from analysis import *\n",
    "\n",
    "import measurement\n",
    "reload(measurement)\n",
    "from measurement import *"
   ]
  },
  {
   "cell_type": "code",
   "execution_count": 618,
   "id": "1e4b760b-e680-4766-adbc-9c7874dbedc7",
   "metadata": {
    "tags": []
   },
   "outputs": [
    {
     "name": "stdout",
     "output_type": "stream",
     "text": [
      "Connect to Pulse Streamer via JSON-RPC.\n",
      "IP / Hostname: 169.254.8.2\n",
      "Pulse Streamer 8/2 firmware: v1.7.2\n",
      "Client software: v1.7.0\n",
      "NIDAQmx device name : Dev1\n"
     ]
    }
   ],
   "source": [
    "# loading the local Pulse Streamer and NIDAQmx\n",
    "IPaddress = findPulseStreamers(search_serial='')[0][0]\n",
    "pulser = PulseStreamer(IPaddress)\n",
    "\n",
    "DAQ_device = nidaqmx.system.System.local().devices[0]\n",
    "device_name = DAQ_device.terminals[0:1][0][1:5]\n",
    "print(f'NIDAQmx device name : {device_name}')"
   ]
  },
  {
   "cell_type": "code",
   "execution_count": 944,
   "id": "54f9314c-6100-4aa2-b8a7-e2627e1ac6a8",
   "metadata": {
    "tags": []
   },
   "outputs": [],
   "source": [
    "specs_ports = {'laserNum' : 1, 'gateStart' : 5, 'source' : 7}\n",
    "\n",
    "specs_delay = {'rising_delay' : 2,'gatelen' :  6, 'laserontime' :  31,'delay_pad' :  2,\n",
    "               'delay_shift' :  2,'gatesourcedelay' : 2}\n",
    "specs_t1 = {'rising_delay' : 20,'gatelen' : 2e3, 'laserontime' : 25e3,'delay_pad' : 20,\n",
    "            'delay_shift' : 35e3,'gatesourcedelay' : 5,'evolution_time' : 0.35e6}\n",
    "specs_snr = {'rising_delay' : 20,'gatelen' : 2e3, 'laserontime' : 25e3,'delay_pad' : 20,\n",
    "             'delay_shift' : 150e3,'gatesourcedelay' : 5,'evolution_time' : 1.5e6}\n",
    "\n",
    "specs_lifetime = {'rising_delay' : 2,'gatelen' : 2, 'laserontime' : 25,'laserofftime' : 50,\n",
    "                  'delay_pad' : 2,'delay_shift' : 2,'gatesourcedelay' : 2}  \n",
    "specs_t1_ir = {'rising_delay' : 20,'gatelen' : 2e3, 'laserontime' : 25e3,'delay_pad' : 20,\n",
    "            'delay_shift' : 45e3,'gatesourcedelay' : 5,'evolution_time' : 0.45e6,'irontime' : 1e3,'irport' : 3}\n",
    "specs_t1_simple = {'rising_delay' : 20,'gatelen' : 2e3, 'laserontime' : 25e3,'delay_pad' : 20,\n",
    "            'delay_shift' : 35e3,'gatesourcedelay' : 5,'evolution_time' : 0.35e6}\n",
    "specs_t1_new = {'rising_delay' : 20,'gatelen' : 1.5e3, 'laserontime' : 4e3,'delay_pad' : 20,\n",
    "            'delay_shift' : 40e3,'gatesourcedelay' : 5,'evolution_time' : 0.40e6}"
   ]
  },
  {
   "cell_type": "code",
   "execution_count": 946,
   "id": "aad986e3-2250-4723-86d0-cec998ade141",
   "metadata": {},
   "outputs": [],
   "source": [
    "total_specs = merge(specs_ports,specs_t1_new)"
   ]
  },
  {
   "cell_type": "code",
   "execution_count": 948,
   "id": "7f9b2390-cc94-44d4-8748-f354855cc0b5",
   "metadata": {},
   "outputs": [],
   "source": [
    "# plot_sequence(pulser=pulser,exp_name='t1_new',specifications=total_specs)"
   ]
  },
  {
   "cell_type": "code",
   "execution_count": 950,
   "id": "50ca942b-bce2-4c66-8746-4ef7fdfa4a3d",
   "metadata": {
    "tags": []
   },
   "outputs": [
    {
     "name": "stdout",
     "output_type": "stream",
     "text": [
      "number of steps : 10\n",
      "Pixel : 20000\n",
      "creating sequence\n",
      "starting DAQ\n",
      "Preparing Ni Daq for the experiment\n",
      "callback number in beginning: 0\n"
     ]
    },
    {
     "name": "stderr",
     "output_type": "stream",
     "text": [
      "  0%|          | 0/15 [00:00<?, ?it/s]"
     ]
    },
    {
     "name": "stdout",
     "output_type": "stream",
     "text": [
      "1\n",
      "2\n",
      "3\n",
      "4\n",
      "5\n",
      "6\n",
      "7\n",
      "8\n",
      "9\n",
      "10\n"
     ]
    },
    {
     "name": "stderr",
     "output_type": "stream",
     "text": [
      "  7%|▋         | 1/15 [00:02<00:29,  2.12s/it]"
     ]
    },
    {
     "name": "stdout",
     "output_type": "stream",
     "text": [
      "callback number after 1-th average end: 10\n",
      "1\n",
      "2\n",
      "3\n",
      "4\n",
      "5\n",
      "6\n",
      "7\n",
      "8\n",
      "9\n",
      "10\n"
     ]
    },
    {
     "name": "stderr",
     "output_type": "stream",
     "text": [
      " 13%|█▎        | 2/15 [00:04<00:27,  2.12s/it]"
     ]
    },
    {
     "name": "stdout",
     "output_type": "stream",
     "text": [
      "callback number after 2-th average end: 20\n",
      "1\n",
      "2\n",
      "3\n",
      "4\n",
      "5\n",
      "6\n",
      "7\n",
      "8\n",
      "9\n",
      "10\n"
     ]
    },
    {
     "name": "stderr",
     "output_type": "stream",
     "text": [
      " 20%|██        | 3/15 [00:06<00:25,  2.12s/it]"
     ]
    },
    {
     "name": "stdout",
     "output_type": "stream",
     "text": [
      "callback number after 3-th average end: 30\n",
      "1\n",
      "2\n",
      "3\n",
      "4\n",
      "5\n",
      "6\n",
      "7\n",
      "8\n",
      "9\n",
      "10\n"
     ]
    },
    {
     "name": "stderr",
     "output_type": "stream",
     "text": [
      " 27%|██▋       | 4/15 [00:08<00:23,  2.11s/it]"
     ]
    },
    {
     "name": "stdout",
     "output_type": "stream",
     "text": [
      "callback number after 4-th average end: 40\n",
      "1\n",
      "2\n",
      "3\n",
      "4\n",
      "5\n",
      "6\n",
      "7\n",
      "8\n",
      "9\n",
      "10\n"
     ]
    },
    {
     "name": "stderr",
     "output_type": "stream",
     "text": [
      " 33%|███▎      | 5/15 [00:10<00:21,  2.11s/it]"
     ]
    },
    {
     "name": "stdout",
     "output_type": "stream",
     "text": [
      "callback number after 5-th average end: 50\n",
      "1\n",
      "2\n",
      "3\n",
      "4\n",
      "5\n",
      "6\n",
      "7\n",
      "8\n",
      "9\n",
      "10\n"
     ]
    },
    {
     "name": "stderr",
     "output_type": "stream",
     "text": [
      " 40%|████      | 6/15 [00:12<00:18,  2.11s/it]"
     ]
    },
    {
     "name": "stdout",
     "output_type": "stream",
     "text": [
      "callback number after 6-th average end: 60\n",
      "1\n",
      "2\n",
      "3\n",
      "4\n",
      "5\n",
      "6\n",
      "7\n",
      "8\n",
      "9\n",
      "10\n"
     ]
    },
    {
     "name": "stderr",
     "output_type": "stream",
     "text": [
      " 47%|████▋     | 7/15 [00:14<00:16,  2.11s/it]"
     ]
    },
    {
     "name": "stdout",
     "output_type": "stream",
     "text": [
      "callback number after 7-th average end: 70\n",
      "1\n",
      "2\n",
      "3\n",
      "4\n",
      "5\n",
      "6\n",
      "7\n",
      "8\n",
      "9\n",
      "10\n"
     ]
    },
    {
     "name": "stderr",
     "output_type": "stream",
     "text": [
      " 53%|█████▎    | 8/15 [00:16<00:14,  2.12s/it]"
     ]
    },
    {
     "name": "stdout",
     "output_type": "stream",
     "text": [
      "callback number after 8-th average end: 80\n",
      "1\n",
      "2\n",
      "3\n",
      "4\n",
      "5\n",
      "6\n",
      "7\n",
      "8\n",
      "9\n",
      "10\n"
     ]
    },
    {
     "name": "stderr",
     "output_type": "stream",
     "text": [
      " 60%|██████    | 9/15 [00:19<00:12,  2.12s/it]"
     ]
    },
    {
     "name": "stdout",
     "output_type": "stream",
     "text": [
      "callback number after 9-th average end: 90\n",
      "1\n",
      "2\n",
      "3\n",
      "4\n",
      "5\n",
      "6\n",
      "7\n",
      "8\n",
      "9\n",
      "10\n"
     ]
    },
    {
     "name": "stderr",
     "output_type": "stream",
     "text": [
      " 67%|██████▋   | 10/15 [00:21<00:10,  2.11s/it]"
     ]
    },
    {
     "name": "stdout",
     "output_type": "stream",
     "text": [
      "callback number after 10-th average end: 100\n",
      "1\n",
      "2\n",
      "3\n",
      "4\n",
      "5\n",
      "6\n",
      "7\n",
      "8\n",
      "9\n",
      "10\n"
     ]
    },
    {
     "name": "stderr",
     "output_type": "stream",
     "text": [
      " 73%|███████▎  | 11/15 [00:23<00:08,  2.11s/it]"
     ]
    },
    {
     "name": "stdout",
     "output_type": "stream",
     "text": [
      "callback number after 11-th average end: 110\n",
      "1\n",
      "2\n",
      "3\n",
      "4\n",
      "5\n",
      "6\n",
      "7\n",
      "8\n",
      "9\n",
      "10\n"
     ]
    },
    {
     "name": "stderr",
     "output_type": "stream",
     "text": [
      " 80%|████████  | 12/15 [00:25<00:06,  2.11s/it]"
     ]
    },
    {
     "name": "stdout",
     "output_type": "stream",
     "text": [
      "callback number after 12-th average end: 120\n",
      "1\n",
      "2\n",
      "3\n",
      "4\n",
      "5\n",
      "6\n",
      "7\n",
      "8\n",
      "9\n",
      "10\n"
     ]
    },
    {
     "name": "stderr",
     "output_type": "stream",
     "text": [
      " 87%|████████▋ | 13/15 [00:27<00:04,  2.11s/it]"
     ]
    },
    {
     "name": "stdout",
     "output_type": "stream",
     "text": [
      "callback number after 13-th average end: 130\n",
      "1\n",
      "2\n",
      "3\n",
      "4\n",
      "5\n",
      "6\n",
      "7\n",
      "8\n",
      "9\n",
      "10\n"
     ]
    },
    {
     "name": "stderr",
     "output_type": "stream",
     "text": [
      " 93%|█████████▎| 14/15 [00:29<00:02,  2.11s/it]"
     ]
    },
    {
     "name": "stdout",
     "output_type": "stream",
     "text": [
      "callback number after 14-th average end: 140\n",
      "1\n",
      "2\n",
      "3\n",
      "4\n",
      "5\n",
      "6\n",
      "7\n",
      "8\n",
      "9\n",
      "10\n"
     ]
    },
    {
     "name": "stderr",
     "output_type": "stream",
     "text": [
      "100%|██████████| 15/15 [00:31<00:00,  2.11s/it]"
     ]
    },
    {
     "name": "stdout",
     "output_type": "stream",
     "text": [
      "callback number after 15-th average end: 150\n",
      "Total Run : 150\n",
      "Total Counts & Counts in one average : (300000, 20000)\n",
      "Crosscheck number of averges= 15\n",
      "returning averaged counts and time_axis\n"
     ]
    },
    {
     "name": "stderr",
     "output_type": "stream",
     "text": [
      "\n"
     ]
    }
   ],
   "source": [
    "avg_data,time_axis = measure(pulser,DAQ_device,device_name,exp_name = 't1_new',\n",
    "                   samples=1000,averages=15,specifications=total_specs)"
   ]
  },
  {
   "cell_type": "code",
   "execution_count": 952,
   "id": "8436e0a7-918f-4a08-be04-3e59a58cb463",
   "metadata": {
    "tags": []
   },
   "outputs": [],
   "source": [
    "dict_args = {'avg_data':avg_data,'time_axis':time_axis}"
   ]
  },
  {
   "cell_type": "code",
   "execution_count": 954,
   "id": "92c816f8-4c1d-4b9c-abfe-6e9f89ede9c6",
   "metadata": {
    "tags": []
   },
   "outputs": [
    {
     "name": "stdout",
     "output_type": "stream",
     "text": [
      "root directory : C:\\Users\\Administrator\\OneDrive\\Desktop\\T1_measurement\\atanu_github\\Instrument_Automation\\Experimental_Applications\n"
     ]
    }
   ],
   "source": [
    "root_directory = os.getcwd()\n",
    "print(f'root directory : {root_directory}')"
   ]
  },
  {
   "cell_type": "code",
   "execution_count": 956,
   "id": "2b89c02a-90c9-4e6d-a3ee-56018523222e",
   "metadata": {
    "tags": []
   },
   "outputs": [
    {
     "name": "stdout",
     "output_type": "stream",
     "text": [
      "saving data_file '[16_02]_gate_1500ns.npz' is successful!\n",
      "\n"
     ]
    }
   ],
   "source": [
    "year = time.ctime()[-4:]\n",
    "date = time.ctime()[4:10].replace(' ','_')\n",
    "current_time = time.ctime()[-13:-8].replace(':','_')\n",
    "\n",
    "folder_path = root_directory+f'/exp_data/{year}/{date}/microdiamonds/t1_new/525nm/without_Gd/avgs_15/samples_1000/laser_4e3/first_cluster/'\n",
    "file_name = f'[{current_time}]_gate_1500ns.npz'\n",
    "\n",
    "total_path = npz_save(folder_path,file_name,**dict_args)"
   ]
  },
  {
   "cell_type": "code",
   "execution_count": 958,
   "id": "d412ee23-7814-4aa7-8446-c1dc31245412",
   "metadata": {
    "tags": []
   },
   "outputs": [],
   "source": [
    "load_data = dict(np.load(total_path))"
   ]
  },
  {
   "cell_type": "code",
   "execution_count": 960,
   "id": "415687e6-0515-475f-b7ab-6a5738de07b0",
   "metadata": {},
   "outputs": [
    {
     "name": "stdin",
     "output_type": "stream",
     "text": [
      "Enter the no of samples 1000\n"
     ]
    }
   ],
   "source": [
    "samples=int(input('Enter the no of samples'))\n",
    "\n",
    "time_axis,signal_photon,reference_samples,signal_samples = data_to_time_signal(load_data,samples,first='signal')\n",
    "# time_axis,signal_photon,reference_samples,signal_samples = data_to_time_signal(load_data,samples,first='reference')"
   ]
  },
  {
   "cell_type": "code",
   "execution_count": null,
   "id": "e972bfde-0738-4522-a809-86e69571b4bc",
   "metadata": {
    "jupyter": {
     "source_hidden": true
    },
    "tags": []
   },
   "outputs": [],
   "source": [
    "# steps=int(input('Enter the no of steps'))\n",
    "# samples=int(input('Enter the no of samples'))\n",
    "\n",
    "# # Separating Reference and Signal and averaging over Samples\n",
    "# reference_samples = np.mean(np.reshape(load_data['avg_data'][::2],(steps,samples)),axis=1)\n",
    "# signal_samples = np.mean(np.reshape(load_data['avg_data'][1::2],(steps,samples)),axis=1)\n",
    "# signal_photon = signal_samples/reference_samples"
   ]
  },
  {
   "cell_type": "code",
   "execution_count": 962,
   "id": "398efc73-aa26-4d5c-8a7e-0c74c4980d65",
   "metadata": {},
   "outputs": [
    {
     "data": {
      "application/vnd.plotly.v1+json": {
       "config": {
        "plotlyServerURL": "https://plot.ly"
       },
       "data": [
        {
         "mode": "markers",
         "name": "signal/reference",
         "showlegend": true,
         "type": "scatter",
         "visible": "legendonly",
         "x": [
          40020,
          80020,
          120020,
          160020,
          200020,
          240020,
          280020,
          320020,
          360020
         ],
         "y": [
          1.067898296344777,
          1.075767440504533,
          1.0721516426995945,
          1.0692307692307692,
          1.0731970373763984,
          1.0734957496319513,
          1.0739504588028335,
          1.0700757754479997,
          1.0599501903106054
         ]
        },
        {
         "mode": "lines",
         "name": "fitted curve",
         "showlegend": true,
         "type": "scatter",
         "visible": "legendonly",
         "x": [
          60010,
          120010,
          180010,
          240010,
          300010,
          360010,
          420010,
          480010,
          540010
         ],
         "y": [
          0.9907983583852664,
          1.0308524665967593,
          1.0445327051078,
          1.0492051078668574,
          1.0508009387820296,
          1.0513459851834517,
          1.0515321424867592,
          1.0515957233882829,
          1.0516174390608177
         ]
        },
        {
         "mode": "markers",
         "name": "signal",
         "showlegend": true,
         "type": "scatter",
         "visible": true,
         "x": [
          40020,
          80020,
          120020,
          160020,
          200020,
          240020,
          280020,
          320020,
          360020
         ],
         "y": [
          7.179266666666667,
          7.3802666666666665,
          7.420933333333333,
          7.468933333333333,
          7.496066666666667,
          7.534866666666667,
          7.529466666666666,
          7.559799999999999,
          7.518933333333332
         ]
        },
        {
         "mode": "markers",
         "name": "reference",
         "showlegend": true,
         "type": "scatter",
         "visible": true,
         "x": [
          40020,
          80020,
          120020,
          160020,
          200020,
          240020,
          280020,
          320020,
          360020
         ],
         "y": [
          6.7228,
          6.860466666666667,
          6.9215333333333335,
          6.985333333333334,
          6.984799999999999,
          7.019,
          7.011,
          7.064733333333334,
          7.093666666666667
         ]
        }
       ],
       "layout": {
        "height": 600,
        "template": {
         "layout": {
          "autosize": false,
          "font": {
           "family": "mathjax",
           "size": 22
          },
          "height": 600,
          "template": {
           "data": {
            "bar": [
             {
              "error_x": {
               "color": "rgb(36,36,36)"
              },
              "error_y": {
               "color": "rgb(36,36,36)"
              },
              "marker": {
               "line": {
                "color": "white",
                "width": 0.5
               },
               "pattern": {
                "fillmode": "overlay",
                "size": 10,
                "solidity": 0.2
               }
              },
              "type": "bar"
             }
            ],
            "barpolar": [
             {
              "marker": {
               "line": {
                "color": "white",
                "width": 0.5
               },
               "pattern": {
                "fillmode": "overlay",
                "size": 10,
                "solidity": 0.2
               }
              },
              "type": "barpolar"
             }
            ],
            "carpet": [
             {
              "aaxis": {
               "endlinecolor": "rgb(36,36,36)",
               "gridcolor": "white",
               "linecolor": "white",
               "minorgridcolor": "white",
               "startlinecolor": "rgb(36,36,36)"
              },
              "baxis": {
               "endlinecolor": "rgb(36,36,36)",
               "gridcolor": "white",
               "linecolor": "white",
               "minorgridcolor": "white",
               "startlinecolor": "rgb(36,36,36)"
              },
              "type": "carpet"
             }
            ],
            "choropleth": [
             {
              "colorbar": {
               "outlinewidth": 1,
               "tickcolor": "rgb(36,36,36)",
               "ticks": "outside"
              },
              "type": "choropleth"
             }
            ],
            "contour": [
             {
              "colorbar": {
               "outlinewidth": 1,
               "tickcolor": "rgb(36,36,36)",
               "ticks": "outside"
              },
              "colorscale": [
               [
                0,
                "#440154"
               ],
               [
                0.1111111111111111,
                "#482878"
               ],
               [
                0.2222222222222222,
                "#3e4989"
               ],
               [
                0.3333333333333333,
                "#31688e"
               ],
               [
                0.4444444444444444,
                "#26828e"
               ],
               [
                0.5555555555555556,
                "#1f9e89"
               ],
               [
                0.6666666666666666,
                "#35b779"
               ],
               [
                0.7777777777777778,
                "#6ece58"
               ],
               [
                0.8888888888888888,
                "#b5de2b"
               ],
               [
                1,
                "#fde725"
               ]
              ],
              "type": "contour"
             }
            ],
            "contourcarpet": [
             {
              "colorbar": {
               "outlinewidth": 1,
               "tickcolor": "rgb(36,36,36)",
               "ticks": "outside"
              },
              "type": "contourcarpet"
             }
            ],
            "heatmap": [
             {
              "colorbar": {
               "outlinewidth": 1,
               "tickcolor": "rgb(36,36,36)",
               "ticks": "outside"
              },
              "colorscale": [
               [
                0,
                "#440154"
               ],
               [
                0.1111111111111111,
                "#482878"
               ],
               [
                0.2222222222222222,
                "#3e4989"
               ],
               [
                0.3333333333333333,
                "#31688e"
               ],
               [
                0.4444444444444444,
                "#26828e"
               ],
               [
                0.5555555555555556,
                "#1f9e89"
               ],
               [
                0.6666666666666666,
                "#35b779"
               ],
               [
                0.7777777777777778,
                "#6ece58"
               ],
               [
                0.8888888888888888,
                "#b5de2b"
               ],
               [
                1,
                "#fde725"
               ]
              ],
              "type": "heatmap"
             }
            ],
            "heatmapgl": [
             {
              "colorbar": {
               "outlinewidth": 1,
               "tickcolor": "rgb(36,36,36)",
               "ticks": "outside"
              },
              "colorscale": [
               [
                0,
                "#440154"
               ],
               [
                0.1111111111111111,
                "#482878"
               ],
               [
                0.2222222222222222,
                "#3e4989"
               ],
               [
                0.3333333333333333,
                "#31688e"
               ],
               [
                0.4444444444444444,
                "#26828e"
               ],
               [
                0.5555555555555556,
                "#1f9e89"
               ],
               [
                0.6666666666666666,
                "#35b779"
               ],
               [
                0.7777777777777778,
                "#6ece58"
               ],
               [
                0.8888888888888888,
                "#b5de2b"
               ],
               [
                1,
                "#fde725"
               ]
              ],
              "type": "heatmapgl"
             }
            ],
            "histogram": [
             {
              "marker": {
               "line": {
                "color": "white",
                "width": 0.6
               }
              },
              "type": "histogram"
             }
            ],
            "histogram2d": [
             {
              "colorbar": {
               "outlinewidth": 1,
               "tickcolor": "rgb(36,36,36)",
               "ticks": "outside"
              },
              "colorscale": [
               [
                0,
                "#440154"
               ],
               [
                0.1111111111111111,
                "#482878"
               ],
               [
                0.2222222222222222,
                "#3e4989"
               ],
               [
                0.3333333333333333,
                "#31688e"
               ],
               [
                0.4444444444444444,
                "#26828e"
               ],
               [
                0.5555555555555556,
                "#1f9e89"
               ],
               [
                0.6666666666666666,
                "#35b779"
               ],
               [
                0.7777777777777778,
                "#6ece58"
               ],
               [
                0.8888888888888888,
                "#b5de2b"
               ],
               [
                1,
                "#fde725"
               ]
              ],
              "type": "histogram2d"
             }
            ],
            "histogram2dcontour": [
             {
              "colorbar": {
               "outlinewidth": 1,
               "tickcolor": "rgb(36,36,36)",
               "ticks": "outside"
              },
              "colorscale": [
               [
                0,
                "#440154"
               ],
               [
                0.1111111111111111,
                "#482878"
               ],
               [
                0.2222222222222222,
                "#3e4989"
               ],
               [
                0.3333333333333333,
                "#31688e"
               ],
               [
                0.4444444444444444,
                "#26828e"
               ],
               [
                0.5555555555555556,
                "#1f9e89"
               ],
               [
                0.6666666666666666,
                "#35b779"
               ],
               [
                0.7777777777777778,
                "#6ece58"
               ],
               [
                0.8888888888888888,
                "#b5de2b"
               ],
               [
                1,
                "#fde725"
               ]
              ],
              "type": "histogram2dcontour"
             }
            ],
            "mesh3d": [
             {
              "colorbar": {
               "outlinewidth": 1,
               "tickcolor": "rgb(36,36,36)",
               "ticks": "outside"
              },
              "type": "mesh3d"
             }
            ],
            "parcoords": [
             {
              "line": {
               "colorbar": {
                "outlinewidth": 1,
                "tickcolor": "rgb(36,36,36)",
                "ticks": "outside"
               }
              },
              "type": "parcoords"
             }
            ],
            "pie": [
             {
              "automargin": true,
              "type": "pie"
             }
            ],
            "scatter": [
             {
              "fillpattern": {
               "fillmode": "overlay",
               "size": 10,
               "solidity": 0.2
              },
              "line": {
               "width": 3
              },
              "marker": {
               "size": 9
              },
              "type": "scatter"
             }
            ],
            "scatter3d": [
             {
              "line": {
               "colorbar": {
                "outlinewidth": 1,
                "tickcolor": "rgb(36,36,36)",
                "ticks": "outside"
               },
               "width": 3
              },
              "marker": {
               "colorbar": {
                "outlinewidth": 1,
                "tickcolor": "rgb(36,36,36)",
                "ticks": "outside"
               },
               "size": 9
              },
              "type": "scatter3d"
             }
            ],
            "scattercarpet": [
             {
              "marker": {
               "colorbar": {
                "outlinewidth": 1,
                "tickcolor": "rgb(36,36,36)",
                "ticks": "outside"
               }
              },
              "type": "scattercarpet"
             }
            ],
            "scattergeo": [
             {
              "line": {
               "width": 3
              },
              "marker": {
               "colorbar": {
                "outlinewidth": 1,
                "tickcolor": "rgb(36,36,36)",
                "ticks": "outside"
               },
               "size": 9
              },
              "type": "scattergeo"
             }
            ],
            "scattergl": [
             {
              "line": {
               "width": 3
              },
              "marker": {
               "colorbar": {
                "outlinewidth": 1,
                "tickcolor": "rgb(36,36,36)",
                "ticks": "outside"
               },
               "size": 9
              },
              "type": "scattergl"
             }
            ],
            "scattermapbox": [
             {
              "marker": {
               "colorbar": {
                "outlinewidth": 1,
                "tickcolor": "rgb(36,36,36)",
                "ticks": "outside"
               }
              },
              "type": "scattermapbox"
             }
            ],
            "scatterpolar": [
             {
              "line": {
               "width": 3
              },
              "marker": {
               "colorbar": {
                "outlinewidth": 1,
                "tickcolor": "rgb(36,36,36)",
                "ticks": "outside"
               },
               "size": 9
              },
              "type": "scatterpolar"
             }
            ],
            "scatterpolargl": [
             {
              "line": {
               "width": 3
              },
              "marker": {
               "colorbar": {
                "outlinewidth": 1,
                "tickcolor": "rgb(36,36,36)",
                "ticks": "outside"
               },
               "size": 9
              },
              "type": "scatterpolargl"
             }
            ],
            "scatterternary": [
             {
              "line": {
               "width": 3
              },
              "marker": {
               "colorbar": {
                "outlinewidth": 1,
                "tickcolor": "rgb(36,36,36)",
                "ticks": "outside"
               },
               "size": 9
              },
              "type": "scatterternary"
             }
            ],
            "surface": [
             {
              "colorbar": {
               "outlinewidth": 1,
               "tickcolor": "rgb(36,36,36)",
               "ticks": "outside"
              },
              "colorscale": [
               [
                0,
                "#440154"
               ],
               [
                0.1111111111111111,
                "#482878"
               ],
               [
                0.2222222222222222,
                "#3e4989"
               ],
               [
                0.3333333333333333,
                "#31688e"
               ],
               [
                0.4444444444444444,
                "#26828e"
               ],
               [
                0.5555555555555556,
                "#1f9e89"
               ],
               [
                0.6666666666666666,
                "#35b779"
               ],
               [
                0.7777777777777778,
                "#6ece58"
               ],
               [
                0.8888888888888888,
                "#b5de2b"
               ],
               [
                1,
                "#fde725"
               ]
              ],
              "type": "surface"
             }
            ],
            "table": [
             {
              "cells": {
               "fill": {
                "color": "rgb(237,237,237)"
               },
               "height": 30,
               "line": {
                "color": "white"
               }
              },
              "header": {
               "fill": {
                "color": "rgb(217,217,217)"
               },
               "height": 36,
               "line": {
                "color": "white"
               }
              },
              "type": "table"
             }
            ]
           },
           "layout": {
            "annotationdefaults": {
             "arrowhead": 0,
             "arrowwidth": 1
            },
            "autotypenumbers": "strict",
            "coloraxis": {
             "colorbar": {
              "outlinewidth": 1,
              "tickcolor": "rgb(36,36,36)",
              "ticks": "outside"
             }
            },
            "colorscale": {
             "diverging": [
              [
               0,
               "rgb(103,0,31)"
              ],
              [
               0.1,
               "rgb(178,24,43)"
              ],
              [
               0.2,
               "rgb(214,96,77)"
              ],
              [
               0.3,
               "rgb(244,165,130)"
              ],
              [
               0.4,
               "rgb(253,219,199)"
              ],
              [
               0.5,
               "rgb(247,247,247)"
              ],
              [
               0.6,
               "rgb(209,229,240)"
              ],
              [
               0.7,
               "rgb(146,197,222)"
              ],
              [
               0.8,
               "rgb(67,147,195)"
              ],
              [
               0.9,
               "rgb(33,102,172)"
              ],
              [
               1,
               "rgb(5,48,97)"
              ]
             ],
             "sequential": [
              [
               0,
               "#440154"
              ],
              [
               0.1111111111111111,
               "#482878"
              ],
              [
               0.2222222222222222,
               "#3e4989"
              ],
              [
               0.3333333333333333,
               "#31688e"
              ],
              [
               0.4444444444444444,
               "#26828e"
              ],
              [
               0.5555555555555556,
               "#1f9e89"
              ],
              [
               0.6666666666666666,
               "#35b779"
              ],
              [
               0.7777777777777778,
               "#6ece58"
              ],
              [
               0.8888888888888888,
               "#b5de2b"
              ],
              [
               1,
               "#fde725"
              ]
             ],
             "sequentialminus": [
              [
               0,
               "#440154"
              ],
              [
               0.1111111111111111,
               "#482878"
              ],
              [
               0.2222222222222222,
               "#3e4989"
              ],
              [
               0.3333333333333333,
               "#31688e"
              ],
              [
               0.4444444444444444,
               "#26828e"
              ],
              [
               0.5555555555555556,
               "#1f9e89"
              ],
              [
               0.6666666666666666,
               "#35b779"
              ],
              [
               0.7777777777777778,
               "#6ece58"
              ],
              [
               0.8888888888888888,
               "#b5de2b"
              ],
              [
               1,
               "#fde725"
              ]
             ]
            },
            "colorway": [
             "#1F77B4",
             "#FF7F0E",
             "#2CA02C",
             "#D62728",
             "#9467BD",
             "#8C564B",
             "#E377C2",
             "#7F7F7F",
             "#BCBD22",
             "#17BECF"
            ],
            "font": {
             "color": "rgb(36,36,36)",
             "size": 18
            },
            "geo": {
             "bgcolor": "white",
             "lakecolor": "white",
             "landcolor": "white",
             "showlakes": true,
             "showland": true,
             "subunitcolor": "white"
            },
            "hoverlabel": {
             "align": "left"
            },
            "hovermode": "closest",
            "mapbox": {
             "style": "light"
            },
            "paper_bgcolor": "white",
            "plot_bgcolor": "white",
            "polar": {
             "angularaxis": {
              "gridcolor": "rgb(232,232,232)",
              "linecolor": "rgb(36,36,36)",
              "showgrid": false,
              "showline": true,
              "ticks": "outside"
             },
             "bgcolor": "white",
             "radialaxis": {
              "gridcolor": "rgb(232,232,232)",
              "linecolor": "rgb(36,36,36)",
              "showgrid": false,
              "showline": true,
              "ticks": "outside"
             }
            },
            "scene": {
             "xaxis": {
              "backgroundcolor": "white",
              "gridcolor": "rgb(232,232,232)",
              "gridwidth": 2,
              "linecolor": "rgb(36,36,36)",
              "showbackground": true,
              "showgrid": false,
              "showline": true,
              "ticks": "outside",
              "zeroline": false,
              "zerolinecolor": "rgb(36,36,36)"
             },
             "yaxis": {
              "backgroundcolor": "white",
              "gridcolor": "rgb(232,232,232)",
              "gridwidth": 2,
              "linecolor": "rgb(36,36,36)",
              "showbackground": true,
              "showgrid": false,
              "showline": true,
              "ticks": "outside",
              "zeroline": false,
              "zerolinecolor": "rgb(36,36,36)"
             },
             "zaxis": {
              "backgroundcolor": "white",
              "gridcolor": "rgb(232,232,232)",
              "gridwidth": 2,
              "linecolor": "rgb(36,36,36)",
              "showbackground": true,
              "showgrid": false,
              "showline": true,
              "ticks": "outside",
              "zeroline": false,
              "zerolinecolor": "rgb(36,36,36)"
             }
            },
            "shapedefaults": {
             "fillcolor": "black",
             "line": {
              "width": 0
             },
             "opacity": 0.3
            },
            "ternary": {
             "aaxis": {
              "gridcolor": "rgb(232,232,232)",
              "linecolor": "rgb(36,36,36)",
              "showgrid": false,
              "showline": true,
              "ticks": "outside"
             },
             "baxis": {
              "gridcolor": "rgb(232,232,232)",
              "linecolor": "rgb(36,36,36)",
              "showgrid": false,
              "showline": true,
              "ticks": "outside"
             },
             "bgcolor": "white",
             "caxis": {
              "gridcolor": "rgb(232,232,232)",
              "linecolor": "rgb(36,36,36)",
              "showgrid": false,
              "showline": true,
              "ticks": "outside"
             }
            },
            "title": {
             "x": 0.05
            },
            "xaxis": {
             "automargin": true,
             "gridcolor": "rgb(232,232,232)",
             "linecolor": "rgb(36,36,36)",
             "showgrid": false,
             "showline": true,
             "ticks": "outside",
             "title": {
              "standoff": 15
             },
             "zeroline": false,
             "zerolinecolor": "rgb(36,36,36)"
            },
            "yaxis": {
             "automargin": true,
             "gridcolor": "rgb(232,232,232)",
             "linecolor": "rgb(36,36,36)",
             "showgrid": false,
             "showline": true,
             "ticks": "outside",
             "title": {
              "standoff": 15
             },
             "zeroline": false,
             "zerolinecolor": "rgb(36,36,36)"
            }
           }
          },
          "width": 800,
          "xaxis": {
           "linewidth": 2,
           "mirror": "ticks",
           "showgrid": false,
           "showline": true,
           "ticklen": 6,
           "ticks": "inside",
           "tickwidth": 2,
           "zerolinecolor": "white"
          },
          "yaxis": {
           "linewidth": 2,
           "mirror": "ticks",
           "showgrid": false,
           "showline": true,
           "ticklen": 6,
           "ticks": "inside",
           "tickwidth": 2,
           "zerolinecolor": "white"
          }
         }
        },
        "title": {
         "text": "[Sep_25]_laser_25e3"
        },
        "width": 800,
        "xaxis": {
         "autorange": true,
         "range": [
          19300.829472755348,
          380739.1705272446
         ],
         "title": {
          "text": "Time (&mu;s)"
         },
         "type": "linear"
        },
        "yaxis": {
         "autorange": true,
         "range": [
          6.6668870445344135,
          7.615712955465586
         ],
         "title": {
          "text": "Counts (T<sub>1</sub>)"
         },
         "type": "linear"
        }
       }
      },
      "image/png": "[encoded data removed]",
      "text/html": [
       "<div>                            <div id=\"20c6941c-aac3-458b-b879-1795e65c4487\" class=\"plotly-graph-div\" style=\"height:600px; width:800px;\"></div>            <script type=\"text/javascript\">                require([\"plotly\"], function(Plotly) {                    window.PLOTLYENV=window.PLOTLYENV || {};                                    if (document.getElementById(\"20c6941c-aac3-458b-b879-1795e65c4487\")) {                    Plotly.newPlot(                        \"20c6941c-aac3-458b-b879-1795e65c4487\",                        [{\"mode\":\"markers\",\"name\":\"signal\\u002freference\",\"showlegend\":true,\"x\":[40020,80020,120020,160020,200020,240020,280020,320020,360020],\"y\":[1.067898296344777,1.075767440504533,1.0721516426995945,1.0692307692307692,1.0731970373763984,1.0734957496319513,1.0739504588028335,1.0700757754479997,1.0599501903106054],\"type\":\"scatter\"},{\"mode\":\"lines\",\"name\":\"fitted curve\",\"showlegend\":true,\"x\":[60010,120010,180010,240010,300010,360010,420010,480010,540010],\"y\":[0.9907983583852664,1.0308524665967593,1.0445327051078,1.0492051078668574,1.0508009387820296,1.0513459851834517,1.0515321424867592,1.0515957233882829,1.0516174390608177],\"type\":\"scatter\"},{\"mode\":\"markers\",\"name\":\"signal\",\"showlegend\":true,\"x\":[40020,80020,120020,160020,200020,240020,280020,320020,360020],\"y\":[7.179266666666667,7.3802666666666665,7.420933333333333,7.468933333333333,7.496066666666667,7.534866666666667,7.529466666666666,7.559799999999999,7.518933333333332],\"type\":\"scatter\"},{\"mode\":\"markers\",\"name\":\"reference\",\"showlegend\":true,\"x\":[40020,80020,120020,160020,200020,240020,280020,320020,360020],\"y\":[6.7228,6.860466666666667,6.9215333333333335,6.985333333333334,6.984799999999999,7.019,7.011,7.064733333333334,7.093666666666667],\"type\":\"scatter\"}],                        {\"template\":{\"layout\":{\"autosize\":false,\"font\":{\"family\":\"mathjax\",\"size\":22},\"height\":600,\"template\":{\"data\":{\"barpolar\":[{\"marker\":{\"line\":{\"color\":\"white\",\"width\":0.5},\"pattern\":{\"fillmode\":\"overlay\",\"size\":10,\"solidity\":0.2}},\"type\":\"barpolar\"}],\"bar\":[{\"error_x\":{\"color\":\"rgb(36,36,36)\"},\"error_y\":{\"color\":\"rgb(36,36,36)\"},\"marker\":{\"line\":{\"color\":\"white\",\"width\":0.5},\"pattern\":{\"fillmode\":\"overlay\",\"size\":10,\"solidity\":0.2}},\"type\":\"bar\"}],\"carpet\":[{\"aaxis\":{\"endlinecolor\":\"rgb(36,36,36)\",\"gridcolor\":\"white\",\"linecolor\":\"white\",\"minorgridcolor\":\"white\",\"startlinecolor\":\"rgb(36,36,36)\"},\"baxis\":{\"endlinecolor\":\"rgb(36,36,36)\",\"gridcolor\":\"white\",\"linecolor\":\"white\",\"minorgridcolor\":\"white\",\"startlinecolor\":\"rgb(36,36,36)\"},\"type\":\"carpet\"}],\"choropleth\":[{\"colorbar\":{\"outlinewidth\":1,\"tickcolor\":\"rgb(36,36,36)\",\"ticks\":\"outside\"},\"type\":\"choropleth\"}],\"contourcarpet\":[{\"colorbar\":{\"outlinewidth\":1,\"tickcolor\":\"rgb(36,36,36)\",\"ticks\":\"outside\"},\"type\":\"contourcarpet\"}],\"contour\":[{\"colorbar\":{\"outlinewidth\":1,\"tickcolor\":\"rgb(36,36,36)\",\"ticks\":\"outside\"},\"colorscale\":[[0.0,\"#440154\"],[0.1111111111111111,\"#482878\"],[0.2222222222222222,\"#3e4989\"],[0.3333333333333333,\"#31688e\"],[0.4444444444444444,\"#26828e\"],[0.5555555555555556,\"#1f9e89\"],[0.6666666666666666,\"#35b779\"],[0.7777777777777778,\"#6ece58\"],[0.8888888888888888,\"#b5de2b\"],[1.0,\"#fde725\"]],\"type\":\"contour\"}],\"heatmapgl\":[{\"colorbar\":{\"outlinewidth\":1,\"tickcolor\":\"rgb(36,36,36)\",\"ticks\":\"outside\"},\"colorscale\":[[0.0,\"#440154\"],[0.1111111111111111,\"#482878\"],[0.2222222222222222,\"#3e4989\"],[0.3333333333333333,\"#31688e\"],[0.4444444444444444,\"#26828e\"],[0.5555555555555556,\"#1f9e89\"],[0.6666666666666666,\"#35b779\"],[0.7777777777777778,\"#6ece58\"],[0.8888888888888888,\"#b5de2b\"],[1.0,\"#fde725\"]],\"type\":\"heatmapgl\"}],\"heatmap\":[{\"colorbar\":{\"outlinewidth\":1,\"tickcolor\":\"rgb(36,36,36)\",\"ticks\":\"outside\"},\"colorscale\":[[0.0,\"#440154\"],[0.1111111111111111,\"#482878\"],[0.2222222222222222,\"#3e4989\"],[0.3333333333333333,\"#31688e\"],[0.4444444444444444,\"#26828e\"],[0.5555555555555556,\"#1f9e89\"],[0.6666666666666666,\"#35b779\"],[0.7777777777777778,\"#6ece58\"],[0.8888888888888888,\"#b5de2b\"],[1.0,\"#fde725\"]],\"type\":\"heatmap\"}],\"histogram2dcontour\":[{\"colorbar\":{\"outlinewidth\":1,\"tickcolor\":\"rgb(36,36,36)\",\"ticks\":\"outside\"},\"colorscale\":[[0.0,\"#440154\"],[0.1111111111111111,\"#482878\"],[0.2222222222222222,\"#3e4989\"],[0.3333333333333333,\"#31688e\"],[0.4444444444444444,\"#26828e\"],[0.5555555555555556,\"#1f9e89\"],[0.6666666666666666,\"#35b779\"],[0.7777777777777778,\"#6ece58\"],[0.8888888888888888,\"#b5de2b\"],[1.0,\"#fde725\"]],\"type\":\"histogram2dcontour\"}],\"histogram2d\":[{\"colorbar\":{\"outlinewidth\":1,\"tickcolor\":\"rgb(36,36,36)\",\"ticks\":\"outside\"},\"colorscale\":[[0.0,\"#440154\"],[0.1111111111111111,\"#482878\"],[0.2222222222222222,\"#3e4989\"],[0.3333333333333333,\"#31688e\"],[0.4444444444444444,\"#26828e\"],[0.5555555555555556,\"#1f9e89\"],[0.6666666666666666,\"#35b779\"],[0.7777777777777778,\"#6ece58\"],[0.8888888888888888,\"#b5de2b\"],[1.0,\"#fde725\"]],\"type\":\"histogram2d\"}],\"histogram\":[{\"marker\":{\"line\":{\"color\":\"white\",\"width\":0.6}},\"type\":\"histogram\"}],\"mesh3d\":[{\"colorbar\":{\"outlinewidth\":1,\"tickcolor\":\"rgb(36,36,36)\",\"ticks\":\"outside\"},\"type\":\"mesh3d\"}],\"parcoords\":[{\"line\":{\"colorbar\":{\"outlinewidth\":1,\"tickcolor\":\"rgb(36,36,36)\",\"ticks\":\"outside\"}},\"type\":\"parcoords\"}],\"pie\":[{\"automargin\":true,\"type\":\"pie\"}],\"scatter3d\":[{\"line\":{\"colorbar\":{\"outlinewidth\":1,\"tickcolor\":\"rgb(36,36,36)\",\"ticks\":\"outside\"},\"width\":3},\"marker\":{\"colorbar\":{\"outlinewidth\":1,\"tickcolor\":\"rgb(36,36,36)\",\"ticks\":\"outside\"},\"size\":9},\"type\":\"scatter3d\"}],\"scattercarpet\":[{\"marker\":{\"colorbar\":{\"outlinewidth\":1,\"tickcolor\":\"rgb(36,36,36)\",\"ticks\":\"outside\"}},\"type\":\"scattercarpet\"}],\"scattergeo\":[{\"line\":{\"width\":3},\"marker\":{\"colorbar\":{\"outlinewidth\":1,\"tickcolor\":\"rgb(36,36,36)\",\"ticks\":\"outside\"},\"size\":9},\"type\":\"scattergeo\"}],\"scattergl\":[{\"line\":{\"width\":3},\"marker\":{\"colorbar\":{\"outlinewidth\":1,\"tickcolor\":\"rgb(36,36,36)\",\"ticks\":\"outside\"},\"size\":9},\"type\":\"scattergl\"}],\"scattermapbox\":[{\"marker\":{\"colorbar\":{\"outlinewidth\":1,\"tickcolor\":\"rgb(36,36,36)\",\"ticks\":\"outside\"}},\"type\":\"scattermapbox\"}],\"scatterpolargl\":[{\"line\":{\"width\":3},\"marker\":{\"colorbar\":{\"outlinewidth\":1,\"tickcolor\":\"rgb(36,36,36)\",\"ticks\":\"outside\"},\"size\":9},\"type\":\"scatterpolargl\"}],\"scatterpolar\":[{\"line\":{\"width\":3},\"marker\":{\"colorbar\":{\"outlinewidth\":1,\"tickcolor\":\"rgb(36,36,36)\",\"ticks\":\"outside\"},\"size\":9},\"type\":\"scatterpolar\"}],\"scatter\":[{\"fillpattern\":{\"fillmode\":\"overlay\",\"size\":10,\"solidity\":0.2},\"line\":{\"width\":3},\"marker\":{\"size\":9},\"type\":\"scatter\"}],\"scatterternary\":[{\"line\":{\"width\":3},\"marker\":{\"colorbar\":{\"outlinewidth\":1,\"tickcolor\":\"rgb(36,36,36)\",\"ticks\":\"outside\"},\"size\":9},\"type\":\"scatterternary\"}],\"surface\":[{\"colorbar\":{\"outlinewidth\":1,\"tickcolor\":\"rgb(36,36,36)\",\"ticks\":\"outside\"},\"colorscale\":[[0.0,\"#440154\"],[0.1111111111111111,\"#482878\"],[0.2222222222222222,\"#3e4989\"],[0.3333333333333333,\"#31688e\"],[0.4444444444444444,\"#26828e\"],[0.5555555555555556,\"#1f9e89\"],[0.6666666666666666,\"#35b779\"],[0.7777777777777778,\"#6ece58\"],[0.8888888888888888,\"#b5de2b\"],[1.0,\"#fde725\"]],\"type\":\"surface\"}],\"table\":[{\"cells\":{\"fill\":{\"color\":\"rgb(237,237,237)\"},\"height\":30,\"line\":{\"color\":\"white\"}},\"header\":{\"fill\":{\"color\":\"rgb(217,217,217)\"},\"height\":36,\"line\":{\"color\":\"white\"}},\"type\":\"table\"}]},\"layout\":{\"annotationdefaults\":{\"arrowhead\":0,\"arrowwidth\":1},\"autotypenumbers\":\"strict\",\"coloraxis\":{\"colorbar\":{\"outlinewidth\":1,\"tickcolor\":\"rgb(36,36,36)\",\"ticks\":\"outside\"}},\"colorscale\":{\"diverging\":[[0.0,\"rgb(103,0,31)\"],[0.1,\"rgb(178,24,43)\"],[0.2,\"rgb(214,96,77)\"],[0.3,\"rgb(244,165,130)\"],[0.4,\"rgb(253,219,199)\"],[0.5,\"rgb(247,247,247)\"],[0.6,\"rgb(209,229,240)\"],[0.7,\"rgb(146,197,222)\"],[0.8,\"rgb(67,147,195)\"],[0.9,\"rgb(33,102,172)\"],[1.0,\"rgb(5,48,97)\"]],\"sequential\":[[0.0,\"#440154\"],[0.1111111111111111,\"#482878\"],[0.2222222222222222,\"#3e4989\"],[0.3333333333333333,\"#31688e\"],[0.4444444444444444,\"#26828e\"],[0.5555555555555556,\"#1f9e89\"],[0.6666666666666666,\"#35b779\"],[0.7777777777777778,\"#6ece58\"],[0.8888888888888888,\"#b5de2b\"],[1.0,\"#fde725\"]],\"sequentialminus\":[[0.0,\"#440154\"],[0.1111111111111111,\"#482878\"],[0.2222222222222222,\"#3e4989\"],[0.3333333333333333,\"#31688e\"],[0.4444444444444444,\"#26828e\"],[0.5555555555555556,\"#1f9e89\"],[0.6666666666666666,\"#35b779\"],[0.7777777777777778,\"#6ece58\"],[0.8888888888888888,\"#b5de2b\"],[1.0,\"#fde725\"]]},\"colorway\":[\"#1F77B4\",\"#FF7F0E\",\"#2CA02C\",\"#D62728\",\"#9467BD\",\"#8C564B\",\"#E377C2\",\"#7F7F7F\",\"#BCBD22\",\"#17BECF\"],\"font\":{\"color\":\"rgb(36,36,36)\",\"size\":18},\"geo\":{\"bgcolor\":\"white\",\"lakecolor\":\"white\",\"landcolor\":\"white\",\"showlakes\":true,\"showland\":true,\"subunitcolor\":\"white\"},\"hoverlabel\":{\"align\":\"left\"},\"hovermode\":\"closest\",\"mapbox\":{\"style\":\"light\"},\"paper_bgcolor\":\"white\",\"plot_bgcolor\":\"white\",\"polar\":{\"angularaxis\":{\"gridcolor\":\"rgb(232,232,232)\",\"linecolor\":\"rgb(36,36,36)\",\"showgrid\":false,\"showline\":true,\"ticks\":\"outside\"},\"bgcolor\":\"white\",\"radialaxis\":{\"gridcolor\":\"rgb(232,232,232)\",\"linecolor\":\"rgb(36,36,36)\",\"showgrid\":false,\"showline\":true,\"ticks\":\"outside\"}},\"scene\":{\"xaxis\":{\"backgroundcolor\":\"white\",\"gridcolor\":\"rgb(232,232,232)\",\"gridwidth\":2,\"linecolor\":\"rgb(36,36,36)\",\"showbackground\":true,\"showgrid\":false,\"showline\":true,\"ticks\":\"outside\",\"zeroline\":false,\"zerolinecolor\":\"rgb(36,36,36)\"},\"yaxis\":{\"backgroundcolor\":\"white\",\"gridcolor\":\"rgb(232,232,232)\",\"gridwidth\":2,\"linecolor\":\"rgb(36,36,36)\",\"showbackground\":true,\"showgrid\":false,\"showline\":true,\"ticks\":\"outside\",\"zeroline\":false,\"zerolinecolor\":\"rgb(36,36,36)\"},\"zaxis\":{\"backgroundcolor\":\"white\",\"gridcolor\":\"rgb(232,232,232)\",\"gridwidth\":2,\"linecolor\":\"rgb(36,36,36)\",\"showbackground\":true,\"showgrid\":false,\"showline\":true,\"ticks\":\"outside\",\"zeroline\":false,\"zerolinecolor\":\"rgb(36,36,36)\"}},\"shapedefaults\":{\"fillcolor\":\"black\",\"line\":{\"width\":0},\"opacity\":0.3},\"ternary\":{\"aaxis\":{\"gridcolor\":\"rgb(232,232,232)\",\"linecolor\":\"rgb(36,36,36)\",\"showgrid\":false,\"showline\":true,\"ticks\":\"outside\"},\"baxis\":{\"gridcolor\":\"rgb(232,232,232)\",\"linecolor\":\"rgb(36,36,36)\",\"showgrid\":false,\"showline\":true,\"ticks\":\"outside\"},\"bgcolor\":\"white\",\"caxis\":{\"gridcolor\":\"rgb(232,232,232)\",\"linecolor\":\"rgb(36,36,36)\",\"showgrid\":false,\"showline\":true,\"ticks\":\"outside\"}},\"title\":{\"x\":0.05},\"xaxis\":{\"automargin\":true,\"gridcolor\":\"rgb(232,232,232)\",\"linecolor\":\"rgb(36,36,36)\",\"showgrid\":false,\"showline\":true,\"ticks\":\"outside\",\"title\":{\"standoff\":15},\"zeroline\":false,\"zerolinecolor\":\"rgb(36,36,36)\"},\"yaxis\":{\"automargin\":true,\"gridcolor\":\"rgb(232,232,232)\",\"linecolor\":\"rgb(36,36,36)\",\"showgrid\":false,\"showline\":true,\"ticks\":\"outside\",\"title\":{\"standoff\":15},\"zeroline\":false,\"zerolinecolor\":\"rgb(36,36,36)\"}}},\"width\":800,\"xaxis\":{\"linewidth\":2.0,\"mirror\":\"ticks\",\"showgrid\":false,\"showline\":true,\"ticklen\":6,\"ticks\":\"inside\",\"tickwidth\":2.0,\"zerolinecolor\":\"white\"},\"yaxis\":{\"linewidth\":2.0,\"mirror\":\"ticks\",\"showgrid\":false,\"showline\":true,\"ticklen\":6,\"ticks\":\"inside\",\"tickwidth\":2.0,\"zerolinecolor\":\"white\"}}},\"width\":800,\"height\":600,\"title\":{\"text\":\"[Sep_25]_laser_25e3\"},\"xaxis\":{\"title\":{\"text\":\"Time (&mu;s)\"}},\"yaxis\":{\"title\":{\"text\":\"Counts (T\\u003csub\\u003e1\\u003c\\u002fsub\\u003e)\"}}},                        {\"responsive\": true}                    ).then(function(){\n",
       "                            \n",
       "var gd = document.getElementById('20c6941c-aac3-458b-b879-1795e65c4487');\n",
       "var x = new MutationObserver(function (mutations, observer) {{\n",
       "        var display = window.getComputedStyle(gd).display;\n",
       "        if (!display || display === 'none') {{\n",
       "            console.log([gd, 'removed!']);\n",
       "            Plotly.purge(gd);\n",
       "            observer.disconnect();\n",
       "        }}\n",
       "}});\n",
       "\n",
       "// Listen for the removal of the full notebook cells\n",
       "var notebookContainer = gd.closest('#notebook-container');\n",
       "if (notebookContainer) {{\n",
       "    x.observe(notebookContainer, {childList: true});\n",
       "}}\n",
       "\n",
       "// Listen for the clearing of the current output cell\n",
       "var outputEl = gd.closest('.output');\n",
       "if (outputEl) {{\n",
       "    x.observe(outputEl, {childList: true});\n",
       "}}\n",
       "\n",
       "                        })                };                });            </script>        </div>"
      ]
     },
     "metadata": {},
     "output_type": "display_data"
    }
   ],
   "source": [
    "x=time_axis[1:]\n",
    "y=signal_photon[1:]\n",
    "\n",
    "# x_fit,y_fit,coefficient,error_bars = fit_func(x,y,fit_range=False,func='exp',guess_params=np.array([0.7,0.9,0.08e6]))\n",
    "\n",
    "fig1 = simple_plot(x,y,show=False,x_name = \"Time (&mu;s)\",y_name = \"Counts (T<sub>1</sub>)\",mode='markers',title=f'{date}',curve_name='signal/reference')\n",
    "# fig2 = simple_plot(x_fit,y_fit,show=False,x_name = \"Time (&mu;s)\",y_name = \"Counts (T<sub>1</sub>)\",mode='lines',title=f'{date}',curve_name='fitted curve')\n",
    "fig3 = simple_plot(x,signal_samples[1:],show=False,x_name = \"Time (&mu;s)\",y_name = \"Counts (T<sub>1</sub>)\",mode='markers',title=f'{date}',curve_name='signal')\n",
    "fig4 = simple_plot(x,reference_samples[1:],show=False,x_name = \"Time (&mu;s)\",y_name = \"Counts (T<sub>1</sub>)\",mode='markers',title=f'{date}',curve_name='reference')\n",
    "\n",
    "\n",
    "add_figures([fig1,fig2,fig3,fig4],show=True,x_name = \"Time (&mu;s)\",y_name = \"Counts (T<sub>1</sub>)\",title=f'[{date}]_laser_25e3')"
   ]
  },
  {
   "cell_type": "markdown",
   "id": "9f5645b3-b345-41d5-b82c-9b14cc14820c",
   "metadata": {},
   "source": [
    "## Add calibrations, specifications and few reference plots"
   ]
  },
  {
   "cell_type": "markdown",
   "id": "ac241039-fb6b-4e36-8bdf-e1cd8afb1f36",
   "metadata": {},
   "source": [
    "sep 25 \n",
    "\n",
    "only microdiamonds with t1_new sequence\n",
    "1. laserontime_20e3 : []\n",
    "2. laserontime_15e3 : []\n",
    "3. laserontime_10e3 : []\n",
    "4. laserontime_5e3 : []"
   ]
  },
  {
   "cell_type": "markdown",
   "id": "29c3caac-084b-4e10-9d2f-15e7a4c7bced",
   "metadata": {},
   "source": [
    "sep 24 \n",
    "\n",
    "1. with only thin glass slide without cover slip.\n",
    "2. datas are not good and there is no trend in signal and reference( with T1 and T1 simple) without pulse.\n",
    "3. We got reverse trend with pulses and reference was kind of constant.\n",
    "4. Yesterday we also got reverse trend in sig/ref but then signal and reference were decaying exponentially.\n",
    "5. After 1.17pm, we added Gd(0.1 molar - 10-15 microlitter ) on the same cluster.\n",
    "6. The T1 lifetime measured by t1_simple sequence was less than t1 sequence.\n",
    "7. The initial nature of the reference signal was reverse for t1_simple and t1 sequence."
   ]
  },
  {
   "cell_type": "markdown",
   "id": "6f9840df-93da-470c-9a2d-96f824cf9da7",
   "metadata": {},
   "source": [
    "sep 25 \n",
    "\n",
    "only microdiamonds with t1_simple sequence\n",
    "1. laserontime_20e3 : [278454.8 ± 210020.7,284183.1 ± 274476.7,304470.6 ± 301491.9,193031.5 ± 83107.9,141011.8 ± 54651.7,136667.4 ± 53576.6]\n",
    "2. laserontime_25e3 : [6220082.0 ± 97180446.6,1142116.5 ± 3558827.2,773866.1 ± 1481108.6,536440.8 ± 882788.1]\n",
    "3. laserontime_15e3 : [69071.3 ± 8862.3,77440.8 ± 11061.3,67807.6 ± 9532.6]\n",
    "4. laserontime_10e3 : [34642.4 ± 4395.6,32938.5 ± 2800.9,31408.0 ± 3536.5]\n",
    "5. laserontime_5e3 : [163635.8 ± 114107.9,10427743.5 ± 331417313.0,421437.0 ± 415837.2,344431.6 ± 279401.8] (the exponential trend revives)"
   ]
  },
  {
   "cell_type": "markdown",
   "id": "f24d71f6-b3ed-44c6-bddf-611f990d98f5",
   "metadata": {},
   "source": [
    "sep 25\n",
    "\n",
    "[microdiamonds: 500nm,525nm]\n",
    "\n",
    "sample 2 (3.33pm) [2 microlitter MD+10 microlitter water]\n",
    "Gd (0.1 molar - 20 microlitter)\n",
    "After adding Gd, we started from fourth and counted up\n",
    "\n",
    "|--|---|First cluster|---|\n",
    "|without Gd|without Gd|with Gd|with Gd|\n",
    "|---|---|---|---|\n",
    "|t1|t1_simple|t1|t1_simple|\n",
    "|377993.0 ± 191656.5|370908.5 ± 365686.5|339729.7 ± 224803.1|110173.8 ± 23564.5|\n",
    "|363884.6 ± 102700.6|921834831.8 ± 1916948833710.4|484611.9 ± 250581.4|107138.6 ± 26226.7|\n",
    "\n",
    "\n",
    "|--|---|Second cluster|---|\n",
    "|without Gd|without Gd|with Gd|with Gd|\n",
    "|---|---|---|---|\n",
    "|t1|t1_simple|t1|t1_simple|\n",
    "|422687.6 ± 329115.1|254545.9 ± 81386.0|249458.7 ± 129490.4|335996.5 ± 122350.3|\n",
    "|342149.2 ± 182741.5|202659.7 ± 52323.6|255755.9 ± 111794.1|373363.6 ± 164207.5|\n",
    "\n",
    "\n",
    "|--|---|Third cluster|---|\n",
    "|without Gd|without Gd|with Gd|with Gd|\n",
    "|---|---|---|---|\n",
    "|t1|t1_simple|t1|t1_simple|\n",
    "|363730492.8 ± 615100137631.6 (good sig, not sig/ref)|2748090534.2 ± 1783561161829.9|1675114.9 ± 5538026.5|76518.1 ± 27898.5|\n",
    "|353241413.3 ± 526383166989.6 (good sig, not sig/ref)|388162031.4 ± 289446072087.4|1214220.2 ± 2242830.3|125444.8 ± 44465.6|\n",
    "\n",
    "\n",
    "\n",
    "|--|---|Fourth cluster|---|\n",
    "|without Gd|without Gd|with Gd|with Gd|\n",
    "|---|---|---|---|\n",
    "|t1|t1_simple|t1|t1_simple|\n",
    "|192239.3 ± 46384.6|195890.3 ± 30248.9|666862981.9 ± 438961483044.5 (good sig, not sig/ref)|2347536190.3 ± 589045272609.6|\n",
    "|230991.6 ± 57184.1|213769.3 ± 40152.9|1725913.8 ± 4821172.1 (good sig, not sig/ref)|1069736.8 ± 1707837.5|"
   ]
  },
  {
   "cell_type": "markdown",
   "id": "044197d8-83d9-40ec-a16d-4a762a7b1bea",
   "metadata": {},
   "source": [
    "sep 25 \n",
    "\n",
    "[microdiamonds: 500nm,525nm]\n",
    "\n",
    "sample 2 (3.33pm) [2 microlitter MD+10 microlitter water]\n",
    "Gd (0.1 molar - 20 microlitter)\n",
    "After adding Gd, we started from fourth and counted up\n",
    "(previous day's sample)\n",
    "|First cluster|---|\n",
    "|with Gd|with Gd|\n",
    "|---|---|\n",
    "|t1|t1_simple|\n",
    "|1199584284.5 ± 1881414353416.5|666851008.1 ± 897326633633.6|\n",
    "|733165860.1 ± 1637031146674.2| 410085.1 ± 362015.9|"
   ]
  },
  {
   "cell_type": "markdown",
   "id": "7b57594b-fd44-4e99-82cd-d5fb9b7d1b96",
   "metadata": {},
   "source": [
    "sep 24\n",
    "\n",
    "[microdiamonds: 500nm,525nm]\n",
    "\n",
    "sample 2 (3.33pm) [2 microlitter MD+10 microlitter water]\n",
    "Gd (0.1 molar - 20 microlitter)\n",
    "After adding Gd, we started from fourth and counted up\n",
    "\n",
    "|--|---|First cluster|---|\n",
    "|without Gd|without Gd|with Gd|with Gd|\n",
    "|---|---|---|---|\n",
    "|t1|t1_simple|t1|t1_simple|\n",
    "|377993.0 ± 191656.5|114809.4 ± 33751.7|339729.7 ± 224803.1|110173.8 ± 23564.5|\n",
    "|363884.6 ± 102700.6|100525.8 ± 23508.9|484611.9 ± 250581.4|107138.6 ± 26226.7|\n",
    "\n",
    "\n",
    "|--|---|Second cluster|---|\n",
    "|without Gd|without Gd|with Gd|with Gd|\n",
    "|---|---|---|---|\n",
    "|t1|t1_simple|t1|t1_simple|\n",
    "|422687.6 ± 329115.1|254545.9 ± 81386.0|249458.7 ± 129490.4|335996.5 ± 122350.3|\n",
    "|342149.2 ± 182741.5|202659.7 ± 52323.6|255755.9 ± 111794.1|373363.6 ± 164207.5|\n",
    "\n",
    "\n",
    "|--|---|Third cluster|---|\n",
    "|without Gd|without Gd|with Gd|with Gd|\n",
    "|---|---|---|---|\n",
    "|t1|t1_simple|t1|t1_simple|\n",
    "|363730492.8 ± 615100137631.6 (good sig, not sig/ref)|2748090534.2 ± 1783561161829.9|1675114.9 ± 5538026.5|76518.1 ± 27898.5|\n",
    "|353241413.3 ± 526383166989.6 (good sig, not sig/ref)|388162031.4 ± 289446072087.4|1214220.2 ± 2242830.3|125444.8 ± 44465.6|\n",
    "\n",
    "\n",
    "\n",
    "|--|---|Fourth cluster|---|\n",
    "|without Gd|without Gd|with Gd|with Gd|\n",
    "|---|---|---|---|\n",
    "|t1|t1_simple|t1|t1_simple|\n",
    "|192239.3 ± 46384.6|195890.3 ± 30248.9|666862981.9 ± 438961483044.5 (good sig, not sig/ref)|2347536190.3 ± 589045272609.6|\n",
    "|230991.6 ± 57184.1|213769.3 ± 40152.9|1725913.8 ± 4821172.1 (good sig, not sig/ref)|1069736.8 ± 1707837.5|"
   ]
  },
  {
   "cell_type": "code",
   "execution_count": null,
   "id": "20bca1e0-543a-438e-9c3b-e657a386a4a8",
   "metadata": {},
   "outputs": [],
   "source": []
  }
 ],
 "metadata": {
  "kernelspec": {
   "display_name": "Python 3 (ipykernel)",
   "language": "python",
   "name": "python3"
  },
  "language_info": {
   "codemirror_mode": {
    "name": "ipython",
    "version": 3
   },
   "file_extension": ".py",
   "mimetype": "text/x-python",
   "name": "python",
   "nbconvert_exporter": "python",
   "pygments_lexer": "ipython3",
   "version": "3.11.5"
  }
 },
 "nbformat": 4,
 "nbformat_minor": 5
}
