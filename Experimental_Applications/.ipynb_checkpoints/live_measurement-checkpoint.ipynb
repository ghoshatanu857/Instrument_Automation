{
 "cells": [
  {
   "cell_type": "code",
   "execution_count": 32,
   "id": "8579ce16-a761-4790-bfd8-00014a0919ff",
   "metadata": {},
   "outputs": [],
   "source": [
    "from importlib import reload\n",
    "\n",
    "import analysis\n",
    "# reload(analysis_wrapper)\n",
    "from analysis import *"
   ]
  },
  {
   "cell_type": "code",
   "execution_count": 33,
   "id": "a3c0e989-588f-4757-8794-b115ceb45779",
   "metadata": {},
   "outputs": [
    {
     "data": {
      "text/plain": [
       "<module 'analysis_wrapper' from 'C:\\\\Users\\\\Basanta_Atanu\\\\OneDrive\\\\Desktop\\\\Atanu\\\\Atanu_Github\\\\Instrument_Automation\\\\Experimental_Applications\\\\analysis_wrapper.py'>"
      ]
     },
     "execution_count": 33,
     "metadata": {},
     "output_type": "execute_result"
    }
   ],
   "source": [
    "analysis"
   ]
  },
  {
   "cell_type": "code",
   "execution_count": 28,
   "id": "f85c927a-3bec-4461-beb5-3ebf87ee4c36",
   "metadata": {},
   "outputs": [],
   "source": [
    "import os\n",
    "import numpy as np\n",
    "import time"
   ]
  },
  {
   "cell_type": "code",
   "execution_count": 29,
   "id": "8436e0a7-918f-4a08-be04-3e59a58cb463",
   "metadata": {},
   "outputs": [],
   "source": [
    "arr1 = np.arange(1,10,1)\n",
    "arr2=arr1.reshape(3,3)\n",
    "\n",
    "dict_args = {'arr1':arr1,'arr2':arr2}"
   ]
  },
  {
   "cell_type": "code",
   "execution_count": 35,
   "id": "2b89c02a-90c9-4e6d-a3ee-56018523222e",
   "metadata": {},
   "outputs": [
    {
     "name": "stdout",
     "output_type": "stream",
     "text": [
      "root directory : C:\\Users\\Basanta_Atanu\\OneDrive\\Desktop\\Atanu\\Atanu_Github\\Instrument_Automation\\Experimental_Applications\n"
     ]
    },
    {
     "ename": "AttributeError",
     "evalue": "module 'analysis' has no attribute 'npz_save'",
     "output_type": "error",
     "traceback": [
      "\u001b[1;31m---------------------------------------------------------------------------\u001b[0m",
      "\u001b[1;31mAttributeError\u001b[0m                            Traceback (most recent call last)",
      "Cell \u001b[1;32mIn[35], line 10\u001b[0m\n\u001b[0;32m      7\u001b[0m folder_path \u001b[38;5;241m=\u001b[39m root_directory\u001b[38;5;241m+\u001b[39m\u001b[38;5;124mf\u001b[39m\u001b[38;5;124m'\u001b[39m\u001b[38;5;124m/root/\u001b[39m\u001b[38;5;132;01m{\u001b[39;00myear\u001b[38;5;132;01m}\u001b[39;00m\u001b[38;5;124m/\u001b[39m\u001b[38;5;132;01m{\u001b[39;00mdate\u001b[38;5;132;01m}\u001b[39;00m\u001b[38;5;124m/dummy/\u001b[39m\u001b[38;5;124m'\u001b[39m\n\u001b[0;32m      8\u001b[0m file_name \u001b[38;5;241m=\u001b[39m \u001b[38;5;124m'\u001b[39m\u001b[38;5;124mdummy1.npz\u001b[39m\u001b[38;5;124m'\u001b[39m\n\u001b[1;32m---> 10\u001b[0m total_path \u001b[38;5;241m=\u001b[39m \u001b[43manalysis\u001b[49m\u001b[38;5;241;43m.\u001b[39;49m\u001b[43mnpz_save\u001b[49m(folder_path,file_name,\u001b[38;5;241m*\u001b[39m\u001b[38;5;241m*\u001b[39mdict_args)\n",
      "\u001b[1;31mAttributeError\u001b[0m: module 'analysis' has no attribute 'npz_save'"
     ]
    }
   ],
   "source": [
    "root_directory = os.getcwd()\n",
    "print(f'root directory : {root_directory}')\n",
    "\n",
    "year = time.ctime()[-4:]\n",
    "date = time.ctime()[4:10].replace(':','_')\n",
    "\n",
    "folder_path = root_directory+f'/root/{year}/{date}/dummy/'\n",
    "file_name = 'dummy1.npz'\n",
    "\n",
    "total_path = analysis.npz_save(folder_path,file_name,**dict_args)"
   ]
  },
  {
   "cell_type": "code",
   "execution_count": null,
   "id": "d412ee23-7814-4aa7-8446-c1dc31245412",
   "metadata": {},
   "outputs": [],
   "source": [
    "load_data = dict(np.load(total_path))"
   ]
  }
 ],
 "metadata": {
  "kernelspec": {
   "display_name": "Python 3 (ipykernel)",
   "language": "python",
   "name": "python3"
  },
  "language_info": {
   "codemirror_mode": {
    "name": "ipython",
    "version": 3
   },
   "file_extension": ".py",
   "mimetype": "text/x-python",
   "name": "python",
   "nbconvert_exporter": "python",
   "pygments_lexer": "ipython3",
   "version": "3.11.7"
  }
 },
 "nbformat": 4,
 "nbformat_minor": 5
}
