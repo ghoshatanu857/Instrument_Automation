{
 "cells": [
  {
   "cell_type": "code",
   "execution_count": 48,
   "id": "8579ce16-a761-4790-bfd8-00014a0919ff",
   "metadata": {},
   "outputs": [
    {
     "data": {
      "text/plain": [
       "<module 'measurement' from 'C:\\\\Users\\\\Basanta_Atanu\\\\OneDrive\\\\Desktop\\\\Atanu\\\\Atanu_Github\\\\Instrument_Automation\\\\Experimental_Applications\\\\measurement.py'>"
      ]
     },
     "execution_count": 48,
     "metadata": {},
     "output_type": "execute_result"
    }
   ],
   "source": [
    "from importlib import reload\n",
    "import os\n",
    "import numpy as np\n",
    "import time\n",
    "from pulsestreamer import *\n",
    "from nidaqmx import *\n",
    "\n",
    "from analysis import *\n",
    "reload(analysis)\n",
    "\n",
    "from measurement import *\n",
    "reload(measurement)"
   ]
  },
  {
   "cell_type": "code",
   "execution_count": 50,
   "id": "1e4b760b-e680-4766-adbc-9c7874dbedc7",
   "metadata": {},
   "outputs": [],
   "source": [
    "# # loading the local Pulse Streamer and NIDAQmx\n",
    "\n",
    "# IPaddress = findPulseStreamers(search_serial='')[0][0]\n",
    "# pulser = PulseStreamer(IPaddress)\n",
    "\n",
    "# DAQ_device = nidaqmx.system.System.local().devices[0]\n",
    "# device_name = DAQ_device.terminals[0:1][0][1:5]\n",
    "# print(f'NIDAQmx device name : {device_name}')"
   ]
  },
  {
   "cell_type": "code",
   "execution_count": 23,
   "id": "8436e0a7-918f-4a08-be04-3e59a58cb463",
   "metadata": {},
   "outputs": [],
   "source": [
    "arr1 = np.arange(1,10,1)\n",
    "arr2=arr1.reshape(3,3)\n",
    "\n",
    "dict_args = {'arr1':arr1,'arr2':arr2}"
   ]
  },
  {
   "cell_type": "code",
   "execution_count": 89,
   "id": "54f9314c-6100-4aa2-b8a7-e2627e1ac6a8",
   "metadata": {},
   "outputs": [],
   "source": [
    "specs_ports = {'laserNum' : 1, 'gateStart' : 5, 'source' : 7}\n",
    "\n",
    "specs_delay = {'rising_delay' : 2,'gatelen' :  6, 'laserontime' :  31,'delay_pad' :  2,'delay_shift' :  2,'gatesourcedelay' : 2}\n",
    "specs_t1 = {'rising_delay' : 20,'gatelen' : 2e3, 'laserontime' : 25e3,'delay_pad' : 20,'delay_shift' : 150e3,'gatesourcedelay' : 5,'evolution_time' : 1.5e6}\n",
    "specs_snr = {'rising_delay' : 20,'gatelen' : 2e3, 'laserontime' : 25e3,'delay_pad' : 20,'delay_shift' : 150e3,'gatesourcedelay' : 5,'evolution_time' : 1.5e6}\n",
    "specs_lifetime = {'rising_delay' : 20,'gatelen' : 2e3, 'laserontime' : 25e3,'delay_pad' : 20,'delay_shift' : 150e3,'gatesourcedelay' : 5,'evolution_time' : 1.5e6}  #change this "
   ]
  },
  {
   "cell_type": "code",
   "execution_count": null,
   "id": "50ca942b-bce2-4c66-8746-4ef7fdfa4a3d",
   "metadata": {},
   "outputs": [],
   "source": [
    "total_specs = specs_ports.update(specs_t1)   #change the specs name accordingly\n",
    "avg_data = measure(pulser,device_name,exp_name = 't1',\n",
    "                   samples=2000,averages=30,specificatons=total_specs)"
   ]
  },
  {
   "cell_type": "code",
   "execution_count": 95,
   "id": "6f88173d-987f-4b76-8a0f-3fe6b1cf44f7",
   "metadata": {},
   "outputs": [
    {
     "name": "stdout",
     "output_type": "stream",
     "text": [
      "5 20 2000.0\n"
     ]
    }
   ],
   "source": [
    "def func(dummy,rising_delay=200,gatelen=5):\n",
    "    print(dummy,rising_delay,gatelen)\n",
    "func(5,**{'rising_delay' : 20,'gatelen' : 2e3})"
   ]
  },
  {
   "cell_type": "code",
   "execution_count": 45,
   "id": "2b89c02a-90c9-4e6d-a3ee-56018523222e",
   "metadata": {},
   "outputs": [
    {
     "name": "stdout",
     "output_type": "stream",
     "text": [
      "root directory : C:\\Users\\Basanta_Atanu\\OneDrive\\Desktop\\Atanu\\Atanu_Github\\Instrument_Automation\\Experimental_Applications\n",
      "saving data_file 'dummy.npz' is successful!\n",
      "\n"
     ]
    }
   ],
   "source": [
    "root_directory = os.getcwd()\n",
    "print(f'root directory : {root_directory}')\n",
    "\n",
    "year = time.ctime()[-4:]\n",
    "date = time.ctime()[4:10].replace(' ','_')\n",
    "\n",
    "folder_path = root_directory+f'/exp_data/{year}/{date}/snr'\n",
    "file_name = 'dummy.npz'\n",
    "\n",
    "total_path = npz_save(folder_path,file_name,**dict_args)"
   ]
  },
  {
   "cell_type": "code",
   "execution_count": null,
   "id": "d412ee23-7814-4aa7-8446-c1dc31245412",
   "metadata": {},
   "outputs": [],
   "source": [
    "load_data = dict(np.load(total_path))"
   ]
  }
 ],
 "metadata": {
  "kernelspec": {
   "display_name": "Python 3 (ipykernel)",
   "language": "python",
   "name": "python3"
  },
  "language_info": {
   "codemirror_mode": {
    "name": "ipython",
    "version": 3
   },
   "file_extension": ".py",
   "mimetype": "text/x-python",
   "name": "python",
   "nbconvert_exporter": "python",
   "pygments_lexer": "ipython3",
   "version": "3.11.7"
  }
 },
 "nbformat": 4,
 "nbformat_minor": 5
}
