{
 "cells": [
  {
   "cell_type": "code",
   "execution_count": 155,
   "id": "1508b807-94d9-46b6-b348-1704eee89bb8",
   "metadata": {
    "tags": []
   },
   "outputs": [],
   "source": [
    "from importlib import reload\n",
    "import os\n",
    "import numpy as np\n",
    "import time\n",
    "import glob\n",
    "from PIL import Image\n",
    "from tqdm import trange\n",
    "from pulsestreamer import *\n",
    "from nidaqmx import *\n",
    "\n",
    "import analysis\n",
    "reload(analysis)\n",
    "from analysis import *\n",
    "\n",
    "import measurement\n",
    "reload(measurement)\n",
    "from measurement import *"
   ]
  },
  {
   "cell_type": "code",
   "execution_count": 157,
   "id": "5b0c18ff-476b-4ab7-9540-9c2254162a21",
   "metadata": {
    "tags": []
   },
   "outputs": [],
   "source": [
    "laser_array = np.linspace(1,25,1000)\n",
    "steps = 18\n",
    "laser_yarray = np.zeros((steps,laser_array.shape[0]))\n",
    "trigger_yarray = np.zeros((steps,laser_array.shape[0]))\n",
    "timing_yarray = np.zeros((steps,laser_array.shape[0]))\n",
    "\n",
    "for k in range(0,steps,1):\n",
    "    for j,i in enumerate(laser_array):\n",
    "        allowed_steps = int(laser_array[-1]-7)\n",
    "        if k>=allowed_steps:\n",
    "            print('reduce the number of steps to :', allowed_steps)\n",
    "            break\n",
    "        if i<=2 or (i>=3 and i<=4) or (i>=5 and i<=6+k) or i>=7+k :\n",
    "            laser_yarray[k,j]=0\n",
    "        else:\n",
    "            laser_yarray[k,j]=1\n",
    "            \n",
    "for k in range(0,steps,1):\n",
    "    for j,i in enumerate(laser_array):\n",
    "        allowed_steps = int(laser_array[-1]-7)\n",
    "        if k>=allowed_steps:\n",
    "            print('reduce the number of steps to :', allowed_steps)\n",
    "            break           \n",
    "        if i<=2 or (i>=2.7 and i<=4) or (i>=4.7 and i<=6+k) or i>=6.7+k :\n",
    "            trigger_yarray[k,j]=2\n",
    "        else:\n",
    "            trigger_yarray[k,j]=3\n",
    "    \n",
    "            \n",
    "for k in range(0,steps,1):\n",
    "    for j,i in enumerate(laser_array):\n",
    "        allowed_steps = int(laser_array[-1]-7)\n",
    "        if k>=allowed_steps:\n",
    "            print('reduce the number of steps to :', allowed_steps)\n",
    "            break \n",
    "        if i<=2 or (i>=2.5 and i<=4) or (i>=4.5 and i<=6+k) or i>=6.5+k :\n",
    "            timing_yarray[k,j]=4\n",
    "        else:\n",
    "            timing_yarray[k,j]=5"
   ]
  },
  {
   "cell_type": "code",
   "execution_count": null,
   "id": "dae97d76-5ce1-484b-b86f-bd90d5b49994",
   "metadata": {
    "tags": []
   },
   "outputs": [],
   "source": [
    "for k in range(0,steps,1):\n",
    "    fig1 = simple_plot(x=laser_array,y=laser_yarray[k],show=False,curve_name='laser_pulse',mode='lines',width=800,height=600)\n",
    "    fig2 = simple_plot(x=laser_array,y=trigger_yarray[k],show=False,curve_name='trigger_pulse',mode='lines',title=date,width=800,height=600)\n",
    "    fig3 = simple_plot(x=laser_array,y=timing_yarray[k],show=False,curve_name='timing_pulse',mode='lines',width=800,height=600)\n",
    "\n",
    "    name = f'steps_{k}.png'\n",
    "    add_figures([fig1,fig2,fig3],show=True,title='pulse sequence (T<sub>1</sub> lifetime)',x_name = \"Time (arb. u.)\",y_name = \"voltage (3.5 V)\")"
   ]
  },
  {
   "cell_type": "code",
   "execution_count": 165,
   "id": "e04e85c5-57a7-4381-acd6-0e0286969f39",
   "metadata": {
    "tags": []
   },
   "outputs": [],
   "source": [
    "import glob\n",
    "from PIL import Image\n",
    "\n",
    "path = os.path.join(os.getcwd(),'seqeunce_images')\n",
    "def make_gif(frame_folder):\n",
    "    frames = [Image.open(image) for image in glob.glob(f\"{frame_folder}/*.png\")]\n",
    "    frame_one = frames[0]\n",
    "    frame_one.save(path + \"/T1_sequence.gif\", format=\"GIF\", append_images=frames,\n",
    "               save_all=True, duration=250, loop=0)\n",
    "    \n",
    "\n",
    "if __name__ == \"__main__\":\n",
    "    make_gif(path)"
   ]
  }
 ],
 "metadata": {
  "kernelspec": {
   "display_name": "Python 3 (ipykernel)",
   "language": "python",
   "name": "python3"
  },
  "language_info": {
   "codemirror_mode": {
    "name": "ipython",
    "version": 3
   },
   "file_extension": ".py",
   "mimetype": "text/x-python",
   "name": "python",
   "nbconvert_exporter": "python",
   "pygments_lexer": "ipython3",
   "version": "3.11.5"
  }
 },
 "nbformat": 4,
 "nbformat_minor": 5
}
