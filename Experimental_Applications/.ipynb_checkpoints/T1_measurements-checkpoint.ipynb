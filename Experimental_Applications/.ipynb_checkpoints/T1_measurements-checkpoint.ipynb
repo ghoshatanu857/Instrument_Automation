{
 "cells": [
  {
   "cell_type": "markdown",
   "metadata": {
    "id": "VX_Up6fJBuRO"
   },
   "source": [
    "# Measuring Lifetime by Instrument Automation\n",
    "> Prof. Siddharth Dhomkar and Mr. Atanu Ghosh"
   ]
  },
  {
   "cell_type": "markdown",
   "metadata": {
    "id": "WMqbqey0BuRP"
   },
   "source": [
    "#### Installing Modules"
   ]
  },
  {
   "cell_type": "code",
   "execution_count": 3,
   "metadata": {
    "id": "hsvsgX7KCkkU",
    "tags": []
   },
   "outputs": [],
   "source": [
    "# !pip install pulsestreamer\n",
    "# !pip install nidaqmx\n",
    "import numpy as np\n",
    "import inspect,dis\n",
    "import sys\n",
    "import time\n",
    "from tqdm import trange\n",
    "from plotly.subplots import make_subplots\n",
    "from plotly import graph_objs as go\n",
    "import scipy\n",
    "from scipy.optimize import curve_fit\n",
    "import pulsestreamer\n",
    "import nidaqmx\n",
    "import nidaqmx.stream_readers\n",
    "import pprint\n",
    "from pulsestreamer import PulseStreamer,findPulseStreamers,OutputState,TriggerStart,Sequence,TriggerRearm\n",
    "import os\n",
    "import scipy.stats as stats\n",
    "import tkinter as tk\n",
    "from tkinter import *\n",
    "from tkinter.messagebox import askyesno\n",
    "permission=0 # creating a gloabl variable\n",
    "\n",
    "program_path = os.getcwd()"
   ]
  },
  {
   "cell_type": "markdown",
   "metadata": {
    "id": "gWhfjTYIDDmF"
   },
   "source": [
    "#### loading Instruments"
   ]
  },
  {
   "cell_type": "code",
   "execution_count": 5,
   "metadata": {
    "id": "BZ0AyjjtDAVl",
    "tags": []
   },
   "outputs": [
    {
     "name": "stdout",
     "output_type": "stream",
     "text": [
      "Connect to Pulse Streamer via JSON-RPC.\n",
      "IP / Hostname: 169.254.8.2\n",
      "Pulse Streamer 8/2 firmware: v1.7.2\n",
      "Client software: v1.7.0\n"
     ]
    }
   ],
   "source": [
    "# loading the local Pulse Streamer system\n",
    "IPaddress = findPulseStreamers(search_serial='')[0][0]\n",
    "pulser = PulseStreamer(IPaddress)\n",
    "\n",
    "# loading the local NIDAQmx system\n",
    "system = nidaqmx.system.System.local()\n",
    "DAQ_device = system.devices['Dev1']"
   ]
  },
  {
   "cell_type": "markdown",
   "metadata": {
    "id": "VXGvBhgNDQLd"
   },
   "source": [
    "#### Functions"
   ]
  },
  {
   "cell_type": "markdown",
   "metadata": {
    "tags": []
   },
   "source": [
    "##### Sequence Functions"
   ]
  },
  {
   "cell_type": "code",
   "execution_count": 8,
   "metadata": {
    "jupyter": {
     "source_hidden": true
    },
    "tags": []
   },
   "outputs": [],
   "source": [
    "# # For Lifetime Measurements\n",
    "\n",
    "# # Laser_Initialization Sequence\n",
    "# def seqInit(*args):\n",
    "#     laser_block = [(delay2,0),(laser_on,1),(delay2,0)]\n",
    "#     seq_init = pulser.createSequence()\n",
    "#     seq_init.setDigital(laser_port,laser_block)\n",
    "#     # condition_check(seq_init)\n",
    "#     return seq_init\n",
    "\n",
    "# # Laser_Read Sequence\n",
    "# def seqRead(*args):\n",
    "#     laser_block = [(delay2, 0), (laser_on, 1), (delay2, 0)]\n",
    "#     trigger_block = [(delay2 + delay3, 0),(read_on, 1),(laser_on - read_on - delay3, 0),(delay2, 0)]\n",
    "#     timing_block = [(delay2 + delay3, 0),(read_on - triggerTimingDelay, 1),(laser_on - read_on - delay3 + triggerTimingDelay, 0),(delay2, 0),]\n",
    "#     seq_read = pulser.createSequence()\n",
    "#     seq_read.setDigital(laser_port, laser_block)\n",
    "#     seq_read.setDigital(trigger_port, trigger_block)\n",
    "#     seq_read.setDigital(timing_port, timing_block)\n",
    "#     condition_check(seq_read)\n",
    "#     return seq_read\n",
    "\n",
    "# # Free Evolution Sequence\n",
    "# def seqLifetime(*args):\n",
    "#     timing_read_on = read_on-triggerTimingDelay\n",
    "#     for t in range(steps-1): # neglecting the last step\n",
    "#         trigger_block = [(read_on,1),(delay1+timeRange[t],0),(read_on,1),(timeRange[-1]-timeRange[t]-delay1-2*read_on,0)]\n",
    "#         timing_block = [(timing_read_on,1),(delay1+timeRange[t]+triggerTimingDelay,0),\n",
    "#                      (timing_read_on,1),((timeRange[-1]-timeRange[t]-delay1-triggerTimingDelay-2*timing_read_on),0)]\n",
    "\n",
    "#         seq_evolution = pulser.createSequence()\n",
    "#         # seq_evolution.setDigital(laser_port, laser_block)\n",
    "#         seq_evolution.setDigital(trigger_port, trigger_block)\n",
    "#         seq_evolution.setDigital(timing_port, timing_block)\n",
    "#         # condition_check(seq_evolution)\n",
    "#         seq_lifetime = seqInit(*args) + seq_evolution\n",
    "#         yield seq_lifetime"
   ]
  },
  {
   "cell_type": "code",
   "execution_count": 9,
   "metadata": {
    "jupyter": {
     "source_hidden": true
    },
    "tags": []
   },
   "outputs": [],
   "source": [
    "# # Delay Measurement Sequence\n",
    "# def seqDelay(*args):\n",
    "    \n",
    "#     triggerTimingDelay=2\n",
    "#     laser_on=1*1e3; laser_off=laser_on; delay_read_on=30; Tmax=3*laser_on; steps=20\n",
    "    \n",
    "#     delay_timeRange=np.linspace(0,Tmax,num=steps)\n",
    "#     timing_read_on = delay_read_on-triggerTimingDelay\n",
    "    \n",
    "#     allowed_steps = (delay_timeRange[-1]-(4*delay_read_on))/delay_read_on\n",
    "#     if delay_timeRange.shape[0] > allowed_steps:\n",
    "#         raise Exception(f'Please reduce the steps or read_on time. \\nMaximum allowed steps: {allowed_steps}')\n",
    "#     for t in range(steps-1): # neglecting the last step\n",
    "#         laser_block = [(laser_off,0),(laser_on,1),(laser_off,0)]\n",
    "#         trigger_block = [(delay_read_on,0),(delay_read_on,1),(delay_read_on+delay_timeRange[t],0),(delay_read_on,1),(delay_timeRange[-1]-4*delay_read_on-delay_timeRange[t],0)]\n",
    "#         timing_block = [(delay_read_on,0),(timing_read_on,1),(delay_read_on+delay_timeRange[t]+triggerTimingDelay,0),\n",
    "#                      (timing_read_on,1),((delay_timeRange[-1]-2*timing_read_on-2*delay_read_on-2*triggerTimingDelay-delay_timeRange[t]),0)]\n",
    "\n",
    "#         seq_delay = pulser.createSequence()\n",
    "#         seq_delay.setDigital(laser_port, laser_block)\n",
    "#         seq_delay.setDigital(trigger_port, trigger_block)\n",
    "#         seq_delay.setDigital(timing_port, timing_block)\n",
    "#         condition_check(seq_delay)\n",
    "#         yield seq_delay   \n",
    "\n",
    "# seq_number = 1\n",
    "# sequence = seqDelay(*pulse_args) \n",
    "# print(pulser.hasSequence())\n",
    "# # for seq in sequence:\n",
    "#     # print(f'Seq. No. : {seq_number}'); seq_number+=1\n",
    "#     # seq.plot()\n",
    "\n",
    "# sequence = seqDelay(*pulse_args)   \n",
    "# # if pulser.hasSequence()!=0:\n",
    "# #     raise Exception('Pulse Streamer has no Sequence uploaded!')\n",
    "\n",
    "# for s in sequence:\n",
    "#     reSet = pulser.reset()\n",
    "#     pulser.stream(s,n_runs=10,final=([],0,0))\n",
    "#     print(pulser.isStreaming(),pulser.hasFinished())\n",
    "#     print(f'Seq. No. : {seq_number}'); seq_number+=1\n",
    "#     # s.plot()"
   ]
  },
  {
   "cell_type": "code",
   "execution_count": 82,
   "metadata": {
    "tags": []
   },
   "outputs": [],
   "source": [
    "# For T1 Measurements\n",
    "\n",
    "delay_timeRange=0; snr_timeRange=0; T1_timeRange=0\n",
    "delay_read_on=0; snr_read_on=0; T1_read_on=0\n",
    "\n",
    "# Delay Measurement Sequence\n",
    "def seqDelay(*args):\n",
    "    \n",
    "    triggerTimingDelay=2\n",
    "    laser_on=3e3; laser_off=laser_on; delay_read_on=30; Tmax=3*laser_on; steps=20\n",
    "    \n",
    "    delay_timeRange=np.linspace(0,Tmax,num=steps)\n",
    "    timing_read_on = delay_read_on-triggerTimingDelay\n",
    "    \n",
    "    globals()['delay_read_on']=delay_read_on; globals()['delay_timeRange']=delay_timeRange\n",
    "    \n",
    "    allowed_steps = (delay_timeRange[-1]-(4*delay_read_on))/delay_read_on\n",
    "    if delay_timeRange.shape[0] > allowed_steps:\n",
    "        raise Exception(f'Please reduce the steps or read_on time. \\nMaximum allowed steps: {allowed_steps}')\n",
    "    for t in range(steps-1): # neglecting the last step\n",
    "        laser_block = [(laser_off,0),(laser_on,1),(Tmax-laser_off-laser_on,0)]  \n",
    "        trigger_block = [(delay_read_on,0),(delay_read_on,1),(delay_read_on+delay_timeRange[t],0),(delay_read_on,1),(delay_timeRange[-1]-4*delay_read_on-delay_timeRange[t],0)]\n",
    "        timing_block = [(delay_read_on,0),(timing_read_on,1),(delay_read_on+delay_timeRange[t]+triggerTimingDelay,0),\n",
    "                     (timing_read_on,1),((delay_timeRange[-1]-2*timing_read_on-2*delay_read_on-2*triggerTimingDelay-delay_timeRange[t]),0)]\n",
    "\n",
    "        seq_delay = pulser.createSequence()\n",
    "        seq_delay.setDigital(laser_port, laser_block)\n",
    "        seq_delay.setDigital(trigger_port, trigger_block)\n",
    "        seq_delay.setDigital(timing_port, timing_block)\n",
    "        # condition_check(seq_delay)\n",
    "        yield seq_delay\n",
    "        \n",
    "# SNR Measurement Sequence\n",
    "def seqSNR(*args):\n",
    "        \n",
    "    triggerTimingDelay=2\n",
    "    laser_on=3e3; laser_off=laser_on; snr_read_on=8e1; Tmax=laser_on; equilibrium_evolution=15*1e6; steps=36\n",
    "    \n",
    "    snr_timeRange=np.linspace(0,Tmax,num=steps)\n",
    "    timing_read_on = snr_read_on-triggerTimingDelay\n",
    "        \n",
    "    allowed_steps = (snr_timeRange[-1]-snr_read_on)/snr_read_on\n",
    "    if snr_timeRange.shape[0] > allowed_steps:\n",
    "        raise Exception(f'Please reduce the steps or read_on time. \\nMaximum allowed steps: {allowed_steps}')\n",
    "    for t in range(steps-1): # neglecting the last step\n",
    "        laser_block = [(laser_off,0),(laser_on,1),(laser_off,0),(laser_on,1),(equilibrium_evolution,0),(laser_on,1),(laser_off,0)]\n",
    "        trigger_block = [(laser_off,0),(laser_off,0),(laser_off,0),(snr_timeRange[t]+snr_read_on,1),\n",
    "                         (equilibrium_evolution+laser_on-snr_timeRange[t]-snr_read_on,0),(snr_timeRange[t]+snr_read_on,1),(laser_on+laser_off-snr_timeRange[t]-snr_read_on,0)]\n",
    "        timing_block = [(laser_off,0),(laser_off,0),(laser_off,0),(snr_timeRange[t]+timing_read_on,1),\n",
    "                         (equilibrium_evolution+laser_on-snr_timeRange[t]-timing_read_on,0),(snr_timeRange[t]+timing_read_on,1),(laser_on+laser_off-snr_timeRange[t]-timing_read_on,0)]\n",
    "\n",
    "        seq_snr = pulser.createSequence()\n",
    "        seq_snr.setDigital(laser_port, laser_block)\n",
    "        seq_snr.setDigital(trigger_port, trigger_block)\n",
    "        seq_snr.setDigital(timing_port, timing_block)\n",
    "        condition_check(seq_snr)\n",
    "        yield seq_snr     \n",
    "        \n",
    "# T1 Measurement Sequence\n",
    "def seqT1(*args):\n",
    "        \n",
    "    triggerTimingDelay=2\n",
    "    laser_on=5e3; laser_off=laser_on; T1_read_on=1e3; Tmax=15e6; introduced_delay=8e1; steps=290   \n",
    "    \n",
    "    T1_timeRange=np.linspace(0,Tmax,num=steps)\n",
    "    timing_read_on = T1_read_on-triggerTimingDelay\n",
    "        \n",
    "    for t in range(steps-1): # neglecting the last step\n",
    "        laser_block = [(laser_off,0),(laser_on,1),(laser_off,0),(laser_on,1),(T1_timeRange[t]+introduced_delay,0),(laser_on,1),(laser_off,0)]\n",
    "        trigger_block = [(laser_off,0),(laser_off,0),(laser_off,0),(T1_read_on,1),\n",
    "                         (laser_on-T1_read_on,0),(T1_timeRange[t]+introduced_delay,0),(T1_read_on,1),(laser_on+laser_off-T1_read_on,0)]\n",
    "        timing_block = [(laser_off,0),(laser_off,0),(laser_off,0),(timing_read_on,1),\n",
    "                         (laser_on-timing_read_on,0),(T1_timeRange[t]+introduced_delay,0),(timing_read_on,1),(laser_on+laser_off-timing_read_on,0)]\n",
    "\n",
    "        seq_T1 = pulser.createSequence()\n",
    "        seq_T1.setDigital(laser_port, laser_block)\n",
    "        seq_T1.setDigital(trigger_port, trigger_block)\n",
    "        seq_T1.setDigital(timing_port, timing_block)\n",
    "        # condition_check(seq_T1)\n",
    "        yield seq_T1       \n",
    "\n",
    "# Function to check the conditions\n",
    "def condition_check(sequence):\n",
    "    if sequence.isEmpty()!=0:\n",
    "        raise Exception(f\"{list(locals().keys())} is empty!\")\n",
    "    if sequence.getDuration()%8!=0:\n",
    "        raise Exception(f\"{list(locals().keys())} duration is not multiple of 8ns!\")"
   ]
  },
  {
   "cell_type": "code",
   "execution_count": 11,
   "metadata": {
    "tags": []
   },
   "outputs": [
    {
     "data": {
      "text/plain": [
       "(0, 0)"
      ]
     },
     "execution_count": 11,
     "metadata": {},
     "output_type": "execute_result"
    }
   ],
   "source": [
    "delay_timeRange,delay_read_on"
   ]
  },
  {
   "cell_type": "markdown",
   "metadata": {
    "jp-MarkdownHeadingCollapsed": true,
    "tags": []
   },
   "source": [
    "##### Streaming and Collecting Data"
   ]
  },
  {
   "cell_type": "code",
   "execution_count": 13,
   "metadata": {
    "id": "xvObEvg5GMGb",
    "tags": []
   },
   "outputs": [],
   "source": [
    "# Function for doing the Lifetime measurement\n",
    "# def lifeitme(*args):\n",
    "def T1_measurement(*args):\n",
    "\n",
    "    numberofpoints=samples*2\n",
    "    buffersamplecount=numberofpoints\n",
    "    count_per_average = buffersamplecount*(steps-1) # as we are ignoring the very last steps\n",
    "    DAQ_device.reset_device()\n",
    "    pulser.reset()\n",
    "\n",
    "    # Counter\n",
    "    counter = nidaqmx.Task()\n",
    "    ciChannel = counter.ci_channels.add_ci_count_edges_chan('/Dev1/ctr1',edge=nidaqmx.constants.Edge.RISING, initial_count=0,\n",
    "                                                             count_direction=nidaqmx.constants.CountDirection.COUNT_UP)\n",
    "    # print(task.ci_channels[0].ci_count_edges_term)\n",
    "\n",
    "    # Trigger\n",
    "    counter.triggers.pause_trigger.dig_lvl_src='/Dev1/PFI4'\n",
    "    counter.triggers.pause_trigger.trig_type=nidaqmx.constants.TriggerType.DIGITAL_LEVEL\n",
    "    counter.triggers.pause_trigger.dig_lvl_when=nidaqmx.constants.Level.LOW\n",
    "\n",
    "    # Timing\n",
    "    counter.timing.cfg_samp_clk_timing(rate=1e8,source='/Dev1/PFI5',active_edge=nidaqmx.constants.Edge.FALLING,\n",
    "                                        sample_mode = nidaqmx.constants.AcquisitionType.FINITE, samps_per_chan=count_per_average)\n",
    "\n",
    "    # Pulse streamer Gating\n",
    "    gate_task = nidaqmx.Task()\n",
    "    gate_task.do_channels.add_do_chan(lines = 'Dev1/port0/line7')\n",
    "\n",
    "    # Counter read task\n",
    "    reader = nidaqmx.stream_readers.CounterReader(counter.in_stream)\n",
    "    highCount = np.zeros(buffersamplecount, dtype = np.uint32)\n",
    "\n",
    "    cps = []\n",
    "    callback=[]\n",
    "\n",
    "    # Callback function\n",
    "    def readBuffer(task_handle, every_n_samples_event_type, number_of_samples, callback_data):\n",
    "        counter.in_stream.read_all_avail_samp = True\n",
    "        readPixels=reader.read_many_sample_uint32(highCount, number_of_samples_per_channel= -1, timeout=10.0)  #10s\n",
    "        cps.extend(highCount)\n",
    "        callback.extend([1])\n",
    "        return 0\n",
    "    time.sleep(0.01)\n",
    "    counter.register_every_n_samples_acquired_into_buffer_event(buffersamplecount,readBuffer)\n",
    "\n",
    "    \n",
    "    t=0\n",
    "    run=0\n",
    "    data=[]\n",
    "    # print(\"Preparing for the experiment...\")\n",
    "    print(f\"callback number in beginning: {len(callback)}\\n\")\n",
    "\n",
    "    for i in trange(averages):\n",
    "\n",
    "        # print(run)\n",
    "        time.sleep(0.05)\n",
    "        # counter.control(nidaqmx.constants.TaskMode.TASK_RESERVE)\n",
    "        # gate_task.control(nidaqmx.constants.TaskMode.TASK_RESERVE)\n",
    "        time.sleep(0.05)\n",
    "        counter.start()\n",
    "\n",
    "        sequence = seqDelay(*pulse_args)   \n",
    "        # sequence = seqLifetime(*pulse_args)\n",
    "        pulser.setTrigger(start=TriggerStart.HARDWARE_RISING,rearm=TriggerRearm.AUTO)\n",
    " \n",
    "        seq_num=0\n",
    "        start1=time.time_ns()\n",
    "        for s in sequence:\n",
    "            t1=len(callback)\n",
    "            # print(t1)\n",
    "\n",
    "            # performing the streaming samples_number times\n",
    "            seq_num=seq_num+1\n",
    "            # s.plot()\n",
    "            pulser.stream(s,n_runs=samples,final=([],0,0))\n",
    "            \n",
    "            gate_task.write(True)\n",
    "            while len(callback)==t1:\n",
    "                time.sleep(0.005)\n",
    "            gate_task.write(False)\n",
    "            # print(f'Sequence number : {seq_num}')\n",
    "\n",
    "        end1=time.time_ns()\n",
    "    #  print('Time(s) for single average: ', (end1-start1)/1e9)\n",
    "        print(f\"callback number at {i+1}-th average end: {len(callback)}\\n\")\n",
    "        run=run+1\n",
    "        counter.control(nidaqmx.constants.TaskMode.TASK_UNRESERVE)\n",
    "        # gate_task.control(nidaqmx.constants.TaskMode.TASK_UNRESERVE)\n",
    "    \n",
    "    # reSet = pulser.reset()\n",
    "    data=signal_counts(cps,count_per_average)\n",
    "    counter.close()\n",
    "    gate_task.close()\n",
    "    DAQ_device.reset_device()\n",
    "    pulser.reset()\n",
    "    return data\n",
    "\n",
    "\n",
    "# Function to Modify the Data\n",
    "def signal_counts(all_counts,counts_in_one_average,*args):\n",
    "    all_counts=np.array(all_counts)\n",
    "    no_of_averages=int(len(all_counts)/counts_in_one_average)\n",
    "    print(\"Crosscheck number of averges=\",no_of_averages)\n",
    "\n",
    "    # Changing the cumulative counts to actual counts\n",
    "    cumulative_counts = np.reshape(all_counts,(no_of_averages,counts_in_one_average))\n",
    "    modified_matrix = np.delete(cumulative_counts, -1, 1)\n",
    "    zero_array = np.zeros(no_of_averages, dtype=int)\n",
    "    new_matrix = np.hstack((zero_array[:, np.newaxis], modified_matrix))\n",
    "    actual_counts = np.subtract(cumulative_counts,new_matrix)\n",
    "    averaged_actual_counts = np.mean(actual_counts,axis=0)\n",
    "\n",
    "    # Separating Reference and Signal and averaging over Samples\n",
    "    reference_samples = np.mean(np.reshape(averaged_actual_counts[::2],(steps-1,samples)),axis=1)\n",
    "    signal_samples = np.mean(np.reshape(averaged_actual_counts[1::2],(steps-1,samples)),axis=1)\n",
    "\n",
    "    # signal_photon = signal_samples/reference_samples\n",
    "    # return signal_photon\n",
    "    \n",
    "    return signal_samples  # for only delay measurements"
   ]
  },
  {
   "cell_type": "code",
   "execution_count": 14,
   "metadata": {
    "tags": []
   },
   "outputs": [],
   "source": [
    "# reSet = pulser.reset()\n",
    "# for s in seqDelay(*pulse_args):\n",
    "#     pulser.stream(s,n_runs=samples,final=([],0,0))\n",
    "#     # reSet = pulser.reset()"
   ]
  },
  {
   "cell_type": "code",
   "execution_count": 15,
   "metadata": {
    "tags": []
   },
   "outputs": [],
   "source": [
    "# for i in range(int(1e9)):    \n",
    "#     if pulser.hasFinished()==1:\n",
    "#         s.plot()"
   ]
  },
  {
   "cell_type": "markdown",
   "metadata": {
    "tags": []
   },
   "source": [
    "##### Other Functions"
   ]
  },
  {
   "cell_type": "code",
   "execution_count": 17,
   "metadata": {
    "jupyter": {
     "source_hidden": true
    },
    "tags": []
   },
   "outputs": [],
   "source": [
    "# Curve_fitting Function\n",
    "def curveFit(x,y0,y_max,tau):\n",
    "    return y0+y_max*np.exp(-x/tau)\n",
    "\n",
    "# Function to calculate the Lifetime\n",
    "def lifetime_fit(*args):\n",
    "    indices = np.where(y_old!=0)\n",
    "    yOld = y_old[indices]; xOld = x_old[indices]\n",
    "    if type(fit_range)==np.ndarray:\n",
    "        range_indicies = np.where(np.logical_and(xOld>=fit_range[0],xOld<=fit_range[1]))\n",
    "        x_old_ranged = xOld[range_indicies]; y_old_ranged = yOld[range_indicies]\n",
    "        coefficient, covariance_matrix = curve_fit(curveFit,x_old_ranged,y_old_ranged,p0=guess_params,absolute_sigma=False)\n",
    "        error_bars = np.sqrt(np.diag(covariance_matrix))\n",
    "        condition_number =  np.format_float_scientific(np.linalg.cond(covariance_matrix),precision=2)\n",
    "        x_curve_fit = x_old_ranged; y_curve_fit = y_old_ranged\n",
    "    else:\n",
    "        coefficient, covariance_matrix = curve_fit(curveFit,xOld,yOld,p0=guess_params,absolute_sigma=False)\n",
    "        error_bars = np.sqrt(np.diag(covariance_matrix))\n",
    "        condition_number =  np.format_float_scientific(np.linalg.cond(covariance_matrix),precision=2)\n",
    "        x_curve_fit = xOld; y_curve_fit = yOld\n",
    "\n",
    "    x_new = x_curve_fit\n",
    "    y_new = curveFit(x_new,*coefficient)\n",
    "\n",
    "    # Different ways of 'Goodness of Fit' Test\n",
    "    chi_square_test, p_value = stats.chisquare(y_curve_fit, y_new)\n",
    "    ss_res = np.sum(np.square(y_curve_fit-y_new )); ss_total = np.sum(np.square(y_curve_fit-np.mean(y_curve_fit)))\n",
    "    r_squared = 1-(ss_res/ss_total)\n",
    "    mean_squared_error = np.square(np.subtract(y_new,y_curve_fit)).mean()\n",
    "\n",
    "    print(f'Lifetime in nano_second is : {coefficient[2]}.\\n')\n",
    "    print(f'Chi_square, p-value, R_squared,MeanSquaredError and Condition Number are : {np.round(chi_square_test,3)}\\t{np.round(p_value,3)}\\\n",
    "    \\t{np.round(r_squared,3)}\\t{np.round(mean_squared_error,5)}\\t{condition_number}.\\n')\n",
    "    if p_value<=0.05:\n",
    "        print('The p_value of fitting is low. Please check the fitting!')\n",
    "    return xOld,yOld,x_new,y_new,coefficient,error_bars\n",
    "\n",
    "# Replacing mistakes in file naming\n",
    "def replace_space(name):\n",
    "    name = name.replace(' ', '_').replace('.','_').replace('__','_').replace('___','_')\n",
    "    if name[-1]=='_':  name=name[:-1]\n",
    "    return name\n",
    "\n",
    "# Tkinter Messagebox\n",
    "def tkinter_permission(file_type):\n",
    "    root = tk.Tk()\n",
    "    root.title('Permission accesss')\n",
    "    root.geometry('300x150')\n",
    "    root.eval('tk::PlaceWindow . center')\n",
    "    def confirmation():\n",
    "        globals()['permission'] = askyesno(title = None,message='Confirmation of Overwriting!')\n",
    "        if globals()['permission']:\n",
    "            top = Toplevel(root)     # using Toplevel\n",
    "            top.update_idletasks()\n",
    "            screen_width = top.winfo_screenwidth()\n",
    "            screen_height = top.winfo_screenheight()\n",
    "            size = tuple(int(_) for _ in top.geometry().split('+')[0].split('x'))\n",
    "            x = screen_width/2 - size[0]/2\n",
    "            y = screen_height/2 - size[1]/2\n",
    "            top.geometry(\"+%d+%d\" % (x, y))\n",
    "\n",
    "            top.title(None)\n",
    "            Message(top, text=f'{file_type} is going to be overwritten!', padx=100, pady=100).pack()\n",
    "            top.after(1500, top.destroy)       \n",
    "            root.after(1500, root.destroy)\n",
    "        else:\n",
    "            root.destroy()\n",
    "    root_button = Button(root,text=f'Do you want to overwrite\\n the exiting {file_type}?',command=confirmation)\n",
    "    root_button.pack(side = TOP, expand=0.5)\n",
    "    root.mainloop()\n",
    "\n",
    "\n",
    "# Saving file in given directory\n",
    "def file_save(directory_name,file_name,contents):\n",
    "    # file_name = file_name+'.txt'\n",
    "    file_name = file_name+'.npz'\n",
    "    if not os.path.exists(directory_name):\n",
    "        os.makedirs(directory_name)\n",
    "    total_path = os.path.join(directory_name, file_name)\n",
    "    if os.path.exists(total_path)==True:\n",
    "        tkinter_permission(file_type='Data_file')\n",
    "        if globals()['permission']==0:\n",
    "            raise Exception('File is not saved!')\n",
    "        # print('The same file name already exist. Do you want to overwrite it?\\n')\n",
    "        # overwrite_permission = input('Type 0 or 1 : ')\n",
    "        # if int(overwrite_permission)==0:\n",
    "        #     raise Exception('New data file has not been saved')\n",
    "        # else:\n",
    "        #     print('File is going to be overwritten.')\n",
    "    np.savetxt(total_path,np.transpose(contents),newline='\\n') # saving in column mode\n",
    "    if os.path.exists(total_path)==False:\n",
    "        raise Exception('Saved file does not exist!\\n')\n",
    "    elif os.stat(total_path).st_size == False:\n",
    "        raise Exception('Saved file is empty!\\n')\n",
    "    else:\n",
    "        print(f'Saving data_file {file_name} is successful!\\n')\n",
    "\n",
    "# Saving Image in given directory\n",
    "def image_save(directory_name,file_name,fig_to_save,extension):\n",
    "    file_name = file_name+'.'+extension\n",
    "    if not os.path.exists(directory_name):\n",
    "        os.makedirs(directory_name)\n",
    "    total_path = os.path.join(directory_name, file_name)\n",
    "    if os.path.exists(total_path)==True:\n",
    "        tkinter_permission(file_type='Image_file')\n",
    "        if globals()['permission']==0:\n",
    "            raise Exception('Image is not saved!')\n",
    "    if str(extension)=='html':\n",
    "        fig_to_save.write_html(total_path)                          # saving image in 'html' format\n",
    "    else:\n",
    "        fig_to_save.write_image(total_path)                         # saving image in mentioned static format\n",
    "    if os.path.exists(total_path)==False:\n",
    "        raise Exception('Saved image does not exist!\\n')\n",
    "    elif os.stat(total_path).st_size == False:\n",
    "        raise Exception('Saved image is empty!\\n')\n",
    "    else:\n",
    "        print(f'Saving Image {file_name} is successful!\\n')"
   ]
  },
  {
   "cell_type": "code",
   "execution_count": 18,
   "metadata": {
    "jupyter": {
     "source_hidden": true
    },
    "tags": []
   },
   "outputs": [],
   "source": [
    "# permission = 0\n",
    "\n",
    "# # Tkinter Messagebox\n",
    "# def tkinter_permission(file_type):\n",
    "#     root = tk.Tk()\n",
    "#     root.title('Permission accesss')\n",
    "#     root.geometry('300x150')\n",
    "#     root.eval('tk::PlaceWindow . center')\n",
    "#     def confirmation():\n",
    "#         globals()['permission'] = askyesno(title = None,message='Confirmation of Overwriting!')\n",
    "#         if globals()['permission']:\n",
    "#             top = Toplevel(root)     # using Toplevel\n",
    "#             top.update_idletasks()\n",
    "#             screen_width = top.winfo_screenwidth()\n",
    "#             screen_height = top.winfo_screenheight()\n",
    "#             size = tuple(int(_) for _ in top.geometry().split('+')[0].split('x'))\n",
    "#             x = screen_width/2 - size[0]/2\n",
    "#             y = screen_height/2 - size[1]/2\n",
    "#             top.geometry(\"+%d+%d\" % (x, y))\n",
    "\n",
    "#             top.title(None)\n",
    "#             Message(top, text=f'{file_type} is going to be overwritten!', padx=100, pady=100).pack()\n",
    "#             top.after(1500, top.destroy)       \n",
    "#             root.after(1500, root.destroy)\n",
    "#         else:\n",
    "#             root.destroy()\n",
    "#     root_button = Button(root,text=f'Do you want to overwrite\\n the exiting {file_type}?',command=confirmation)\n",
    "#     root_button.pack(side = TOP, expand=0.5)\n",
    "#     root.mainloop()\n",
    "\n",
    "# total_path = r\"C:\\Users\\Administrator\\OneDrive\\Desktop\\T1_measurement\\Instrument_Automation\\Experimental_Applications\\Exp_Data\\Empty_data.txt\"\n",
    "# def check_tkinter(*args):\n",
    "#     if os.path.exists(total_path)==True:\n",
    "#         tkinter_permission('file')\n",
    "#         if globals()['permission']==0:\n",
    "#             raise Exception('File is not saved!')\n",
    "#         if globals()['permission']==1:\n",
    "#             print(f\"File is successfully saved\")\n",
    "# check_tkinter(total_path)"
   ]
  },
  {
   "cell_type": "markdown",
   "metadata": {
    "id": "l3nd_jQNDgOs",
    "tags": []
   },
   "source": [
    "#### Fig Template"
   ]
  },
  {
   "cell_type": "code",
   "execution_count": 20,
   "metadata": {
    "id": "tv8O9YN9BuRQ",
    "jupyter": {
     "source_hidden": true
    },
    "tags": []
   },
   "outputs": [],
   "source": [
    "fig_template = go.layout.Template()\n",
    "fig_template.layout = {\n",
    "    'template': 'simple_white+presentation',\n",
    "    'autosize': False,\n",
    "    'width': 800,\n",
    "    'height': 600,\n",
    "    # 'opacity': 0.2,\n",
    "    'xaxis': {\n",
    "        'ticks': 'inside',\n",
    "        'mirror': 'ticks',\n",
    "        'linewidth': 1.5+0.5,\n",
    "        'tickwidth': 1.5+0.5,\n",
    "        'ticklen': 6,\n",
    "        'showline': True,\n",
    "        'showgrid': False,\n",
    "        'zerolinecolor': 'white',\n",
    "        },\n",
    "    'yaxis': {\n",
    "        'ticks': 'inside',\n",
    "        'mirror': 'ticks',\n",
    "        'linewidth': 1.5+0.5,\n",
    "        'tickwidth': 1.5+0.5,\n",
    "        'ticklen': 6,\n",
    "        'showline': True,\n",
    "        'showgrid': False,\n",
    "        'zerolinecolor': 'white'\n",
    "        },\n",
    "    'font':{'family':'mathjax',\n",
    "            'size': 22,\n",
    "            }\n",
    "}"
   ]
  },
  {
   "cell_type": "markdown",
   "metadata": {
    "id": "gK_JpzXfBuRQ",
    "tags": []
   },
   "source": [
    "#### Setting Parameters and getting Data"
   ]
  },
  {
   "cell_type": "code",
   "execution_count": 22,
   "metadata": {
    "tags": []
   },
   "outputs": [
    {
     "data": {
      "text/plain": [
       "296.0"
      ]
     },
     "execution_count": 22,
     "metadata": {},
     "output_type": "execute_result"
    }
   ],
   "source": [
    "(9*1e3-120)/30"
   ]
  },
  {
   "cell_type": "code",
   "execution_count": 23,
   "metadata": {
    "id": "2J3FPn_wBuRQ",
    "jupyter": {
     "source_hidden": true
    },
    "tags": []
   },
   "outputs": [],
   "source": [
    "# For Lifetime Measurements \n",
    "delay1=8                # delay between reference and signal\n",
    "delay2=8                # delay around laser_on time\n",
    "delay3=8                # delay between laser_start and reference for seqRead\n",
    "triggerTimingDelay=2    # delay between Trigger and Timing\n",
    "laser_on=200e3; read_on=2e3; Tmax=200e3\n",
    "steps=20; samples=10000; averages=5\n",
    "timeRange=np.linspace(0,Tmax,num=steps)\n",
    "\n",
    "allowed_steps = (timeRange[-1]-(2*read_on+delay1))/read_on\n",
    "if timeRange.shape[0] > allowed_steps:\n",
    "    raise Exception(f'Please reduce the steps or read_on time. \\nMaximum allowed steps: {allowed_steps}')"
   ]
  },
  {
   "cell_type": "code",
   "execution_count": 78,
   "metadata": {
    "tags": []
   },
   "outputs": [],
   "source": [
    "samples=100000; averages=15\n",
    "laser_port=0; trigger_port=1; timing_port=2\n",
    "\n",
    "pulse_args = [delay1,delay2,delay3,laser_on,timeRange,triggerTimingDelay,read_on,averages,samples,steps,laser_port,trigger_port,timing_port]"
   ]
  },
  {
   "cell_type": "code",
   "execution_count": 66,
   "metadata": {
    "tags": []
   },
   "outputs": [],
   "source": [
    "# seq_number = 1\n",
    "# pulser.reset()\n",
    "# sequence = seqDelay(*pulse_args) \n",
    "# print(pulser.hasSequence())\n",
    "# for seq in sequence:\n",
    "#     print(f'Seq. No. : {seq_number}'); seq_number+=1\n",
    "#     seq.plot()"
   ]
  },
  {
   "cell_type": "code",
   "execution_count": 80,
   "metadata": {
    "id": "KSsUtsyXBuRR"
   },
   "outputs": [
    {
     "name": "stdout",
     "output_type": "stream",
     "text": [
      "callback number in beginning: 0\n",
      "\n"
     ]
    },
    {
     "name": "stderr",
     "output_type": "stream",
     "text": [
      "  0%|          | 0/15 [00:37<?, ?it/s]\n"
     ]
    },
    {
     "ename": "KeyboardInterrupt",
     "evalue": "",
     "output_type": "error",
     "traceback": [
      "\u001b[1;31m---------------------------------------------------------------------------\u001b[0m",
      "\u001b[1;31mKeyboardInterrupt\u001b[0m                         Traceback (most recent call last)",
      "Cell \u001b[1;32mIn[80], line 4\u001b[0m\n\u001b[0;32m      1\u001b[0m \u001b[38;5;66;03m# Data Collection\u001b[39;00m\n\u001b[0;32m      2\u001b[0m \u001b[38;5;66;03m# signal_data  = lifeitme(*pulse_args)\u001b[39;00m\n\u001b[1;32m----> 4\u001b[0m signal_data  \u001b[38;5;241m=\u001b[39m T1_measurement(\u001b[38;5;241m*\u001b[39mpulse_args)\n",
      "Cell \u001b[1;32mIn[13], line 80\u001b[0m, in \u001b[0;36mT1_measurement\u001b[1;34m(*args)\u001b[0m\n\u001b[0;32m     78\u001b[0m gate_task\u001b[38;5;241m.\u001b[39mwrite(\u001b[38;5;28;01mTrue\u001b[39;00m)\n\u001b[0;32m     79\u001b[0m \u001b[38;5;28;01mwhile\u001b[39;00m \u001b[38;5;28mlen\u001b[39m(callback)\u001b[38;5;241m==\u001b[39mt1:\n\u001b[1;32m---> 80\u001b[0m     time\u001b[38;5;241m.\u001b[39msleep(\u001b[38;5;241m0.005\u001b[39m)\n\u001b[0;32m     81\u001b[0m gate_task\u001b[38;5;241m.\u001b[39mwrite(\u001b[38;5;28;01mFalse\u001b[39;00m)\n\u001b[0;32m     82\u001b[0m \u001b[38;5;66;03m# print(f'Sequence number : {seq_num}')\u001b[39;00m\n",
      "\u001b[1;31mKeyboardInterrupt\u001b[0m: "
     ]
    }
   ],
   "source": [
    "# Data Collection\n",
    "# signal_data  = lifeitme(*pulse_args)\n",
    "\n",
    "signal_data  = T1_measurement(*pulse_args)"
   ]
  },
  {
   "cell_type": "code",
   "execution_count": 72,
   "metadata": {
    "tags": []
   },
   "outputs": [
    {
     "data": {
      "application/vnd.plotly.v1+json": {
       "config": {
        "plotlyServerURL": "https://plot.ly"
       },
       "data": [
        {
         "marker": {
          "color": "royalblue"
         },
         "mode": "markers",
         "name": "Experimental Data",
         "type": "scatter",
         "x": [
          0,
          473.6842105263158,
          947.3684210526316,
          1421.0526315789473,
          1894.7368421052631,
          2368.4210526315787,
          2842.1052631578946,
          3315.7894736842104,
          3789.4736842105262,
          4263.157894736842,
          4736.8421052631575,
          5210.526315789473,
          5684.210526315789,
          6157.894736842105,
          6631.578947368421,
          7105.263157894737,
          7578.9473684210525,
          8052.631578947368,
          8526.315789473683,
          9000
         ],
         "y": [
          8.800000000000002e-05,
          0.00010733333333333333,
          9.400000000000002e-05,
          9.933333333333334e-05,
          9.600000000000002e-05,
          8.200000000000001e-05,
          9.266666666666668e-05,
          0.04821399999999999,
          0.05577066666666666,
          0.05819200000000001,
          0.05940799999999998,
          0.060250666666666675,
          0.060144666666666666,
          0.00040733333333333344,
          0.0003426666666666667,
          0.0003913333333333334,
          0.0004000000000000001,
          0.0002486666666666667,
          0.00013333333333333334
         ]
        }
       ],
       "layout": {
        "height": 600,
        "template": {
         "layout": {
          "autosize": false,
          "font": {
           "family": "mathjax",
           "size": 22
          },
          "height": 600,
          "template": {
           "data": {
            "bar": [
             {
              "error_x": {
               "color": "rgb(36,36,36)"
              },
              "error_y": {
               "color": "rgb(36,36,36)"
              },
              "marker": {
               "line": {
                "color": "white",
                "width": 0.5
               },
               "pattern": {
                "fillmode": "overlay",
                "size": 10,
                "solidity": 0.2
               }
              },
              "type": "bar"
             }
            ],
            "barpolar": [
             {
              "marker": {
               "line": {
                "color": "white",
                "width": 0.5
               },
               "pattern": {
                "fillmode": "overlay",
                "size": 10,
                "solidity": 0.2
               }
              },
              "type": "barpolar"
             }
            ],
            "carpet": [
             {
              "aaxis": {
               "endlinecolor": "rgb(36,36,36)",
               "gridcolor": "white",
               "linecolor": "white",
               "minorgridcolor": "white",
               "startlinecolor": "rgb(36,36,36)"
              },
              "baxis": {
               "endlinecolor": "rgb(36,36,36)",
               "gridcolor": "white",
               "linecolor": "white",
               "minorgridcolor": "white",
               "startlinecolor": "rgb(36,36,36)"
              },
              "type": "carpet"
             }
            ],
            "choropleth": [
             {
              "colorbar": {
               "outlinewidth": 1,
               "tickcolor": "rgb(36,36,36)",
               "ticks": "outside"
              },
              "type": "choropleth"
             }
            ],
            "contour": [
             {
              "colorbar": {
               "outlinewidth": 1,
               "tickcolor": "rgb(36,36,36)",
               "ticks": "outside"
              },
              "colorscale": [
               [
                0,
                "#440154"
               ],
               [
                0.1111111111111111,
                "#482878"
               ],
               [
                0.2222222222222222,
                "#3e4989"
               ],
               [
                0.3333333333333333,
                "#31688e"
               ],
               [
                0.4444444444444444,
                "#26828e"
               ],
               [
                0.5555555555555556,
                "#1f9e89"
               ],
               [
                0.6666666666666666,
                "#35b779"
               ],
               [
                0.7777777777777778,
                "#6ece58"
               ],
               [
                0.8888888888888888,
                "#b5de2b"
               ],
               [
                1,
                "#fde725"
               ]
              ],
              "type": "contour"
             }
            ],
            "contourcarpet": [
             {
              "colorbar": {
               "outlinewidth": 1,
               "tickcolor": "rgb(36,36,36)",
               "ticks": "outside"
              },
              "type": "contourcarpet"
             }
            ],
            "heatmap": [
             {
              "colorbar": {
               "outlinewidth": 1,
               "tickcolor": "rgb(36,36,36)",
               "ticks": "outside"
              },
              "colorscale": [
               [
                0,
                "#440154"
               ],
               [
                0.1111111111111111,
                "#482878"
               ],
               [
                0.2222222222222222,
                "#3e4989"
               ],
               [
                0.3333333333333333,
                "#31688e"
               ],
               [
                0.4444444444444444,
                "#26828e"
               ],
               [
                0.5555555555555556,
                "#1f9e89"
               ],
               [
                0.6666666666666666,
                "#35b779"
               ],
               [
                0.7777777777777778,
                "#6ece58"
               ],
               [
                0.8888888888888888,
                "#b5de2b"
               ],
               [
                1,
                "#fde725"
               ]
              ],
              "type": "heatmap"
             }
            ],
            "heatmapgl": [
             {
              "colorbar": {
               "outlinewidth": 1,
               "tickcolor": "rgb(36,36,36)",
               "ticks": "outside"
              },
              "colorscale": [
               [
                0,
                "#440154"
               ],
               [
                0.1111111111111111,
                "#482878"
               ],
               [
                0.2222222222222222,
                "#3e4989"
               ],
               [
                0.3333333333333333,
                "#31688e"
               ],
               [
                0.4444444444444444,
                "#26828e"
               ],
               [
                0.5555555555555556,
                "#1f9e89"
               ],
               [
                0.6666666666666666,
                "#35b779"
               ],
               [
                0.7777777777777778,
                "#6ece58"
               ],
               [
                0.8888888888888888,
                "#b5de2b"
               ],
               [
                1,
                "#fde725"
               ]
              ],
              "type": "heatmapgl"
             }
            ],
            "histogram": [
             {
              "marker": {
               "line": {
                "color": "white",
                "width": 0.6
               }
              },
              "type": "histogram"
             }
            ],
            "histogram2d": [
             {
              "colorbar": {
               "outlinewidth": 1,
               "tickcolor": "rgb(36,36,36)",
               "ticks": "outside"
              },
              "colorscale": [
               [
                0,
                "#440154"
               ],
               [
                0.1111111111111111,
                "#482878"
               ],
               [
                0.2222222222222222,
                "#3e4989"
               ],
               [
                0.3333333333333333,
                "#31688e"
               ],
               [
                0.4444444444444444,
                "#26828e"
               ],
               [
                0.5555555555555556,
                "#1f9e89"
               ],
               [
                0.6666666666666666,
                "#35b779"
               ],
               [
                0.7777777777777778,
                "#6ece58"
               ],
               [
                0.8888888888888888,
                "#b5de2b"
               ],
               [
                1,
                "#fde725"
               ]
              ],
              "type": "histogram2d"
             }
            ],
            "histogram2dcontour": [
             {
              "colorbar": {
               "outlinewidth": 1,
               "tickcolor": "rgb(36,36,36)",
               "ticks": "outside"
              },
              "colorscale": [
               [
                0,
                "#440154"
               ],
               [
                0.1111111111111111,
                "#482878"
               ],
               [
                0.2222222222222222,
                "#3e4989"
               ],
               [
                0.3333333333333333,
                "#31688e"
               ],
               [
                0.4444444444444444,
                "#26828e"
               ],
               [
                0.5555555555555556,
                "#1f9e89"
               ],
               [
                0.6666666666666666,
                "#35b779"
               ],
               [
                0.7777777777777778,
                "#6ece58"
               ],
               [
                0.8888888888888888,
                "#b5de2b"
               ],
               [
                1,
                "#fde725"
               ]
              ],
              "type": "histogram2dcontour"
             }
            ],
            "mesh3d": [
             {
              "colorbar": {
               "outlinewidth": 1,
               "tickcolor": "rgb(36,36,36)",
               "ticks": "outside"
              },
              "type": "mesh3d"
             }
            ],
            "parcoords": [
             {
              "line": {
               "colorbar": {
                "outlinewidth": 1,
                "tickcolor": "rgb(36,36,36)",
                "ticks": "outside"
               }
              },
              "type": "parcoords"
             }
            ],
            "pie": [
             {
              "automargin": true,
              "type": "pie"
             }
            ],
            "scatter": [
             {
              "fillpattern": {
               "fillmode": "overlay",
               "size": 10,
               "solidity": 0.2
              },
              "line": {
               "width": 3
              },
              "marker": {
               "size": 9
              },
              "type": "scatter"
             }
            ],
            "scatter3d": [
             {
              "line": {
               "colorbar": {
                "outlinewidth": 1,
                "tickcolor": "rgb(36,36,36)",
                "ticks": "outside"
               },
               "width": 3
              },
              "marker": {
               "colorbar": {
                "outlinewidth": 1,
                "tickcolor": "rgb(36,36,36)",
                "ticks": "outside"
               },
               "size": 9
              },
              "type": "scatter3d"
             }
            ],
            "scattercarpet": [
             {
              "marker": {
               "colorbar": {
                "outlinewidth": 1,
                "tickcolor": "rgb(36,36,36)",
                "ticks": "outside"
               }
              },
              "type": "scattercarpet"
             }
            ],
            "scattergeo": [
             {
              "line": {
               "width": 3
              },
              "marker": {
               "colorbar": {
                "outlinewidth": 1,
                "tickcolor": "rgb(36,36,36)",
                "ticks": "outside"
               },
               "size": 9
              },
              "type": "scattergeo"
             }
            ],
            "scattergl": [
             {
              "line": {
               "width": 3
              },
              "marker": {
               "colorbar": {
                "outlinewidth": 1,
                "tickcolor": "rgb(36,36,36)",
                "ticks": "outside"
               },
               "size": 9
              },
              "type": "scattergl"
             }
            ],
            "scattermapbox": [
             {
              "marker": {
               "colorbar": {
                "outlinewidth": 1,
                "tickcolor": "rgb(36,36,36)",
                "ticks": "outside"
               }
              },
              "type": "scattermapbox"
             }
            ],
            "scatterpolar": [
             {
              "line": {
               "width": 3
              },
              "marker": {
               "colorbar": {
                "outlinewidth": 1,
                "tickcolor": "rgb(36,36,36)",
                "ticks": "outside"
               },
               "size": 9
              },
              "type": "scatterpolar"
             }
            ],
            "scatterpolargl": [
             {
              "line": {
               "width": 3
              },
              "marker": {
               "colorbar": {
                "outlinewidth": 1,
                "tickcolor": "rgb(36,36,36)",
                "ticks": "outside"
               },
               "size": 9
              },
              "type": "scatterpolargl"
             }
            ],
            "scatterternary": [
             {
              "line": {
               "width": 3
              },
              "marker": {
               "colorbar": {
                "outlinewidth": 1,
                "tickcolor": "rgb(36,36,36)",
                "ticks": "outside"
               },
               "size": 9
              },
              "type": "scatterternary"
             }
            ],
            "surface": [
             {
              "colorbar": {
               "outlinewidth": 1,
               "tickcolor": "rgb(36,36,36)",
               "ticks": "outside"
              },
              "colorscale": [
               [
                0,
                "#440154"
               ],
               [
                0.1111111111111111,
                "#482878"
               ],
               [
                0.2222222222222222,
                "#3e4989"
               ],
               [
                0.3333333333333333,
                "#31688e"
               ],
               [
                0.4444444444444444,
                "#26828e"
               ],
               [
                0.5555555555555556,
                "#1f9e89"
               ],
               [
                0.6666666666666666,
                "#35b779"
               ],
               [
                0.7777777777777778,
                "#6ece58"
               ],
               [
                0.8888888888888888,
                "#b5de2b"
               ],
               [
                1,
                "#fde725"
               ]
              ],
              "type": "surface"
             }
            ],
            "table": [
             {
              "cells": {
               "fill": {
                "color": "rgb(237,237,237)"
               },
               "height": 30,
               "line": {
                "color": "white"
               }
              },
              "header": {
               "fill": {
                "color": "rgb(217,217,217)"
               },
               "height": 36,
               "line": {
                "color": "white"
               }
              },
              "type": "table"
             }
            ]
           },
           "layout": {
            "annotationdefaults": {
             "arrowhead": 0,
             "arrowwidth": 1
            },
            "autotypenumbers": "strict",
            "coloraxis": {
             "colorbar": {
              "outlinewidth": 1,
              "tickcolor": "rgb(36,36,36)",
              "ticks": "outside"
             }
            },
            "colorscale": {
             "diverging": [
              [
               0,
               "rgb(103,0,31)"
              ],
              [
               0.1,
               "rgb(178,24,43)"
              ],
              [
               0.2,
               "rgb(214,96,77)"
              ],
              [
               0.3,
               "rgb(244,165,130)"
              ],
              [
               0.4,
               "rgb(253,219,199)"
              ],
              [
               0.5,
               "rgb(247,247,247)"
              ],
              [
               0.6,
               "rgb(209,229,240)"
              ],
              [
               0.7,
               "rgb(146,197,222)"
              ],
              [
               0.8,
               "rgb(67,147,195)"
              ],
              [
               0.9,
               "rgb(33,102,172)"
              ],
              [
               1,
               "rgb(5,48,97)"
              ]
             ],
             "sequential": [
              [
               0,
               "#440154"
              ],
              [
               0.1111111111111111,
               "#482878"
              ],
              [
               0.2222222222222222,
               "#3e4989"
              ],
              [
               0.3333333333333333,
               "#31688e"
              ],
              [
               0.4444444444444444,
               "#26828e"
              ],
              [
               0.5555555555555556,
               "#1f9e89"
              ],
              [
               0.6666666666666666,
               "#35b779"
              ],
              [
               0.7777777777777778,
               "#6ece58"
              ],
              [
               0.8888888888888888,
               "#b5de2b"
              ],
              [
               1,
               "#fde725"
              ]
             ],
             "sequentialminus": [
              [
               0,
               "#440154"
              ],
              [
               0.1111111111111111,
               "#482878"
              ],
              [
               0.2222222222222222,
               "#3e4989"
              ],
              [
               0.3333333333333333,
               "#31688e"
              ],
              [
               0.4444444444444444,
               "#26828e"
              ],
              [
               0.5555555555555556,
               "#1f9e89"
              ],
              [
               0.6666666666666666,
               "#35b779"
              ],
              [
               0.7777777777777778,
               "#6ece58"
              ],
              [
               0.8888888888888888,
               "#b5de2b"
              ],
              [
               1,
               "#fde725"
              ]
             ]
            },
            "colorway": [
             "#1F77B4",
             "#FF7F0E",
             "#2CA02C",
             "#D62728",
             "#9467BD",
             "#8C564B",
             "#E377C2",
             "#7F7F7F",
             "#BCBD22",
             "#17BECF"
            ],
            "font": {
             "color": "rgb(36,36,36)",
             "size": 18
            },
            "geo": {
             "bgcolor": "white",
             "lakecolor": "white",
             "landcolor": "white",
             "showlakes": true,
             "showland": true,
             "subunitcolor": "white"
            },
            "hoverlabel": {
             "align": "left"
            },
            "hovermode": "closest",
            "mapbox": {
             "style": "light"
            },
            "paper_bgcolor": "white",
            "plot_bgcolor": "white",
            "polar": {
             "angularaxis": {
              "gridcolor": "rgb(232,232,232)",
              "linecolor": "rgb(36,36,36)",
              "showgrid": false,
              "showline": true,
              "ticks": "outside"
             },
             "bgcolor": "white",
             "radialaxis": {
              "gridcolor": "rgb(232,232,232)",
              "linecolor": "rgb(36,36,36)",
              "showgrid": false,
              "showline": true,
              "ticks": "outside"
             }
            },
            "scene": {
             "xaxis": {
              "backgroundcolor": "white",
              "gridcolor": "rgb(232,232,232)",
              "gridwidth": 2,
              "linecolor": "rgb(36,36,36)",
              "showbackground": true,
              "showgrid": false,
              "showline": true,
              "ticks": "outside",
              "zeroline": false,
              "zerolinecolor": "rgb(36,36,36)"
             },
             "yaxis": {
              "backgroundcolor": "white",
              "gridcolor": "rgb(232,232,232)",
              "gridwidth": 2,
              "linecolor": "rgb(36,36,36)",
              "showbackground": true,
              "showgrid": false,
              "showline": true,
              "ticks": "outside",
              "zeroline": false,
              "zerolinecolor": "rgb(36,36,36)"
             },
             "zaxis": {
              "backgroundcolor": "white",
              "gridcolor": "rgb(232,232,232)",
              "gridwidth": 2,
              "linecolor": "rgb(36,36,36)",
              "showbackground": true,
              "showgrid": false,
              "showline": true,
              "ticks": "outside",
              "zeroline": false,
              "zerolinecolor": "rgb(36,36,36)"
             }
            },
            "shapedefaults": {
             "fillcolor": "black",
             "line": {
              "width": 0
             },
             "opacity": 0.3
            },
            "ternary": {
             "aaxis": {
              "gridcolor": "rgb(232,232,232)",
              "linecolor": "rgb(36,36,36)",
              "showgrid": false,
              "showline": true,
              "ticks": "outside"
             },
             "baxis": {
              "gridcolor": "rgb(232,232,232)",
              "linecolor": "rgb(36,36,36)",
              "showgrid": false,
              "showline": true,
              "ticks": "outside"
             },
             "bgcolor": "white",
             "caxis": {
              "gridcolor": "rgb(232,232,232)",
              "linecolor": "rgb(36,36,36)",
              "showgrid": false,
              "showline": true,
              "ticks": "outside"
             }
            },
            "title": {
             "x": 0.05
            },
            "xaxis": {
             "automargin": true,
             "gridcolor": "rgb(232,232,232)",
             "linecolor": "rgb(36,36,36)",
             "showgrid": false,
             "showline": true,
             "ticks": "outside",
             "title": {
              "standoff": 15
             },
             "zeroline": false,
             "zerolinecolor": "rgb(36,36,36)"
            },
            "yaxis": {
             "automargin": true,
             "gridcolor": "rgb(232,232,232)",
             "linecolor": "rgb(36,36,36)",
             "showgrid": false,
             "showline": true,
             "ticks": "outside",
             "title": {
              "standoff": 15
             },
             "zeroline": false,
             "zerolinecolor": "rgb(36,36,36)"
            }
           }
          },
          "width": 800,
          "xaxis": {
           "linewidth": 2,
           "mirror": "ticks",
           "showgrid": false,
           "showline": true,
           "ticklen": 6,
           "ticks": "inside",
           "tickwidth": 2,
           "zerolinecolor": "white"
          },
          "yaxis": {
           "linewidth": 2,
           "mirror": "ticks",
           "showgrid": false,
           "showline": true,
           "ticklen": 6,
           "ticks": "inside",
           "tickwidth": 2,
           "zerolinecolor": "white"
          }
         }
        },
        "width": 800,
        "xaxis": {
         "autorange": true,
         "range": [
          -536.1755311762255,
          9062.49132064991
         ],
         "type": "linear"
        },
        "yaxis": {
         "autorange": true,
         "range": [
          -0.003937364372469636,
          0.06427003103913631
         ],
         "type": "linear"
        }
       }
      },
      "image/png": "[encoded data removed]",
      "text/html": [
       "<div>                            <div id=\"d3b3e54f-6b2a-46dd-8ac0-e12ea7200058\" class=\"plotly-graph-div\" style=\"height:600px; width:800px;\"></div>            <script type=\"text/javascript\">                require([\"plotly\"], function(Plotly) {                    window.PLOTLYENV=window.PLOTLYENV || {};                                    if (document.getElementById(\"d3b3e54f-6b2a-46dd-8ac0-e12ea7200058\")) {                    Plotly.newPlot(                        \"d3b3e54f-6b2a-46dd-8ac0-e12ea7200058\",                        [{\"marker\":{\"color\":\"royalblue\"},\"mode\":\"markers\",\"name\":\"Experimental Data\",\"x\":[0.0,473.6842105263158,947.3684210526316,1421.0526315789473,1894.7368421052631,2368.4210526315787,2842.1052631578946,3315.7894736842104,3789.4736842105262,4263.157894736842,4736.8421052631575,5210.526315789473,5684.210526315789,6157.894736842105,6631.578947368421,7105.263157894737,7578.9473684210525,8052.631578947368,8526.315789473683,9000.0],\"y\":[8.800000000000002e-05,0.00010733333333333333,9.400000000000002e-05,9.933333333333334e-05,9.600000000000002e-05,8.200000000000001e-05,9.266666666666668e-05,0.04821399999999999,0.05577066666666666,0.05819200000000001,0.05940799999999998,0.060250666666666675,0.060144666666666666,0.00040733333333333344,0.0003426666666666667,0.0003913333333333334,0.0004000000000000001,0.0002486666666666667,0.00013333333333333334],\"type\":\"scatter\"}],                        {\"template\":{\"layout\":{\"autosize\":false,\"font\":{\"family\":\"mathjax\",\"size\":22},\"height\":600,\"template\":{\"data\":{\"barpolar\":[{\"marker\":{\"line\":{\"color\":\"white\",\"width\":0.5},\"pattern\":{\"fillmode\":\"overlay\",\"size\":10,\"solidity\":0.2}},\"type\":\"barpolar\"}],\"bar\":[{\"error_x\":{\"color\":\"rgb(36,36,36)\"},\"error_y\":{\"color\":\"rgb(36,36,36)\"},\"marker\":{\"line\":{\"color\":\"white\",\"width\":0.5},\"pattern\":{\"fillmode\":\"overlay\",\"size\":10,\"solidity\":0.2}},\"type\":\"bar\"}],\"carpet\":[{\"aaxis\":{\"endlinecolor\":\"rgb(36,36,36)\",\"gridcolor\":\"white\",\"linecolor\":\"white\",\"minorgridcolor\":\"white\",\"startlinecolor\":\"rgb(36,36,36)\"},\"baxis\":{\"endlinecolor\":\"rgb(36,36,36)\",\"gridcolor\":\"white\",\"linecolor\":\"white\",\"minorgridcolor\":\"white\",\"startlinecolor\":\"rgb(36,36,36)\"},\"type\":\"carpet\"}],\"choropleth\":[{\"colorbar\":{\"outlinewidth\":1,\"tickcolor\":\"rgb(36,36,36)\",\"ticks\":\"outside\"},\"type\":\"choropleth\"}],\"contourcarpet\":[{\"colorbar\":{\"outlinewidth\":1,\"tickcolor\":\"rgb(36,36,36)\",\"ticks\":\"outside\"},\"type\":\"contourcarpet\"}],\"contour\":[{\"colorbar\":{\"outlinewidth\":1,\"tickcolor\":\"rgb(36,36,36)\",\"ticks\":\"outside\"},\"colorscale\":[[0.0,\"#440154\"],[0.1111111111111111,\"#482878\"],[0.2222222222222222,\"#3e4989\"],[0.3333333333333333,\"#31688e\"],[0.4444444444444444,\"#26828e\"],[0.5555555555555556,\"#1f9e89\"],[0.6666666666666666,\"#35b779\"],[0.7777777777777778,\"#6ece58\"],[0.8888888888888888,\"#b5de2b\"],[1.0,\"#fde725\"]],\"type\":\"contour\"}],\"heatmapgl\":[{\"colorbar\":{\"outlinewidth\":1,\"tickcolor\":\"rgb(36,36,36)\",\"ticks\":\"outside\"},\"colorscale\":[[0.0,\"#440154\"],[0.1111111111111111,\"#482878\"],[0.2222222222222222,\"#3e4989\"],[0.3333333333333333,\"#31688e\"],[0.4444444444444444,\"#26828e\"],[0.5555555555555556,\"#1f9e89\"],[0.6666666666666666,\"#35b779\"],[0.7777777777777778,\"#6ece58\"],[0.8888888888888888,\"#b5de2b\"],[1.0,\"#fde725\"]],\"type\":\"heatmapgl\"}],\"heatmap\":[{\"colorbar\":{\"outlinewidth\":1,\"tickcolor\":\"rgb(36,36,36)\",\"ticks\":\"outside\"},\"colorscale\":[[0.0,\"#440154\"],[0.1111111111111111,\"#482878\"],[0.2222222222222222,\"#3e4989\"],[0.3333333333333333,\"#31688e\"],[0.4444444444444444,\"#26828e\"],[0.5555555555555556,\"#1f9e89\"],[0.6666666666666666,\"#35b779\"],[0.7777777777777778,\"#6ece58\"],[0.8888888888888888,\"#b5de2b\"],[1.0,\"#fde725\"]],\"type\":\"heatmap\"}],\"histogram2dcontour\":[{\"colorbar\":{\"outlinewidth\":1,\"tickcolor\":\"rgb(36,36,36)\",\"ticks\":\"outside\"},\"colorscale\":[[0.0,\"#440154\"],[0.1111111111111111,\"#482878\"],[0.2222222222222222,\"#3e4989\"],[0.3333333333333333,\"#31688e\"],[0.4444444444444444,\"#26828e\"],[0.5555555555555556,\"#1f9e89\"],[0.6666666666666666,\"#35b779\"],[0.7777777777777778,\"#6ece58\"],[0.8888888888888888,\"#b5de2b\"],[1.0,\"#fde725\"]],\"type\":\"histogram2dcontour\"}],\"histogram2d\":[{\"colorbar\":{\"outlinewidth\":1,\"tickcolor\":\"rgb(36,36,36)\",\"ticks\":\"outside\"},\"colorscale\":[[0.0,\"#440154\"],[0.1111111111111111,\"#482878\"],[0.2222222222222222,\"#3e4989\"],[0.3333333333333333,\"#31688e\"],[0.4444444444444444,\"#26828e\"],[0.5555555555555556,\"#1f9e89\"],[0.6666666666666666,\"#35b779\"],[0.7777777777777778,\"#6ece58\"],[0.8888888888888888,\"#b5de2b\"],[1.0,\"#fde725\"]],\"type\":\"histogram2d\"}],\"histogram\":[{\"marker\":{\"line\":{\"color\":\"white\",\"width\":0.6}},\"type\":\"histogram\"}],\"mesh3d\":[{\"colorbar\":{\"outlinewidth\":1,\"tickcolor\":\"rgb(36,36,36)\",\"ticks\":\"outside\"},\"type\":\"mesh3d\"}],\"parcoords\":[{\"line\":{\"colorbar\":{\"outlinewidth\":1,\"tickcolor\":\"rgb(36,36,36)\",\"ticks\":\"outside\"}},\"type\":\"parcoords\"}],\"pie\":[{\"automargin\":true,\"type\":\"pie\"}],\"scatter3d\":[{\"line\":{\"colorbar\":{\"outlinewidth\":1,\"tickcolor\":\"rgb(36,36,36)\",\"ticks\":\"outside\"},\"width\":3},\"marker\":{\"colorbar\":{\"outlinewidth\":1,\"tickcolor\":\"rgb(36,36,36)\",\"ticks\":\"outside\"},\"size\":9},\"type\":\"scatter3d\"}],\"scattercarpet\":[{\"marker\":{\"colorbar\":{\"outlinewidth\":1,\"tickcolor\":\"rgb(36,36,36)\",\"ticks\":\"outside\"}},\"type\":\"scattercarpet\"}],\"scattergeo\":[{\"line\":{\"width\":3},\"marker\":{\"colorbar\":{\"outlinewidth\":1,\"tickcolor\":\"rgb(36,36,36)\",\"ticks\":\"outside\"},\"size\":9},\"type\":\"scattergeo\"}],\"scattergl\":[{\"line\":{\"width\":3},\"marker\":{\"colorbar\":{\"outlinewidth\":1,\"tickcolor\":\"rgb(36,36,36)\",\"ticks\":\"outside\"},\"size\":9},\"type\":\"scattergl\"}],\"scattermapbox\":[{\"marker\":{\"colorbar\":{\"outlinewidth\":1,\"tickcolor\":\"rgb(36,36,36)\",\"ticks\":\"outside\"}},\"type\":\"scattermapbox\"}],\"scatterpolargl\":[{\"line\":{\"width\":3},\"marker\":{\"colorbar\":{\"outlinewidth\":1,\"tickcolor\":\"rgb(36,36,36)\",\"ticks\":\"outside\"},\"size\":9},\"type\":\"scatterpolargl\"}],\"scatterpolar\":[{\"line\":{\"width\":3},\"marker\":{\"colorbar\":{\"outlinewidth\":1,\"tickcolor\":\"rgb(36,36,36)\",\"ticks\":\"outside\"},\"size\":9},\"type\":\"scatterpolar\"}],\"scatter\":[{\"fillpattern\":{\"fillmode\":\"overlay\",\"size\":10,\"solidity\":0.2},\"line\":{\"width\":3},\"marker\":{\"size\":9},\"type\":\"scatter\"}],\"scatterternary\":[{\"line\":{\"width\":3},\"marker\":{\"colorbar\":{\"outlinewidth\":1,\"tickcolor\":\"rgb(36,36,36)\",\"ticks\":\"outside\"},\"size\":9},\"type\":\"scatterternary\"}],\"surface\":[{\"colorbar\":{\"outlinewidth\":1,\"tickcolor\":\"rgb(36,36,36)\",\"ticks\":\"outside\"},\"colorscale\":[[0.0,\"#440154\"],[0.1111111111111111,\"#482878\"],[0.2222222222222222,\"#3e4989\"],[0.3333333333333333,\"#31688e\"],[0.4444444444444444,\"#26828e\"],[0.5555555555555556,\"#1f9e89\"],[0.6666666666666666,\"#35b779\"],[0.7777777777777778,\"#6ece58\"],[0.8888888888888888,\"#b5de2b\"],[1.0,\"#fde725\"]],\"type\":\"surface\"}],\"table\":[{\"cells\":{\"fill\":{\"color\":\"rgb(237,237,237)\"},\"height\":30,\"line\":{\"color\":\"white\"}},\"header\":{\"fill\":{\"color\":\"rgb(217,217,217)\"},\"height\":36,\"line\":{\"color\":\"white\"}},\"type\":\"table\"}]},\"layout\":{\"annotationdefaults\":{\"arrowhead\":0,\"arrowwidth\":1},\"autotypenumbers\":\"strict\",\"coloraxis\":{\"colorbar\":{\"outlinewidth\":1,\"tickcolor\":\"rgb(36,36,36)\",\"ticks\":\"outside\"}},\"colorscale\":{\"diverging\":[[0.0,\"rgb(103,0,31)\"],[0.1,\"rgb(178,24,43)\"],[0.2,\"rgb(214,96,77)\"],[0.3,\"rgb(244,165,130)\"],[0.4,\"rgb(253,219,199)\"],[0.5,\"rgb(247,247,247)\"],[0.6,\"rgb(209,229,240)\"],[0.7,\"rgb(146,197,222)\"],[0.8,\"rgb(67,147,195)\"],[0.9,\"rgb(33,102,172)\"],[1.0,\"rgb(5,48,97)\"]],\"sequential\":[[0.0,\"#440154\"],[0.1111111111111111,\"#482878\"],[0.2222222222222222,\"#3e4989\"],[0.3333333333333333,\"#31688e\"],[0.4444444444444444,\"#26828e\"],[0.5555555555555556,\"#1f9e89\"],[0.6666666666666666,\"#35b779\"],[0.7777777777777778,\"#6ece58\"],[0.8888888888888888,\"#b5de2b\"],[1.0,\"#fde725\"]],\"sequentialminus\":[[0.0,\"#440154\"],[0.1111111111111111,\"#482878\"],[0.2222222222222222,\"#3e4989\"],[0.3333333333333333,\"#31688e\"],[0.4444444444444444,\"#26828e\"],[0.5555555555555556,\"#1f9e89\"],[0.6666666666666666,\"#35b779\"],[0.7777777777777778,\"#6ece58\"],[0.8888888888888888,\"#b5de2b\"],[1.0,\"#fde725\"]]},\"colorway\":[\"#1F77B4\",\"#FF7F0E\",\"#2CA02C\",\"#D62728\",\"#9467BD\",\"#8C564B\",\"#E377C2\",\"#7F7F7F\",\"#BCBD22\",\"#17BECF\"],\"font\":{\"color\":\"rgb(36,36,36)\",\"size\":18},\"geo\":{\"bgcolor\":\"white\",\"lakecolor\":\"white\",\"landcolor\":\"white\",\"showlakes\":true,\"showland\":true,\"subunitcolor\":\"white\"},\"hoverlabel\":{\"align\":\"left\"},\"hovermode\":\"closest\",\"mapbox\":{\"style\":\"light\"},\"paper_bgcolor\":\"white\",\"plot_bgcolor\":\"white\",\"polar\":{\"angularaxis\":{\"gridcolor\":\"rgb(232,232,232)\",\"linecolor\":\"rgb(36,36,36)\",\"showgrid\":false,\"showline\":true,\"ticks\":\"outside\"},\"bgcolor\":\"white\",\"radialaxis\":{\"gridcolor\":\"rgb(232,232,232)\",\"linecolor\":\"rgb(36,36,36)\",\"showgrid\":false,\"showline\":true,\"ticks\":\"outside\"}},\"scene\":{\"xaxis\":{\"backgroundcolor\":\"white\",\"gridcolor\":\"rgb(232,232,232)\",\"gridwidth\":2,\"linecolor\":\"rgb(36,36,36)\",\"showbackground\":true,\"showgrid\":false,\"showline\":true,\"ticks\":\"outside\",\"zeroline\":false,\"zerolinecolor\":\"rgb(36,36,36)\"},\"yaxis\":{\"backgroundcolor\":\"white\",\"gridcolor\":\"rgb(232,232,232)\",\"gridwidth\":2,\"linecolor\":\"rgb(36,36,36)\",\"showbackground\":true,\"showgrid\":false,\"showline\":true,\"ticks\":\"outside\",\"zeroline\":false,\"zerolinecolor\":\"rgb(36,36,36)\"},\"zaxis\":{\"backgroundcolor\":\"white\",\"gridcolor\":\"rgb(232,232,232)\",\"gridwidth\":2,\"linecolor\":\"rgb(36,36,36)\",\"showbackground\":true,\"showgrid\":false,\"showline\":true,\"ticks\":\"outside\",\"zeroline\":false,\"zerolinecolor\":\"rgb(36,36,36)\"}},\"shapedefaults\":{\"fillcolor\":\"black\",\"line\":{\"width\":0},\"opacity\":0.3},\"ternary\":{\"aaxis\":{\"gridcolor\":\"rgb(232,232,232)\",\"linecolor\":\"rgb(36,36,36)\",\"showgrid\":false,\"showline\":true,\"ticks\":\"outside\"},\"baxis\":{\"gridcolor\":\"rgb(232,232,232)\",\"linecolor\":\"rgb(36,36,36)\",\"showgrid\":false,\"showline\":true,\"ticks\":\"outside\"},\"bgcolor\":\"white\",\"caxis\":{\"gridcolor\":\"rgb(232,232,232)\",\"linecolor\":\"rgb(36,36,36)\",\"showgrid\":false,\"showline\":true,\"ticks\":\"outside\"}},\"title\":{\"x\":0.05},\"xaxis\":{\"automargin\":true,\"gridcolor\":\"rgb(232,232,232)\",\"linecolor\":\"rgb(36,36,36)\",\"showgrid\":false,\"showline\":true,\"ticks\":\"outside\",\"title\":{\"standoff\":15},\"zeroline\":false,\"zerolinecolor\":\"rgb(36,36,36)\"},\"yaxis\":{\"automargin\":true,\"gridcolor\":\"rgb(232,232,232)\",\"linecolor\":\"rgb(36,36,36)\",\"showgrid\":false,\"showline\":true,\"ticks\":\"outside\",\"title\":{\"standoff\":15},\"zeroline\":false,\"zerolinecolor\":\"rgb(36,36,36)\"}}},\"width\":800,\"xaxis\":{\"linewidth\":2.0,\"mirror\":\"ticks\",\"showgrid\":false,\"showline\":true,\"ticklen\":6,\"ticks\":\"inside\",\"tickwidth\":2.0,\"zerolinecolor\":\"white\"},\"yaxis\":{\"linewidth\":2.0,\"mirror\":\"ticks\",\"showgrid\":false,\"showline\":true,\"ticklen\":6,\"ticks\":\"inside\",\"tickwidth\":2.0,\"zerolinecolor\":\"white\"}}},\"width\":800,\"height\":600},                        {\"responsive\": true}                    ).then(function(){\n",
       "                            \n",
       "var gd = document.getElementById('d3b3e54f-6b2a-46dd-8ac0-e12ea7200058');\n",
       "var x = new MutationObserver(function (mutations, observer) {{\n",
       "        var display = window.getComputedStyle(gd).display;\n",
       "        if (!display || display === 'none') {{\n",
       "            console.log([gd, 'removed!']);\n",
       "            Plotly.purge(gd);\n",
       "            observer.disconnect();\n",
       "        }}\n",
       "}});\n",
       "\n",
       "// Listen for the removal of the full notebook cells\n",
       "var notebookContainer = gd.closest('#notebook-container');\n",
       "if (notebookContainer) {{\n",
       "    x.observe(notebookContainer, {childList: true});\n",
       "}}\n",
       "\n",
       "// Listen for the clearing of the current output cell\n",
       "var outputEl = gd.closest('.output');\n",
       "if (outputEl) {{\n",
       "    x.observe(outputEl, {childList: true});\n",
       "}}\n",
       "\n",
       "                        })                };                });            </script>        </div>"
      ]
     },
     "metadata": {},
     "output_type": "display_data"
    }
   ],
   "source": [
    "# For Delay Measurement\n",
    "\n",
    "x_old=delay_timeRange\n",
    "y_old=signal_data\n",
    "fig = go.Figure()\n",
    "fig.add_scatter(x=x_old,y=y_old,mode='markers',marker=dict(color=\"royalblue\"),name='Experimental Data' )\n",
    "fig.update_layout(template = fig_template,width=800,height=600)\n",
    "fig.show() "
   ]
  },
  {
   "cell_type": "code",
   "execution_count": null,
   "metadata": {
    "tags": []
   },
   "outputs": [],
   "source": [
    "# # For Lifetime Measurement\n",
    "\n",
    "# x_old=delay1+delay2+read_on+timeRange[:-1] \n",
    "# y_old=signal_data\n",
    "# fig = go.Figure()\n",
    "# fig.add_scatter(x=x_old,y=y_old,mode='markers',marker=dict(color=\"royalblue\"),name='Experimental Data' )\n",
    "# fig.update_layout(template = fig_template,width=800,height=600)\n",
    "# fig.show()"
   ]
  },
  {
   "cell_type": "code",
   "execution_count": null,
   "metadata": {
    "tags": []
   },
   "outputs": [],
   "source": [
    "# y_old = signal_data\n",
    "# x_old = delay1+delay2+read_on+timeRange[:-1]    # as we are neglecting the last step\n",
    "# guess_params = np.array([0.3,1,50*1e3])         # (y0,y_max,tau)\n",
    "# # fit_range = np.array([0,400])*1e3             # provide (x_min,x_max) or 'False'(for all x_range)\n",
    "# fit_range = False\n",
    "\n",
    "# # fitting curve\n",
    "# xOld,yOld,xNew,yNew,coefficient,error_bars = lifetime_fit(x_old,y_old,guess_params,pulse_args,fit_range)"
   ]
  },
  {
   "cell_type": "markdown",
   "metadata": {
    "id": "PwhaFEwGETqU",
    "tags": []
   },
   "source": [
    "#### Saving files and Plotting"
   ]
  },
  {
   "cell_type": "code",
   "execution_count": null,
   "metadata": {},
   "outputs": [],
   "source": [
    "# directory_name = r\"C:\\Users\\Administrator\\OneDrive\\Desktop\\T1_measurement\\Instrument_Automation\\Experimental_Applications\\T1_Exp_Datas\\Delay_Measurements\"\n",
    "# image_directory_name = r\"C:\\Users\\Administrator\\OneDrive\\Desktop\\T1_measurement\\Instrument_Automation\\Experimental_Applications\\T1_Images\\Delay_Measurements\"\n",
    "# file_name ='1'\n",
    "\n",
    "# x_old=delay_timeRange+4*delay_read_on\n",
    "# y_old=signal_data\n",
    "\n",
    "# file_name = replace_space(file_name)\n",
    "# directory_name = replace_space(directory_name)\n",
    "# contents = np.array([x_old,y_old])\n",
    "# file_save(directory_name,file_name,contents)                                                                             # saving the data file"
   ]
  },
  {
   "cell_type": "code",
   "execution_count": null,
   "metadata": {},
   "outputs": [],
   "source": [
    "# # Plotting the Fitted Curve\n",
    "# fig = go.Figure()\n",
    "\n",
    "# # fig.add_scatter(x=xNew,y=curveFit(xNew,*(coefficient+error_bars)),mode='lines',line=dict(width=0.01),name='plus_one_std')\n",
    "# # fig.add_scatter(x=xNew,y=curveFit(xNew,*(coefficient-error_bars)),mode='lines',line=dict(width=0.01),name='minus_one_std',fill='tonexty',fillcolor='rgb(211, 211, 211)')\n",
    "# # fig.add_scatter(x=xNew,y=yNew,mode='lines',line=dict(color=\"royalblue\"),name='Fitted Curve')\n",
    "# fig.add_scatter(x=x_old,y=y_old,mode='markers',marker=dict(color=\"royalblue\"),name='Experimental Data' )\n",
    "\n",
    "# fig.update_layout(template = fig_template,width=800,height=600)\n",
    "# fig.update_xaxes(title_text = \"Time (ns)\"); fig.update_yaxes(title_text = \"Signal_counts\")\n",
    "# # fig.add_annotation(\n",
    "# #     xref=\"x domain\", yref=\"y domain\",align = \"left\", x=0.95, y=0.95,\n",
    "# #     text=f\"<b>y<sub>0</sub></b> : {np.round(coefficient[0],3)} &plusmn; {np.round(error_bars[0],3)}\\\n",
    "# #     <br><b>y<sub>max</sub></b> : {np.round(coefficient[1],3)} &plusmn; {np.round(error_bars[1],3)}\\\n",
    "# #     <br><b>\\u03C4</b> : {np.round(coefficient[2]/1e3,3)} &plusmn; {np.round(error_bars[2]/1e3,3)} &mu;s\",\n",
    "# #     showarrow=False, font_family=\"Times New Roman\",font_size=20\n",
    "# # )\n",
    "\n",
    "# # allowed saving formats : 'html','svg','pdf','png','jpeg','webp'\n",
    "# image_save(image_directory_name,file_name,fig_to_save=fig,extension='html')\n",
    "# fig.show()"
   ]
  },
  {
   "cell_type": "code",
   "execution_count": null,
   "metadata": {
    "id": "ukzYcI7WBuRR",
    "tags": []
   },
   "outputs": [],
   "source": [
    "# y_old = signal_data\n",
    "# x_old = delay1+delay2+read_on+timeRange[:-1]    # as we are neglecting the last step\n",
    "# guess_params = np.array([0.3,1,50*1e3])         # (y0,y_max,tau)\n",
    "# # fit_range = np.array([0,400])*1e3             # provide (x_min,x_max) or 'False'(for all x_range)\n",
    "# fit_range = False\n",
    "\n",
    "# # fitting curve\n",
    "# xOld,yOld,xNew,yNew,coefficient,error_bars = lifetime_fit(x_old,y_old,guess_params,pulse_args,fit_range)"
   ]
  },
  {
   "cell_type": "code",
   "execution_count": null,
   "metadata": {
    "id": "jr_F4_27BuRR",
    "tags": []
   },
   "outputs": [],
   "source": [
    "# # Saving Data and Images in the mentined folder \n",
    "# # Keep 'r' before Directory name or use \"C:\\\\Users\\....\"\n",
    "# directory_name = r\"C:\\Users\\Administrator\\Desktop\\T1_measurement\\Instrument_Automation\\Experimental_Applications\\Exp_Data\\year_2024\\11May\\nanodiamonds\\delay_measurements\"      # Experimental Data Directory\n",
    "# # image_directory_name = r\"C:\\Users\\Administrator\\Desktop\\T1_measurement\\Instrument_Automation\\Experimental_Applications\\Images\\year_2024\\11May\\nanodiamonds\\delay_measurements\"  # Image Directory\n",
    "# file_name ='1'\n",
    "\n",
    "# file_name = replace_space(file_name)\n",
    "# directory_name = replace_space(directory_name)\n",
    "# contents = np.array([xOld,yOld])\n",
    "# file_save(directory_name,file_name,contents)                                                                             # saving the data file"
   ]
  },
  {
   "cell_type": "code",
   "execution_count": null,
   "metadata": {
    "id": "ydIEEc7uBuRR",
    "tags": []
   },
   "outputs": [],
   "source": [
    "# # Plotting the Fitted Curve\n",
    "# fig = go.Figure()\n",
    "\n",
    "# fig.add_scatter(x=xNew,y=curveFit(xNew,*(coefficient+error_bars)),mode='lines',line=dict(width=0.01),name='plus_one_std')\n",
    "# fig.add_scatter(x=xNew,y=curveFit(xNew,*(coefficient-error_bars)),mode='lines',line=dict(width=0.01),name='minus_one_std',fill='tonexty',fillcolor='rgb(211, 211, 211)')\n",
    "# fig.add_scatter(x=xNew,y=yNew,mode='lines',line=dict(color=\"royalblue\"),name='Fitted Curve')\n",
    "# fig.add_scatter(x=x_old,y=y_old,mode='markers',marker=dict(color=\"royalblue\"),name='Experimental Data' )\n",
    "\n",
    "# fig.update_layout(template = fig_template,width=800,height=600)\n",
    "# fig.update_xaxes(title_text = \"Time (ns)\"); fig.update_yaxes(title_text = \"Signal_counts\")\n",
    "# fig.add_annotation(\n",
    "#     xref=\"x domain\", yref=\"y domain\",align = \"left\", x=0.95, y=0.95,\n",
    "#     text=f\"<b>y<sub>0</sub></b> : {np.round(coefficient[0],3)} &plusmn; {np.round(error_bars[0],3)}\\\n",
    "#     <br><b>y<sub>max</sub></b> : {np.round(coefficient[1],3)} &plusmn; {np.round(error_bars[1],3)}\\\n",
    "#     <br><b>\\u03C4</b> : {np.round(coefficient[2]/1e3,3)} &plusmn; {np.round(error_bars[2]/1e3,3)} &mu;s\",\n",
    "#     showarrow=False, font_family=\"Times New Roman\",font_size=20\n",
    "# )\n",
    "\n",
    "# # allowed saving formats : 'html','svg','pdf','png','jpeg','webp'\n",
    "# image_save(image_directory_name,file_name,fig_to_save=fig,extension='html')\n",
    "# fig.show()"
   ]
  }
 ],
 "metadata": {
  "colab": {
   "include_colab_link": true,
   "provenance": []
  },
  "kernelspec": {
   "display_name": "Python 3 (ipykernel)",
   "language": "python",
   "name": "python3"
  },
  "language_info": {
   "codemirror_mode": {
    "name": "ipython",
    "version": 3
   },
   "file_extension": ".py",
   "mimetype": "text/x-python",
   "name": "python",
   "nbconvert_exporter": "python",
   "pygments_lexer": "ipython3",
   "version": "3.11.5"
  }
 },
 "nbformat": 4,
 "nbformat_minor": 4
}
