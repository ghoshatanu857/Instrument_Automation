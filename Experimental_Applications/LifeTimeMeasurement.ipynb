{
 "cells": [
  {
   "cell_type": "markdown",
   "metadata": {},
   "source": [
    "# Instrument Automation and Measuring Lifetime \n",
    "> Snigdhadev and Atanu"
   ]
  },
  {
   "cell_type": "markdown",
   "metadata": {},
   "source": [
    "### Installing Modules and Functions "
   ]
  },
  {
   "cell_type": "code",
   "execution_count": 114,
   "metadata": {
    "id": "xvObEvg5GMGb"
   },
   "outputs": [
    {
     "name": "stdout",
     "output_type": "stream",
     "text": [
      "Connect to Pulse Streamer via JSON-RPC.\n",
      "IP / Hostname: 169.254.8.2\n",
      "Pulse Streamer 8/2 firmware: v1.7.2\n",
      "Client software: v1.7.0\n"
     ]
    }
   ],
   "source": [
    "# !pip install pulsestreamer\n",
    "# !pip install nidaqmx\n",
    "import numpy as np\n",
    "import inspect,dis\n",
    "import sys\n",
    "import time\n",
    "from tqdm import trange\n",
    "from plotly.subplots import make_subplots\n",
    "from plotly import graph_objs as go\n",
    "import scipy\n",
    "from scipy.optimize import curve_fit\n",
    "import pulsestreamer\n",
    "import nidaqmx\n",
    "import nidaqmx.stream_readers\n",
    "import pprint\n",
    "from pulsestreamer import PulseStreamer,findPulseStreamers,OutputState,TriggerStart,Sequence,TriggerRearm\n",
    "import os\n",
    "import scipy.stats as stats \n",
    "\n",
    "# Path of the Program and modified data (for an already existing folder \"Exp_Data\")\n",
    "program_path = os.getcwd()\n",
    "\n",
    "# loading the local Pulse Streamer system\n",
    "IPaddress = findPulseStreamers(search_serial='')[0][0]\n",
    "pulser = PulseStreamer(IPaddress)\n",
    "# loading the local NIDAQmx system\n",
    "system = nidaqmx.system.System.local()\n",
    "DAQ_device = system.devices['Dev1']\n",
    "\n",
    "\n",
    "# Function to create patterns \n",
    "def lifetime_patterns(*args):  # all in nanosecond range\n",
    "    \n",
    "  delay1=pulse_args['delay1']; delay2=pulse_args['delay2']; laser_on =pulse_args['laser_on']; read_on =pulse_args['read_on']\n",
    "  timeRange =pulse_args['timeRange']; trigegrTimingDelay =pulse_args['trigegrTimingDelay']\n",
    "  averages =pulse_args['averages']; samples =pulse_args['samples']; steps =pulse_args['steps']\n",
    "    \n",
    "  ## Producing the Patterns\n",
    "  laser_block = [(delay2,0),(laser_on,1),(delay2+timeRange[-1],0)]\n",
    "  laser_pattern=[]; trigger_pattern=[]; timing_pattern=[]\n",
    "\n",
    "  for t in range(steps-1): # neglecting the last step\n",
    "    allowed_steps = timeRange[-1]/(2*read_on+delay1)\n",
    "    if timeRange.shape[0] > allowed_steps: \n",
    "      print(f'Please reduce the steps or read_on time. \\nMaximum allowed steps: {allowed_steps}')\n",
    "      break\n",
    "    laserPattern = laser_block\n",
    "    laser_pattern.append(laserPattern)\n",
    "\n",
    "    trigger_block = [((2*delay2+laser_on),0),(read_on,1),(delay1+timeRange[t],0),(read_on,1),(timeRange[-1]-timeRange[t]-delay1-2*read_on,0)]\n",
    "    trigger_block = trigger_block\n",
    "    trigger_pattern.append(trigger_block)\n",
    "\n",
    "    timing_read_on = read_on-trigegrTimingDelay\n",
    "    timing_block = [((2*delay2+laser_on),0),(timing_read_on,1),(delay1+timeRange[t]+trigegrTimingDelay,0),\n",
    "                     (timing_read_on,1),((timeRange[-1]-timeRange[t]-delay1-trigegrTimingDelay-2*timing_read_on),0)]\n",
    "    timing_block = timing_block\n",
    "    timing_pattern.append(timing_block)\n",
    "\n",
    "  if timeRange.shape[0] > allowed_steps:\n",
    "    pass\n",
    "    \n",
    "  pattern = (laser_pattern,trigger_pattern,timing_pattern)\n",
    "  return pattern\n",
    "\n",
    "\n",
    "# Function for doing the Lifetime measurement\n",
    "def lifetime(*args):\n",
    "\n",
    "     samples =  pulse_args['samples']; steps = pulse_args['steps']; averages =pulse_args['averages']\n",
    "     numberofpoints=samples*2\n",
    "     buffersamplecount=numberofpoints\n",
    "     count_per_average = buffersamplecount*(steps-1) # as we are ignoring the very last steps\n",
    "     DAQ_device.reset_device()\n",
    "\n",
    "     # Counter\n",
    "     counter = nidaqmx.Task()\n",
    "     ciChannel = counter.ci_channels.add_ci_count_edges_chan('/Dev1/ctr1',edge=nidaqmx.constants.Edge.RISING, initial_count=0, \n",
    "                                                             count_direction=nidaqmx.constants.CountDirection.COUNT_UP)\n",
    "     # print(task.ci_channels[0].ci_count_edges_term)\n",
    "\n",
    "     # Trigger\n",
    "     counter.triggers.pause_trigger.dig_lvl_src='/Dev1/PFI4'\n",
    "     counter.triggers.pause_trigger.trig_type=nidaqmx.constants.TriggerType.DIGITAL_LEVEL\n",
    "     counter.triggers.pause_trigger.dig_lvl_when=nidaqmx.constants.Level.LOW\n",
    "\n",
    "     # Timing\n",
    "     counter.timing.cfg_samp_clk_timing(rate=1e8,source='/Dev1/PFI5',active_edge=nidaqmx.constants.Edge.FALLING,\n",
    "                                        sample_mode = nidaqmx.constants.AcquisitionType.FINITE, samps_per_chan=count_per_average) \n",
    "\n",
    "     # Pulse streamer Gating\n",
    "     gate_task = nidaqmx.Task()\n",
    "     gate_task.do_channels.add_do_chan(lines = 'Dev1/port0/line7')\n",
    "\n",
    "     # Counter read task\n",
    "     reader = nidaqmx.stream_readers.CounterReader(counter.in_stream)\n",
    "     highCount = np.zeros(buffersamplecount, dtype = np.uint32)\n",
    "\n",
    "     cps = []\n",
    "     callback=[]\n",
    "\n",
    "     # Callback function\n",
    "     def readBuffer(task_handle, every_n_samples_event_type, number_of_samples, callback_data):\n",
    "         counter.in_stream.read_all_avail_samp = True\n",
    "         reader.read_many_sample_uint32(highCount, number_of_samples_per_channel=- 1, timeout=10.0)  #10s\n",
    "         cps.extend(highCount)\n",
    "         callback.extend([1])\n",
    "         return 0\n",
    "     counter.register_every_n_samples_acquired_into_buffer_event(buffersamplecount,readBuffer)\n",
    "\n",
    "     time.sleep(0.5)\n",
    "     t=0\n",
    "     run=0\n",
    "     data=[]\n",
    "     print(f\"callback number in beginning: {len(callback)}\\n\")\n",
    "\n",
    "     for i in trange(averages):\n",
    "\n",
    "         # print(run)\n",
    "         time.sleep(0.5)\n",
    "         counter.control(nidaqmx.constants.TaskMode.TASK_RESERVE)\n",
    "         gate_task.control(nidaqmx.constants.TaskMode.TASK_RESERVE)\n",
    "         time.sleep(0.5)\n",
    "         counter.start()\n",
    "\n",
    "         laser_port =pulse_args['laser_port']; trigger_port =pulse_args['trigger_port']; timing_port =pulse_args['timing_port']\n",
    "         laser_pattern,trigger_pattern,timing_pattern=lifetime_patterns(pulse_args)\n",
    "\n",
    "         seq_num=0\n",
    "         start1=time.time_ns()\n",
    "\n",
    "         # print('Time(ms) for steps: ')\n",
    "         for s in range(steps-1):  #neglecting the very last step\n",
    "\n",
    "             t1=len(callback)\n",
    "\n",
    "             reSet = pulser.reset()\n",
    "             # if reSet==0:\n",
    "                # print('Pulse Streamer has been reset before Streaming.\\n')\n",
    "             sequence = pulser.createSequence()\n",
    "             # sequence.setAnalog(laser_port,[(delay2,0),(laser_on,0.6),(delay2+timeRange[-1],0)]) \n",
    "             sequence.setDigital(laser_port,laser_pattern[s]); sequence.setDigital(trigger_port,trigger_pattern[s]); sequence.setDigital(timing_port,timing_pattern[s])\n",
    "             sequence.setDigital(3,laser_pattern[s])\n",
    "             # print(f'Plot of the Sequence without averaging:\\n {seq.plot()}\\n')\n",
    "             pulser.setTrigger(start=TriggerStart.HARDWARE_RISING,rearm=TriggerRearm.AUTO)\n",
    "\n",
    "             ## Checking the Conditions\n",
    "             if pulser.hasSequence()!=0:\n",
    "               print('Pulse Streamer has no Sequence uploaded!')\n",
    "               pass\n",
    "             if sequence.isEmpty()!=0:\n",
    "               print('Sequence to Pulse Streamer is empty!')\n",
    "               pass\n",
    "             if sequence.getDuration()%8!=0:\n",
    "               print(\"Sequence duration is not multiple of 8ns! \\nPlease check by 'seq.get_pad()' method.\")\n",
    "               pass\n",
    "\n",
    "             seq_num=seq_num+1\n",
    "             start2=time.time_ns()\n",
    "             ## Performing the Streaming\n",
    "             # sequence.plot()\n",
    "             pulser.stream(sequence,n_runs=samples,final=([],0,0))  # Running the sequence samples_number times \n",
    "             # print(seq_num)\n",
    "\n",
    "             gate_task.write(True)\n",
    "             \n",
    "             while len(callback)==t1:\n",
    "                 time.sleep(0.05)   ### ?\n",
    "             gate_task.write(False)\n",
    "\n",
    "             end2=time.time_ns()\n",
    "             # print(f'step-{s+1}:  {(end2-start2)/1e6}')\n",
    "        \n",
    "         # print(cps)\n",
    "\n",
    "         end1=time.time_ns()\n",
    "         # print('Time(s) for single average: ', (end1-start1)/1e9)\n",
    "         print(f\"callback number at {i+1}-th average end: {len(callback)}\\n\")\n",
    "         run=run+1\n",
    "         counter.control(nidaqmx.constants.TaskMode.TASK_UNRESERVE)\n",
    "         # gate_task.control(nidaqmx.constants.TaskMode.TASK_UNRESERVE)\n",
    "\n",
    "     data=signal_counts(cps,count_per_average) \n",
    "     counter.close()\n",
    "     gate_task.close()\n",
    "     return data\n",
    "\n",
    "\n",
    "# Function to Modify the Data and Saving\n",
    "def signal_counts(all_counts,counts_in_one_average,*args):\n",
    "     all_counts=np.array(all_counts)\n",
    "     no_of_averages=int(len(all_counts)/counts_in_one_average)\n",
    "     print(\"Crosscheck number of averges=\",no_of_averages)\n",
    "\n",
    "     # Changing the cumulative counts to actual counts \n",
    "     cumulative_counts = np.reshape(all_counts,(no_of_averages,counts_in_one_average)) \n",
    "     modified_matrix = np.delete(cumulative_counts, -1, 1)\n",
    "     zero_array = np.zeros(no_of_averages, dtype=int)\n",
    "     new_matrix = np.hstack((zero_array[:, np.newaxis], modified_matrix))\n",
    "     actual_counts = np.subtract(cumulative_counts,new_matrix)\n",
    "     averaged_actual_counts = np.mean(actual_counts,axis=0)\n",
    "\n",
    "     # Separating Reference and Signal and doing Sample_average \n",
    "     reference_samples = np.mean(np.reshape(averaged_actual_counts[::2],(steps-1,samples)),axis=1) \n",
    "     signal_samples = np.mean(np.reshape(averaged_actual_counts[1::2],(steps-1,samples)),axis=1)\n",
    "\n",
    "     signal_photon = signal_samples/reference_samples\n",
    "     return signal_photon\n",
    "\n",
    "# Curve_fitting Function\n",
    "def curveFit(x,y0,y_max,tau):\n",
    "    return y0+y_max*np.exp(-x/tau)\n",
    "    \n",
    "# Function to calculate the Lifetime\n",
    "# def lifetime_fit(fit_range,*args):\n",
    "def lifetime_fit(*args):\n",
    "    indices = np.where(y_old!=0)\n",
    "    yOld = y_old[indices]; xOld = x_old[indices]\n",
    "    if type(fit_range)==np.ndarray:\n",
    "        range_indicies = np.where(np.logical_and(xOld>=fit_range[0],xOld<=fit_range[1]))\n",
    "        x_old_ranged = xOld[range_indicies]; y_old_ranged = yOld[range_indicies]\n",
    "        coefficient, covariance_matrix = curve_fit(curveFit,x_old_ranged,y_old_ranged,p0=guess_params, absolute_sigma=False)\n",
    "        error_bars = np.sqrt(np.diag(covariance_matrix))\n",
    "        condition_number =  np.linalg.cond(covariance_matrix)\n",
    "        x_curve_fit = x_old_ranged\n",
    "    else:\n",
    "        coefficient, covariance_matrix = curve_fit(curveFit,xOld,yOld,p0=guess_params, absolute_sigma=False)\n",
    "        error_bars = np.sqrt(np.diag(covariance_matrix))\n",
    "        condition_number =  np.linalg.cond(covariance_matrix)\n",
    "        x_curve_fit = xOld\n",
    "\n",
    "    x_new = x_curve_fit \n",
    "    y_new = curveFit(x_new,*coefficient)\n",
    "    # Chi-Square Goodness of Fit Test \n",
    "    chi_square_test, p_value = stats.chisquare(y_old_ranged, y_new) \n",
    "    \n",
    "    print(f'Lifetime in nano_second is : {coefficient[2]}.\\n')\n",
    "    print(f'Chi_square, p-value and Condition Number are : {np.round(chi_square_test,3)}\\t{np.round(p_value,3)}\\t{np.round(condition_number,3)}.\\n')\n",
    "    if p_value<=0.05:\n",
    "        print('The p_value of fitting is low. Please check the fitting!')\n",
    "    return xOld,yOld,x_new,y_new,coefficient,error_bars\n",
    "\n",
    "# Replacing space and dot mistakes in file naming \n",
    "def replace_space(name):\n",
    "    name = name.replace(' ', '_').replace('.','_')\n",
    "    if name[-1]=='_':  name=name[:-1]\n",
    "    return name\n",
    "\n",
    "# Saving file in given directory\n",
    "def file_save(directory_name,file_name,contents):\n",
    "    file_name = file_name+'.txt'\n",
    "    if not os.path.exists(directory_name):\n",
    "        os.makedirs(directory_name)\n",
    "    total_path = os.path.join(directory_name, file_name)\n",
    "    np.savetxt(total_path,np.transpose(contents),newline='\\n') # saving in column mode \n",
    "    if os.path.exists(total_path)==False:\n",
    "        print('The file does not exist!\\n')\n",
    "    elif os.stat(total_path).st_size == False:\n",
    "        print('File is empty\\n')\n",
    "    else:\n",
    "        print('Saving file is successful\\n')"
   ]
  },
  {
   "cell_type": "code",
   "execution_count": 78,
   "metadata": {},
   "outputs": [],
   "source": [
    "### Parameters Used (All times are in nanosecond range)\n",
    "# Please choose accordingly so that it is multiple of 8ns.\n",
    "delay1=16; delay2=16\n",
    "laser_on=200*1000; Tmax=320*1000\n",
    "read_on=40*100; trigegrTimingDelay=8\n",
    "steps=10; samples=800; averages=5\n",
    "laser_port=0; trigger_port=1; timing_port=2\n",
    "# we will not get the signal for lifetime measurement upto (delay1+delay2+read_on)\n",
    "\n",
    "timeRange=np.linspace(0,Tmax,num=steps)\n",
    "\n",
    "pulse_args = {'delay1': delay1,'delay2': delay2,'laser_on': laser_on,'timeRange': timeRange,'trigegrTimingDelay': trigegrTimingDelay,\n",
    "              'read_on': read_on,'averages': averages,'samples': samples,'steps': steps,\n",
    "              'laser_port': laser_port,'trigger_port': trigger_port,'timing_port': timing_port}"
   ]
  },
  {
   "cell_type": "code",
   "execution_count": 40,
   "metadata": {},
   "outputs": [
    {
     "name": "stdout",
     "output_type": "stream",
     "text": [
      "callback number in beginning: 0\n",
      "\n"
     ]
    },
    {
     "name": "stderr",
     "output_type": "stream",
     "text": [
      " 20%|██        | 1/5 [00:05<00:22,  5.53s/it]"
     ]
    },
    {
     "name": "stdout",
     "output_type": "stream",
     "text": [
      "callback number at 1-th average end: 9\n",
      "\n"
     ]
    },
    {
     "name": "stderr",
     "output_type": "stream",
     "text": [
      " 40%|████      | 2/5 [00:11<00:16,  5.54s/it]"
     ]
    },
    {
     "name": "stdout",
     "output_type": "stream",
     "text": [
      "callback number at 2-th average end: 18\n",
      "\n"
     ]
    },
    {
     "name": "stderr",
     "output_type": "stream",
     "text": [
      " 60%|██████    | 3/5 [00:16<00:11,  5.53s/it]"
     ]
    },
    {
     "name": "stdout",
     "output_type": "stream",
     "text": [
      "callback number at 3-th average end: 27\n",
      "\n"
     ]
    },
    {
     "name": "stderr",
     "output_type": "stream",
     "text": [
      " 80%|████████  | 4/5 [00:22<00:05,  5.53s/it]"
     ]
    },
    {
     "name": "stdout",
     "output_type": "stream",
     "text": [
      "callback number at 4-th average end: 36\n",
      "\n"
     ]
    },
    {
     "name": "stderr",
     "output_type": "stream",
     "text": [
      "100%|██████████| 5/5 [00:27<00:00,  5.53s/it]"
     ]
    },
    {
     "name": "stdout",
     "output_type": "stream",
     "text": [
      "callback number at 5-th average end: 45\n",
      "\n",
      "Crosscheck number of averges= 5\n"
     ]
    },
    {
     "name": "stderr",
     "output_type": "stream",
     "text": [
      "\n"
     ]
    }
   ],
   "source": [
    "### Data Collection and Plotting \n",
    "signal_data  = lifetime(pulse_args)"
   ]
  },
  {
   "cell_type": "code",
   "execution_count": 41,
   "metadata": {
    "jupyter": {
     "source_hidden": true
    }
   },
   "outputs": [],
   "source": [
    "fig_template = go.layout.Template()\n",
    "fig_template.layout = {\n",
    "    'template': 'simple_white+presentation',\n",
    "    'autosize': False,\n",
    "    'width': 800,\n",
    "    'height': 600,\n",
    "    # 'opacity': 0.2,\n",
    "    'xaxis': {\n",
    "        'ticks': 'inside',\n",
    "        'mirror': 'ticks',\n",
    "        'linewidth': 1.5+0.5,\n",
    "        'tickwidth': 1.5+0.5,\n",
    "        'ticklen': 6,\n",
    "        'showline': True,\n",
    "        'showgrid': False,\n",
    "        'zerolinecolor': 'white',\n",
    "        },\n",
    "    'yaxis': {\n",
    "        'ticks': 'inside',\n",
    "        'mirror': 'ticks',\n",
    "        'linewidth': 1.5+0.5,\n",
    "        'tickwidth': 1.5+0.5,\n",
    "        'ticklen': 6,\n",
    "        'showline': True,\n",
    "        'showgrid': False,\n",
    "        'zerolinecolor': 'white'\n",
    "        },\n",
    "    'font':{'family':'mathjax',\n",
    "            'size': 22,\n",
    "            }\n",
    "}"
   ]
  },
  {
   "cell_type": "code",
   "execution_count": 121,
   "metadata": {},
   "outputs": [
    {
     "name": "stdout",
     "output_type": "stream",
     "text": [
      "Lifetime in nano_second is : 58832.52743493998.\n",
      "\n",
      "Chi_square, p-value and Condition Number are : 0.009\t1.0\t289566271788.53.\n",
      "\n"
     ]
    }
   ],
   "source": [
    "y_old = signal_data\n",
    "x_old = delay1+delay2+read_on+timeRange[:-1] # as we are neglecting the last step\n",
    "timescale = 1e3\n",
    "guess_params = np.array([0.3,1,50*timescale])  # (y0,y_max,tau)\n",
    "fit_range = np.array([0,300])*timescale # provide (x_min,x_max) or 'False'(for all x_range)\n",
    "xOld,yOld,xNew,yNew,coefficient,error_bars = lifetime_fit(x_old,y_old,guess_params,pulse_args,fit_range)"
   ]
  },
  {
   "cell_type": "code",
   "execution_count": 122,
   "metadata": {},
   "outputs": [
    {
     "name": "stdout",
     "output_type": "stream",
     "text": [
      "Saving file is successful\n",
      "\n"
     ]
    },
    {
     "data": {
      "application/vnd.plotly.v1+json": {
       "config": {
        "plotlyServerURL": "https://plot.ly"
       },
       "data": [
        {
         "mode": "markers",
         "name": "Experimental Data",
         "type": "scatter",
         "x": [
          4032,
          39587.555555555555,
          75143.11111111111,
          110698.66666666666,
          146254.22222222222,
          181809.77777777778,
          217365.3333333333,
          252920.88888888888,
          288476.44444444444
         ],
         "y": [
          0.943859649122807,
          0.514599005482596,
          0.30941619585687385,
          0.20773790951638066,
          0.13770430208529022,
          0.09922287845819087,
          0.0731646671225213,
          0.05154124547610133,
          0.04029777285591239
         ]
        },
        {
         "mode": "lines",
         "name": "Fitted Curve",
         "type": "scatter",
         "x": [
          4032,
          39587.555555555555,
          75143.11111111111,
          110698.66666666666,
          146254.22222222222,
          181809.77777777778,
          217365.3333333333,
          252920.88888888888,
          288476.44444444444
         ],
         "y": [
          0.9364496150726499,
          0.53315849337883,
          0.3127887717658738,
          0.19237249778540952,
          0.12657362608376388,
          0.09061925402013396,
          0.0709727640871219,
          0.06023736406386877,
          0.05437123662572471
         ]
        }
       ],
       "layout": {
        "annotations": [
         {
          "align": "left",
          "font": {
           "family": "Times New Roman",
           "size": 20
          },
          "showarrow": false,
          "text": "<b>y<sub>0</sub></b> : 0.047 &plusmn; 0.009    <br><b>y<sub>max</sub></b> : 0.952 &plusmn; 0.016    <br><b>τ</b> : 58.833 &plusmn; 2.388 &mu;s",
          "x": 0.95,
          "xref": "x domain",
          "y": 0.95,
          "yref": "y domain"
         }
        ],
        "height": 600,
        "template": {
         "layout": {
          "autosize": false,
          "font": {
           "family": "mathjax",
           "size": 22
          },
          "height": 600,
          "template": {
           "data": {
            "bar": [
             {
              "error_x": {
               "color": "rgb(36,36,36)"
              },
              "error_y": {
               "color": "rgb(36,36,36)"
              },
              "marker": {
               "line": {
                "color": "white",
                "width": 0.5
               },
               "pattern": {
                "fillmode": "overlay",
                "size": 10,
                "solidity": 0.2
               }
              },
              "type": "bar"
             }
            ],
            "barpolar": [
             {
              "marker": {
               "line": {
                "color": "white",
                "width": 0.5
               },
               "pattern": {
                "fillmode": "overlay",
                "size": 10,
                "solidity": 0.2
               }
              },
              "type": "barpolar"
             }
            ],
            "carpet": [
             {
              "aaxis": {
               "endlinecolor": "rgb(36,36,36)",
               "gridcolor": "white",
               "linecolor": "white",
               "minorgridcolor": "white",
               "startlinecolor": "rgb(36,36,36)"
              },
              "baxis": {
               "endlinecolor": "rgb(36,36,36)",
               "gridcolor": "white",
               "linecolor": "white",
               "minorgridcolor": "white",
               "startlinecolor": "rgb(36,36,36)"
              },
              "type": "carpet"
             }
            ],
            "choropleth": [
             {
              "colorbar": {
               "outlinewidth": 1,
               "tickcolor": "rgb(36,36,36)",
               "ticks": "outside"
              },
              "type": "choropleth"
             }
            ],
            "contour": [
             {
              "colorbar": {
               "outlinewidth": 1,
               "tickcolor": "rgb(36,36,36)",
               "ticks": "outside"
              },
              "colorscale": [
               [
                0,
                "#440154"
               ],
               [
                0.1111111111111111,
                "#482878"
               ],
               [
                0.2222222222222222,
                "#3e4989"
               ],
               [
                0.3333333333333333,
                "#31688e"
               ],
               [
                0.4444444444444444,
                "#26828e"
               ],
               [
                0.5555555555555556,
                "#1f9e89"
               ],
               [
                0.6666666666666666,
                "#35b779"
               ],
               [
                0.7777777777777778,
                "#6ece58"
               ],
               [
                0.8888888888888888,
                "#b5de2b"
               ],
               [
                1,
                "#fde725"
               ]
              ],
              "type": "contour"
             }
            ],
            "contourcarpet": [
             {
              "colorbar": {
               "outlinewidth": 1,
               "tickcolor": "rgb(36,36,36)",
               "ticks": "outside"
              },
              "type": "contourcarpet"
             }
            ],
            "heatmap": [
             {
              "colorbar": {
               "outlinewidth": 1,
               "tickcolor": "rgb(36,36,36)",
               "ticks": "outside"
              },
              "colorscale": [
               [
                0,
                "#440154"
               ],
               [
                0.1111111111111111,
                "#482878"
               ],
               [
                0.2222222222222222,
                "#3e4989"
               ],
               [
                0.3333333333333333,
                "#31688e"
               ],
               [
                0.4444444444444444,
                "#26828e"
               ],
               [
                0.5555555555555556,
                "#1f9e89"
               ],
               [
                0.6666666666666666,
                "#35b779"
               ],
               [
                0.7777777777777778,
                "#6ece58"
               ],
               [
                0.8888888888888888,
                "#b5de2b"
               ],
               [
                1,
                "#fde725"
               ]
              ],
              "type": "heatmap"
             }
            ],
            "heatmapgl": [
             {
              "colorbar": {
               "outlinewidth": 1,
               "tickcolor": "rgb(36,36,36)",
               "ticks": "outside"
              },
              "colorscale": [
               [
                0,
                "#440154"
               ],
               [
                0.1111111111111111,
                "#482878"
               ],
               [
                0.2222222222222222,
                "#3e4989"
               ],
               [
                0.3333333333333333,
                "#31688e"
               ],
               [
                0.4444444444444444,
                "#26828e"
               ],
               [
                0.5555555555555556,
                "#1f9e89"
               ],
               [
                0.6666666666666666,
                "#35b779"
               ],
               [
                0.7777777777777778,
                "#6ece58"
               ],
               [
                0.8888888888888888,
                "#b5de2b"
               ],
               [
                1,
                "#fde725"
               ]
              ],
              "type": "heatmapgl"
             }
            ],
            "histogram": [
             {
              "marker": {
               "line": {
                "color": "white",
                "width": 0.6
               }
              },
              "type": "histogram"
             }
            ],
            "histogram2d": [
             {
              "colorbar": {
               "outlinewidth": 1,
               "tickcolor": "rgb(36,36,36)",
               "ticks": "outside"
              },
              "colorscale": [
               [
                0,
                "#440154"
               ],
               [
                0.1111111111111111,
                "#482878"
               ],
               [
                0.2222222222222222,
                "#3e4989"
               ],
               [
                0.3333333333333333,
                "#31688e"
               ],
               [
                0.4444444444444444,
                "#26828e"
               ],
               [
                0.5555555555555556,
                "#1f9e89"
               ],
               [
                0.6666666666666666,
                "#35b779"
               ],
               [
                0.7777777777777778,
                "#6ece58"
               ],
               [
                0.8888888888888888,
                "#b5de2b"
               ],
               [
                1,
                "#fde725"
               ]
              ],
              "type": "histogram2d"
             }
            ],
            "histogram2dcontour": [
             {
              "colorbar": {
               "outlinewidth": 1,
               "tickcolor": "rgb(36,36,36)",
               "ticks": "outside"
              },
              "colorscale": [
               [
                0,
                "#440154"
               ],
               [
                0.1111111111111111,
                "#482878"
               ],
               [
                0.2222222222222222,
                "#3e4989"
               ],
               [
                0.3333333333333333,
                "#31688e"
               ],
               [
                0.4444444444444444,
                "#26828e"
               ],
               [
                0.5555555555555556,
                "#1f9e89"
               ],
               [
                0.6666666666666666,
                "#35b779"
               ],
               [
                0.7777777777777778,
                "#6ece58"
               ],
               [
                0.8888888888888888,
                "#b5de2b"
               ],
               [
                1,
                "#fde725"
               ]
              ],
              "type": "histogram2dcontour"
             }
            ],
            "mesh3d": [
             {
              "colorbar": {
               "outlinewidth": 1,
               "tickcolor": "rgb(36,36,36)",
               "ticks": "outside"
              },
              "type": "mesh3d"
             }
            ],
            "parcoords": [
             {
              "line": {
               "colorbar": {
                "outlinewidth": 1,
                "tickcolor": "rgb(36,36,36)",
                "ticks": "outside"
               }
              },
              "type": "parcoords"
             }
            ],
            "pie": [
             {
              "automargin": true,
              "type": "pie"
             }
            ],
            "scatter": [
             {
              "fillpattern": {
               "fillmode": "overlay",
               "size": 10,
               "solidity": 0.2
              },
              "line": {
               "width": 3
              },
              "marker": {
               "size": 9
              },
              "type": "scatter"
             }
            ],
            "scatter3d": [
             {
              "line": {
               "colorbar": {
                "outlinewidth": 1,
                "tickcolor": "rgb(36,36,36)",
                "ticks": "outside"
               },
               "width": 3
              },
              "marker": {
               "colorbar": {
                "outlinewidth": 1,
                "tickcolor": "rgb(36,36,36)",
                "ticks": "outside"
               },
               "size": 9
              },
              "type": "scatter3d"
             }
            ],
            "scattercarpet": [
             {
              "marker": {
               "colorbar": {
                "outlinewidth": 1,
                "tickcolor": "rgb(36,36,36)",
                "ticks": "outside"
               }
              },
              "type": "scattercarpet"
             }
            ],
            "scattergeo": [
             {
              "line": {
               "width": 3
              },
              "marker": {
               "colorbar": {
                "outlinewidth": 1,
                "tickcolor": "rgb(36,36,36)",
                "ticks": "outside"
               },
               "size": 9
              },
              "type": "scattergeo"
             }
            ],
            "scattergl": [
             {
              "line": {
               "width": 3
              },
              "marker": {
               "colorbar": {
                "outlinewidth": 1,
                "tickcolor": "rgb(36,36,36)",
                "ticks": "outside"
               },
               "size": 9
              },
              "type": "scattergl"
             }
            ],
            "scattermapbox": [
             {
              "marker": {
               "colorbar": {
                "outlinewidth": 1,
                "tickcolor": "rgb(36,36,36)",
                "ticks": "outside"
               }
              },
              "type": "scattermapbox"
             }
            ],
            "scatterpolar": [
             {
              "line": {
               "width": 3
              },
              "marker": {
               "colorbar": {
                "outlinewidth": 1,
                "tickcolor": "rgb(36,36,36)",
                "ticks": "outside"
               },
               "size": 9
              },
              "type": "scatterpolar"
             }
            ],
            "scatterpolargl": [
             {
              "line": {
               "width": 3
              },
              "marker": {
               "colorbar": {
                "outlinewidth": 1,
                "tickcolor": "rgb(36,36,36)",
                "ticks": "outside"
               },
               "size": 9
              },
              "type": "scatterpolargl"
             }
            ],
            "scatterternary": [
             {
              "line": {
               "width": 3
              },
              "marker": {
               "colorbar": {
                "outlinewidth": 1,
                "tickcolor": "rgb(36,36,36)",
                "ticks": "outside"
               },
               "size": 9
              },
              "type": "scatterternary"
             }
            ],
            "surface": [
             {
              "colorbar": {
               "outlinewidth": 1,
               "tickcolor": "rgb(36,36,36)",
               "ticks": "outside"
              },
              "colorscale": [
               [
                0,
                "#440154"
               ],
               [
                0.1111111111111111,
                "#482878"
               ],
               [
                0.2222222222222222,
                "#3e4989"
               ],
               [
                0.3333333333333333,
                "#31688e"
               ],
               [
                0.4444444444444444,
                "#26828e"
               ],
               [
                0.5555555555555556,
                "#1f9e89"
               ],
               [
                0.6666666666666666,
                "#35b779"
               ],
               [
                0.7777777777777778,
                "#6ece58"
               ],
               [
                0.8888888888888888,
                "#b5de2b"
               ],
               [
                1,
                "#fde725"
               ]
              ],
              "type": "surface"
             }
            ],
            "table": [
             {
              "cells": {
               "fill": {
                "color": "rgb(237,237,237)"
               },
               "height": 30,
               "line": {
                "color": "white"
               }
              },
              "header": {
               "fill": {
                "color": "rgb(217,217,217)"
               },
               "height": 36,
               "line": {
                "color": "white"
               }
              },
              "type": "table"
             }
            ]
           },
           "layout": {
            "annotationdefaults": {
             "arrowhead": 0,
             "arrowwidth": 1
            },
            "autotypenumbers": "strict",
            "coloraxis": {
             "colorbar": {
              "outlinewidth": 1,
              "tickcolor": "rgb(36,36,36)",
              "ticks": "outside"
             }
            },
            "colorscale": {
             "diverging": [
              [
               0,
               "rgb(103,0,31)"
              ],
              [
               0.1,
               "rgb(178,24,43)"
              ],
              [
               0.2,
               "rgb(214,96,77)"
              ],
              [
               0.3,
               "rgb(244,165,130)"
              ],
              [
               0.4,
               "rgb(253,219,199)"
              ],
              [
               0.5,
               "rgb(247,247,247)"
              ],
              [
               0.6,
               "rgb(209,229,240)"
              ],
              [
               0.7,
               "rgb(146,197,222)"
              ],
              [
               0.8,
               "rgb(67,147,195)"
              ],
              [
               0.9,
               "rgb(33,102,172)"
              ],
              [
               1,
               "rgb(5,48,97)"
              ]
             ],
             "sequential": [
              [
               0,
               "#440154"
              ],
              [
               0.1111111111111111,
               "#482878"
              ],
              [
               0.2222222222222222,
               "#3e4989"
              ],
              [
               0.3333333333333333,
               "#31688e"
              ],
              [
               0.4444444444444444,
               "#26828e"
              ],
              [
               0.5555555555555556,
               "#1f9e89"
              ],
              [
               0.6666666666666666,
               "#35b779"
              ],
              [
               0.7777777777777778,
               "#6ece58"
              ],
              [
               0.8888888888888888,
               "#b5de2b"
              ],
              [
               1,
               "#fde725"
              ]
             ],
             "sequentialminus": [
              [
               0,
               "#440154"
              ],
              [
               0.1111111111111111,
               "#482878"
              ],
              [
               0.2222222222222222,
               "#3e4989"
              ],
              [
               0.3333333333333333,
               "#31688e"
              ],
              [
               0.4444444444444444,
               "#26828e"
              ],
              [
               0.5555555555555556,
               "#1f9e89"
              ],
              [
               0.6666666666666666,
               "#35b779"
              ],
              [
               0.7777777777777778,
               "#6ece58"
              ],
              [
               0.8888888888888888,
               "#b5de2b"
              ],
              [
               1,
               "#fde725"
              ]
             ]
            },
            "colorway": [
             "#1F77B4",
             "#FF7F0E",
             "#2CA02C",
             "#D62728",
             "#9467BD",
             "#8C564B",
             "#E377C2",
             "#7F7F7F",
             "#BCBD22",
             "#17BECF"
            ],
            "font": {
             "color": "rgb(36,36,36)",
             "size": 18
            },
            "geo": {
             "bgcolor": "white",
             "lakecolor": "white",
             "landcolor": "white",
             "showlakes": true,
             "showland": true,
             "subunitcolor": "white"
            },
            "hoverlabel": {
             "align": "left"
            },
            "hovermode": "closest",
            "mapbox": {
             "style": "light"
            },
            "paper_bgcolor": "white",
            "plot_bgcolor": "white",
            "polar": {
             "angularaxis": {
              "gridcolor": "rgb(232,232,232)",
              "linecolor": "rgb(36,36,36)",
              "showgrid": false,
              "showline": true,
              "ticks": "outside"
             },
             "bgcolor": "white",
             "radialaxis": {
              "gridcolor": "rgb(232,232,232)",
              "linecolor": "rgb(36,36,36)",
              "showgrid": false,
              "showline": true,
              "ticks": "outside"
             }
            },
            "scene": {
             "xaxis": {
              "backgroundcolor": "white",
              "gridcolor": "rgb(232,232,232)",
              "gridwidth": 2,
              "linecolor": "rgb(36,36,36)",
              "showbackground": true,
              "showgrid": false,
              "showline": true,
              "ticks": "outside",
              "zeroline": false,
              "zerolinecolor": "rgb(36,36,36)"
             },
             "yaxis": {
              "backgroundcolor": "white",
              "gridcolor": "rgb(232,232,232)",
              "gridwidth": 2,
              "linecolor": "rgb(36,36,36)",
              "showbackground": true,
              "showgrid": false,
              "showline": true,
              "ticks": "outside",
              "zeroline": false,
              "zerolinecolor": "rgb(36,36,36)"
             },
             "zaxis": {
              "backgroundcolor": "white",
              "gridcolor": "rgb(232,232,232)",
              "gridwidth": 2,
              "linecolor": "rgb(36,36,36)",
              "showbackground": true,
              "showgrid": false,
              "showline": true,
              "ticks": "outside",
              "zeroline": false,
              "zerolinecolor": "rgb(36,36,36)"
             }
            },
            "shapedefaults": {
             "fillcolor": "black",
             "line": {
              "width": 0
             },
             "opacity": 0.3
            },
            "ternary": {
             "aaxis": {
              "gridcolor": "rgb(232,232,232)",
              "linecolor": "rgb(36,36,36)",
              "showgrid": false,
              "showline": true,
              "ticks": "outside"
             },
             "baxis": {
              "gridcolor": "rgb(232,232,232)",
              "linecolor": "rgb(36,36,36)",
              "showgrid": false,
              "showline": true,
              "ticks": "outside"
             },
             "bgcolor": "white",
             "caxis": {
              "gridcolor": "rgb(232,232,232)",
              "linecolor": "rgb(36,36,36)",
              "showgrid": false,
              "showline": true,
              "ticks": "outside"
             }
            },
            "title": {
             "x": 0.05
            },
            "xaxis": {
             "automargin": true,
             "gridcolor": "rgb(232,232,232)",
             "linecolor": "rgb(36,36,36)",
             "showgrid": false,
             "showline": true,
             "ticks": "outside",
             "title": {
              "standoff": 15
             },
             "zeroline": false,
             "zerolinecolor": "rgb(36,36,36)"
            },
            "yaxis": {
             "automargin": true,
             "gridcolor": "rgb(232,232,232)",
             "linecolor": "rgb(36,36,36)",
             "showgrid": false,
             "showline": true,
             "ticks": "outside",
             "title": {
              "standoff": 15
             },
             "zeroline": false,
             "zerolinecolor": "rgb(36,36,36)"
            }
           }
          },
          "width": 800,
          "xaxis": {
           "linewidth": 2,
           "mirror": "ticks",
           "showgrid": false,
           "showline": true,
           "ticklen": 6,
           "ticks": "inside",
           "tickwidth": 2,
           "zerolinecolor": "white"
          },
          "yaxis": {
           "linewidth": 2,
           "mirror": "ticks",
           "showgrid": false,
           "showline": true,
           "ticklen": 6,
           "ticks": "inside",
           "tickwidth": 2,
           "zerolinecolor": "white"
          }
         }
        },
        "width": 800,
        "xaxis": {
         "autorange": true,
         "range": [
          -14527.354888733818,
          307035.79933317826
         ],
         "title": {
          "text": "Time (ns)"
         },
         "type": "linear"
        },
        "yaxis": {
         "autorange": true,
         "range": [
          -0.020061623736815373,
          1.0042190457155347
         ],
         "title": {
          "text": "Signal_counts"
         },
         "type": "linear"
        }
       }
      },
      "image/png": "[encoded data removed]",
      "text/html": [
       "<div>                            <div id=\"be6f3426-ba10-4be0-b758-cb1520eef4c1\" class=\"plotly-graph-div\" style=\"height:600px; width:800px;\"></div>            <script type=\"text/javascript\">                require([\"plotly\"], function(Plotly) {                    window.PLOTLYENV=window.PLOTLYENV || {};                                    if (document.getElementById(\"be6f3426-ba10-4be0-b758-cb1520eef4c1\")) {                    Plotly.newPlot(                        \"be6f3426-ba10-4be0-b758-cb1520eef4c1\",                        [{\"mode\":\"markers\",\"name\":\"Experimental Data\",\"x\":[4032.0,39587.555555555555,75143.11111111111,110698.66666666666,146254.22222222222,181809.77777777778,217365.3333333333,252920.88888888888,288476.44444444444],\"y\":[0.943859649122807,0.514599005482596,0.30941619585687385,0.20773790951638066,0.13770430208529022,0.09922287845819087,0.0731646671225213,0.05154124547610133,0.04029777285591239],\"type\":\"scatter\"},{\"mode\":\"lines\",\"name\":\"Fitted Curve\",\"x\":[4032.0,39587.555555555555,75143.11111111111,110698.66666666666,146254.22222222222,181809.77777777778,217365.3333333333,252920.88888888888,288476.44444444444],\"y\":[0.9364496150726499,0.53315849337883,0.3127887717658738,0.19237249778540952,0.12657362608376388,0.09061925402013396,0.0709727640871219,0.06023736406386877,0.05437123662572471],\"type\":\"scatter\"}],                        {\"template\":{\"layout\":{\"autosize\":false,\"font\":{\"family\":\"mathjax\",\"size\":22},\"height\":600,\"template\":{\"data\":{\"barpolar\":[{\"marker\":{\"line\":{\"color\":\"white\",\"width\":0.5},\"pattern\":{\"fillmode\":\"overlay\",\"size\":10,\"solidity\":0.2}},\"type\":\"barpolar\"}],\"bar\":[{\"error_x\":{\"color\":\"rgb(36,36,36)\"},\"error_y\":{\"color\":\"rgb(36,36,36)\"},\"marker\":{\"line\":{\"color\":\"white\",\"width\":0.5},\"pattern\":{\"fillmode\":\"overlay\",\"size\":10,\"solidity\":0.2}},\"type\":\"bar\"}],\"carpet\":[{\"aaxis\":{\"endlinecolor\":\"rgb(36,36,36)\",\"gridcolor\":\"white\",\"linecolor\":\"white\",\"minorgridcolor\":\"white\",\"startlinecolor\":\"rgb(36,36,36)\"},\"baxis\":{\"endlinecolor\":\"rgb(36,36,36)\",\"gridcolor\":\"white\",\"linecolor\":\"white\",\"minorgridcolor\":\"white\",\"startlinecolor\":\"rgb(36,36,36)\"},\"type\":\"carpet\"}],\"choropleth\":[{\"colorbar\":{\"outlinewidth\":1,\"tickcolor\":\"rgb(36,36,36)\",\"ticks\":\"outside\"},\"type\":\"choropleth\"}],\"contourcarpet\":[{\"colorbar\":{\"outlinewidth\":1,\"tickcolor\":\"rgb(36,36,36)\",\"ticks\":\"outside\"},\"type\":\"contourcarpet\"}],\"contour\":[{\"colorbar\":{\"outlinewidth\":1,\"tickcolor\":\"rgb(36,36,36)\",\"ticks\":\"outside\"},\"colorscale\":[[0.0,\"#440154\"],[0.1111111111111111,\"#482878\"],[0.2222222222222222,\"#3e4989\"],[0.3333333333333333,\"#31688e\"],[0.4444444444444444,\"#26828e\"],[0.5555555555555556,\"#1f9e89\"],[0.6666666666666666,\"#35b779\"],[0.7777777777777778,\"#6ece58\"],[0.8888888888888888,\"#b5de2b\"],[1.0,\"#fde725\"]],\"type\":\"contour\"}],\"heatmapgl\":[{\"colorbar\":{\"outlinewidth\":1,\"tickcolor\":\"rgb(36,36,36)\",\"ticks\":\"outside\"},\"colorscale\":[[0.0,\"#440154\"],[0.1111111111111111,\"#482878\"],[0.2222222222222222,\"#3e4989\"],[0.3333333333333333,\"#31688e\"],[0.4444444444444444,\"#26828e\"],[0.5555555555555556,\"#1f9e89\"],[0.6666666666666666,\"#35b779\"],[0.7777777777777778,\"#6ece58\"],[0.8888888888888888,\"#b5de2b\"],[1.0,\"#fde725\"]],\"type\":\"heatmapgl\"}],\"heatmap\":[{\"colorbar\":{\"outlinewidth\":1,\"tickcolor\":\"rgb(36,36,36)\",\"ticks\":\"outside\"},\"colorscale\":[[0.0,\"#440154\"],[0.1111111111111111,\"#482878\"],[0.2222222222222222,\"#3e4989\"],[0.3333333333333333,\"#31688e\"],[0.4444444444444444,\"#26828e\"],[0.5555555555555556,\"#1f9e89\"],[0.6666666666666666,\"#35b779\"],[0.7777777777777778,\"#6ece58\"],[0.8888888888888888,\"#b5de2b\"],[1.0,\"#fde725\"]],\"type\":\"heatmap\"}],\"histogram2dcontour\":[{\"colorbar\":{\"outlinewidth\":1,\"tickcolor\":\"rgb(36,36,36)\",\"ticks\":\"outside\"},\"colorscale\":[[0.0,\"#440154\"],[0.1111111111111111,\"#482878\"],[0.2222222222222222,\"#3e4989\"],[0.3333333333333333,\"#31688e\"],[0.4444444444444444,\"#26828e\"],[0.5555555555555556,\"#1f9e89\"],[0.6666666666666666,\"#35b779\"],[0.7777777777777778,\"#6ece58\"],[0.8888888888888888,\"#b5de2b\"],[1.0,\"#fde725\"]],\"type\":\"histogram2dcontour\"}],\"histogram2d\":[{\"colorbar\":{\"outlinewidth\":1,\"tickcolor\":\"rgb(36,36,36)\",\"ticks\":\"outside\"},\"colorscale\":[[0.0,\"#440154\"],[0.1111111111111111,\"#482878\"],[0.2222222222222222,\"#3e4989\"],[0.3333333333333333,\"#31688e\"],[0.4444444444444444,\"#26828e\"],[0.5555555555555556,\"#1f9e89\"],[0.6666666666666666,\"#35b779\"],[0.7777777777777778,\"#6ece58\"],[0.8888888888888888,\"#b5de2b\"],[1.0,\"#fde725\"]],\"type\":\"histogram2d\"}],\"histogram\":[{\"marker\":{\"line\":{\"color\":\"white\",\"width\":0.6}},\"type\":\"histogram\"}],\"mesh3d\":[{\"colorbar\":{\"outlinewidth\":1,\"tickcolor\":\"rgb(36,36,36)\",\"ticks\":\"outside\"},\"type\":\"mesh3d\"}],\"parcoords\":[{\"line\":{\"colorbar\":{\"outlinewidth\":1,\"tickcolor\":\"rgb(36,36,36)\",\"ticks\":\"outside\"}},\"type\":\"parcoords\"}],\"pie\":[{\"automargin\":true,\"type\":\"pie\"}],\"scatter3d\":[{\"line\":{\"colorbar\":{\"outlinewidth\":1,\"tickcolor\":\"rgb(36,36,36)\",\"ticks\":\"outside\"},\"width\":3},\"marker\":{\"colorbar\":{\"outlinewidth\":1,\"tickcolor\":\"rgb(36,36,36)\",\"ticks\":\"outside\"},\"size\":9},\"type\":\"scatter3d\"}],\"scattercarpet\":[{\"marker\":{\"colorbar\":{\"outlinewidth\":1,\"tickcolor\":\"rgb(36,36,36)\",\"ticks\":\"outside\"}},\"type\":\"scattercarpet\"}],\"scattergeo\":[{\"line\":{\"width\":3},\"marker\":{\"colorbar\":{\"outlinewidth\":1,\"tickcolor\":\"rgb(36,36,36)\",\"ticks\":\"outside\"},\"size\":9},\"type\":\"scattergeo\"}],\"scattergl\":[{\"line\":{\"width\":3},\"marker\":{\"colorbar\":{\"outlinewidth\":1,\"tickcolor\":\"rgb(36,36,36)\",\"ticks\":\"outside\"},\"size\":9},\"type\":\"scattergl\"}],\"scattermapbox\":[{\"marker\":{\"colorbar\":{\"outlinewidth\":1,\"tickcolor\":\"rgb(36,36,36)\",\"ticks\":\"outside\"}},\"type\":\"scattermapbox\"}],\"scatterpolargl\":[{\"line\":{\"width\":3},\"marker\":{\"colorbar\":{\"outlinewidth\":1,\"tickcolor\":\"rgb(36,36,36)\",\"ticks\":\"outside\"},\"size\":9},\"type\":\"scatterpolargl\"}],\"scatterpolar\":[{\"line\":{\"width\":3},\"marker\":{\"colorbar\":{\"outlinewidth\":1,\"tickcolor\":\"rgb(36,36,36)\",\"ticks\":\"outside\"},\"size\":9},\"type\":\"scatterpolar\"}],\"scatter\":[{\"fillpattern\":{\"fillmode\":\"overlay\",\"size\":10,\"solidity\":0.2},\"line\":{\"width\":3},\"marker\":{\"size\":9},\"type\":\"scatter\"}],\"scatterternary\":[{\"line\":{\"width\":3},\"marker\":{\"colorbar\":{\"outlinewidth\":1,\"tickcolor\":\"rgb(36,36,36)\",\"ticks\":\"outside\"},\"size\":9},\"type\":\"scatterternary\"}],\"surface\":[{\"colorbar\":{\"outlinewidth\":1,\"tickcolor\":\"rgb(36,36,36)\",\"ticks\":\"outside\"},\"colorscale\":[[0.0,\"#440154\"],[0.1111111111111111,\"#482878\"],[0.2222222222222222,\"#3e4989\"],[0.3333333333333333,\"#31688e\"],[0.4444444444444444,\"#26828e\"],[0.5555555555555556,\"#1f9e89\"],[0.6666666666666666,\"#35b779\"],[0.7777777777777778,\"#6ece58\"],[0.8888888888888888,\"#b5de2b\"],[1.0,\"#fde725\"]],\"type\":\"surface\"}],\"table\":[{\"cells\":{\"fill\":{\"color\":\"rgb(237,237,237)\"},\"height\":30,\"line\":{\"color\":\"white\"}},\"header\":{\"fill\":{\"color\":\"rgb(217,217,217)\"},\"height\":36,\"line\":{\"color\":\"white\"}},\"type\":\"table\"}]},\"layout\":{\"annotationdefaults\":{\"arrowhead\":0,\"arrowwidth\":1},\"autotypenumbers\":\"strict\",\"coloraxis\":{\"colorbar\":{\"outlinewidth\":1,\"tickcolor\":\"rgb(36,36,36)\",\"ticks\":\"outside\"}},\"colorscale\":{\"diverging\":[[0.0,\"rgb(103,0,31)\"],[0.1,\"rgb(178,24,43)\"],[0.2,\"rgb(214,96,77)\"],[0.3,\"rgb(244,165,130)\"],[0.4,\"rgb(253,219,199)\"],[0.5,\"rgb(247,247,247)\"],[0.6,\"rgb(209,229,240)\"],[0.7,\"rgb(146,197,222)\"],[0.8,\"rgb(67,147,195)\"],[0.9,\"rgb(33,102,172)\"],[1.0,\"rgb(5,48,97)\"]],\"sequential\":[[0.0,\"#440154\"],[0.1111111111111111,\"#482878\"],[0.2222222222222222,\"#3e4989\"],[0.3333333333333333,\"#31688e\"],[0.4444444444444444,\"#26828e\"],[0.5555555555555556,\"#1f9e89\"],[0.6666666666666666,\"#35b779\"],[0.7777777777777778,\"#6ece58\"],[0.8888888888888888,\"#b5de2b\"],[1.0,\"#fde725\"]],\"sequentialminus\":[[0.0,\"#440154\"],[0.1111111111111111,\"#482878\"],[0.2222222222222222,\"#3e4989\"],[0.3333333333333333,\"#31688e\"],[0.4444444444444444,\"#26828e\"],[0.5555555555555556,\"#1f9e89\"],[0.6666666666666666,\"#35b779\"],[0.7777777777777778,\"#6ece58\"],[0.8888888888888888,\"#b5de2b\"],[1.0,\"#fde725\"]]},\"colorway\":[\"#1F77B4\",\"#FF7F0E\",\"#2CA02C\",\"#D62728\",\"#9467BD\",\"#8C564B\",\"#E377C2\",\"#7F7F7F\",\"#BCBD22\",\"#17BECF\"],\"font\":{\"color\":\"rgb(36,36,36)\",\"size\":18},\"geo\":{\"bgcolor\":\"white\",\"lakecolor\":\"white\",\"landcolor\":\"white\",\"showlakes\":true,\"showland\":true,\"subunitcolor\":\"white\"},\"hoverlabel\":{\"align\":\"left\"},\"hovermode\":\"closest\",\"mapbox\":{\"style\":\"light\"},\"paper_bgcolor\":\"white\",\"plot_bgcolor\":\"white\",\"polar\":{\"angularaxis\":{\"gridcolor\":\"rgb(232,232,232)\",\"linecolor\":\"rgb(36,36,36)\",\"showgrid\":false,\"showline\":true,\"ticks\":\"outside\"},\"bgcolor\":\"white\",\"radialaxis\":{\"gridcolor\":\"rgb(232,232,232)\",\"linecolor\":\"rgb(36,36,36)\",\"showgrid\":false,\"showline\":true,\"ticks\":\"outside\"}},\"scene\":{\"xaxis\":{\"backgroundcolor\":\"white\",\"gridcolor\":\"rgb(232,232,232)\",\"gridwidth\":2,\"linecolor\":\"rgb(36,36,36)\",\"showbackground\":true,\"showgrid\":false,\"showline\":true,\"ticks\":\"outside\",\"zeroline\":false,\"zerolinecolor\":\"rgb(36,36,36)\"},\"yaxis\":{\"backgroundcolor\":\"white\",\"gridcolor\":\"rgb(232,232,232)\",\"gridwidth\":2,\"linecolor\":\"rgb(36,36,36)\",\"showbackground\":true,\"showgrid\":false,\"showline\":true,\"ticks\":\"outside\",\"zeroline\":false,\"zerolinecolor\":\"rgb(36,36,36)\"},\"zaxis\":{\"backgroundcolor\":\"white\",\"gridcolor\":\"rgb(232,232,232)\",\"gridwidth\":2,\"linecolor\":\"rgb(36,36,36)\",\"showbackground\":true,\"showgrid\":false,\"showline\":true,\"ticks\":\"outside\",\"zeroline\":false,\"zerolinecolor\":\"rgb(36,36,36)\"}},\"shapedefaults\":{\"fillcolor\":\"black\",\"line\":{\"width\":0},\"opacity\":0.3},\"ternary\":{\"aaxis\":{\"gridcolor\":\"rgb(232,232,232)\",\"linecolor\":\"rgb(36,36,36)\",\"showgrid\":false,\"showline\":true,\"ticks\":\"outside\"},\"baxis\":{\"gridcolor\":\"rgb(232,232,232)\",\"linecolor\":\"rgb(36,36,36)\",\"showgrid\":false,\"showline\":true,\"ticks\":\"outside\"},\"bgcolor\":\"white\",\"caxis\":{\"gridcolor\":\"rgb(232,232,232)\",\"linecolor\":\"rgb(36,36,36)\",\"showgrid\":false,\"showline\":true,\"ticks\":\"outside\"}},\"title\":{\"x\":0.05},\"xaxis\":{\"automargin\":true,\"gridcolor\":\"rgb(232,232,232)\",\"linecolor\":\"rgb(36,36,36)\",\"showgrid\":false,\"showline\":true,\"ticks\":\"outside\",\"title\":{\"standoff\":15},\"zeroline\":false,\"zerolinecolor\":\"rgb(36,36,36)\"},\"yaxis\":{\"automargin\":true,\"gridcolor\":\"rgb(232,232,232)\",\"linecolor\":\"rgb(36,36,36)\",\"showgrid\":false,\"showline\":true,\"ticks\":\"outside\",\"title\":{\"standoff\":15},\"zeroline\":false,\"zerolinecolor\":\"rgb(36,36,36)\"}}},\"width\":800,\"xaxis\":{\"linewidth\":2.0,\"mirror\":\"ticks\",\"showgrid\":false,\"showline\":true,\"ticklen\":6,\"ticks\":\"inside\",\"tickwidth\":2.0,\"zerolinecolor\":\"white\"},\"yaxis\":{\"linewidth\":2.0,\"mirror\":\"ticks\",\"showgrid\":false,\"showline\":true,\"ticklen\":6,\"ticks\":\"inside\",\"tickwidth\":2.0,\"zerolinecolor\":\"white\"}}},\"xaxis\":{\"title\":{\"text\":\"Time (ns)\"}},\"yaxis\":{\"title\":{\"text\":\"Signal_counts\"}},\"annotations\":[{\"align\":\"left\",\"font\":{\"family\":\"Times New Roman\",\"size\":20},\"showarrow\":false,\"text\":\"<b>y<sub>0</sub></b> : 0.047 &plusmn; 0.009    <br><b>y<sub>max</sub></b> : 0.952 &plusmn; 0.016    <br><b>\\u03c4</b> : 58.833 &plusmn; 2.388 &mu;s\",\"x\":0.95,\"xref\":\"x domain\",\"y\":0.95,\"yref\":\"y domain\"}]},                        {\"responsive\": true}                    ).then(function(){\n",
       "                            \n",
       "var gd = document.getElementById('be6f3426-ba10-4be0-b758-cb1520eef4c1');\n",
       "var x = new MutationObserver(function (mutations, observer) {{\n",
       "        var display = window.getComputedStyle(gd).display;\n",
       "        if (!display || display === 'none') {{\n",
       "            console.log([gd, 'removed!']);\n",
       "            Plotly.purge(gd);\n",
       "            observer.disconnect();\n",
       "        }}\n",
       "}});\n",
       "\n",
       "// Listen for the removal of the full notebook cells\n",
       "var notebookContainer = gd.closest('#notebook-container');\n",
       "if (notebookContainer) {{\n",
       "    x.observe(notebookContainer, {childList: true});\n",
       "}}\n",
       "\n",
       "// Listen for the clearing of the current output cell\n",
       "var outputEl = gd.closest('.output');\n",
       "if (outputEl) {{\n",
       "    x.observe(outputEl, {childList: true});\n",
       "}}\n",
       "\n",
       "                        })                };                });            </script>        </div>"
      ]
     },
     "metadata": {},
     "output_type": "display_data"
    }
   ],
   "source": [
    "# saving Data and Images in the mentined folder \n",
    "## KEEP 'r' as given before Directory name or use \"C:\\\\Users\\....\"\n",
    "directory_name = r\"C:\\Users\\Administrator\\Desktop\\Lifetime_Measurement\\Exp_Data\"\n",
    "image_directory_name = r\"C:\\Users\\Administrator\\Desktop\\Lifetime_Measurement\\Images\"\n",
    "file_name ='red_15percent'\n",
    "total_path_image = replace_space(image_directory_name+file_name)\n",
    "\n",
    "file_name = replace_space(file_name)\n",
    "directory_name = replace_space(directory_name)\n",
    "contents = np.array([xOld,yOld])\n",
    "file_save(directory_name,file_name,contents) #saving the file \n",
    "\n",
    "# Plotting the Fitted Curve\n",
    "fig = go.Figure()\n",
    "fig.add_scatter(x=x_old,y=y_old,mode='markers',name='Experimental Data' )\n",
    "fig.add_scatter(x=xNew,y=yNew,mode='lines',name='Fitted Curve') \n",
    "fig.update_layout(template = fig_template)\n",
    "fig.update_xaxes(title_text = \"Time (ns)\"); fig.update_yaxes(title_text = \"Signal_counts\")\n",
    "fig.add_annotation(\n",
    "    xref=\"x domain\", yref=\"y domain\",align = \"left\",\n",
    "    x=0.95, y=0.95,\n",
    "    text=f\"<b>y<sub>0</sub></b> : {np.round(coefficient[-3],3)} &plusmn; {np.round(error_bars[-3],3)}\\\n",
    "    <br><b>y<sub>max</sub></b> : {np.round(coefficient[-2],3)} &plusmn; {np.round(error_bars[-2],3)}\\\n",
    "    <br><b>\\u03C4</b> : {np.round(coefficient[-1]/1e3,3)} &plusmn; {np.round(error_bars[-1]/1e3,3)} &mu;s\",\n",
    "    showarrow=False,\n",
    "    font_family=\"Times New Roman\",font_size=20\n",
    ")\n",
    "fig.write_html(total_path_image+\".html\")\n",
    "fig.show()"
   ]
  }
 ],
 "metadata": {
  "colab": {
   "include_colab_link": true,
   "provenance": []
  },
  "kernelspec": {
   "display_name": "Python 3 (ipykernel)",
   "language": "python",
   "name": "python3"
  },
  "language_info": {
   "codemirror_mode": {
    "name": "ipython",
    "version": 3
   },
   "file_extension": ".py",
   "mimetype": "text/x-python",
   "name": "python",
   "nbconvert_exporter": "python",
   "pygments_lexer": "ipython3",
   "version": "3.11.5"
  }
 },
 "nbformat": 4,
 "nbformat_minor": 4
}
