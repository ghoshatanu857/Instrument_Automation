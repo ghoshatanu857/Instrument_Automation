{
  "cells": [
    {
      "cell_type": "markdown",
      "metadata": {
        "id": "view-in-github",
        "colab_type": "text"
      },
      "source": [
        "<a href=\"https://colab.research.google.com/github/ghoshatanu857/Instrument_Automation/blob/main/Experimental_Applications/LifeTimeMeasurement_modified.ipynb\" target=\"_parent\"><img src=\"https://colab.research.google.com/assets/colab-badge.svg\" alt=\"Open In Colab\"/></a>"
      ]
    },
    {
      "cell_type": "markdown",
      "metadata": {
        "id": "VX_Up6fJBuRO"
      },
      "source": [
        "# Measuring Lifetime by Instrument Automation\n",
        "> Prof. Siddharth Dhomkar and Mr. Atanu Ghosh"
      ]
    },
    {
      "cell_type": "markdown",
      "metadata": {
        "id": "WMqbqey0BuRP"
      },
      "source": [
        "#### Installing Modules"
      ]
    },
    {
      "cell_type": "code",
      "source": [
        "!pip install pulsestreamer\n",
        "!pip install nidaqmx\n",
        "import numpy as np\n",
        "import inspect,dis\n",
        "import sys\n",
        "import time\n",
        "from tqdm import trange\n",
        "from plotly.subplots import make_subplots\n",
        "from plotly import graph_objs as go\n",
        "import scipy\n",
        "from scipy.optimize import curve_fit\n",
        "import pulsestreamer\n",
        "import nidaqmx\n",
        "import nidaqmx.stream_readers\n",
        "import pprint\n",
        "from pulsestreamer import PulseStreamer,findPulseStreamers,OutputState,TriggerStart,Sequence,TriggerRearm\n",
        "import os\n",
        "import scipy.stats as stats\n",
        "# from tkinter import *\n",
        "# from tkinter.messagebox import askyesno\n",
        "# permission='' #creating a gloabl variable\n",
        "\n",
        "program_path = os.getcwd()"
      ],
      "metadata": {
        "id": "hsvsgX7KCkkU"
      },
      "execution_count": null,
      "outputs": []
    },
    {
      "cell_type": "markdown",
      "source": [
        "#### loading Instruments"
      ],
      "metadata": {
        "id": "gWhfjTYIDDmF"
      }
    },
    {
      "cell_type": "code",
      "source": [
        "# # loading the local Pulse Streamer system\n",
        "# IPaddress = findPulseStreamers(search_serial='')[0][0]\n",
        "# pulser = PulseStreamer(IPaddress)\n",
        "\n",
        "# # loading the local NIDAQmx system\n",
        "# system = nidaqmx.system.System.local()\n",
        "# DAQ_device = system.devices['Dev1']"
      ],
      "metadata": {
        "id": "BZ0AyjjtDAVl"
      },
      "execution_count": null,
      "outputs": []
    },
    {
      "cell_type": "markdown",
      "source": [
        "#### Functions"
      ],
      "metadata": {
        "id": "VXGvBhgNDQLd"
      }
    },
    {
      "cell_type": "code",
      "execution_count": null,
      "metadata": {
        "id": "xvObEvg5GMGb"
      },
      "outputs": [],
      "source": [
        "# Laser_Initialization Sequence\n",
        "def seqInit(*args):\n",
        "  laser_block = [(delay2,0),(laser_on,1),(delay2,0)]\n",
        "  seq_init = pulser.createSequence()\n",
        "  seq_init.setDigital(laser_port,laser_block)\n",
        "  condition_check(seq_init)\n",
        "  return seq_init\n",
        "\n",
        "# Laser_Read Sequence\n",
        "def seqRead(*args):\n",
        "    laser_block = [(delay2, 0), (laser_on, 1), (delay2, 0)]\n",
        "    trigger_block = [(delay2 + delay3, 0),(read_on, 1),(laser_on - read_on - delay3, 0),(delay2, 0)]\n",
        "    timing_block = [(delay2 + delay3, 0),(read_on - triggerTimingDelay, 1),(laser_on - read_on - delay3 + triggerTimingDelay, 0),(delay2, 0),]\n",
        "    seq_read = pulser.createSequence()\n",
        "    seq_read.setDigital(laser_port, laser_block)\n",
        "    seq_read.setDigital(trigger_port, trigger_block)\n",
        "    seq_read.setDigital(timing_port, timing_block)\n",
        "    condition_check(seq_read)\n",
        "    return seq_read\n",
        "\n",
        "# Free Evolution Sequence\n",
        "def seqLifetime(*args):\n",
        "  timing_read_on = read_on-triggerTimingDelay\n",
        "  for t in range(steps-1): # neglecting the last step\n",
        "    trigger_block = [(read_on,1),(delay1+timeRange[t],0),(read_on,1),(timeRange[-1]-timeRange[t]-delay1-2*read_on,0)]\n",
        "    timing_block = [(timing_read_on,1),(delay1+timeRange[t]+triggerTimingDelay,0),\n",
        "                     (timing_read_on,1),((timeRange[-1]-timeRange[t]-delay1-triggerTimingDelay-2*timing_read_on),0)]\n",
        "\n",
        "    seq_evolution = pulser.createSequence()\n",
        "    seq_evolution.setDigital(trigger_port, trigger_block)\n",
        "    seq_evolution.setDigital(timing_port, timing_block)\n",
        "    condition_check(seq_evolution)\n",
        "    seq_lifetime = seqInit(*args) + seq_evolution\n",
        "    yield seq_lifetime\n",
        "\n",
        "# Function to check the conditions\n",
        "def condition_check(sequence):\n",
        "  if sequence.isEmpty()!=0:\n",
        "    raise Exception(f\"{list(locals().keys())} is empty!\")\n",
        "  if sequence.getDuration()%8!=0:\n",
        "    raise Exception(f\"{list(locals().keys())} duration is not multiple of 8ns!\")\n",
        "\n",
        "\n",
        "# Function for doing the Lifetime measurement\n",
        "def lifetime(*args):\n",
        "\n",
        "     numberofpoints=samples*2\n",
        "     buffersamplecount=numberofpoints\n",
        "     count_per_average = buffersamplecount*(steps-1) # as we are ignoring the very last steps\n",
        "     DAQ_device.reset_device()\n",
        "\n",
        "     # Counter\n",
        "     counter = nidaqmx.Task()\n",
        "     ciChannel = counter.ci_channels.add_ci_count_edges_chan('/Dev1/ctr1',edge=nidaqmx.constants.Edge.RISING, initial_count=0,\n",
        "                                                             count_direction=nidaqmx.constants.CountDirection.COUNT_UP)\n",
        "     # print(task.ci_channels[0].ci_count_edges_term)\n",
        "\n",
        "     # Trigger\n",
        "     counter.triggers.pause_trigger.dig_lvl_src='/Dev1/PFI4'\n",
        "     counter.triggers.pause_trigger.trig_type=nidaqmx.constants.TriggerType.DIGITAL_LEVEL\n",
        "     counter.triggers.pause_trigger.dig_lvl_when=nidaqmx.constants.Level.LOW\n",
        "\n",
        "     # Timing\n",
        "     counter.timing.cfg_samp_clk_timing(rate=1e8,source='/Dev1/PFI5',active_edge=nidaqmx.constants.Edge.FALLING,\n",
        "                                        sample_mode = nidaqmx.constants.AcquisitionType.FINITE, samps_per_chan=count_per_average)\n",
        "\n",
        "     # Pulse streamer Gating\n",
        "     gate_task = nidaqmx.Task()\n",
        "     gate_task.do_channels.add_do_chan(lines = 'Dev1/port0/line7')\n",
        "\n",
        "     # Counter read task\n",
        "     reader = nidaqmx.stream_readers.CounterReader(counter.in_stream)\n",
        "     highCount = np.zeros(buffersamplecount, dtype = np.uint32)\n",
        "\n",
        "     cps = []\n",
        "     callback=[]\n",
        "\n",
        "     # Callback function\n",
        "     def readBuffer(task_handle, every_n_samples_event_type, number_of_samples, callback_data):\n",
        "         counter.in_stream.read_all_avail_samp = True\n",
        "         reader.read_many_sample_uint32(highCount, number_of_samples_per_channel= -1, timeout=10.0)  #10s\n",
        "         cps.extend(highCount)\n",
        "         callback.extend([1])\n",
        "         return 0\n",
        "     counter.register_every_n_samples_acquired_into_buffer_event(buffersamplecount,readBuffer)\n",
        "\n",
        "     time.sleep(0.5)\n",
        "     t=0\n",
        "     run=0\n",
        "     data=[]\n",
        "     print(f\"callback number in beginning: {len(callback)}\\n\")\n",
        "\n",
        "     for i in trange(averages):\n",
        "\n",
        "         time.sleep(0.5)\n",
        "         counter.control(nidaqmx.constants.TaskMode.TASK_RESERVE)\n",
        "         gate_task.control(nidaqmx.constants.TaskMode.TASK_RESERVE)\n",
        "         time.sleep(0.5)\n",
        "         counter.start()\n",
        "\n",
        "         reSet = pulser.reset()\n",
        "         sequence = seqLifetime(*args)\n",
        "         pulser.setTrigger(start=TriggerStart.HARDWARE_RISING,rearm=TriggerRearm.AUTO)\n",
        "         if pulser.hasSequence()!=0:\n",
        "            raise Exception('Pulse Streamer has no Sequence uploaded!')\n",
        "\n",
        "         start1=time.time_ns()\n",
        "         for s in sequence:\n",
        "             t1=len(callback)\n",
        "\n",
        "             # performing the streaming samples_number times\n",
        "             pulser.stream(s,n_runs=samples,final=([],0,0))\n",
        "\n",
        "             gate_task.write(True)\n",
        "             while len(callback)==t1:\n",
        "                 time.sleep(0.05)\n",
        "             gate_task.write(False)\n",
        "\n",
        "         end1=time.time_ns()\n",
        "        #  print('Time(s) for single average: ', (end1-start1)/1e9)\n",
        "         print(f\"callback number at {i+1}-th average end: {len(callback)}\\n\")\n",
        "         run=run+1\n",
        "         counter.control(nidaqmx.constants.TaskMode.TASK_UNRESERVE)\n",
        "        #  gate_task.control(nidaqmx.constants.TaskMode.TASK_UNRESERVE)\n",
        "\n",
        "     data=signal_counts(cps,count_per_average)\n",
        "     counter.close()\n",
        "     gate_task.close()\n",
        "     return data\n",
        "\n",
        "\n",
        "# Function to Modify the Data\n",
        "def signal_counts(all_counts,counts_in_one_average,*args):\n",
        "     all_counts=np.array(all_counts)\n",
        "     no_of_averages=int(len(all_counts)/counts_in_one_average)\n",
        "     print(\"Crosscheck number of averges=\",no_of_averages)\n",
        "\n",
        "     # Changing the cumulative counts to actual counts\n",
        "     cumulative_counts = np.reshape(all_counts,(no_of_averages,counts_in_one_average))\n",
        "     modified_matrix = np.delete(cumulative_counts, -1, 1)\n",
        "     zero_array = np.zeros(no_of_averages, dtype=int)\n",
        "     new_matrix = np.hstack((zero_array[:, np.newaxis], modified_matrix))\n",
        "     actual_counts = np.subtract(cumulative_counts,new_matrix)\n",
        "     averaged_actual_counts = np.mean(actual_counts,axis=0)\n",
        "\n",
        "     # Separating Reference and Signal and averaging over Samples\n",
        "     reference_samples = np.mean(np.reshape(averaged_actual_counts[::2],(steps-1,samples)),axis=1)\n",
        "     signal_samples = np.mean(np.reshape(averaged_actual_counts[1::2],(steps-1,samples)),axis=1)\n",
        "\n",
        "     signal_photon = signal_samples/reference_samples\n",
        "     return signal_photon\n",
        "\n",
        "# Curve_fitting Function\n",
        "def curveFit(x,y0,y_max,tau):\n",
        "    return y0+y_max*np.exp(-x/tau)\n",
        "\n",
        "# Function to calculate the Lifetime\n",
        "def lifetime_fit(*args):\n",
        "    indices = np.where(y_old!=0)\n",
        "    yOld = y_old[indices]; xOld = x_old[indices]\n",
        "    if type(fit_range)==np.ndarray:\n",
        "        range_indicies = np.where(np.logical_and(xOld>=fit_range[0],xOld<=fit_range[1]))\n",
        "        x_old_ranged = xOld[range_indicies]; y_old_ranged = yOld[range_indicies]\n",
        "        coefficient, covariance_matrix = curve_fit(curveFit,x_old_ranged,y_old_ranged,p0=guess_params,absolute_sigma=False)\n",
        "        error_bars = np.sqrt(np.diag(covariance_matrix))\n",
        "        condition_number =  np.format_float_scientific(np.linalg.cond(covariance_matrix),precision=2)\n",
        "        x_curve_fit = x_old_ranged; y_curve_fit = y_old_ranged\n",
        "    else:\n",
        "        coefficient, covariance_matrix = curve_fit(curveFit,xOld,yOld,p0=guess_params,absolute_sigma=False)\n",
        "        error_bars = np.sqrt(np.diag(covariance_matrix))\n",
        "        condition_number =  np.format_float_scientific(np.linalg.cond(covariance_matrix),precision=2)\n",
        "        x_curve_fit = xOld; y_curve_fit = yOld\n",
        "\n",
        "    x_new = x_curve_fit\n",
        "    y_new = curveFit(x_new,*coefficient)\n",
        "\n",
        "    # Different ways of 'Goodness of Fit' Test\n",
        "    chi_square_test, p_value = stats.chisquare(y_curve_fit, y_new)\n",
        "    ss_res = np.sum(np.square(y_curve_fit-y_new )); ss_total = np.sum(np.square(y_curve_fit-np.mean(y_curve_fit)))\n",
        "    r_squared = 1-(ss_res/ss_total)\n",
        "    mean_squared_error = np.square(np.subtract(y_new,y_curve_fit)).mean()\n",
        "\n",
        "    print(f'Lifetime in nano_second is : {coefficient[2]}.\\n')\n",
        "    print(f'Chi_square, p-value, R_squared,MeanSquaredError and Condition Number are : {np.round(chi_square_test,3)}\\t{np.round(p_value,3)}\\\n",
        "    \\t{np.round(r_squared,3)}\\t{np.round(mean_squared_error,5)}\\t{condition_number}.\\n')\n",
        "    if p_value<=0.05:\n",
        "        print('The p_value of fitting is low. Please check the fitting!')\n",
        "    return xOld,yOld,x_new,y_new,coefficient,error_bars\n",
        "\n",
        "# Replacing mistakes in file naming\n",
        "def replace_space(name):\n",
        "    name = name.replace(' ', '_').replace('.','_').replace('__','_').replace('___','_')\n",
        "    if name[-1]=='_':  name=name[:-1]\n",
        "    return name\n",
        "\n",
        "# # Tkinter Messagebox\n",
        "# def tkinter_permission():\n",
        "#     root = tk.Tk()\n",
        "#     root.title('Permission accesss')\n",
        "#     root.geometry('150x150')\n",
        "#     root.eval('tk::PlaceWindow . center')\n",
        "#     def confirmation():\n",
        "#         globals()['permission'] = askyesno(title = 'Confirmation of overwriting',message='Do you want to overwrite it?')\n",
        "#         if globals()['permission']:\n",
        "#             root.destroy()\n",
        "#         else:\n",
        "#             print('Data file has not been saved')\n",
        "#             root.destroy()\n",
        "#     root_button = Button(root,text='The file name already exists!',command=confirmation)\n",
        "#     root_button.pack(side='top')\n",
        "#     root.mainloop()\n",
        "\n",
        "\n",
        "# Saving file in given directory\n",
        "def file_save(directory_name,file_name,contents):\n",
        "    file_name = file_name+'.txt'\n",
        "    if not os.path.exists(directory_name):\n",
        "        os.makedirs(directory_name)\n",
        "    total_path = os.path.join(directory_name, file_name)\n",
        "    if os.path.exists(total_path)==True:\n",
        "        # tkinter_permission()\n",
        "        # if globals()['permission']==0:\n",
        "        #     return 0\n",
        "        print('The same file name already exist. Do you want to overwrite it?\\n')\n",
        "        overwrite_permission = input('Type 0 or 1 : ')\n",
        "        if int(overwrite_permission)==0:\n",
        "            raise Exception('New data file has not been saved')\n",
        "        else:\n",
        "            print('File is going to be overwritten.')\n",
        "    np.savetxt(total_path,np.transpose(contents),newline='\\n') # saving in column mode\n",
        "    if os.path.exists(total_path)==False:\n",
        "        raise Exception('Saved file does not exist!\\n')\n",
        "    elif os.stat(total_path).st_size == False:\n",
        "        raise Exception('Saved file is empty!\\n')\n",
        "    else:\n",
        "        print(f'Saving data_file {file_name} is successful!\\n')\n",
        "\n",
        "# Saving Image in given directory\n",
        "def image_save(directory_name,file_name,fig_to_save,extension):\n",
        "    file_name = file_name+'.'+extension\n",
        "    if not os.path.exists(directory_name):\n",
        "        os.makedirs(directory_name)\n",
        "    total_path = os.path.join(directory_name, file_name)\n",
        "    if os.path.exists(total_path)==True:\n",
        "        print('The same file name already exist. Do you want to overwrite it?\\n')\n",
        "        permission = input('Type 0 or 1 : ')\n",
        "        if int(permission)==0:\n",
        "            raise Exception('New image has not been saved.')\n",
        "        else:\n",
        "            print('Image is going to be overwritten.')\n",
        "    if str(extension)=='html':\n",
        "        fig.write_html(total_path)                          # saving image in 'html' format\n",
        "    else:\n",
        "        fig.write_image(total_path)                         # saving image in mentioned static format\n",
        "    if os.path.exists(total_path)==False:\n",
        "        raise Exception('Saved image does not exist!\\n')\n",
        "    elif os.stat(total_path).st_size == False:\n",
        "        raise Exception('Saved image is empty!\\n')\n",
        "    else:\n",
        "        print(f'Saving Image {file_name} is successful!\\n')"
      ]
    },
    {
      "cell_type": "markdown",
      "source": [
        "#### Fig Template"
      ],
      "metadata": {
        "id": "l3nd_jQNDgOs"
      }
    },
    {
      "cell_type": "code",
      "execution_count": null,
      "metadata": {
        "jupyter": {
          "source_hidden": true
        },
        "id": "tv8O9YN9BuRQ"
      },
      "outputs": [],
      "source": [
        "fig_template = go.layout.Template()\n",
        "fig_template.layout = {\n",
        "    'template': 'simple_white+presentation',\n",
        "    'autosize': False,\n",
        "    'width': 800,\n",
        "    'height': 600,\n",
        "    # 'opacity': 0.2,\n",
        "    'xaxis': {\n",
        "        'ticks': 'inside',\n",
        "        'mirror': 'ticks',\n",
        "        'linewidth': 1.5+0.5,\n",
        "        'tickwidth': 1.5+0.5,\n",
        "        'ticklen': 6,\n",
        "        'showline': True,\n",
        "        'showgrid': False,\n",
        "        'zerolinecolor': 'white',\n",
        "        },\n",
        "    'yaxis': {\n",
        "        'ticks': 'inside',\n",
        "        'mirror': 'ticks',\n",
        "        'linewidth': 1.5+0.5,\n",
        "        'tickwidth': 1.5+0.5,\n",
        "        'ticklen': 6,\n",
        "        'showline': True,\n",
        "        'showgrid': False,\n",
        "        'zerolinecolor': 'white'\n",
        "        },\n",
        "    'font':{'family':'mathjax',\n",
        "            'size': 22,\n",
        "            }\n",
        "}"
      ]
    },
    {
      "cell_type": "markdown",
      "metadata": {
        "jp-MarkdownHeadingCollapsed": true,
        "id": "gK_JpzXfBuRQ"
      },
      "source": [
        "#### Setting Parameters and getting Data"
      ]
    },
    {
      "cell_type": "code",
      "execution_count": null,
      "metadata": {
        "id": "2J3FPn_wBuRQ"
      },
      "outputs": [],
      "source": [
        "# Parameters Used (All times are in nanosecond range)\n",
        "# Please choose accordingly so that it is multiple of 8ns.\n",
        "# We will not get the signal for lifetime measurement up to (delay1+delay2+read_on).\n",
        "\n",
        "delay1=16               # delay between reference and signal\n",
        "delay2=16               # delay around laser_on time\n",
        "delay3=16               # delay between laser_start and reference for seqRead\n",
        "triggerTimingDelay=8    # delay between\n",
        "laser_on=200*1000; read_on=20*100; Tmax=200*1000\n",
        "steps=10; samples=400; averages=4\n",
        "laser_port=0; trigger_port=1; timing_port=2\n",
        "timeRange=np.linspace(0,Tmax,num=steps)\n",
        "\n",
        "allowed_steps = timeRange[-1]/(2*read_on+delay1)\n",
        "if timeRange.shape[0] > allowed_steps:\n",
        "  raise Exception(f'Please reduce the steps or read_on time. \\nMaximum allowed steps: {allowed_steps}')\n",
        "\n",
        "pulse_args = [delay1,delay2,delay3,laser_on,timeRange,triggerTimingDelay,read_on,averages,samples,steps,laser_port,trigger_port,timing_port]"
      ]
    },
    {
      "cell_type": "code",
      "execution_count": null,
      "metadata": {
        "id": "KSsUtsyXBuRR"
      },
      "outputs": [],
      "source": [
        "# Data Collection\n",
        "signal_data  = lifetime(*pulse_args)"
      ]
    },
    {
      "cell_type": "markdown",
      "source": [
        "#### Saving files and Plotting"
      ],
      "metadata": {
        "id": "PwhaFEwGETqU"
      }
    },
    {
      "cell_type": "code",
      "execution_count": null,
      "metadata": {
        "id": "ukzYcI7WBuRR"
      },
      "outputs": [],
      "source": [
        "y_old = signal_data\n",
        "x_old = delay1+delay2+read_on+timeRange[:-1]    # as we are neglecting the last step\n",
        "guess_params = np.array([0.3,1,50*1e3])         # (y0,y_max,tau)\n",
        "# fit_range = np.array([0,400])*1e3             # provide (x_min,x_max) or 'False'(for all x_range)\n",
        "fit_range = False\n",
        "\n",
        "# fitting curve\n",
        "xOld,yOld,xNew,yNew,coefficient,error_bars = lifetime_fit(x_old,y_old,guess_params,pulse_args,fit_range)"
      ]
    },
    {
      "cell_type": "code",
      "execution_count": null,
      "metadata": {
        "id": "jr_F4_27BuRR"
      },
      "outputs": [],
      "source": [
        "# Saving Data and Images in the mentined folder\n",
        "# Keep 'r' before Directory name or use \"C:\\\\Users\\....\"\n",
        "directory_name = r\"C:\\Users\\Administrator\\Desktop\\Lifetime_Measurement\\Exp_Data\\year_2024\\9march\\with rodamine die\"      # Experimental Data Directory\n",
        "image_directory_name = r\"C:\\Users\\Administrator\\Desktop\\Lifetime_Measurement\\Images\\year_2024\\9march\\with rodamine die\"  # Image Directory\n",
        "file_name ='photonic nanojet_focus on sphere 7'\n",
        "\n",
        "file_name = replace_space(file_name)\n",
        "directory_name = replace_space(directory_name)\n",
        "contents = np.array([xOld,yOld])\n",
        "file_save(directory_name,file_name,contents)                                                                             # saving the data file"
      ]
    },
    {
      "cell_type": "code",
      "execution_count": null,
      "metadata": {
        "id": "ydIEEc7uBuRR"
      },
      "outputs": [],
      "source": [
        "# Plotting the Fitted Curve\n",
        "fig = go.Figure()\n",
        "\n",
        "fig.add_scatter(x=xNew,y=curveFit(xNew,*(coefficient+error_bars)),mode='lines',line=dict(width=0.01),name='plus_one_std')\n",
        "fig.add_scatter(x=xNew,y=curveFit(xNew,*(coefficient-error_bars)),mode='lines',line=dict(width=0.01),name='minus_one_std',fill='tonexty',fillcolor='rgb(211, 211, 211)')\n",
        "fig.add_scatter(x=xNew,y=yNew,mode='lines',line=dict(color=\"royalblue\"),name='Fitted Curve')\n",
        "fig.add_scatter(x=x_old,y=y_old,mode='markers',marker=dict(color=\"royalblue\"),name='Experimental Data' )\n",
        "\n",
        "fig.update_layout(template = fig_template,width=800,height=600)\n",
        "fig.update_xaxes(title_text = \"Time (ns)\"); fig.update_yaxes(title_text = \"Signal_counts\")\n",
        "fig.add_annotation(\n",
        "    xref=\"x domain\", yref=\"y domain\",align = \"left\", x=0.95, y=0.95,\n",
        "    text=f\"<b>y<sub>0</sub></b> : {np.round(coefficient[0],3)} &plusmn; {np.round(error_bars[0],3)}\\\n",
        "    <br><b>y<sub>max</sub></b> : {np.round(coefficient[1],3)} &plusmn; {np.round(error_bars[1],3)}\\\n",
        "    <br><b>\\u03C4</b> : {np.round(coefficient[2]/1e3,3)} &plusmn; {np.round(error_bars[2]/1e3,3)} &mu;s\",\n",
        "    showarrow=False, font_family=\"Times New Roman\",font_size=20\n",
        ")\n",
        "\n",
        "# allowed saving formats : 'html','svg','pdf','png','jpeg','webp'\n",
        "image_save(image_directory_name,file_name,fig_to_save=fig,extension='html')\n",
        "fig.show()"
      ]
    }
  ],
  "metadata": {
    "colab": {
      "provenance": [],
      "include_colab_link": true
    },
    "kernelspec": {
      "display_name": "Python 3 (ipykernel)",
      "language": "python",
      "name": "python3"
    },
    "language_info": {
      "codemirror_mode": {
        "name": "ipython",
        "version": 3
      },
      "file_extension": ".py",
      "mimetype": "text/x-python",
      "name": "python",
      "nbconvert_exporter": "python",
      "pygments_lexer": "ipython3",
      "version": "3.11.5"
    }
  },
  "nbformat": 4,
  "nbformat_minor": 0
}
