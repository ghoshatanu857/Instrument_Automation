{
 "cells": [
  {
   "cell_type": "code",
   "execution_count": 11,
   "id": "161411f4-3a37-48fd-bcd5-fec36169ba71",
   "metadata": {
    "tags": []
   },
   "outputs": [],
   "source": [
    "from importlib import reload\n",
    "import os\n",
    "import numpy as np\n",
    "import time\n",
    "from tqdm import trange\n",
    "from pulsestreamer import *\n",
    "from nidaqmx import *\n",
    "\n",
    "import analysis\n",
    "reload(analysis)\n",
    "from analysis import *\n",
    "\n",
    "import measurement\n",
    "reload(measurement)\n",
    "from measurement import *"
   ]
  },
  {
   "cell_type": "code",
   "execution_count": 22,
   "id": "1e4b760b-e680-4766-adbc-9c7874dbedc7",
   "metadata": {
    "tags": []
   },
   "outputs": [
    {
     "name": "stdout",
     "output_type": "stream",
     "text": [
      "Connect to Pulse Streamer via JSON-RPC.\n",
      "IP / Hostname: 169.254.8.2\n",
      "Pulse Streamer 8/2 firmware: v1.7.2\n",
      "Client software: v1.7.0\n",
      "NIDAQmx device name : Dev1\n"
     ]
    }
   ],
   "source": [
    "# loading the local Pulse Streamer and NIDAQmx\n",
    "IPaddress = findPulseStreamers(search_serial='')[0][0]\n",
    "pulser = PulseStreamer(IPaddress)\n",
    "\n",
    "DAQ_device = nidaqmx.system.System.local().devices[0]\n",
    "device_name = DAQ_device.terminals[0:1][0][1:5]\n",
    "print(f'NIDAQmx device name : {device_name}')"
   ]
  },
  {
   "cell_type": "code",
   "execution_count": 590,
   "id": "54f9314c-6100-4aa2-b8a7-e2627e1ac6a8",
   "metadata": {
    "tags": []
   },
   "outputs": [],
   "source": [
    "specs_ports = {'laserNum' : 1, 'gateStart' : 5, 'source' : 7}\n",
    "\n",
    "specs_delay = {'rising_delay' : 2,'gatelen' :  6, 'laserontime' :  31,'delay_pad' :  2,\n",
    "               'delay_shift' :  2,'gatesourcedelay' : 2}\n",
    "specs_t1 = {'rising_delay' : 20,'gatelen' : 2e3, 'laserontime' : 25e3,'delay_pad' : 20,\n",
    "            'delay_shift' : 45e3,'gatesourcedelay' : 5,'evolution_time' : 0.45e6}\n",
    "specs_snr = {'rising_delay' : 20,'gatelen' : 2e3, 'laserontime' : 25e3,'delay_pad' : 20,\n",
    "             'delay_shift' : 150e3,'gatesourcedelay' : 5,'evolution_time' : 1.5e6}\n",
    "\n",
    "specs_lifetime = {'rising_delay' : 20,'gatelen' : 2e3, 'laserontime' : 25e3,'laserofftime' : 200e3,\n",
    "                  'delay_pad' : 20,'delay_shift' : 50e3,'gatesourcedelay' : 5}  #change this "
   ]
  },
  {
   "cell_type": "code",
   "execution_count": 592,
   "id": "69d75086-c52c-41ad-b1bc-ab3f5c4aee4b",
   "metadata": {
    "tags": []
   },
   "outputs": [],
   "source": [
    "def merge(dict1,dict2):\n",
    "    res = {**dict1,**dict2}\n",
    "    return res"
   ]
  },
  {
   "cell_type": "code",
   "execution_count": null,
   "id": "50ca942b-bce2-4c66-8746-4ef7fdfa4a3d",
   "metadata": {
    "tags": []
   },
   "outputs": [],
   "source": [
    "total_specs = merge(specs_ports,specs_t1)\n",
    "avg_data,time_axis = measure(pulser,DAQ_device,device_name,exp_name = 't1',\n",
    "                   samples=1000,averages=20,specifications=total_specs)"
   ]
  },
  {
   "cell_type": "code",
   "execution_count": 819,
   "id": "8436e0a7-918f-4a08-be04-3e59a58cb463",
   "metadata": {
    "tags": []
   },
   "outputs": [],
   "source": [
    "dict_args = {'avg_data':avg_data,'time_axis':time_axis}"
   ]
  },
  {
   "cell_type": "code",
   "execution_count": 821,
   "id": "92c816f8-4c1d-4b9c-abfe-6e9f89ede9c6",
   "metadata": {
    "tags": []
   },
   "outputs": [
    {
     "name": "stdout",
     "output_type": "stream",
     "text": [
      "root directory : C:\\Users\\Administrator\\OneDrive\\Desktop\\T1_measurement\\atanu_github\\Instrument_Automation\\Experimental_Applications\n"
     ]
    }
   ],
   "source": [
    "root_directory = os.getcwd()\n",
    "print(f'root directory : {root_directory}')"
   ]
  },
  {
   "cell_type": "code",
   "execution_count": 823,
   "id": "2b89c02a-90c9-4e6d-a3ee-56018523222e",
   "metadata": {
    "tags": []
   },
   "outputs": [
    {
     "name": "stdout",
     "output_type": "stream",
     "text": [
      "saving data_file '[13_47]_gatelen_2000ns.npz' is successful!\n",
      "\n"
     ]
    }
   ],
   "source": [
    "year = time.ctime()[-4:]\n",
    "date = time.ctime()[4:10].replace(' ','_')\n",
    "current_time = time.ctime()[-13:-8].replace(':','_')\n",
    "\n",
    "folder_path = root_directory+f'/exp_data/{year}/{date}/microdiamonds/t1/with_Gd/525nm/avgs_20/samples_1000/second_cluster'\n",
    "file_name = f'[{current_time}]_gatelen_2000ns.npz'\n",
    "\n",
    "total_path = npz_save(folder_path,file_name,**dict_args)"
   ]
  },
  {
   "cell_type": "code",
   "execution_count": 825,
   "id": "d412ee23-7814-4aa7-8446-c1dc31245412",
   "metadata": {
    "tags": []
   },
   "outputs": [],
   "source": [
    "load_data = dict(np.load(total_path))"
   ]
  },
  {
   "cell_type": "code",
   "execution_count": 6,
   "id": "e8c02ecd-a08b-49d9-9251-e3e1b7b57084",
   "metadata": {
    "jupyter": {
     "source_hidden": true
    },
    "tags": []
   },
   "outputs": [],
   "source": [
    "# def signal(data,samples):\n",
    "#     data_shape = data.shape[0]\n",
    "#     steps=int(data_shape/(2*samples))\n",
    "#     # print(data_shape,steps)\n",
    "    \n",
    "#     # Separating Reference and Signal and averaging over Samples\n",
    "#     reference_samples = np.mean(np.reshape(data[::2],(steps,samples)),axis=1)\n",
    "#     signal_samples = np.mean(np.reshape(data[1::2],(steps,samples)),axis=1)\n",
    "#     signal_photon = signal_samples/reference_samples\n",
    "#     return signal_photon,reference_samples,signal_samples\n",
    "\n",
    "# def data_to_time_signal(data,samples):\n",
    "#     # print(data['avg_data'].shape,data['time_axis'].shape)\n",
    "#     time = data['time_axis'][1:]\n",
    "#     signal_photon,reference_samples,signal_samples = signal(data['avg_data'],samples)[1:]\n",
    "#     return time,signal_photon,reference_samples,signal_samples"
   ]
  },
  {
   "cell_type": "code",
   "execution_count": null,
   "id": "415687e6-0515-475f-b7ab-6a5738de07b0",
   "metadata": {},
   "outputs": [],
   "source": [
    "samples=int(input('Enter the no of samples'))\n",
    "\n",
    "time,signal_photon,reference_samples,signal_samples = data_to_time_signal(load_data,samples)"
   ]
  },
  {
   "cell_type": "code",
   "execution_count": 8,
   "id": "e972bfde-0738-4522-a809-86e69571b4bc",
   "metadata": {
    "jupyter": {
     "source_hidden": true
    },
    "tags": []
   },
   "outputs": [],
   "source": [
    "# steps=int(input('Enter the no of steps'))\n",
    "# samples=int(input('Enter the no of samples'))\n",
    "\n",
    "# # Separating Reference and Signal and averaging over Samples\n",
    "# reference_samples = np.mean(np.reshape(load_data['avg_data'][::2],(steps,samples)),axis=1)\n",
    "# signal_samples = np.mean(np.reshape(load_data['avg_data'][1::2],(steps,samples)),axis=1)\n",
    "# signal_photon = signal_samples/reference_samples"
   ]
  },
  {
   "cell_type": "code",
   "execution_count": null,
   "id": "ad395e14-bfe8-4587-aa08-dfc31f49dc1f",
   "metadata": {
    "tags": []
   },
   "outputs": [],
   "source": [
    "x=load_data['time_axis'][1:]\n",
    "y=signal_photon[1:]\n",
    "\n",
    "x_fit,y_fit,coefficient,error_bars = fit_func(x,y,fit_range=False,func='exp',guess_params=np.array([0.7,0.9,0.08e6]))\n",
    "\n",
    "fig1 = simple_plot(x,y,show=False,x_name = \"Time (&mu;s)\",y_name = \"Counts (T<sub>1</sub>)\",mode='markers',title=f'{date}')\n",
    "fig2 = simple_plot(x_fit,y_fit,show=False,x_name = \"Time (&mu;s)\",y_name = \"Counts (T<sub>1</sub>)\",mode='lines',title=f'{date}')\n",
    "\n",
    "add_figures([fig1,fig2],show=True,x_name = \"Time (&mu;s)\",y_name = \"Counts (T<sub>1</sub>)\",mode='markers',title=f'[{date}]')"
   ]
  },
  {
   "cell_type": "markdown",
   "id": "9f5645b3-b345-41d5-b82c-9b14cc14820c",
   "metadata": {},
   "source": [
    "## Add calibrations, specifications and few reference plots"
   ]
  },
  {
   "cell_type": "code",
   "execution_count": null,
   "id": "1d6b5dd3-686f-46bf-9e57-b40fb37ab6b1",
   "metadata": {},
   "outputs": [],
   "source": []
  }
 ],
 "metadata": {
  "kernelspec": {
   "display_name": "Python 3 (ipykernel)",
   "language": "python",
   "name": "python3"
  },
  "language_info": {
   "codemirror_mode": {
    "name": "ipython",
    "version": 3
   },
   "file_extension": ".py",
   "mimetype": "text/x-python",
   "name": "python",
   "nbconvert_exporter": "python",
   "pygments_lexer": "ipython3",
   "version": "3.11.5"
  }
 },
 "nbformat": 4,
 "nbformat_minor": 5
}
