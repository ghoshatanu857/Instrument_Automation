{
 "cells": [
  {
   "cell_type": "markdown",
   "metadata": {
    "id": "VX_Up6fJBuRO"
   },
   "source": [
    "# Measuring Lifetime by Instrument Automation\n",
    "> Prof. Siddharth Dhomkar and Mr. Atanu Ghosh"
   ]
  },
  {
   "cell_type": "markdown",
   "metadata": {
    "id": "WMqbqey0BuRP"
   },
   "source": [
    "#### Installing Modules"
   ]
  },
  {
   "cell_type": "code",
   "execution_count": 3,
   "metadata": {
    "id": "hsvsgX7KCkkU",
    "tags": []
   },
   "outputs": [],
   "source": [
    "# !pip install pulsestreamer\n",
    "# !pip install nidaqmx\n",
    "import numpy as np\n",
    "import pandas as pd\n",
    "import inspect,dis\n",
    "import sys\n",
    "import time\n",
    "from tqdm import trange\n",
    "from plotly.subplots import make_subplots\n",
    "from plotly import graph_objs as go\n",
    "import scipy\n",
    "from scipy.optimize import curve_fit\n",
    "import pulsestreamer\n",
    "import pulsestreamer as psl\n",
    "import nidaqmx\n",
    "import nidaqmx.stream_readers\n",
    "import pprint\n",
    "from pulsestreamer import PulseStreamer,findPulseStreamers,OutputState,TriggerStart,Sequence,TriggerRearm\n",
    "import os\n",
    "import scipy.stats as stats\n",
    "import tkinter as tk\n",
    "from tkinter import *\n",
    "from tkinter.messagebox import askyesno\n",
    "permission=0 # creating a gloabl variable\n",
    "\n",
    "program_path = os.getcwd()"
   ]
  },
  {
   "cell_type": "markdown",
   "metadata": {
    "id": "gWhfjTYIDDmF"
   },
   "source": [
    "#### loading Instruments"
   ]
  },
  {
   "cell_type": "code",
   "execution_count": 5,
   "metadata": {
    "id": "BZ0AyjjtDAVl",
    "tags": []
   },
   "outputs": [
    {
     "name": "stdout",
     "output_type": "stream",
     "text": [
      "Connect to Pulse Streamer via JSON-RPC.\n",
      "IP / Hostname: 169.254.8.2\n",
      "Pulse Streamer 8/2 firmware: v1.7.2\n",
      "Client software: v1.7.0\n",
      "NIDAQmx device name : Dev1\n"
     ]
    }
   ],
   "source": [
    "# loading the local Pulse Streamer system\n",
    "IPaddress = findPulseStreamers(search_serial='')[0][0]\n",
    "pulser = PulseStreamer(IPaddress)\n",
    "\n",
    "# loading the local NIDAQmx system\n",
    "DAQ_device = nidaqmx.system.System.local().devices[0]\n",
    "device_name = DAQ_device.terminals[0:1][0][1:5]\n",
    "print(f'NIDAQmx device name : {device_name}')"
   ]
  },
  {
   "cell_type": "markdown",
   "metadata": {
    "id": "VXGvBhgNDQLd",
    "jp-MarkdownHeadingCollapsed": true,
    "tags": []
   },
   "source": [
    "#### Old Functions"
   ]
  },
  {
   "cell_type": "markdown",
   "metadata": {
    "jp-MarkdownHeadingCollapsed": true,
    "tags": []
   },
   "source": [
    "##### Sequence Functions"
   ]
  },
  {
   "cell_type": "code",
   "execution_count": 8,
   "metadata": {
    "tags": []
   },
   "outputs": [],
   "source": [
    "# # For Lifetime Measurements\n",
    "\n",
    "# # Laser_Initialization Sequence\n",
    "# def seqInit(*args):\n",
    "#     laser_block = [(delay2,0),(laser_on,1),(delay2,0)]\n",
    "#     seq_init = pulser.createSequence()\n",
    "#     seq_init.setDigital(laser_port,laser_block)\n",
    "#     # condition_check(seq_init)\n",
    "#     return seq_init\n",
    "\n",
    "# # Laser_Read Sequence\n",
    "# def seqRead(*args):\n",
    "#     laser_block = [(delay2, 0), (laser_on, 1), (delay2, 0)]\n",
    "#     trigger_block = [(delay2 + delay3, 0),(read_on, 1),(laser_on - read_on - delay3, 0),(delay2, 0)]\n",
    "#     timing_block = [(delay2 + delay3, 0),(read_on - triggerTimingDelay, 1),(laser_on - read_on - delay3 + triggerTimingDelay, 0),(delay2, 0),]\n",
    "#     seq_read = pulser.createSequence()\n",
    "#     seq_read.setDigital(laser_port, laser_block)\n",
    "#     seq_read.setDigital(trigger_port, trigger_block)\n",
    "#     seq_read.setDigital(timing_port, timing_block)\n",
    "#     condition_check(seq_read)\n",
    "#     return seq_read\n",
    "\n",
    "# # Free Evolution Sequence\n",
    "# def seqLifetime(*args):\n",
    "#     timing_read_on = read_on-triggerTimingDelay\n",
    "#     for t in range(steps-1): # neglecting the last step\n",
    "#         trigger_block = [(read_on,1),(delay1+timeRange[t],0),(read_on,1),(timeRange[-1]-timeRange[t]-delay1-2*read_on,0)]\n",
    "#         timing_block = [(timing_read_on,1),(delay1+timeRange[t]+triggerTimingDelay,0),\n",
    "#                      (timing_read_on,1),((timeRange[-1]-timeRange[t]-delay1-triggerTimingDelay-2*timing_read_on),0)]\n",
    "\n",
    "#         seq_evolution = pulser.createSequence()\n",
    "#         # seq_evolution.setDigital(laser_port, laser_block)\n",
    "#         seq_evolution.setDigital(trigger_port, trigger_block)\n",
    "#         seq_evolution.setDigital(timing_port, timing_block)\n",
    "#         # condition_check(seq_evolution)\n",
    "#         seq_lifetime = seqInit(*args) + seq_evolution\n",
    "#         yield seq_lifetime"
   ]
  },
  {
   "cell_type": "code",
   "execution_count": 9,
   "metadata": {
    "tags": []
   },
   "outputs": [],
   "source": [
    "# delay_timeRange=0\n",
    "\n",
    "# # Delay Measurement Sequence\n",
    "# def seqDelay(steps,*args):\n",
    "#     # pulser.reset()\n",
    "#     seq_delay = pulser.createSequence()\n",
    "#     triggerTimingDelay=10\n",
    "#     laser_off=laser_on; Tmax=3*laser_on\n",
    "    \n",
    "#     delay_timeRange=np.linspace(0,Tmax-4*delay_read_on,num=steps,dtype=int)\n",
    "#     allowed_steps = int((Tmax-(5*delay_read_on))/delay_read_on)\n",
    "#     if delay_timeRange.shape[0] > allowed_steps:\n",
    "#         steps = allowed_steps\n",
    "#         print(f'Steps set to maximum allowed steps: {allowed_steps}')\n",
    "    \n",
    "#     delay_timeRange=np.linspace(0,Tmax-4*delay_read_on,num=steps,dtype=int)\n",
    "#     # timing_read_on = delay_read_on-2*triggerTimingDelay    #for delay on both edges of timing pulse \n",
    "#     timing_read_on = delay_read_on-triggerTimingDelay\n",
    "    \n",
    "#     globals()['delay_timeRange']=delay_timeRange; globals()['steps']=steps\n",
    "    \n",
    "\n",
    "#     for t in range(steps):\n",
    "#         laser_block = [(laser_off,0),(laser_on,1),(Tmax-laser_off-laser_on,0)]  \n",
    "#         trigger_block = [(delay_read_on,0),(delay_read_on,1),(delay_read_on+delay_timeRange[t],0),(delay_read_on,1),(delay_timeRange[-1]-4*delay_read_on-delay_timeRange[t],0)]\n",
    "#         # timing_block = [(delay_read_on+triggerTimingDelay,0),(timing_read_on,1),(delay_read_on+2*triggerTimingDelay+delay_timeRange[t],0),\n",
    "#         #              (timing_read_on,1),((delay_timeRange[-1]-2*timing_read_on-2*delay_read_on-4*triggerTimingDelay-delay_timeRange[t]),0)]       #for delay on both edges of timing pulse \n",
    "#         timing_block = [(delay_read_on,0),(timing_read_on,1),(delay_read_on+triggerTimingDelay+delay_timeRange[t],0),\n",
    "#                      (timing_read_on,1),((delay_timeRange[-1]-2*timing_read_on-2*delay_read_on-triggerTimingDelay-delay_timeRange[t]),0)]\n",
    "        \n",
    "\n",
    "#         seq_delay.setDigital(laser_port, laser_block)\n",
    "#         seq_delay.setDigital(trigger_port, trigger_block)\n",
    "#         seq_delay.setDigital(timing_port, timing_block)\n",
    "#         print(f'Pulser has sequence inside seqDelay : {pulser.hasSequence()}')\n",
    "#         # print(f'Moving time : {delay_timeRange[t]}')\n",
    "#         # print('\\nDistance between :')\n",
    "#         # print(f'Starting point and Left_edge of Trigger_Pulse : {3*delay_read_on+delay_timeRange[t]}')\n",
    "#         # print(f'Starting point and Right_edge of Trigger_Pulse : {4*delay_read_on+delay_timeRange[t]}')\n",
    "#         # print(f'Starting point and Left_edge of Timing_Pulse : {2*delay_read_on+timing_read_on+delay_timeRange[t]+3*triggerTimingDelay}')\n",
    "#         # print(f'Starting point and Right_edge of Timing_Pulse : {2*delay_read_on+2*timing_read_on+delay_timeRange[t]+3*triggerTimingDelay}')\n",
    "#         yield seq_delay"
   ]
  },
  {
   "cell_type": "code",
   "execution_count": 10,
   "metadata": {
    "tags": []
   },
   "outputs": [],
   "source": [
    "# # For T1 Measurements\n",
    "# delay_timeRange=0\n",
    "# # snr_timeRange=0; T1_timeRange=0;snr_read_on=0; T1_read_on=0\n",
    "# # delay_read_on=0\n",
    "\n",
    "# # Delay Measurement Sequence\n",
    "# def seqDelay(steps,*args):\n",
    "    \n",
    "#     triggerTimingDelay=5\n",
    "#     # laser_on=300; delay_read_on=30;steps=21\n",
    "#     laser_off=laser_on; Tmax=3*laser_on\n",
    "#     print(laser_on)\n",
    "#     print(steps)\n",
    "    \n",
    "#     delay_timeRange=np.linspace(0,Tmax-4*delay_read_on,num=steps,dtype=int)\n",
    "#     allowed_steps = int((delay_timeRange[-1]-(5*delay_read_on))/delay_read_on)\n",
    "#     # print(f' Allowed Steps : {allowed_steps}')\n",
    "#     if delay_timeRange.shape[0] > allowed_steps:\n",
    "#         steps = allowed_steps\n",
    "#         print(f'Steps set to maximum allowed steps: {allowed_steps}')\n",
    "    \n",
    "#     delay_timeRange=np.linspace(0,Tmax-4*delay_read_on,num=steps,dtype=int)\n",
    "#     # print(delay_timeRange,len(delay_timeRange))\n",
    "#     timing_read_on = delay_read_on-2*triggerTimingDelay\n",
    "    \n",
    "#     globals()['delay_read_on']=delay_read_on; globals()['delay_timeRange']=delay_timeRange\n",
    "    \n",
    "\n",
    "#     for t in range(steps): # neglecting the last step\n",
    "#         laser_block = [(laser_off,0),(laser_on,1),(Tmax-laser_off-laser_on,0)]  \n",
    "#         trigger_block = [(delay_read_on,0),(delay_read_on,1),(delay_read_on+delay_timeRange[t],0),(delay_read_on,1),(delay_timeRange[-1]-4*delay_read_on-delay_timeRange[t],0)]\n",
    "#         timing_block = [(delay_read_on+triggerTimingDelay,0),(timing_read_on,1),(delay_read_on+2*triggerTimingDelay+delay_timeRange[t],0),\n",
    "#                      (timing_read_on,1),((delay_timeRange[-1]-2*timing_read_on-2*delay_read_on-4*triggerTimingDelay-delay_timeRange[t]),0)]\n",
    "\n",
    "#         seq_delay = pulser.createSequence()\n",
    "#         seq_delay.setDigital(laser_port, laser_block)\n",
    "#         # seq_delay.setDigital(3, laser_block)\n",
    "#         seq_delay.setDigital(trigger_port, trigger_block)\n",
    "#         seq_delay.setDigital(timing_port, timing_block)\n",
    "#         # condition_check(seq_delay)\n",
    "#         # print(f'Moving time : {delay_timeRange[t]}')\n",
    "#         # print('\\nDistance between :')\n",
    "#         # print(f'Starting point and Left_edge of Trigger_Pulse : {3*delay_read_on+delay_timeRange[t]}')\n",
    "#         # print(f'Starting point and Right_edge of Trigger_Pulse : {4*delay_read_on+delay_timeRange[t]}')\n",
    "#         # print(f'Starting point and Left_edge of Trigger_Pulse : {2*delay_read_on+timing_read_on+delay_timeRange[t]+3*triggerTimingDelay}')\n",
    "#         # print(f'Starting point and Right_edge of Trigger_Pulse : {2*delay_read_on+2*timing_read_on+delay_timeRange[t]+3*triggerTimingDelay}')\n",
    "#         yield seq_delay\n",
    "        \n",
    "# # SNR Measurement Sequence\n",
    "# # def seqSNR(*args):\n",
    "        \n",
    "# #     triggerTimingDelay=5\n",
    "# #     laser_on=3e3; laser_off=laser_on; snr_read_on=8e1; Tmax=laser_on; equilibrium_evolution=15*1e6; steps=36\n",
    "    \n",
    "# #     snr_timeRange=np.linspace(0,Tmax,num=steps,dtype=int)\n",
    "# #     timing_read_on = snr_read_on-triggerTimingDelay\n",
    "        \n",
    "# #     allowed_steps = (snr_timeRange[-1]-snr_read_on)/snr_read_on\n",
    "# #     if snr_timeRange.shape[0] > allowed_steps:\n",
    "# #         raise Exception(f'Please reduce the steps or read_on time. \\nMaximum allowed steps: {allowed_steps}')\n",
    "# #     for t in range(steps-1): # neglecting the last step\n",
    "# #         laser_block = [(laser_off,0),(laser_on,1),(laser_off,0),(laser_on,1),(equilibrium_evolution,0),(laser_on,1),(laser_off,0)]\n",
    "# #         trigger_block = [(laser_off,0),(laser_off,0),(laser_off,0),(snr_timeRange[t]+snr_read_on,1),\n",
    "# #                          (equilibrium_evolution+laser_on-snr_timeRange[t]-snr_read_on,0),(snr_timeRange[t]+snr_read_on,1),(laser_on+laser_off-snr_timeRange[t]-snr_read_on,0)]\n",
    "# #         timing_block = [(laser_off,0),(laser_off,0),(laser_off,0),(snr_timeRange[t]+timing_read_on,1),\n",
    "# #                          (equilibrium_evolution+laser_on-snr_timeRange[t]-timing_read_on,0),(snr_timeRange[t]+timing_read_on,1),(laser_on+laser_off-snr_timeRange[t]-timing_read_on,0)]\n",
    "# #         pulser.reset()\n",
    "# #         time.sleep(0.005)\n",
    "# #         seq_snr = pulser.createSequence()\n",
    "# #         seq_snr.setDigital(laser_port, laser_block)\n",
    "# #         seq_snr.setDigital(trigger_port, trigger_block)\n",
    "# #         seq_snr.setDigital(timing_port, timing_block)\n",
    "# #         condition_check(seq_snr)\n",
    "# #         yield seq_snr     \n",
    "        \n",
    "# # # T1 Measurement Sequence\n",
    "# # def seqT1(*args):\n",
    "        \n",
    "# #     triggerTimingDelay=5\n",
    "# #     laser_on=5e3; laser_off=laser_on; T1_read_on=1e3; Tmax=15e6; introduced_delay=8e1; steps=290   \n",
    "    \n",
    "# #     T1_timeRange=np.linspace(0,Tmax,num=steps,dtype=int)\n",
    "# #     timing_read_on = T1_read_on-triggerTimingDelay\n",
    "        \n",
    "# #     for t in range(steps-1): # neglecting the last step\n",
    "# #         laser_block = [(laser_off,0),(laser_on,1),(laser_off,0),(laser_on,1),(T1_timeRange[t]+introduced_delay,0),(laser_on,1),(laser_off,0)]\n",
    "# #         trigger_block = [(laser_off,0),(laser_off,0),(laser_off,0),(T1_read_on,1),\n",
    "# #                          (laser_on-T1_read_on,0),(T1_timeRange[t]+introduced_delay,0),(T1_read_on,1),(laser_on+laser_off-T1_read_on,0)]\n",
    "# #         timing_block = [(laser_off,0),(laser_off,0),(laser_off,0),(timing_read_on,1),\n",
    "# #                          (laser_on-timing_read_on,0),(T1_timeRange[t]+introduced_delay,0),(timing_read_on,1),(laser_on+laser_off-timing_read_on,0)]\n",
    "\n",
    "# #         seq_T1 = pulser.createSequence()\n",
    "# #         seq_T1.setDigital(laser_port, laser_block)\n",
    "# #         seq_T1.setDigital(trigger_port, trigger_block)\n",
    "# #         seq_T1.setDigital(timing_port, timing_block)\n",
    "# #         # condition_check(seq_T1)\n",
    "# #         yield seq_T1       \n",
    "\n",
    "# # # Function to check the conditions\n",
    "# # def condition_check(sequence):\n",
    "# #     if sequence.isEmpty()!=0:\n",
    "# #         raise Exception(f\"{list(locals().keys())} is empty!\")\n",
    "# #     if sequence.getDuration()%8!=0:\n",
    "# #         raise Exception(f\"{list(locals().keys())} duration is not multiple of 8ns!\")"
   ]
  },
  {
   "cell_type": "markdown",
   "metadata": {
    "jp-MarkdownHeadingCollapsed": true,
    "tags": []
   },
   "source": [
    "##### Streaming and Collecting Data"
   ]
  },
  {
   "cell_type": "code",
   "execution_count": 12,
   "metadata": {
    "tags": []
   },
   "outputs": [],
   "source": [
    "# DAQ_device.reset_device()\n",
    "# task1 = nidaqmx.Task()\n",
    "# task1.do_channels.add_do_chan(lines='Dev1/port0/line7')\n",
    "# task1.control(nidaqmx.constants.TaskMode.TASK_RESERVE)\n",
    "# task1.write(True)\n",
    "# time.sleep(5)\n",
    "# task1.write(False)"
   ]
  },
  {
   "cell_type": "code",
   "execution_count": 13,
   "metadata": {
    "id": "xvObEvg5GMGb",
    "tags": []
   },
   "outputs": [],
   "source": [
    "# def measure(*args):\n",
    "\n",
    "#     print(laser_on,delay_read_on,steps,samples,averages)\n",
    "#     numberofpoints=samples*2\n",
    "#     count_per_average = numberofpoints*(steps)\n",
    "#     DAQ_device.reset_device()\n",
    "#     pulser.reset()\n",
    "\n",
    "#     # Counter\n",
    "#     counter = nidaqmx.Task()\n",
    "#     ciChannel = counter.ci_channels.add_ci_count_edges_chan(f'/{device_name}/ctr1',edge=nidaqmx.constants.Edge.RISING, initial_count=0,\n",
    "#                                                              count_direction=nidaqmx.constants.CountDirection.COUNT_UP)\n",
    "#     # print(task.ci_channels[0].ci_count_edges_term)\n",
    "\n",
    "#     # Trigger\n",
    "#     counter.triggers.pause_trigger.dig_lvl_src=f'/{device_name}/PFI4'\n",
    "#     counter.triggers.pause_trigger.trig_type=nidaqmx.constants.TriggerType.DIGITAL_LEVEL\n",
    "#     counter.triggers.pause_trigger.dig_lvl_when=nidaqmx.constants.Level.LOW\n",
    "\n",
    "#     # Timing ( samps_per_chan is changed)\n",
    "#     counter.timing.cfg_samp_clk_timing(rate=1e8,source=f'/{device_name}/PFI5',active_edge=nidaqmx.constants.Edge.FALLING,\n",
    "#                                         sample_mode = nidaqmx.constants.AcquisitionType.FINITE, samps_per_chan=(count_per_average)*averages)\n",
    "\n",
    "#     cps = []\n",
    "#     callback=[]\n",
    "    \n",
    "#     # Pulse streamer Gating\n",
    "#     DigChannel = f'{device_name}/port0/line7'\n",
    "#     gate_task = nidaqmx.Task()\n",
    "#     gate_task.do_channels.add_do_chan(lines = DigChannel)\n",
    "\n",
    "#     # Callback function\n",
    "#     def readBuffer(task_handle, every_n_samples_event_type, number_of_samples, callback_data):\n",
    "#         counter.in_stream.read_all_avail_samp = True\n",
    "#         readPixels=reader.read_many_sample_uint32(highCount, number_of_samples_per_channel= -1, timeout=10.0)  #10s\n",
    "#         cps.extend(highCount)\n",
    "#         callback.extend([1])\n",
    "#         return 0\n",
    "#     # time.sleep(0.01)\n",
    "#     buffersamplecount=numberofpoints\n",
    "    \n",
    "#     # Counter read task\n",
    "#     reader = nidaqmx.stream_readers.CounterReader(counter.in_stream)\n",
    "#     highCount = np.zeros(buffersamplecount, dtype = np.uint32)\n",
    "#     lowCount =  np.zeros(buffersamplecount,dtype = np.uint32)\n",
    "    \n",
    "#     counter.register_every_n_samples_acquired_into_buffer_event(buffersamplecount,readBuffer)\n",
    "#     counter.start()  # position of this is changed \n",
    "    \n",
    "#     t=0\n",
    "#     run=0\n",
    "#     data=[]\n",
    "#     finaldata=[]\n",
    "#     # print(\"Preparing for the experiment...\")\n",
    "#     print(f\"callback number in beginning: {len(callback)}\\n\")\n",
    "\n",
    "#     # for i in trange(averages):\n",
    "#     while run<averages: # this is changed \n",
    "\n",
    "#         print(run)\n",
    "#         # time.sleep(0.05)\n",
    "#         # counter.control(nidaqmx.constants.TaskMode.TASK_RESERVE)\n",
    "#         # gate_task.control(nidaqmx.constants.TaskMode.TASK_RESERVE)\n",
    "#         # time.sleep(0.05)\n",
    "#         # counter.start()\n",
    "\n",
    "#         sequence = seqDelay(steps,laser_on,delay_read_on)\n",
    "#         pulser.setTrigger(start=psl.TriggerStart.HARDWARE_RISING,rearm=psl.TriggerRearm.AUTO)\n",
    "             \n",
    "#         # time.sleep(0.05)\n",
    "#         seq_num=0\n",
    "#         start1=time.time_ns()\n",
    "\n",
    "#         print(f'Pulser has sequence inside measure : {pulser.hasSequence()}')\n",
    "#         # if pulser.hasSequence()==False:            \n",
    "#         #     raise Exception(f'Pulser has no seqeunce uploaded.')\n",
    "#         # if sequence.isEmpty()==True:            \n",
    "#         #     raise Exception(f'Sequence is empty.')\n",
    "            \n",
    "#         for s in sequence:\n",
    "#             t1=len(callback)\n",
    "\n",
    "#             # performing the streaming samples_number times\n",
    "#             seq_num=seq_num+1\n",
    "#             print(f'Check for Steps number : {seq_num}')\n",
    "            \n",
    "#             pulser.stream(s,n_runs=samples)\n",
    "            \n",
    "#             # s.plot()\n",
    "#             gate_task.write(True)\n",
    "#             while len(callback)==t1:\n",
    "#                 time.sleep(0.001)\n",
    "#             gate_task.write(False)\n",
    "#             # print(f'Sequence number : {seq_num}')\n",
    "\n",
    "#         end1=time.time_ns()\n",
    "#     #  print('Time(s) for single average: ', (end1-start1)/1e9)\n",
    "#         print(f\"callback number at {i+1}-th average end: {len(callback)}\\n\")\n",
    "#         run=run+1\n",
    "#         # counter.control(nidaqmx.constants.TaskMode.TASK_UNRESERVE)\n",
    "#         # gate_task.control(nidaqmx.constants.TaskMode.TASK_UNRESERVE)\n",
    "    \n",
    "#     data=signal_counts(cps,count_per_average)\n",
    "#     counter.close()\n",
    "#     gate_task.close()\n",
    "#     # DAQ_device.reset_device()\n",
    "#     # pulser.reset()\n",
    "#     return data\n",
    "\n",
    "\n",
    "# # Function to Modify the Data\n",
    "# def signal_counts(all_counts,counts_in_one_average,*args):\n",
    "#     all_counts=np.array(all_counts)\n",
    "#     no_of_averages=int(len(all_counts)/counts_in_one_average)\n",
    "#     print(\"Crosscheck number of averges=\",no_of_averages)\n",
    "\n",
    "#     # Changing the cumulative counts to actual counts\n",
    "#     cumulative_counts = np.reshape(all_counts,(no_of_averages,counts_in_one_average))\n",
    "#     modified_matrix = np.delete(cumulative_counts, -1, 1)\n",
    "#     zero_array = np.zeros(no_of_averages, dtype=int)\n",
    "#     new_matrix = np.hstack((zero_array[:, np.newaxis], modified_matrix))\n",
    "#     actual_counts = np.subtract(cumulative_counts,new_matrix)\n",
    "#     averaged_actual_counts = np.mean(actual_counts,axis=0)\n",
    "\n",
    "#     # Separating Reference and Signal and averaging over Samples\n",
    "#     reference_samples = np.mean(np.reshape(averaged_actual_counts[::2],(steps,samples)),axis=1)\n",
    "#     signal_samples = np.mean(np.reshape(averaged_actual_counts[1::2],(steps,samples)),axis=1)\n",
    "\n",
    "#     # signal_photon = signal_samples/reference_samples\n",
    "#     # return signal_photon\n",
    "    \n",
    "#     return signal_samples  # for only delay measurements"
   ]
  },
  {
   "cell_type": "code",
   "execution_count": 14,
   "metadata": {
    "tags": []
   },
   "outputs": [],
   "source": [
    " def wrapper_without_frequency(*kwargs):\n",
    "     numberofpoints=samples*2 #because there are two readouts in single scan\n",
    "     pixel=numberofpoints*steps\n",
    "     DAQ_device.reset_device()\n",
    "     pulser.reset()\n",
    "     # galvo_move(xMin,yMin)\n",
    "     print(\"creating sequence\")\n",
    "     # Counter\n",
    "     CountWidth = nidaqmx.Task()\n",
    "     ciChannel = CountWidth.ci_channels.add_ci_count_edges_chan('/Dev1/ctr1',edge=nidaqmx.constants.Edge.RISING, initial_count=0, count_direction=nidaqmx.constants.CountDirection.COUNT_UP)\n",
    "     CountWidth.triggers.pause_trigger.dig_lvl_src='/Dev1/PFI4'\n",
    "     CountWidth.triggers.pause_trigger.trig_type=nidaqmx.constants.TriggerType.DIGITAL_LEVEL\n",
    "     CountWidth.triggers.pause_trigger.dig_lvl_when=nidaqmx.constants.Level.LOW\n",
    "     #CountWidth.timing.cfg_implicit_timing(sample_mode = nidaqmx.constants.AcquisitionType.FINITE, samps_per_chan=(pixel)*averages)#samps per channel defines the buffer size for the memory\n",
    "     CountWidth.timing.cfg_samp_clk_timing(rate=1e8,source='/Dev1/PFI5',active_edge=nidaqmx.constants.Edge.FALLING,sample_mode = nidaqmx.constants.AcquisitionType.FINITE, samps_per_chan=(pixel) )\n",
    "     cps = []\n",
    "     callback=[]\n",
    "     #countsdataset = pd.DataFrame([0],columns=['A'],dtype= object)\n",
    "     #PUlse streamer gating\n",
    "     # Digital output\n",
    "     DigChannel = 'Dev1/port0/line7'\n",
    "     DigTask = nidaqmx.Task()\n",
    "     DigTask.do_channels.add_do_chan(lines = DigChannel)\n",
    "     DigChannel = 'Dev1/port0/line7' #Defining the port for taking the output\n",
    "     def readBuffer(task_handle, every_n_samples_event_type, number_of_samples, callback_data):\n",
    "         CountWidth.in_stream.read_all_avail_samp = True\n",
    "         readPixels=readerWidth.read_many_sample_uint32(highCount, number_of_samples_per_channel=- 1, timeout=10.0)\n",
    "         cps.extend(highCount)\n",
    "         callback.extend([1])\n",
    "         return 0\n",
    "     buffersamplecount=numberofpoints\n",
    "     # Counter read task\n",
    "     readerWidth = nidaqmx.stream_readers.CounterReader(CountWidth.in_stream)\n",
    "     highCount = np.zeros(buffersamplecount, dtype = np.uint32)\n",
    "     #lowCount =  np.zeros(buffersamplecount,dtype = np.uint32)\n",
    "     # source_0.frequency(resonant_freq)\n",
    "     time.sleep(0.01)\n",
    "     # print(\"source frequency set to\",source_0.frequency())\n",
    "     # Read after filling the buffer with given number of samples\n",
    "     CountWidth.register_every_n_samples_acquired_into_buffer_event(buffersamplecount,readBuffer) #after every pixel it will trigger the callback\n",
    "     # Start tasks (digital output will be triggered by analog output)  ### ?\n",
    "     print(\"starting DAQ\")\n",
    "     #source_0.on()\n",
    "     #Adding infinite loop\n",
    "     t=0\n",
    "     run=0\n",
    "     data=[]\n",
    "     finaldata=[]\n",
    "     print(\"Preparing for the experiment\")\n",
    "     print(\"callback number in beginning:\",len(callback))\n",
    "     for i in trange(averages):\n",
    "         print(run)\n",
    "         time.sleep(0.05)\n",
    "         #CountWidth.control(nidaqmx.constants.TaskMode.TASK_RESERVE)\n",
    "         time.sleep(0.05)\n",
    "         CountWidth.start()\n",
    "         sequence = seqDelay(steps,laser_on,delay_read_on)\n",
    "         pulser.setTrigger(start=psl.TriggerStart.HARDWARE_RISING,rearm=psl.TriggerRearm.AUTO)\n",
    "         seq_num=0\n",
    "         time_start=time.time()\n",
    "         for s in sequence:   ### ?\n",
    "             t1=len(callback)\n",
    "             \n",
    "             seq_num=seq_num+1\n",
    "             pulser.stream(s, n_runs=samples,final=([],0,0))\n",
    "             print(seq_num)\n",
    "             # s.plot()\n",
    "             time_start=time.time()\n",
    "             DigTask.write(True)\n",
    "             while len(callback)==t1:\n",
    "                 time.sleep(0.005)\n",
    "             time_end=time.time()\n",
    "             DigTask.write(False)\n",
    "         print('time taken for on stream of all sequences', time_end-time_start)\n",
    "         print(\"callback number average end:\",len(callback))\n",
    "         run=run+1\n",
    "         CountWidth.control(nidaqmx.constants.TaskMode.TASK_UNRESERVE)\n",
    "     #data.append(np.mean(temp))\n",
    "     print(seq_num)\n",
    "     # source_0.off()\n",
    "     data=datainterpretdaq_pulsed_unreserve(cps,pixel)\n",
    "     #\n",
    "     # save_data_general(list=data,integration_window=lasRead,name_of_experiment=experimentname,xminsave=xMin,xmaxsave=xMin,yminsave=yMin,ymaxsave=yMin,comment='')\n",
    "     CountWidth.close()\n",
    "     DigTask.close()\n",
    "     return data\n",
    "\n",
    " def datainterpretdaq_pulsed_unreserve(combinedcounts,samples_in_one_average):\n",
    "     combinedcountarray=np.array(combinedcounts)\n",
    "     averagecount=int(len(combinedcounts)/samples_in_one_average)\n",
    "     print(\"crosscheck number of averges=\",averagecount)\n",
    "     combinedcountmatrix=np.reshape(combinedcountarray,(averagecount,samples_in_one_average))\n",
    "     ca=np.delete(combinedcountmatrix, -1, 1)\n",
    "     z = np.zeros(averagecount, dtype=int)\n",
    "     ca2=np.hstack((z[:, np.newaxis], ca))\n",
    "     correctedcounts=np.subtract(combinedcountmatrix,ca2)\n",
    "     averagedata=np.mean(correctedcounts,axis=0)\n",
    "     return averagedata"
   ]
  },
  {
   "cell_type": "code",
   "execution_count": 15,
   "metadata": {
    "tags": []
   },
   "outputs": [],
   "source": [
    "# reSet = pulser.reset()\n",
    "# for s in seqDelay(*pulse_args):\n",
    "#     pulser.stream(s,n_runs=samples,final=([],0,0))\n",
    "#     # reSet = pulser.reset()"
   ]
  },
  {
   "cell_type": "code",
   "execution_count": 16,
   "metadata": {
    "tags": []
   },
   "outputs": [],
   "source": [
    "# for i in range(int(1e9)):    \n",
    "#     if pulser.hasFinished()==1:\n",
    "#         s.plot()"
   ]
  },
  {
   "cell_type": "markdown",
   "metadata": {
    "jp-MarkdownHeadingCollapsed": true,
    "tags": []
   },
   "source": [
    "##### Other Functions"
   ]
  },
  {
   "cell_type": "code",
   "execution_count": 18,
   "metadata": {
    "tags": []
   },
   "outputs": [],
   "source": [
    "# # Curve_fitting Function\n",
    "# def curveFit(x,y0,y_max,tau):\n",
    "#     return y0+y_max*np.exp(-x/tau)\n",
    "\n",
    "# # Function to calculate the Lifetime\n",
    "# def lifetime_fit(*args):\n",
    "#     indices = np.where(y_old!=0)\n",
    "#     yOld = y_old[indices]; xOld = x_old[indices]\n",
    "#     if type(fit_range)==np.ndarray:\n",
    "#         range_indicies = np.where(np.logical_and(xOld>=fit_range[0],xOld<=fit_range[1]))\n",
    "#         x_old_ranged = xOld[range_indicies]; y_old_ranged = yOld[range_indicies]\n",
    "#         coefficient, covariance_matrix = curve_fit(curveFit,x_old_ranged,y_old_ranged,p0=guess_params,absolute_sigma=False)\n",
    "#         error_bars = np.sqrt(np.diag(covariance_matrix))\n",
    "#         condition_number =  np.format_float_scientific(np.linalg.cond(covariance_matrix),precision=2)\n",
    "#         x_curve_fit = x_old_ranged; y_curve_fit = y_old_ranged\n",
    "#     else:\n",
    "#         coefficient, covariance_matrix = curve_fit(curveFit,xOld,yOld,p0=guess_params,absolute_sigma=False)\n",
    "#         error_bars = np.sqrt(np.diag(covariance_matrix))\n",
    "#         condition_number =  np.format_float_scientific(np.linalg.cond(covariance_matrix),precision=2)\n",
    "#         x_curve_fit = xOld; y_curve_fit = yOld\n",
    "\n",
    "#     x_new = x_curve_fit\n",
    "#     y_new = curveFit(x_new,*coefficient)\n",
    "\n",
    "#     # Different ways of 'Goodness of Fit' Test\n",
    "#     chi_square_test, p_value = stats.chisquare(y_curve_fit, y_new)\n",
    "#     ss_res = np.sum(np.square(y_curve_fit-y_new )); ss_total = np.sum(np.square(y_curve_fit-np.mean(y_curve_fit)))\n",
    "#     r_squared = 1-(ss_res/ss_total)\n",
    "#     mean_squared_error = np.square(np.subtract(y_new,y_curve_fit)).mean()\n",
    "\n",
    "#     print(f'Lifetime in nano_second is : {coefficient[2]}.\\n')\n",
    "#     print(f'Chi_square, p-value, R_squared,MeanSquaredError and Condition Number are : {np.round(chi_square_test,3)}\\t{np.round(p_value,3)}\\\n",
    "#     \\t{np.round(r_squared,3)}\\t{np.round(mean_squared_error,5)}\\t{condition_number}.\\n')\n",
    "#     if p_value<=0.05:\n",
    "#         print('The p_value of fitting is low. Please check the fitting!')\n",
    "#     return xOld,yOld,x_new,y_new,coefficient,error_bars\n",
    "\n",
    "# # Replacing mistakes in file naming\n",
    "# def replace_space(name):\n",
    "#     name = name.replace(' ', '_').replace('.','_').replace('__','_').replace('___','_')\n",
    "#     if name[-1]=='_':  name=name[:-1]\n",
    "#     return name\n",
    "\n",
    "# # Tkinter Messagebox\n",
    "# def tkinter_permission(file_type):\n",
    "#     root = tk.Tk()\n",
    "#     root.title('Permission accesss')\n",
    "#     root.geometry('300x150')\n",
    "#     root.eval('tk::PlaceWindow . center')\n",
    "#     def confirmation():\n",
    "#         globals()['permission'] = askyesno(title = None,message='Confirmation of Overwriting!')\n",
    "#         if globals()['permission']:\n",
    "#             top = Toplevel(root)     # using Toplevel\n",
    "#             top.update_idletasks()\n",
    "#             screen_width = top.winfo_screenwidth()\n",
    "#             screen_height = top.winfo_screenheight()\n",
    "#             size = tuple(int(_) for _ in top.geometry().split('+')[0].split('x'))\n",
    "#             x = screen_width/2 - size[0]/2\n",
    "#             y = screen_height/2 - size[1]/2\n",
    "#             top.geometry(\"+%d+%d\" % (x, y))\n",
    "\n",
    "#             top.title(None)\n",
    "#             Message(top, text=f'{file_type} is going to be overwritten!', padx=100, pady=100).pack()\n",
    "#             top.after(1500, top.destroy)       \n",
    "#             root.after(1500, root.destroy)\n",
    "#         else:\n",
    "#             root.destroy()\n",
    "#     root_button = Button(root,text=f'Do you want to overwrite\\n the exiting {file_type}?',command=confirmation)\n",
    "#     root_button.pack(side = TOP, expand=0.5)\n",
    "#     root.mainloop()\n",
    "\n",
    "\n",
    "# # Saving file in given directory\n",
    "# def file_save(directory_name,file_name,contents):\n",
    "#     # file_name = file_name+'.txt'\n",
    "#     file_name = file_name+'.npz'\n",
    "#     if not os.path.exists(directory_name):\n",
    "#         os.makedirs(directory_name)\n",
    "#     total_path = os.path.join(directory_name, file_name)\n",
    "#     if os.path.exists(total_path)==True:\n",
    "#         tkinter_permission(file_type='Data_file')\n",
    "#         if globals()['permission']==0:\n",
    "#             raise Exception('File is not saved!')\n",
    "#         # print('The same file name already exist. Do you want to overwrite it?\\n')\n",
    "#         # overwrite_permission = input('Type 0 or 1 : ')\n",
    "#         # if int(overwrite_permission)==0:\n",
    "#         #     raise Exception('New data file has not been saved')\n",
    "#         # else:\n",
    "#         #     print('File is going to be overwritten.')\n",
    "#     np.savetxt(total_path,np.transpose(contents),newline='\\n') # saving in column mode\n",
    "#     if os.path.exists(total_path)==False:\n",
    "#         raise Exception('Saved file does not exist!\\n')\n",
    "#     elif os.stat(total_path).st_size == False:\n",
    "#         raise Exception('Saved file is empty!\\n')\n",
    "#     else:\n",
    "#         print(f'Saving data_file {file_name} is successful!\\n')\n",
    "\n",
    "# # Saving Image in given directory\n",
    "# def image_save(directory_name,file_name,fig_to_save,extension):\n",
    "#     file_name = file_name+'.'+extension\n",
    "#     if not os.path.exists(directory_name):\n",
    "#         os.makedirs(directory_name)\n",
    "#     total_path = os.path.join(directory_name, file_name)\n",
    "#     if os.path.exists(total_path)==True:\n",
    "#         tkinter_permission(file_type='Image_file')\n",
    "#         if globals()['permission']==0:\n",
    "#             raise Exception('Image is not saved!')\n",
    "#     if str(extension)=='html':\n",
    "#         fig_to_save.write_html(total_path)                          # saving image in 'html' format\n",
    "#     else:\n",
    "#         fig_to_save.write_image(total_path)                         # saving image in mentioned static format\n",
    "#     if os.path.exists(total_path)==False:\n",
    "#         raise Exception('Saved image does not exist!\\n')\n",
    "#     elif os.stat(total_path).st_size == False:\n",
    "#         raise Exception('Saved image is empty!\\n')\n",
    "#     else:\n",
    "#         print(f'Saving Image {file_name} is successful!\\n')"
   ]
  },
  {
   "cell_type": "code",
   "execution_count": 19,
   "metadata": {
    "tags": []
   },
   "outputs": [],
   "source": [
    "# permission = 0\n",
    "\n",
    "# # Tkinter Messagebox\n",
    "# def tkinter_permission(file_type):\n",
    "#     root = tk.Tk()\n",
    "#     root.title('Permission accesss')\n",
    "#     root.geometry('300x150')\n",
    "#     root.eval('tk::PlaceWindow . center')\n",
    "#     def confirmation():\n",
    "#         globals()['permission'] = askyesno(title = None,message='Confirmation of Overwriting!')\n",
    "#         if globals()['permission']:\n",
    "#             top = Toplevel(root)     # using Toplevel\n",
    "#             top.update_idletasks()\n",
    "#             screen_width = top.winfo_screenwidth()\n",
    "#             screen_height = top.winfo_screenheight()\n",
    "#             size = tuple(int(_) for _ in top.geometry().split('+')[0].split('x'))\n",
    "#             x = screen_width/2 - size[0]/2\n",
    "#             y = screen_height/2 - size[1]/2\n",
    "#             top.geometry(\"+%d+%d\" % (x, y))\n",
    "\n",
    "#             top.title(None)\n",
    "#             Message(top, text=f'{file_type} is going to be overwritten!', padx=100, pady=100).pack()\n",
    "#             top.after(1500, top.destroy)       \n",
    "#             root.after(1500, root.destroy)\n",
    "#         else:\n",
    "#             root.destroy()\n",
    "#     root_button = Button(root,text=f'Do you want to overwrite\\n the exiting {file_type}?',command=confirmation)\n",
    "#     root_button.pack(side = TOP, expand=0.5)\n",
    "#     root.mainloop()\n",
    "\n",
    "# total_path = r\"C:\\Users\\Administrator\\OneDrive\\Desktop\\T1_measurement\\Instrument_Automation\\Experimental_Applications\\Exp_Data\\Empty_data.txt\"\n",
    "# def check_tkinter(*args):\n",
    "#     if os.path.exists(total_path)==True:\n",
    "#         tkinter_permission('file')\n",
    "#         if globals()['permission']==0:\n",
    "#             raise Exception('File is not saved!')\n",
    "#         if globals()['permission']==1:\n",
    "#             print(f\"File is successfully saved\")\n",
    "# check_tkinter(total_path)"
   ]
  },
  {
   "cell_type": "markdown",
   "metadata": {},
   "source": [
    "#### Working Functions"
   ]
  },
  {
   "cell_type": "markdown",
   "metadata": {
    "id": "l3nd_jQNDgOs",
    "jp-MarkdownHeadingCollapsed": true,
    "tags": []
   },
   "source": [
    "##### Fig Template"
   ]
  },
  {
   "cell_type": "code",
   "execution_count": 22,
   "metadata": {
    "id": "tv8O9YN9BuRQ",
    "tags": []
   },
   "outputs": [],
   "source": [
    "fig_template = go.layout.Template()\n",
    "fig_template.layout = {\n",
    "    'template': 'simple_white+presentation',\n",
    "    'autosize': False,\n",
    "    'width': 800,\n",
    "    'height': 600,\n",
    "    # 'opacity': 0.2,\n",
    "    'xaxis': {\n",
    "        'ticks': 'inside',\n",
    "        'mirror': 'ticks',\n",
    "        'linewidth': 1.5+0.5,\n",
    "        'tickwidth': 1.5+0.5,\n",
    "        'ticklen': 6,\n",
    "        'showline': True,\n",
    "        'showgrid': False,\n",
    "        'zerolinecolor': 'white',\n",
    "        },\n",
    "    'yaxis': {\n",
    "        'ticks': 'inside',\n",
    "        'mirror': 'ticks',\n",
    "        'linewidth': 1.5+0.5,\n",
    "        'tickwidth': 1.5+0.5,\n",
    "        'ticklen': 6,\n",
    "        'showline': True,\n",
    "        'showgrid': False,\n",
    "        'zerolinecolor': 'white'\n",
    "        },\n",
    "    'font':{'family':'mathjax',\n",
    "            'size': 22,\n",
    "            }\n",
    "}"
   ]
  },
  {
   "cell_type": "markdown",
   "metadata": {
    "tags": []
   },
   "source": [
    "##### Sequences"
   ]
  },
  {
   "cell_type": "code",
   "execution_count": 24,
   "metadata": {
    "tags": []
   },
   "outputs": [],
   "source": [
    "# def delaytest_sequence2(rising_delay=2,gatelen = 6, laserontime = 31,delay_pad = 2,delay_shift = 2,gatesourcedelay=2):\n",
    "\n",
    "#     seq = pulser.createSequence()\n",
    "   \n",
    "#     gateStart = 5\n",
    "#     source=7\n",
    "#     totaltime= 2*delay_pad + laserontime +2*rising_delay\n",
    "#     steps=int((totaltime-gatelen-rising_delay)/delay_shift)\n",
    "    \n",
    "#     # globals()['global_steps']=steps\n",
    "\n",
    "#     laserNum = 1\n",
    "#     i=0\n",
    "#     while i<steps:\n",
    "#         seq.setDigital(\n",
    "#            laserNum,\n",
    "#            [\n",
    "#                (int(delay_pad+rising_delay), 0),\n",
    "#                (int(laserontime), 1),\n",
    "#                (int(rising_delay+delay_pad),0),\n",
    "\n",
    "#            ],\n",
    "#         )\n",
    "#         totaltime= 2*delay_pad + laserontime +2*rising_delay\n",
    "#         gatingofftime=totaltime - gatelen - i*delay_shift-rising_delay\n",
    "#         #print(gatingofftime)\n",
    "#         seq.setDigital(\n",
    "#            gateStart,\n",
    "#            [\n",
    "#                (int(i*delay_shift+rising_delay), 0),\n",
    "#                (int(gatelen), 1),\n",
    "#                (int(gatingofftime), 0),\n",
    "#            ],\n",
    "#         )\n",
    "#         time = int(rising_delay+i*delay_shift)\n",
    "\n",
    "#         seq.setDigital(\n",
    "#            source,\n",
    "#            [\n",
    "#                (int(i*delay_shift+rising_delay), 0),\n",
    "#                (int(gatelen-gatesourcedelay), 1),\n",
    "#                (int(gatingofftime+gatesourcedelay), 0),\n",
    "#            ],\n",
    "#         )\n",
    "\n",
    "#         #print(i*delay_shift)\n",
    "#         #print(gatingofftime)\n",
    "#         yield seq,time\n",
    "#         i=i+1"
   ]
  },
  {
   "cell_type": "code",
   "execution_count": 25,
   "metadata": {
    "tags": []
   },
   "outputs": [],
   "source": [
    "# def delaytest_sequence2(rising_delay=8,gatelen = 35, laserontime = 300,delay_pad = 2,delay_shift = 2,gatesourcedelay=2):\n",
    "    \n",
    "#     seq = pulser.createSequence()\n",
    "   \n",
    "#     laserNum = 1\n",
    "#     gateStart = 5\n",
    "#     source=7\n",
    "    \n",
    "#     totaltime= 2*delay_pad + laserontime +2*rising_delay\n",
    "#     # steps=int((totaltime-gatelen-2*rising_delay)/delay_shift)\n",
    "#     steps=int((totaltime-2*gatelen-2*rising_delay)/delay_shift)\n",
    "    \n",
    "        \n",
    "#     # i=0\n",
    "#     for i in range(steps):\n",
    "#     # while i<steps:\n",
    "#         seq.setDigital(\n",
    "#            laserNum,\n",
    "#            [\n",
    "#                (int(delay_pad+rising_delay), 0),\n",
    "#                (int(laserontime), 1),\n",
    "#                (int(rising_delay+delay_pad),0),\n",
    "\n",
    "#            ],\n",
    "#         )\n",
    "#         totaltime= 2*delay_pad + laserontime +2*rising_delay\n",
    "#         gatingofftime=totaltime - gatelen - i*delay_shift-rising_delay\n",
    "        \n",
    "#         seq.setDigital(\n",
    "#            gateStart,\n",
    "#            [\n",
    "#                (int(rising_delay),0),\n",
    "#                (int(gatelen),1),\n",
    "#                (int(i*delay_shift+rising_delay), 0),\n",
    "#                (int(gatelen), 1),\n",
    "#                (int(totaltime-2*rising_delay-2*gatelen-i*delay_shift), 0),\n",
    "#            ],\n",
    "#         )\n",
    "#         time = int(rising_delay+gatelen+rising_delay+i*delay_shift)\n",
    "#         seq.setDigital(\n",
    "#            source,\n",
    "#            [\n",
    "#                (int(rising_delay),0),\n",
    "#                (int(gatelen-gatesourcedelay),1),\n",
    "#                (int(i*delay_shift+rising_delay+gatesourcedelay), 0),\n",
    "#                (int(gatelen-gatesourcedelay), 1),\n",
    "#                (int(totaltime-2*rising_delay-2*gatelen-i*delay_shift-gatesourcedelay), 0),\n",
    "#            ],\n",
    "#         )\n",
    "#         yield seq,time\n",
    "#         # i=i+1"
   ]
  },
  {
   "cell_type": "code",
   "execution_count": 26,
   "metadata": {
    "tags": []
   },
   "outputs": [],
   "source": [
    "# T1 Measurement Sequence\n",
    "def seqSNR(rising_delay = 50,gatelen = 50, laserontime = 3e3,delay_pad = 50,delay_shift = 0.1e3,gatesourcedelay = 5,evolution_time = 5e6):  \n",
    "    \n",
    "    seq = pulser.createSequence()\n",
    "   \n",
    "    laserNum = 1\n",
    "    gateStart = 5\n",
    "    source=7\n",
    "    \n",
    "    steps=int((laserontime-gatelen)/delay_shift)\n",
    "    # print(f'Number of Steps : {steps}')\n",
    "    \n",
    "    \n",
    "    for i in range(steps):\n",
    "\n",
    "        gatelen = gatelen+i*delay_shift\n",
    "        # print(gatelen,laserontime)\n",
    "        \n",
    "        seq.setDigital(\n",
    "           laserNum,\n",
    "           [\n",
    "               (int(delay_pad+rising_delay), 0),\n",
    "               (int(laserontime), 1),\n",
    "               (int(rising_delay), 0),\n",
    "               (int(laserontime), 1),\n",
    "               (int(rising_delay+evolution_time),0),\n",
    "               (int(laserontime), 1),\n",
    "               (int(delay_pad+rising_delay), 0),\n",
    "\n",
    "           ],\n",
    "        )\n",
    "        \n",
    "        seq.setDigital(\n",
    "           gateStart,\n",
    "            [\n",
    "               (int(delay_pad+rising_delay), 0),\n",
    "               (int(laserontime), 0),\n",
    "               (int(rising_delay), 0),\n",
    "               (int(gatelen), 1),\n",
    "               (int(laserontime-gatelen+rising_delay+evolution_time),0),\n",
    "               (int(gatelen), 1),\n",
    "               (int(delay_pad+rising_delay+laserontime-gatelen), 0),\n",
    "\n",
    "           ],\n",
    "        )\n",
    "        \n",
    "        time = int(gatelen)\n",
    "        \n",
    "        seq.setDigital(\n",
    "           source,\n",
    "            [\n",
    "               (int(delay_pad+rising_delay), 0),\n",
    "               (int(laserontime), 0),\n",
    "               (int(rising_delay), 0),\n",
    "               (int(gatelen-gatesourcedelay), 1),\n",
    "               (int(laserontime-gatelen+gatesourcedelay+rising_delay+evolution_time),0),\n",
    "               (int(gatelen-gatesourcedelay), 1),\n",
    "               (int(delay_pad+rising_delay+laserontime-gatelen+gatesourcedelay), 0),\n",
    "\n",
    "           ],\n",
    "        )\n",
    "        yield seq,time"
   ]
  },
  {
   "cell_type": "code",
   "execution_count": 27,
   "metadata": {
    "tags": []
   },
   "outputs": [],
   "source": [
    "# T1 Measurement Sequence\n",
    "def seqT1(rising_delay = 100,gatelen = 2e3, laserontime = 20e3,delay_pad = 100,delay_shift = 100e3,gatesourcedelay = 5,evolution_time = 5e6):  \n",
    "    \n",
    "    seq = pulser.createSequence()\n",
    "   \n",
    "    laserNum = 1\n",
    "    gateStart = 5\n",
    "    source=7\n",
    "    \n",
    "    total_time= delay_pad+rising_delay+laserontime+rising_delay+laserontime+rising_delay+evolution_time+laserontime+rising_delay+delay_pad\n",
    "    steps=int(evolution_time/delay_shift)\n",
    "    # print(f'Number of Steps : {steps}')\n",
    "    \n",
    "    \n",
    "    for i in range(steps):\n",
    "        laser_offtime = total_time - delay_pad -3*rising_delay-3*laserontime-i*delay_shift\n",
    "        seq.setDigital(\n",
    "           laserNum,\n",
    "           [\n",
    "               (int(delay_pad+rising_delay), 0),\n",
    "               (int(laserontime), 1),\n",
    "               (int(rising_delay), 0),\n",
    "               (int(laserontime), 1),\n",
    "               (int(rising_delay+i*delay_shift),0),\n",
    "               (int(laserontime), 1),\n",
    "               (int(delay_pad+rising_delay), 0),\n",
    "\n",
    "           ],\n",
    "        )\n",
    "        \n",
    "        gate_offtime = total_time - delay_pad -3*rising_delay-2*laserontime-gatelen-i*delay_shift\n",
    "        seq.setDigital(\n",
    "           gateStart,\n",
    "            [\n",
    "               (int(delay_pad+rising_delay), 0),\n",
    "               (int(laserontime), 0),\n",
    "               (int(rising_delay), 0),\n",
    "               (int(gatelen), 1),\n",
    "               (int(laserontime-gatelen+rising_delay+i*delay_shift),0),\n",
    "               (int(gatelen), 1),\n",
    "               (int(delay_pad+rising_delay+laserontime-gatelen), 0),\n",
    "\n",
    "           ],\n",
    "        )\n",
    "        \n",
    "        time = int(rising_delay+i*delay_shift)\n",
    "        \n",
    "        seq.setDigital(\n",
    "           source,\n",
    "            [\n",
    "               (int(delay_pad+rising_delay), 0),\n",
    "               (int(laserontime), 0),\n",
    "               (int(rising_delay), 0),\n",
    "               (int(gatelen-gatesourcedelay), 1),\n",
    "               (int(laserontime-gatelen+gatesourcedelay+rising_delay+i*delay_shift),0),\n",
    "               (int(gatelen-gatesourcedelay), 1),\n",
    "               (int(delay_pad+rising_delay+laserontime-gatelen+gatesourcedelay), 0),\n",
    "\n",
    "           ],\n",
    "        )\n",
    "        yield seq,time"
   ]
  },
  {
   "cell_type": "code",
   "execution_count": 28,
   "metadata": {
    "tags": []
   },
   "outputs": [],
   "source": [
    "# sequence = seqSNR(rising_delay = 50,gatelen = 50, laserontime = 3e3,delay_pad = 50,delay_shift = 0.1e3,gatesourcedelay = 5,evolution_time = 5e6)\n",
    "# # sequence = seqSNR(rising_delay = 50,gatelen = 50, laserontime = 300,delay_pad = 50,delay_shift = 50,gatesourcedelay = 5,evolution_time = 5000)\n",
    "\n",
    "# seq_number = 1\n",
    "# for seq in sequence:\n",
    "#     print(f'Seq. No. : {seq_number}'); seq_number+=1\n",
    "#     seq[0].plot()"
   ]
  },
  {
   "cell_type": "code",
   "execution_count": 29,
   "metadata": {
    "tags": []
   },
   "outputs": [],
   "source": [
    "def get_time(rising_delay,gatelen, laserontime,delay_pad,delay_shift,gatesourcedelay,evolution_time): \n",
    "    delay_time = []\n",
    "    # sequence_time = seqT1(rising_delay = rising_delay,gatelen = gatelen, laserontime = laserontime,\n",
    "    #                                       delay_pad = delay_pad,delay_shift = delay_shift,gatesourcedelay = gatesourcedelay,evolution_time = evolution_time)\n",
    "    sequence_time = seqSNR(rising_delay = rising_delay,gatelen = gatelen, laserontime = laserontime,\n",
    "                                          delay_pad = delay_pad,delay_shift = delay_shift,gatesourcedelay = gatesourcedelay,evolution_time = evolution_time)\n",
    "    for t in sequence_time:\n",
    "        delay_time.append(t[1])\n",
    "\n",
    "    delay_time = np.array(delay_time)\n",
    "    return delay_time"
   ]
  },
  {
   "cell_type": "code",
   "execution_count": 30,
   "metadata": {
    "tags": []
   },
   "outputs": [],
   "source": [
    "def delay_test(path,samples=500,averages=5,xMin=1.629,yMin=0.458,comment='',\n",
    "               rising_delay = 50,gatelen = 50, laserontime = 3e3,delay_pad = 50,delay_shift = 0.1e3,gatesourcedelay = 5,evolution_time = 5e6,\n",
    "               filenumber=1,filename='withoutReference'):\n",
    "    \n",
    "    total_time= delay_pad+rising_delay+laserontime+rising_delay+laserontime+rising_delay+evolution_time+laserontime+rising_delay+delay_pad\n",
    "    # steps=int(evolution_time/delay_shift)               #for T1 \n",
    "    steps=int((laserontime-gatelen)/delay_shift)          #for SNR\n",
    "    print(f'Number of Steps : {steps}')\n",
    "    \n",
    "    numberofpoints=samples*2  # with reference \n",
    "    # numberofpoints=samples  # without reference \n",
    "    \n",
    "    # pixel=samples*steps\n",
    "    pixel=numberofpoints*steps \n",
    "    print(f'Pixel : {pixel}')\n",
    "    DAQ_device.reset_device()\n",
    "    pulser.reset()\n",
    "    print(\"creating sequence\")\n",
    "   \n",
    "    # Counter\n",
    "    CountWidth = nidaqmx.Task()\n",
    "    ciChannel = CountWidth.ci_channels.add_ci_count_edges_chan('/Dev1/ctr1',edge=nidaqmx.constants.Edge.RISING, initial_count=0,\n",
    "                                                               count_direction=nidaqmx.constants.CountDirection.COUNT_UP) # which specification are we measuring here?\n",
    "\n",
    "    CountWidth.triggers.pause_trigger.dig_lvl_src='/Dev1/PFI4'\n",
    "    CountWidth.triggers.pause_trigger.trig_type=nidaqmx.constants.TriggerType.DIGITAL_LEVEL\n",
    "    CountWidth.triggers.pause_trigger.dig_lvl_when=nidaqmx.constants.Level.LOW\n",
    "\n",
    "\n",
    "    #CountWidth.timing.cfg_implicit_timing(sample_mode = nidaqmx.constants.AcquisitionType.FINITE, samps_per_chan=(pixel)*averages)#samps per channel defines the buffer size for the memory\n",
    "    CountWidth.timing.cfg_samp_clk_timing(rate=1e8,source='/Dev1/PFI5',active_edge=nidaqmx.constants.Edge.FALLING,\n",
    "                                          sample_mode = nidaqmx.constants.AcquisitionType.FINITE, samps_per_chan=(pixel)*averages )\n",
    "    cps = []\n",
    "    callback=[]  \n",
    "   \n",
    "    #Pulse streamer gating\n",
    "    # Digital output\n",
    "    DigChannel = 'Dev1/port0/line7' #connect this to PFI 4 #this is ctr 1 gate\n",
    "    DigTask = nidaqmx.Task()\n",
    "    DigTask.do_channels.add_do_chan(lines = DigChannel)\n",
    "    DigChannel = 'Dev1/port0/line7' #Defining the port for taking the output\n",
    "   \n",
    "   \n",
    "    def readBuffer(task_handle, every_n_samples_event_type, number_of_samples, callback_data):\n",
    "        CountWidth.in_stream.read_all_avail_samp = True\n",
    "        readPixels=readerWidth.read_many_sample_uint32(highCount, number_of_samples_per_channel=- 1, timeout=10.0)\n",
    "        cps.extend(highCount)\n",
    "        callback.extend([1])\n",
    "        return 0\n",
    "\n",
    "    buffersamplecount=numberofpoints\n",
    "    # buffersamplecount=samples\n",
    "    \n",
    "    # Counter read task\n",
    "    readerWidth = nidaqmx.stream_readers.CounterReader(CountWidth.in_stream)    \n",
    "    highCount = np.zeros(buffersamplecount, dtype = np.uint32)\n",
    "    lowCount =  np.zeros(buffersamplecount,dtype = np.uint32)\n",
    "\n",
    "\n",
    "    # Read after filling the buffer with given number of samples\n",
    "    CountWidth.register_every_n_samples_acquired_into_buffer_event(buffersamplecount,readBuffer) #after every pixel it will trigger the callback\n",
    "\n",
    "   \n",
    "    # Start tasks (digital output will be triggered by analog output)\n",
    "    print(\"starting DAQ\")\n",
    "    CountWidth.start()\n",
    "    #Adding infinite loop\n",
    "    t=0\n",
    "    waittime=(delay_pad + laserontime)*samples*1e-9\n",
    "   \n",
    "    run=0\n",
    "    data=[]\n",
    "    finaldata=[]\n",
    "    print(\"Preparing Ni Daq for the experiment\")\n",
    "    print(\"callback number in beginning:\",len(callback))\n",
    "\n",
    "    i=0\n",
    "    for run in trange(averages):\n",
    "    # while run<(averages):\n",
    "        # sequence_time=seqT1(rising_delay = rising_delay,gatelen = gatelen, laserontime = laserontime,\n",
    "        #                                   delay_pad = delay_pad,delay_shift = delay_shift,gatesourcedelay = gatesourcedelay,evolution_time = evolution_time)\n",
    "        sequence_time= seqSNR(rising_delay = rising_delay,gatelen = gatelen, laserontime = laserontime,\n",
    "                              delay_pad = delay_pad,delay_shift = delay_shift,gatesourcedelay = gatesourcedelay,evolution_time = evolution_time)\n",
    "        pulser.setTrigger(start=psl.TriggerStart.HARDWARE_RISING,rearm=psl.TriggerRearm.AUTO)\n",
    "        seq_num=0\n",
    "       \n",
    "        for s in sequence_time:\n",
    "            t1=len(callback)\n",
    "           \n",
    "            seq_num=seq_num+1\n",
    "            print(seq_num)\n",
    "            i+=1\n",
    "            pulser.stream(s[0], n_runs=samples)         \n",
    "\n",
    "            DigTask.write(True)\n",
    "            while len(callback)==t1:\n",
    "                time.sleep(0.001)         \n",
    "            DigTask.write(False)\n",
    "         \n",
    "        run=run+1\n",
    "        print(f\"callback number after {run}-th average end: {len(callback)}\")\n",
    "        \n",
    "    print(f'Total Run : {i}')\n",
    "    delaydata=signal_counts(cps,pixel,numberofpoints,steps)    \n",
    "    time_axis =get_time(rising_delay = rising_delay,gatelen = gatelen, laserontime = laserontime,\n",
    "                                          delay_pad = delay_pad,delay_shift = delay_shift,gatesourcedelay = gatesourcedelay,evolution_time = evolution_time)\n",
    "    \n",
    "    CountWidth.close()\n",
    "    DigTask.close()\n",
    "    params(samples,averages,filename,rising_delay ,gatelen , laserontime ,delay_pad ,delay_shift ,gatesourcedelay ,evolution_time)     \n",
    "    \n",
    "    return delaydata,time_axis\n",
    "\n",
    "# Function to Modify the Data\n",
    "def signal_counts(all_counts,counts_in_one_average,numberofpoints,steps,*args):\n",
    "    all_counts=np.array(all_counts)\n",
    "    print(f'Total Counts & Counts in one average : {len(all_counts), counts_in_one_average}')\n",
    "    no_of_averages=int(len(all_counts)/counts_in_one_average)\n",
    "    print(\"Crosscheck number of averges=\",no_of_averages)\n",
    "\n",
    "    # Changing the cumulative counts to actual counts\n",
    "    cumulative_counts = np.reshape(all_counts,(no_of_averages,counts_in_one_average))\n",
    "    modified_matrix = np.delete(cumulative_counts, -1, 1)\n",
    "    zero_array = np.zeros(no_of_averages, dtype=int)\n",
    "    new_matrix = np.hstack((zero_array[:, np.newaxis], modified_matrix))\n",
    "    actual_counts = np.subtract(cumulative_counts,new_matrix)\n",
    "    averaged_actual_counts = np.mean(actual_counts,axis=0)\n",
    "\n",
    "    \n",
    "    return averaged_actual_counts "
   ]
  },
  {
   "cell_type": "code",
   "execution_count": 31,
   "metadata": {
    "tags": []
   },
   "outputs": [],
   "source": [
    "samples=0\n",
    "averages=0\n",
    "filename=''\n",
    "rising_delay = 0\n",
    "gatelen = 0    \n",
    "laserontime = 0\n",
    "delay_pad = 0\n",
    "delay_shift = 0\n",
    "gatesourcedelay = 0\n",
    "evolution_time = 0\n",
    "def params(samples,averages,filename,rising_delay ,gatelen , laserontime ,delay_pad ,delay_shift ,gatesourcedelay ,evolution_time):   \n",
    "    globals()['samples']=samples\n",
    "    globals()['averages']=averages\n",
    "    globals()['filename']=filename\n",
    "    globals()['rising_delay']=rising_delay \n",
    "    globals()['gatelen']=gatelen    \n",
    "    globals()['laserontime']=laserontime \n",
    "    globals()['delay_pad']=delay_pad \n",
    "    globals()['delay_shift']=delay_shift \n",
    "    globals()['gatesourcedelay']=gatesourcedelay \n",
    "    globals()['evolution_time']=evolution_time \n",
    "    \n",
    "    return 0"
   ]
  },
  {
   "cell_type": "code",
   "execution_count": 32,
   "metadata": {
    "tags": []
   },
   "outputs": [
    {
     "name": "stdout",
     "output_type": "stream",
     "text": [
      "Number of Steps : 9\n",
      "Pixel : 9000\n",
      "creating sequence\n",
      "starting DAQ\n",
      "Preparing Ni Daq for the experiment\n",
      "callback number in beginning: 0\n"
     ]
    },
    {
     "name": "stderr",
     "output_type": "stream",
     "text": [
      "  0%|          | 0/20 [00:00<?, ?it/s]"
     ]
    },
    {
     "name": "stdout",
     "output_type": "stream",
     "text": [
      "1\n",
      "2\n",
      "3\n",
      "4\n",
      "5\n",
      "6\n",
      "7\n",
      "8\n",
      "9\n"
     ]
    },
    {
     "name": "stderr",
     "output_type": "stream",
     "text": [
      "  5%|▌         | 1/20 [00:22<07:11, 22.72s/it]"
     ]
    },
    {
     "name": "stdout",
     "output_type": "stream",
     "text": [
      "callback number after 1-th average end: 9\n",
      "1\n",
      "2\n",
      "3\n",
      "4\n",
      "5\n",
      "6\n",
      "7\n",
      "8\n",
      "9\n"
     ]
    },
    {
     "name": "stderr",
     "output_type": "stream",
     "text": [
      " 10%|█         | 2/20 [00:45<06:49, 22.73s/it]"
     ]
    },
    {
     "name": "stdout",
     "output_type": "stream",
     "text": [
      "callback number after 2-th average end: 18\n",
      "1\n",
      "2\n",
      "3\n",
      "4\n",
      "5\n",
      "6\n",
      "7\n",
      "8\n",
      "9\n"
     ]
    },
    {
     "name": "stderr",
     "output_type": "stream",
     "text": [
      " 15%|█▌        | 3/20 [01:08<06:26, 22.72s/it]"
     ]
    },
    {
     "name": "stdout",
     "output_type": "stream",
     "text": [
      "callback number after 3-th average end: 27\n",
      "1\n",
      "2\n",
      "3\n",
      "4\n",
      "5\n",
      "6\n",
      "7\n",
      "8\n",
      "9\n"
     ]
    },
    {
     "name": "stderr",
     "output_type": "stream",
     "text": [
      " 20%|██        | 4/20 [01:30<06:03, 22.72s/it]"
     ]
    },
    {
     "name": "stdout",
     "output_type": "stream",
     "text": [
      "callback number after 4-th average end: 36\n",
      "1\n",
      "2\n",
      "3\n",
      "4\n",
      "5\n",
      "6\n",
      "7\n",
      "8\n",
      "9\n"
     ]
    },
    {
     "name": "stderr",
     "output_type": "stream",
     "text": [
      " 25%|██▌       | 5/20 [01:53<05:40, 22.72s/it]"
     ]
    },
    {
     "name": "stdout",
     "output_type": "stream",
     "text": [
      "callback number after 5-th average end: 45\n",
      "1\n",
      "2\n",
      "3\n",
      "4\n",
      "5\n",
      "6\n",
      "7\n",
      "8\n",
      "9\n"
     ]
    },
    {
     "name": "stderr",
     "output_type": "stream",
     "text": [
      " 30%|███       | 6/20 [02:16<05:18, 22.72s/it]"
     ]
    },
    {
     "name": "stdout",
     "output_type": "stream",
     "text": [
      "callback number after 6-th average end: 54\n",
      "1\n",
      "2\n",
      "3\n",
      "4\n",
      "5\n",
      "6\n",
      "7\n",
      "8\n",
      "9\n"
     ]
    },
    {
     "name": "stderr",
     "output_type": "stream",
     "text": [
      " 35%|███▌      | 7/20 [02:39<04:55, 22.72s/it]"
     ]
    },
    {
     "name": "stdout",
     "output_type": "stream",
     "text": [
      "callback number after 7-th average end: 63\n",
      "1\n",
      "2\n",
      "3\n",
      "4\n",
      "5\n",
      "6\n",
      "7\n",
      "8\n",
      "9\n"
     ]
    },
    {
     "name": "stderr",
     "output_type": "stream",
     "text": [
      " 40%|████      | 8/20 [03:01<04:32, 22.72s/it]"
     ]
    },
    {
     "name": "stdout",
     "output_type": "stream",
     "text": [
      "callback number after 8-th average end: 72\n",
      "1\n",
      "2\n",
      "3\n",
      "4\n",
      "5\n",
      "6\n",
      "7\n",
      "8\n",
      "9\n"
     ]
    },
    {
     "name": "stderr",
     "output_type": "stream",
     "text": [
      " 45%|████▌     | 9/20 [03:24<04:09, 22.73s/it]"
     ]
    },
    {
     "name": "stdout",
     "output_type": "stream",
     "text": [
      "callback number after 9-th average end: 81\n",
      "1\n",
      "2\n",
      "3\n",
      "4\n",
      "5\n",
      "6\n",
      "7\n",
      "8\n",
      "9\n"
     ]
    },
    {
     "name": "stderr",
     "output_type": "stream",
     "text": [
      " 50%|█████     | 10/20 [03:47<03:47, 22.73s/it]"
     ]
    },
    {
     "name": "stdout",
     "output_type": "stream",
     "text": [
      "callback number after 10-th average end: 90\n",
      "1\n",
      "2\n",
      "3\n",
      "4\n",
      "5\n",
      "6\n",
      "7\n",
      "8\n",
      "9\n"
     ]
    },
    {
     "name": "stderr",
     "output_type": "stream",
     "text": [
      " 55%|█████▌    | 11/20 [04:10<03:25, 22.79s/it]"
     ]
    },
    {
     "name": "stdout",
     "output_type": "stream",
     "text": [
      "callback number after 11-th average end: 99\n",
      "1\n",
      "2\n",
      "3\n",
      "4\n",
      "5\n",
      "6\n",
      "7\n",
      "8\n",
      "9\n"
     ]
    },
    {
     "name": "stderr",
     "output_type": "stream",
     "text": [
      " 60%|██████    | 12/20 [04:32<03:02, 22.77s/it]"
     ]
    },
    {
     "name": "stdout",
     "output_type": "stream",
     "text": [
      "callback number after 12-th average end: 108\n",
      "1\n",
      "2\n",
      "3\n",
      "4\n",
      "5\n",
      "6\n",
      "7\n",
      "8\n",
      "9\n"
     ]
    },
    {
     "name": "stderr",
     "output_type": "stream",
     "text": [
      " 65%|██████▌   | 13/20 [04:55<02:39, 22.76s/it]"
     ]
    },
    {
     "name": "stdout",
     "output_type": "stream",
     "text": [
      "callback number after 13-th average end: 117\n",
      "1\n",
      "2\n",
      "3\n",
      "4\n",
      "5\n",
      "6\n",
      "7\n",
      "8\n",
      "9\n"
     ]
    },
    {
     "name": "stderr",
     "output_type": "stream",
     "text": [
      " 70%|███████   | 14/20 [05:18<02:16, 22.74s/it]"
     ]
    },
    {
     "name": "stdout",
     "output_type": "stream",
     "text": [
      "callback number after 14-th average end: 126\n",
      "1\n",
      "2\n",
      "3\n",
      "4\n",
      "5\n",
      "6\n",
      "7\n",
      "8\n",
      "9\n"
     ]
    },
    {
     "name": "stderr",
     "output_type": "stream",
     "text": [
      " 75%|███████▌  | 15/20 [05:41<01:53, 22.74s/it]"
     ]
    },
    {
     "name": "stdout",
     "output_type": "stream",
     "text": [
      "callback number after 15-th average end: 135\n",
      "1\n",
      "2\n",
      "3\n",
      "4\n",
      "5\n",
      "6\n",
      "7\n",
      "8\n",
      "9\n"
     ]
    },
    {
     "name": "stderr",
     "output_type": "stream",
     "text": [
      " 80%|████████  | 16/20 [06:03<01:30, 22.74s/it]"
     ]
    },
    {
     "name": "stdout",
     "output_type": "stream",
     "text": [
      "callback number after 16-th average end: 144\n",
      "1\n",
      "2\n",
      "3\n",
      "4\n",
      "5\n",
      "6\n",
      "7\n",
      "8\n",
      "9\n"
     ]
    },
    {
     "name": "stderr",
     "output_type": "stream",
     "text": [
      " 85%|████████▌ | 17/20 [06:26<01:08, 22.74s/it]"
     ]
    },
    {
     "name": "stdout",
     "output_type": "stream",
     "text": [
      "callback number after 17-th average end: 153\n",
      "1\n",
      "2\n",
      "3\n",
      "4\n",
      "5\n",
      "6\n",
      "7\n",
      "8\n",
      "9\n"
     ]
    },
    {
     "name": "stderr",
     "output_type": "stream",
     "text": [
      " 90%|█████████ | 18/20 [06:49<00:45, 22.73s/it]"
     ]
    },
    {
     "name": "stdout",
     "output_type": "stream",
     "text": [
      "callback number after 18-th average end: 162\n",
      "1\n",
      "2\n",
      "3\n",
      "4\n",
      "5\n",
      "6\n",
      "7\n",
      "8\n",
      "9\n"
     ]
    },
    {
     "name": "stderr",
     "output_type": "stream",
     "text": [
      " 95%|█████████▌| 19/20 [07:11<00:22, 22.73s/it]"
     ]
    },
    {
     "name": "stdout",
     "output_type": "stream",
     "text": [
      "callback number after 19-th average end: 171\n",
      "1\n",
      "2\n",
      "3\n",
      "4\n",
      "5\n",
      "6\n",
      "7\n",
      "8\n",
      "9\n"
     ]
    },
    {
     "name": "stderr",
     "output_type": "stream",
     "text": [
      "100%|██████████| 20/20 [07:34<00:00, 22.73s/it]"
     ]
    },
    {
     "name": "stdout",
     "output_type": "stream",
     "text": [
      "callback number after 20-th average end: 180\n",
      "Total Run : 180\n",
      "Total Counts & Counts in one average : (180000, 9000)\n",
      "Crosscheck number of averges= 20\n"
     ]
    },
    {
     "name": "stderr",
     "output_type": "stream",
     "text": [
      "\n"
     ]
    }
   ],
   "source": [
    "path = os.getcwd()\n",
    "data,time_axis=delay_test(path,samples=500,averages=20,xMin=1.629,yMin=0.458,comment='',\n",
    "                           rising_delay = 50,gatelen = 50, laserontime = 3e3,delay_pad = 50,delay_shift = 0.3e3,gatesourcedelay = 5,evolution_time = 5e6,\n",
    "                           filenumber=1,filename='SNR_microdiamonds')"
   ]
  },
  {
   "cell_type": "code",
   "execution_count": 33,
   "metadata": {
    "tags": []
   },
   "outputs": [],
   "source": [
    "# Replacing mistakes in file naming\n",
    "def replace_space(name):\n",
    "    name = name.replace(' ', '_').replace('.','_').replace('__','_').replace('___','_').replace(':','_')\n",
    "    if name[-1]=='_':  name=name[:-1]\n",
    "    return name"
   ]
  },
  {
   "cell_type": "code",
   "execution_count": 34,
   "metadata": {
    "tags": []
   },
   "outputs": [],
   "source": [
    "def savefile(path,data,time_axis,samples,averages,filename,rising_delay,gatelen,laserontime,delay_pad,delay_shift,gatesourcedelay,evolution_time):\n",
    "    \n",
    "    folder_name = os.path.join(path, \"T1_Exp_Datas\")\n",
    "    image_name = os.path.join(path, \"T1_Images\")\n",
    "    year_folder_name = os.path.join(folder_name,replace_space(time.ctime()[-4:]))\n",
    "    date_folder_name = os.path.join(year_folder_name,replace_space(time.ctime()[4:10]))\n",
    "    \n",
    "    \n",
    "    diamond_directory = os.path.join(date_folder_name,f'{filename}')\n",
    "    samples_directory = os.path.join(diamond_directory,f'samples_{samples}')\n",
    "    \n",
    "    image_diamond_directory = os.path.join(image_name,f'{filename}')\n",
    "    image_samples_directory = os.path.join(image_diamond_directory,f'samples_{samples}')\n",
    "    \n",
    "    if not os.path.exists(samples_directory):\n",
    "        os.makedirs(samples_directory)\n",
    "    \n",
    "    if not os.path.exists(image_samples_directory):\n",
    "        os.makedirs(image_samples_directory)\n",
    "        \n",
    "    file_name = f'[{replace_space(time.ctime()[-13:-5])}]_averages_{int(averages)}_gatelen_{int(gatelen)}_laserontime_{int(laserontime)}_delay_shift_{int(delay_shift)}_evolution_time_{int(evolution_time)}.npz'\n",
    "    name_fileName = os.path.join(folder_name, \"all_file_names.txt\")\n",
    "    file = open(name_fileName,\"a\")\n",
    "    file.write(f'\\n{file_name}\\n')\n",
    "    file.close()\n",
    "    data_total_path = os.path.join(samples_directory,file_name)\n",
    "    np.savez(data_total_path,data=data,time_axis=time_axis)\n",
    "    \n",
    "    imageFile_name = f'averages_{int(averages)}_gatelen_{int(gatelen)}_laserontime_{int(laserontime)}_delay_shift_{int(delay_shift)}_evolution_time_{int(evolution_time)}.html'\n",
    "    image_total_path = os.path.join(image_samples_directory,imageFile_name)\n",
    "\n",
    "    if os.path.exists(data_total_path)==False:\n",
    "        raise Exception('Saved file does not exist!\\n')\n",
    "    elif os.stat(data_total_path).st_size == False:\n",
    "        raise Exception('Saved file is empty!\\n')\n",
    "    else:\n",
    "        print('Saving file is successful')\n",
    "    print(f'Samples : {samples}')\n",
    "        \n",
    "    # if os.path.exists(image_total_path)==False:\n",
    "    #     raise Exception('Image path does not exist!\\n')\n",
    "        \n",
    "    return data_total_path,image_total_path"
   ]
  },
  {
   "cell_type": "code",
   "execution_count": 47,
   "metadata": {
    "tags": []
   },
   "outputs": [
    {
     "name": "stdout",
     "output_type": "stream",
     "text": [
      "Saving file is successful\n",
      "Samples : 500\n"
     ]
    }
   ],
   "source": [
    "path = os.getcwd()\n",
    "data_total_path,image_total_path = savefile(path,data,time_axis,    \n",
    "                                            samples= globals()['samples'],\n",
    "                                            averages= globals()['averages'],\n",
    "                                            filename= globals()['filename'],\n",
    "                                            rising_delay = globals()['rising_delay'],\n",
    "                                            gatelen = globals()['gatelen'],                                      \n",
    "                                            laserontime = globals()['laserontime'],\n",
    "                                            delay_pad = globals()['delay_pad'],\n",
    "                                            delay_shift = globals()['delay_shift'],\n",
    "                                            gatesourcedelay = globals()['gatesourcedelay'],\n",
    "                                            evolution_time = globals()['evolution_time'])"
   ]
  },
  {
   "cell_type": "code",
   "execution_count": 49,
   "metadata": {
    "tags": []
   },
   "outputs": [],
   "source": [
    "data=np.load(data_total_path)['data']\n",
    "time_axis=np.load(data_total_path)['time_axis']"
   ]
  },
  {
   "cell_type": "code",
   "execution_count": 51,
   "metadata": {
    "tags": []
   },
   "outputs": [
    {
     "name": "stdin",
     "output_type": "stream",
     "text": [
      "Enter the no of steps 9\n",
      "Enter the no of samples 500\n"
     ]
    }
   ],
   "source": [
    "steps=int(input('Enter the no of steps'))\n",
    "samples=int(input('Enter the no of samples'))\n",
    "\n",
    "# Separating Reference and Signal and averaging over Samples\n",
    "reference_samples = np.mean(np.reshape(data[::2],(steps,samples)),axis=1)\n",
    "signal_samples = np.mean(np.reshape(data[1::2],(steps,samples)),axis=1)\n",
    "signal_photon = signal_samples/reference_samples"
   ]
  },
  {
   "cell_type": "code",
   "execution_count": 55,
   "metadata": {
    "tags": []
   },
   "outputs": [],
   "source": [
    "# Curve_fitting Function\n",
    "def curveFit(x,y0,y_max,tau):\n",
    "    return y0+y_max*np.exp(-x/tau)\n",
    "\n",
    "# Function to calculate the Lifetime\n",
    "def lifetime_fit(*args):\n",
    "    indices = np.where(y_old!=0)\n",
    "    yOld = y_old[indices]; xOld = x_old[indices]\n",
    "    if type(fit_range)==np.ndarray:\n",
    "        range_indicies = np.where(np.logical_and(xOld>=fit_range[0],xOld<=fit_range[1]))\n",
    "        x_old_ranged = xOld[range_indicies]; y_old_ranged = yOld[range_indicies]\n",
    "        coefficient, covariance_matrix = curve_fit(curveFit,x_old_ranged,y_old_ranged,p0=guess_params,absolute_sigma=False)\n",
    "        error_bars = np.sqrt(np.diag(covariance_matrix))\n",
    "        condition_number =  np.format_float_scientific(np.linalg.cond(covariance_matrix),precision=2)\n",
    "        x_curve_fit = x_old_ranged; y_curve_fit = y_old_ranged\n",
    "    else:\n",
    "        coefficient, covariance_matrix = curve_fit(curveFit,xOld,yOld,p0=guess_params,absolute_sigma=False)\n",
    "        error_bars = np.sqrt(np.diag(covariance_matrix))\n",
    "        condition_number =  np.format_float_scientific(np.linalg.cond(covariance_matrix),precision=2)\n",
    "        x_curve_fit = xOld; y_curve_fit = yOld\n",
    "\n",
    "    x_new = x_curve_fit\n",
    "    y_new = curveFit(x_new,*coefficient)\n",
    "\n",
    "#     # Different ways of 'Goodness of Fit' Test\n",
    "#     chi_square_test, p_value = stats.chisquare(y_curve_fit, y_new)\n",
    "#     ss_res = np.sum(np.square(y_curve_fit-y_new )); ss_total = np.sum(np.square(y_curve_fit-np.mean(y_curve_fit)))\n",
    "#     r_squared = 1-(ss_res/ss_total)\n",
    "#     mean_squared_error = np.square(np.subtract(y_new,y_curve_fit)).mean()\n",
    "\n",
    "#     print(f'Lifetime in nano_second is : {coefficient[2]}.\\n')\n",
    "#     print(f'Chi_square, p-value, R_squared,MeanSquaredError and Condition Number are : {np.round(chi_square_test,3)}\\t{np.round(p_value,3)}\\\n",
    "#     \\t{np.round(r_squared,3)}\\t{np.round(mean_squared_error,5)}\\t{condition_number}.\\n')\n",
    "#     if p_value<=0.05:\n",
    "#         print('The p_value of fitting is low. Please check the fitting!')\n",
    "    return xOld,yOld,x_new,y_new,coefficient,error_bars"
   ]
  },
  {
   "cell_type": "code",
   "execution_count": 57,
   "metadata": {
    "tags": []
   },
   "outputs": [],
   "source": [
    "y_old = signal_photon[1:]\n",
    "x_old = time_axis[1:]   \n",
    "guess_params = np.array([0.7,0.9,0.5e6])         # (y0,y_max,tau)\n",
    "# fit_range = np.array([0,400])*1e3             # provide (x_min,x_max) or 'False'(for all x_range)\n",
    "fit_range = False\n",
    "\n",
    "# fitting curve\n",
    "xOld,yOld,xNew,yNew,coefficient,error_bars = lifetime_fit(x_old,y_old,guess_params,fit_range)"
   ]
  },
  {
   "cell_type": "code",
   "execution_count": 61,
   "metadata": {
    "tags": []
   },
   "outputs": [
    {
     "data": {
      "application/vnd.plotly.v1+json": {
       "config": {
        "plotlyServerURL": "https://plot.ly"
       },
       "data": [
        {
         "mode": "markers",
         "name": "signal_counts",
         "type": "scatter",
         "x": [
          0.35,
          0.65,
          0.95,
          1.25,
          1.55,
          1.85,
          2.15,
          2.45
         ],
         "y": [
          3.9135,
          7.4939,
          10.9276,
          14.2696,
          17.5265,
          20.767799999999998,
          23.949,
          27.1484
         ]
        },
        {
         "mode": "markers",
         "name": "reference_counts",
         "type": "scatter",
         "x": [
          0.35,
          0.65,
          0.95,
          1.25,
          1.55,
          1.85,
          2.15,
          2.45
         ],
         "y": [
          3.5087,
          6.7338,
          9.9408,
          13.190299999999999,
          16.391300000000005,
          19.581799999999998,
          22.7599,
          25.8825
         ]
        },
        {
         "mode": "markers",
         "name": "signal/reference",
         "type": "scatter",
         "visible": "legendonly",
         "x": [
          0.35,
          0.65,
          0.95,
          1.25,
          1.55,
          1.85,
          2.15,
          2.45
         ],
         "y": [
          1.1153703650924844,
          1.1128783153642818,
          1.0992676645742798,
          1.0818252806986954,
          1.069256251792109,
          1.0605664443513876,
          1.0522453965087721,
          1.0489094948324156
         ]
        }
       ],
       "layout": {
        "annotations": [
         {
          "align": "left",
          "font": {
           "family": "Times New Roman",
           "size": 20
          },
          "showarrow": false,
          "text": "<b>y<sub>0</sub></b> : -177.973 &plusmn; 165730.709    <br><b>y<sub>max</sub></b> : 179.102 &plusmn; 165730.707    <br><b>τ</b> : 5029.818 &plusmn; 4655502.068 &mu;s",
          "x": 0.95,
          "xref": "x domain",
          "y": 0.95,
          "yref": "y domain"
         }
        ],
        "height": 600,
        "template": {
         "layout": {
          "autosize": false,
          "font": {
           "family": "mathjax",
           "size": 22
          },
          "height": 600,
          "template": {
           "data": {
            "bar": [
             {
              "error_x": {
               "color": "rgb(36,36,36)"
              },
              "error_y": {
               "color": "rgb(36,36,36)"
              },
              "marker": {
               "line": {
                "color": "white",
                "width": 0.5
               },
               "pattern": {
                "fillmode": "overlay",
                "size": 10,
                "solidity": 0.2
               }
              },
              "type": "bar"
             }
            ],
            "barpolar": [
             {
              "marker": {
               "line": {
                "color": "white",
                "width": 0.5
               },
               "pattern": {
                "fillmode": "overlay",
                "size": 10,
                "solidity": 0.2
               }
              },
              "type": "barpolar"
             }
            ],
            "carpet": [
             {
              "aaxis": {
               "endlinecolor": "rgb(36,36,36)",
               "gridcolor": "white",
               "linecolor": "white",
               "minorgridcolor": "white",
               "startlinecolor": "rgb(36,36,36)"
              },
              "baxis": {
               "endlinecolor": "rgb(36,36,36)",
               "gridcolor": "white",
               "linecolor": "white",
               "minorgridcolor": "white",
               "startlinecolor": "rgb(36,36,36)"
              },
              "type": "carpet"
             }
            ],
            "choropleth": [
             {
              "colorbar": {
               "outlinewidth": 1,
               "tickcolor": "rgb(36,36,36)",
               "ticks": "outside"
              },
              "type": "choropleth"
             }
            ],
            "contour": [
             {
              "colorbar": {
               "outlinewidth": 1,
               "tickcolor": "rgb(36,36,36)",
               "ticks": "outside"
              },
              "colorscale": [
               [
                0,
                "#440154"
               ],
               [
                0.1111111111111111,
                "#482878"
               ],
               [
                0.2222222222222222,
                "#3e4989"
               ],
               [
                0.3333333333333333,
                "#31688e"
               ],
               [
                0.4444444444444444,
                "#26828e"
               ],
               [
                0.5555555555555556,
                "#1f9e89"
               ],
               [
                0.6666666666666666,
                "#35b779"
               ],
               [
                0.7777777777777778,
                "#6ece58"
               ],
               [
                0.8888888888888888,
                "#b5de2b"
               ],
               [
                1,
                "#fde725"
               ]
              ],
              "type": "contour"
             }
            ],
            "contourcarpet": [
             {
              "colorbar": {
               "outlinewidth": 1,
               "tickcolor": "rgb(36,36,36)",
               "ticks": "outside"
              },
              "type": "contourcarpet"
             }
            ],
            "heatmap": [
             {
              "colorbar": {
               "outlinewidth": 1,
               "tickcolor": "rgb(36,36,36)",
               "ticks": "outside"
              },
              "colorscale": [
               [
                0,
                "#440154"
               ],
               [
                0.1111111111111111,
                "#482878"
               ],
               [
                0.2222222222222222,
                "#3e4989"
               ],
               [
                0.3333333333333333,
                "#31688e"
               ],
               [
                0.4444444444444444,
                "#26828e"
               ],
               [
                0.5555555555555556,
                "#1f9e89"
               ],
               [
                0.6666666666666666,
                "#35b779"
               ],
               [
                0.7777777777777778,
                "#6ece58"
               ],
               [
                0.8888888888888888,
                "#b5de2b"
               ],
               [
                1,
                "#fde725"
               ]
              ],
              "type": "heatmap"
             }
            ],
            "heatmapgl": [
             {
              "colorbar": {
               "outlinewidth": 1,
               "tickcolor": "rgb(36,36,36)",
               "ticks": "outside"
              },
              "colorscale": [
               [
                0,
                "#440154"
               ],
               [
                0.1111111111111111,
                "#482878"
               ],
               [
                0.2222222222222222,
                "#3e4989"
               ],
               [
                0.3333333333333333,
                "#31688e"
               ],
               [
                0.4444444444444444,
                "#26828e"
               ],
               [
                0.5555555555555556,
                "#1f9e89"
               ],
               [
                0.6666666666666666,
                "#35b779"
               ],
               [
                0.7777777777777778,
                "#6ece58"
               ],
               [
                0.8888888888888888,
                "#b5de2b"
               ],
               [
                1,
                "#fde725"
               ]
              ],
              "type": "heatmapgl"
             }
            ],
            "histogram": [
             {
              "marker": {
               "line": {
                "color": "white",
                "width": 0.6
               }
              },
              "type": "histogram"
             }
            ],
            "histogram2d": [
             {
              "colorbar": {
               "outlinewidth": 1,
               "tickcolor": "rgb(36,36,36)",
               "ticks": "outside"
              },
              "colorscale": [
               [
                0,
                "#440154"
               ],
               [
                0.1111111111111111,
                "#482878"
               ],
               [
                0.2222222222222222,
                "#3e4989"
               ],
               [
                0.3333333333333333,
                "#31688e"
               ],
               [
                0.4444444444444444,
                "#26828e"
               ],
               [
                0.5555555555555556,
                "#1f9e89"
               ],
               [
                0.6666666666666666,
                "#35b779"
               ],
               [
                0.7777777777777778,
                "#6ece58"
               ],
               [
                0.8888888888888888,
                "#b5de2b"
               ],
               [
                1,
                "#fde725"
               ]
              ],
              "type": "histogram2d"
             }
            ],
            "histogram2dcontour": [
             {
              "colorbar": {
               "outlinewidth": 1,
               "tickcolor": "rgb(36,36,36)",
               "ticks": "outside"
              },
              "colorscale": [
               [
                0,
                "#440154"
               ],
               [
                0.1111111111111111,
                "#482878"
               ],
               [
                0.2222222222222222,
                "#3e4989"
               ],
               [
                0.3333333333333333,
                "#31688e"
               ],
               [
                0.4444444444444444,
                "#26828e"
               ],
               [
                0.5555555555555556,
                "#1f9e89"
               ],
               [
                0.6666666666666666,
                "#35b779"
               ],
               [
                0.7777777777777778,
                "#6ece58"
               ],
               [
                0.8888888888888888,
                "#b5de2b"
               ],
               [
                1,
                "#fde725"
               ]
              ],
              "type": "histogram2dcontour"
             }
            ],
            "mesh3d": [
             {
              "colorbar": {
               "outlinewidth": 1,
               "tickcolor": "rgb(36,36,36)",
               "ticks": "outside"
              },
              "type": "mesh3d"
             }
            ],
            "parcoords": [
             {
              "line": {
               "colorbar": {
                "outlinewidth": 1,
                "tickcolor": "rgb(36,36,36)",
                "ticks": "outside"
               }
              },
              "type": "parcoords"
             }
            ],
            "pie": [
             {
              "automargin": true,
              "type": "pie"
             }
            ],
            "scatter": [
             {
              "fillpattern": {
               "fillmode": "overlay",
               "size": 10,
               "solidity": 0.2
              },
              "line": {
               "width": 3
              },
              "marker": {
               "size": 9
              },
              "type": "scatter"
             }
            ],
            "scatter3d": [
             {
              "line": {
               "colorbar": {
                "outlinewidth": 1,
                "tickcolor": "rgb(36,36,36)",
                "ticks": "outside"
               },
               "width": 3
              },
              "marker": {
               "colorbar": {
                "outlinewidth": 1,
                "tickcolor": "rgb(36,36,36)",
                "ticks": "outside"
               },
               "size": 9
              },
              "type": "scatter3d"
             }
            ],
            "scattercarpet": [
             {
              "marker": {
               "colorbar": {
                "outlinewidth": 1,
                "tickcolor": "rgb(36,36,36)",
                "ticks": "outside"
               }
              },
              "type": "scattercarpet"
             }
            ],
            "scattergeo": [
             {
              "line": {
               "width": 3
              },
              "marker": {
               "colorbar": {
                "outlinewidth": 1,
                "tickcolor": "rgb(36,36,36)",
                "ticks": "outside"
               },
               "size": 9
              },
              "type": "scattergeo"
             }
            ],
            "scattergl": [
             {
              "line": {
               "width": 3
              },
              "marker": {
               "colorbar": {
                "outlinewidth": 1,
                "tickcolor": "rgb(36,36,36)",
                "ticks": "outside"
               },
               "size": 9
              },
              "type": "scattergl"
             }
            ],
            "scattermapbox": [
             {
              "marker": {
               "colorbar": {
                "outlinewidth": 1,
                "tickcolor": "rgb(36,36,36)",
                "ticks": "outside"
               }
              },
              "type": "scattermapbox"
             }
            ],
            "scatterpolar": [
             {
              "line": {
               "width": 3
              },
              "marker": {
               "colorbar": {
                "outlinewidth": 1,
                "tickcolor": "rgb(36,36,36)",
                "ticks": "outside"
               },
               "size": 9
              },
              "type": "scatterpolar"
             }
            ],
            "scatterpolargl": [
             {
              "line": {
               "width": 3
              },
              "marker": {
               "colorbar": {
                "outlinewidth": 1,
                "tickcolor": "rgb(36,36,36)",
                "ticks": "outside"
               },
               "size": 9
              },
              "type": "scatterpolargl"
             }
            ],
            "scatterternary": [
             {
              "line": {
               "width": 3
              },
              "marker": {
               "colorbar": {
                "outlinewidth": 1,
                "tickcolor": "rgb(36,36,36)",
                "ticks": "outside"
               },
               "size": 9
              },
              "type": "scatterternary"
             }
            ],
            "surface": [
             {
              "colorbar": {
               "outlinewidth": 1,
               "tickcolor": "rgb(36,36,36)",
               "ticks": "outside"
              },
              "colorscale": [
               [
                0,
                "#440154"
               ],
               [
                0.1111111111111111,
                "#482878"
               ],
               [
                0.2222222222222222,
                "#3e4989"
               ],
               [
                0.3333333333333333,
                "#31688e"
               ],
               [
                0.4444444444444444,
                "#26828e"
               ],
               [
                0.5555555555555556,
                "#1f9e89"
               ],
               [
                0.6666666666666666,
                "#35b779"
               ],
               [
                0.7777777777777778,
                "#6ece58"
               ],
               [
                0.8888888888888888,
                "#b5de2b"
               ],
               [
                1,
                "#fde725"
               ]
              ],
              "type": "surface"
             }
            ],
            "table": [
             {
              "cells": {
               "fill": {
                "color": "rgb(237,237,237)"
               },
               "height": 30,
               "line": {
                "color": "white"
               }
              },
              "header": {
               "fill": {
                "color": "rgb(217,217,217)"
               },
               "height": 36,
               "line": {
                "color": "white"
               }
              },
              "type": "table"
             }
            ]
           },
           "layout": {
            "annotationdefaults": {
             "arrowhead": 0,
             "arrowwidth": 1
            },
            "autotypenumbers": "strict",
            "coloraxis": {
             "colorbar": {
              "outlinewidth": 1,
              "tickcolor": "rgb(36,36,36)",
              "ticks": "outside"
             }
            },
            "colorscale": {
             "diverging": [
              [
               0,
               "rgb(103,0,31)"
              ],
              [
               0.1,
               "rgb(178,24,43)"
              ],
              [
               0.2,
               "rgb(214,96,77)"
              ],
              [
               0.3,
               "rgb(244,165,130)"
              ],
              [
               0.4,
               "rgb(253,219,199)"
              ],
              [
               0.5,
               "rgb(247,247,247)"
              ],
              [
               0.6,
               "rgb(209,229,240)"
              ],
              [
               0.7,
               "rgb(146,197,222)"
              ],
              [
               0.8,
               "rgb(67,147,195)"
              ],
              [
               0.9,
               "rgb(33,102,172)"
              ],
              [
               1,
               "rgb(5,48,97)"
              ]
             ],
             "sequential": [
              [
               0,
               "#440154"
              ],
              [
               0.1111111111111111,
               "#482878"
              ],
              [
               0.2222222222222222,
               "#3e4989"
              ],
              [
               0.3333333333333333,
               "#31688e"
              ],
              [
               0.4444444444444444,
               "#26828e"
              ],
              [
               0.5555555555555556,
               "#1f9e89"
              ],
              [
               0.6666666666666666,
               "#35b779"
              ],
              [
               0.7777777777777778,
               "#6ece58"
              ],
              [
               0.8888888888888888,
               "#b5de2b"
              ],
              [
               1,
               "#fde725"
              ]
             ],
             "sequentialminus": [
              [
               0,
               "#440154"
              ],
              [
               0.1111111111111111,
               "#482878"
              ],
              [
               0.2222222222222222,
               "#3e4989"
              ],
              [
               0.3333333333333333,
               "#31688e"
              ],
              [
               0.4444444444444444,
               "#26828e"
              ],
              [
               0.5555555555555556,
               "#1f9e89"
              ],
              [
               0.6666666666666666,
               "#35b779"
              ],
              [
               0.7777777777777778,
               "#6ece58"
              ],
              [
               0.8888888888888888,
               "#b5de2b"
              ],
              [
               1,
               "#fde725"
              ]
             ]
            },
            "colorway": [
             "#1F77B4",
             "#FF7F0E",
             "#2CA02C",
             "#D62728",
             "#9467BD",
             "#8C564B",
             "#E377C2",
             "#7F7F7F",
             "#BCBD22",
             "#17BECF"
            ],
            "font": {
             "color": "rgb(36,36,36)",
             "size": 18
            },
            "geo": {
             "bgcolor": "white",
             "lakecolor": "white",
             "landcolor": "white",
             "showlakes": true,
             "showland": true,
             "subunitcolor": "white"
            },
            "hoverlabel": {
             "align": "left"
            },
            "hovermode": "closest",
            "mapbox": {
             "style": "light"
            },
            "paper_bgcolor": "white",
            "plot_bgcolor": "white",
            "polar": {
             "angularaxis": {
              "gridcolor": "rgb(232,232,232)",
              "linecolor": "rgb(36,36,36)",
              "showgrid": false,
              "showline": true,
              "ticks": "outside"
             },
             "bgcolor": "white",
             "radialaxis": {
              "gridcolor": "rgb(232,232,232)",
              "linecolor": "rgb(36,36,36)",
              "showgrid": false,
              "showline": true,
              "ticks": "outside"
             }
            },
            "scene": {
             "xaxis": {
              "backgroundcolor": "white",
              "gridcolor": "rgb(232,232,232)",
              "gridwidth": 2,
              "linecolor": "rgb(36,36,36)",
              "showbackground": true,
              "showgrid": false,
              "showline": true,
              "ticks": "outside",
              "zeroline": false,
              "zerolinecolor": "rgb(36,36,36)"
             },
             "yaxis": {
              "backgroundcolor": "white",
              "gridcolor": "rgb(232,232,232)",
              "gridwidth": 2,
              "linecolor": "rgb(36,36,36)",
              "showbackground": true,
              "showgrid": false,
              "showline": true,
              "ticks": "outside",
              "zeroline": false,
              "zerolinecolor": "rgb(36,36,36)"
             },
             "zaxis": {
              "backgroundcolor": "white",
              "gridcolor": "rgb(232,232,232)",
              "gridwidth": 2,
              "linecolor": "rgb(36,36,36)",
              "showbackground": true,
              "showgrid": false,
              "showline": true,
              "ticks": "outside",
              "zeroline": false,
              "zerolinecolor": "rgb(36,36,36)"
             }
            },
            "shapedefaults": {
             "fillcolor": "black",
             "line": {
              "width": 0
             },
             "opacity": 0.3
            },
            "ternary": {
             "aaxis": {
              "gridcolor": "rgb(232,232,232)",
              "linecolor": "rgb(36,36,36)",
              "showgrid": false,
              "showline": true,
              "ticks": "outside"
             },
             "baxis": {
              "gridcolor": "rgb(232,232,232)",
              "linecolor": "rgb(36,36,36)",
              "showgrid": false,
              "showline": true,
              "ticks": "outside"
             },
             "bgcolor": "white",
             "caxis": {
              "gridcolor": "rgb(232,232,232)",
              "linecolor": "rgb(36,36,36)",
              "showgrid": false,
              "showline": true,
              "ticks": "outside"
             }
            },
            "title": {
             "x": 0.05
            },
            "xaxis": {
             "automargin": true,
             "gridcolor": "rgb(232,232,232)",
             "linecolor": "rgb(36,36,36)",
             "showgrid": false,
             "showline": true,
             "ticks": "outside",
             "title": {
              "standoff": 15
             },
             "zeroline": false,
             "zerolinecolor": "rgb(36,36,36)"
            },
            "yaxis": {
             "automargin": true,
             "gridcolor": "rgb(232,232,232)",
             "linecolor": "rgb(36,36,36)",
             "showgrid": false,
             "showline": true,
             "ticks": "outside",
             "title": {
              "standoff": 15
             },
             "zeroline": false,
             "zerolinecolor": "rgb(36,36,36)"
            }
           }
          },
          "width": 800,
          "xaxis": {
           "linewidth": 2,
           "mirror": "ticks",
           "showgrid": false,
           "showline": true,
           "ticklen": 6,
           "ticks": "inside",
           "tickwidth": 2,
           "zerolinecolor": "white"
          },
          "yaxis": {
           "linewidth": 2,
           "mirror": "ticks",
           "showgrid": false,
           "showline": true,
           "ticklen": 6,
           "ticks": "inside",
           "tickwidth": 2,
           "zerolinecolor": "white"
          }
         }
        },
        "width": 800,
        "xaxis": {
         "autorange": true,
         "range": [
          0.21359945872801078,
          2.5864005412719893
         ],
         "title": {
          "text": "Time (&mu;s)"
         },
         "type": "linear"
        },
        "yaxis": {
         "autorange": true,
         "range": [
          1.9295297570850207,
          28.72757024291498
         ],
         "title": {
          "text": "Sig/Ref_counts"
         },
         "type": "linear"
        }
       }
      },
      "image/png": "[encoded data removed]",
      "text/html": [
       "<div>                            <div id=\"0f954d19-590f-4d25-804c-08c6cdf8718f\" class=\"plotly-graph-div\" style=\"height:600px; width:800px;\"></div>            <script type=\"text/javascript\">                require([\"plotly\"], function(Plotly) {                    window.PLOTLYENV=window.PLOTLYENV || {};                                    if (document.getElementById(\"0f954d19-590f-4d25-804c-08c6cdf8718f\")) {                    Plotly.newPlot(                        \"0f954d19-590f-4d25-804c-08c6cdf8718f\",                        [{\"mode\":\"markers\",\"name\":\"signal_counts\",\"x\":[0.35,0.65,0.95,1.25,1.55,1.85,2.15,2.45],\"y\":[3.9135,7.4939,10.9276,14.2696,17.5265,20.767799999999998,23.949,27.1484],\"type\":\"scatter\"},{\"mode\":\"markers\",\"name\":\"reference_counts\",\"x\":[0.35,0.65,0.95,1.25,1.55,1.85,2.15,2.45],\"y\":[3.5087,6.7338,9.9408,13.190299999999999,16.391300000000005,19.581799999999998,22.7599,25.8825],\"type\":\"scatter\"},{\"mode\":\"markers\",\"name\":\"signal/reference\",\"x\":[0.35,0.65,0.95,1.25,1.55,1.85,2.15,2.45],\"y\":[1.1153703650924844,1.1128783153642818,1.0992676645742798,1.0818252806986954,1.069256251792109,1.0605664443513876,1.0522453965087721,1.0489094948324156],\"type\":\"scatter\"}],                        {\"template\":{\"layout\":{\"autosize\":false,\"font\":{\"family\":\"mathjax\",\"size\":22},\"height\":600,\"template\":{\"data\":{\"barpolar\":[{\"marker\":{\"line\":{\"color\":\"white\",\"width\":0.5},\"pattern\":{\"fillmode\":\"overlay\",\"size\":10,\"solidity\":0.2}},\"type\":\"barpolar\"}],\"bar\":[{\"error_x\":{\"color\":\"rgb(36,36,36)\"},\"error_y\":{\"color\":\"rgb(36,36,36)\"},\"marker\":{\"line\":{\"color\":\"white\",\"width\":0.5},\"pattern\":{\"fillmode\":\"overlay\",\"size\":10,\"solidity\":0.2}},\"type\":\"bar\"}],\"carpet\":[{\"aaxis\":{\"endlinecolor\":\"rgb(36,36,36)\",\"gridcolor\":\"white\",\"linecolor\":\"white\",\"minorgridcolor\":\"white\",\"startlinecolor\":\"rgb(36,36,36)\"},\"baxis\":{\"endlinecolor\":\"rgb(36,36,36)\",\"gridcolor\":\"white\",\"linecolor\":\"white\",\"minorgridcolor\":\"white\",\"startlinecolor\":\"rgb(36,36,36)\"},\"type\":\"carpet\"}],\"choropleth\":[{\"colorbar\":{\"outlinewidth\":1,\"tickcolor\":\"rgb(36,36,36)\",\"ticks\":\"outside\"},\"type\":\"choropleth\"}],\"contourcarpet\":[{\"colorbar\":{\"outlinewidth\":1,\"tickcolor\":\"rgb(36,36,36)\",\"ticks\":\"outside\"},\"type\":\"contourcarpet\"}],\"contour\":[{\"colorbar\":{\"outlinewidth\":1,\"tickcolor\":\"rgb(36,36,36)\",\"ticks\":\"outside\"},\"colorscale\":[[0.0,\"#440154\"],[0.1111111111111111,\"#482878\"],[0.2222222222222222,\"#3e4989\"],[0.3333333333333333,\"#31688e\"],[0.4444444444444444,\"#26828e\"],[0.5555555555555556,\"#1f9e89\"],[0.6666666666666666,\"#35b779\"],[0.7777777777777778,\"#6ece58\"],[0.8888888888888888,\"#b5de2b\"],[1.0,\"#fde725\"]],\"type\":\"contour\"}],\"heatmapgl\":[{\"colorbar\":{\"outlinewidth\":1,\"tickcolor\":\"rgb(36,36,36)\",\"ticks\":\"outside\"},\"colorscale\":[[0.0,\"#440154\"],[0.1111111111111111,\"#482878\"],[0.2222222222222222,\"#3e4989\"],[0.3333333333333333,\"#31688e\"],[0.4444444444444444,\"#26828e\"],[0.5555555555555556,\"#1f9e89\"],[0.6666666666666666,\"#35b779\"],[0.7777777777777778,\"#6ece58\"],[0.8888888888888888,\"#b5de2b\"],[1.0,\"#fde725\"]],\"type\":\"heatmapgl\"}],\"heatmap\":[{\"colorbar\":{\"outlinewidth\":1,\"tickcolor\":\"rgb(36,36,36)\",\"ticks\":\"outside\"},\"colorscale\":[[0.0,\"#440154\"],[0.1111111111111111,\"#482878\"],[0.2222222222222222,\"#3e4989\"],[0.3333333333333333,\"#31688e\"],[0.4444444444444444,\"#26828e\"],[0.5555555555555556,\"#1f9e89\"],[0.6666666666666666,\"#35b779\"],[0.7777777777777778,\"#6ece58\"],[0.8888888888888888,\"#b5de2b\"],[1.0,\"#fde725\"]],\"type\":\"heatmap\"}],\"histogram2dcontour\":[{\"colorbar\":{\"outlinewidth\":1,\"tickcolor\":\"rgb(36,36,36)\",\"ticks\":\"outside\"},\"colorscale\":[[0.0,\"#440154\"],[0.1111111111111111,\"#482878\"],[0.2222222222222222,\"#3e4989\"],[0.3333333333333333,\"#31688e\"],[0.4444444444444444,\"#26828e\"],[0.5555555555555556,\"#1f9e89\"],[0.6666666666666666,\"#35b779\"],[0.7777777777777778,\"#6ece58\"],[0.8888888888888888,\"#b5de2b\"],[1.0,\"#fde725\"]],\"type\":\"histogram2dcontour\"}],\"histogram2d\":[{\"colorbar\":{\"outlinewidth\":1,\"tickcolor\":\"rgb(36,36,36)\",\"ticks\":\"outside\"},\"colorscale\":[[0.0,\"#440154\"],[0.1111111111111111,\"#482878\"],[0.2222222222222222,\"#3e4989\"],[0.3333333333333333,\"#31688e\"],[0.4444444444444444,\"#26828e\"],[0.5555555555555556,\"#1f9e89\"],[0.6666666666666666,\"#35b779\"],[0.7777777777777778,\"#6ece58\"],[0.8888888888888888,\"#b5de2b\"],[1.0,\"#fde725\"]],\"type\":\"histogram2d\"}],\"histogram\":[{\"marker\":{\"line\":{\"color\":\"white\",\"width\":0.6}},\"type\":\"histogram\"}],\"mesh3d\":[{\"colorbar\":{\"outlinewidth\":1,\"tickcolor\":\"rgb(36,36,36)\",\"ticks\":\"outside\"},\"type\":\"mesh3d\"}],\"parcoords\":[{\"line\":{\"colorbar\":{\"outlinewidth\":1,\"tickcolor\":\"rgb(36,36,36)\",\"ticks\":\"outside\"}},\"type\":\"parcoords\"}],\"pie\":[{\"automargin\":true,\"type\":\"pie\"}],\"scatter3d\":[{\"line\":{\"colorbar\":{\"outlinewidth\":1,\"tickcolor\":\"rgb(36,36,36)\",\"ticks\":\"outside\"},\"width\":3},\"marker\":{\"colorbar\":{\"outlinewidth\":1,\"tickcolor\":\"rgb(36,36,36)\",\"ticks\":\"outside\"},\"size\":9},\"type\":\"scatter3d\"}],\"scattercarpet\":[{\"marker\":{\"colorbar\":{\"outlinewidth\":1,\"tickcolor\":\"rgb(36,36,36)\",\"ticks\":\"outside\"}},\"type\":\"scattercarpet\"}],\"scattergeo\":[{\"line\":{\"width\":3},\"marker\":{\"colorbar\":{\"outlinewidth\":1,\"tickcolor\":\"rgb(36,36,36)\",\"ticks\":\"outside\"},\"size\":9},\"type\":\"scattergeo\"}],\"scattergl\":[{\"line\":{\"width\":3},\"marker\":{\"colorbar\":{\"outlinewidth\":1,\"tickcolor\":\"rgb(36,36,36)\",\"ticks\":\"outside\"},\"size\":9},\"type\":\"scattergl\"}],\"scattermapbox\":[{\"marker\":{\"colorbar\":{\"outlinewidth\":1,\"tickcolor\":\"rgb(36,36,36)\",\"ticks\":\"outside\"}},\"type\":\"scattermapbox\"}],\"scatterpolargl\":[{\"line\":{\"width\":3},\"marker\":{\"colorbar\":{\"outlinewidth\":1,\"tickcolor\":\"rgb(36,36,36)\",\"ticks\":\"outside\"},\"size\":9},\"type\":\"scatterpolargl\"}],\"scatterpolar\":[{\"line\":{\"width\":3},\"marker\":{\"colorbar\":{\"outlinewidth\":1,\"tickcolor\":\"rgb(36,36,36)\",\"ticks\":\"outside\"},\"size\":9},\"type\":\"scatterpolar\"}],\"scatter\":[{\"fillpattern\":{\"fillmode\":\"overlay\",\"size\":10,\"solidity\":0.2},\"line\":{\"width\":3},\"marker\":{\"size\":9},\"type\":\"scatter\"}],\"scatterternary\":[{\"line\":{\"width\":3},\"marker\":{\"colorbar\":{\"outlinewidth\":1,\"tickcolor\":\"rgb(36,36,36)\",\"ticks\":\"outside\"},\"size\":9},\"type\":\"scatterternary\"}],\"surface\":[{\"colorbar\":{\"outlinewidth\":1,\"tickcolor\":\"rgb(36,36,36)\",\"ticks\":\"outside\"},\"colorscale\":[[0.0,\"#440154\"],[0.1111111111111111,\"#482878\"],[0.2222222222222222,\"#3e4989\"],[0.3333333333333333,\"#31688e\"],[0.4444444444444444,\"#26828e\"],[0.5555555555555556,\"#1f9e89\"],[0.6666666666666666,\"#35b779\"],[0.7777777777777778,\"#6ece58\"],[0.8888888888888888,\"#b5de2b\"],[1.0,\"#fde725\"]],\"type\":\"surface\"}],\"table\":[{\"cells\":{\"fill\":{\"color\":\"rgb(237,237,237)\"},\"height\":30,\"line\":{\"color\":\"white\"}},\"header\":{\"fill\":{\"color\":\"rgb(217,217,217)\"},\"height\":36,\"line\":{\"color\":\"white\"}},\"type\":\"table\"}]},\"layout\":{\"annotationdefaults\":{\"arrowhead\":0,\"arrowwidth\":1},\"autotypenumbers\":\"strict\",\"coloraxis\":{\"colorbar\":{\"outlinewidth\":1,\"tickcolor\":\"rgb(36,36,36)\",\"ticks\":\"outside\"}},\"colorscale\":{\"diverging\":[[0.0,\"rgb(103,0,31)\"],[0.1,\"rgb(178,24,43)\"],[0.2,\"rgb(214,96,77)\"],[0.3,\"rgb(244,165,130)\"],[0.4,\"rgb(253,219,199)\"],[0.5,\"rgb(247,247,247)\"],[0.6,\"rgb(209,229,240)\"],[0.7,\"rgb(146,197,222)\"],[0.8,\"rgb(67,147,195)\"],[0.9,\"rgb(33,102,172)\"],[1.0,\"rgb(5,48,97)\"]],\"sequential\":[[0.0,\"#440154\"],[0.1111111111111111,\"#482878\"],[0.2222222222222222,\"#3e4989\"],[0.3333333333333333,\"#31688e\"],[0.4444444444444444,\"#26828e\"],[0.5555555555555556,\"#1f9e89\"],[0.6666666666666666,\"#35b779\"],[0.7777777777777778,\"#6ece58\"],[0.8888888888888888,\"#b5de2b\"],[1.0,\"#fde725\"]],\"sequentialminus\":[[0.0,\"#440154\"],[0.1111111111111111,\"#482878\"],[0.2222222222222222,\"#3e4989\"],[0.3333333333333333,\"#31688e\"],[0.4444444444444444,\"#26828e\"],[0.5555555555555556,\"#1f9e89\"],[0.6666666666666666,\"#35b779\"],[0.7777777777777778,\"#6ece58\"],[0.8888888888888888,\"#b5de2b\"],[1.0,\"#fde725\"]]},\"colorway\":[\"#1F77B4\",\"#FF7F0E\",\"#2CA02C\",\"#D62728\",\"#9467BD\",\"#8C564B\",\"#E377C2\",\"#7F7F7F\",\"#BCBD22\",\"#17BECF\"],\"font\":{\"color\":\"rgb(36,36,36)\",\"size\":18},\"geo\":{\"bgcolor\":\"white\",\"lakecolor\":\"white\",\"landcolor\":\"white\",\"showlakes\":true,\"showland\":true,\"subunitcolor\":\"white\"},\"hoverlabel\":{\"align\":\"left\"},\"hovermode\":\"closest\",\"mapbox\":{\"style\":\"light\"},\"paper_bgcolor\":\"white\",\"plot_bgcolor\":\"white\",\"polar\":{\"angularaxis\":{\"gridcolor\":\"rgb(232,232,232)\",\"linecolor\":\"rgb(36,36,36)\",\"showgrid\":false,\"showline\":true,\"ticks\":\"outside\"},\"bgcolor\":\"white\",\"radialaxis\":{\"gridcolor\":\"rgb(232,232,232)\",\"linecolor\":\"rgb(36,36,36)\",\"showgrid\":false,\"showline\":true,\"ticks\":\"outside\"}},\"scene\":{\"xaxis\":{\"backgroundcolor\":\"white\",\"gridcolor\":\"rgb(232,232,232)\",\"gridwidth\":2,\"linecolor\":\"rgb(36,36,36)\",\"showbackground\":true,\"showgrid\":false,\"showline\":true,\"ticks\":\"outside\",\"zeroline\":false,\"zerolinecolor\":\"rgb(36,36,36)\"},\"yaxis\":{\"backgroundcolor\":\"white\",\"gridcolor\":\"rgb(232,232,232)\",\"gridwidth\":2,\"linecolor\":\"rgb(36,36,36)\",\"showbackground\":true,\"showgrid\":false,\"showline\":true,\"ticks\":\"outside\",\"zeroline\":false,\"zerolinecolor\":\"rgb(36,36,36)\"},\"zaxis\":{\"backgroundcolor\":\"white\",\"gridcolor\":\"rgb(232,232,232)\",\"gridwidth\":2,\"linecolor\":\"rgb(36,36,36)\",\"showbackground\":true,\"showgrid\":false,\"showline\":true,\"ticks\":\"outside\",\"zeroline\":false,\"zerolinecolor\":\"rgb(36,36,36)\"}},\"shapedefaults\":{\"fillcolor\":\"black\",\"line\":{\"width\":0},\"opacity\":0.3},\"ternary\":{\"aaxis\":{\"gridcolor\":\"rgb(232,232,232)\",\"linecolor\":\"rgb(36,36,36)\",\"showgrid\":false,\"showline\":true,\"ticks\":\"outside\"},\"baxis\":{\"gridcolor\":\"rgb(232,232,232)\",\"linecolor\":\"rgb(36,36,36)\",\"showgrid\":false,\"showline\":true,\"ticks\":\"outside\"},\"bgcolor\":\"white\",\"caxis\":{\"gridcolor\":\"rgb(232,232,232)\",\"linecolor\":\"rgb(36,36,36)\",\"showgrid\":false,\"showline\":true,\"ticks\":\"outside\"}},\"title\":{\"x\":0.05},\"xaxis\":{\"automargin\":true,\"gridcolor\":\"rgb(232,232,232)\",\"linecolor\":\"rgb(36,36,36)\",\"showgrid\":false,\"showline\":true,\"ticks\":\"outside\",\"title\":{\"standoff\":15},\"zeroline\":false,\"zerolinecolor\":\"rgb(36,36,36)\"},\"yaxis\":{\"automargin\":true,\"gridcolor\":\"rgb(232,232,232)\",\"linecolor\":\"rgb(36,36,36)\",\"showgrid\":false,\"showline\":true,\"ticks\":\"outside\",\"title\":{\"standoff\":15},\"zeroline\":false,\"zerolinecolor\":\"rgb(36,36,36)\"}}},\"width\":800,\"xaxis\":{\"linewidth\":2.0,\"mirror\":\"ticks\",\"showgrid\":false,\"showline\":true,\"ticklen\":6,\"ticks\":\"inside\",\"tickwidth\":2.0,\"zerolinecolor\":\"white\"},\"yaxis\":{\"linewidth\":2.0,\"mirror\":\"ticks\",\"showgrid\":false,\"showline\":true,\"ticklen\":6,\"ticks\":\"inside\",\"tickwidth\":2.0,\"zerolinecolor\":\"white\"}}},\"annotations\":[{\"align\":\"left\",\"font\":{\"family\":\"Times New Roman\",\"size\":20},\"showarrow\":false,\"text\":\"<b>y<sub>0</sub></b> : -177.973 &plusmn; 165730.709    <br><b>y<sub>max</sub></b> : 179.102 &plusmn; 165730.707    <br><b>\\u03c4</b> : 5029.818 &plusmn; 4655502.068 &mu;s\",\"x\":0.95,\"xref\":\"x domain\",\"y\":0.95,\"yref\":\"y domain\"}],\"width\":800,\"height\":600,\"xaxis\":{\"title\":{\"text\":\"Time (&mu;s)\"}},\"yaxis\":{\"title\":{\"text\":\"Sig/Ref_counts\"}}},                        {\"responsive\": true}                    ).then(function(){\n",
       "                            \n",
       "var gd = document.getElementById('0f954d19-590f-4d25-804c-08c6cdf8718f');\n",
       "var x = new MutationObserver(function (mutations, observer) {{\n",
       "        var display = window.getComputedStyle(gd).display;\n",
       "        if (!display || display === 'none') {{\n",
       "            console.log([gd, 'removed!']);\n",
       "            Plotly.purge(gd);\n",
       "            observer.disconnect();\n",
       "        }}\n",
       "}});\n",
       "\n",
       "// Listen for the removal of the full notebook cells\n",
       "var notebookContainer = gd.closest('#notebook-container');\n",
       "if (notebookContainer) {{\n",
       "    x.observe(notebookContainer, {childList: true});\n",
       "}}\n",
       "\n",
       "// Listen for the clearing of the current output cell\n",
       "var outputEl = gd.closest('.output');\n",
       "if (outputEl) {{\n",
       "    x.observe(outputEl, {childList: true});\n",
       "}}\n",
       "\n",
       "                        })                };                });            </script>        </div>"
      ]
     },
     "metadata": {},
     "output_type": "display_data"
    }
   ],
   "source": [
    "# For Delay Measurement\n",
    "scale = 1e3\n",
    "\n",
    "fig = go.Figure()\n",
    "fig.add_scatter(x=time_axis[1:]/scale,y=signal_samples[1:],mode='markers',name='signal_counts')\n",
    "fig.add_scatter(x=time_axis[1:]/scale,y=reference_samples[1:],mode='markers',name='reference_counts')\n",
    "fig.add_scatter(x=time_axis[1:]/scale,y=signal_photon[1:],mode='markers',name='signal/reference')\n",
    "# fig.add_scatter(x=xNew/scale,y=curveFit(xNew,*(coefficient+error_bars)),mode='lines',line=dict(width=0.01),name='plus_one_std')\n",
    "# fig.add_scatter(x=xNew/scale,y=curveFit(xNew,*(coefficient-error_bars)),mode='lines',line=dict(width=0.01),name='minus_one_std',fill='tonexty',fillcolor='rgb(211, 211, 211)')\n",
    "# fig.add_scatter(x=xNew/scale,y=yNew,mode='lines',line=dict(color=\"royalblue\"),name='Fitted Curve')\n",
    "\n",
    "fig.add_annotation(\n",
    "    xref=\"x domain\", yref=\"y domain\",align = \"left\", x=0.95, y=0.95,\n",
    "    text=f\"<b>y<sub>0</sub></b> : {np.round(coefficient[0],3)} &plusmn; {np.round(error_bars[0],3)}\\\n",
    "    <br><b>y<sub>max</sub></b> : {np.round(coefficient[1],3)} &plusmn; {np.round(error_bars[1],3)}\\\n",
    "    <br><b>\\u03C4</b> : {np.round(coefficient[2]/1e3,3)} &plusmn; {np.round(error_bars[2]/1e3,3)} &mu;s\",\n",
    "    showarrow=False, font_family=\"Times New Roman\",font_size=20\n",
    ")\n",
    "\n",
    "fig.update_layout(template = fig_template,width=800,height=600)\n",
    "fig.update_xaxes(title_text = \"Time (&mu;s)\"); fig.update_yaxes(title_text = \"Sig/Ref_counts\")\n",
    "\n",
    "# fig.write_html(image_total_path)\n",
    "# if os.stat(image_total_path).st_size == False:\n",
    "#     raise Exception('Saved image is empty!\\n')\n",
    "# else:\n",
    "#     print('Saving image is successful')\n",
    "fig.show() "
   ]
  },
  {
   "cell_type": "code",
   "execution_count": null,
   "metadata": {
    "tags": []
   },
   "outputs": [],
   "source": [
    "# def sigmoid(x,x0):\n",
    "#     return 1/(1+np.exp(-(x-x0)))\n",
    "# def inverse_sigmoid(x,x0):\n",
    "#     return 1/(1+np.exp((x-x0)))"
   ]
  },
  {
   "cell_type": "code",
   "execution_count": null,
   "metadata": {
    "tags": []
   },
   "outputs": [],
   "source": [
    "# arr = np.arange(1,10)\n",
    "# sig = sigmoid(arr,5)\n",
    "# inv_sig = inverse_sigmoid(arr,5)\n",
    "\n",
    "# fig = go.Figure()\n",
    "# fig.add_scatter(x=arr,y=sig,mode='markers' )\n",
    "# fig.add_scatter(x=arr,y=inv_sig,mode='markers' )\n",
    "# fig.update_layout(template = fig_template,width=800,height=600)\n",
    "# fig.show()"
   ]
  },
  {
   "cell_type": "code",
   "execution_count": null,
   "metadata": {
    "tags": []
   },
   "outputs": [],
   "source": [
    "# # For Lifetime Measurement\n",
    "\n",
    "# x_old=delay1+delay2+read_on+timeRange[:-1] \n",
    "# y_old=signal_data\n",
    "# fig = go.Figure()\n",
    "# fig.add_scatter(x=x_old,y=y_old,mode='markers',marker=dict(color=\"royalblue\"),name='Experimental Data' )\n",
    "# fig.update_layout(template = fig_template,width=800,height=600)\n",
    "# fig.show()"
   ]
  },
  {
   "cell_type": "code",
   "execution_count": null,
   "metadata": {
    "tags": []
   },
   "outputs": [],
   "source": [
    "# y_old = signal_data\n",
    "# x_old = delay1+delay2+read_on+timeRange[:-1]    # as we are neglecting the last step\n",
    "# guess_params = np.array([0.3,1,50*1e3])         # (y0,y_max,tau)\n",
    "# # fit_range = np.array([0,400])*1e3             # provide (x_min,x_max) or 'False'(for all x_range)\n",
    "# fit_range = False\n",
    "\n",
    "# # fitting curve\n",
    "# xOld,yOld,xNew,yNew,coefficient,error_bars = lifetime_fit(x_old,y_old,guess_params,pulse_args,fit_range)"
   ]
  },
  {
   "cell_type": "markdown",
   "metadata": {
    "id": "PwhaFEwGETqU",
    "tags": []
   },
   "source": [
    "#### Saving files and Plotting"
   ]
  },
  {
   "cell_type": "code",
   "execution_count": null,
   "metadata": {
    "tags": []
   },
   "outputs": [],
   "source": [
    "# directory_name = r\"C:\\Users\\Administrator\\OneDrive\\Desktop\\T1_measurement\\Instrument_Automation\\Experimental_Applications\\T1_Exp_Datas\\Delay_Measurements\"\n",
    "# image_directory_name = r\"C:\\Users\\Administrator\\OneDrive\\Desktop\\T1_measurement\\Instrument_Automation\\Experimental_Applications\\T1_Images\\Delay_Measurements\"\n",
    "# file_name ='1'\n",
    "\n",
    "# x_old=delay_timeRange+4*delay_read_on\n",
    "# y_old=signal_data\n",
    "\n",
    "# file_name = replace_space(file_name)\n",
    "# directory_name = replace_space(directory_name)\n",
    "# contents = np.array([x_old,y_old])\n",
    "# file_save(directory_name,file_name,contents)                                                                             # saving the data file"
   ]
  },
  {
   "cell_type": "code",
   "execution_count": null,
   "metadata": {
    "tags": []
   },
   "outputs": [],
   "source": [
    "# # Plotting the Fitted Curve\n",
    "# fig = go.Figure()\n",
    "\n",
    "# # fig.add_scatter(x=xNew,y=curveFit(xNew,*(coefficient+error_bars)),mode='lines',line=dict(width=0.01),name='plus_one_std')\n",
    "# # fig.add_scatter(x=xNew,y=curveFit(xNew,*(coefficient-error_bars)),mode='lines',line=dict(width=0.01),name='minus_one_std',fill='tonexty',fillcolor='rgb(211, 211, 211)')\n",
    "# # fig.add_scatter(x=xNew,y=yNew,mode='lines',line=dict(color=\"royalblue\"),name='Fitted Curve')\n",
    "# fig.add_scatter(x=x_old,y=y_old,mode='markers',marker=dict(color=\"royalblue\"),name='Experimental Data' )\n",
    "\n",
    "# fig.update_layout(template = fig_template,width=800,height=600)\n",
    "# fig.update_xaxes(title_text = \"Time (ns)\"); fig.update_yaxes(title_text = \"Signal_counts\")\n",
    "# # fig.add_annotation(\n",
    "# #     xref=\"x domain\", yref=\"y domain\",align = \"left\", x=0.95, y=0.95,\n",
    "# #     text=f\"<b>y<sub>0</sub></b> : {np.round(coefficient[0],3)} &plusmn; {np.round(error_bars[0],3)}\\\n",
    "# #     <br><b>y<sub>max</sub></b> : {np.round(coefficient[1],3)} &plusmn; {np.round(error_bars[1],3)}\\\n",
    "# #     <br><b>\\u03C4</b> : {np.round(coefficient[2]/1e3,3)} &plusmn; {np.round(error_bars[2]/1e3,3)} &mu;s\",\n",
    "# #     showarrow=False, font_family=\"Times New Roman\",font_size=20\n",
    "# # )\n",
    "\n",
    "# # allowed saving formats : 'html','svg','pdf','png','jpeg','webp'\n",
    "# image_save(image_directory_name,file_name,fig_to_save=fig,extension='html')\n",
    "# fig.show()"
   ]
  },
  {
   "cell_type": "code",
   "execution_count": null,
   "metadata": {
    "id": "ukzYcI7WBuRR",
    "tags": []
   },
   "outputs": [],
   "source": [
    "# y_old = signal_data\n",
    "# x_old = delay1+delay2+read_on+timeRange[:-1]    # as we are neglecting the last step\n",
    "# guess_params = np.array([0.3,1,50*1e3])         # (y0,y_max,tau)\n",
    "# # fit_range = np.array([0,400])*1e3             # provide (x_min,x_max) or 'False'(for all x_range)\n",
    "# fit_range = False\n",
    "\n",
    "# # fitting curve\n",
    "# xOld,yOld,xNew,yNew,coefficient,error_bars = lifetime_fit(x_old,y_old,guess_params,pulse_args,fit_range)"
   ]
  },
  {
   "cell_type": "code",
   "execution_count": null,
   "metadata": {
    "id": "jr_F4_27BuRR",
    "tags": []
   },
   "outputs": [],
   "source": [
    "# # Saving Data and Images in the mentined folder \n",
    "# # Keep 'r' before Directory name or use \"C:\\\\Users\\....\"\n",
    "# directory_name = r\"C:\\Users\\Administrator\\Desktop\\T1_measurement\\Instrument_Automation\\Experimental_Applications\\Exp_Data\\year_2024\\11May\\nanodiamonds\\delay_measurements\"      # Experimental Data Directory\n",
    "# # image_directory_name = r\"C:\\Users\\Administrator\\Desktop\\T1_measurement\\Instrument_Automation\\Experimental_Applications\\Images\\year_2024\\11May\\nanodiamonds\\delay_measurements\"  # Image Directory\n",
    "# file_name ='1'\n",
    "\n",
    "# file_name = replace_space(file_name)\n",
    "# directory_name = replace_space(directory_name)\n",
    "# contents = np.array([xOld,yOld])\n",
    "# file_save(directory_name,file_name,contents)                                                                             # saving the data file"
   ]
  },
  {
   "cell_type": "code",
   "execution_count": null,
   "metadata": {
    "id": "ydIEEc7uBuRR",
    "tags": []
   },
   "outputs": [],
   "source": [
    "# # Plotting the Fitted Curve\n",
    "# fig = go.Figure()\n",
    "\n",
    "# fig.add_scatter(x=xNew,y=curveFit(xNew,*(coefficient+error_bars)),mode='lines',line=dict(width=0.01),name='plus_one_std')\n",
    "# fig.add_scatter(x=xNew,y=curveFit(xNew,*(coefficient-error_bars)),mode='lines',line=dict(width=0.01),name='minus_one_std',fill='tonexty',fillcolor='rgb(211, 211, 211)')\n",
    "# fig.add_scatter(x=xNew,y=yNew,mode='lines',line=dict(color=\"royalblue\"),name='Fitted Curve')\n",
    "# fig.add_scatter(x=x_old,y=y_old,mode='markers',marker=dict(color=\"royalblue\"),name='Experimental Data' )\n",
    "\n",
    "# fig.update_layout(template = fig_template,width=800,height=600)\n",
    "# fig.update_xaxes(title_text = \"Time (ns)\"); fig.update_yaxes(title_text = \"Signal_counts\")\n",
    "# fig.add_annotation(\n",
    "#     xref=\"x domain\", yref=\"y domain\",align = \"left\", x=0.95, y=0.95,\n",
    "#     text=f\"<b>y<sub>0</sub></b> : {np.round(coefficient[0],3)} &plusmn; {np.round(error_bars[0],3)}\\\n",
    "#     <br><b>y<sub>max</sub></b> : {np.round(coefficient[1],3)} &plusmn; {np.round(error_bars[1],3)}\\\n",
    "#     <br><b>\\u03C4</b> : {np.round(coefficient[2]/1e3,3)} &plusmn; {np.round(error_bars[2]/1e3,3)} &mu;s\",\n",
    "#     showarrow=False, font_family=\"Times New Roman\",font_size=20\n",
    "# )\n",
    "\n",
    "# # allowed saving formats : 'html','svg','pdf','png','jpeg','webp'\n",
    "# image_save(image_directory_name,file_name,fig_to_save=fig,extension='html')\n",
    "# fig.show()"
   ]
  },
  {
   "cell_type": "code",
   "execution_count": null,
   "metadata": {},
   "outputs": [],
   "source": []
  }
 ],
 "metadata": {
  "colab": {
   "include_colab_link": true,
   "provenance": []
  },
  "kernelspec": {
   "display_name": "Python 3 (ipykernel)",
   "language": "python",
   "name": "python3"
  },
  "language_info": {
   "codemirror_mode": {
    "name": "ipython",
    "version": 3
   },
   "file_extension": ".py",
   "mimetype": "text/x-python",
   "name": "python",
   "nbconvert_exporter": "python",
   "pygments_lexer": "ipython3",
   "version": "3.11.5"
  }
 },
 "nbformat": 4,
 "nbformat_minor": 4
}
