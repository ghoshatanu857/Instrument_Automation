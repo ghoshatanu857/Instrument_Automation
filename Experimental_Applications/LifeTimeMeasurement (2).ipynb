{
  "nbformat": 4,
  "nbformat_minor": 0,
  "metadata": {
    "colab": {
      "provenance": [],
      "include_colab_link": true
    },
    "kernelspec": {
      "name": "python3",
      "display_name": "Python 3"
    },
    "language_info": {
      "name": "python"
    }
  },
  "cells": [
    {
      "cell_type": "markdown",
      "metadata": {
        "id": "view-in-github",
        "colab_type": "text"
      },
      "source": [
        "<a href=\"https://colab.research.google.com/github/ghoshatanu857/Instrument_Automation/blob/main/Experimental_Applications/LifeTimeMeasurement%20(2).ipynb\" target=\"_parent\"><img src=\"https://colab.research.google.com/assets/colab-badge.svg\" alt=\"Open In Colab\"/></a>"
      ]
    },
    {
      "cell_type": "code",
      "source": [
        "# !pip install pulsestreamer\n",
        "# !pip install nidaqmx\n",
        "import numpy as np\n",
        "import inspect,dis\n",
        "import sys\n",
        "from tqdm import trange\n",
        "from time import *\n",
        "# import pulsestreamer\n",
        "# import pprint\n",
        "# from pulsestreamer import PulseStreamer,findPulseStreamers,OutputState,TriggerStart,Sequence"
      ],
      "metadata": {
        "id": "xvObEvg5GMGb"
      },
      "execution_count": null,
      "outputs": []
    },
    {
      "cell_type": "code",
      "source": [
        "# loading the local Pulse Streamer system\n",
        "IPaddress = findPulseStreamers(search_serial='')[0][0]\n",
        "pulser = PulseStreamer(IPaddress)\n",
        "\n",
        "# loading the local NIDAQmx system\n",
        "system = nidaqmx.system.System.local()\n",
        "DAQ_device = system.devices['Dev1']"
      ],
      "metadata": {
        "id": "-ZRDtflEG9f2"
      },
      "execution_count": null,
      "outputs": []
    },
    {
      "cell_type": "code",
      "source": [
        "# all in nanosecond range\n",
        "wait1=50; wait2=20\n",
        "laserOn=1000; Tmax=3000\n",
        "readOn=150; trigger_timing_delay=2\n",
        "steps=15; samples=1000; averages=10\n",
        "laserPort=0; triggerPort=1; timingPort=2\n",
        "\n",
        "timeRange=np.linspace(0,Tmax,num=steps)\n",
        "\n",
        "pulse_args = {'wait1': wait1,'wait2': wait2,'laserOn': laserOn,'timeRange': timeRange,'trigger_timing_delay': trigger_timing_delay,\n",
        "              'readOn': readOn,'averages': averages,'samples': samples,\n",
        "              'laserPort': laserPort,'triggerPort': triggerPort,'timingPort': timingPort}"
      ],
      "metadata": {
        "id": "r_WXFw-55B7x"
      },
      "execution_count": null,
      "outputs": []
    },
    {
      "cell_type": "code",
      "execution_count": null,
      "metadata": {
        "id": "TGawZzGEktRe"
      },
      "outputs": [],
      "source": [
        "def lifetime_sequence(pulse_args):  # all in nanosecond range\n",
        "\n",
        "  delay1=pulse_args['wait1']; delay2=pulse_args['wait2']; laser_on =pulse_args['laserOn']; read_on =pulse_args['wait1']\n",
        "  t_vec =pulse_args['timeRange']; read_on =pulse_args['readOn']; trigegrTimingDelay =pulse_args['trigger_timing_delay']\n",
        "  averages =pulse_args['averages']; samples =pulse_args['samples']\n",
        "  laser_port =pulse_args['laserPort']; trigger_port =pulse_args['triggerPort']; timing_port =pulse_args['timingPort']\n",
        "\n",
        "  # Checking the initial condition of Pulse Streamer\n",
        "  if pulser.hasSequence()!=0:\n",
        "    print('Pulse Streamer has a Sequence. Do you want to proceed?\\n')\n",
        "    permission = int(input('Press 0/1 : \\n'))\n",
        "  if permission==0:\n",
        "    pass\n",
        "\n",
        "  ## Producing the Patterns\n",
        "  laser_block = [(delay2,0),(laser_on,1),(delay2+t_vec[-1],0)]\n",
        "  # laser_pattern = [(delay1,0)]; trigger_pattern = [(delay1,0)]; timing_pattern = [(delay1,0)]\n",
        "\n",
        "  laser_pattern=[]; trigger_pattern=[]; timing_pattern=[]\n",
        "  for t in range(t_vec.shape[0]-1): #neglecting the last t\n",
        "    if t_vec.shape[0] > t_vec[-1]/read_on:\n",
        "      print(f'Please reduce the step numbers. Maximum allowed steps: {t_vec[-1]/read_on}')\n",
        "      break\n",
        "    laserPattern = laser_block*samples\n",
        "    laser_pattern.append(laserPattern)\n",
        "\n",
        "    triggerPattern = [((2*delay2+laser_on),0),(read_on,1),(delay2+t_vec[t],0),(read_on,1),(t_vec[-1]+delay2-t_vec[t]-2*(delay2+read_on),0)]\n",
        "    triggerPattern = triggerPattern*samples\n",
        "    trigger_pattern.append(triggerPattern)\n",
        "\n",
        "    timing_read_on = read_on-trigegrTimingDelay\n",
        "    timingPattern = [((2*delay2+laser_on),0),(timing_read_on,1),(delay2+t_vec[t],0),(timing_read_on,1),(t_vec[-1]+delay2-t_vec[t]-2*(delay2+timing_read_on),0)]\n",
        "    timingPattern = timingPattern*samples\n",
        "    timing_pattern.append(timingPattern)\n",
        "\n",
        "  if t_vec.shape[0] > t_vec[-1]/read_on:\n",
        "    pass\n",
        "  # laser_pattern +=[(delay1,0)]; trigger_pattern +=[(delay1,0)]; timing_pattern +=[(delay1,0)]\n",
        "\n",
        "  ## Producing the Sequences\n",
        "  reSet = pulser.reset()\n",
        "  if reSet==0:\n",
        "    print('Pulse Streamer has been reset before Streaming.\\n')\n",
        "  seq = pulser.createSequence()\n",
        "  seq.setDigital(laser_port,laser_pattern); seq.setDigital(trigger_port,trigger_pattern); seq.setDigital(timing_port,timing_pattern)\n",
        "  # print(f'Plot of the Sequence without averaging:\\n {seq.plot()}\\n')\n",
        "  # seq*=averages\n",
        "\n",
        "  return seq"
      ]
    },
    {
      "cell_type": "code",
      "source": [
        "def lifetime(pulse_args):\n",
        "\n",
        "     numberofpoints=samples*2\n",
        "     buffersamplecount=numberofpoints\n",
        "     DAQ_device.reset_device()\n",
        "\n",
        "     # Counter\n",
        "     counter = nidaqmx.Task()\n",
        "     ciChannel = counter.ci_channels.add_ci_count_edges_chan('/Dev1/ctr1',edge=nidaqmx.constants.Edge.RISING, initial_count=0, count_direction=nidaqmx.constants.CountDirection.COUNT_UP)\n",
        "\n",
        "     # Trigger\n",
        "     counter.triggers.pause_trigger.dig_lvl_src='/Dev1/PFI4'\n",
        "     counter.triggers.pause_trigger.trig_type=nidaqmx.constants.TriggerType.DIGITAL_LEVEL\n",
        "     counter.triggers.pause_trigger.dig_lvl_when=nidaqmx.constants.Level.LOW\n",
        "\n",
        "     # Timing\n",
        "     counter.timing.cfg_samp_clk_timing(rate=1e8,source='/Dev1/PFI5',active_edge=nidaqmx.constants.Edge.FALLING,sample_mode = nidaqmx.constants.AcquisitionType.FINITE, samps_per_chan=(numberofpoints*steps))\n",
        "\n",
        "     # Pulse streamer Gating\n",
        "     gate_task = nidaqmx.Task()\n",
        "     gate_task.do_channels.add_do_chan(lines = 'Dev1/port0/line7')\n",
        "\n",
        "     # Counter read task\n",
        "     reader = nidaqmx.stream_readers.CounterReader(counter.in_stream)\n",
        "     highCount = np.zeros(buffersamplecount, dtype = np.uint32)\n",
        "\n",
        "     cps = []\n",
        "     callback=[]\n",
        "\n",
        "     # Callback function\n",
        "     def readBuffer(task_handle, every_n_samples_event_type, number_of_samples, callback_data):\n",
        "         counter.in_stream.read_all_avail_samp = True\n",
        "         counter.read(number_of_samples_per_channel= nidaqmx.constants.READ_ALL_AVAILABLE)\n",
        "         cps.extend(highCount)\n",
        "         callback.extend([1])\n",
        "         return 0\n",
        "     counter.register_every_n_samples_acquired_into_buffer_event(buffersamplecount,readBuffer)\n",
        "\n",
        "     time.sleep(0.01)\n",
        "     t=0\n",
        "     run=0\n",
        "     data=[]\n",
        "     print(\"callback number in beginning:\",len(callback))\n",
        "\n",
        "     for i in trange(pulse_args['averages']):\n",
        "\n",
        "         print(run)\n",
        "         time.sleep(0.05)\n",
        "         counter.control(nidaqmx.constants.TaskMode.TASK_RESERVE)\n",
        "         gate_task.control(nidaqmx.constants.TaskMode.TASK_RESERVE)\n",
        "         time.sleep(0.05)\n",
        "         counter.start()\n",
        "\n",
        "         sequence=lifetime_sequence(pulse_args)\n",
        "         pulser.setTrigger(start=pulser.TriggerStart.HARDWARE_RISING,rearm=pulser.TriggerRearm.AUTO)\n",
        "\n",
        "         seq_num=0\n",
        "         start1=time.time()\n",
        "\n",
        "         for s in range(steps):\n",
        "\n",
        "             t1=len(callback)\n",
        "             seq_num=seq_num+1\n",
        "\n",
        "             ## Checking the Conditions\n",
        "             if pulser.hasSequence()!=0:\n",
        "               print('Pulse Streamer has no Sequence uploaded!')\n",
        "               pass\n",
        "             if seq.isEmpty()==0:\n",
        "               print('Sequence to Pulse Streamer is empty!')\n",
        "               pass\n",
        "             if seq.getDuration()%8==0:\n",
        "               print(\"Sequence duration is not multiple of 8ns!\\n Please check by 'seq.get_pad()' method.\")\n",
        "               pass\n",
        "\n",
        "             start2=time.time()\n",
        "             ## Performing the Streaming\n",
        "             pulser.stream(sequence[s],n_runs=samples,final=([],0,0),start=HARDWARE)\n",
        "             print(seq_num)\n",
        "\n",
        "             gate_task.write(True)\n",
        "             while len(callback)==t1:\n",
        "                 time.sleep(0.005)\n",
        "             gate_task.write(False)\n",
        "\n",
        "             end2=time.time()\n",
        "             print(f'Time for {s+1}-th average:  {end2-start2}')\n",
        "\n",
        "         end1=time.time()\n",
        "         print('Time for single average: ', end1-start1)\n",
        "         print(\"callback number average end:\",len(callback))\n",
        "         run=run+1\n",
        "         counter.control(nidaqmx.constants.TaskMode.TASK_UNRESERVE)\n",
        "         gate_task.control(nidaqmx.constants.TaskMode.TASK_UNRESERVE)\n",
        "\n",
        "         if pulser.hasFinished()==1:\n",
        "           print(f'Streaming has been finished after {i+1}-th average.\\n')\n",
        "         reSet = pulser.reset()\n",
        "         if reSet==0:\n",
        "           print('Pulse Streamer has been reset after Streaming.\\n')\n",
        "\n",
        "     data=datainterpretdaq_pulsed_unreserve(cps,numberofpoints*steps)\n",
        "     counter.close()\n",
        "     gate_task.close()\n",
        "     return data\n",
        "\n",
        "def datainterpretdaq_pulsed_unreserve(combinedcounts,samples_in_one_average):\n",
        "     combinedcountarray=np.array(combinedcounts)\n",
        "     averagecount=int(len(combinedcounts)/samples_in_one_average)\n",
        "     print(\"crosscheck number of averges=\",averagecount)\n",
        "     combinedcountmatrix=np.reshape(combinedcountarray,(averagecount,samples_in_one_average))\n",
        "     ca=np.delete(combinedcountmatrix, -1, 1)\n",
        "     z = np.zeros(averagecount, dtype=int)\n",
        "     ca2=np.hstack((z[:, np.newaxis], ca))\n",
        "     correctedcounts=np.subtract(combinedcountmatrix,ca2)\n",
        "     averagedata=np.mean(correctedcounts,axis=0)\n",
        "     return averagedata"
      ],
      "metadata": {
        "colab": {
          "base_uri": "https://localhost:8080/"
        },
        "id": "eqf5Wl-yD3nf",
        "outputId": "a9d9a105-ced1-421a-bd87-7ece3e7aa113"
      },
      "execution_count": null,
      "outputs": [
        {
          "output_type": "execute_result",
          "data": {
            "text/plain": [
              "(array([   0.,  830., 1660., 2490., 3320.]), 1930)"
            ]
          },
          "metadata": {},
          "execution_count": 42
        }
      ]
    },
    {
      "cell_type": "code",
      "source": [
        "lifetime(pulse_args)"
      ],
      "metadata": {
        "id": "JLqGYrjSNGjv"
      },
      "execution_count": null,
      "outputs": []
    }
  ]
}