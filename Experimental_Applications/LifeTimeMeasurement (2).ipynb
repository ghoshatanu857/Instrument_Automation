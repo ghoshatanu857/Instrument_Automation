{
  "nbformat": 4,
  "nbformat_minor": 0,
  "metadata": {
    "colab": {
      "provenance": [],
      "include_colab_link": true
    },
    "kernelspec": {
      "name": "python3",
      "display_name": "Python 3"
    },
    "language_info": {
      "name": "python"
    }
  },
  "cells": [
    {
      "cell_type": "markdown",
      "metadata": {
        "id": "view-in-github",
        "colab_type": "text"
      },
      "source": [
        "<a href=\"https://colab.research.google.com/github/ghoshatanu857/Instrument_Automation/blob/main/Experimental_Applications/LifeTimeMeasurement%20(2).ipynb\" target=\"_parent\"><img src=\"https://colab.research.google.com/assets/colab-badge.svg\" alt=\"Open In Colab\"/></a>"
      ]
    },
    {
      "cell_type": "code",
      "source": [
        "# !pip install pulsestreamer\n",
        "# !pip install nidaqmx\n",
        "import numpy as np\n",
        "import inspect,dis\n",
        "import sys\n",
        "from tqdm import trange\n",
        "from time import *\n",
        "# import pulsestreamer\n",
        "# import pprint\n",
        "# from pulsestreamer import PulseStreamer,findPulseStreamers,OutputState,TriggerStart,Sequence"
      ],
      "metadata": {
        "id": "xvObEvg5GMGb"
      },
      "execution_count": 17,
      "outputs": []
    },
    {
      "cell_type": "code",
      "source": [
        "# loading the local Pulse Streamer system\n",
        "IPaddress = findPulseStreamers(search_serial='')[0][0]\n",
        "pulser = PulseStreamer(IPaddress)\n",
        "\n",
        "# loading the local NIDAQmx system\n",
        "system = nidaqmx.system.System.local()\n",
        "DAQ_device = system.devices['Dev1']"
      ],
      "metadata": {
        "id": "-ZRDtflEG9f2"
      },
      "execution_count": null,
      "outputs": []
    },
    {
      "cell_type": "code",
      "source": [
        "# all in nanosecond range\n",
        "wait1=50; wait2=20\n",
        "laserOn=1000; Tmax=3000\n",
        "readOn=150\n",
        "steps=5; samples=1000; averages=10\n",
        "laserPort=0; readoutPort=1\n",
        "\n",
        "timeRange=np.linspace(0,Tmax,num=steps)\n",
        "\n",
        "pulse_args = {'wait1': wait1,'wait2': wait2,'laserOn': laserOn,'timeRange': timeRange,\n",
        "              'readOn': readOn,'averages': averages,'samples': samples,'laserPort': laserPort,'readoutPort': readoutPort}"
      ],
      "metadata": {
        "id": "r_WXFw-55B7x"
      },
      "execution_count": 13,
      "outputs": []
    },
    {
      "cell_type": "code",
      "execution_count": null,
      "metadata": {
        "id": "TGawZzGEktRe"
      },
      "outputs": [],
      "source": [
        "def lifetime_sequence(pulse_args):  # all in nanosecond range\n",
        "\n",
        "  delay1=pulse_args['wait1']; delay2=pulse_args['wait2']; laser_on =pulse_args['laserOn']; read_on =pulse_args['wait1']\n",
        "  t_vec =pulse_args['timeRange']; averages =pulse_args['averages']; samples =pulse_args['samples']; read_on =pulse_args['readOn']\n",
        "  laser_port =pulse_args['laserPort']; readout_port =pulse_args['readoutPort']\n",
        "\n",
        "  # Checking the initial condition of Pulse Streamer\n",
        "  if pulser.hasSequence()!=0:\n",
        "    print('Pulse Streamer has a Sequence. Do you want to proceed?\\n')\n",
        "    permission = int(input('Press 0/1 : \\n'))\n",
        "  if permission==0:\n",
        "    pass\n",
        "\n",
        "  ## Producing the Patterns\n",
        "  laser_block = [(delay2,0),(laser_on,1),(delay2+t_vec[-1],0)]\n",
        "  laser_pattern = [(delay1,0)]; signal_pattern = [(delay1,0)]\n",
        "\n",
        "  for t in range(t_vec.shape[0]-1): #neglecting the last t\n",
        "    if t_vec.shape[0] > t_vec[-1]/read_on:\n",
        "      print(f'Please reduce the step numbers. Maximum allowed steps: {t_vec[-1]/read_on}')\n",
        "      break\n",
        "    laser_pattern += laser_block\n",
        "    signal_pattern += [((2*delay2+laser_on),0),(read_on,1),(delay2+t_vec[t],0),(read_on,1),(t_vec[-1]-t_vec[t]-delay2-2*read_on,0)]\n",
        "\n",
        "  if t_vec.shape[0] > t_vec[-1]/read_on:\n",
        "    pass\n",
        "  laser_pattern +=[(delay1,0)]; signal_pattern +=[(delay1,0)]\n",
        "\n",
        "  ## Producing the Sequences\n",
        "  reSet = pulser.reset()\n",
        "  if reSet==0:\n",
        "    print('Pulse Streamer has been reset.\\n')\n",
        "  seq = pulser.createSequence()\n",
        "  seq.setDigital(laser_port,laser_pattern) ; seq.setDigital(readout_port,signal_pattern)\n",
        "  print(f'Plot of the Sequence without averaging:\\n {seq.plot()}\\n')\n",
        "  # seq*=averages\n",
        "\n",
        "  return seq"
      ]
    },
    {
      "cell_type": "code",
      "source": [
        " def lifetime(pulse_args):\n",
        "\n",
        "     numberofpoints=samples*2*steps\n",
        "     buffersamplecount=numberofpoints\n",
        "     DAQ_device.reset_device()\n",
        "\n",
        "     # Counter\n",
        "     counter = nidaqmx.Task()\n",
        "     ciChannel = counter.ci_channels.add_ci_count_edges_chan('/Dev1/ctr1',edge=nidaqmx.constants.Edge.RISING, initial_count=0, count_direction=nidaqmx.constants.CountDirection.COUNT_UP)\n",
        "\n",
        "     # Trigger\n",
        "     counter.triggers.pause_trigger.dig_lvl_src='/Dev1/PFI4'\n",
        "     counter.triggers.pause_trigger.trig_type=nidaqmx.constants.TriggerType.DIGITAL_LEVEL\n",
        "     counter.triggers.pause_trigger.dig_lvl_when=nidaqmx.constants.Level.LOW  ### ?\n",
        "\n",
        "     # Timing\n",
        "     counter.timing.cfg_samp_clk_timing(rate=1e8,source='/Dev1/PFI5',active_edge=nidaqmx.constants.Edge.FALLING,sample_mode = nidaqmx.constants.AcquisitionType.FINITE, samps_per_chan=(numberofpoints))\n",
        "\n",
        "     # Pulse streamer Gating\n",
        "     gate = 'Dev1/port0/line7'\n",
        "     gate_task = nidaqmx.Task()\n",
        "     gate_task.do_channels.add_do_chan(lines = gate)\n",
        "\n",
        "     cps = []\n",
        "     callback=[]\n",
        "\n",
        "     # Counter read task\n",
        "     reader = nidaqmx.stream_readers.CounterReader(counter.in_stream)\n",
        "     highCount = np.zeros(buffersamplecount, dtype = np.uint32)\n",
        "\n",
        "     def readBuffer(task_handle, every_n_samples_event_type, number_of_samples, callback_data):\n",
        "         counter.in_stream.read_all_avail_samp = True\n",
        "         readPixels=reader.read_many_sample_uint32(highCount, number_of_samples_per_channel=- 1, timeout=10.0)   # default timeout: 10s\n",
        "         cps.extend(highCount)\n",
        "         callback.extend([1])\n",
        "         return 0\n",
        "\n",
        "     time.sleep(0.01)\n",
        "     # Read after filling the buffer with given number of samples\n",
        "     counter.register_every_n_samples_acquired_into_buffer_event(buffersamplecount,readBuffer) #after every pixel it will trigger the callback\n",
        "\n",
        "     # Start tasks (digital output will be triggered by analog output)  ### ?\n",
        "     print(\"starting DAQ\")\n",
        "\n",
        "     #Adding infinite loop\n",
        "     t=0\n",
        "     run=0\n",
        "     data=[]\n",
        "     finaldata=[]\n",
        "     print(\"callback number in beginning:\",len(callback))\n",
        "\n",
        "     for i in trange(averages):\n",
        "         print(run)\n",
        "         time.sleep(0.05)\n",
        "         #counter.control(nidaqmx.constants.TaskMode.TASK_RESERVE)\n",
        "         time.sleep(0.05)\n",
        "         counter.start()\n",
        "         seq=lifetime_sequence(pulse_args)\n",
        "        #  pulser.setTrigger(start=pulser.TriggerStart.HARDWARE_RISING,rearm=pulser.TriggerRearm.AUTO)   ### ?\n",
        "\n",
        "         seq_num=0\n",
        "         time_start=time.time()\n",
        "\n",
        "         for s in seq:    ### ?\n",
        "\n",
        "             t1=len(callback)\n",
        "             #s.plot()\n",
        "             seq_num=seq_num+1\n",
        "\n",
        "             ## Checking the Conditions\n",
        "             if pulser.hasSequence()!=0:\n",
        "               print('Pulse Streamer has no Sequence uploaded!')\n",
        "               pass\n",
        "             if seq.isEmpty()==0:\n",
        "               print('Sequence to Pulse Streamer is empty!')\n",
        "               pass\n",
        "             if seq.getDuration()%8==0:\n",
        "               print(\"Sequence duration is not multiple of 8ns!\\n Please check by 'seq.get_pad()' method.\")\n",
        "               pass\n",
        "\n",
        "             ## Performing the Streaming\n",
        "             pulser.stream(seq,n_runs=samples,final=([],0,0))\n",
        "            #  ps.stream(s, n_runs=samples)\n",
        "             if pulser.hasFinished()==1:\n",
        "               print('Streaming has been finished.\\n')\n",
        "             reSet = pulser.reset()\n",
        "             if reSet==0:\n",
        "               print('Pulse Streamer has been reset after Streaming.\\n')\n",
        "             #print(seq_num)\n",
        "\n",
        "             time_start=time.time()\n",
        "             gate_task.write(True)\n",
        "             while len(callback)==t1:\n",
        "                 time.sleep(0.005)\n",
        "             time_end=time.time()\n",
        "             gate_task.write(False)\n",
        "\n",
        "         print('time taken for on stream of all sequences', time_end-time_start)\n",
        "         print(\"callback number average end:\",len(callback))\n",
        "         run=run+1\n",
        "         counter.control(nidaqmx.constants.TaskMode.TASK_UNRESERVE)\n",
        "\n",
        "     #data.append(np.mean(temp))\n",
        "     print(seq_num)\n",
        "     data=datainterpretdaq_pulsed_unreserve(cps,numberofpoints)\n",
        "     counter.close()\n",
        "     gate_task.close()\n",
        "     return data\n",
        "\n",
        " def datainterpretdaq_pulsed_unreserve(combinedcounts,samples_in_one_average):\n",
        "     combinedcountarray=np.array(combinedcounts)\n",
        "     averagecount=int(len(combinedcounts)/samples_in_one_average)\n",
        "     print(\"crosscheck number of averges=\",averagecount)\n",
        "     combinedcountmatrix=np.reshape(combinedcountarray,(averagecount,samples_in_one_average))\n",
        "     ca=np.delete(combinedcountmatrix, -1, 1)\n",
        "     z = np.zeros(averagecount, dtype=int)\n",
        "     ca2=np.hstack((z[:, np.newaxis], ca))\n",
        "     correctedcounts=np.subtract(combinedcountmatrix,ca2)\n",
        "     averagedata=np.mean(correctedcounts,axis=0)\n",
        "     return averagedata"
      ],
      "metadata": {
        "colab": {
          "base_uri": "https://localhost:8080/"
        },
        "id": "eqf5Wl-yD3nf",
        "outputId": "a9d9a105-ced1-421a-bd87-7ece3e7aa113"
      },
      "execution_count": null,
      "outputs": [
        {
          "output_type": "execute_result",
          "data": {
            "text/plain": [
              "(array([   0.,  830., 1660., 2490., 3320.]), 1930)"
            ]
          },
          "metadata": {},
          "execution_count": 42
        }
      ]
    },
    {
      "cell_type": "code",
      "source": [
        "lifetime(pulse_args)"
      ],
      "metadata": {
        "id": "JLqGYrjSNGjv"
      },
      "execution_count": null,
      "outputs": []
    }
  ]
}