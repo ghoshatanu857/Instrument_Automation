{
 "cells": [
  {
   "cell_type": "code",
   "execution_count": 21,
   "id": "adf0e8b9-2b25-41ea-a992-bc8fec6bf716",
   "metadata": {
    "tags": []
   },
   "outputs": [],
   "source": [
    "import TimeTagger \n",
    "import numpy as np"
   ]
  },
  {
   "cell_type": "code",
   "execution_count": 23,
   "id": "60694f90-5642-46ad-93d5-e1071563dade",
   "metadata": {
    "tags": []
   },
   "outputs": [],
   "source": [
    "tagger = TimeTagger.createTimeTagger()"
   ]
  },
  {
   "cell_type": "code",
   "execution_count": 25,
   "id": "66b5e5ec-9a4b-4644-95bd-3fe66a765e7f",
   "metadata": {
    "tags": []
   },
   "outputs": [],
   "source": [
    "tagger.setTestSignal(1, True); tagger.setTestSignal(2, True)"
   ]
  },
  {
   "cell_type": "code",
   "execution_count": 27,
   "id": "5a8625b8-6a84-4b89-8736-3ae532ec6b8e",
   "metadata": {
    "tags": []
   },
   "outputs": [],
   "source": [
    "tagger.setTriggerLevel(channel=1, voltage=0.5); tagger.setTriggerLevel(channel=2, voltage=0.5)"
   ]
  },
  {
   "cell_type": "code",
   "execution_count": 29,
   "id": "b3552b77-cab3-41e3-bbcd-ebac321f3ebb",
   "metadata": {
    "tags": []
   },
   "outputs": [],
   "source": [
    "correlation = TimeTagger.Correlation(tagger=tagger,channel_1=1,channel_2=2,binwidth=10,n_bins=5000)"
   ]
  },
  {
   "cell_type": "code",
   "execution_count": 31,
   "id": "d4792d8a-6e52-490d-9d8a-9f1734867ec0",
   "metadata": {
    "tags": []
   },
   "outputs": [
    {
     "data": {
      "text/plain": [
       "True"
      ]
     },
     "execution_count": 31,
     "metadata": {},
     "output_type": "execute_result"
    }
   ],
   "source": [
    "correlation.startFor(capture_duration=int(1E12))\n",
    "correlation.waitUntilFinished()"
   ]
  },
  {
   "cell_type": "code",
   "execution_count": 33,
   "id": "98896193-7b16-4e10-891f-27ab0e03c5c6",
   "metadata": {
    "tags": []
   },
   "outputs": [
    {
     "data": {
      "text/plain": [
       "array([0, 0, 0, ..., 0, 0, 0])"
      ]
     },
     "execution_count": 33,
     "metadata": {},
     "output_type": "execute_result"
    }
   ],
   "source": [
    "correlation.getIndex()\n",
    "correlation.getData()"
   ]
  },
  {
   "cell_type": "code",
   "execution_count": 39,
   "id": "691414b1-31f8-44e7-974f-5c2995bbde95",
   "metadata": {
    "tags": []
   },
   "outputs": [
    {
     "ename": "NameError",
     "evalue": "name 'get_delay_and_jitter' is not defined",
     "output_type": "error",
     "traceback": [
      "\u001b[1;31m---------------------------------------------------------------------------\u001b[0m",
      "\u001b[1;31mNameError\u001b[0m                                 Traceback (most recent call last)",
      "Cell \u001b[1;32mIn[39], line 1\u001b[0m\n\u001b[1;32m----> 1\u001b[0m delay, jitter_rms \u001b[38;5;241m=\u001b[39m get_delay_and_jitter(correlation\u001b[38;5;241m.\u001b[39mgetIndex(), correlation\u001b[38;5;241m.\u001b[39mgetData())\n\u001b[0;32m      2\u001b[0m \u001b[38;5;28mprint\u001b[39m(\u001b[38;5;124m\"\u001b[39m\u001b[38;5;124mThe measured delay is \u001b[39m\u001b[38;5;132;01m{:.1f}\u001b[39;00m\u001b[38;5;124m ps with an RMS of \u001b[39m\u001b[38;5;132;01m{:.1f}\u001b[39;00m\u001b[38;5;124m ps.\u001b[39m\u001b[38;5;124m\"\u001b[39m\u001b[38;5;241m.\u001b[39mformat(delay, jitter_rms))\n",
      "\u001b[1;31mNameError\u001b[0m: name 'get_delay_and_jitter' is not defined"
     ]
    }
   ],
   "source": [
    "delay, jitter_rms = get_delay_and_jitter(correlation.getIndex(), correlation.getData())\n",
    "print(\"The measured delay is {:.1f} ps with an RMS of {:.1f} ps.\".format(delay, jitter_rms))"
   ]
  },
  {
   "cell_type": "code",
   "execution_count": 120,
   "id": "77a9c4e5-14d9-486f-8a5e-dc570db9e288",
   "metadata": {
    "tags": []
   },
   "outputs": [
    {
     "name": "stdout",
     "output_type": "stream",
     "text": [
      "The input delay of channel 2 has been set to 124 to compensate the time offset of the test signal.\n"
     ]
    }
   ],
   "source": [
    "tagger.setInputDelay(channel=2, delay=int(round(delay)))\n",
    "print(\"The input delay of channel 2 has been set to {:d} to compensate the time offset of the test signal.\".format(int(round(delay))))"
   ]
  },
  {
   "cell_type": "code",
   "execution_count": 122,
   "id": "69aca90f-c405-4271-9534-fbac45a225ea",
   "metadata": {
    "tags": []
   },
   "outputs": [
    {
     "name": "stdout",
     "output_type": "stream",
     "text": [
      "\n",
      "Acquire another 'Correlation' histogram between channels 1 and 2 for 5 seconds.\n"
     ]
    },
    {
     "data": {
      "text/plain": [
       "True"
      ]
     },
     "execution_count": 122,
     "metadata": {},
     "output_type": "execute_result"
    }
   ],
   "source": [
    "print(\"\\nAcquire another 'Correlation' histogram between channels 1 and 2 for 5 seconds.\")\n",
    "correlation.startFor(capture_duration=int(5E12))\n",
    "correlation.waitUntilFinished()"
   ]
  },
  {
   "cell_type": "code",
   "execution_count": 123,
   "id": "8a899e67-e175-4a38-a31b-509062588f25",
   "metadata": {
    "tags": []
   },
   "outputs": [
    {
     "name": "stdout",
     "output_type": "stream",
     "text": [
      "The new measured delay is 4.7 ps with an RMS of 43.6 ps.\n"
     ]
    }
   ],
   "source": [
    "delay, jitter_rms = get_delay_and_jitter(correlation.getIndex(), correlation.getData())\n",
    "print(\"The new measured delay is {:.1f} ps with an RMS of {:.1f} ps.\".format(delay, jitter_rms))"
   ]
  },
  {
   "cell_type": "code",
   "execution_count": 124,
   "id": "7c76637a-479b-4ab8-a75d-5f680ad3eb2a",
   "metadata": {
    "tags": []
   },
   "outputs": [
    {
     "data": {
      "text/plain": [
       "True"
      ]
     },
     "execution_count": 124,
     "metadata": {},
     "output_type": "execute_result"
    }
   ],
   "source": [
    "TimeTagger.freeTimeTagger(tagger)"
   ]
  }
 ],
 "metadata": {
  "kernelspec": {
   "display_name": "Python 3 (ipykernel)",
   "language": "python",
   "name": "python3"
  },
  "language_info": {
   "codemirror_mode": {
    "name": "ipython",
    "version": 3
   },
   "file_extension": ".py",
   "mimetype": "text/x-python",
   "name": "python",
   "nbconvert_exporter": "python",
   "pygments_lexer": "ipython3",
   "version": "3.11.5"
  }
 },
 "nbformat": 4,
 "nbformat_minor": 5
}
