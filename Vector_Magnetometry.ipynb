{
  "nbformat": 4,
  "nbformat_minor": 0,
  "metadata": {
    "colab": {
      "provenance": [],
      "authorship_tag": "ABX9TyMYEV6CJi67B9CtigI2e6pF",
      "include_colab_link": true
    },
    "kernelspec": {
      "name": "python3",
      "display_name": "Python 3"
    },
    "language_info": {
      "name": "python"
    }
  },
  "cells": [
    {
      "cell_type": "markdown",
      "metadata": {
        "id": "view-in-github",
        "colab_type": "text"
      },
      "source": [
        "<a href=\"https://colab.research.google.com/github/ghoshatanu857/Instrument_Automation/blob/main/Vector_Magnetometry.ipynb\" target=\"_parent\"><img src=\"https://colab.research.google.com/assets/colab-badge.svg\" alt=\"Open In Colab\"/></a>"
      ]
    },
    {
      "cell_type": "code",
      "source": [
        "import numpy as np\n",
        "from plotly.subplots import make_subplots\n",
        "from plotly import graph_objs as go\n",
        "import plotly.figure_factory as ff"
      ],
      "metadata": {
        "id": "4o2Mwl5B3RAx"
      },
      "execution_count": null,
      "outputs": []
    },
    {
      "cell_type": "code",
      "source": [
        "fig_template = go.layout.Template()\n",
        "fig_template.layout = {\n",
        "    'template': 'simple_white+presentation',\n",
        "    'autosize': False,\n",
        "    'width': 800,\n",
        "    'height': 600,\n",
        "    # 'opacity': 0.2,\n",
        "    'xaxis': {\n",
        "        'ticks': 'inside',\n",
        "        'mirror': 'ticks',\n",
        "        'linewidth': 1.5+0.5,\n",
        "        'tickwidth': 1.5+0.5,\n",
        "        'ticklen': 6,\n",
        "        'showline': True,\n",
        "        'showgrid': False,\n",
        "        'zerolinecolor': 'white',\n",
        "        },\n",
        "    'yaxis': {\n",
        "        'ticks': 'inside',\n",
        "        'mirror': 'ticks',\n",
        "        'linewidth': 1.5+0.5,\n",
        "        'tickwidth': 1.5+0.5,\n",
        "        'ticklen': 6,\n",
        "        'showline': True,\n",
        "        'showgrid': False,\n",
        "        'zerolinecolor': 'white'\n",
        "        },\n",
        "    'font':{'family':'mathjax',\n",
        "            'size': 22,\n",
        "            }\n",
        "}"
      ],
      "metadata": {
        "id": "M3o8rvblCNv_"
      },
      "execution_count": null,
      "outputs": []
    },
    {
      "cell_type": "code",
      "source": [
        "wire_radius = 25e-6; distance = 50e-6; wire_current = 10; mu_freeSpace = 4*np.pi*1e-7; chi = -2.2e-5\n",
        "outer_linear_density = 7; inner_linear_density = 7\n",
        "\n",
        "outer_points = np.linspace(wire_radius, distance, outer_linear_density); inner_points = np.linspace(0,wire_radius,inner_linear_density,endpoint=False)"
      ],
      "metadata": {
        "id": "6QkYGLXs6DXp"
      },
      "execution_count": null,
      "outputs": []
    },
    {
      "cell_type": "code",
      "source": [
        "x_linear_point = np.concatenate((-outer_points[::-1],-inner_points[::-1][:-1],inner_points,outer_points))\n",
        "y_linear_point = x_linear_point"
      ],
      "metadata": {
        "id": "W_mkUFhiHXXR"
      },
      "execution_count": null,
      "outputs": []
    },
    {
      "cell_type": "code",
      "source": [
        "x_linear_point"
      ],
      "metadata": {
        "id": "ofCOTPrdWrPT"
      },
      "execution_count": null,
      "outputs": []
    },
    {
      "cell_type": "code",
      "source": [
        "# Important Modfications for calculating phi from (x,y)\n",
        "(np.arctan(-1/-1)+np.pi)*180/np.pi,(2*np.pi+np.arctan(-1/1))*180/np.pi,(np.arctan(1/-1)+np.pi)*180/np.pi"
      ],
      "metadata": {
        "id": "vSxt4EsjK8zv"
      },
      "execution_count": null,
      "outputs": []
    },
    {
      "cell_type": "code",
      "source": [
        "def MagField(current,mu,chi,wire_radius,x,y):\n",
        "  field = np.ones((x.shape[0],y.shape[0]))\n",
        "  field_xy = np.ones((x.shape[0],y.shape[0],2))\n",
        "  quiver_xy = np.ones((x.shape[0],y.shape[0],2))\n",
        "  for i in range(x.shape[0]):\n",
        "    for j in range(y.shape[0]):\n",
        "      radius = np.sqrt(x[i]**2+y[j]**2)\n",
        "      if radius<=wire_radius:\n",
        "        field[i,j] = None\n",
        "        field_xy[i,j] = np.array([None,None])\n",
        "        quiver_xy[i,j] = np.array([x[i],y[j]])\n",
        "      else:\n",
        "        if x[i]==0:\n",
        "          angle = np.arctan(y[j]*np.inf)\n",
        "        # as shown above\n",
        "        elif x[i]<0 and y[j]<0:\n",
        "          angle = np.arctan(y[j]/x[i])+np.pi\n",
        "        elif x[i]>0 and y[j]<0:\n",
        "          angle = np.arctan(y[j]/x[i])+2*np.pi\n",
        "        elif x[i]<0 and y[j]>0:\n",
        "          angle = np.arctan(y[j]/x[i])+np.pi\n",
        "        elif x[i]>0 and y[j]>0:\n",
        "          angle = np.arctan(y[j]/x[i])\n",
        "\n",
        "        if y[j]<(-wire_radius):\n",
        "          mu_below = mu*(1+chi)\n",
        "          field[i,j] = (mu_below*current)/(2*np.pi*np.sqrt(x[i]**2+y[j]**2))\n",
        "          field_xy[i,j] = np.array([field[i,j]*np.cos(angle), field[i,j]*np.sin(angle)])\n",
        "          quiver_xy[i,j] = np.array([x[i],y[j]])\n",
        "        else:\n",
        "          field[i,j] = (mu*current)/(2*np.pi*np.sqrt(x[i]**2+y[j]**2))\n",
        "          field_xy[i,j] = np.array([field[i,j]*np.cos(angle), field[i,j]*np.sin(angle)])\n",
        "          quiver_xy[i,j] = np.array([x[i],y[j]])\n",
        "  return field,field_xy,quiver_xy"
      ],
      "metadata": {
        "id": "DvC_wq6OG3Ps"
      },
      "execution_count": null,
      "outputs": []
    },
    {
      "cell_type": "code",
      "source": [
        "mag_field,field_xy,quiver_xy = MagField(current=wire_current,mu=mu_freeSpace,chi=chi,wire_radius=wire_radius,x=x_linear_point,y=y_linear_point)"
      ],
      "metadata": {
        "id": "zT-bbLHbI1CT"
      },
      "execution_count": null,
      "outputs": []
    },
    {
      "cell_type": "code",
      "source": [
        "fig = go.Figure()\n",
        "# Heatmap\n",
        "fig.add_trace(go.Contour(x=x_linear_point,y=y_linear_point,z=mag_field,contours_coloring='heatmap',\n",
        "                                connectgaps = True,line_smoothing=1,colorbar=dict(title='Magnetic Field',titleside='right'),colorscale=None))\n",
        "fig.update_traces(line_width=0)\n",
        "\n",
        "# Quiver\n",
        "for i in range(1,quiver_xy.shape[0]-1,2):\n",
        "  x = quiver_xy[i,1:-1:2,0]; y = quiver_xy[i,1:-1:2,1]\n",
        "  u = -field_xy[i,1:-1:2,1]; v = field_xy[i,1:-1:2,0]\n",
        "  quiver_trace = ff.create_quiver(x, y, u, v, scale=0.00006, arrow_scale=0.5, scaleratio=1.0, angle=np.pi/9, line=dict(width=1.2, color='black')).data[0]\n",
        "  fig.add_trace(quiver_trace)\n",
        "\n",
        "# Inner Circle\n",
        "fig.add_trace(go.Scatter(x=wire_radius*np.cos(np.linspace(0,2*np.pi,1000)), y=wire_radius*np.sin(np.linspace(0,2*np.pi,1000)),\n",
        "                         mode='lines', line=dict(color='yellow', width=0.7),fill = 'tonexty',fillcolor = 'rgba(127, 0, 255, 0.4)'))\n",
        "\n",
        "# Outer Circles\n",
        "[fig.add_trace(go.Scatter(x=radius*np.cos(np.linspace(0,2*np.pi,1000)), y=radius*np.sin(np.linspace(0,2*np.pi,1000)),\n",
        "                         mode='lines', line=dict(color='yellow', width=0.7))) for radius in np.linspace(wire_radius,distance,outer_linear_density)]\n",
        "\n",
        "# Other Ornamentations\n",
        "fig.add_trace(go.Scatter(x=[0], y=[0], mode='markers', marker_size=15, marker=dict(color='yellow')))\n",
        "fig.add_trace(go.Scatter(x=x_linear_point, y=-wire_radius*np.ones(x_linear_point.shape[0]), mode='lines', marker=dict(color='yellow'),fill=None))\n",
        "fig.add_trace(go.Scatter(x=x_linear_point, y=-y_linear_point[-1]*np.ones(x_linear_point.shape[0]), mode='lines', marker=dict(color='grey'),\n",
        "                         fill='tonexty',fillcolor = 'rgba(255, 255, 255, 0.5)'))\n",
        "\n",
        "fig.update_layout(template=fig_template, title = None,width=800, height=700)\n",
        "fig.update_xaxes(title = 'Distance',range = [x_linear_point[0],x_linear_point[-1]])\n",
        "fig.update_yaxes(title = 'Distance', range = [y_linear_point[0],y_linear_point[-1]])\n",
        "fig.update_layout(showlegend=False)\n",
        "\n",
        "fig.show()"
      ],
      "metadata": {
        "id": "zCvDieAAJNq_"
      },
      "execution_count": null,
      "outputs": []
    },
    {
      "cell_type": "code",
      "source": [],
      "metadata": {
        "id": "2k-dZ6M8P6Y4"
      },
      "execution_count": null,
      "outputs": []
    }
  ]
}