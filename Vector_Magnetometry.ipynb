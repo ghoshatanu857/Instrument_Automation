{
 "cells": [
  {
   "cell_type": "markdown",
   "metadata": {
    "colab_type": "text",
    "id": "view-in-github"
   },
   "source": [
    "<a href=\"https://colab.research.google.com/github/ghoshatanu857/Instrument_Automation/blob/main/Vector_Magnetometry.ipynb\" target=\"_parent\"><img src=\"https://colab.research.google.com/assets/colab-badge.svg\" alt=\"Open In Colab\"/></a>"
   ]
  },
  {
   "cell_type": "code",
   "execution_count": null,
   "metadata": {
    "id": "4o2Mwl5B3RAx"
   },
   "outputs": [],
   "source": [
    "import numpy as np\n",
    "from plotly.subplots import make_subplots\n",
    "from plotly import graph_objs as go\n",
    "import plotly.figure_factory as ff"
   ]
  },
  {
   "cell_type": "code",
   "execution_count": null,
   "metadata": {
    "id": "M3o8rvblCNv_"
   },
   "outputs": [],
   "source": [
    "fig_template = go.layout.Template()\n",
    "fig_template.layout = {\n",
    "    'template': 'simple_white+presentation',\n",
    "    'autosize': False,\n",
    "    'width': 800,\n",
    "    'height': 600,\n",
    "    # 'opacity': 0.2,\n",
    "    'xaxis': {\n",
    "        'ticks': 'inside',\n",
    "        'mirror': 'ticks',\n",
    "        'linewidth': 1.5+0.5,\n",
    "        'tickwidth': 1.5+0.5,\n",
    "        'ticklen': 6,\n",
    "        'showline': True,\n",
    "        'showgrid': False,\n",
    "        'zerolinecolor': 'white',\n",
    "        },\n",
    "    'yaxis': {\n",
    "        'ticks': 'inside',\n",
    "        'mirror': 'ticks',\n",
    "        'linewidth': 1.5+0.5,\n",
    "        'tickwidth': 1.5+0.5,\n",
    "        'ticklen': 6,\n",
    "        'showline': True,\n",
    "        'showgrid': False,\n",
    "        'zerolinecolor': 'white'\n",
    "        },\n",
    "    'font':{'family':'mathjax',\n",
    "            'size': 22,\n",
    "            }\n",
    "}"
   ]
  },
  {
   "cell_type": "code",
   "execution_count": null,
   "metadata": {
    "id": "6QkYGLXs6DXp"
   },
   "outputs": [],
   "source": [
    "wire_radius = 25e-6; distance = 50e-6; wire_current = 10; mu_freeSpace = 4*np.pi*1e-7; chi = -2.2e-5\n",
    "outer_linear_density = 5; inner_linear_density = 5; point_separation = 2e-6\n",
    "\n",
    "# outer_points = np.linspace(wire_radius, distance, outer_linear_density); inner_points = np.linspace(0,wire_radius,inner_linear_density,endpoint=False)\n",
    "outer_points = np.arange(wire_radius, distance, point_separation); inner_points = np.arange(0,wire_radius,point_separation)"
   ]
  },
  {
   "cell_type": "code",
   "execution_count": null,
   "metadata": {
    "id": "7GumZtJPDJg9"
   },
   "outputs": [],
   "source": [
    "# Customizing the number of points for a cirle\n",
    "init_angle = 0; final_angle = 2*np.pi; point_distance = np.pi/4.0\n",
    "init_circle_points = 1; point_increament = 2\n",
    "\n",
    "# about_angle = np.array([init_angle,final_angle,point_distance])\n",
    "about_angle_1 = np.array([init_angle,final_angle,init_circle_points,point_increament])"
   ]
  },
  {
   "cell_type": "code",
   "execution_count": null,
   "metadata": {
    "id": "W_mkUFhiHXXR"
   },
   "outputs": [],
   "source": [
    "x_linear_point = np.unique(np.concatenate((-outer_points[::-1],-inner_points[::-1][:-1],inner_points,outer_points)))\n",
    "y_linear_point = x_linear_point"
   ]
  },
  {
   "cell_type": "code",
   "execution_count": null,
   "metadata": {
    "colab": {
     "base_uri": "https://localhost:8080/"
    },
    "id": "vSxt4EsjK8zv",
    "outputId": "224a136e-78b0-49bc-c98e-3b8b0f0344c8"
   },
   "outputs": [],
   "source": [
    "# Important Modfications for calculating phi from (x,y)\n",
    "(np.arctan(-1/-1)+np.pi)*180/np.pi,(2*np.pi+np.arctan(-1/1))*180/np.pi,(np.arctan(1/-1)+np.pi)*180/np.pi"
   ]
  },
  {
   "cell_type": "code",
   "execution_count": null,
   "metadata": {},
   "outputs": [],
   "source": [
    "def xy_phi(x,y):\n",
    "    if x==0.0:\n",
    "      angle = np.arctan(y*np.inf)\n",
    "    # as shown above\n",
    "    elif x<0 and y<0:\n",
    "      angle = np.arctan(y/x)+np.pi\n",
    "    elif x>0 and y<0:\n",
    "      angle = np.arctan(y/x)+2*np.pi\n",
    "    elif x<0 and y>0:\n",
    "      angle = np.arctan(y/x)+np.pi\n",
    "    else:\n",
    "      angle = np.arctan(y/x)\n",
    "    return angle "
   ]
  },
  {
   "cell_type": "code",
   "execution_count": null,
   "metadata": {
    "id": "0JdUEbz1UJMu"
   },
   "outputs": [],
   "source": [
    "def circular_grid(x,wire_radius,about_angle):\n",
    "  radius  = x[np.where(x>=0)[0]]\n",
    "  # init,final,separation = about_angle\n",
    "  init,final,init_p,incre = about_angle\n",
    "  xy_circle_grid = []\n",
    "  for i in range(radius.shape[0]):\n",
    "    angles = np.linspace(init,final,int(init_p),endpoint=False)\n",
    "    init_p += incre\n",
    "    # if radius[i]==0:\n",
    "    #     angles = [0] \n",
    "    # else:\n",
    "    #     angles = np.arange(init,final,(wire_radius/radius[i])*separation)\n",
    "    xy_circle_grid.append(np.array([radius[i]*np.cos(angles),radius[i]*np.sin(angles)]))\n",
    "  return xy_circle_grid"
   ]
  },
  {
   "cell_type": "code",
   "execution_count": null,
   "metadata": {
    "id": "2EwSc-GTG7hx"
   },
   "outputs": [],
   "source": [
    "def MagField(current,mu,chi,wire_radius,x,y):\n",
    "  field = np.ones((x.shape[0],y.shape[0]))\n",
    "  for i in range(x.shape[0]):\n",
    "    for j in range(y.shape[0]):\n",
    "      radius = np.sqrt(x[i]**2+y[j]**2)\n",
    "      if radius<=wire_radius:\n",
    "        field[i,j] = None\n",
    "      else:\n",
    "        angle=xy_phi(x[i],y[j])\n",
    "        if y[j]<(-wire_radius):\n",
    "          mu_below = mu*(1+chi)\n",
    "          field[i,j] = (mu_below*current)/(2*np.pi*np.sqrt(x[i]**2+y[j]**2))\n",
    "        else:\n",
    "          field[i,j] = (mu*current)/(2*np.pi*np.sqrt(x[i]**2+y[j]**2))\n",
    "  return field"
   ]
  },
  {
   "cell_type": "code",
   "execution_count": null,
   "metadata": {
    "colab": {
     "base_uri": "https://localhost:8080/",
     "height": 717
    },
    "id": "mR1RbRNOG_Q4",
    "outputId": "781b6886-169c-4976-e238-abe263714ee3"
   },
   "outputs": [],
   "source": [
    "def Quiver_MagField(current,mu,chi,wire_radius,x_linear,about_angle):\n",
    "  circular_field_xy = []; circular_quiver_xy = []; circular_field = []\n",
    "  xy_points = circular_grid(x_linear,wire_radius,about_angle)\n",
    "  for i in range(len(xy_points)):\n",
    "    x = xy_points[i][0,:]; y = xy_points[i][1,:]\n",
    "    _field_xy = []; _quiver_xy = []; _field = []\n",
    "    for i in range(x.shape[0]):\n",
    "      j=i\n",
    "      radius = np.sqrt(x[i]**2+y[j]**2)\n",
    "      if radius<=wire_radius:\n",
    "        field = None\n",
    "        field_xy = np.array([None,None])\n",
    "        quiver_xy = np.array([x[i],y[j]])\n",
    "        _field_xy.append(field_xy); _quiver_xy.append(quiver_xy); _field.append(field)\n",
    "      else:\n",
    "        angle=xy_phi(x[i],y[j])\n",
    "        if y[j]<(-wire_radius):\n",
    "          mu_below = mu*(1+chi)\n",
    "          field = (mu_below*current)/(2*np.pi*np.sqrt(x[i]**2+y[j]**2))\n",
    "          field_xy = np.array([field*np.cos(angle), field*np.sin(angle)])\n",
    "          quiver_xy = np.array([x[i],y[j]])\n",
    "          _field_xy.append(field_xy); _quiver_xy.append(quiver_xy); _field.append(field)\n",
    "        else:\n",
    "          field = (mu*current)/(2*np.pi*np.sqrt(x[i]**2+y[j]**2))\n",
    "          field_xy = np.array([field*np.cos(angle), field*np.sin(angle)])\n",
    "          quiver_xy = np.array([x[i],y[j]])\n",
    "          _field_xy.append(field_xy); _quiver_xy.append(quiver_xy); _field.append(field)\n",
    "    circular_field_xy.append(_field_xy); circular_quiver_xy.append(_quiver_xy); circular_field.append(_field)\n",
    "  return circular_field,circular_field_xy,circular_quiver_xy"
   ]
  },
  {
   "cell_type": "code",
   "execution_count": null,
   "metadata": {
    "id": "DvC_wq6OG3Ps"
   },
   "outputs": [],
   "source": [
    "# circular_field,field_xy,quiver_xy = Quiver_MagField(current=wire_current,mu=mu_freeSpace,chi=chi,wire_radius=wire_radius,x_linear=x_linear_point,about_angle=about_angle)\n",
    "circular_field,field_xy,quiver_xy = Quiver_MagField(current=wire_current,mu=mu_freeSpace,chi=chi,wire_radius=wire_radius,x_linear=x_linear_point,about_angle=about_angle_1)\n",
    "mag_field = MagField(current=wire_current,mu=mu_freeSpace,chi=chi,wire_radius=wire_radius,x=x_linear_point,y=y_linear_point)"
   ]
  },
  {
   "cell_type": "code",
   "execution_count": null,
   "metadata": {
    "colab": {
     "base_uri": "https://localhost:8080/"
    },
    "id": "zT-bbLHbI1CT",
    "outputId": "b146261c-f4e7-4f7b-ae63-dd24c154e03c"
   },
   "outputs": [],
   "source": [
    "fig = go.Figure()\n",
    "# Heatmap\n",
    "fig.add_trace(go.Contour(x=x_linear_point,y=y_linear_point,z=mag_field,contours_coloring='heatmap',\n",
    "                                connectgaps = True,line_smoothing=1,colorbar=dict(title='Magnetic Field',titleside='right'),colorscale=None))\n",
    "fig.update_traces(line_width=0)\n",
    "\n",
    "# Quiver\n",
    "for i in range(0,len(quiver_xy),2):\n",
    "    for j in range(len(quiver_xy[i])):\n",
    "        x = quiver_xy[i][j][0]; y = quiver_xy[i][j][1]\n",
    "        radius = np.sqrt(x**2+y**2)\n",
    "        if np.round(radius,8)>wire_radius:\n",
    "            # print(i,j,radius)\n",
    "            _x = [x]; _y = [y]\n",
    "            u = [-field_xy[i][j][1]]; v =[ field_xy[i][j][0]]\n",
    "            quiver_trace = ff.create_quiver(_x, _y, u, v, scale=0.00006, arrow_scale=0.5, scaleratio=1.0, angle=np.pi/9, line=dict(width=1.2, color='black')).data[0]\n",
    "            fig.add_trace(quiver_trace)\n",
    "\n",
    "# Inner Circle\n",
    "fig.add_trace(go.Scatter(x=wire_radius*np.cos(np.linspace(0,2*np.pi,1000,endpoint=False)), y=wire_radius*np.sin(np.linspace(0,2*np.pi,1000,endpoint=False)),\n",
    "                         mode='lines', line=dict(color='yellow', width=0.7),fill = 'tozeroy',fillcolor = 'rgba(127, 0, 255, 0.4)'))\n",
    "\n",
    "# # Outer Circles\n",
    "# [fig.add_trace(go.Scatter(x=radius*np.cos(np.linspace(0,2*np.pi,1000)), y=radius*np.sin(np.linspace(0,2*np.pi,1000)),\n",
    "#                          mode='lines', line=dict(color='yellow', width=0.7))) for radius in outer_points]\n",
    "\n",
    "# Other Ornamentations\n",
    "fig.add_trace(go.Scatter(x=[0], y=[0], mode='markers', marker_size=15, marker=dict(color='yellow')))\n",
    "fig.add_trace(go.Scatter(x=x_linear_point, y=-wire_radius*np.ones(x_linear_point.shape[0]), mode='lines', marker=dict(color='yellow'),fill=None))\n",
    "fig.add_trace(go.Scatter(x=x_linear_point, y=-y_linear_point[-1]*np.ones(x_linear_point.shape[0]), mode='lines', marker=dict(color='grey'),\n",
    "                         fill='tonexty',fillcolor = 'rgba(255, 255, 255, 0.5)'))\n",
    "\n",
    "fig.update_layout(template=fig_template, title = None,width=800, height=700)\n",
    "fig.update_xaxes(title = 'Distance',range = [x_linear_point[0],x_linear_point[-1]])\n",
    "fig.update_yaxes(title = 'Distance', range = [y_linear_point[0],y_linear_point[-1]])\n",
    "fig.update_layout(showlegend=False)\n",
    "fig.show()"
   ]
  }
 ],
 "metadata": {
  "colab": {
   "authorship_tag": "ABX9TyO09QCcC0LawSiHPZnTDGaG",
   "include_colab_link": true,
   "provenance": []
  },
  "kernelspec": {
   "display_name": "Python 3 (ipykernel)",
   "language": "python",
   "name": "python3"
  },
  "language_info": {
   "codemirror_mode": {
    "name": "ipython",
    "version": 3
   },
   "file_extension": ".py",
   "mimetype": "text/x-python",
   "name": "python",
   "nbconvert_exporter": "python",
   "pygments_lexer": "ipython3",
   "version": "3.11.5"
  }
 },
 "nbformat": 4,
 "nbformat_minor": 4
}
