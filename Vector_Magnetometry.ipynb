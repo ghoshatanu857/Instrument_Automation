{
  "nbformat": 4,
  "nbformat_minor": 0,
  "metadata": {
    "colab": {
      "provenance": [],
      "authorship_tag": "ABX9TyMu+fysnaUHG7h2Mw887Qpu",
      "include_colab_link": true
    },
    "kernelspec": {
      "name": "python3",
      "display_name": "Python 3"
    },
    "language_info": {
      "name": "python"
    }
  },
  "cells": [
    {
      "cell_type": "markdown",
      "metadata": {
        "id": "view-in-github",
        "colab_type": "text"
      },
      "source": [
        "<a href=\"https://colab.research.google.com/github/ghoshatanu857/Instrument_Automation/blob/main/Vector_Magnetometry.ipynb\" target=\"_parent\"><img src=\"https://colab.research.google.com/assets/colab-badge.svg\" alt=\"Open In Colab\"/></a>"
      ]
    },
    {
      "cell_type": "code",
      "source": [
        "import numpy as np\n",
        "from plotly.subplots import make_subplots\n",
        "from plotly import graph_objs as go\n",
        "import plotly.figure_factory as ff"
      ],
      "metadata": {
        "id": "4o2Mwl5B3RAx"
      },
      "execution_count": null,
      "outputs": []
    },
    {
      "cell_type": "code",
      "source": [
        "fig_template = go.layout.Template()\n",
        "fig_template.layout = {\n",
        "    'template': 'simple_white+presentation',\n",
        "    'autosize': False,\n",
        "    'width': 800,\n",
        "    'height': 600,\n",
        "    # 'opacity': 0.2,\n",
        "    'xaxis': {\n",
        "        'ticks': 'inside',\n",
        "        'mirror': 'ticks',\n",
        "        'linewidth': 1.5+0.5,\n",
        "        'tickwidth': 1.5+0.5,\n",
        "        'ticklen': 6,\n",
        "        'showline': True,\n",
        "        'showgrid': False,\n",
        "        'zerolinecolor': 'white',\n",
        "        },\n",
        "    'yaxis': {\n",
        "        'ticks': 'inside',\n",
        "        'mirror': 'ticks',\n",
        "        'linewidth': 1.5+0.5,\n",
        "        'tickwidth': 1.5+0.5,\n",
        "        'ticklen': 6,\n",
        "        'showline': True,\n",
        "        'showgrid': False,\n",
        "        'zerolinecolor': 'white'\n",
        "        },\n",
        "    'font':{'family':'mathjax',\n",
        "            'size': 22,\n",
        "            }\n",
        "}"
      ],
      "metadata": {
        "id": "M3o8rvblCNv_"
      },
      "execution_count": null,
      "outputs": []
    },
    {
      "cell_type": "code",
      "source": [
        "def magField(current,distance,xy_points,mu):\n",
        "  if type(xy_points)!=np.ndarray:\n",
        "    field = (mu*current)/(2*np.pi*distance)\n",
        "  else:\n",
        "    field = np.ones((xy_points.shape[1],xy_points.shape[2]))\n",
        "    field_above=[]; field_below=[]; coordinate_below =[]; coordinate_above =[]\n",
        "\n",
        "    for i in range(xy_points.shape[1]):\n",
        "      for j in range(xy_points.shape[2]):\n",
        "        x=xy_points[:,i,j]\n",
        "        if (x[0]==0 and x[1]==0):\n",
        "          field[i,j] = None\n",
        "        else:\n",
        "          if x[1]<0:\n",
        "            mu_below = mu*(1-(2.2e-5))\n",
        "            field[i,j] = (mu_below*current)/(2*np.pi*np.sqrt(x[0]**2+x[1]**2))\n",
        "            field_below.append(field[i,j])\n",
        "            coordinate_below.append(x)\n",
        "          elif x[1]>=0:\n",
        "            field[i,j] = (mu*current)/(2*np.pi*np.sqrt(x[0]**2+x[1]**2))\n",
        "            field_above.append(field[i,j])\n",
        "            coordinate_above.append(x)\n",
        "\n",
        "    print(f' Coordinate Below : {coordinate_below[-xy_points.shape[1]:]}')\n",
        "    print(f' Field Below : {field_below[-xy_points.shape[1]:]}')\n",
        "    print(f' Coordinate Above 0 : {coordinate_above[xy_points.shape[1]-1:2*xy_points.shape[1]-1]}')\n",
        "    print(f' Field Above 0 : {field_above[xy_points.shape[1]:2*xy_points.shape[1]]}')\n",
        "    print(f'\\n Field Comparison for coordinates between (-y and 0) : \\n{np.array(field_below[-xy_points.shape[1]:])<np.array(field_above[0:xy_points.shape[1]])}')\n",
        "    print(f'Field Comparison for coordinates between (-y and y) : \\n{np.array(field_below[-xy_points.shape[1]:])<np.array(field_above[xy_points.shape[1]-1:2*xy_points.shape[1]-1])}')\n",
        "  return field"
      ],
      "metadata": {
        "id": "1nmljLEk8vu6"
      },
      "execution_count": null,
      "outputs": []
    },
    {
      "cell_type": "code",
      "source": [
        "def circle(circle_points,line_points,mu):\n",
        "\n",
        "  x_array=[]; y_array=[]\n",
        "  for i,(points, _points) in enumerate(zip(line_points,circle_points)):\n",
        "    x_array_points = []; y_array_points = []\n",
        "    array_points = np.array(_points)\n",
        "    below_pi = array_points[np.where((array_points<=np.pi))[0]]\n",
        "    above_pi = array_points[np.where((array_points>np.pi))[0]]\n",
        "    if mu==None:\n",
        "      # print('It is for Coordinate.')\n",
        "      x_array_points.append(np.concatenate((points*np.cos(below_pi),points*np.cos(above_pi))))\n",
        "      y_array_points.append(np.concatenate((points*np.sin(below_pi),points*np.sin(above_pi))))\n",
        "    else:\n",
        "      mu_below = mu*(1-(2.2e-5))\n",
        "      # print('It is for Magnetic field.')\n",
        "      x_array_points.append(np.concatenate((points*np.cos(below_pi),points*(mu_below/mu)*np.cos(above_pi))))\n",
        "      y_array_points.append(np.concatenate((points*np.sin(below_pi),points*(mu_below/mu)*np.sin(above_pi))))\n",
        "\n",
        "      # if ((points*np.sin(below_pi))[0]>(points*(mu_below/mu)*np.sin(above_pi))[-1])==False:\n",
        "      #   print((points*np.sin(below_pi))[0],(points*(mu_below/mu)*np.sin(above_pi))[-1])\n",
        "      print(f' Left Edge : {(points*np.sin(below_pi))[-1]>(points*(mu_below/mu)*np.sin(above_pi))[0]}\\t \\\n",
        "      Right Edge : {(points*np.sin(below_pi))[0]>(points*(mu_below/mu)*np.sin(above_pi))[-1]}')\n",
        "    x_array.append(x_array_points); y_array.append(y_array_points)\n",
        "  return x_array, y_array"
      ],
      "metadata": {
        "id": "kwQCMzkAR0cF"
      },
      "execution_count": null,
      "outputs": []
    },
    {
      "cell_type": "code",
      "source": [
        "wire_radius = 25e-6; distance = 50e-6; wire_current = 10; mu_freeSpace = 4*np.pi*1e-7\n",
        "linear_density = 50; init_angle = 0; final_angle = 2*np.pi\n",
        "min_circular_density = 10; point_addition = 1\n",
        "\n",
        "linear_points = np.linspace(wire_radius, distance, linear_density); inside_points = np.zeros((1))\n",
        "total_distance = np.concatenate((inside_points,linear_points))\n",
        "\n",
        "circular_points=[]; circular_angles=[]\n",
        "[circular_points.append(int(min_circular_density + circular_density*point_addition)) for circular_density in range(total_distance.shape[0])]\n",
        "circular_points = np.array(circular_points)\n",
        "if np.all(circular_points)==False:\n",
        "  raise Exception('Check the values of circular_points')\n",
        "circular_angles = [np.linspace(init_angle, final_angle, _points, endpoint=False) for _points in circular_points]\n",
        "\n",
        "mag_field = magField(current=wire_current, xy_points=False,distance=linear_points,mu=mu_freeSpace)\n",
        "x_points, y_points = circle(mu=None,circle_points=circular_angles,line_points=total_distance)"
      ],
      "metadata": {
        "id": "6QkYGLXs6DXp"
      },
      "execution_count": null,
      "outputs": []
    },
    {
      "cell_type": "code",
      "source": [
        "Bnew = magField(current=wire_current,xy_points=False, distance=total_distance,mu=mu_freeSpace)\n",
        "Bnew[np.where(np.isinf(Bnew))[0]]=0\n",
        "B_x,B_y = circle(circular_angles,mu=mu_freeSpace,line_points=Bnew)"
      ],
      "metadata": {
        "id": "wI7sboGxuANX"
      },
      "execution_count": null,
      "outputs": []
    },
    {
      "cell_type": "code",
      "source": [
        "x_linear_point = np.concatenate((-linear_points[::-1],inside_points,linear_points))\n",
        "y_linear_point = x_linear_point\n",
        "\n",
        "X, Y = np.meshgrid(x_linear_point, y_linear_point)\n",
        "# r=np.sqrt(X**2+Y**2)\n",
        "\n",
        "B = magField(current=wire_current, distance=None, mu= mu_freeSpace,xy_points=np.array([X,Y]))\n",
        "# B = magField(current=wire_current, distance=r, mu= mu_freeSpace,xy_points=False)\n",
        "# B = (mu_freeSpace*wire_current)/(2*np.pi*r)"
      ],
      "metadata": {
        "id": "73TtLNn9m3EF"
      },
      "execution_count": null,
      "outputs": []
    },
    {
      "cell_type": "code",
      "source": [
        "x_points[1][0]"
      ],
      "metadata": {
        "id": "viVE5-YV_z_x"
      },
      "execution_count": null,
      "outputs": []
    },
    {
      "cell_type": "code",
      "source": [
        "fig = go.Figure()\n",
        "fig.add_trace(go.Contour(x=x_linear_point,y=y_linear_point+wire_radius,z=B,contours_coloring='heatmap',\n",
        "                                connectgaps = True,line_smoothing=1,colorbar=dict(title='Magnetic Field',titleside='right'),colorscale=None))\n",
        "fig.update_traces(line_width=0)\n",
        "fig.add_trace(go.Scatter(x=wire_radius*np.cos(np.linspace(0,2*np.pi,1000)), y=wire_radius + wire_radius*np.sin(np.linspace(0,2*np.pi,1000)),\n",
        "                         mode='lines', line=dict(color='yellow', width=0.7),fill = 'tonexty',fillcolor = 'rgba(127, 0, 255, 0.5)'))\n",
        "\n",
        "for radi in range(0,total_distance.shape[0],10):\n",
        "    x = x_points[radi][0]; y = y_points[radi][0] + wire_radius\n",
        "    u = -B_y[radi][0]; v = B_x[radi][0]\n",
        "    fig1 = ff.create_quiver(x, y, u, v, scale=0.0001, arrow_scale=0.5, scaleratio=1.0, angle=np.pi/9, line=dict(width=1.2, color='black'))\n",
        "    fig.add_traces(data=fig1.data)\n",
        "\n",
        "fig.add_trace(go.Scatter(x=[0], y=[wire_radius], mode='markers', marker_size=15, marker=dict(color='yellow')))\n",
        "fig.add_trace(go.Scatter(x=x_linear_point, y=0*np.ones(x_linear_point.shape[0]), mode='lines', marker=dict(color='yellow'),fill=None))\n",
        "fig.add_trace(go.Scatter(x=x_linear_point, y=(-distance+wire_radius)*np.ones(x_linear_point.shape[0]), mode='lines', marker=dict(color='grey'),\n",
        "                         fill='tonexty',fillcolor = 'rgba(255, 255, 255, 0.5)'))\n",
        "\n",
        "fig.update_layout(showlegend=False)\n",
        "fig.update_layout(template=fig_template, title = None,width=800, height=700)\n",
        "fig.update_xaxes(title = 'Distance',range = [-distance,distance]); fig.update_yaxes(title = 'Distance', range = np.array([-distance,distance])+wire_radius)\n",
        "# fig.write_html('MagField_RadDistance.html')\n",
        "fig.show()"
      ],
      "metadata": {
        "id": "vAJNR9Kr47Zr"
      },
      "execution_count": null,
      "outputs": []
    },
    {
      "cell_type": "code",
      "source": [],
      "metadata": {
        "id": "j9zuGDovMGb5"
      },
      "execution_count": null,
      "outputs": []
    }
  ]
}