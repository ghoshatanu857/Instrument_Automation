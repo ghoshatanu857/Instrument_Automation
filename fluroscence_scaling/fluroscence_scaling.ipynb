{
 "cells": [
  {
   "cell_type": "code",
   "execution_count": 1,
   "id": "236a9a0d-1230-4443-a929-4dcf095c96fe",
   "metadata": {},
   "outputs": [],
   "source": [
    "import numpy as np\n",
    "import os"
   ]
  },
  {
   "cell_type": "markdown",
   "id": "6f4cba6e-0cc9-4c25-830c-26083f90b6c8",
   "metadata": {},
   "source": [
    "1. background substracted PL of 5micron UCP\n",
    "2. 975_power : 300mW(source)\n",
    "3. averages : 10\n",
    "4. exposure time : 1000ms\n",
    "5. maximum is set by equal max intensity of green and red, so that we can take this z_plane as the reference z_plane for doing x and y measurement"
   ]
  },
  {
   "cell_type": "code",
   "execution_count": null,
   "id": "605de28c-88f7-4e7f-a92b-ea5cd79f39dd",
   "metadata": {},
   "outputs": [],
   "source": [
    "X_position = np.array([])\n",
    "x_green_ = np.array([])\n",
    "x_red_655 = np.array([])\n",
    "x_blue = np.array([])"
   ]
  }
 ],
 "metadata": {
  "kernelspec": {
   "display_name": "Python 3 (ipykernel)",
   "language": "python",
   "name": "python3"
  },
  "language_info": {
   "codemirror_mode": {
    "name": "ipython",
    "version": 3
   },
   "file_extension": ".py",
   "mimetype": "text/x-python",
   "name": "python",
   "nbconvert_exporter": "python",
   "pygments_lexer": "ipython3",
   "version": "3.11.5"
  }
 },
 "nbformat": 4,
 "nbformat_minor": 5
}
